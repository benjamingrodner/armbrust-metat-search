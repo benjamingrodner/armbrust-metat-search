{
 "cells": [
  {
   "cell_type": "markdown",
   "metadata": {},
   "source": [
    "# Work out how to deal with taxonomy\n",
    "\n",
    "Given contigs with taxonomy and KOs of interest, wth"
   ]
  },
  {
   "cell_type": "markdown",
   "metadata": {},
   "source": [
    "## Setup"
   ]
  },
  {
   "cell_type": "code",
   "execution_count": 1,
   "metadata": {},
   "outputs": [],
   "source": [
    "import os \n",
    "import re\n",
    "import glob\n",
    "import math\n",
    "import json\n",
    "import itertools\n",
    "import numpy as np\n",
    "import xarray as xr\n",
    "import pandas as pd\n",
    "import seaborn as sns\n",
    "from time import time\n",
    "from tqdm import tqdm\n",
    "from scipy import stats\n",
    "import matplotlib as mpl\n",
    "from collections import * \n",
    "from functools import reduce\n",
    "import matplotlib.font_manager\n",
    "import matplotlib.pyplot as plt\n",
    "import matplotlib.colors as pltc\n",
    "from scipy.spatial import distance\n",
    "from scipy.cluster import hierarchy\n",
    "from matplotlib.lines import Line2D\n",
    "import matplotlib.patches as mpatches\n",
    "\n"
   ]
  },
  {
   "cell_type": "code",
   "execution_count": 4,
   "metadata": {},
   "outputs": [],
   "source": [
    "# rpy2 imports\n",
    "import rpy2\n",
    "from rpy2 import robjects as ro\n",
    "from rpy2.robjects import pandas2ri\n",
    "# from rpy2.ipython.ggplot import image_png\n",
    "from rpy2.robjects.packages import importr\n",
    "\n",
    "# load rpy2 extension for ipython\n",
    "pandas2ri.activate()\n",
    "%load_ext rpy2.ipython"
   ]
  },
  {
   "cell_type": "code",
   "execution_count": 5,
   "metadata": {},
   "outputs": [
    {
     "name": "stdout",
     "output_type": "stream",
     "text": [
      "Please install glmGamPoi: https://github.com/const-ae/glmGamPoi\n",
      "0.4.1\n"
     ]
    }
   ],
   "source": [
    "# install & import r package sctransform\n",
    "\n",
    "# check if sctransform is installed\n",
    "if not ro.packages.isinstalled('sctransform'):\n",
    "    # select CRAN mirror\n",
    "    utils = importr('utils')\n",
    "    utils.chooseCRANmirror(ind=1)\n",
    "    # install sctransform\n",
    "    utils.install_packages(ro.vectors.StrVector(['sctransform']))\n",
    "    \n",
    "# check if glmGamPoi is installed\n",
    "if not ro.packages.isinstalled('glmGamPoi'):\n",
    "    print('Please install glmGamPoi: https://github.com/const-ae/glmGamPoi')\n",
    "\n",
    "# import sctransform\n",
    "sctransform = importr('sctransform')\n",
    "rmatrix = importr('Matrix')\n",
    "\n",
    "# should be version 0.4.1                          \n",
    "print(sctransform.__version__)"
   ]
  },
  {
   "cell_type": "code",
   "execution_count": null,
   "metadata": {},
   "outputs": [],
   "source": []
  },
  {
   "cell_type": "code",
   "execution_count": 6,
   "metadata": {},
   "outputs": [
    {
     "data": {
      "text/plain": [
       "'/scratch/bgrodner/repo-barnacle-manuscript/containers'"
      ]
     },
     "execution_count": 6,
     "metadata": {},
     "output_type": "execute_result"
    }
   ],
   "source": [
    "os.getcwd()"
   ]
  },
  {
   "cell_type": "code",
   "execution_count": 7,
   "metadata": {},
   "outputs": [],
   "source": [
    "workdir = '/scratch/bgrodner/iron_ko_contigs'\n",
    "os.chdir(workdir)\n"
   ]
  },
  {
   "cell_type": "code",
   "execution_count": 8,
   "metadata": {},
   "outputs": [
    {
     "data": {
      "text/plain": [
       "'/scratch/bgrodner/iron_ko_contigs'"
      ]
     },
     "execution_count": 8,
     "metadata": {},
     "output_type": "execute_result"
    }
   ],
   "source": [
    "os.getcwd()"
   ]
  },
  {
   "cell_type": "code",
   "execution_count": null,
   "metadata": {},
   "outputs": [
    {
     "data": {
      "text/plain": [
       "['config.yaml',\n",
       " 'sc_run_snakemake.sh',\n",
       " '._.DS_Store',\n",
       " 'file_table.240107.kofam_filt.csv',\n",
       " 'file_table.240109.kofam_filt.csv',\n",
       " 'file_table_new.csv',\n",
       " '._file_table.240109.kofam_filt.csv',\n",
       " 'file_table.test.csv',\n",
       " '._file_table.240107.kofam_filt.csv',\n",
       " 'ko00001.json',\n",
       " '._file_table_new.csv',\n",
       " 'file_table.240114.kofam_filt.csv',\n",
       " 'metat_search_results',\n",
       " '._file_table.csv',\n",
       " 'file_table.240113.kofam_filt.csv',\n",
       " 'file_table.240107.kofam_unfilt.csv',\n",
       " '._file_table.240108.kofam_filt.csv',\n",
       " 'kofam_filenames.txt',\n",
       " '.etetoolkit',\n",
       " 'iron_contigs.txt',\n",
       " '.DS_Store',\n",
       " 'iron_KOs.txt',\n",
       " 'file_table.240108.kofam_filt.csv',\n",
       " 'file_table.csv',\n",
       " '._file_table.240107.kofam_unfilt.csv',\n",
       " '._plt_KO_contig_counts.png',\n",
       " '._file_table.test.csv',\n",
       " '._file_table.240113.kofam_filt.csv',\n",
       " '._file_table.240114.kofam_filt.csv',\n",
       " '.snakemake']"
      ]
     },
     "execution_count": 9,
     "metadata": {},
     "output_type": "execute_result"
    },
    {
     "name": "stderr",
     "output_type": "stream",
     "text": [
      "R[write to console]: Warning messages:\n",
      "\n",
      "R[write to console]: 1: \n",
      "R[write to console]: In (function (package, help, pos = 2, lib.loc = NULL, character.only = FALSE,  :\n",
      "R[write to console]: \n",
      " \n",
      "R[write to console]:  library ‘/usr/lib/R/site-library’ contains no packages\n",
      "\n",
      "R[write to console]: 2: \n",
      "R[write to console]: In (function (package, help, pos = 2, lib.loc = NULL, character.only = FALSE,  :\n",
      "R[write to console]: \n",
      " \n",
      "R[write to console]:  library ‘/usr/lib/R/site-library’ contains no packages\n",
      "\n",
      "R[write to console]: 3: \n",
      "R[write to console]: In (function (package, help, pos = 2, lib.loc = NULL, character.only = FALSE,  :\n",
      "R[write to console]: \n",
      " \n",
      "R[write to console]:  library ‘/usr/lib/R/site-library’ contains no packages\n",
      "\n",
      "R[write to console]: 4: \n",
      "R[write to console]: In (function (package, help, pos = 2, lib.loc = NULL, character.only = FALSE,  :\n",
      "R[write to console]: \n",
      " \n",
      "R[write to console]:  library ‘/usr/lib/R/site-library’ contains no packages\n",
      "\n",
      "R[write to console]: 5: \n",
      "R[write to console]: In (function (package, help, pos = 2, lib.loc = NULL, character.only = FALSE,  :\n",
      "R[write to console]: \n",
      " \n",
      "R[write to console]:  library ‘/usr/lib/R/site-library’ contains no packages\n",
      "\n",
      "R[write to console]: 6: \n",
      "R[write to console]: In (function (package, help, pos = 2, lib.loc = NULL, character.only = FALSE,  :\n",
      "R[write to console]: \n",
      " \n",
      "R[write to console]:  library ‘/usr/lib/R/site-library’ contains no packages\n",
      "\n",
      "R[write to console]: 7: \n",
      "R[write to console]: In (function (package, help, pos = 2, lib.loc = NULL, character.only = FALSE,  :\n",
      "R[write to console]: \n",
      " \n",
      "R[write to console]:  library ‘/usr/lib/R/site-library’ contains no packages\n",
      "\n"
     ]
    }
   ],
   "source": [
    "os.listdir()"
   ]
  },
  {
   "cell_type": "markdown",
   "metadata": {},
   "source": [
    "Helper functions"
   ]
  },
  {
   "cell_type": "code",
   "execution_count": null,
   "metadata": {},
   "outputs": [],
   "source": [
    "def general_plot(\n",
    "    xlabel=\"\", ylabel=\"\", ft=12, dims=(5, 3), col=\"k\", lw=1, pad=0, tr_spines=True\n",
    "):\n",
    "    fig, ax = plt.subplots(figsize=(dims[0], dims[1]), tight_layout={\"pad\": pad})\n",
    "    for i in ax.spines:\n",
    "        ax.spines[i].set_linewidth(lw)\n",
    "    if not tr_spines:\n",
    "        ax.spines[\"top\"].set_visible(False)\n",
    "        ax.spines[\"right\"].set_visible(False)\n",
    "    else:\n",
    "        ax.spines[\"top\"].set_color(col)\n",
    "        ax.spines[\"right\"].set_color(col)\n",
    "    ax.spines[\"bottom\"].set_color(col)\n",
    "    ax.spines[\"left\"].set_color(col)\n",
    "    ax.tick_params(direction=\"in\", labelsize=ft, color=col, labelcolor=col)\n",
    "    ax.set_xlabel(xlabel, fontsize=ft, color=col)\n",
    "    ax.set_ylabel(ylabel, fontsize=ft, color=col)\n",
    "    ax.patch.set_alpha(0)\n",
    "    return (fig, ax)\n",
    "\n",
    "# helper functions\n",
    "\n",
    "# function to calculate 0-sensitive geometric mean\n",
    "def geometric_mean(vector, pseudocount=1):\n",
    "    return np.exp(np.mean(np.log(vector + pseudocount))) - pseudocount\n",
    "\n",
    "# function to convert pandas dataframe to r matrix\n",
    "def pandas_dataframe_to_r_matrix(df, dtype=float):\n",
    "    \"\"\"\n",
    "    Function to convert pandas DataFrame objects to R matrix objects.\n",
    "    \"\"\"\n",
    "    if dtype is float:\n",
    "        vector = ro.vectors.FloatVector(df.values.flatten().tolist())\n",
    "    elif dtype is str:\n",
    "        vector = ro.vectors.StrVector(df.values.flatten().tolist())\n",
    "    elif dtype is int:\n",
    "        vector = ro.vectors.FloatVector(df.values.flatten().tolist())\n",
    "    else:\n",
    "        raise ValueError('The dtype {} is not recognized'.format(dtype))\n",
    "    matrix = rmatrix.Matrix(\n",
    "        data=vector, \n",
    "        nrow=df.shape[0], \n",
    "        ncol=df.shape[1], \n",
    "        byrow=True, \n",
    "        dimnames=[df.index.to_list(), df.columns.to_list()], \n",
    "        sparse=True\n",
    "    )\n",
    "    return matrix\n",
    "\n",
    "def parse_fn_kallisto_sn(fn, sn_type='', get_columns=False):\n",
    "    if not get_columns:\n",
    "        try:\n",
    "            ass, sample, ammend, timep, depth, size, rep = [''] * 7\n",
    "            if sn_type == 'G1NS':\n",
    "                ass, sm_sz, rep, _ = fn.split('.')\n",
    "                sample, sz = sm_sz.split('_',1)\n",
    "                size = re.sub('_','.',sz)\n",
    "            elif sn_type == 'G2NS':\n",
    "                ass, sample, depth, sz, rep, _ = fn.split('.')\n",
    "                size = re.sub('_','.',sz)\n",
    "            elif sn_type == 'G3NS':\n",
    "                ass_sm, dp_sz_rep = fn.split('_', 1)\n",
    "                ass = re.match(r'.+NS', ass_sm)[0]\n",
    "                sample = re.search(r'UW\\d+', ass_sm)[0]\n",
    "                dp1, dp2, sz, rep, _ = dp_sz_rep.split('.')\n",
    "                depth = f'{dp1}.{dp2}'\n",
    "                size = re.sub('_','.',sz)\n",
    "            elif sn_type == 'G5':\n",
    "                ass, sample, ammend, timep, rep, _ = fn.split('.')\n",
    "            elif sn_type == 'D1':\n",
    "                ass, sm_rep_tp, _, _ = fn.split('.')\n",
    "                sample, rep, timep = sm_rep_tp.split('_')\n",
    "            elif sn_type == 'G1PA':\n",
    "                ass, fn_ = fn.split('.', 1)\n",
    "                sample, fn_ = fn_.split('_', 1)\n",
    "                size = re.search(r'.+um', fn_)[0]\n",
    "                rep = re.search(r'(?<=um)\\w+(?=\\.)',fn_)[0]\n",
    "            elif sn_type == 'G2PA':\n",
    "                _, ass, sample, depth, sz, rep, _, _ = fn.split('.')\n",
    "                size = re.sub('_','.',sz)\n",
    "            elif sn_type == 'G3PA.UW':\n",
    "                ass, sample, _, _, _, _ = fn.split('.')\n",
    "            elif sn_type == 'G3PA.diel':\n",
    "                ass1, ass2, sample, rep, _, _, _, _ = fn.split('.')\n",
    "                ass = f'{ass1}.{ass2}'\n",
    "            elif sn_type == 'G3PA.PM':\n",
    "                ass_sm, dp_tp_sz_rp = fn.split('_', 1)\n",
    "                ass = re.match(r'.+(?=.UW)', ass_sm)[0]\n",
    "                sample = re.search(r'UW\\d+$', ass_sm)[0]\n",
    "                depth, tp_sz_rp = dp_tp_sz_rp.split('_',1)\n",
    "                timep, sz_rp = tp_sz_rp.split('.',1)\n",
    "                size = re.match(r'.+um(?=\\.)', sz_rp)[0]\n",
    "                rep = re.search(r'(?<=um\\.)\\w+', sz_rp)[0]\n",
    "            else:\n",
    "                raise ValueError(\n",
    "                    f\"\"\"\n",
    "                    Sample name parse type not provided (sn_type_parse_kallisto column in file table)\n",
    "                    \"\"\"\n",
    "                )        \n",
    "            return [ass, sample, ammend, timep, depth, size, rep]\n",
    "        except:\n",
    "            raise ValueError(\n",
    "                f\"\"\"\n",
    "                Failed to parse filename:\n",
    "                {fn}\n",
    "                Using type:\n",
    "                {sn_type}\n",
    "                \"\"\"\n",
    "            )\n",
    "    else:\n",
    "        return ['assembly', 'sample', 'ammendment', 'timepoint', 'depth', 'size', 'rep']\n"
   ]
  },
  {
   "cell_type": "markdown",
   "metadata": {},
   "source": [
    "## Get example slab"
   ]
  },
  {
   "cell_type": "markdown",
   "metadata": {},
   "source": [
    "Filenames"
   ]
  },
  {
   "cell_type": "code",
   "execution_count": null,
   "metadata": {},
   "outputs": [],
   "source": [
    "slab_dir = '/scratch/bgrodner/iron_ko_contigs/metat_search_results/taxon_slabs/G1PA/3um'\n",
    "fns = glob.glob(f'{slab_dir}/*.csv')\n",
    "fns"
   ]
  },
  {
   "cell_type": "markdown",
   "metadata": {},
   "source": [
    "Load example"
   ]
  },
  {
   "cell_type": "code",
   "execution_count": null,
   "metadata": {},
   "outputs": [],
   "source": [
    "fn = fns[0]\n",
    "df = pd.read_csv(fn)\n",
    "df"
   ]
  },
  {
   "cell_type": "markdown",
   "metadata": {},
   "source": [
    "## Normalize"
   ]
  },
  {
   "cell_type": "markdown",
   "metadata": {},
   "source": []
  }
 ],
 "metadata": {
  "kernelspec": {
   "display_name": "Python 3 (ipykernel)",
   "language": "python",
   "name": "python3"
  },
  "language_info": {
   "codemirror_mode": {
    "name": "ipython",
    "version": 3
   },
   "file_extension": ".py",
   "mimetype": "text/x-python",
   "name": "python",
   "nbconvert_exporter": "python",
   "pygments_lexer": "ipython3",
   "version": "3.11.11"
  }
 },
 "nbformat": 4,
 "nbformat_minor": 2
}
