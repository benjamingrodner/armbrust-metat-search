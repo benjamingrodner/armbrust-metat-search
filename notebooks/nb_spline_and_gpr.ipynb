{
 "cells": [
  {
   "cell_type": "markdown",
   "id": "0277f7cb",
   "metadata": {},
   "source": [
    "# Test spline fitting and Gaussian process regression \n",
    "\n"
   ]
  },
  {
   "cell_type": "markdown",
   "id": "ee9c18b9",
   "metadata": {},
   "source": [
    "## Setup"
   ]
  },
  {
   "cell_type": "code",
   "execution_count": 1,
   "id": "dfab4aec",
   "metadata": {},
   "outputs": [
    {
     "name": "stderr",
     "output_type": "stream",
     "text": [
      "/opt/conda/lib/python3.10/site-packages/tqdm/auto.py:21: TqdmWarning: IProgress not found. Please update jupyter and ipywidgets. See https://ipywidgets.readthedocs.io/en/stable/user_install.html\n",
      "  from .autonotebook import tqdm as notebook_tqdm\n"
     ]
    }
   ],
   "source": [
    "import os \n",
    "import gc\n",
    "import re\n",
    "import csv\n",
    "import glob\n",
    "import math\n",
    "import umap\n",
    "import json\n",
    "import itertools\n",
    "import numpy as np\n",
    "import pandas as pd\n",
    "import seaborn as sns\n",
    "from time import time\n",
    "from tqdm import tqdm\n",
    "from scipy import stats\n",
    "from collections import * \n",
    "from sklearn import cluster\n",
    "from sklearn import decomposition\n",
    "from ete4 import NCBITaxa, Tree\n",
    "import matplotlib.pyplot as plt\n",
    "import matplotlib.colors as pltc\n",
    "from scipy.spatial import distance\n",
    "from scipy.cluster import hierarchy\n",
    "from matplotlib.lines import Line2D\n",
    "import matplotlib.patches as mpatches\n",
    "from scipy import stats, special\n",
    "from numba import njit, prange, set_num_threads\n"
   ]
  },
  {
   "cell_type": "code",
   "execution_count": 2,
   "id": "4b5f9b8a",
   "metadata": {},
   "outputs": [],
   "source": [
    "import sys\n",
    "sys.path.append('/scratch/bgrodner/repo-armbrust-metat-search')"
   ]
  },
  {
   "cell_type": "code",
   "execution_count": 3,
   "id": "600500d9",
   "metadata": {},
   "outputs": [],
   "source": [
    "import functions.fn_metat_files as fnf\n",
    "import functions.fn_correlation as fc\n",
    "import functions.fn_regression_model as frm"
   ]
  },
  {
   "cell_type": "code",
   "execution_count": 4,
   "id": "70c7a928",
   "metadata": {},
   "outputs": [],
   "source": [
    "ncbi = NCBITaxa()"
   ]
  },
  {
   "cell_type": "code",
   "execution_count": 5,
   "id": "3894ea48",
   "metadata": {},
   "outputs": [],
   "source": [
    "%load_ext autoreload\n",
    "%autoreload 2"
   ]
  },
  {
   "cell_type": "code",
   "execution_count": 6,
   "id": "b96056d7",
   "metadata": {},
   "outputs": [
    {
     "data": {
      "text/plain": [
       "'/scratch/bgrodner/iron_ko_contigs'"
      ]
     },
     "execution_count": 6,
     "metadata": {},
     "output_type": "execute_result"
    }
   ],
   "source": [
    "os.getcwd()"
   ]
  },
  {
   "cell_type": "code",
   "execution_count": 7,
   "id": "72498d51",
   "metadata": {},
   "outputs": [],
   "source": [
    "workdir = '/scratch/bgrodner/iron_ko_contigs'\n",
    "os.chdir(workdir)\n"
   ]
  },
  {
   "cell_type": "code",
   "execution_count": 8,
   "id": "37e931e7",
   "metadata": {},
   "outputs": [
    {
     "data": {
      "text/plain": [
       "'/scratch/bgrodner/iron_ko_contigs'"
      ]
     },
     "execution_count": 8,
     "metadata": {},
     "output_type": "execute_result"
    }
   ],
   "source": [
    "os.getcwd()"
   ]
  },
  {
   "cell_type": "markdown",
   "id": "20471261",
   "metadata": {},
   "source": []
  },
  {
   "cell_type": "code",
   "execution_count": 9,
   "id": "0eeb9f0d",
   "metadata": {},
   "outputs": [
    {
     "data": {
      "text/plain": [
       "['config.yaml',\n",
       " 'sc_run_snakemake.sh',\n",
       " 'file_table.240210.kofam_filt.csv',\n",
       " '._.DS_Store',\n",
       " '._pfams_lauren_manck.xlsx',\n",
       " 'file_table.240107.kofam_filt.csv',\n",
       " 'sacha_hmm_search_results',\n",
       " 'apptainer_home',\n",
       " 'file_table.240109.kofam_filt.csv',\n",
       " 'file_table_new.csv',\n",
       " '._file_table.240109.kofam_filt.csv',\n",
       " 'file_table.test.csv',\n",
       " 'jupyter_home',\n",
       " '._file_table.240210.kofam_filt.csv',\n",
       " '._file_table.240107.kofam_filt.csv',\n",
       " 'ko00001.json',\n",
       " 'error.txt',\n",
       " '._file_table_new.csv',\n",
       " 'file_table.240114.kofam_filt.csv',\n",
       " 'metat_search_results',\n",
       " 'sidero_receptors',\n",
       " 'pfams_lauren_manck.xlsx',\n",
       " '._file_table.csv',\n",
       " 'file_table.240113.kofam_filt.csv',\n",
       " 'file_table.240107.kofam_unfilt.csv',\n",
       " 'nb_isolate_genes.ipynb',\n",
       " 'tidytest.csv',\n",
       " '._file_table.240108.kofam_filt.csv',\n",
       " 'kofam_filenames.txt',\n",
       " '.etetoolkit',\n",
       " 'iron_contigs.txt',\n",
       " '.DS_Store',\n",
       " 'iron_KOs.txt',\n",
       " 'file_table.240108.kofam_filt.csv',\n",
       " 'file_table.csv',\n",
       " '._file_table.240107.kofam_unfilt.csv',\n",
       " '._plt_KO_contig_counts.png',\n",
       " '._file_table.test.csv',\n",
       " 'MARMICRODB_catalog.tsv',\n",
       " '._file_table.240113.kofam_filt.csv',\n",
       " '._file_table.240114.kofam_filt.csv',\n",
       " '.snakemake']"
      ]
     },
     "execution_count": 9,
     "metadata": {},
     "output_type": "execute_result"
    }
   ],
   "source": [
    "os.listdir()"
   ]
  },
  {
   "cell_type": "markdown",
   "id": "43d0ab9d",
   "metadata": {},
   "source": [
    "Plotting"
   ]
  },
  {
   "cell_type": "code",
   "execution_count": 10,
   "id": "65213a20",
   "metadata": {},
   "outputs": [],
   "source": [
    "def general_plot(\n",
    "    xlabel=\"\", ylabel=\"\", ft=12, dims=(5, 3), col=\"k\", lw=1, pad=0, tr_spines=True\n",
    "):\n",
    "    fig, ax = plt.subplots(figsize=(dims[0], dims[1]), tight_layout={\"pad\": pad})\n",
    "    for i in ax.spines:\n",
    "        ax.spines[i].set_linewidth(lw)\n",
    "    if not tr_spines:\n",
    "        ax.spines[\"top\"].set_visible(False)\n",
    "        ax.spines[\"right\"].set_visible(False)\n",
    "    else:\n",
    "        ax.spines[\"top\"].set_color(col)\n",
    "        ax.spines[\"right\"].set_color(col)\n",
    "    ax.spines[\"bottom\"].set_color(col)\n",
    "    ax.spines[\"left\"].set_color(col)\n",
    "    ax.tick_params(direction=\"in\", labelsize=ft, color=col, labelcolor=col)\n",
    "    ax.set_xlabel(xlabel, fontsize=ft, color=col)\n",
    "    ax.set_ylabel(ylabel, fontsize=ft, color=col)\n",
    "    ax.patch.set_alpha(0)\n",
    "    return (fig, ax)\n",
    "\n",
    "def plot_umap(\n",
    "    embedding,\n",
    "    figsize=(10, 10),\n",
    "    markersize=10,\n",
    "    alpha=0.5,\n",
    "    colors=\"k\",\n",
    "    xticks=[],\n",
    "    yticks=[],\n",
    "    markerstyle='o',\n",
    "    cmap_name='tab20',\n",
    "    cl_lab=False\n",
    "):\n",
    "    fig, ax = general_plot(dims=figsize)\n",
    "    if isinstance(markerstyle, str):\n",
    "        ax.scatter(\n",
    "            embedding[:, 0],\n",
    "            embedding[:, 1],\n",
    "            s=markersize,\n",
    "            alpha=alpha,\n",
    "            c=colors,\n",
    "            edgecolors=\"none\",\n",
    "            marker=markerstyle,\n",
    "            cmap=cmap_name\n",
    "        )\n",
    "    else:\n",
    "        for e0, e1, c, m in zip(\n",
    "            embedding[:, 0], \n",
    "            embedding[:, 1],\n",
    "            colors,\n",
    "            markerstyle \n",
    "        ):\n",
    "            ax.scatter(\n",
    "                e0,\n",
    "                e1,\n",
    "                s=markersize,\n",
    "                alpha=alpha,\n",
    "                c=c,\n",
    "                edgecolors=\"none\",\n",
    "                marker=m\n",
    "            )\n",
    "    ax.set_aspect(\"equal\")\n",
    "    if len(xticks) > 0:\n",
    "        ax.set_xticks(xticks)\n",
    "    if len(yticks) > 0:\n",
    "        ax.set_yticks(yticks)\n",
    "    ax.set_xlabel(\"UMAP 1\")\n",
    "    ax.set_ylabel(\"UMAP 2\")\n",
    "    return fig, ax\n",
    "\n",
    "\n",
    "def general_plot(\n",
    "    xlabel=\"\", ylabel=\"\", ft=12, dims=(5, 3), col=\"k\", lw=1, pad=0, tr_spines=True\n",
    "):\n",
    "    fig, ax = plt.subplots(figsize=(dims[0], dims[1]), tight_layout={\"pad\": pad})\n",
    "    for i in ax.spines:\n",
    "        ax.spines[i].set_linewidth(lw)\n",
    "    if not tr_spines:\n",
    "        ax.spines[\"top\"].set_visible(False)\n",
    "        ax.spines[\"right\"].set_visible(False)\n",
    "    else:\n",
    "        ax.spines[\"top\"].set_color(col)\n",
    "        ax.spines[\"right\"].set_color(col)\n",
    "    ax.spines[\"bottom\"].set_color(col)\n",
    "    ax.spines[\"left\"].set_color(col)\n",
    "    ax.tick_params(direction=\"in\", labelsize=ft, color=col, labelcolor=col)\n",
    "    ax.set_xlabel(xlabel, fontsize=ft, color=col)\n",
    "    ax.set_ylabel(ylabel, fontsize=ft, color=col)\n",
    "    ax.patch.set_alpha(0)\n",
    "    return (fig, ax)\n",
    "\n",
    "\n",
    "def plot_umap(\n",
    "    embedding,\n",
    "    figsize=(10, 10),\n",
    "    markersize=10,\n",
    "    alpha=0.5,\n",
    "    colors=\"k\",\n",
    "    xticks=[],\n",
    "    yticks=[],\n",
    "    markerstyle='o'\n",
    "):\n",
    "    fig, ax = general_plot(dims=figsize)\n",
    "    if isinstance(markerstyle, str):\n",
    "        ax.scatter(\n",
    "            embedding[:, 0],\n",
    "            embedding[:, 1],\n",
    "            s=markersize,\n",
    "            alpha=alpha,\n",
    "            c=colors,\n",
    "            edgecolors=\"none\",\n",
    "            marker=markerstyle\n",
    "        )\n",
    "    else:\n",
    "        for e0, e1, c, m in zip(\n",
    "            embedding[:, 0], \n",
    "            embedding[:, 1],\n",
    "            colors,\n",
    "            markerstyle \n",
    "        ):\n",
    "            ax.scatter(\n",
    "                e0,\n",
    "                e1,\n",
    "                s=markersize,\n",
    "                alpha=alpha,\n",
    "                c=c,\n",
    "                edgecolors=\"none\",\n",
    "                marker=m\n",
    "            )\n",
    "    ax.set_aspect(\"equal\")\n",
    "    if len(xticks) > 0:\n",
    "        ax.set_xticks(xticks)\n",
    "    if len(yticks) > 0:\n",
    "        ax.set_yticks(yticks)\n",
    "    ax.set_xlabel(\"UMAP 1\")\n",
    "    ax.set_ylabel(\"UMAP 2\")\n",
    "    return fig, ax\n",
    "\n",
    "\n",
    "def get_colors_from_stringlist(stringlist, order=\"\", cmap_name=\"viridis\"):\n",
    "    if not order:\n",
    "        order = list(set(stringlist))\n",
    "    n_strings = len(order)\n",
    "    cmap = plt.get_cmap(cmap_name)\n",
    "    colors = [cmap(i / n_strings) for i in range(n_strings)]\n",
    "    dict_str_col = {s: c for s, c in zip(order, colors)}\n",
    "    return [dict_str_col[s] for s in stringlist], dict_str_col\n",
    "\n",
    "\n",
    "def plot_legend(color_dict, figsize=(2, 4)):\n",
    "    fig, ax = general_plot(dims=figsize)\n",
    "    # Create legend handles manually\n",
    "    legend_handles = []\n",
    "    for value, color in color_dict.items():\n",
    "        patch = mpatches.Patch(color=color, label=value)\n",
    "        legend_handles.append(patch)\n",
    "\n",
    "    # Add legend to the plot\n",
    "    ax.legend(handles=legend_handles)\n",
    "    return fig, ax\n",
    "\n",
    "\n",
    "def taxon_legend(\n",
    "    taxon_names,\n",
    "    taxon_colors,\n",
    "    label_color=\"k\",\n",
    "    taxon_counts=[],\n",
    "    text_shift_vh=(6, 0.15),\n",
    "    ft=20,\n",
    "    dims=(6, 10),\n",
    "    lw=2,\n",
    "    ylabel=\"Genus\",\n",
    "):\n",
    "    fig, ax = general_plot(ylabel=ylabel, dims=dims, col=label_color, lw=lw, ft=ft)\n",
    "    vals = np.repeat(10, len(taxon_names))\n",
    "    y_pos = np.arange(len(taxon_names))\n",
    "    ax.barh(y_pos, vals, align=\"center\", color=taxon_colors)\n",
    "    if len(taxon_counts) > 0:\n",
    "        # Label the legend with counts\n",
    "        for i, (v, c) in enumerate(zip(vals, taxon_counts)):\n",
    "            ax.text(\n",
    "                v - text_shift_vh[0],\n",
    "                i + text_shift_vh[1],\n",
    "                str(c),\n",
    "                color=\"k\",\n",
    "                fontsize=ft,\n",
    "            )\n",
    "    # Remove the boundaries\n",
    "    for spine in ax.spines.values():\n",
    "        spine.set_visible(False)\n",
    "    # Add the genus names to the y axis\n",
    "    ax.set_yticks(y_pos)\n",
    "    ax.set_xticks([])\n",
    "    ax.set_yticklabels(taxon_names)\n",
    "    ax.invert_yaxis()\n",
    "    return (fig, ax)\n",
    "\n",
    "\n",
    "def marker_legend(\n",
    "    names,\n",
    "    markers,\n",
    "    label_color=\"k\",\n",
    "    text_shift_hv=(0.5, 0),\n",
    "    markersize=50,\n",
    "    ft=20,\n",
    "    dims=(3, 3),\n",
    "    lw=2,\n",
    "    ylabel=\"Genus\",\n",
    "):\n",
    "    fig, ax = general_plot(ylabel=ylabel, dims=dims, col=label_color, lw=lw, ft=ft)\n",
    "    for i, (n, m) in enumerate(zip(names, markers)):\n",
    "        ax.scatter(0, i, marker=m, c=label_color, s=markersize)\n",
    "        # ax.text(\n",
    "        #     0 - text_shift_hv[0],\n",
    "        #     i + text_shift_hv[1],\n",
    "        #     str(n),\n",
    "        #     color=label_color,\n",
    "        #     fontsize=ft,\n",
    "        #     va=\"center\",\n",
    "        # )\n",
    "    # Remove the boundaries\n",
    "    for spine in ax.spines.values():\n",
    "        spine.set_visible(False)\n",
    "    # Add the genus names to the y axis\n",
    "\n",
    "    ax.set_xlim([-1, 1])\n",
    "    ax.set_ylim([-1, i + 1])\n",
    "\n",
    "    ax.set_yticks(np.arange(i+1))\n",
    "    ax.set_xticks([])\n",
    "    ax.set_yticklabels(names)\n",
    "    ax.invert_yaxis()\n",
    "    ax.invert_yaxis()\n",
    "    return fig, ax"
   ]
  },
  {
   "cell_type": "markdown",
   "id": "d46a30bd",
   "metadata": {},
   "source": [
    "#### Get KO dict"
   ]
  },
  {
   "cell_type": "markdown",
   "id": "0bc396f2",
   "metadata": {},
   "source": [
    "Get dataframe"
   ]
  },
  {
   "cell_type": "code",
   "execution_count": 13,
   "id": "9e73cb05",
   "metadata": {},
   "outputs": [
    {
     "data": {
      "text/plain": [
       "(61993, 4)"
      ]
     },
     "execution_count": 13,
     "metadata": {},
     "output_type": "execute_result"
    }
   ],
   "source": [
    "ko_fn = \"ko00001.json\"\n",
    "database = list()\n",
    "for _, v in pd.read_json(ko_fn).iterrows():\n",
    "    d = v[\"children\"]\n",
    "    cat_1 = d[\"name\"]\n",
    "    for child_1 in d[\"children\"]:\n",
    "        cat_2 = child_1[\"name\"] # Module?\n",
    "        for child_2 in child_1[\"children\"]:\n",
    "            cat_3 = child_2[\"name\"]\n",
    "            if \"children\" in child_2:\n",
    "                for child_3 in child_2[\"children\"]:\n",
    "                    cat_4 = child_3[\"name\"]\n",
    "                    fields = [cat_1, cat_2, cat_3, cat_4]\n",
    "                    database.append(fields)\n",
    "df_kegg = pd.DataFrame(database, columns=[\"Level_A\", \"Level_B\", \"Level_C\", \"Level_D\"])\n",
    "df_kegg.shape\n"
   ]
  },
  {
   "cell_type": "code",
   "execution_count": 14,
   "id": "cc962965",
   "metadata": {},
   "outputs": [
    {
     "data": {
      "text/plain": [
       "array(['K00844  HK; hexokinase [EC:2.7.1.1]',\n",
       "       'K12407  GCK; glucokinase [EC:2.7.1.2]',\n",
       "       'K00845  glk; glucokinase [EC:2.7.1.2]',\n",
       "       'K25026  glk; glucokinase [EC:2.7.1.2]',\n",
       "       'K01810  GPI, pgi; glucose-6-phosphate isomerase [EC:5.3.1.9]'],\n",
       "      dtype=object)"
      ]
     },
     "execution_count": 14,
     "metadata": {},
     "output_type": "execute_result"
    }
   ],
   "source": [
    "ld = df_kegg['Level_D'].values\n",
    "ld[:5]"
   ]
  },
  {
   "cell_type": "code",
   "execution_count": 15,
   "id": "327a462f",
   "metadata": {},
   "outputs": [],
   "source": [
    "dict_ko_name = {}\n",
    "for name in ld:\n",
    "    ko = re.search(r\"^\\w+\",name)[0]\n",
    "    dict_ko_name[ko] = name"
   ]
  },
  {
   "cell_type": "markdown",
   "id": "0492d08c",
   "metadata": {},
   "source": [
    "Get metadata table"
   ]
  },
  {
   "cell_type": "code",
   "execution_count": 16,
   "id": "4ba06b51",
   "metadata": {},
   "outputs": [
    {
     "data": {
      "text/html": [
       "<div>\n",
       "<style scoped>\n",
       "    .dataframe tbody tr th:only-of-type {\n",
       "        vertical-align: middle;\n",
       "    }\n",
       "\n",
       "    .dataframe tbody tr th {\n",
       "        vertical-align: top;\n",
       "    }\n",
       "\n",
       "    .dataframe thead th {\n",
       "        text-align: right;\n",
       "    }\n",
       "</style>\n",
       "<table border=\"1\" class=\"dataframe\">\n",
       "  <thead>\n",
       "    <tr style=\"text-align: right;\">\n",
       "      <th></th>\n",
       "      <th>assembly</th>\n",
       "      <th>sample</th>\n",
       "      <th>latitude</th>\n",
       "      <th>ammendment</th>\n",
       "      <th>timepoint</th>\n",
       "      <th>depth</th>\n",
       "      <th>size</th>\n",
       "      <th>rep</th>\n",
       "      <th>fn_sample_counts</th>\n",
       "      <th>assm_sample</th>\n",
       "      <th>norm_factor</th>\n",
       "    </tr>\n",
       "  </thead>\n",
       "  <tbody>\n",
       "    <tr>\n",
       "      <th>1</th>\n",
       "      <td>D1PA</td>\n",
       "      <td>S15C1</td>\n",
       "      <td>NaN</td>\n",
       "      <td>NaN</td>\n",
       "      <td>200</td>\n",
       "      <td>NaN</td>\n",
       "      <td>NaN</td>\n",
       "      <td>C</td>\n",
       "      <td>D1PA.S15C1_C_200.abundance.tsv</td>\n",
       "      <td>D1PA-S15C1-200</td>\n",
       "      <td>1970.000000</td>\n",
       "    </tr>\n",
       "    <tr>\n",
       "      <th>100</th>\n",
       "      <td>G1NS</td>\n",
       "      <td>S11C1</td>\n",
       "      <td>36.57deg</td>\n",
       "      <td>NaN</td>\n",
       "      <td>4_29_16-6:34</td>\n",
       "      <td>15.0m</td>\n",
       "      <td>0.2um</td>\n",
       "      <td>B</td>\n",
       "      <td>G1NS.S11C1_0_2um.B.tsv</td>\n",
       "      <td>G1NS-S11C1-36.57deg-4_29_16-6:34-15.0m-0.2um</td>\n",
       "      <td>3654.720049</td>\n",
       "    </tr>\n",
       "    <tr>\n",
       "      <th>200</th>\n",
       "      <td>G2PA</td>\n",
       "      <td>S06C1</td>\n",
       "      <td>39.76deg</td>\n",
       "      <td>NaN</td>\n",
       "      <td>NaN</td>\n",
       "      <td>15.0m</td>\n",
       "      <td>0.2um</td>\n",
       "      <td>B</td>\n",
       "      <td>G2PA.G2PA.S06C1.15m.0_2um.B.abundance.tsv</td>\n",
       "      <td>G2PA-S06C1-39.76deg-15.0m-0.2um</td>\n",
       "      <td>7091.826806</td>\n",
       "    </tr>\n",
       "  </tbody>\n",
       "</table>\n",
       "</div>"
      ],
      "text/plain": [
       "    assembly sample  latitude ammendment     timepoint  depth   size rep  \\\n",
       "1       D1PA  S15C1       NaN        NaN           200    NaN    NaN   C   \n",
       "100     G1NS  S11C1  36.57deg        NaN  4_29_16-6:34  15.0m  0.2um   B   \n",
       "200     G2PA  S06C1  39.76deg        NaN           NaN  15.0m  0.2um   B   \n",
       "\n",
       "                              fn_sample_counts  \\\n",
       "1               D1PA.S15C1_C_200.abundance.tsv   \n",
       "100                     G1NS.S11C1_0_2um.B.tsv   \n",
       "200  G2PA.G2PA.S06C1.15m.0_2um.B.abundance.tsv   \n",
       "\n",
       "                                      assm_sample  norm_factor  \n",
       "1                                  D1PA-S15C1-200  1970.000000  \n",
       "100  G1NS-S11C1-36.57deg-4_29_16-6:34-15.0m-0.2um  3654.720049  \n",
       "200               G2PA-S06C1-39.76deg-15.0m-0.2um  7091.826806  "
      ]
     },
     "execution_count": 16,
     "metadata": {},
     "output_type": "execute_result"
    }
   ],
   "source": [
    "metadata_path = \"/scratch/bgrodner/iron_ko_contigs/metat_search_results/dicts_iron_KO_contig/tidy_tables/merge_all/iron_KOs.txt-metadata.csv\"  # input('Enter the filepath of your batch metadata file:')\n",
    "metadata = pd.read_csv(metadata_path)\n",
    "metadata.iloc[[1,100,200],:]"
   ]
  },
  {
   "cell_type": "markdown",
   "id": "d1b817a4",
   "metadata": {},
   "source": [
    "Correct G1 S11C1 latitudes"
   ]
  },
  {
   "cell_type": "code",
   "execution_count": 17,
   "id": "c740bcf5",
   "metadata": {},
   "outputs": [
    {
     "data": {
      "text/plain": [
       "(531, 11)"
      ]
     },
     "execution_count": 17,
     "metadata": {},
     "output_type": "execute_result"
    }
   ],
   "source": [
    "metadata.shape"
   ]
  },
  {
   "cell_type": "code",
   "execution_count": 18,
   "id": "3d990572",
   "metadata": {},
   "outputs": [
    {
     "data": {
      "text/html": [
       "<div>\n",
       "<style scoped>\n",
       "    .dataframe tbody tr th:only-of-type {\n",
       "        vertical-align: middle;\n",
       "    }\n",
       "\n",
       "    .dataframe tbody tr th {\n",
       "        vertical-align: top;\n",
       "    }\n",
       "\n",
       "    .dataframe thead th {\n",
       "        text-align: right;\n",
       "    }\n",
       "</style>\n",
       "<table border=\"1\" class=\"dataframe\">\n",
       "  <thead>\n",
       "    <tr style=\"text-align: right;\">\n",
       "      <th></th>\n",
       "      <th>assembly</th>\n",
       "      <th>sample</th>\n",
       "      <th>latitude</th>\n",
       "      <th>ammendment</th>\n",
       "      <th>timepoint</th>\n",
       "      <th>depth</th>\n",
       "      <th>size</th>\n",
       "      <th>rep</th>\n",
       "      <th>fn_sample_counts</th>\n",
       "      <th>assm_sample</th>\n",
       "      <th>norm_factor</th>\n",
       "    </tr>\n",
       "  </thead>\n",
       "  <tbody>\n",
       "    <tr>\n",
       "      <th>1</th>\n",
       "      <td>D1PA</td>\n",
       "      <td>S15C1</td>\n",
       "      <td>NaN</td>\n",
       "      <td>NaN</td>\n",
       "      <td>200</td>\n",
       "      <td>NaN</td>\n",
       "      <td>NaN</td>\n",
       "      <td>C</td>\n",
       "      <td>D1PA.S15C1_C_200.abundance.tsv</td>\n",
       "      <td>D1PA-S15C1-200</td>\n",
       "      <td>1970.000000</td>\n",
       "    </tr>\n",
       "    <tr>\n",
       "      <th>100</th>\n",
       "      <td>G1NS</td>\n",
       "      <td>S11C1</td>\n",
       "      <td>36.569deg</td>\n",
       "      <td>NaN</td>\n",
       "      <td>4_29_16-6:34</td>\n",
       "      <td>15.0m</td>\n",
       "      <td>0.2um</td>\n",
       "      <td>B</td>\n",
       "      <td>G1NS.S11C1_0_2um.B.tsv</td>\n",
       "      <td>G1NS-S11C1-36.57deg-4_29_16-6:34-15.0m-0.2um</td>\n",
       "      <td>3654.720049</td>\n",
       "    </tr>\n",
       "    <tr>\n",
       "      <th>200</th>\n",
       "      <td>G2PA</td>\n",
       "      <td>S06C1</td>\n",
       "      <td>39.76deg</td>\n",
       "      <td>NaN</td>\n",
       "      <td>NaN</td>\n",
       "      <td>15.0m</td>\n",
       "      <td>0.2um</td>\n",
       "      <td>B</td>\n",
       "      <td>G2PA.G2PA.S06C1.15m.0_2um.B.abundance.tsv</td>\n",
       "      <td>G2PA-S06C1-39.76deg-15.0m-0.2um</td>\n",
       "      <td>7091.826806</td>\n",
       "    </tr>\n",
       "    <tr>\n",
       "      <th>300</th>\n",
       "      <td>G3PA</td>\n",
       "      <td>UW37</td>\n",
       "      <td>37.0deg</td>\n",
       "      <td>NaN</td>\n",
       "      <td>4_19_19-18:47</td>\n",
       "      <td>7.0m</td>\n",
       "      <td>3.0um</td>\n",
       "      <td>C</td>\n",
       "      <td>G3PA.UW47.unstranded.abundance.tsv.gz</td>\n",
       "      <td>G3PA-UW37-37.0deg-4_19_19-18:47-7.0m-3.0um</td>\n",
       "      <td>1642.973173</td>\n",
       "    </tr>\n",
       "    <tr>\n",
       "      <th>500</th>\n",
       "      <td>G5</td>\n",
       "      <td>Mix1</td>\n",
       "      <td>NaN</td>\n",
       "      <td>DON</td>\n",
       "      <td>T2</td>\n",
       "      <td>NaN</td>\n",
       "      <td>NaN</td>\n",
       "      <td>C</td>\n",
       "      <td>G5.Mix1.DON.T2.C.tsv</td>\n",
       "      <td>G5-Mix1-DON-T2</td>\n",
       "      <td>4262.243999</td>\n",
       "    </tr>\n",
       "  </tbody>\n",
       "</table>\n",
       "</div>"
      ],
      "text/plain": [
       "    assembly sample   latitude ammendment      timepoint  depth   size rep  \\\n",
       "1       D1PA  S15C1        NaN        NaN            200    NaN    NaN   C   \n",
       "100     G1NS  S11C1  36.569deg        NaN   4_29_16-6:34  15.0m  0.2um   B   \n",
       "200     G2PA  S06C1   39.76deg        NaN            NaN  15.0m  0.2um   B   \n",
       "300     G3PA   UW37    37.0deg        NaN  4_19_19-18:47   7.0m  3.0um   C   \n",
       "500       G5   Mix1        NaN        DON             T2    NaN    NaN   C   \n",
       "\n",
       "                              fn_sample_counts  \\\n",
       "1               D1PA.S15C1_C_200.abundance.tsv   \n",
       "100                     G1NS.S11C1_0_2um.B.tsv   \n",
       "200  G2PA.G2PA.S06C1.15m.0_2um.B.abundance.tsv   \n",
       "300      G3PA.UW47.unstranded.abundance.tsv.gz   \n",
       "500                       G5.Mix1.DON.T2.C.tsv   \n",
       "\n",
       "                                      assm_sample  norm_factor  \n",
       "1                                  D1PA-S15C1-200  1970.000000  \n",
       "100  G1NS-S11C1-36.57deg-4_29_16-6:34-15.0m-0.2um  3654.720049  \n",
       "200               G2PA-S06C1-39.76deg-15.0m-0.2um  7091.826806  \n",
       "300    G3PA-UW37-37.0deg-4_19_19-18:47-7.0m-3.0um  1642.973173  \n",
       "500                                G5-Mix1-DON-T2  4262.243999  "
      ]
     },
     "execution_count": 18,
     "metadata": {},
     "output_type": "execute_result"
    }
   ],
   "source": [
    "lats_new = []\n",
    "for i, row in metadata.iterrows():\n",
    "    if (row['sample'] == 'S11C1') & ('G1' in row['assembly']):\n",
    "        lats_new.append('36.569deg')\n",
    "    else:\n",
    "        lats_new.append(row.latitude)\n",
    "metadata['latitude'] = lats_new\n",
    "metadata.iloc[[1,100,200,300,500],:]"
   ]
  },
  {
   "cell_type": "markdown",
   "id": "a5bde8b5",
   "metadata": {},
   "source": [
    "Get cruise column"
   ]
  },
  {
   "cell_type": "code",
   "execution_count": 19,
   "id": "7932aa5e",
   "metadata": {},
   "outputs": [
    {
     "data": {
      "text/plain": [
       "array(['D1PA', 'G1PA', 'G1NS', 'G2PA', 'G2NS', 'G3PA', 'G3PA.diel',\n",
       "       'G3.UW.NS', 'G3PA.PM', 'G5'], dtype=object)"
      ]
     },
     "execution_count": 19,
     "metadata": {},
     "output_type": "execute_result"
    }
   ],
   "source": [
    "metadata.assembly.unique()"
   ]
  },
  {
   "cell_type": "code",
   "execution_count": 20,
   "id": "8880f842",
   "metadata": {},
   "outputs": [
    {
     "data": {
      "text/plain": [
       "(array(['D1PA', 'G1', 'G2', 'G3', 'G3PA.diel', 'G3PA.PM', 'G5'],\n",
       "       dtype=object),\n",
       " array(['PA', 'NS'], dtype=object))"
      ]
     },
     "execution_count": 20,
     "metadata": {},
     "output_type": "execute_result"
    }
   ],
   "source": [
    "skp = ['D1PA','G3PA.diel','G3PA.PM','G5']\n",
    "metadata['cruise'] = [assm[:2] if assm not in skp else assm for assm in metadata.assembly]\n",
    "sels = []\n",
    "for assm in metadata.assembly:\n",
    "    if 'NS' in assm:\n",
    "        sels.append('NS')\n",
    "    elif assm == 'G5':\n",
    "        sels.append('NS')\n",
    "    else:\n",
    "        sels.append('PA')\n",
    "\n",
    "metadata['selection'] = sels\n",
    "metadata.cruise.unique(), metadata.selection.unique()"
   ]
  },
  {
   "cell_type": "markdown",
   "id": "ead4339d",
   "metadata": {},
   "source": [
    "Batch column"
   ]
  },
  {
   "cell_type": "code",
   "execution_count": 21,
   "id": "67e0be14",
   "metadata": {},
   "outputs": [],
   "source": [
    "batchs = []\n",
    "for i, row in metadata.iterrows():\n",
    "    cruise, sel, size = [row[v] for v in ['cruise','selection','size']]\n",
    "    batchs.append(f'{cruise}_{sel}_{size}')\n",
    "\n",
    "metadata['batch'] = batchs"
   ]
  },
  {
   "cell_type": "markdown",
   "id": "5a59feee",
   "metadata": {},
   "source": [
    "Map fnsamplecounts to metadata"
   ]
  },
  {
   "cell_type": "code",
   "execution_count": 22,
   "id": "14b621e9",
   "metadata": {},
   "outputs": [],
   "source": [
    "dict_meta = {}\n",
    "for i, row in metadata.iterrows():\n",
    "    dict_meta[row['fn_sample_counts']] = row.to_dict()"
   ]
  },
  {
   "cell_type": "code",
   "execution_count": 23,
   "id": "93c0f7fc",
   "metadata": {},
   "outputs": [],
   "source": [
    "dict_assam_meta = {}\n",
    "for i, row in metadata.iterrows():\n",
    "    dict_assam_meta[row['assm_sample']] = row.to_dict()"
   ]
  },
  {
   "cell_type": "code",
   "execution_count": 24,
   "id": "df6fb033",
   "metadata": {},
   "outputs": [],
   "source": [
    "dict_batch_meta = {}\n",
    "for i, row in metadata.iterrows():\n",
    "    dict_batch_meta[row['batch']] = row.to_dict()"
   ]
  },
  {
   "cell_type": "code",
   "execution_count": 25,
   "id": "c89377ea",
   "metadata": {},
   "outputs": [],
   "source": [
    "dict_assam_lat = dict(zip(metadata['assm_sample'], metadata['latitude']))\n"
   ]
  },
  {
   "cell_type": "markdown",
   "id": "c4d7590a",
   "metadata": {},
   "source": [
    "TZCF info"
   ]
  },
  {
   "cell_type": "code",
   "execution_count": 26,
   "id": "46d36bb1",
   "metadata": {},
   "outputs": [],
   "source": [
    "dict_cruise_trans_sal_chl = {\n",
    "    'G1': [32.15, 33.0],\n",
    "    'G2': [32.5, 36.2],\n",
    "    'G3': [32.34, 35],\n",
    "}"
   ]
  },
  {
   "cell_type": "markdown",
   "id": "fb3e7ef4",
   "metadata": {},
   "source": [
    "## Load Data"
   ]
  },
  {
   "cell_type": "markdown",
   "id": "704fc883",
   "metadata": {},
   "source": [
    "Load iron ko dict"
   ]
  },
  {
   "cell_type": "code",
   "execution_count": 27,
   "id": "6959d7e2",
   "metadata": {},
   "outputs": [],
   "source": [
    "fn_tidy_ironko = '/scratch/bgrodner/iron_ko_contigs/metat_search_results/dicts_iron_KO_contig/tidy_tables/merge_all/iron_KOs.txt-tidy_all.csv'\n",
    "\n",
    "# open read \n",
    "dict_iron_taxon_ko_sample_estcounts = defaultdict(\n",
    "    lambda: defaultdict(\n",
    "        lambda: defaultdict(float)\n",
    "    )\n",
    ")\n",
    "with open(fn_tidy_ironko, 'r') as fr:\n",
    "    row = next(fr)\n",
    "    for row in fr:\n",
    "        contig, sample, ko, tax, estcounts = row.split(\",\")\n",
    "        dict_iron_taxon_ko_sample_estcounts[tax][ko][sample] += float(estcounts)"
   ]
  },
  {
   "cell_type": "markdown",
   "id": "ac020bfe",
   "metadata": {},
   "source": [
    "Load taxa groups of spatial profiles"
   ]
  },
  {
   "cell_type": "code",
   "execution_count": 28,
   "id": "1cfb582b",
   "metadata": {},
   "outputs": [],
   "source": [
    "fn_out = '/scratch/bgrodner/relative_abundance/metat_search_results/latitude_tzcf_glm/dict_sel_sz_profiletype_taxa.json'\n",
    "with open(fn_out, 'r') as f:\n",
    "    dict_sel_sz_ptype_taxa = json.load(f)"
   ]
  },
  {
   "cell_type": "code",
   "execution_count": 29,
   "id": "2d0de0f1",
   "metadata": {},
   "outputs": [],
   "source": [
    "dict_sel_sz_tax_ptype = defaultdict(lambda: defaultdict(dict))\n",
    "for sel, dict_sz_ptype_taxa in dict_sel_sz_ptype_taxa.items():\n",
    "    for sz, dict_ptype_taxa in dict_sz_ptype_taxa.items():\n",
    "        for ptype, taxa in dict_ptype_taxa.items():\n",
    "            for tax in taxa:\n",
    "                dict_sel_sz_tax_ptype[sel][sz][tax] = ptype"
   ]
  },
  {
   "cell_type": "markdown",
   "id": "34126a77",
   "metadata": {},
   "source": [
    "Load taxon estcounts dict"
   ]
  },
  {
   "cell_type": "code",
   "execution_count": 30,
   "id": "63583c25",
   "metadata": {},
   "outputs": [],
   "source": [
    "fn_relabund = '/scratch/bgrodner/relative_abundance/metat_search_results/sample_taxa_estcounts/merge-sample_taxid_estcounts-tidy.txt'\n",
    "\n",
    "dict_sel_sz_tax_sample_estcounts = defaultdict(\n",
    "    lambda: defaultdict(\n",
    "        lambda: defaultdict(dict)\n",
    "    )\n",
    ")\n",
    "# for i, row in df_norm_abund.iterrows():\n",
    "#     dict_tax_sam_ectotal[row.taxid][row.assm_sample][row.rep] = row.estcounts\n",
    "    \n",
    "valtypes = ['frac','trl']\n",
    "with open(fn_relabund, 'r') as fr:\n",
    "    row = next(fr)\n",
    "    for row in fr:\n",
    "        # Read row\n",
    "        _, sam, taxid, estcounts, frac_total_estcounts = row.split(\",\")\n",
    "        # Get metadata \n",
    "        row_meta = dict_meta[sam]\n",
    "        cruise = row_meta['cruise']\n",
    "        if cruise in ['G1','G2','G3']:\n",
    "            lat, sel, size, norm_factor, rep = [row_meta[v] for v in ['latitude','selection','size','norm_factor', 'rep']]\n",
    "            dict_sel_sz_tax_sample_estcounts[sel][size][taxid][sam] = float(estcounts)\n",
    "\n"
   ]
  },
  {
   "cell_type": "markdown",
   "id": "b99844f5",
   "metadata": {},
   "source": [
    "Get a frac and trl for taxa"
   ]
  },
  {
   "cell_type": "code",
   "execution_count": 31,
   "id": "50edd566",
   "metadata": {},
   "outputs": [],
   "source": [
    "fn_relabund = '/scratch/bgrodner/relative_abundance/metat_search_results/sample_taxa_estcounts/merge-sample_taxid_estcounts-tidy.txt'\n",
    "\n",
    "dict_valtype_sel_sz_tax_sam_val = defaultdict(\n",
    "    lambda: defaultdict(\n",
    "        lambda: defaultdict(\n",
    "            lambda: defaultdict(dict)\n",
    "        )\n",
    "    )\n",
    ")\n",
    "\n",
    "# for i, row in df_norm_abund.iterrows():\n",
    "#     dict_tax_sam_ectotal[row.taxid][row.assm_sample][row.rep] = row.estcounts\n",
    "    \n",
    "# valtypes = ['frac','trl']\n",
    "with open(fn_relabund, 'r') as fr:\n",
    "    row = next(fr)\n",
    "    for row in fr:\n",
    "        # Read row\n",
    "        _, sam, taxid, estcounts, frac_total_estcounts = row.split(\",\")\n",
    "        # Get metadata \n",
    "        row_meta = dict_meta[sam]\n",
    "        cruise = row_meta['cruise']\n",
    "        # if cruise == 'G3PA.diel':\n",
    "        #     date, time = row_meta['timepoint'].split('-')\n",
    "        #     time = time.zfill(5)\n",
    "        #     pred = f'{date}-{time}'\n",
    "        # elif cruise == 'D1PA':\n",
    "        #     sample = row_meta['sample']\n",
    "        #     timepoint = row_meta['timepoint']\n",
    "        #     pred = f'{sample}-{timepoint}'\n",
    "        # elif cruise == 'G5':\n",
    "        #     sample = row_meta['sample']\n",
    "        #     ammend = row_meta['ammendment']\n",
    "        #     pred = \n",
    "        valtypes = ['frac','trl']\n",
    "        if cruise in ['G1','G2','G3']:\n",
    "            lat, sel, size, norm_factor, rep = [row_meta[v] for v in ['latitude','selection','size','norm_factor', 'rep']]\n",
    "            frac = float(frac_total_estcounts)\n",
    "            trl = float(estcounts) * float(norm_factor)\n",
    "            for vt, val in zip(valtypes, [frac, trl]):\n",
    "                dict_valtype_sel_sz_tax_sam_val[vt][sel][size][taxid][sam] = val\n",
    "\n"
   ]
  },
  {
   "cell_type": "markdown",
   "id": "6ed8dac5",
   "metadata": {},
   "source": [
    "Load total counts"
   ]
  },
  {
   "cell_type": "code",
   "execution_count": 32,
   "id": "8bc05447",
   "metadata": {},
   "outputs": [],
   "source": [
    "dir_counts = '/scratch/bgrodner/iron_ko_contigs/metat_search_results/count_sums'\n",
    "dirs_counts = glob.glob(f'{dir_counts}/*')\n",
    "dict_sn_totalcount = {}\n",
    "for d in dirs_counts:\n",
    "    fns = glob.glob(f'{d}/*')\n",
    "    for fn in fns:\n",
    "        with open(fn, 'r') as f:\n",
    "            count = float(next(f))\n",
    "        sn = os.path.split(fn)[1]\n",
    "        sn = sn.split('-count')[0]\n",
    "        if 'PA' in sn:\n",
    "            sn = sn.split('gz.')[1]\n",
    "        dict_sn_totalcount[sn] = count\n"
   ]
  },
  {
   "cell_type": "markdown",
   "id": "f8a0224c",
   "metadata": {},
   "source": [
    "## Get example curve"
   ]
  },
  {
   "cell_type": "markdown",
   "id": "bfec00e7",
   "metadata": {},
   "source": [
    "Define taxa of interest"
   ]
  },
  {
   "cell_type": "code",
   "execution_count": 35,
   "id": "8066a184",
   "metadata": {},
   "outputs": [],
   "source": [
    "target_taxnames = [\n",
    "    'Alphaproteobacteria','Betaproteobacteria','Gammaproteobacteria',\n",
    "    'Myxococcota','FCB group','PVC group',\n",
    "    'Actinomycetota',\n",
    "    'Bacillota','Cyanobacteriota',\n",
    "    'Haptophyta','Streptophyta','Chlorophyta','Opisthokonta','Alveolata','Rhizaria',\n",
    "    'Stramenopiles','Amoebozoa','Cryptophyceae','Discoba','Rhodophyta',\n",
    "]\n",
    "dict_taxname_tax = ncbi.get_name_translator(target_taxnames)\n",
    "target_taxa = [dict_taxname_tax[n][0] for n in target_taxnames]\n",
    "dict_tax_name = ncbi.get_taxid_translator(target_taxa)\n"
   ]
  },
  {
   "cell_type": "markdown",
   "id": "2db301f8",
   "metadata": {},
   "source": [
    "Get list of subtaxa for each ptype"
   ]
  },
  {
   "cell_type": "code",
   "execution_count": 36,
   "id": "0022c035",
   "metadata": {},
   "outputs": [
    {
     "name": "stderr",
     "output_type": "stream",
     "text": [
      "/venv/ete4/ete4/ncbi_taxonomy/ncbiquery.py:216: UserWarning: taxid 1457154 was translated into 2954382\n",
      "  warnings.warn('taxid %s was translated into %s' %\n",
      "/venv/ete4/ete4/ncbi_taxonomy/ncbiquery.py:216: UserWarning: taxid 1453999 was translated into 2954383\n",
      "  warnings.warn('taxid %s was translated into %s' %\n",
      "/venv/ete4/ete4/ncbi_taxonomy/ncbiquery.py:216: UserWarning: taxid 1317118 was translated into 1379903\n",
      "  warnings.warn('taxid %s was translated into %s' %\n",
      "/venv/ete4/ete4/ncbi_taxonomy/ncbiquery.py:216: UserWarning: taxid 876044 was translated into 2518989\n",
      "  warnings.warn('taxid %s was translated into %s' %\n",
      "/venv/ete4/ete4/ncbi_taxonomy/ncbiquery.py:216: UserWarning: taxid 1267535 was translated into 639034\n",
      "  warnings.warn('taxid %s was translated into %s' %\n",
      "/venv/ete4/ete4/ncbi_taxonomy/ncbiquery.py:216: UserWarning: taxid 319236 was translated into 323273\n",
      "  warnings.warn('taxid %s was translated into %s' %\n",
      "/venv/ete4/ete4/ncbi_taxonomy/ncbiquery.py:216: UserWarning: taxid 1217710 was translated into 70346\n",
      "  warnings.warn('taxid %s was translated into %s' %\n",
      "/venv/ete4/ete4/ncbi_taxonomy/ncbiquery.py:216: UserWarning: taxid 1128421 was translated into 1325125\n",
      "  warnings.warn('taxid %s was translated into %s' %\n"
     ]
    }
   ],
   "source": [
    "dict_targettax_sel_sz_ptype_taxa = defaultdict(\n",
    "    lambda: defaultdict(\n",
    "        lambda: defaultdict(\n",
    "            lambda: defaultdict(list)\n",
    "        )\n",
    "    )\n",
    ")\n",
    "for sel, dict_sz_ptype_taxa in dict_sel_sz_ptype_taxa.items():\n",
    "    for sz, dict_ptype_taxa in dict_sz_ptype_taxa.items():\n",
    "        for ptype, taxa in dict_ptype_taxa.items():\n",
    "            for tax in taxa:\n",
    "                try:\n",
    "                    lin = ncbi.get_lineage(tax)\n",
    "                    for tt in target_taxa:\n",
    "                        if tt in lin:\n",
    "                            dict_targettax_sel_sz_ptype_taxa[tt][sel][sz][ptype].append(tax)\n",
    "                except:\n",
    "                    pass"
   ]
  },
  {
   "cell_type": "code",
   "execution_count": 37,
   "id": "29226af9",
   "metadata": {},
   "outputs": [],
   "source": [
    "dict_sel_sz_ptype_tax_targettax = defaultdict(\n",
    "    lambda: defaultdict(\n",
    "        lambda: defaultdict(dict)\n",
    "    )\n",
    ")\n",
    "for tt, dict_sel_sz_ptype_taxa in dict_targettax_sel_sz_ptype_taxa.items():\n",
    "    for sel, dict_sz_ptype_taxa in dict_sel_sz_ptype_taxa.items():\n",
    "        for sz, dict_ptype_taxa in dict_sz_ptype_taxa.items():\n",
    "            for ptype, taxa in dict_ptype_taxa.items():\n",
    "                for tax in taxa:\n",
    "                    dict_sel_sz_ptype_tax_targettax[sel][sz][ptype][tax] = tt"
   ]
  },
  {
   "cell_type": "markdown",
   "id": "d527e890",
   "metadata": {},
   "source": [
    "Get total estcounts for taxa in each ptype"
   ]
  },
  {
   "cell_type": "code",
   "execution_count": 38,
   "id": "f0ad26bf",
   "metadata": {},
   "outputs": [],
   "source": [
    "dict_targettax_sel_sz_ptype_sam_estcounts = defaultdict(\n",
    "    lambda: defaultdict(\n",
    "        lambda: defaultdict(\n",
    "            lambda: defaultdict(\n",
    "                lambda: defaultdict(float)\n",
    "            )\n",
    "        )\n",
    "    )\n",
    ")\n",
    "for tt, d_sel_sz_ptype_taxa in dict_targettax_sel_sz_ptype_taxa.items():\n",
    "    for sel, dict_sz_ptype_taxa in d_sel_sz_ptype_taxa.items():\n",
    "        for sz, dict_ptype_taxa in dict_sz_ptype_taxa.items():\n",
    "            for ptype, taxa in dict_ptype_taxa.items():\n",
    "                for tax in taxa:\n",
    "                    for sample, estcounts in dict_sel_sz_tax_sample_estcounts[sel][sz][tax].items():\n",
    "                        dict_targettax_sel_sz_ptype_sam_estcounts[tt][sel][sz][ptype][sample] += estcounts\n"
   ]
  },
  {
   "cell_type": "markdown",
   "id": "4c401f68",
   "metadata": {},
   "source": [
    "Get gene ec counts within each group"
   ]
  },
  {
   "cell_type": "code",
   "execution_count": 39,
   "id": "d2ae3641",
   "metadata": {},
   "outputs": [],
   "source": [
    "dict_targettax_sel_sz_ptype_ko_sam_ec = defaultdict(\n",
    "    lambda: defaultdict(\n",
    "        lambda: defaultdict(\n",
    "            lambda: defaultdict(\n",
    "                lambda: defaultdict(\n",
    "                    lambda: defaultdict(float)\n",
    "                )\n",
    "            )\n",
    "        )\n",
    "    )\n",
    ")\n",
    "\n",
    "for tt, d_sel_sz_ptype_taxa in dict_targettax_sel_sz_ptype_taxa.items():\n",
    "    for sel, dict_sz_ptype_taxa in d_sel_sz_ptype_taxa.items():\n",
    "        for sz, dict_ptype_taxa in dict_sz_ptype_taxa.items():\n",
    "            for ptype, taxa in dict_ptype_taxa.items():\n",
    "                # Get total conts for ptype\n",
    "                dict_sam_ptypecounts = dict_targettax_sel_sz_ptype_sam_estcounts[tt][sel][sz][ptype]\n",
    "                # Sum the ec counts for the group of taxa for each sample for each ko\n",
    "                dict_ko_sam_ecptype = defaultdict(lambda: defaultdict(float))\n",
    "                for tax in taxa:\n",
    "                    for sam, _ in dict_sam_ptypecounts.items():\n",
    "                        for ko, dict_sam_kocounts in dict_iron_taxon_ko_sample_estcounts[tax].items():\n",
    "                            dict_targettax_sel_sz_ptype_ko_sam_ec[tt][sel][sz][ptype][ko][sam] += (\n",
    "                                dict_sam_kocounts[sam]  \n",
    "                            )\n"
   ]
  },
  {
   "cell_type": "markdown",
   "id": "28faf6d9",
   "metadata": {},
   "source": [
    "Get the fractional abundance for each gene"
   ]
  },
  {
   "cell_type": "code",
   "execution_count": 40,
   "id": "38b0801c",
   "metadata": {},
   "outputs": [],
   "source": [
    "dict_targettax_sel_sz_ptype_ko_sam_frac = defaultdict(\n",
    "    lambda: defaultdict(\n",
    "        lambda: defaultdict(\n",
    "            lambda: defaultdict(\n",
    "                lambda: defaultdict(dict)\n",
    "            )\n",
    "        )\n",
    "    )\n",
    ")\n",
    "for tt, d_sel_sz_ptype_ko_sam_ec in dict_targettax_sel_sz_ptype_ko_sam_ec.items():\n",
    "    for sel, d_sz_ptype_ko_sam_ec in d_sel_sz_ptype_ko_sam_ec.items():\n",
    "        for sz, d_ptype_ko_sam_ec in d_sz_ptype_ko_sam_ec.items():\n",
    "            for ptype, d_ko_sam_ec in d_ptype_ko_sam_ec.items():\n",
    "                # Get total counts for ptype\n",
    "                dict_sam_ptypecounts = dict_targettax_sel_sz_ptype_sam_estcounts[tt][sel][sz][ptype]\n",
    "                for ko, d_sam_ec in d_ko_sam_ec.items():\n",
    "                    for sam, ec in d_sam_ec.items():\n",
    "                        ptypecounts = dict_sam_ptypecounts.get(sam, 0)\n",
    "                        if ptypecounts > 0:\n",
    "                            dict_targettax_sel_sz_ptype_ko_sam_frac[tt][sel][sz][ptype][ko][sam] = ec / ptypecounts\n",
    "                        else:\n",
    "                            dict_targettax_sel_sz_ptype_ko_sam_frac[tt][sel][sz][ptype][ko][sam] = np.nan\n"
   ]
  },
  {
   "cell_type": "markdown",
   "id": "4ffd78da",
   "metadata": {},
   "source": [
    "Build prediction dataframe for each group"
   ]
  },
  {
   "cell_type": "code",
   "execution_count": 41,
   "id": "6c8f8db2",
   "metadata": {},
   "outputs": [],
   "source": [
    "dict_targetax_sel_sz_ptype_preddf = defaultdict(\n",
    "    lambda: defaultdict(\n",
    "        lambda: defaultdict(dict)\n",
    "    )\n",
    ")\n",
    "for tt, d_sel_sz_ptype_ko_sam_frac in dict_targettax_sel_sz_ptype_ko_sam_frac.items():\n",
    "    for sel, dict_sz_ptype_ko_sam_frac in d_sel_sz_ptype_ko_sam_frac.items():\n",
    "        for sz, dict_ptype_ko_sam_frac in dict_sz_ptype_ko_sam_frac.items():\n",
    "            for ptype, dict_ko_sam_frac in dict_ptype_ko_sam_frac.items():\n",
    "                df = pd.DataFrame(dict_ko_sam_frac)\n",
    "                cruises = []\n",
    "                lat_diffs = []\n",
    "                for sam in df.index:\n",
    "                    row_meta = dict_meta[sam]\n",
    "                    lat, cruise = [row_meta[v] for v in ['latitude','cruise']]\n",
    "                    lat = float(lat.strip('deg'))\n",
    "                    _, tzcf = dict_cruise_trans_sal_chl[cruise]\n",
    "                    lat_diff = lat - tzcf\n",
    "                    cruises.append(cruise)\n",
    "                    lat_diffs.append(lat_diff)\n",
    "                df['cruise'] = cruises\n",
    "                df['lat_diff'] = lat_diffs\n",
    "                dict_targetax_sel_sz_ptype_preddf[tt][sel][sz][ptype] = df\n"
   ]
  },
  {
   "cell_type": "markdown",
   "id": "3a11199f",
   "metadata": {},
   "source": [
    "Pick a gene and a target taxon"
   ]
  },
  {
   "cell_type": "code",
   "execution_count": 46,
   "id": "54c44ea1",
   "metadata": {},
   "outputs": [],
   "source": [
    "sel = 'PA'\n",
    "sz = '0.2um'\n",
    "ptype = 'frac_high_north_trl_high_north_'\n",
    "tt = dict_taxname_tax['Chlorophyta'][0]\n",
    "ko = 'K25287'\n",
    "df = dict_targetax_sel_sz_ptype_preddf[tt][sel][sz][ptype]\n",
    "dict_cruise_preddf = {}\n",
    "for cruise in df['cruise'].unique():\n",
    "    df_cruise = df[df['cruise'] == cruise]\n",
    "    dict_cruise_preddf[cruise] = df_cruise[[ko,'lat_diff']]"
   ]
  },
  {
   "cell_type": "markdown",
   "id": "9d13d21e",
   "metadata": {},
   "source": [
    "### Quadratic effect of latitude"
   ]
  },
  {
   "cell_type": "markdown",
   "id": "3bc8ccac",
   "metadata": {},
   "source": [
    "quadratic fit"
   ]
  },
  {
   "cell_type": "code",
   "execution_count": 56,
   "id": "40c2b9e9",
   "metadata": {},
   "outputs": [
    {
     "name": "stdout",
     "output_type": "stream",
     "text": [
      "chack\n",
      "chack\n",
      "chack\n"
     ]
    }
   ],
   "source": [
    "dict_cruise_res = {}\n",
    "for i, (cruise, df) in enumerate(dict_cruise_preddf.items()):\n",
    "    dict_cruise_res[cruise] = frm.fit_many_models(\n",
    "        data=df,\n",
    "        response_cols=[ko],\n",
    "        covariate_cols=['lat_diff'],\n",
    "        poly_cols=['lat_diff'], \n",
    "        poly_degree=2,\n",
    "        iqr_coefficient=10,\n",
    "        perm_test_vars=['lat_diff'], \n",
    "        n_perm=1000, \n",
    "        stat='coef',\n",
    "        random_state=None,\n",
    "        n_jobs=1,\n",
    "    )"
   ]
  },
  {
   "cell_type": "markdown",
   "id": "032453a8",
   "metadata": {},
   "source": [
    "plot quadratic"
   ]
  },
  {
   "cell_type": "code",
   "execution_count": 59,
   "id": "17e2b8e7",
   "metadata": {},
   "outputs": [
    {
     "data": {
      "image/png": "[encoded data removed]",
      "text/plain": [
       "<Figure size 700x200 with 3 Axes>"
      ]
     },
     "metadata": {},
     "output_type": "display_data"
    }
   ],
   "source": [
    "ft = 12\n",
    "fig, axes = plt.subplots(1,3, figsize=(7,2))\n",
    "for i, (cruise, df) in enumerate(dict_cruise_preddf.items()):\n",
    "    _, tzcf = dict_cruise_trans_sal_chl[cruise]\n",
    "    ax = axes[i]\n",
    "    dict_lat_vals = defaultdict(list)\n",
    "    for val, lat in df.values:\n",
    "        dict_lat_vals[lat].append(val)\n",
    "    vals = list(dict_lat_vals.values())\n",
    "    pos = np.array(list(dict_lat_vals.keys())) + tzcf\n",
    "    ax.boxplot(vals, positions=pos)\n",
    "    \n",
    "    dict_res = dict_cruise_res[cruise][ko]\n",
    "    # Plot curves\n",
    "    const, ld, ld2 = [dict_res['model'][c] for c in ['const','lat_diff','lat_diff^2']]\n",
    "    crs = 0\n",
    "    # if not cruise == 'G1':\n",
    "    #     crs = dict_res['model'][f'GRADIENTS_{cruise}']\n",
    "    x = np.linspace(-10,4,100)\n",
    "    # y = np.exp(const + ld*x + ld2*x**2 + ld3*x**3 + crs)\n",
    "    y = np.exp(const + ld*x + ld2*x**2 + crs)\n",
    "    x_tzcf = x + tzcf\n",
    "    ax.plot(x_tzcf, y, 'k')\n",
    "\n",
    "    # Plot tzcf\n",
    "    ylims = ax.get_ylim()\n",
    "    ax.plot([tzcf]*2, ylims, 'g', alpha=0.3, lw=5)\n",
    "    if i == 0:\n",
    "        ax.text(tzcf, ylims[1], 'TZCF', color='g',alpha=0.5, fontsize=ft, va='top', ha='left')\n",
    "\n",
    "    x = np.arange(25,45,5)\n",
    "    ax.set_xticks(x)\n",
    "    xticklabels = x\n",
    "    ax.set_xticklabels(xticklabels)\n",
    "    ax.set_xlim(20,45)\n",
    "    # ax.set_title(cruise, size=ft)\n",
    "    ax.tick_params(axis='both',direction=\"in\", labelsize=ft)\n",
    "\n",
    "    p = dict_res['perm_pvalues']['p_value']['lr_stat']\n",
    "    sscrpt = [1,2]\n",
    "    text = f'β$_{{1}}$ = {round(ld,3)}\\nβ$_{{2}}$ = {round(ld2,3)}\\np = {round(p,3)}'\n",
    "    # ax.yaxis.set_label_position(\"right\")\n",
    "    # ax.set_ylabel(text, rotation=0, fontsize=ft, ha='left', va='center')\n",
    "\n",
    "    ax.set_title(f'Cruise {cruise}\\n{text}')\n",
    "\n",
    "    if i == 0:\n",
    "        ax.set_ylabel('desE fraction of\\nChlorophyta reads', rotation=0, va='center', ha='right')\n",
    "\n",
    "plt.subplots_adjust(wspace=0.6, hspace=0.3)\n"
   ]
  },
  {
   "cell_type": "markdown",
   "id": "e6340360",
   "metadata": {},
   "source": [
    "### Smoothing spline"
   ]
  },
  {
   "cell_type": "markdown",
   "id": "ac94eb00",
   "metadata": {},
   "source": [
    "fit spline"
   ]
  },
  {
   "cell_type": "code",
   "execution_count": 88,
   "id": "9d00dd52",
   "metadata": {},
   "outputs": [],
   "source": [
    "from scipy.interpolate import make_smoothing_spline\n",
    "\n",
    "dict_cruise_spl = {}\n",
    "for i, (cruise, df) in enumerate(dict_cruise_preddf.items()):\n",
    "    dict_lat_vals = defaultdict(list)\n",
    "    for val, lat in df.values:\n",
    "        dict_lat_vals[lat].append(val)\n",
    "    vals = list(dict_lat_vals.values())\n",
    "    lats = list(dict_lat_vals.keys())\n",
    "    y = [np.median(v) for v in vals]\n",
    "    vrs = np.array([np.var(v) for v in vals])\n",
    "    mnv = np.min(vrs[vrs > 0]) / 10\n",
    "    vrs[vrs == 0] = mnv\n",
    "    weights = -np.log(vrs)\n",
    "    \n",
    "    w = [x for _, x in sorted(zip(lats, weights))]\n",
    "    x = np.array(sorted(lats)) + tzcf\n",
    "    y = [x for _, x in sorted(zip(lats, y))]\n",
    "    dict_cruise_spl[cruise] = make_smoothing_spline(x,y, w, lam=25)"
   ]
  },
  {
   "cell_type": "markdown",
   "id": "fa6f3a42",
   "metadata": {},
   "source": [
    "plot quadratic"
   ]
  },
  {
   "cell_type": "code",
   "execution_count": 89,
   "id": "293f07c8",
   "metadata": {},
   "outputs": [
    {
     "data": {
      "image/png": "[encoded data removed]",
      "text/plain": [
       "<Figure size 700x200 with 3 Axes>"
      ]
     },
     "metadata": {},
     "output_type": "display_data"
    }
   ],
   "source": [
    "ft = 12\n",
    "fig, axes = plt.subplots(1,3, figsize=(7,2))\n",
    "for i, (cruise, df) in enumerate(dict_cruise_preddf.items()):\n",
    "    _, tzcf = dict_cruise_trans_sal_chl[cruise]\n",
    "    ax = axes[i]\n",
    "    dict_lat_vals = defaultdict(list)\n",
    "    for val, lat in df.values:\n",
    "        dict_lat_vals[lat].append(val)\n",
    "    vals = list(dict_lat_vals.values())\n",
    "    pos = np.array(list(dict_lat_vals.keys())) + tzcf\n",
    "    ax.boxplot(vals, positions=pos)\n",
    "    \n",
    "    spl = dict_cruise_spl[cruise]\n",
    "    # Plot curves\n",
    "    # const, ld, ld2 = [dict_res['model'][c] for c in ['const','lat_diff','lat_diff^2']]\n",
    "    # crs = 0\n",
    "    # if not cruise == 'G1':\n",
    "    #     crs = dict_res['model'][f'GRADIENTS_{cruise}']\n",
    "    x = np.linspace(25,40,100)\n",
    "    # y = np.exp(const + ld*x + ld2*x**2 + ld3*x**3 + crs)\n",
    "    y = spl(x)\n",
    "    ax.plot(x, y, 'k')\n",
    "\n",
    "    # Plot tzcf\n",
    "    ylims = ax.get_ylim()\n",
    "    ax.plot([tzcf]*2, ylims, 'g', alpha=0.3, lw=5)\n",
    "    if i == 0:\n",
    "        ax.text(tzcf, ylims[1], 'TZCF', color='g',alpha=0.5, fontsize=ft, va='top', ha='left')\n",
    "\n",
    "    x = np.arange(25,45,5)\n",
    "    ax.set_xticks(x)\n",
    "    xticklabels = x\n",
    "    ax.set_xticklabels(xticklabels)\n",
    "    ax.set_xlim(20,45)\n",
    "    # ax.set_title(cruise, size=ft)\n",
    "    ax.tick_params(axis='both',direction=\"in\", labelsize=ft)\n",
    "\n",
    "    # p = dict_res['perm_pvalues']['p_value']['lr_stat']\n",
    "    # sscrpt = [1,2]\n",
    "    # text = f'β$_{{1}}$ = {round(ld,3)}\\nβ$_{{2}}$ = {round(ld2,3)}\\np = {round(p,3)}'\n",
    "    # ax.yaxis.set_label_position(\"right\")\n",
    "    # ax.set_ylabel(text, rotation=0, fontsize=ft, ha='left', va='center')\n",
    "\n",
    "    ax.set_title(f'Cruise {cruise}')\n",
    "\n",
    "    if i == 0:\n",
    "        ax.set_ylabel('desE fraction of\\nChlorophyta reads', rotation=0, va='center', ha='right')\n",
    "\n",
    "plt.subplots_adjust(wspace=0.6, hspace=0.3)\n"
   ]
  },
  {
   "cell_type": "markdown",
   "id": "7b5f37f7",
   "metadata": {},
   "source": [
    "### Gaussian process regression"
   ]
  },
  {
   "cell_type": "markdown",
   "id": "d58de8f2",
   "metadata": {},
   "source": [
    "fit spline"
   ]
  },
  {
   "cell_type": "code",
   "execution_count": 102,
   "id": "635426ed",
   "metadata": {},
   "outputs": [
    {
     "data": {
      "text/plain": [
       "np.float64(0.00016274169974036612)"
      ]
     },
     "execution_count": 102,
     "metadata": {},
     "output_type": "execute_result"
    }
   ],
   "source": [
    "np.ptp(y_train)"
   ]
  },
  {
   "cell_type": "code",
   "execution_count": 117,
   "id": "266dd01d",
   "metadata": {},
   "outputs": [
    {
     "name": "stderr",
     "output_type": "stream",
     "text": [
      "/opt/conda/lib/python3.10/site-packages/sklearn/gaussian_process/_gpr.py:663: ConvergenceWarning: lbfgs failed to converge after 2 iteration(s) (status=2):\n",
      "ABNORMAL: \n",
      "\n",
      "You might also want to scale the data as shown in:\n",
      "    https://scikit-learn.org/stable/modules/preprocessing.html\n",
      "  _check_optimize_result(\"lbfgs\", opt_res)\n",
      "/opt/conda/lib/python3.10/site-packages/sklearn/gaussian_process/_gpr.py:663: ConvergenceWarning: lbfgs failed to converge after 4 iteration(s) (status=2):\n",
      "ABNORMAL: \n",
      "\n",
      "You might also want to scale the data as shown in:\n",
      "    https://scikit-learn.org/stable/modules/preprocessing.html\n",
      "  _check_optimize_result(\"lbfgs\", opt_res)\n",
      "/opt/conda/lib/python3.10/site-packages/sklearn/gaussian_process/_gpr.py:663: ConvergenceWarning: lbfgs failed to converge after 3 iteration(s) (status=2):\n",
      "ABNORMAL: \n",
      "\n",
      "You might also want to scale the data as shown in:\n",
      "    https://scikit-learn.org/stable/modules/preprocessing.html\n",
      "  _check_optimize_result(\"lbfgs\", opt_res)\n",
      "/opt/conda/lib/python3.10/site-packages/sklearn/gaussian_process/kernels.py:450: ConvergenceWarning: The optimal value found for dimension 0 of parameter k1__constant_value is close to the specified upper bound 100000.0. Increasing the bound and calling fit again may find a better value.\n",
      "  warnings.warn(\n",
      "/opt/conda/lib/python3.10/site-packages/sklearn/gaussian_process/kernels.py:450: ConvergenceWarning: The optimal value found for dimension 0 of parameter k1__constant_value is close to the specified upper bound 100000.0. Increasing the bound and calling fit again may find a better value.\n",
      "  warnings.warn(\n",
      "/opt/conda/lib/python3.10/site-packages/sklearn/gaussian_process/kernels.py:440: ConvergenceWarning: The optimal value found for dimension 0 of parameter k1__constant_value is close to the specified lower bound 1e-05. Decreasing the bound and calling fit again may find a better value.\n",
      "  warnings.warn(\n"
     ]
    }
   ],
   "source": [
    "from sklearn.gaussian_process import GaussianProcessRegressor\n",
    "from sklearn.gaussian_process.kernels import RBF\n",
    "from sklearn.gaussian_process.kernels import RBF, ConstantKernel\n",
    "\n",
    "\n",
    "dict_cruise_gpr = {}\n",
    "for i, (cruise, df) in enumerate(dict_cruise_preddf.items()):\n",
    "    _, tzcf = dict_cruise_trans_sal_chl[cruise]\n",
    "    X_train = df[['lat_diff']].values + tzcf\n",
    "    y_train = df[[ko]].values\n",
    "    rngy = np.ptp(y_train)\n",
    "    kernel = rngy * RBF(length_scale=10.0, length_scale_bounds='fixed')\n",
    "\n",
    "    gp = GaussianProcessRegressor(kernel=kernel, n_restarts_optimizer=10)\n",
    "\n",
    "    gp.fit(X_train, y_train)\n",
    "    dict_cruise_gpr[cruise] = gp"
   ]
  },
  {
   "cell_type": "markdown",
   "id": "1574c310",
   "metadata": {},
   "source": [
    "plot gaussian process regression"
   ]
  },
  {
   "cell_type": "code",
   "execution_count": 116,
   "id": "db7e5746",
   "metadata": {},
   "outputs": [
    {
     "name": "stderr",
     "output_type": "stream",
     "text": [
      "/opt/conda/lib/python3.10/site-packages/sklearn/gaussian_process/_gpr.py:481: UserWarning: Predicted variances smaller than 0. Setting those variances to 0.\n",
      "  warnings.warn(\n"
     ]
    },
    {
     "data": {
      "image/png": "[encoded data removed]",
      "text/plain": [
       "<Figure size 700x200 with 3 Axes>"
      ]
     },
     "metadata": {},
     "output_type": "display_data"
    }
   ],
   "source": [
    "ft = 12\n",
    "fig, axes = plt.subplots(1,3, figsize=(7,2))\n",
    "for i, (cruise, df) in enumerate(dict_cruise_preddf.items()):\n",
    "    _, tzcf = dict_cruise_trans_sal_chl[cruise]\n",
    "    ax = axes[i]\n",
    "    dict_lat_vals = defaultdict(list)\n",
    "    for val, lat in df.values:\n",
    "        dict_lat_vals[lat].append(val)\n",
    "    vals = list(dict_lat_vals.values())\n",
    "    pos = np.array(list(dict_lat_vals.keys())) + tzcf\n",
    "    ax.boxplot(vals, positions=pos)\n",
    "    \n",
    "    gpr = dict_cruise_gpr[cruise]\n",
    "    # Plot curves\n",
    "    # const, ld, ld2 = [dict_res['model'][c] for c in ['const','lat_diff','lat_diff^2']]\n",
    "    # crs = 0\n",
    "    # if not cruise == 'G1':\n",
    "    #     crs = dict_res['model'][f'GRADIENTS_{cruise}']\n",
    "    x = np.linspace(25,40,100)\n",
    "    # y = np.exp(const + ld*x + ld2*x**2 + ld3*x**3 + crs)\n",
    "    y, sigma = gpr.predict(x[:,None], return_std=True)\n",
    "    ax.plot(x, y, 'k')\n",
    "\n",
    "    # Plot tzcf\n",
    "    ylims = ax.get_ylim()\n",
    "    ax.plot([tzcf]*2, ylims, 'g', alpha=0.3, lw=5)\n",
    "    if i == 0:\n",
    "        ax.text(tzcf, ylims[1], 'TZCF', color='g',alpha=0.5, fontsize=ft, va='top', ha='left')\n",
    "\n",
    "    x = np.arange(25,45,5)\n",
    "    ax.set_xticks(x)\n",
    "    xticklabels = x\n",
    "    ax.set_xticklabels(xticklabels)\n",
    "    ax.set_xlim(20,45)\n",
    "    # ax.set_title(cruise, size=ft)\n",
    "    ax.tick_params(axis='both',direction=\"in\", labelsize=ft)\n",
    "\n",
    "    # p = dict_res['perm_pvalues']['p_value']['lr_stat']\n",
    "    # sscrpt = [1,2]\n",
    "    # text = f'β$_{{1}}$ = {round(ld,3)}\\nβ$_{{2}}$ = {round(ld2,3)}\\np = {round(p,3)}'\n",
    "    # ax.yaxis.set_label_position(\"right\")\n",
    "    # ax.set_ylabel(text, rotation=0, fontsize=ft, ha='left', va='center')\n",
    "\n",
    "    ax.set_title(f'Cruise {cruise}')\n",
    "\n",
    "    if i == 0:\n",
    "        ax.set_ylabel('desE fraction of\\nChlorophyta reads', rotation=0, va='center', ha='right')\n",
    "\n",
    "plt.subplots_adjust(wspace=0.6, hspace=0.3)\n"
   ]
  },
  {
   "cell_type": "code",
   "execution_count": 109,
   "id": "54920b94",
   "metadata": {},
   "outputs": [
    {
     "data": {
      "text/plain": [
       "array([ 3.99006140e-14,  2.39213972e-11,  4.23330862e-09,  2.21136150e-07,\n",
       "        3.40977703e-06,  1.55195328e-05,  2.08505602e-05,  8.26881427e-06,\n",
       "        9.67955007e-07,  3.34467196e-08,  3.41144450e-10,  1.02709240e-12,\n",
       "        9.12782169e-16,  2.39447994e-19,  1.85413640e-23,  4.23797689e-28,\n",
       "        2.85931440e-33,  5.69444848e-39,  1.37326870e-40,  8.56800672e-35,\n",
       "        1.57797852e-29,  8.57844955e-25,  1.37658470e-20,  6.52053906e-17,\n",
       "        9.11696918e-14,  3.76273729e-11,  4.58399074e-09,  1.64842803e-07,\n",
       "        1.74977688e-06,  5.48253963e-06,  5.07069292e-06,  1.38432884e-06,\n",
       "        1.11557210e-07,  2.65364272e-09,  1.86326093e-11,  3.86181379e-14,\n",
       "        2.36262832e-17,  4.21218738e-21, -2.25278769e-20, -2.75121360e-18,\n",
       "       -9.91768656e-17, -1.05527233e-15, -3.16010061e-15,  1.55075541e-13,\n",
       "        4.77588163e-11,  4.25738724e-09,  1.12024121e-07,  8.70094357e-07,\n",
       "        1.99483777e-06,  1.35000451e-06,  2.69678467e-07,  1.58840991e-08,\n",
       "        2.27210264e-10, -3.92580674e-11, -9.85206799e-12, -7.04609850e-13,\n",
       "       -1.48717671e-14, -9.26535953e-17, -1.70391685e-19, -9.24955722e-23,\n",
       "       -1.48210821e-26, -7.01482566e-31, -9.12611194e-29, -5.22119572e-24,\n",
       "       -8.81440306e-20, -4.38814391e-16, -6.43057878e-13, -2.75952202e-10,\n",
       "       -3.41420106e-08, -1.15819514e-06, -8.67115799e-06,  1.15148633e-05,\n",
       "        1.22457105e-04,  1.26261125e-04,  3.27170422e-05,  2.39141349e-06,\n",
       "        2.78119665e-07,  6.13202468e-06,  4.88016600e-05,  1.14650009e-04,\n",
       "        7.95060212e-05,  1.62746768e-05,  9.83356850e-07,  1.75386575e-08,\n",
       "        9.23353439e-11,  1.43494028e-13,  9.25004579e-15,  9.65183017e-12,\n",
       "        2.99407934e-09,  2.74159540e-07,  7.41019854e-06,  5.91211332e-05,\n",
       "        1.39232968e-04,  9.67894083e-05,  1.98609504e-05,  1.20331090e-06,\n",
       "        7.03065651e-08,  2.12804706e-06,  2.73903192e-05,  1.04069278e-04])"
      ]
     },
     "execution_count": 109,
     "metadata": {},
     "output_type": "execute_result"
    }
   ],
   "source": [
    "y"
   ]
  },
  {
   "cell_type": "code",
   "execution_count": null,
   "id": "1c2b24da",
   "metadata": {},
   "outputs": [],
   "source": []
  }
 ],
 "metadata": {
  "kernelspec": {
   "display_name": "Python 3 (ipykernel)",
   "language": "python",
   "name": "python3"
  },
  "language_info": {
   "codemirror_mode": {
    "name": "ipython",
    "version": 3
   },
   "file_extension": ".py",
   "mimetype": "text/x-python",
   "name": "python",
   "nbconvert_exporter": "python",
   "pygments_lexer": "ipython3",
   "version": "3.10.14"
  }
 },
 "nbformat": 4,
 "nbformat_minor": 5
}
