{
 "cells": [
  {
   "cell_type": "markdown",
   "metadata": {},
   "source": [
    "# Work out how to deal with taxonomy\n",
    "\n",
    "Given contigs with taxonomy and KOs of interest, wth"
   ]
  },
  {
   "cell_type": "markdown",
   "metadata": {},
   "source": [
    "## Setup"
   ]
  },
  {
   "cell_type": "code",
   "execution_count": 1,
   "metadata": {},
   "outputs": [
    {
     "name": "stderr",
     "output_type": "stream",
     "text": [
      "/opt/conda/lib/python3.10/site-packages/tqdm/auto.py:21: TqdmWarning: IProgress not found. Please update jupyter and ipywidgets. See https://ipywidgets.readthedocs.io/en/stable/user_install.html\n",
      "  from .autonotebook import tqdm as notebook_tqdm\n"
     ]
    }
   ],
   "source": [
    "import os \n",
    "import gc\n",
    "import re\n",
    "import glob\n",
    "import math\n",
    "import umap\n",
    "import json\n",
    "import itertools\n",
    "import numpy as np\n",
    "import pandas as pd\n",
    "from time import time\n",
    "from tqdm import tqdm\n",
    "from scipy import stats\n",
    "from collections import * \n",
    "from sklearn import cluster\n",
    "from sklearn import decomposition\n",
    "from ete4 import NCBITaxa, Tree\n",
    "import matplotlib.pyplot as plt\n",
    "import matplotlib.colors as pltc\n",
    "from scipy.spatial import distance\n",
    "from scipy.cluster import hierarchy\n",
    "from matplotlib.lines import Line2D\n",
    "import matplotlib.patches as mpatches\n"
   ]
  },
  {
   "cell_type": "code",
   "execution_count": 2,
   "metadata": {},
   "outputs": [],
   "source": [
    "import sys\n",
    "sys.path.append('../repo-armbrust-metat-search')"
   ]
  },
  {
   "cell_type": "code",
   "execution_count": 9,
   "metadata": {},
   "outputs": [],
   "source": [
    "import functions.fn_metat_files as fnf"
   ]
  },
  {
   "cell_type": "code",
   "execution_count": 3,
   "metadata": {},
   "outputs": [],
   "source": [
    "%load_ext autoreload\n",
    "%autoreload 2"
   ]
  },
  {
   "cell_type": "code",
   "execution_count": 4,
   "metadata": {},
   "outputs": [
    {
     "data": {
      "text/plain": [
       "'/scratch/bgrodner/iron_ko_contigs'"
      ]
     },
     "execution_count": 4,
     "metadata": {},
     "output_type": "execute_result"
    }
   ],
   "source": [
    "os.getcwd()"
   ]
  },
  {
   "cell_type": "code",
   "execution_count": 5,
   "metadata": {},
   "outputs": [],
   "source": [
    "workdir = '/scratch/bgrodner/iron_ko_contigs'\n",
    "os.chdir(workdir)\n"
   ]
  },
  {
   "cell_type": "code",
   "execution_count": 6,
   "metadata": {},
   "outputs": [
    {
     "data": {
      "text/plain": [
       "'/scratch/bgrodner/iron_ko_contigs'"
      ]
     },
     "execution_count": 6,
     "metadata": {},
     "output_type": "execute_result"
    }
   ],
   "source": [
    "os.getcwd()"
   ]
  },
  {
   "cell_type": "markdown",
   "metadata": {},
   "source": []
  },
  {
   "cell_type": "code",
   "execution_count": 7,
   "metadata": {},
   "outputs": [
    {
     "data": {
      "text/plain": [
       "['config.yaml',\n",
       " 'sc_run_snakemake.sh',\n",
       " '._.DS_Store',\n",
       " 'file_table.240107.kofam_filt.csv',\n",
       " 'apptainer_home',\n",
       " 'file_table.240109.kofam_filt.csv',\n",
       " 'file_table_new.csv',\n",
       " '._file_table.240109.kofam_filt.csv',\n",
       " 'file_table.test.csv',\n",
       " 'jupyter_home',\n",
       " '._file_table.240107.kofam_filt.csv',\n",
       " 'ko00001.json',\n",
       " '._file_table_new.csv',\n",
       " 'file_table.240114.kofam_filt.csv',\n",
       " 'metat_search_results',\n",
       " '._file_table.csv',\n",
       " 'file_table.240113.kofam_filt.csv',\n",
       " 'file_table.240107.kofam_unfilt.csv',\n",
       " '._file_table.240108.kofam_filt.csv',\n",
       " 'kofam_filenames.txt',\n",
       " '.etetoolkit',\n",
       " 'iron_contigs.txt',\n",
       " '.DS_Store',\n",
       " 'iron_KOs.txt',\n",
       " 'file_table.240108.kofam_filt.csv',\n",
       " 'file_table.csv',\n",
       " '._file_table.240107.kofam_unfilt.csv',\n",
       " '._plt_KO_contig_counts.png',\n",
       " '._file_table.test.csv',\n",
       " '._file_table.240113.kofam_filt.csv',\n",
       " '._file_table.240114.kofam_filt.csv',\n",
       " '.snakemake']"
      ]
     },
     "execution_count": 7,
     "metadata": {},
     "output_type": "execute_result"
    }
   ],
   "source": [
    "os.listdir()"
   ]
  },
  {
   "cell_type": "markdown",
   "metadata": {},
   "source": [
    "Plotting"
   ]
  },
  {
   "cell_type": "code",
   "execution_count": 8,
   "metadata": {},
   "outputs": [],
   "source": [
    "def general_plot(\n",
    "    xlabel=\"\", ylabel=\"\", ft=12, dims=(5, 3), col=\"k\", lw=1, pad=0, tr_spines=True\n",
    "):\n",
    "    fig, ax = plt.subplots(figsize=(dims[0], dims[1]), tight_layout={\"pad\": pad})\n",
    "    for i in ax.spines:\n",
    "        ax.spines[i].set_linewidth(lw)\n",
    "    if not tr_spines:\n",
    "        ax.spines[\"top\"].set_visible(False)\n",
    "        ax.spines[\"right\"].set_visible(False)\n",
    "    else:\n",
    "        ax.spines[\"top\"].set_color(col)\n",
    "        ax.spines[\"right\"].set_color(col)\n",
    "    ax.spines[\"bottom\"].set_color(col)\n",
    "    ax.spines[\"left\"].set_color(col)\n",
    "    ax.tick_params(direction=\"in\", labelsize=ft, color=col, labelcolor=col)\n",
    "    ax.set_xlabel(xlabel, fontsize=ft, color=col)\n",
    "    ax.set_ylabel(ylabel, fontsize=ft, color=col)\n",
    "    ax.patch.set_alpha(0)\n",
    "    return (fig, ax)\n",
    "\n",
    "def plot_umap(\n",
    "    embedding,\n",
    "    figsize=(10, 10),\n",
    "    markersize=10,\n",
    "    alpha=0.5,\n",
    "    colors=\"k\",\n",
    "    xticks=[],\n",
    "    yticks=[],\n",
    "    markerstyle='o',\n",
    "    cmap_name='tab20',\n",
    "    cl_lab=False\n",
    "):\n",
    "    fig, ax = general_plot(dims=figsize)\n",
    "    if isinstance(markerstyle, str):\n",
    "        ax.scatter(\n",
    "            embedding[:, 0],\n",
    "            embedding[:, 1],\n",
    "            s=markersize,\n",
    "            alpha=alpha,\n",
    "            c=colors,\n",
    "            edgecolors=\"none\",\n",
    "            marker=markerstyle,\n",
    "            cmap=cmap_name\n",
    "        )\n",
    "    else:\n",
    "        for e0, e1, c, m in zip(\n",
    "            embedding[:, 0], \n",
    "            embedding[:, 1],\n",
    "            colors,\n",
    "            markerstyle \n",
    "        ):\n",
    "            ax.scatter(\n",
    "                e0,\n",
    "                e1,\n",
    "                s=markersize,\n",
    "                alpha=alpha,\n",
    "                c=c,\n",
    "                edgecolors=\"none\",\n",
    "                marker=m\n",
    "            )\n",
    "    ax.set_aspect(\"equal\")\n",
    "    if len(xticks) > 0:\n",
    "        ax.set_xticks(xticks)\n",
    "    if len(yticks) > 0:\n",
    "        ax.set_yticks(yticks)\n",
    "    ax.set_xlabel(\"UMAP 1\")\n",
    "    ax.set_ylabel(\"UMAP 2\")\n",
    "    return fig, ax\n"
   ]
  },
  {
   "cell_type": "markdown",
   "metadata": {},
   "source": [
    "#### Get KO dict"
   ]
  },
  {
   "cell_type": "markdown",
   "metadata": {},
   "source": [
    "Get dataframe"
   ]
  },
  {
   "cell_type": "code",
   "execution_count": null,
   "metadata": {},
   "outputs": [],
   "source": [
    "ko_fn = \"ko00001.json\"\n",
    "database = list()\n",
    "for _, v in pd.read_json(ko_fn).iterrows():\n",
    "    d = v[\"children\"]\n",
    "    cat_1 = d[\"name\"]\n",
    "    for child_1 in d[\"children\"]:\n",
    "        cat_2 = child_1[\"name\"] # Module?\n",
    "        for child_2 in child_1[\"children\"]:\n",
    "            cat_3 = child_2[\"name\"]\n",
    "            if \"children\" in child_2:\n",
    "                for child_3 in child_2[\"children\"]:\n",
    "                    cat_4 = child_3[\"name\"]\n",
    "                    fields = [cat_1, cat_2, cat_3, cat_4]\n",
    "                    database.append(fields)\n",
    "df_kegg = pd.DataFrame(database, columns=[\"Level_A\", \"Level_B\", \"Level_C\", \"Level_D\"])\n",
    "df_kegg.shape\n"
   ]
  },
  {
   "cell_type": "code",
   "execution_count": null,
   "metadata": {},
   "outputs": [],
   "source": [
    "ld = df_kegg['Level_D'].values\n",
    "ld[:5]"
   ]
  },
  {
   "cell_type": "code",
   "execution_count": 11,
   "metadata": {},
   "outputs": [],
   "source": [
    "dict_ko_name = {}\n",
    "for name in ld:\n",
    "    ko = re.search(r\"^\\w+\",name)[0]\n",
    "    dict_ko_name[ko] = name"
   ]
  },
  {
   "cell_type": "markdown",
   "metadata": {},
   "source": [
    "## Get taxa for ko of interest\n",
    "\n",
    "Load taxa file"
   ]
  },
  {
   "cell_type": "code",
   "execution_count": 118,
   "metadata": {},
   "outputs": [],
   "source": [
    "dir_tax = '/scratch/bgrodner/iron_ko_contigs/metat_search_results/dicts_iron_KO_contig/dicts_contig_tax'\n"
   ]
  },
  {
   "cell_type": "code",
   "execution_count": null,
   "metadata": {},
   "outputs": [],
   "source": [
    "fn = f'{dir_tax}/NPac.G1PA.bf100.id99.aa.best.Kofam.incT30.csv.gz-iron_KOs.txt-df_contig_full_taxonomy.csv'\n",
    "df_tax = pd.read_csv(fn, dtype=str, keep_default_na=False)\n",
    "df_tax.shape"
   ]
  },
  {
   "cell_type": "code",
   "execution_count": null,
   "metadata": {},
   "outputs": [],
   "source": [
    "df_tax.iloc[:3,:5]"
   ]
  },
  {
   "cell_type": "markdown",
   "metadata": {},
   "source": [
    "Load contig taxid dict"
   ]
  },
  {
   "cell_type": "code",
   "execution_count": 119,
   "metadata": {},
   "outputs": [
    {
     "name": "stdout",
     "output_type": "stream",
     "text": [
      "Current memory usage: 4072.27 MB\n",
      "Current memory usage: 4138.23 MB\n"
     ]
    }
   ],
   "source": [
    "fn_dict_contig_tax = f'{dir_tax}/NPac.G1PA.bf100.id99.aa.best.Kofam.incT30.csv.gz-iron_KOs.txt-dict_contig_taxid.json'\n",
    "fnf.getmem()\n",
    "with open(fn_dict_contig_tax, 'r') as f:\n",
    "    dict_contig_tax = json.load(f)\n",
    "fnf.getmem()"
   ]
  },
  {
   "cell_type": "markdown",
   "metadata": {},
   "source": [
    "get dict ko conitgs"
   ]
  },
  {
   "cell_type": "code",
   "execution_count": 120,
   "metadata": {},
   "outputs": [
    {
     "name": "stdout",
     "output_type": "stream",
     "text": [
      "Current memory usage: 4138.24 MB\n",
      "Current memory usage: 4122.24 MB\n"
     ]
    }
   ],
   "source": [
    "dir_ko_dict = '/scratch/bgrodner/iron_ko_contigs/metat_search_results/dicts_iron_KO_contig'\n",
    "fn_dict = f'{dir_ko_dict}/NPac.G1PA.bf100.id99.aa.best.Kofam.incT30.csv.gz-iron_KOs.txt-dict.json'\n",
    "fnf.getmem()\n",
    "with open(fn_dict, 'r') as f:\n",
    "    dict_ko_contigs = json.load(f)\n",
    "fnf.getmem()"
   ]
  },
  {
   "cell_type": "code",
   "execution_count": null,
   "metadata": {},
   "outputs": [],
   "source": [
    "df_tax['contig'][:5], dict_ko_contigs[list(dict_ko_contigs.keys())[0]][:10]"
   ]
  },
  {
   "cell_type": "markdown",
   "metadata": {},
   "source": [
    "KO of interest\n",
    "\n",
    "`KO: K14716  SLC39A10, ZIP10; solute carrier family 39 (zinc transporter), member 10`"
   ]
  },
  {
   "cell_type": "code",
   "execution_count": 118,
   "metadata": {},
   "outputs": [],
   "source": [
    "ko = 'K14716'\n",
    "\n",
    "contigs = dict_ko_contigs[ko]\n",
    "\n",
    "list_tax_ko = []\n",
    "for i, row in df_tax.iterrows():\n",
    "    if row.contig in set(contigs):\n",
    "        list_tax_ko.append(row.values)\n"
   ]
  },
  {
   "cell_type": "code",
   "execution_count": null,
   "metadata": {},
   "outputs": [],
   "source": [
    "df_tax_ko = pd.DataFrame(np.vstack(list_tax_ko), columns=df_tax.columns)\n",
    "df_tax_ko.shape"
   ]
  },
  {
   "cell_type": "markdown",
   "metadata": {},
   "source": [
    "How many contigs are taxon annotated?"
   ]
  },
  {
   "cell_type": "code",
   "execution_count": 120,
   "metadata": {},
   "outputs": [],
   "source": [
    "n_annotated = []\n",
    "for c_vals in df_tax_ko.values[:,1:]:\n",
    "    n_annotated.append(c_vals.astype(bool).sum() / 2)"
   ]
  },
  {
   "cell_type": "code",
   "execution_count": null,
   "metadata": {},
   "outputs": [],
   "source": [
    "fig, ax = general_plot()\n",
    "ax.scatter(np.arange(len(n_annotated)), np.sort(n_annotated))\n",
    "xlims = ax.get_xlim()\n",
    "ax.set_ylabel('Number of taxa levels annotated')\n",
    "ax.set_xlabel('Contig')"
   ]
  },
  {
   "cell_type": "markdown",
   "metadata": {},
   "source": [
    "Display a tree"
   ]
  },
  {
   "cell_type": "code",
   "execution_count": 123,
   "metadata": {},
   "outputs": [],
   "source": [
    "ncbi = NCBITaxa()"
   ]
  },
  {
   "cell_type": "code",
   "execution_count": null,
   "metadata": {},
   "outputs": [],
   "source": [
    "taxids = []\n",
    "for c in contigs:\n",
    "    t = dict_contig_tax[c][0]\n",
    "    if int(t):\n",
    "        try:\n",
    "            ncbi.get_lineage(t)\n",
    "            taxids.append(t)\n",
    "        except:\n",
    "            pass\n",
    "\n",
    "tree = ncbi.get_topology(taxids)\n",
    "# Add counts\n",
    "tax_unq, tax_count = np.unique(taxids, return_counts=True)\n",
    "dict_tax_count = dict(zip(tax_unq, tax_count))\n",
    "for n in tree:\n",
    "    n.add_props(count=dict_tax_count[n.name])\n",
    "\n",
    "print(tree.to_str(props=['sci_name','count']))"
   ]
  },
  {
   "cell_type": "code",
   "execution_count": null,
   "metadata": {},
   "outputs": [],
   "source": [
    "tree = ncbi.get_topology(taxids)\n",
    "\n",
    "tree.descendants"
   ]
  },
  {
   "cell_type": "markdown",
   "metadata": {},
   "source": [
    "KO of interest\n",
    "\n",
    "`KO: K02639  petF; ferredoxin`\n"
   ]
  },
  {
   "cell_type": "code",
   "execution_count": 136,
   "metadata": {},
   "outputs": [],
   "source": [
    "ko = 'K02639'\n",
    "\n",
    "contigs = dict_ko_contigs[ko]\n",
    "\n",
    "list_tax_ko = []\n",
    "for i, row in df_tax.iterrows():\n",
    "    if row.contig in set(contigs):\n",
    "        list_tax_ko.append(row.values)\n"
   ]
  },
  {
   "cell_type": "code",
   "execution_count": null,
   "metadata": {},
   "outputs": [],
   "source": [
    "df_tax_ko = pd.DataFrame(np.vstack(list_tax_ko), columns=df_tax.columns)\n",
    "df_tax_ko.shape"
   ]
  },
  {
   "cell_type": "markdown",
   "metadata": {},
   "source": [
    "How many contigs are taxon annotated?"
   ]
  },
  {
   "cell_type": "code",
   "execution_count": 138,
   "metadata": {},
   "outputs": [],
   "source": [
    "n_annotated = []\n",
    "for c_vals in df_tax_ko.values[:,1:]:\n",
    "    n_annotated.append(c_vals.astype(bool).sum() / 2)"
   ]
  },
  {
   "cell_type": "code",
   "execution_count": null,
   "metadata": {},
   "outputs": [],
   "source": [
    "fig, ax = general_plot()\n",
    "ax.scatter(np.arange(len(n_annotated)), np.sort(n_annotated))\n",
    "xlims = ax.get_xlim()\n",
    "ax.set_ylabel('Number of taxa levels annotated')\n",
    "ax.set_xlabel('Contig')"
   ]
  },
  {
   "cell_type": "markdown",
   "metadata": {},
   "source": [
    "Display tree"
   ]
  },
  {
   "cell_type": "code",
   "execution_count": null,
   "metadata": {},
   "outputs": [],
   "source": [
    "taxids = []\n",
    "for c in contigs:\n",
    "    t = dict_contig_tax[c][0]\n",
    "    if int(t):\n",
    "        try:\n",
    "            ncbi.get_lineage(t)\n",
    "            taxids.append(t)\n",
    "        except:\n",
    "            pass\n",
    "\n",
    "tree = ncbi.get_topology(taxids)\n",
    "# Add counts\n",
    "tax_unq, tax_count = np.unique(taxids, return_counts=True)\n",
    "dict_tax_count = dict(zip(tax_unq, tax_count))\n",
    "for n in tree:\n",
    "    n.add_props(count=dict_tax_count[n.name])\n",
    "\n",
    "print(tree.to_str(props=['sci_name','count'], compact=True))"
   ]
  },
  {
   "cell_type": "markdown",
   "metadata": {},
   "source": [
    "KO of interest\n",
    "\n",
    "`KO: K01624  FBA, fbaA; fructose-bisphosphate aldolase, class II [EC:4.1.2.13]`"
   ]
  },
  {
   "cell_type": "code",
   "execution_count": 167,
   "metadata": {},
   "outputs": [],
   "source": [
    "ko = 'K01624'\n",
    "\n",
    "contigs = dict_ko_contigs[ko]"
   ]
  },
  {
   "cell_type": "code",
   "execution_count": 142,
   "metadata": {},
   "outputs": [],
   "source": [
    "\n",
    "\n",
    "list_tax_ko = []\n",
    "for i, row in df_tax.iterrows():\n",
    "    if row.contig in set(contigs):\n",
    "        list_tax_ko.append(row.values)\n"
   ]
  },
  {
   "cell_type": "code",
   "execution_count": null,
   "metadata": {},
   "outputs": [],
   "source": [
    "df_tax_ko = pd.DataFrame(np.vstack(list_tax_ko), columns=df_tax.columns)\n",
    "df_tax_ko.shape"
   ]
  },
  {
   "cell_type": "markdown",
   "metadata": {},
   "source": [
    "How many contigs are taxon annotated?"
   ]
  },
  {
   "cell_type": "code",
   "execution_count": 144,
   "metadata": {},
   "outputs": [],
   "source": [
    "n_annotated = []\n",
    "for c_vals in df_tax_ko.values[:,1:]:\n",
    "    n_annotated.append(c_vals.astype(bool).sum() / 2)"
   ]
  },
  {
   "cell_type": "code",
   "execution_count": null,
   "metadata": {},
   "outputs": [],
   "source": [
    "fig, ax = general_plot()\n",
    "ax.scatter(np.arange(len(n_annotated)), np.sort(n_annotated))\n",
    "xlims = ax.get_xlim()\n",
    "ax.set_ylabel('Number of taxa levels annotated')\n",
    "ax.set_xlabel('Contig')"
   ]
  },
  {
   "cell_type": "markdown",
   "metadata": {},
   "source": [
    "Display tree"
   ]
  },
  {
   "cell_type": "code",
   "execution_count": null,
   "metadata": {},
   "outputs": [],
   "source": [
    "# Get taxids for KO\n",
    "taxids = []\n",
    "for c in contigs:\n",
    "    t = dict_contig_tax[c][0]\n",
    "    if int(t):\n",
    "        try:\n",
    "            ncbi.get_lineage(t)\n",
    "            taxids.append(t)\n",
    "        except:\n",
    "            pass\n",
    "# Build tree\n",
    "tree = ncbi.get_topology(taxids)\n",
    "# Add counts at each internal node\n",
    "lineages = [ncbi.get_lineage(t) for t in taxids]\n",
    "taxids_lin = list(itertools.chain(*lineages))\n",
    "tax_unq, tax_count = np.unique(taxids_lin, return_counts=True)\n",
    "dict_tax_count = dict(zip(tax_unq, tax_count))\n",
    "for n in tree.traverse():\n",
    "    tax = int(n.name)\n",
    "    n.add_props(count=dict_tax_count[tax])\n",
    "\n",
    "print(tree.to_str(props=['sci_name','count'], compact=True))"
   ]
  },
  {
   "cell_type": "markdown",
   "metadata": {},
   "source": [
    "KO of interest\n",
    "\n",
    "`KO: K03320  amt, AMT, MEP; ammonium transporter, Amt family`"
   ]
  },
  {
   "cell_type": "code",
   "execution_count": 164,
   "metadata": {},
   "outputs": [],
   "source": [
    "ko = 'K03320'\n",
    "\n",
    "contigs = dict_ko_contigs[ko]"
   ]
  },
  {
   "cell_type": "markdown",
   "metadata": {},
   "source": [
    "Get taxon lineage table"
   ]
  },
  {
   "cell_type": "code",
   "execution_count": 147,
   "metadata": {},
   "outputs": [],
   "source": [
    "\n",
    "list_tax_ko = []\n",
    "for i, row in df_tax.iterrows():\n",
    "    if row.contig in set(contigs):\n",
    "        list_tax_ko.append(row.values)\n"
   ]
  },
  {
   "cell_type": "code",
   "execution_count": null,
   "metadata": {},
   "outputs": [],
   "source": [
    "df_tax_ko = pd.DataFrame(np.vstack(list_tax_ko), columns=df_tax.columns)\n",
    "df_tax_ko.shape"
   ]
  },
  {
   "cell_type": "markdown",
   "metadata": {},
   "source": [
    "How many contigs are taxon annotated?"
   ]
  },
  {
   "cell_type": "code",
   "execution_count": 149,
   "metadata": {},
   "outputs": [],
   "source": [
    "n_annotated = []\n",
    "for c_vals in df_tax_ko.values[:,1:]:\n",
    "    n_annotated.append(c_vals.astype(bool).sum() / 2)"
   ]
  },
  {
   "cell_type": "code",
   "execution_count": null,
   "metadata": {},
   "outputs": [],
   "source": [
    "fig, ax = general_plot()\n",
    "ax.scatter(np.arange(len(n_annotated)), np.sort(n_annotated))\n",
    "xlims = ax.get_xlim()\n",
    "ax.set_ylabel('Number of taxa levels annotated')\n",
    "ax.set_xlabel('Contig')"
   ]
  },
  {
   "cell_type": "markdown",
   "metadata": {},
   "source": [
    "Display tree"
   ]
  },
  {
   "cell_type": "code",
   "execution_count": null,
   "metadata": {},
   "outputs": [],
   "source": [
    "# Get taxids for KO\n",
    "taxids = []\n",
    "for c in contigs:\n",
    "    t = dict_contig_tax[c][0]\n",
    "    if int(t):\n",
    "        try:\n",
    "            ncbi.get_lineage(t)\n",
    "            taxids.append(t)\n",
    "        except:\n",
    "            pass\n",
    "# Build tree\n",
    "tree = ncbi.get_topology(taxids)\n",
    "# Add counts at each internal node\n",
    "lineages = [ncbi.get_lineage(t) for t in taxids]\n",
    "taxids_lin = list(itertools.chain(*lineages))\n",
    "tax_unq, tax_count = np.unique(taxids_lin, return_counts=True)\n",
    "dict_tax_count = dict(zip(tax_unq, tax_count))\n",
    "for n in tree.traverse():\n",
    "    tax = int(n.name)\n",
    "    n.add_props(count=dict_tax_count[tax])\n",
    "\n",
    "print(tree.to_str(props=['sci_name','count'], compact=True))"
   ]
  },
  {
   "cell_type": "markdown",
   "metadata": {},
   "source": [
    "## Pick taxonomic levels with counts across multiple samples"
   ]
  },
  {
   "cell_type": "markdown",
   "metadata": {},
   "source": [
    "Get full taxonomic tree"
   ]
  },
  {
   "cell_type": "code",
   "execution_count": 139,
   "metadata": {},
   "outputs": [
    {
     "data": {
      "text/plain": [
       "745"
      ]
     },
     "execution_count": 139,
     "metadata": {},
     "output_type": "execute_result"
    }
   ],
   "source": [
    "# full tax list\n",
    "taxids_all = []\n",
    "for t in dict_contig_tax.values():\n",
    "    t = t[0]\n",
    "    if int(t):\n",
    "        try:\n",
    "            ncbi.get_lineage(t)\n",
    "            taxids_all.append(t)\n",
    "        except:\n",
    "            pass\n",
    "\n",
    "set_taxids = set(taxids_all)\n",
    "len(set_taxids)"
   ]
  },
  {
   "cell_type": "code",
   "execution_count": null,
   "metadata": {},
   "outputs": [],
   "source": [
    "tree = ncbi.get_topology(set_taxids)\n",
    "print(tree.to_str(props=['name', 'sci_name'], compact=True))"
   ]
  },
  {
   "cell_type": "markdown",
   "metadata": {},
   "source": [
    "Get dict taxid -> contig list (for full lineage)"
   ]
  },
  {
   "cell_type": "code",
   "execution_count": 140,
   "metadata": {},
   "outputs": [],
   "source": [
    "dict_tax_contigs = defaultdict(list)\n",
    "for c, t in dict_contig_tax.items():\n",
    "    if t[0] in set_taxids:\n",
    "        lin = ncbi.get_lineage(t[0])\n",
    "        for l in lin:\n",
    "            dict_tax_contigs[l].append(c)"
   ]
  },
  {
   "cell_type": "markdown",
   "metadata": {},
   "source": [
    "Get dict contig -> KO"
   ]
  },
  {
   "cell_type": "code",
   "execution_count": 133,
   "metadata": {},
   "outputs": [],
   "source": [
    "dict_contig_ko = {}\n",
    "for ko, contigs in dict_ko_contigs.items():\n",
    "    for c in contigs:\n",
    "        dict_contig_ko[c] = ko"
   ]
  },
  {
   "cell_type": "markdown",
   "metadata": {},
   "source": [
    "### Pick an example leaf"
   ]
  },
  {
   "cell_type": "code",
   "execution_count": 304,
   "metadata": {},
   "outputs": [],
   "source": [
    "leaf = 637379  # T. oceanica\n"
   ]
  },
  {
   "cell_type": "markdown",
   "metadata": {},
   "source": [
    "For a given taxid, get number of different KOs"
   ]
  },
  {
   "cell_type": "code",
   "execution_count": null,
   "metadata": {},
   "outputs": [],
   "source": [
    "contigs = dict_tax_contigs[leaf]\n",
    "kos = [dict_contig_ko[c] for c in contigs]\n",
    "set_kos = set(kos)\n",
    "set_kos, len(contigs), len(set(contigs))"
   ]
  },
  {
   "cell_type": "markdown",
   "metadata": {},
   "source": [
    "Get dict contig -> sample counts"
   ]
  },
  {
   "cell_type": "code",
   "execution_count": 306,
   "metadata": {},
   "outputs": [],
   "source": [
    "# Get list of sample names\n",
    "dir_counts = '/scratch/bgrodner/iron_ko_contigs/metat_search_results/dicts_iron_KO_contig/dicts_contig_count/tables_norm_count/NPac.G1PA.bf100.id99.aa.best.Kofam.incT30.csv.gz-iron_KOs.txt-tables_norm_count'\n",
    "glob_fn = f'{dir_counts}/*.tsv-table_norm_count.csv'\n",
    "fns = glob.glob(glob_fn)\n",
    "dict_contig_counts = defaultdict(list)\n",
    "samples = []\n",
    "for fn in fns:\n",
    "    if '_3um' in fn:\n",
    "        samples.append(re.search(r'(?<=.tar.gz).+(?=\\.tsv-)', fn)[0])\n",
    "        # Load counts\n",
    "        df = pd.read_csv(fn)\n",
    "        ctg = df.iloc[:,0].values\n",
    "        cnt = df.iloc[:,1].values\n",
    "        dict_ctg_cnt = dict(zip(ctg, cnt))\n",
    "        for c in contigs:\n",
    "            c_ = re.sub(r'_\\d+$','',c)\n",
    "            # map contig to counts\n",
    "            dict_contig_counts[c].append(dict_ctg_cnt[c_])"
   ]
  },
  {
   "cell_type": "markdown",
   "metadata": {},
   "source": [
    "Build out dataframe"
   ]
  },
  {
   "cell_type": "code",
   "execution_count": null,
   "metadata": {},
   "outputs": [],
   "source": [
    "df_taxid = pd.DataFrame(0, columns=list(set_kos), index=samples)\n",
    "for c in contigs:\n",
    "    ko = dict_contig_ko[c]\n",
    "    df_taxid[ko] += np.array(dict_contig_counts[c])\n",
    "\n",
    "df_taxid"
   ]
  },
  {
   "cell_type": "code",
   "execution_count": null,
   "metadata": {},
   "outputs": [],
   "source": [
    "set(dict_ko_contigs['K01726']).intersection(set(contigs))"
   ]
  },
  {
   "cell_type": "markdown",
   "metadata": {},
   "source": [
    "### Walk up through the lineage of the leaf"
   ]
  },
  {
   "cell_type": "code",
   "execution_count": null,
   "metadata": {},
   "outputs": [],
   "source": [
    "dir_counts = '/scratch/bgrodner/iron_ko_contigs/metat_search_results/dicts_iron_KO_contig/dicts_contig_count/tables_norm_count/NPac.G1PA.bf100.id99.aa.best.Kofam.incT30.csv.gz-iron_KOs.txt-tables_norm_count'\n",
    "glob_fn = f'{dir_counts}/*.tsv-table_norm_count.csv'\n",
    "fns = glob.glob(glob_fn)\n",
    "dfs = {}\n",
    "# Get leaf\n",
    "print(leaf)\n",
    "# Kos and contigs\n",
    "contigs = dict_tax_contigs[leaf]\n",
    "kos = [dict_contig_ko[c] for c in contigs]\n",
    "set_kos = set(kos)\n",
    "# Dict contig -> sample counts\n",
    "dict_contig_counts = defaultdict(list)\n",
    "samples = []\n",
    "for fn in fns:\n",
    "    if '_3um' in fn:\n",
    "        samples.append(re.search(r'(?<=.tar.gz).+(?=\\.tsv-)', fn)[0])\n",
    "        # Load counts\n",
    "        df = pd.read_csv(fn)\n",
    "        ctg = df.iloc[:,0].values\n",
    "        cnt = df.iloc[:,1].values\n",
    "        dict_ctg_cnt = dict(zip(ctg, cnt))\n",
    "        for c in contigs:\n",
    "            c_ = re.sub(r'_\\d+$','',c)  # manage 6tr filenaming\n",
    "            # map contig to counts\n",
    "            dict_contig_counts[c].append(dict_ctg_cnt[c_])\n",
    "# Build out dataframe\n",
    "df_taxid = pd.DataFrame(0, columns=list(set_kos), index=samples)\n",
    "for c in contigs:\n",
    "    ko = dict_contig_ko[c]\n",
    "    df_taxid[ko] += np.array(dict_contig_counts[c])\n",
    "dfs[leaf] = (df_taxid)\n",
    "# Get ancestors of leaf\n",
    "for i, n in enumerate(tree[str(leaf)].ancestors()):\n",
    "    if i < 6:\n",
    "        print(n.name)\n",
    "        # Kos and contigs\n",
    "        contigs = dict_tax_contigs[int(n.name)]\n",
    "        kos = [dict_contig_ko[c] for c in contigs]\n",
    "        set_kos = set(kos)\n",
    "        # Dict contig -> sample counts\n",
    "        dict_contig_counts = defaultdict(list)\n",
    "        samples = []\n",
    "        for fn in fns:\n",
    "            if '_3um' in fn:\n",
    "                samples.append(re.search(r'(?<=.tar.gz).+(?=\\.tsv-)', fn)[0])\n",
    "                # Load counts\n",
    "                df = pd.read_csv(fn)\n",
    "                ctg = df.iloc[:,0].values\n",
    "                cnt = df.iloc[:,1].values\n",
    "                dict_ctg_cnt = dict(zip(ctg, cnt))\n",
    "                for c in contigs:\n",
    "                    c_ = re.sub(r'_\\d+$','',c)  # manage 6tr filenaming\n",
    "                    # map contig to counts\n",
    "                    dict_contig_counts[c].append(dict_ctg_cnt[c_])\n",
    "        # Build out dataframe\n",
    "        df_taxid = pd.DataFrame(0, columns=list(set_kos), index=samples)\n",
    "        for c in contigs:\n",
    "            ko = dict_contig_ko[c]\n",
    "            df_taxid[ko] += np.array(dict_contig_counts[c])\n",
    "        dfs[n.name] = (df_taxid)"
   ]
  },
  {
   "cell_type": "markdown",
   "metadata": {},
   "source": [
    "Inspect dataframes"
   ]
  },
  {
   "cell_type": "code",
   "execution_count": null,
   "metadata": {},
   "outputs": [],
   "source": [
    "df_taxid = dfs[637379]\n",
    "print(df_taxid.shape)\n",
    "df_taxid"
   ]
  },
  {
   "cell_type": "markdown",
   "metadata": {},
   "source": [
    "Inspect dataframes"
   ]
  },
  {
   "cell_type": "code",
   "execution_count": null,
   "metadata": {},
   "outputs": [],
   "source": [
    "df_taxid = dfs['35127']\n",
    "print(df_taxid.shape)\n",
    "df_taxid"
   ]
  },
  {
   "cell_type": "code",
   "execution_count": null,
   "metadata": {},
   "outputs": [],
   "source": [
    "df_taxid = dfs['29202']\n",
    "print(df_taxid.shape)\n",
    "df_taxid"
   ]
  },
  {
   "cell_type": "code",
   "execution_count": null,
   "metadata": {},
   "outputs": [],
   "source": [
    "df_taxid = dfs['33847']\n",
    "print(df_taxid.shape)\n",
    "df_taxid"
   ]
  },
  {
   "cell_type": "code",
   "execution_count": null,
   "metadata": {},
   "outputs": [],
   "source": [
    "df_taxid = dfs['33846']\n",
    "print(df_taxid.shape)\n",
    "df_taxid"
   ]
  },
  {
   "cell_type": "code",
   "execution_count": null,
   "metadata": {},
   "outputs": [],
   "source": [
    "df_taxid = dfs['33836']\n",
    "print(df_taxid.shape)\n",
    "df_taxid"
   ]
  },
  {
   "cell_type": "code",
   "execution_count": null,
   "metadata": {},
   "outputs": [],
   "source": [
    "df_taxid = dfs['2836']\n",
    "print(df_taxid.shape)\n",
    "df_taxid"
   ]
  },
  {
   "cell_type": "markdown",
   "metadata": {},
   "source": [
    "Get info on count matrices"
   ]
  },
  {
   "cell_type": "code",
   "execution_count": null,
   "metadata": {},
   "outputs": [],
   "source": [
    "sci_names = []\n",
    "n_ko = []\n",
    "frac_sam_filled = []\n",
    "\n",
    "df = dfs[leaf]\n",
    "scn = ncbi.get_rank([leaf])[leaf] + ' ' + ncbi.get_taxid_translator([str(leaf)])[leaf]\n",
    "sci_names.append(scn)\n",
    "n_ko.append(df.shape[1])\n",
    "fracs = df.values.astype(bool).sum(axis=0) / df.shape[0]\n",
    "frac_sam_filled.append(fracs)\n",
    "\n",
    "for i, n in enumerate(tree[str(leaf)].ancestors()):\n",
    "    if i < 6:\n",
    "        tid = n.name\n",
    "        df = dfs[tid]\n",
    "        scn = ncbi.get_rank([tid])[int(tid)] + ' ' + ncbi.get_taxid_translator([str(tid)])[int(tid)]\n",
    "        sci_names.append(scn)\n",
    "        n_ko.append(df.shape[1])\n",
    "        fracs = df.values.astype(bool).sum(axis=0) / df.shape[0]\n",
    "        frac_sam_filled.append(fracs)"
   ]
  },
  {
   "cell_type": "code",
   "execution_count": null,
   "metadata": {},
   "outputs": [],
   "source": [
    "ncbi.get_taxid_translator([str(leaf)])[leaf]\n"
   ]
  },
  {
   "cell_type": "markdown",
   "metadata": {},
   "source": [
    "Plot number of kos"
   ]
  },
  {
   "cell_type": "code",
   "execution_count": null,
   "metadata": {},
   "outputs": [],
   "source": [
    "ft=8\n",
    "dims=(4,4)\n",
    "fig, ax = general_plot(ft=ft, dims=dims)\n",
    "x = np.arange(len(n_ko))\n",
    "ax.plot(x, n_ko)\n",
    "_ = ax.set_xticks(x)\n",
    "_ = ax.set_xticklabels(sci_names, rotation=45, ha='right', rotation_mode='anchor')\n",
    "_ = ax.set_ylabel('Number of KOs')"
   ]
  },
  {
   "cell_type": "markdown",
   "metadata": {},
   "source": [
    "Plot fraction of samples with counts in each KO"
   ]
  },
  {
   "cell_type": "code",
   "execution_count": null,
   "metadata": {},
   "outputs": [],
   "source": [
    "ft=8\n",
    "dims=(4,4)\n",
    "markersize=2\n",
    "fig, ax = general_plot(ft=ft, dims=dims)\n",
    "ax.boxplot(frac_sam_filled)\n",
    "for _x, fsf in enumerate(frac_sam_filled):\n",
    "    _x += (np.random.rand(len(fsf)) - 0.5) * 0.25 + 1\n",
    "    ax.scatter(_x, fsf, s=markersize, c='k')\n",
    "x = np.arange(len(n_ko)) + 1\n",
    "_ = ax.set_xticks(x)\n",
    "_ = ax.set_xticklabels(sci_names, rotation=45, ha='right', rotation_mode='anchor')\n",
    "_ = ax.set_ylabel('Fraction of samples\\nwith counts for each KO')"
   ]
  },
  {
   "cell_type": "markdown",
   "metadata": {},
   "source": [
    "#### Check another leaf"
   ]
  },
  {
   "cell_type": "code",
   "execution_count": 319,
   "metadata": {},
   "outputs": [],
   "source": [
    "leaf = 2802065 #,Chrysochromulina sp. KB-HA01"
   ]
  },
  {
   "cell_type": "code",
   "execution_count": null,
   "metadata": {},
   "outputs": [],
   "source": [
    "dir_counts = '/scratch/bgrodner/iron_ko_contigs/metat_search_results/dicts_iron_KO_contig/dicts_contig_count/tables_norm_count/NPac.G1PA.bf100.id99.aa.best.Kofam.incT30.csv.gz-iron_KOs.txt-tables_norm_count'\n",
    "glob_fn = f'{dir_counts}/*.tsv-table_norm_count.csv'\n",
    "fns = glob.glob(glob_fn)\n",
    "dfs = {}\n",
    "# Get leaf\n",
    "print(leaf)\n",
    "# Kos and contigs\n",
    "contigs = dict_tax_contigs[leaf]\n",
    "kos = [dict_contig_ko[c] for c in contigs]\n",
    "set_kos = set(kos)\n",
    "# Dict contig -> sample counts\n",
    "dict_contig_counts = defaultdict(list)\n",
    "samples = []\n",
    "for fn in fns:\n",
    "    if '_3um' in fn:\n",
    "        samples.append(re.search(r'(?<=.tar.gz).+(?=\\.tsv-)', fn)[0])\n",
    "        # Load counts\n",
    "        df = pd.read_csv(fn)\n",
    "        ctg = df.iloc[:,0].values\n",
    "        cnt = df.iloc[:,1].values\n",
    "        dict_ctg_cnt = dict(zip(ctg, cnt))\n",
    "        for c in contigs:\n",
    "            c_ = re.sub(r'_\\d+$','',c)  # manage 6tr filenaming\n",
    "            # map contig to counts\n",
    "            dict_contig_counts[c].append(dict_ctg_cnt[c_])\n",
    "# Build out dataframe\n",
    "df_taxid = pd.DataFrame(0, columns=list(set_kos), index=samples)\n",
    "for c in contigs:\n",
    "    ko = dict_contig_ko[c]\n",
    "    df_taxid[ko] += np.array(dict_contig_counts[c])\n",
    "dfs[leaf] = (df_taxid)\n",
    "# Get ancestors of leaf\n",
    "for i, n in enumerate(tree[str(leaf)].ancestors()):\n",
    "    if i < 100:\n",
    "        print(n.name)\n",
    "        # Kos and contigs\n",
    "        contigs = dict_tax_contigs[int(n.name)]\n",
    "        kos = [dict_contig_ko[c] for c in contigs]\n",
    "        set_kos = set(kos)\n",
    "        # Dict contig -> sample counts\n",
    "        dict_contig_counts = defaultdict(list)\n",
    "        samples = []\n",
    "        for fn in fns:\n",
    "            if '_3um' in fn:\n",
    "                samples.append(re.search(r'(?<=.tar.gz).+(?=\\.tsv-)', fn)[0])\n",
    "                # Load counts\n",
    "                df = pd.read_csv(fn)\n",
    "                ctg = df.iloc[:,0].values\n",
    "                cnt = df.iloc[:,1].values\n",
    "                dict_ctg_cnt = dict(zip(ctg, cnt))\n",
    "                for c in contigs:\n",
    "                    c_ = re.sub(r'_\\d+$','',c)  # manage 6tr filenaming\n",
    "                    # map contig to counts\n",
    "                    dict_contig_counts[c].append(dict_ctg_cnt[c_])\n",
    "        # Build out dataframe\n",
    "        df_taxid = pd.DataFrame(0, columns=list(set_kos), index=samples)\n",
    "        for c in contigs:\n",
    "            ko = dict_contig_ko[c]\n",
    "            df_taxid[ko] += np.array(dict_contig_counts[c])\n",
    "        dfs[n.name] = (df_taxid)"
   ]
  },
  {
   "cell_type": "markdown",
   "metadata": {},
   "source": [
    "Get info on count matrices"
   ]
  },
  {
   "cell_type": "code",
   "execution_count": 324,
   "metadata": {},
   "outputs": [],
   "source": [
    "sci_names = []\n",
    "n_ko = []\n",
    "frac_sam_filled = []\n",
    "\n",
    "df = dfs[leaf]\n",
    "scn = ncbi.get_rank([leaf])[leaf] + ' ' + ncbi.get_taxid_translator([str(leaf)])[leaf]\n",
    "sci_names.append(scn)\n",
    "n_ko.append(df.shape[1])\n",
    "fracs = df.values.astype(bool).sum(axis=0) / df.shape[0]\n",
    "frac_sam_filled.append(fracs)\n",
    "\n",
    "for i, n in enumerate(tree[str(leaf)].ancestors()):\n",
    "    if i < 6:\n",
    "        tid = n.name\n",
    "        df = dfs[tid]\n",
    "        scn = ncbi.get_rank([tid])[int(tid)] + ' ' + ncbi.get_taxid_translator([str(tid)])[int(tid)]\n",
    "        sci_names.append(scn)\n",
    "        n_ko.append(df.shape[1])\n",
    "        fracs = df.values.astype(bool).sum(axis=0) / df.shape[0]\n",
    "        frac_sam_filled.append(fracs)"
   ]
  },
  {
   "cell_type": "code",
   "execution_count": null,
   "metadata": {},
   "outputs": [],
   "source": [
    "ncbi.get_taxid_translator([str(leaf)])[leaf]\n"
   ]
  },
  {
   "cell_type": "markdown",
   "metadata": {},
   "source": [
    "Plot number of kos"
   ]
  },
  {
   "cell_type": "code",
   "execution_count": null,
   "metadata": {},
   "outputs": [],
   "source": [
    "ft=8\n",
    "dims=(4,4)\n",
    "fig, ax = general_plot(ft=ft, dims=dims)\n",
    "x = np.arange(len(n_ko))\n",
    "ax.plot(x, n_ko)\n",
    "_ = ax.set_xticks(x)\n",
    "_ = ax.set_xticklabels(sci_names, rotation=45, ha='right', rotation_mode='anchor')\n",
    "_ = ax.set_ylabel('Number of KOs')"
   ]
  },
  {
   "cell_type": "markdown",
   "metadata": {},
   "source": [
    "Plot fraction of samples with counts in each KO"
   ]
  },
  {
   "cell_type": "code",
   "execution_count": null,
   "metadata": {},
   "outputs": [],
   "source": [
    "ft=8\n",
    "dims=(4,4)\n",
    "markersize=2\n",
    "fig, ax = general_plot(ft=ft, dims=dims)\n",
    "ax.boxplot(frac_sam_filled)\n",
    "for _x, fsf in enumerate(frac_sam_filled):\n",
    "    _x += (np.random.rand(len(fsf)) - 0.5) * 0.25 + 1\n",
    "    ax.scatter(_x, fsf, s=markersize, c='k')\n",
    "x = np.arange(len(n_ko)) + 1\n",
    "_ = ax.set_xticks(x)\n",
    "_ = ax.set_xticklabels(sci_names, rotation=45, ha='right', rotation_mode='anchor')\n",
    "_ = ax.set_ylabel('Fraction of samples\\nwith counts for each KO')"
   ]
  },
  {
   "cell_type": "markdown",
   "metadata": {},
   "source": [
    "#### Check another leaf"
   ]
  },
  {
   "cell_type": "code",
   "execution_count": 328,
   "metadata": {},
   "outputs": [],
   "source": [
    "leaf = 413974 #,Chlamydomonas sp. CCMP681\n",
    "n_level = 6"
   ]
  },
  {
   "cell_type": "code",
   "execution_count": null,
   "metadata": {},
   "outputs": [],
   "source": [
    "dir_counts = '/scratch/bgrodner/iron_ko_contigs/metat_search_results/dicts_iron_KO_contig/dicts_contig_count/tables_norm_count/NPac.G1PA.bf100.id99.aa.best.Kofam.incT30.csv.gz-iron_KOs.txt-tables_norm_count'\n",
    "glob_fn = f'{dir_counts}/*.tsv-table_norm_count.csv'\n",
    "fns = glob.glob(glob_fn)\n",
    "dfs = {}\n",
    "# Get leaf\n",
    "print(leaf)\n",
    "# Kos and contigs\n",
    "contigs = dict_tax_contigs[leaf]\n",
    "kos = [dict_contig_ko[c] for c in contigs]\n",
    "set_kos = set(kos)\n",
    "# Dict contig -> sample counts\n",
    "dict_contig_counts = defaultdict(list)\n",
    "samples = []\n",
    "for fn in fns:\n",
    "    if '_3um' in fn:\n",
    "        samples.append(re.search(r'(?<=.tar.gz).+(?=\\.tsv-)', fn)[0])\n",
    "        # Load counts\n",
    "        df = pd.read_csv(fn)\n",
    "        ctg = df.iloc[:,0].values\n",
    "        cnt = df.iloc[:,1].values\n",
    "        dict_ctg_cnt = dict(zip(ctg, cnt))\n",
    "        for c in contigs:\n",
    "            c_ = re.sub(r'_\\d+$','',c)  # manage 6tr filenaming\n",
    "            # map contig to counts\n",
    "            dict_contig_counts[c].append(dict_ctg_cnt[c_])\n",
    "# Build out dataframe\n",
    "df_taxid = pd.DataFrame(0, columns=list(set_kos), index=samples)\n",
    "for c in contigs:\n",
    "    ko = dict_contig_ko[c]\n",
    "    df_taxid[ko] += np.array(dict_contig_counts[c])\n",
    "dfs[leaf] = (df_taxid)\n",
    "# Get ancestors of leaf\n",
    "for i, n in enumerate(tree[str(leaf)].ancestors()):\n",
    "    if i < n_level:\n",
    "        print(n.name)\n",
    "        # Kos and contigs\n",
    "        contigs = dict_tax_contigs[int(n.name)]\n",
    "        kos = [dict_contig_ko[c] for c in contigs]\n",
    "        set_kos = set(kos)\n",
    "        # Dict contig -> sample counts\n",
    "        dict_contig_counts = defaultdict(list)\n",
    "        samples = []\n",
    "        for fn in fns:\n",
    "            if '_3um' in fn:\n",
    "                samples.append(re.search(r'(?<=.tar.gz).+(?=\\.tsv-)', fn)[0])\n",
    "                # Load counts\n",
    "                df = pd.read_csv(fn)\n",
    "                ctg = df.iloc[:,0].values\n",
    "                cnt = df.iloc[:,1].values\n",
    "                dict_ctg_cnt = dict(zip(ctg, cnt))\n",
    "                for c in contigs:\n",
    "                    c_ = re.sub(r'_\\d+$','',c)  # manage 6tr filenaming\n",
    "                    # map contig to counts\n",
    "                    dict_contig_counts[c].append(dict_ctg_cnt[c_])\n",
    "        # Build out dataframe\n",
    "        df_taxid = pd.DataFrame(0, columns=list(set_kos), index=samples)\n",
    "        for c in contigs:\n",
    "            ko = dict_contig_ko[c]\n",
    "            df_taxid[ko] += np.array(dict_contig_counts[c])\n",
    "        dfs[n.name] = (df_taxid)"
   ]
  },
  {
   "cell_type": "markdown",
   "metadata": {},
   "source": [
    "Get info on count matrices"
   ]
  },
  {
   "cell_type": "code",
   "execution_count": 333,
   "metadata": {},
   "outputs": [],
   "source": [
    "sci_names = []\n",
    "n_ko = []\n",
    "frac_sam_filled = []\n",
    "\n",
    "df = dfs[leaf]\n",
    "scn = ncbi.get_rank([leaf])[leaf] + ' ' + ncbi.get_taxid_translator([str(leaf)])[leaf]\n",
    "sci_names.append(scn)\n",
    "n_ko.append(df.shape[1])\n",
    "fracs = df.values.astype(bool).sum(axis=0) / df.shape[0]\n",
    "frac_sam_filled.append(fracs)\n",
    "\n",
    "for i, n in enumerate(tree[str(leaf)].ancestors()):\n",
    "    if i < n_level:\n",
    "        tid = n.name\n",
    "        df = dfs[n.name]\n",
    "        scn = ncbi.get_rank([tid])[int(tid)] + ' ' + ncbi.get_taxid_translator([str(tid)])[int(tid)]\n",
    "        sci_names.append(scn)\n",
    "        n_ko.append(df.shape[1])\n",
    "        fracs = df.values.astype(bool).sum(axis=0) / df.shape[0]\n",
    "        frac_sam_filled.append(fracs)"
   ]
  },
  {
   "cell_type": "code",
   "execution_count": null,
   "metadata": {},
   "outputs": [],
   "source": [
    "ncbi.get_taxid_translator([str(leaf)])[leaf]\n"
   ]
  },
  {
   "cell_type": "markdown",
   "metadata": {},
   "source": [
    "Plot number of kos"
   ]
  },
  {
   "cell_type": "code",
   "execution_count": null,
   "metadata": {},
   "outputs": [],
   "source": [
    "ft=8\n",
    "dims=(4,4)\n",
    "fig, ax = general_plot(ft=ft, dims=dims)\n",
    "x = np.arange(len(n_ko))\n",
    "ax.plot(x, n_ko)\n",
    "_ = ax.set_xticks(x)\n",
    "_ = ax.set_xticklabels(sci_names, rotation=45, ha='right', rotation_mode='anchor')\n",
    "_ = ax.set_ylabel('Number of KOs')"
   ]
  },
  {
   "cell_type": "markdown",
   "metadata": {},
   "source": [
    "Plot fraction of samples with counts in each KO"
   ]
  },
  {
   "cell_type": "code",
   "execution_count": null,
   "metadata": {},
   "outputs": [],
   "source": [
    "ft=8\n",
    "dims=(4,4)\n",
    "markersize=2\n",
    "fig, ax = general_plot(ft=ft, dims=dims)\n",
    "ax.boxplot(frac_sam_filled)\n",
    "for _x, fsf in enumerate(frac_sam_filled):\n",
    "    _x += (np.random.rand(len(fsf)) - 0.5) * 0.25 + 1\n",
    "    ax.scatter(_x, fsf, s=markersize, c='k')\n",
    "x = np.arange(len(n_ko)) + 1\n",
    "_ = ax.set_xticks(x)\n",
    "_ = ax.set_xticklabels(sci_names, rotation=45, ha='right', rotation_mode='anchor')\n",
    "_ = ax.set_ylabel('Fraction of samples\\nwith counts for each KO')"
   ]
  },
  {
   "cell_type": "markdown",
   "metadata": {},
   "source": [
    "#### Check another leaf"
   ]
  },
  {
   "cell_type": "code",
   "execution_count": 337,
   "metadata": {},
   "outputs": [],
   "source": [
    "leaf = 174948 # Symbiodinium sp. CCMP421\n",
    "n_level = 6"
   ]
  },
  {
   "cell_type": "code",
   "execution_count": null,
   "metadata": {},
   "outputs": [],
   "source": [
    "dir_counts = '/scratch/bgrodner/iron_ko_contigs/metat_search_results/dicts_iron_KO_contig/dicts_contig_count/tables_norm_count/NPac.G1PA.bf100.id99.aa.best.Kofam.incT30.csv.gz-iron_KOs.txt-tables_norm_count'\n",
    "glob_fn = f'{dir_counts}/*.tsv-table_norm_count.csv'\n",
    "fns = glob.glob(glob_fn)\n",
    "dfs = {}\n",
    "# Get leaf\n",
    "print(leaf)\n",
    "# Kos and contigs\n",
    "contigs = dict_tax_contigs[leaf]\n",
    "kos = [dict_contig_ko[c] for c in contigs]\n",
    "set_kos = set(kos)\n",
    "# Dict contig -> sample counts\n",
    "dict_contig_counts = defaultdict(list)\n",
    "samples = []\n",
    "for fn in fns:\n",
    "    if '_3um' in fn:\n",
    "        samples.append(re.search(r'(?<=.tar.gz).+(?=\\.tsv-)', fn)[0])\n",
    "        # Load counts\n",
    "        df = pd.read_csv(fn)\n",
    "        ctg = df.iloc[:,0].values\n",
    "        cnt = df.iloc[:,1].values\n",
    "        dict_ctg_cnt = dict(zip(ctg, cnt))\n",
    "        for c in contigs:\n",
    "            c_ = re.sub(r'_\\d+$','',c)  # manage 6tr filenaming\n",
    "            # map contig to counts\n",
    "            dict_contig_counts[c].append(dict_ctg_cnt[c_])\n",
    "# Build out dataframe\n",
    "df_taxid = pd.DataFrame(0, columns=list(set_kos), index=samples)\n",
    "for c in contigs:\n",
    "    ko = dict_contig_ko[c]\n",
    "    df_taxid[ko] += np.array(dict_contig_counts[c])\n",
    "dfs[leaf] = (df_taxid)\n",
    "# Get ancestors of leaf\n",
    "for i, n in enumerate(tree[str(leaf)].ancestors()):\n",
    "    if i < n_level:\n",
    "        print(n.name)\n",
    "        # Kos and contigs\n",
    "        contigs = dict_tax_contigs[int(n.name)]\n",
    "        kos = [dict_contig_ko[c] for c in contigs]\n",
    "        set_kos = set(kos)\n",
    "        # Dict contig -> sample counts\n",
    "        dict_contig_counts = defaultdict(list)\n",
    "        samples = []\n",
    "        for fn in fns:\n",
    "            if '_3um' in fn:\n",
    "                samples.append(re.search(r'(?<=.tar.gz).+(?=\\.tsv-)', fn)[0])\n",
    "                # Load counts\n",
    "                df = pd.read_csv(fn)\n",
    "                ctg = df.iloc[:,0].values\n",
    "                cnt = df.iloc[:,1].values\n",
    "                dict_ctg_cnt = dict(zip(ctg, cnt))\n",
    "                for c in contigs:\n",
    "                    c_ = re.sub(r'_\\d+$','',c)  # manage 6tr filenaming\n",
    "                    # map contig to counts\n",
    "                    dict_contig_counts[c].append(dict_ctg_cnt[c_])\n",
    "        # Build out dataframe\n",
    "        df_taxid = pd.DataFrame(0, columns=list(set_kos), index=samples)\n",
    "        for c in contigs:\n",
    "            ko = dict_contig_ko[c]\n",
    "            df_taxid[ko] += np.array(dict_contig_counts[c])\n",
    "        dfs[n.name] = (df_taxid)"
   ]
  },
  {
   "cell_type": "markdown",
   "metadata": {},
   "source": [
    "Get info on count matrices"
   ]
  },
  {
   "cell_type": "code",
   "execution_count": 342,
   "metadata": {},
   "outputs": [],
   "source": [
    "sci_names = []\n",
    "n_ko = []\n",
    "frac_sam_filled = []\n",
    "\n",
    "df = dfs[leaf]\n",
    "scn = ncbi.get_rank([leaf])[leaf] + ' ' + ncbi.get_taxid_translator([str(leaf)])[leaf]\n",
    "sci_names.append(scn)\n",
    "n_ko.append(df.shape[1])\n",
    "fracs = df.values.astype(bool).sum(axis=0) / df.shape[0]\n",
    "frac_sam_filled.append(fracs)\n",
    "\n",
    "for i, n in enumerate(tree[str(leaf)].ancestors()):\n",
    "    if i < n_level:\n",
    "        df = dfs[n.name]\n",
    "        tid = n.name\n",
    "        scn = ncbi.get_rank([tid])[int(tid)] + ' ' + ncbi.get_taxid_translator([str(tid)])[int(tid)]\n",
    "        sci_names.append(scn)\n",
    "        n_ko.append(df.shape[1])\n",
    "        fracs = df.values.astype(bool).sum(axis=0) / df.shape[0]\n",
    "        frac_sam_filled.append(fracs)"
   ]
  },
  {
   "cell_type": "code",
   "execution_count": null,
   "metadata": {},
   "outputs": [],
   "source": [
    "ncbi.get_taxid_translator([str(leaf)])[leaf]\n"
   ]
  },
  {
   "cell_type": "markdown",
   "metadata": {},
   "source": [
    "Plot number of kos"
   ]
  },
  {
   "cell_type": "code",
   "execution_count": null,
   "metadata": {},
   "outputs": [],
   "source": [
    "ft=8\n",
    "dims=(4,4)\n",
    "fig, ax = general_plot(ft=ft, dims=dims)\n",
    "x = np.arange(len(n_ko))\n",
    "ax.plot(x, n_ko)\n",
    "_ = ax.set_xticks(x)\n",
    "_ = ax.set_xticklabels(sci_names, rotation=45, ha='right', rotation_mode='anchor')\n",
    "_ = ax.set_ylabel('Number of KOs')"
   ]
  },
  {
   "cell_type": "markdown",
   "metadata": {},
   "source": [
    "Plot fraction of samples with counts in each KO"
   ]
  },
  {
   "cell_type": "code",
   "execution_count": null,
   "metadata": {},
   "outputs": [],
   "source": [
    "ft=8\n",
    "dims=(4,4)\n",
    "markersize=2\n",
    "fig, ax = general_plot(ft=ft, dims=dims)\n",
    "ax.boxplot(frac_sam_filled)\n",
    "for _x, fsf in enumerate(frac_sam_filled):\n",
    "    _x += (np.random.rand(len(fsf)) - 0.5) * 0.25 + 1\n",
    "    ax.scatter(_x, fsf, s=markersize, c='k')\n",
    "x = np.arange(len(n_ko)) + 1\n",
    "_ = ax.set_xticks(x)\n",
    "_ = ax.set_xticklabels(sci_names, rotation=45, ha='right', rotation_mode='anchor')\n",
    "_ = ax.set_ylabel('Fraction of samples\\nwith counts for each KO')"
   ]
  },
  {
   "cell_type": "markdown",
   "metadata": {},
   "source": [
    "## "
   ]
  },
  {
   "cell_type": "markdown",
   "metadata": {},
   "source": [
    "## Write code for full tree based on KO count and frac sample filters"
   ]
  },
  {
   "cell_type": "markdown",
   "metadata": {},
   "source": [
    "Get number of leafs"
   ]
  },
  {
   "cell_type": "code",
   "execution_count": null,
   "metadata": {},
   "outputs": [],
   "source": [
    "len(list(tree.leaf_names())), len(list(tree.descendants()))"
   ]
  },
  {
   "cell_type": "markdown",
   "metadata": {},
   "source": [
    "Verify that internal nodes are nort in leafs"
   ]
  },
  {
   "cell_type": "code",
   "execution_count": null,
   "metadata": {},
   "outputs": [],
   "source": [
    "# Alveolata clade\n",
    "('33630' in list(tree.leaf_names())), ('33630' in [n.name for n in tree.descendants()])"
   ]
  },
  {
   "cell_type": "markdown",
   "metadata": {},
   "source": [
    "Write snakeamke rule to trim leaf"
   ]
  },
  {
   "cell_type": "code",
   "execution_count": 372,
   "metadata": {},
   "outputs": [],
   "source": [
    "leaf = 2802065 #,Chrysochromulina sp. KB-HA01\n",
    "\n",
    "thresh_n_kos = 20\n",
    "thresh_mff = 0.2\n",
    "\n",
    "dir_counts = '/scratch/bgrodner/iron_ko_contigs/metat_search_results/dicts_iron_KO_contig/dicts_contig_count/tables_norm_count/NPac.G1PA.bf100.id99.aa.best.Kofam.incT30.csv.gz-iron_KOs.txt-tables_norm_count'\n",
    "glob_fn = f'{dir_counts}/*.tsv-table_norm_count.csv'\n",
    "fns = glob.glob(glob_fn)\n",
    "\n",
    "lineage = [str(leaf)] + [n.name for n in tree[str(leaf)].ancestors()]\n",
    "dict_lin_nkos = {}\n",
    "dict_lin_ko_cnts = defaultdict(lambda: defaultdict(list))\n",
    "# Load dict_tax_contigs, dict_contig_ko\n",
    "\n",
    "# Get number of kos for each lineage\n",
    "for l in lineage:\n",
    "    contigs = dict_tax_contigs[int(l)]\n",
    "    kos = [dict_contig_ko[c] for c in contigs]\n",
    "    # add number of kos to lineage info\n",
    "    set_kos = set(kos)\n",
    "    dict_lin_nkos[l] = len(set_kos)\n",
    "\n",
    "# Get KO counts for each sample\n",
    "for fn in fns:\n",
    "    if '_3um' in fn:\n",
    "        # Load dict_contig_count\n",
    "        df = pd.read_csv(fn)\n",
    "        ctg = df.iloc[:,0].values\n",
    "        cnt = df.iloc[:,1].values\n",
    "        dict_ctg_cnt = dict(zip(ctg, cnt))\n",
    "        # Count each lineage\n",
    "        # n_kos = 0\n",
    "        # mean_frac_fill = 0\n",
    "        for l in lineage:\n",
    "            # if (n_kos < thresh_n_kos) or (mean_frac_fill < thresh_mff):\n",
    "            contigs = dict_tax_contigs[int(l)]\n",
    "            # counts and kos\n",
    "            dict_ko_cnt = defaultdict(lambda: 0)\n",
    "            for c in contigs:\n",
    "                ko = dict_contig_ko[c]\n",
    "                c_ = re.sub(r'_\\d+$','',c)  # manage 6tr filenaming\n",
    "                dict_ko_cnt[ko] += dict_ctg_cnt[c_]\n",
    "            # Add ko count to lineage info\n",
    "            for ko, cnt in dict_ko_cnt.items():\n",
    "                dict_lin_ko_cnts[l][ko].append(cnt)\n",
    "\n",
    "\n",
    "\n"
   ]
  },
  {
   "cell_type": "code",
   "execution_count": null,
   "metadata": {},
   "outputs": [],
   "source": [
    "for l in lineage:\n",
    "    print('\\n',l)\n",
    "    print(dict_lin_nkos[l])\n",
    "    frac_kos = []\n",
    "    for ko, counts in dict_lin_ko_cnts[l].items():\n",
    "        frac = np.array(counts).astype(bool).sum()\n",
    "        frac_kos.append(frac)\n",
    "    print(np.mean(frac_kos))"
   ]
  },
  {
   "cell_type": "code",
   "execution_count": null,
   "metadata": {},
   "outputs": [],
   "source": [
    "y.shape"
   ]
  },
  {
   "cell_type": "code",
   "execution_count": null,
   "metadata": {},
   "outputs": [],
   "source": [
    "taxid = 236786  # Florenciella\n",
    "\n",
    "contigs = dict_tax_contigs[taxid]\n",
    "kos = set(dict_contig_ko[c] for c in contigs)\n",
    "ko_names = [dict_ko_name[k] for k in kos]\n",
    "ko_names"
   ]
  },
  {
   "cell_type": "markdown",
   "metadata": {},
   "source": [
    "## Look at the fraction of contigs captured by a set of leaves "
   ]
  },
  {
   "cell_type": "markdown",
   "metadata": {},
   "source": [
    "Get counts for each node"
   ]
  },
  {
   "cell_type": "code",
   "execution_count": null,
   "metadata": {},
   "outputs": [],
   "source": [
    "# rank = ncbi.get_rank([n.name])[n.name]\n",
    "\n",
    "# Add counts at each internal node\n",
    "lineages = [ncbi.get_lineage(t) for t in taxids_all]\n",
    "taxids_lin = list(itertools.chain(*lineages))\n",
    "tax_unq, tax_count = np.unique(taxids_lin, return_counts=True)\n",
    "dict_tax_contigcount = dict(zip(tax_unq, tax_count))\n",
    "for n in tree.traverse():\n",
    "    tax = int(n.name)\n",
    "    n.add_props(n_contigs=dict_tax_contigcount[tax])"
   ]
  },
  {
   "cell_type": "markdown",
   "metadata": {},
   "source": [
    "Get total number of contigs"
   ]
  },
  {
   "cell_type": "code",
   "execution_count": null,
   "metadata": {},
   "outputs": [],
   "source": [
    "n_contigs = len(taxids_all)\n",
    "n_contigs"
   ]
  },
  {
   "cell_type": "markdown",
   "metadata": {},
   "source": [
    " Get fraction with max leaves\n"
   ]
  },
  {
   "cell_type": "code",
   "execution_count": null,
   "metadata": {},
   "outputs": [],
   "source": [
    "c_count = 0\n",
    "for n in tree.leaves():\n",
    "    c_count += n.props['count']\n",
    "\n",
    "frac = c_count / n_contigs\n",
    "frac"
   ]
  },
  {
   "cell_type": "markdown",
   "metadata": {},
   "source": [
    "Get fraction trimmed to genus level"
   ]
  },
  {
   "cell_type": "code",
   "execution_count": null,
   "metadata": {},
   "outputs": [],
   "source": [
    "tree_genus = ncbi.get_topology(set_taxids, rank_limit='genus')\n",
    "\n",
    "# Add contig counts\n",
    "for n in tree_genus.traverse():\n",
    "    tax = int(n.name)\n",
    "    n.add_props(count=dict_tax_contigcount[tax])\n",
    "\n",
    "c_count = 0\n",
    "for n in tree_genus.leaves():\n",
    "    c_count += n.props['count']\n",
    "\n",
    "frac = c_count / n_contigs\n",
    "frac"
   ]
  },
  {
   "cell_type": "markdown",
   "metadata": {},
   "source": [
    "Get fraction trimmed to family level"
   ]
  },
  {
   "cell_type": "code",
   "execution_count": null,
   "metadata": {},
   "outputs": [],
   "source": [
    "tree_fam = ncbi.get_topology(set_taxids, rank_limit='family')\n",
    "\n",
    "# Add contig counts\n",
    "for n in tree_fam.traverse():\n",
    "    tax = int(n.name)\n",
    "    n.add_props(count=dict_tax_contigcount[tax])\n",
    "\n",
    "c_count = 0\n",
    "for n in tree_fam.leaves():\n",
    "    c_count += n.props['count']\n",
    "\n",
    "frac = c_count / n_contigs\n",
    "frac"
   ]
  },
  {
   "cell_type": "markdown",
   "metadata": {},
   "source": [
    "Get fraction trimmed to order level"
   ]
  },
  {
   "cell_type": "code",
   "execution_count": null,
   "metadata": {},
   "outputs": [],
   "source": [
    "tree_ord = ncbi.get_topology(set_taxids, rank_limit='order')\n",
    "\n",
    "# Add contig counts\n",
    "for n in tree_ord.traverse():\n",
    "    tax = int(n.name)\n",
    "    n.add_props(count=dict_tax_contigcount[tax])\n",
    "\n",
    "c_count = 0\n",
    "for n in tree_ord.leaves():\n",
    "    c_count += n.props['count']\n",
    "\n",
    "frac = c_count / n_contigs\n",
    "frac"
   ]
  },
  {
   "cell_type": "markdown",
   "metadata": {},
   "source": [
    "Get fraction trimmed to class level"
   ]
  },
  {
   "cell_type": "code",
   "execution_count": null,
   "metadata": {},
   "outputs": [],
   "source": [
    "tree_class = ncbi.get_topology(set_taxids, rank_limit='class')\n",
    "\n",
    "# Add contig counts\n",
    "for n in tree_class.traverse():\n",
    "    tax = int(n.name)\n",
    "    n.add_props(count=dict_tax_contigcount[tax])\n",
    "\n",
    "c_count = 0\n",
    "for n in tree_class.leaves():\n",
    "    c_count += n.props['count']\n",
    "\n",
    "frac = c_count / n_contigs\n",
    "frac"
   ]
  },
  {
   "cell_type": "markdown",
   "metadata": {},
   "source": [
    "Get fraction trimmed to phylum level (seems like trimming is not working properly since not all taxa have phylum annotation)"
   ]
  },
  {
   "cell_type": "code",
   "execution_count": null,
   "metadata": {},
   "outputs": [],
   "source": [
    "tree_phy = ncbi.get_topology(set_taxids, rank_limit='phylum')\n",
    "\n",
    "# Add contig counts\n",
    "for n in tree_phy.traverse():\n",
    "    tax = int(n.name)\n",
    "    n.add_props(count=dict_tax_contigcount[tax])\n",
    "\n",
    "c_count = 0\n",
    "for n in tree_phy.leaves():\n",
    "    c_count += n.props['count']\n",
    "\n",
    "frac = c_count / n_contigs\n",
    "\n",
    "print(frac)\n",
    "print(tree_phy.to_str(props=['name', 'sci_name'], compact=True))"
   ]
  },
  {
   "cell_type": "markdown",
   "metadata": {},
   "source": [
    "## Get mean number of samples filled across KOs for full tree"
   ]
  },
  {
   "cell_type": "markdown",
   "metadata": {},
   "source": [
    "Get values for each node in tree"
   ]
  },
  {
   "cell_type": "code",
   "execution_count": null,
   "metadata": {},
   "outputs": [],
   "source": [
    "dir_counts = '/scratch/bgrodner/iron_ko_contigs/metat_search_results/dicts_iron_KO_contig/dicts_contig_count/tables_norm_count/NPac.G1PA.bf100.id99.aa.best.Kofam.incT30.csv.gz-iron_KOs.txt-tables_norm_count'\n",
    "glob_fn = f'{dir_counts}/*.tsv-table_norm_count.csv'\n",
    "fns = glob.glob(glob_fn)\n",
    "\n",
    "# lineage = [str(leaf)] + [n.name for n in tree[str(leaf)].ancestors()]\n",
    "dict_lin_nkos = {}\n",
    "dict_lin_ko_cnts = defaultdict(lambda: defaultdict(list))\n",
    "# Load dict_tax_contigs, dict_contig_ko\n",
    "\n",
    "# Get number of kos for each lineage\n",
    "for n in tree.traverse():\n",
    "    l = n.name\n",
    "    contigs = dict_tax_contigs[int(l)]\n",
    "    kos = [dict_contig_ko[c] for c in contigs]\n",
    "    # add number of kos to lineage info\n",
    "    set_kos = set(kos)\n",
    "    dict_lin_nkos[l] = len(set_kos)\n",
    "\n",
    "# Get KO counts for each sample\n",
    "for fn in tqdm(fns):\n",
    "    if '_3um' in fn:\n",
    "        # Load dict_contig_count\n",
    "        df = pd.read_csv(fn)\n",
    "        ctg = df.iloc[:,0].values\n",
    "        cnt = df.iloc[:,1].values\n",
    "        dict_ctg_cnt = dict(zip(ctg, cnt))\n",
    "        # Count each lineage\n",
    "        # n_kos = 0\n",
    "        # mean_frac_fill = 0\n",
    "        for n in tree.traverse():\n",
    "            l = n.name\n",
    "            # if (n_kos < thresh_n_kos) or (mean_frac_fill < thresh_mff):\n",
    "            contigs = dict_tax_contigs[int(l)]\n",
    "            # counts and kos\n",
    "            dict_ko_cnt = defaultdict(lambda: 0)\n",
    "            for c in contigs:\n",
    "                ko = dict_contig_ko[c]\n",
    "                c_ = re.sub(r'_\\d+$','',c)  # manage 6tr filenaming\n",
    "                dict_ko_cnt[ko] += dict_ctg_cnt[c_]\n",
    "            # Add ko count to lineage info\n",
    "            for ko, cnt in dict_ko_cnt.items():\n",
    "                dict_lin_ko_cnts[l][ko].append(cnt)\n",
    "\n",
    "\n",
    "\n"
   ]
  },
  {
   "cell_type": "markdown",
   "metadata": {},
   "source": [
    "Get dict mapping taxid in tree to max and mean n samples across kos"
   ]
  },
  {
   "cell_type": "code",
   "execution_count": 478,
   "metadata": {},
   "outputs": [],
   "source": [
    "dict_lin_maxmeannsam = {}\n",
    "for n in tree.traverse():\n",
    "    l = n.name\n",
    "    n_sam = []\n",
    "    for ko, counts in dict_lin_ko_cnts[l].items():\n",
    "        ns = np.array(counts).astype(bool).sum()\n",
    "        n_sam.append(ns)\n",
    "    max_n_sam = np.max(n_sam)\n",
    "    mean_n_sam = np.round(np.mean(n_sam), 1)\n",
    "    dict_lin_maxmeannsam[l] = [max_n_sam, mean_n_sam]"
   ]
  },
  {
   "cell_type": "markdown",
   "metadata": {},
   "source": [
    "Plot tree with n contigs, n kos, and max sample counts across kos"
   ]
  },
  {
   "cell_type": "code",
   "execution_count": null,
   "metadata": {},
   "outputs": [],
   "source": [
    "for n in tree.traverse():\n",
    "    l = n.name\n",
    "    n_contigs = dict_tax_contigcount[int(l)]\n",
    "    max_n_sam, meam_n_sam = dict_lin_maxmeannsam[l]\n",
    "    nkos = dict_lin_nkos[l]\n",
    "    n.add_props(\n",
    "        n_contigs=n_contigs, \n",
    "        max_n_sam=max_n_sam, \n",
    "        mean_n_sam=mean_n_sam, \n",
    "        nkos=nkos\n",
    "    )"
   ]
  },
  {
   "cell_type": "code",
   "execution_count": null,
   "metadata": {},
   "outputs": [],
   "source": [
    "print(tree.to_str(props=['sci_name','n_contigs','nkos','max_n_sam'], compact=True))"
   ]
  },
  {
   "cell_type": "code",
   "execution_count": null,
   "metadata": {},
   "outputs": [],
   "source": [
    "print(tree.to_str(props=['sci_name','n_contigs','name'], compact=True))"
   ]
  },
  {
   "cell_type": "markdown",
   "metadata": {},
   "source": [
    "Look at distributions of n contigs"
   ]
  },
  {
   "cell_type": "code",
   "execution_count": null,
   "metadata": {},
   "outputs": [],
   "source": [
    "c_counts = []\n",
    "for n in tree.traverse():\n",
    "    l = int(n.name)\n",
    "    c_counts.append(dict_tax_contigcount[l])\n",
    "\n",
    "\n",
    "fig, ax = general_plot()\n",
    "_ = ax.hist(np.log(c_counts), bins=100)\n",
    "xlims = ax.get_xlim()\n",
    "xticks = np.arange(int(max(xlims)))\n",
    "_ = ax.set_xticks(xticks)\n",
    "xlab = [f'1e{l}' for l in xticks]\n",
    "_ = ax.set_xticklabels(xlab, fontsize=8)\n",
    "_ = ax.set_xlabel('Number of contigs in taxid')\n",
    "# ax.set_xscale('log')"
   ]
  },
  {
   "cell_type": "markdown",
   "metadata": {},
   "source": [
    "Look at distributions of n kos"
   ]
  },
  {
   "cell_type": "code",
   "execution_count": null,
   "metadata": {},
   "outputs": [],
   "source": [
    "c_counts = []\n",
    "for n in tree.traverse():\n",
    "    l = n.name\n",
    "    c_counts.append(dict_lin_nkos[l])\n",
    "\n",
    "\n",
    "fig, ax = general_plot()\n",
    "bins = np.arange(0,max(np.log(c_counts)),0.1)\n",
    "_ = ax.hist(np.log(c_counts), bins=bins)\n",
    "xlims = ax.get_xlim()\n",
    "xticks = np.arange(int(max(xlims)))\n",
    "_ = ax.set_xticks(xticks)\n",
    "xlab = [f'1e{l}' for l in xticks]\n",
    "_ = ax.set_xticklabels(xlab, fontsize=8)\n",
    "_ = ax.set_xlabel('Number of KOs in taxid')\n",
    "# ax.set_xscale('log')"
   ]
  },
  {
   "cell_type": "markdown",
   "metadata": {},
   "source": [
    "Look at distributions of max samples across kos"
   ]
  },
  {
   "cell_type": "code",
   "execution_count": null,
   "metadata": {},
   "outputs": [],
   "source": [
    "c_counts = []\n",
    "for n in tree.traverse():\n",
    "    l = n.name\n",
    "    c_counts.append(dict_lin_maxmeannsam[l][0])\n",
    "\n",
    "\n",
    "fig, ax = general_plot(ft=8)\n",
    "bins = np.arange(0,max(c_counts),1)\n",
    "_ = ax.hist(c_counts, bins=bins)\n",
    "xlims = ax.get_xlim()\n",
    "xticks = np.arange(int(max(xlims)))\n",
    "_ = ax.set_xticks(xticks)\n",
    "# xlab = [f'1e{l}' for l in xticks]\n",
    "# _ = ax.set_xticklabels(xlab, fontsize=8)\n",
    "# _ = ax.set_xticklabels(fontsize=8)\n",
    "_ = ax.set_xlabel('Max number of samples with nonzero counts across KOs in taxid')\n",
    "# ax.set_xscale('log')"
   ]
  },
  {
   "cell_type": "markdown",
   "metadata": {},
   "source": [
    "Look at distributions of mean samples across kos"
   ]
  },
  {
   "cell_type": "code",
   "execution_count": null,
   "metadata": {},
   "outputs": [],
   "source": [
    "c_counts = []\n",
    "for n in tree.traverse():\n",
    "    l = n.name\n",
    "    c_counts.append(dict_lin_maxmeannsam[l][1])\n",
    "\n",
    "\n",
    "fig, ax = general_plot(ft=8)\n",
    "bins = np.arange(0,max(c_counts),1)\n",
    "_ = ax.hist(c_counts, bins=bins)\n",
    "xlims = ax.get_xlim()\n",
    "xticks = np.arange(int(max(xlims)))\n",
    "_ = ax.set_xticks(xticks)\n",
    "# xlab = [f'1e{l}' for l in xticks]\n",
    "# _ = ax.set_xticklabels(xlab, fontsize=8)\n",
    "# _ = ax.set_xticklabels(fontsize=8)\n",
    "_ = ax.set_xlabel('Mean number of samples with nonzero counts across KOs in taxid')\n",
    "# ax.set_xscale('log')"
   ]
  },
  {
   "cell_type": "markdown",
   "metadata": {},
   "source": [
    "Plot n contigs vs nkos"
   ]
  },
  {
   "cell_type": "code",
   "execution_count": null,
   "metadata": {},
   "outputs": [],
   "source": [
    "k_counts = []\n",
    "c_counts = []\n",
    "for n in tree.traverse():\n",
    "    c_counts.append(n.props['n_contigs'])\n",
    "    k_counts.append(n.props['nkos'])\n",
    "\n",
    "fig, ax = general_plot()\n",
    "ax.scatter(k_counts, c_counts, alpha=0.25)\n",
    "_ = ax.set_xlabel('Number of KOs')\n",
    "_ = ax.set_ylabel('Number of contigs')\n",
    "_ = ax.set_yscale('log')\n",
    "_ = ax.set_xscale('log')"
   ]
  },
  {
   "cell_type": "markdown",
   "metadata": {},
   "source": [
    "## Trim leaves based on loose filters"
   ]
  },
  {
   "cell_type": "markdown",
   "metadata": {},
   "source": [
    "Trim taxids"
   ]
  },
  {
   "cell_type": "code",
   "execution_count": 534,
   "metadata": {},
   "outputs": [],
   "source": [
    "thresh_n_contigs = 30\n",
    "thresh_nkos = 30\n",
    "\n",
    "taxids_trim = []\n",
    "for n in tree.leaves():\n",
    "    nc = n.props['n_contigs']\n",
    "    nk = n.props['nkos']\n",
    "    tid = n.name\n",
    "    ancest = n.ancestors()\n",
    "    while (nc < thresh_n_contigs) or (nk < thresh_nkos):\n",
    "        n_a = next(ancest)\n",
    "        nc = n_a.props['n_contigs']\n",
    "        nk = n_a.props['nkos']\n",
    "        tid = n_a.name            \n",
    "    taxids_trim.append(tid)\n"
   ]
  },
  {
   "cell_type": "markdown",
   "metadata": {},
   "source": [
    "Annotate props"
   ]
  },
  {
   "cell_type": "code",
   "execution_count": 535,
   "metadata": {},
   "outputs": [],
   "source": [
    "tree_trim = ncbi.get_topology(taxids_trim)\n",
    "\n",
    "for n in tree_trim.traverse():\n",
    "    l = n.name\n",
    "    n_contigs = dict_tax_contigcount[int(l)]\n",
    "    max_n_sam, meam_n_sam = dict_lin_maxmeannsam[l]\n",
    "    nkos = dict_lin_nkos[l]\n",
    "    n.add_props(\n",
    "        n_contigs=n_contigs, \n",
    "        max_n_sam=max_n_sam, \n",
    "        mean_n_sam=mean_n_sam, \n",
    "        nkos=nkos\n",
    "    )"
   ]
  },
  {
   "cell_type": "markdown",
   "metadata": {},
   "source": [
    "Plot"
   ]
  },
  {
   "cell_type": "code",
   "execution_count": null,
   "metadata": {},
   "outputs": [],
   "source": [
    "print(tree_trim.to_str(props=['sci_name','n_contigs','nkos','max_n_sam'], compact=True))"
   ]
  },
  {
   "cell_type": "markdown",
   "metadata": {},
   "source": [
    "Fraction of contigs with these leaves"
   ]
  },
  {
   "cell_type": "code",
   "execution_count": null,
   "metadata": {},
   "outputs": [],
   "source": [
    "c_count = 0\n",
    "for n in tree_trim.leaves():\n",
    "    c_count += n.props['n_contigs']\n",
    "\n",
    "total_n_contigs = len(taxids_all)\n",
    "\n",
    "frac = c_count / total_n_contigs\n",
    "c_count, frac"
   ]
  },
  {
   "cell_type": "markdown",
   "metadata": {},
   "source": [
    "At each node, what is the fraction of contigs with this as their finest rank?"
   ]
  },
  {
   "cell_type": "code",
   "execution_count": 538,
   "metadata": {},
   "outputs": [],
   "source": [
    "for n in tree_trim.traverse():\n",
    "    nc_current = n.props['n_contigs']\n",
    "    nc_descend = 0\n",
    "    for n_d in n.get_children():\n",
    "        nc_descend += n_d.props['n_contigs']\n",
    "    n.add_props(\n",
    "        frac_finest = round(1 - nc_descend / nc_current, 2)\n",
    "    )"
   ]
  },
  {
   "cell_type": "code",
   "execution_count": null,
   "metadata": {},
   "outputs": [],
   "source": [
    "print(tree_trim.to_str(props=['sci_name','n_contigs', 'frac_finest'], compact=True))"
   ]
  },
  {
   "cell_type": "markdown",
   "metadata": {},
   "source": [
    "How many taxids do I have?"
   ]
  },
  {
   "cell_type": "code",
   "execution_count": null,
   "metadata": {},
   "outputs": [],
   "source": [
    "n_taxids_trim = len(list(tree_trim.traverse()))\n",
    "n_taxids_trim"
   ]
  },
  {
   "cell_type": "markdown",
   "metadata": {},
   "source": [
    "Assign trimmed taxonomy to contigs"
   ]
  },
  {
   "cell_type": "code",
   "execution_count": null,
   "metadata": {},
   "outputs": [],
   "source": [
    "# Get the full set of taxids in the trimmmed tree\n",
    "set_taxids_trim = set(n.name for n in tree_trim.traverse())\n",
    "\n",
    "# Set up a new taxon mapping\n",
    "dict_contig_taxtrim = {}\n",
    "for c, t in dict_contig_tax.items():\n",
    "    t = t[0]\n",
    "    if int(t):\n",
    "        # If there's no need to trim this taxid\n",
    "        if t in set_taxids_trim:\n",
    "            dict_contig_taxtrim[c] = t\n",
    "        else:\n",
    "            # If the taxid exists in the ncbi database\n",
    "            try:\n",
    "                ancest = iter([str(l) for l in  ncbi.get_lineage(t)][::-1])\n",
    "                too_low = 1\n",
    "                # Step back through ancestors\n",
    "                while too_low:\n",
    "                    ta = next(ancest)\n",
    "                    if ta in set_taxids_trim:\n",
    "                        dict_contig_taxtrim[c] = ta\n",
    "                        too_low = 0\n",
    "            except:\n",
    "                pass\n",
    "\n"
   ]
  },
  {
   "cell_type": "markdown",
   "metadata": {},
   "source": [
    "## Trim leaves based on strict filters"
   ]
  },
  {
   "cell_type": "markdown",
   "metadata": {},
   "source": [
    "Trim taxids"
   ]
  },
  {
   "cell_type": "code",
   "execution_count": 542,
   "metadata": {},
   "outputs": [],
   "source": [
    "thresh_n_contigs = 30\n",
    "thresh_nkos = 90\n",
    "\n",
    "taxids_trim = []\n",
    "for n in tree.leaves():\n",
    "    nc = n.props['n_contigs']\n",
    "    nk = n.props['nkos']\n",
    "    tid = n.name\n",
    "    ancest = n.ancestors()\n",
    "    while (nc < thresh_n_contigs) or (nk < thresh_nkos):\n",
    "        n_a = next(ancest)\n",
    "        nc = n_a.props['n_contigs']\n",
    "        nk = n_a.props['nkos']\n",
    "        tid = n_a.name            \n",
    "    taxids_trim.append(tid)\n"
   ]
  },
  {
   "cell_type": "markdown",
   "metadata": {},
   "source": [
    "Annotate props"
   ]
  },
  {
   "cell_type": "code",
   "execution_count": 543,
   "metadata": {},
   "outputs": [],
   "source": [
    "tree_trim = ncbi.get_topology(taxids_trim)\n",
    "\n",
    "for n in tree_trim.traverse():\n",
    "    l = n.name\n",
    "    n_contigs = dict_tax_contigcount[int(l)]\n",
    "    max_n_sam, meam_n_sam = dict_lin_maxmeannsam[l]\n",
    "    nkos = dict_lin_nkos[l]\n",
    "    n.add_props(\n",
    "        n_contigs=n_contigs, \n",
    "        max_n_sam=max_n_sam, \n",
    "        mean_n_sam=mean_n_sam, \n",
    "        nkos=nkos\n",
    "    )"
   ]
  },
  {
   "cell_type": "markdown",
   "metadata": {},
   "source": [
    "Plot"
   ]
  },
  {
   "cell_type": "code",
   "execution_count": null,
   "metadata": {},
   "outputs": [],
   "source": [
    "print(tree_trim.to_str(props=['sci_name','n_contigs','nkos','max_n_sam'], compact=True))"
   ]
  },
  {
   "cell_type": "code",
   "execution_count": null,
   "metadata": {},
   "outputs": [],
   "source": [
    "tree"
   ]
  },
  {
   "cell_type": "markdown",
   "metadata": {},
   "source": [
    "Fraction of contigs with these leaves"
   ]
  },
  {
   "cell_type": "code",
   "execution_count": null,
   "metadata": {},
   "outputs": [],
   "source": [
    "c_count = 0\n",
    "for n in tree_trim.leaves():\n",
    "    c_count += n.props['n_contigs']\n",
    "\n",
    "total_n_contigs = len(taxids_all)\n",
    "\n",
    "frac = c_count / total_n_contigs\n",
    "c_count, frac"
   ]
  },
  {
   "cell_type": "markdown",
   "metadata": {},
   "source": [
    "At each node, what is the fraction of contigs with this as their finest rank?"
   ]
  },
  {
   "cell_type": "code",
   "execution_count": 546,
   "metadata": {},
   "outputs": [],
   "source": [
    "for n in tree_trim.traverse():\n",
    "    nc_current = n.props['n_contigs']\n",
    "    nc_descend = 0\n",
    "    for n_d in n.get_children():\n",
    "        nc_descend += n_d.props['n_contigs']\n",
    "    n.add_props(\n",
    "        frac_finest = round(1 - nc_descend / nc_current, 2)\n",
    "    )"
   ]
  },
  {
   "cell_type": "code",
   "execution_count": null,
   "metadata": {},
   "outputs": [],
   "source": [
    "print(tree_trim.to_str(props=['sci_name','n_contigs', 'frac_finest'], compact=True))"
   ]
  },
  {
   "cell_type": "markdown",
   "metadata": {},
   "source": [
    "How many taxids do I have?"
   ]
  },
  {
   "cell_type": "code",
   "execution_count": null,
   "metadata": {},
   "outputs": [],
   "source": [
    "n_taxids_trim = len(list(tree_trim.traverse()))\n",
    "n_taxids_trim"
   ]
  },
  {
   "cell_type": "markdown",
   "metadata": {},
   "source": [
    "Assign trimmed taxonomy to contigs"
   ]
  },
  {
   "cell_type": "code",
   "execution_count": 549,
   "metadata": {},
   "outputs": [],
   "source": [
    "# Get the full set of taxids in the trimmmed tree\n",
    "set_taxids_trim = set(n.name for n in tree_trim.traverse())\n",
    "\n",
    "# Set up a new taxon mapping\n",
    "dict_contig_taxtrim = {}\n",
    "for c, t in dict_contig_tax.items():\n",
    "    t = t[0]\n",
    "    if int(t):\n",
    "        # If there's no need to trim this taxid\n",
    "        if t in set_taxids_trim:\n",
    "            dict_contig_taxtrim[c] = t\n",
    "        else:\n",
    "            # If the taxid exists in the ncbi database\n",
    "            try:\n",
    "                ancest = iter([str(l) for l in  ncbi.get_lineage(t)][::-1])\n",
    "                too_low = 1\n",
    "                # Step back through ancestors\n",
    "                while too_low:\n",
    "                    ta = next(ancest)\n",
    "                    if ta in set_taxids_trim:\n",
    "                        dict_contig_taxtrim[c] = ta\n",
    "                        too_low = 0\n",
    "            except:\n",
    "                pass\n",
    "\n"
   ]
  },
  {
   "cell_type": "markdown",
   "metadata": {},
   "source": [
    "Map node name to contig list (contigs that don't map to a lower node)"
   ]
  },
  {
   "cell_type": "code",
   "execution_count": null,
   "metadata": {},
   "outputs": [],
   "source": [
    "dict_taxtrim_contigs = defaultdict(list)\n",
    "for c, t in dict_contig_taxtrim.items():\n",
    "    dict_taxtrim_contigs[t].append(c)"
   ]
  },
  {
   "cell_type": "markdown",
   "metadata": {},
   "source": [
    "Get nkos at each node (not including children)"
   ]
  },
  {
   "cell_type": "code",
   "execution_count": 607,
   "metadata": {},
   "outputs": [],
   "source": [
    "for n in tree_trim.traverse():\n",
    "    contigs = dict_taxtrim_contigs[n.name]\n",
    "    kos = [dict_contig_ko[c] for c in contigs]\n",
    "    n.add_props(\n",
    "        nkos_nochild=len(set(kos))\n",
    "    )\n"
   ]
  },
  {
   "cell_type": "code",
   "execution_count": null,
   "metadata": {},
   "outputs": [],
   "source": [
    "print(tree_trim.to_str(props=['sci_name','nkos_nochild'], compact=True))"
   ]
  },
  {
   "cell_type": "markdown",
   "metadata": {},
   "source": [
    "## Build slabs"
   ]
  },
  {
   "cell_type": "markdown",
   "metadata": {},
   "source": [
    "Get dict contig -> sample est counts"
   ]
  },
  {
   "cell_type": "code",
   "execution_count": 14,
   "metadata": {},
   "outputs": [
    {
     "data": {
      "text/plain": [
       "['/scratch/bgrodner/iron_ko_contigs/metat_search_results/dicts_iron_KO_contig/dicts_contig_count/NPac.G1PA.bf100.id99.aa.best.Kofam.incT30.csv.gz-iron_KOs.txt-G1PA.kallisto_abundance.tar.gz.G1PA.S09C1_3umB.abundance.tsv-dict.json',\n",
       " '/scratch/bgrodner/iron_ko_contigs/metat_search_results/dicts_iron_KO_contig/dicts_contig_count/NPac.G1PA.bf100.id99.aa.best.Kofam.incT30.csv.gz-iron_KOs.txt-G1PA.kallisto_abundance.tar.gz.G1PA.S08C1_3umA.abundance.tsv-dict.json',\n",
       " '/scratch/bgrodner/iron_ko_contigs/metat_search_results/dicts_iron_KO_contig/dicts_contig_count/NPac.G1PA.bf100.id99.aa.best.Kofam.incT30.csv.gz-iron_KOs.txt-G1PA.kallisto_abundance.tar.gz.G1PA.S04C1_3umA.abundance.tsv-dict.json',\n",
       " '/scratch/bgrodner/iron_ko_contigs/metat_search_results/dicts_iron_KO_contig/dicts_contig_count/NPac.G1PA.bf100.id99.aa.best.Kofam.incT30.csv.gz-iron_KOs.txt-G1PA.kallisto_abundance.tar.gz.G1PA.S11C1_3umB.abundance.tsv-dict.json',\n",
       " '/scratch/bgrodner/iron_ko_contigs/metat_search_results/dicts_iron_KO_contig/dicts_contig_count/NPac.G1PA.bf100.id99.aa.best.Kofam.incT30.csv.gz-iron_KOs.txt-G1PA.kallisto_abundance.tar.gz.G1PA.S06C1_3umC.abundance.tsv-dict.json',\n",
       " '/scratch/bgrodner/iron_ko_contigs/metat_search_results/dicts_iron_KO_contig/dicts_contig_count/NPac.G1PA.bf100.id99.aa.best.Kofam.incT30.csv.gz-iron_KOs.txt-G1PA.kallisto_abundance.tar.gz.G1PA.S14C1_3umA.abundance.tsv-dict.json',\n",
       " '/scratch/bgrodner/iron_ko_contigs/metat_search_results/dicts_iron_KO_contig/dicts_contig_count/NPac.G1PA.bf100.id99.aa.best.Kofam.incT30.csv.gz-iron_KOs.txt-G1PA.kallisto_abundance.tar.gz.G1PA.S02C1_3umC.abundance.tsv-dict.json',\n",
       " '/scratch/bgrodner/iron_ko_contigs/metat_search_results/dicts_iron_KO_contig/dicts_contig_count/NPac.G1PA.bf100.id99.aa.best.Kofam.incT30.csv.gz-iron_KOs.txt-G1PA.kallisto_abundance.tar.gz.G1PA.S04C1_3umB.abundance.tsv-dict.json',\n",
       " '/scratch/bgrodner/iron_ko_contigs/metat_search_results/dicts_iron_KO_contig/dicts_contig_count/NPac.G1PA.bf100.id99.aa.best.Kofam.incT30.csv.gz-iron_KOs.txt-G1PA.kallisto_abundance.tar.gz.G1PA.S11C1_3umA.abundance.tsv-dict.json',\n",
       " '/scratch/bgrodner/iron_ko_contigs/metat_search_results/dicts_iron_KO_contig/dicts_contig_count/NPac.G1PA.bf100.id99.aa.best.Kofam.incT30.csv.gz-iron_KOs.txt-G1PA.kallisto_abundance.tar.gz.G1PA.S14C1_3umB.abundance.tsv-dict.json',\n",
       " '/scratch/bgrodner/iron_ko_contigs/metat_search_results/dicts_iron_KO_contig/dicts_contig_count/NPac.G1PA.bf100.id99.aa.best.Kofam.incT30.csv.gz-iron_KOs.txt-G1PA.kallisto_abundance.tar.gz.G1PA.S08C1_3umB.abundance.tsv-dict.json',\n",
       " '/scratch/bgrodner/iron_ko_contigs/metat_search_results/dicts_iron_KO_contig/dicts_contig_count/NPac.G1PA.bf100.id99.aa.best.Kofam.incT30.csv.gz-iron_KOs.txt-G1PA.kallisto_abundance.tar.gz.G1PA.S09C1_3umA.abundance.tsv-dict.json',\n",
       " '/scratch/bgrodner/iron_ko_contigs/metat_search_results/dicts_iron_KO_contig/dicts_contig_count/NPac.G1PA.bf100.id99.aa.best.Kofam.incT30.csv.gz-iron_KOs.txt-G1PA.kallisto_abundance.tar.gz.G1PA.S13C1_3umA.abundance.tsv-dict.json',\n",
       " '/scratch/bgrodner/iron_ko_contigs/metat_search_results/dicts_iron_KO_contig/dicts_contig_count/NPac.G1PA.bf100.id99.aa.best.Kofam.incT30.csv.gz-iron_KOs.txt-G1PA.kallisto_abundance.tar.gz.G1PA.S12C1_3umB.abundance.tsv-dict.json',\n",
       " '/scratch/bgrodner/iron_ko_contigs/metat_search_results/dicts_iron_KO_contig/dicts_contig_count/NPac.G1PA.bf100.id99.aa.best.Kofam.incT30.csv.gz-iron_KOs.txt-G1PA.kallisto_abundance.tar.gz.G1PA.S02C1_3umB.abundance.tsv-dict.json',\n",
       " '/scratch/bgrodner/iron_ko_contigs/metat_search_results/dicts_iron_KO_contig/dicts_contig_count/NPac.G1PA.bf100.id99.aa.best.Kofam.incT30.csv.gz-iron_KOs.txt-G1PA.kallisto_abundance.tar.gz.G1PA.S09C1_3umC.abundance.tsv-dict.json',\n",
       " '/scratch/bgrodner/iron_ko_contigs/metat_search_results/dicts_iron_KO_contig/dicts_contig_count/NPac.G1PA.bf100.id99.aa.best.Kofam.incT30.csv.gz-iron_KOs.txt-G1PA.kallisto_abundance.tar.gz.G1PA.S08C1_3umC.abundance.tsv-dict.json',\n",
       " '/scratch/bgrodner/iron_ko_contigs/metat_search_results/dicts_iron_KO_contig/dicts_contig_count/NPac.G1PA.bf100.id99.aa.best.Kofam.incT30.csv.gz-iron_KOs.txt-G1PA.kallisto_abundance.tar.gz.G1PA.S12C1_3umA.abundance.tsv-dict.json',\n",
       " '/scratch/bgrodner/iron_ko_contigs/metat_search_results/dicts_iron_KO_contig/dicts_contig_count/NPac.G1PA.bf100.id99.aa.best.Kofam.incT30.csv.gz-iron_KOs.txt-G1PA.kallisto_abundance.tar.gz.G1PA.S06C1_3umA.abundance.tsv-dict.json',\n",
       " '/scratch/bgrodner/iron_ko_contigs/metat_search_results/dicts_iron_KO_contig/dicts_contig_count/NPac.G1PA.bf100.id99.aa.best.Kofam.incT30.csv.gz-iron_KOs.txt-G1PA.kallisto_abundance.tar.gz.G1PA.S13C1_3umB.abundance.tsv-dict.json',\n",
       " '/scratch/bgrodner/iron_ko_contigs/metat_search_results/dicts_iron_KO_contig/dicts_contig_count/NPac.G1PA.bf100.id99.aa.best.Kofam.incT30.csv.gz-iron_KOs.txt-G1PA.kallisto_abundance.tar.gz.G1PA.S04C1_3umC.abundance.tsv-dict.json',\n",
       " '/scratch/bgrodner/iron_ko_contigs/metat_search_results/dicts_iron_KO_contig/dicts_contig_count/NPac.G1PA.bf100.id99.aa.best.Kofam.incT30.csv.gz-iron_KOs.txt-G1PA.kallisto_abundance.tar.gz.G1PA.S14C1_3umC.abundance.tsv-dict.json',\n",
       " '/scratch/bgrodner/iron_ko_contigs/metat_search_results/dicts_iron_KO_contig/dicts_contig_count/NPac.G1PA.bf100.id99.aa.best.Kofam.incT30.csv.gz-iron_KOs.txt-G1PA.kallisto_abundance.tar.gz.G1PA.S02C1_3umA.abundance.tsv-dict.json']"
      ]
     },
     "execution_count": 14,
     "metadata": {},
     "output_type": "execute_result"
    }
   ],
   "source": [
    "# Get list of sample names\n",
    "dir_counts = '/scratch/bgrodner/iron_ko_contigs/metat_search_results/dicts_iron_KO_contig/dicts_contig_count'\n",
    "glob_fn = f'{dir_counts}/*G1PA*3um*.json'\n",
    "fns = glob.glob(glob_fn)\n",
    "fns\n"
   ]
  },
  {
   "cell_type": "code",
   "execution_count": 121,
   "metadata": {},
   "outputs": [
    {
     "name": "stdout",
     "output_type": "stream",
     "text": [
      "Current memory usage: 4122.24 MB\n",
      "Current memory usage: 4090.85 MB\n"
     ]
    }
   ],
   "source": [
    "fnf.getmem()\n",
    "dict_contig_estcounts = defaultdict(list)\n",
    "contigs_all = list(dict_contig_tax.keys())\n",
    "samples = []\n",
    "for fn in fns:\n",
    "    if '_3um' in fn:\n",
    "        samples.append(re.search(r'(?<=.tar.gz).+(?=\\.tsv-)', fn)[0])\n",
    "        # Load counts\n",
    "        with open(fn, 'r') as f:\n",
    "            dict_ctg_cnt = json.load(f)\n",
    "        for c in contigs_all:\n",
    "            c_ = re.sub(r'_\\d+$','',c)\n",
    "            # map contig to counts\n",
    "            dict_contig_estcounts[c].append(float(dict_ctg_cnt[c_][0]))\n",
    "fnf.getmem()\n"
   ]
  },
  {
   "cell_type": "code",
   "execution_count": null,
   "metadata": {},
   "outputs": [],
   "source": [
    "[[c, dict_contig_estcounts[c]] for c in contigs_all[:10]]"
   ]
  },
  {
   "cell_type": "markdown",
   "metadata": {},
   "source": [
    "How many kos are in each sample across the nodes?"
   ]
  },
  {
   "cell_type": "code",
   "execution_count": 574,
   "metadata": {},
   "outputs": [],
   "source": [
    "dict_tax_sam_kos = defaultdict(lambda: defaultdict(set))\n",
    "for n in tree_trim.traverse():\n",
    "    contigs = dict_taxtrim_contigs[n.name]\n",
    "    for c in contigs:\n",
    "        ko = dict_contig_ko[c]\n",
    "        estcounts = dict_contig_estcounts[c]\n",
    "        for sam, ec in enumerate(estcounts):\n",
    "            if ec:\n",
    "                dict_tax_sam_kos[n.name][sam].add(ko)"
   ]
  },
  {
   "cell_type": "code",
   "execution_count": null,
   "metadata": {},
   "outputs": [],
   "source": [
    "fig, ax = general_plot(dims=(10,4))\n",
    "\n",
    "xlab = []\n",
    "\n",
    "for x_, n in enumerate(tree_trim.traverse()):\n",
    "    nkos = []\n",
    "    for _, kos in dict_tax_sam_kos[n.name].items():\n",
    "        nkos.append(len(kos))\n",
    "    x = np.repeat(x_, len(nkos)).astype(float) \n",
    "    x += (np.random.rand(x.shape[0]) - 0.5) * 0.25\n",
    "    ax.scatter(x, np.array(nkos), c='k', s=2)\n",
    "    xlab.append(n.props['sci_name'])\n",
    "\n",
    "ax.set_xticks(np.arange(x_+1))\n",
    "ax.set_xticklabels(xlab, rotation=45, size=ft, ha='right', rotation_mode='anchor')\n",
    "ax.set_ylabel('Numer of KOs in sample')\n",
    "ax.set_xlabel('Taxid')"
   ]
  },
  {
   "cell_type": "markdown",
   "metadata": {},
   "source": [
    "Trim again, removing levels with low mean number of kos in sample"
   ]
  },
  {
   "cell_type": "code",
   "execution_count": null,
   "metadata": {},
   "outputs": [],
   "source": [
    "def get_mean_nkos(contigs):\n",
    "    dict_sam_kos = defaultdict(set)\n",
    "    for c in contigs:\n",
    "        ko = dict_contig_ko[c]\n",
    "        estcounts = dict_contig_estcounts[c]\n",
    "        for sam, ec in enumerate(estcounts):\n",
    "            if ec:\n",
    "                dict_sam_kos[sam].add(ko)\n",
    "    nkos = []\n",
    "    for _, kos in dict_sam_kos.items():\n",
    "        nkos.append(len(kos))\n",
    "    return np.mean(nkos)\n",
    "\n",
    "filt_mean_nkos = 30\n",
    "\n",
    "taxids_trim2 = []\n",
    "dict_taxtrim2_contigs = defaultdict(list)\n",
    "# Traverse from leaves to root\n",
    "for n in tree_trim.traverse(strategy='postorder'):\n",
    "    tid = n.name\n",
    "    # Get any new contigs from children\n",
    "    if tid in dict_taxtrim2_contigs:\n",
    "        contigs = dict_taxtrim2_contigs[tid]\n",
    "    # Otherwise get old contigs for node\n",
    "    else:\n",
    "        contigs = dict_taxtrim_contigs[tid]\n",
    "    # skip if root node\n",
    "    if not n.is_root:\n",
    "        # if the mean nkos is less than desired\n",
    "        mean_nkos = get_mean_nkos(contigs)\n",
    "        if mean_nkos < filt_mean_nkos:\n",
    "            print(n.props['sci_name'], tid)\n",
    "            # Then add these contigs to the parent taxon id\n",
    "            tid_parent = next(n.ancestors()).name\n",
    "            if tid_parent in dict_taxtrim2_contigs:\n",
    "                dict_taxtrim2_contigs[tid_parent] += contigs\n",
    "            else:\n",
    "                contigs_parent = dict_taxtrim_contigs[tid_parent]\n",
    "                dict_taxtrim2_contigs[tid_parent] += contigs_parent + contigs\n",
    "            # Remove existing taxid mapping\n",
    "            if tid in dict_taxtrim2_contigs:\n",
    "                del dict_taxtrim2_contigs[tid]\n",
    "        else:\n",
    "            dict_taxtrim2_contigs[tid] = contigs\n",
    "    else:\n",
    "        dict_taxtrim2_contigs[tid] = contigs\n",
    "\n",
    "\n"
   ]
  },
  {
   "cell_type": "code",
   "execution_count": null,
   "metadata": {},
   "outputs": [],
   "source": [
    "taxids_trim2 = list(dict_taxtrim2_contigs.keys())\n",
    "len(taxids_trim2)"
   ]
  },
  {
   "cell_type": "code",
   "execution_count": null,
   "metadata": {},
   "outputs": [],
   "source": [
    "tree_trim2 = ncbi.get_topology(taxids_trim2)\n",
    "\n",
    "print(tree_trim2.to_str(props=['sci_name']))"
   ]
  },
  {
   "cell_type": "markdown",
   "metadata": {},
   "source": [
    "Now how many kos are in each sample across the nodes?"
   ]
  },
  {
   "cell_type": "code",
   "execution_count": 673,
   "metadata": {},
   "outputs": [],
   "source": [
    "dict_tax_sam_kos = defaultdict(lambda: defaultdict(set))\n",
    "for n in tree_trim2.traverse():\n",
    "    contigs = dict_taxtrim2_contigs[n.name]\n",
    "    for c in contigs:\n",
    "        ko = dict_contig_ko[c]\n",
    "        estcounts = dict_contig_estcounts[c]\n",
    "        for sam, ec in enumerate(estcounts):\n",
    "            if ec:\n",
    "                dict_tax_sam_kos[n.name][sam].add(ko)"
   ]
  },
  {
   "cell_type": "code",
   "execution_count": null,
   "metadata": {},
   "outputs": [],
   "source": [
    "fig, ax = general_plot(dims=(10,4))\n",
    "\n",
    "xlab = []\n",
    "\n",
    "for x_, n in enumerate(tree_trim2.traverse()):\n",
    "    nkos = []\n",
    "    for _, kos in dict_tax_sam_kos[n.name].items():\n",
    "        nkos.append(len(kos))\n",
    "    x = np.repeat(x_, len(nkos)).astype(float) \n",
    "    x += (np.random.rand(x.shape[0]) - 0.5) * 0.25\n",
    "    ax.scatter(x, np.array(nkos), c='k', s=2)\n",
    "    ax.plot([x_-0.25, x_+0.25],[np.mean(nkos)]*2, 'r')\n",
    "    xlab.append(n.props['sci_name'])\n",
    "\n",
    "xlims = ax.get_xlim()\n",
    "ax.plot(xlims,[filt_mean_nkos]*2, 'k:')\n",
    "\n",
    "ax.set_xticks(np.arange(x_+1))\n",
    "ax.set_xticklabels(xlab, rotation=45, size=ft, ha='right', rotation_mode='anchor')\n",
    "ax.set_ylabel('Numer of KOs in sample')\n",
    "ax.set_xlabel('Taxid')"
   ]
  },
  {
   "cell_type": "markdown",
   "metadata": {},
   "source": [
    "How many samples are in each ko across the nodes?"
   ]
  },
  {
   "cell_type": "code",
   "execution_count": 603,
   "metadata": {},
   "outputs": [],
   "source": [
    "dict_tax_ko_sams = defaultdict(lambda: defaultdict(set))\n",
    "for n in tree_trim.traverse():\n",
    "    contigs = dict_taxtrim_contigs[n.name]\n",
    "    for c in contigs:\n",
    "        ko = dict_contig_ko[c]\n",
    "        estcounts = dict_contig_estcounts[c]\n",
    "        for sam, ec in enumerate(estcounts):\n",
    "            if ec:\n",
    "                dict_tax_ko_sams[n.name][ko].add(sam)"
   ]
  },
  {
   "cell_type": "code",
   "execution_count": null,
   "metadata": {},
   "outputs": [],
   "source": [
    "fig, ax = general_plot(dims=(10,4))\n",
    "\n",
    "xlab = []\n",
    "\n",
    "for x_, n in enumerate(tree_trim.traverse()):\n",
    "    nkos = []\n",
    "    for _, kos in dict_tax_ko_sams[n.name].items():\n",
    "        nkos.append(len(kos))\n",
    "    x = np.repeat(x_, len(nkos)).astype(float) \n",
    "    x += (np.random.rand(x.shape[0]) - 0.5) * 0.25\n",
    "    ax.scatter(x, np.array(nkos), c='k', s=2)\n",
    "    xlab.append(n.props['sci_name'])\n",
    "\n",
    "ax.set_xticks(np.arange(x_+1))\n",
    "ax.set_xticklabels(xlab, rotation=45, size=ft, ha='right', rotation_mode='anchor')\n",
    "ax.set_ylabel('Numer of samples in KO')\n",
    "ax.set_xlabel('Taxid')"
   ]
  },
  {
   "cell_type": "markdown",
   "metadata": {},
   "source": [
    "Get slab dict"
   ]
  },
  {
   "cell_type": "code",
   "execution_count": 676,
   "metadata": {},
   "outputs": [],
   "source": [
    "dict_tax_ko_estcounts = defaultdict(lambda: defaultdict(list))\n",
    "for n in tree_trim2.traverse():\n",
    "    contigs = dict_taxtrim2_contigs[n.name]\n",
    "    for c in contigs:\n",
    "        ko = dict_contig_ko[c]\n",
    "        dict_tax_ko_estcounts[n.name][ko].append(\n",
    "            dict_contig_estcounts[c]\n",
    "        )\n",
    "        "
   ]
  },
  {
   "cell_type": "markdown",
   "metadata": {},
   "source": [
    "Build dataframes"
   ]
  },
  {
   "cell_type": "code",
   "execution_count": 677,
   "metadata": {},
   "outputs": [],
   "source": [
    "dict_tax_slab = {}\n",
    "for n in tree_trim2.traverse():\n",
    "    # Add counts for all contigs in KO across samples\n",
    "    dict_ko_sumestcounts = {\n",
    "        ko: np.sum(ec, axis=0) \n",
    "        for ko, ec in dict_tax_ko_estcounts[n.name].items()\n",
    "    }\n",
    "    dict_tax_slab[n.name] = pd.DataFrame(\n",
    "        dict_ko_sumestcounts,\n",
    "        index=samples\n",
    "    )"
   ]
  },
  {
   "cell_type": "code",
   "execution_count": null,
   "metadata": {},
   "outputs": [],
   "source": [
    "tax = np.random.choice(taxids_trim2)\n",
    "dict_tax_slab[tax]"
   ]
  },
  {
   "cell_type": "markdown",
   "metadata": {},
   "source": [
    "Remove samples with few KOs and remove kos with few samples"
   ]
  },
  {
   "cell_type": "code",
   "execution_count": 679,
   "metadata": {},
   "outputs": [],
   "source": [
    "thresh_nkos = 20\n",
    "thresh_nsam = 3\n",
    "\n",
    "dict_tax_slab_filt = {}\n",
    "for n in tree_trim2.traverse():\n",
    "    df = dict_tax_slab[n.name]\n",
    "    dfb = df.astype(bool)\n",
    "    nkos = dfb.sum(axis=1)\n",
    "    nsam = dfb.sum(axis=0)\n",
    "    bool_nkos = nkos > thresh_nkos\n",
    "    bool_nsam = nsam > thresh_nsam\n",
    "    df_filt = df.loc[bool_nkos, bool_nsam]\n",
    "    dict_tax_slab_filt[n.name] = df_filt\n"
   ]
  },
  {
   "cell_type": "markdown",
   "metadata": {},
   "source": [
    "Save tables"
   ]
  },
  {
   "cell_type": "code",
   "execution_count": 680,
   "metadata": {},
   "outputs": [],
   "source": [
    "out_dir = '/scratch/bgrodner/iron_ko_contigs/metat_search_results/barnacle/G1PA/3um'\n",
    "if not os.path.exists(out_dir):\n",
    "    os.makedirs(out_dir)\n",
    "\n",
    "for n in tree_trim2.traverse():\n",
    "    df = dict_tax_slab_filt[n.name]\n",
    "    out_fn = f'{out_dir}/taxon_slabs/G1PA_3um-taxid_{n.name}-df_estcounts_sample_ko.csv'\n",
    "    df.to_csv(out_fn)\n",
    "\n"
   ]
  },
  {
   "cell_type": "markdown",
   "metadata": {},
   "source": [
    "### Get tidy format"
   ]
  },
  {
   "cell_type": "markdown",
   "metadata": {},
   "source": [
    "Parse filenames function"
   ]
  },
  {
   "cell_type": "code",
   "execution_count": 681,
   "metadata": {},
   "outputs": [],
   "source": [
    "def parse_fn_kallisto_sn(fn, sn_type='', get_columns=False):\n",
    "    if not get_columns:\n",
    "        try:\n",
    "            ass, sample, ammend, timep, depth, size, rep = [''] * 7\n",
    "            if sn_type == 'G1NS':\n",
    "                ass, sm_sz, rep, _ = fn.split('.')\n",
    "                sample, sz = sm_sz.split('_',1)\n",
    "                size = re.sub('_','.',sz)\n",
    "            elif sn_type == 'G2NS':\n",
    "                ass, sample, depth, sz, rep, _ = fn.split('.')\n",
    "                size = re.sub('_','.',sz)\n",
    "            elif sn_type == 'G3NS':\n",
    "                ass_sm, dp_sz_rep = fn.split('_', 1)\n",
    "                ass = re.match(r'.+NS', ass_sm)[0]\n",
    "                sample = re.search(r'UW\\d+', ass_sm)[0]\n",
    "                dp1, dp2, sz, rep, _ = dp_sz_rep.split('.')\n",
    "                depth = f'{dp1}.{dp2}'\n",
    "                size = re.sub('_','.',sz)\n",
    "            elif sn_type == 'G5':\n",
    "                ass, sample, ammend, timep, rep, _ = fn.split('.')\n",
    "            elif sn_type == 'D1':\n",
    "                ass, sm_rep_tp, _, _ = fn.split('.')\n",
    "                sample, rep, timep = sm_rep_tp.split('_')\n",
    "            elif sn_type == 'G1PA':\n",
    "                ass, fn_ = fn.split('.', 1)\n",
    "                sample, fn_ = fn_.split('_', 1)\n",
    "                size = re.search(r'.+um', fn_)[0]\n",
    "                rep = re.search(r'(?<=um)\\w+(?=\\.)',fn_)[0]\n",
    "            elif sn_type == 'G2PA':\n",
    "                _, ass, sample, depth, sz, rep, _, _ = fn.split('.')\n",
    "                size = re.sub('_','.',sz)\n",
    "            elif sn_type == 'G3PA.UW':\n",
    "                ass, sample, _, _, _, _ = fn.split('.')\n",
    "            elif sn_type == 'G3PA.diel':\n",
    "                ass1, ass2, sample, rep, _, _, _, _ = fn.split('.')\n",
    "                ass = f'{ass1}.{ass2}'\n",
    "            elif sn_type == 'G3PA.PM':\n",
    "                ass_sm, dp_tp_sz_rp = fn.split('_', 1)\n",
    "                ass = re.match(r'.+(?=.UW)', ass_sm)[0]\n",
    "                sample = re.search(r'UW\\d+$', ass_sm)[0]\n",
    "                depth, tp_sz_rp = dp_tp_sz_rp.split('_',1)\n",
    "                timep, sz_rp = tp_sz_rp.split('.',1)\n",
    "                size = re.match(r'.+um(?=\\.)', sz_rp)[0]\n",
    "                rep = re.search(r'(?<=um\\.)\\w+', sz_rp)[0]\n",
    "            else:\n",
    "                raise ValueError(\n",
    "                    f\"\"\"\n",
    "                    Sample name parse type not provided (sn_type_parse_kallisto column in file table)\n",
    "                    \"\"\"\n",
    "                )        \n",
    "            return [ass, sample, ammend, timep, depth, size, rep]\n",
    "        except:\n",
    "            raise ValueError(\n",
    "                f\"\"\"\n",
    "                Failed to parse filename:\n",
    "                {fn}\n",
    "                Using type:\n",
    "                {sn_type}\n",
    "                \"\"\"\n",
    "            )\n",
    "    else:\n",
    "        return ['assembly', 'sample', 'ammendment', 'timepoint', 'depth', 'size', 'rep']\n"
   ]
  },
  {
   "cell_type": "markdown",
   "metadata": {},
   "source": [
    "parse sample names"
   ]
  },
  {
   "cell_type": "code",
   "execution_count": null,
   "metadata": {},
   "outputs": [],
   "source": [
    "parse_fn_kallisto_sn(samples[0][1:], sn_type='G1PA')"
   ]
  },
  {
   "cell_type": "markdown",
   "metadata": {},
   "source": [
    "Build tidy df"
   ]
  },
  {
   "cell_type": "code",
   "execution_count": null,
   "metadata": {},
   "outputs": [],
   "source": [
    "tidy_df = []\n",
    "columns = ['gene','taxon','sample','replicate','transcript_count']\n",
    "for tax, dict_ko_estcounts in dict_tax_ko_estcounts.items():\n",
    "    for ko, estcounts in dict_ko_estcounts.items():\n",
    "        ec_sum = np.sum(estcounts, axis=0)\n",
    "        for sn, count in zip(samples, ec_sum):\n",
    "            ass, sample, _, _, _, size, rep = (\n",
    "                parse_fn_kallisto_sn(sn[1:], sn_type='G1PA')\n",
    "            )\n",
    "            row = [ko, tax, sample, rep, count]\n",
    "            tidy_df.append(row)\n",
    "\n",
    "tidy_df = pd.DataFrame(tidy_df, columns=columns)\n",
    "tidy_df[:5]"
   ]
  },
  {
   "cell_type": "markdown",
   "metadata": {},
   "source": [
    "Save tidy df"
   ]
  },
  {
   "cell_type": "code",
   "execution_count": 691,
   "metadata": {},
   "outputs": [],
   "source": [
    "out_fn = f'{out_dir}/G1PA_3um-df_tidy_estcounts.csv'\n",
    "tidy_df.to_csv(out_fn)"
   ]
  },
  {
   "cell_type": "markdown",
   "metadata": {},
   "source": []
  },
  {
   "cell_type": "markdown",
   "metadata": {},
   "source": []
  },
  {
   "cell_type": "markdown",
   "metadata": {},
   "source": []
  },
  {
   "cell_type": "code",
   "execution_count": null,
   "metadata": {},
   "outputs": [],
   "source": [
    "a = [[1,2,3],[1,2,3]]\n",
    "np.sum(a, axis=0)"
   ]
  },
  {
   "cell_type": "code",
   "execution_count": null,
   "metadata": {},
   "outputs": [],
   "source": [
    "def a(a,b):\n",
    "    return a+b\n",
    "\n",
    "def c(a,b,c):\n",
    "    return a-b-c\n",
    "\n",
    "def b(x, **args):\n",
    "    if x > 0:\n",
    "        return a(**args)\n",
    "    elif x:\n",
    "        return c(**args)\n",
    "b(-1)"
   ]
  },
  {
   "cell_type": "markdown",
   "metadata": {},
   "source": [
    "## Test the TreeTrim class"
   ]
  },
  {
   "cell_type": "code",
   "execution_count": 131,
   "metadata": {},
   "outputs": [],
   "source": [
    "from scripts.cl_tree_trim import TreeTrim"
   ]
  },
  {
   "cell_type": "code",
   "execution_count": 134,
   "metadata": {},
   "outputs": [
    {
     "name": "stderr",
     "output_type": "stream",
     "text": [
      "/venv/ete4/ete4/ncbi_taxonomy/ncbiquery.py:216: UserWarning: taxid 1547445 was translated into 653937\n",
      "  warnings.warn('taxid %s was translated into %s' %\n",
      "/venv/ete4/ete4/ncbi_taxonomy/ncbiquery.py:216: UserWarning: taxid 1301032 was translated into 1432050\n",
      "  warnings.warn('taxid %s was translated into %s' %\n"
     ]
    }
   ],
   "source": [
    "# fn_tidy = 'metat_search_results/dicts_iron_KO_contig/tidy_tables/NPac.G1PA.bf100.id99.aa.best.Kofam.incT30.csv.gz-iron_KOs.txt-tidys/NPac.G1PA.bf100.id99.aa.best.Kofam.incT30.csv.gz-iron_KOs.txt-tidy.csv'\n",
    "# test = TreeTrim(fn_tidy)\n",
    "test = TreeTrim(dict_contig_tax, dict_contig_ko, dict_contig_estcounts)"
   ]
  },
  {
   "cell_type": "code",
   "execution_count": 143,
   "metadata": {},
   "outputs": [
    {
     "name": "stdout",
     "output_type": "stream",
     "text": [
      "                                                                                                                                                                               ╭╴Nocardia carnea,37328\n",
      "                                                                                                                                                               ╭╴Nocardia,1817╶┼╴Nocardia pneumoniae NBRC 100136,1206737\n",
      "                                                                                                                                          ╭╴Nocardiaceae,85025╶┤               ╰╴Nocardia sp. BMG111209,1160137\n",
      "                                                                                                                                          │                    ├╴Rhodococcoides fascians 04-516,1443890\n",
      "                                                                                                                                          │                    ╰╴Rhodococcus jostii RHA1,101510\n",
      "                                                                                                                  ╭╴Mycobacteriales,85007╶┼╴Mycobacteriaceae,1762╶┬╴Mycobacteroides abscessus,36809\n",
      "                                                                                                                  │                       │                       ╰╴Mycolicibacterium thermoresistibile ATCC 19527,1078020\n",
      "                                                                                                                  │                       ├╴Corynebacterium variabile DSM 44702,858619\n",
      "                                                                                                                  │                       ╰╴Gordonia paraffinivorans NBRC 108238,1223543\n",
      "                                                                                                                  │                     ╭╴Promicromonospora kroppenstedtii,440482\n",
      "                                                                                                                  ├╴Micrococcales,85006╶┼╴Agrococcus jejuensis,399736\n",
      "                                                                                                                  │                     ╰╴Knoellia aerolata DSM 18566,1385519\n",
      "                                                                                                                  ├╴Propionibacteriales,85009╶┬╴Kribbella flavida,182640\n",
      "                                                                                                                  │                           ╰╴Aestuariimicrobium kwangyangense,396389\n",
      "                                                                                                                  ├╴Streptosporangiales,85012╶┬╴Thermomonospora curvata,2020\n",
      "                                                                                                                  │                           ╰╴Nocardiopsis potens DSM 45234,570268\n",
      "                                                                                                                  │                                                                                ╭╴Streptomyces sp. NRRL B-1140,1415549\n",
      "                                                                                                                  │                                                                                ├╴Streptomyces sp. Amel2xE9,1157634\n",
      "                                                                                                                  │                                                                                ├╴Streptomyces sp. NRRL S-237,1463895\n",
      "                                                                                                                  │                                            ╭╴unclassified Streptomyces,2593676╶┼╴Streptomyces sp. NRRL S-350,1463902\n",
      "                                                                                             ╭╴Actinomycetes,1760╶┤                                            │                                   ├╴Streptomyces sp. NRRL S-920,1463921\n",
      "                                                                                             │                    ├╴Streptomycetaceae,2062╶╌╴Streptomyces,1883╶┤                                   ├╴Streptomyces sp. NRRL WC-3774,1463937\n",
      "                                                                                             │                    │                                            │                                   ├╴Streptomyces sp. GBA 94-10 4N24,1218177\n",
      "                                                                                             │                    │                                            │                                   ╰╴Streptomyces sp. AS58,1519489\n",
      "                                                                                             │                    │                                            ╰╴Streptomyces lavenduligriseus,67315\n",
      "                                                                                             │                    │                         ╭╴Actinokineospora,39845\n",
      "                                                                                             │                    ├╴Pseudonocardiaceae,2070╶┼╴Allokutzneria albata,211114\n",
      "                                                                                             │                    │                         ├╴Saccharothrix syringae,103733\n",
      "                                                                     ╭╴Actinomycetota,201174╶┤                    │                         ╰╴Actinosynnema mirum,40567\n",
      "                                                                     │                       │                    │                                              ╭╴unclassified Actinoplanes,2626549╶┬╴Actinoplanes sp. N902-109,649831\n",
      "                                                                     │                       │                    │                          ╭╴Actinoplanes,1865╶┤                                   ╰╴Actinoplanes sp. SE50/110,134676\n",
      "                                                                     │                       │                    ├╴Micromonosporaceae,28056╶┤                   ╰╴Actinoplanes friuliensis DSM 7358,1246995\n",
      "                                                                     │                       │                    │                          ├╴Catelliglobosispora koreensis,129052\n",
      "                                                                     │                       │                    │                          ╰╴Micromonospora maris,1003110\n",
      "                                                                     │                       │                    ├╴Glycomyces tenuis,58116\n",
      "                                                                     │                       │                    ╰╴Bifidobacterium subtile,77635\n",
      "                                                                     │                       ╰╴Rubrobacter xylanophilus DSM 9941,266117\n",
      "                                                                     │                                                                       ╭╴Halobacillus dabanensis,240302\n",
      "                                                                     │                                                  ╭╴Bacillaceae,186817╶┼╴Halalkalibacterium halodurans C-125,272558\n",
      "                                                                     │                                                  │                    ├╴Ornithinibacillus scapharcae TW25,981383\n",
      "                                                                     │                                                  │                    ╰╴Bacillus mojavensis RO-H-1 = KCTC 3706,1051501\n",
      "                                                                     │                                                  │                                               ╭╴Paenibacillus mucilaginosus,61624\n",
      "                                                                     │                                ╭╴Bacillales,1385╶┤                         ╭╴Paenibacillus,44249╶┼╴Paenibacillus polymyxa,1406\n",
      "                                                                     │                                │                 ├╴Paenibacillaceae,186822╶┤                     ╰╴Paenibacillus pinihumi,669462\n",
      "                                                                     │                                │                 │                         ╰╴Saccharibacillus kuerlensis,459527\n",
      "                                                                     │                ╭╴Bacilli,91061╶┤                 ├╴Listeria,1637\n",
      "                                                                     │                │               │                 ╰╴Solibacillus silvestris StLB046,1002809\n",
      "                                                                     │                │               │                        ╭╴Lactobacillaceae,33958╶┬╴Lentilactobacillus farraginis DSM 18382 = JCM 14108,1423743\n",
      "                                                                     │                │               │                        │                        ╰╴Pediococcus claussenii ATCC BAA-344,701521\n",
      "                                                                     │                │               ╰╴Lactobacillales,186826╶┼╴Streptococcaceae,1300╶┬╴Streptococcus,1301\n",
      "                                                 ╭╴Bacillati,1783272╶┤                │                                        │                       ╰╴Lactococcus raffinolactis 4877,1215915\n",
      "                                                 │                   ├╴Bacillota,1239╶┤                                        ╰╴Carnobacterium maltaromaticum LMA28,1234679\n",
      "                                                 │                   │                │                                          ╭╴Oscillospiraceae,216572╶┬╴Ruminococcus flavefaciens AE3010,1384066\n",
      "                                                 │                   │                │                                          │                         ╰╴Thermoclostridium stercorarium subsp. stercorarium DSM 8532,1121335\n",
      "                                                 │                   │                │                   ╭╴Eubacteriales,186802╶┼╴Desulfosporosinus,79206\n",
      "                                                 │                   │                ├╴Clostridia,186801╶┤                      ├╴Clostridium,1485\n",
      "                                                 │                   │                │                   │                      ╰╴Clostridiales bacterium oral taxon 876 str. F0540,1321778\n",
      "                                                 │                   │                │                   ╰╴Lachnospiraceae,186803\n",
      "                                                 │                   │                ╰╴Negativicutes,909932╶╌╴Selenomonas,970\n",
      "                                                 │                   │                                                               ╭╴Nostocaceae,1162╶┬╴Anabaena sp. PCC 7108,163908\n",
      "                                                 │                   │                                                               │                  ╰╴Richelia intracellularis HH01,1165094\n",
      "                                                 │                   │                                             ╭╴Nostocales,1161╶┼╴Mastigocladopsis repens PCC 10914,221288\n",
      "                                                 │                   │                                             │                 ├╴Fortiea contorta PCC 7126,643473\n",
      "                                                 │                   │                                             │                 ╰╴Fischerella sp. PCC 9339,1174528\n",
      "                                                 │                   │                                             │                                                      ╭╴Microcoleaceae,1892252╶┬╴Microcoleus vaginatus FGP-2,756067\n",
      "                                                 │                   │                                             │                               ╭╴Oscillatoriales,1150╶┤                        ╰╴Trichodesmium erythraeum IMS101,203124\n",
      "                                                 │                   ├╴Cyanobacteriota,1117╶╌╴Cyanophyceae,3028117╶┼╴Oscillatoriophycideae,1301283╶┤                      ╰╴Oscillatoriaceae,1892254╶┬╴Moorena producens,1155739\n",
      "                                                 │                   │                                             │                               │                                                 ╰╴Oscillatoria sp. PCC 10802,1173028\n",
      "                                                 │                   │                                             │                               ╰╴Crocosphaera,263510\n",
      "                                                 │                   │                                             ├╴Cyanobium,167375╶╌╴Cyanobium sp. CACIAM 14,1496688\n",
      "                                                 │                   │                                             ├╴Prochlorothrix hollandica PCC 9006 = CALU 1027,317619\n",
      "                                                 │                   │                                             ├╴Chamaesiphon minutus PCC 6605,1173020\n",
      "                                                 │                   │                                             ╰╴Leptolyngbya sp. PCC 7375,102129\n",
      "                                                 │                   ╰╴Herpetosiphon aurantiacus DSM 785,316274\n",
      "                                                 │                                                                                                  ╭╴Pseudoalteromonadaceae,267888╶┬╴Pseudoalteromonas,53246\n",
      "                                                 │                                                                                                  │                               ╰╴Algicola sagamiensis,163869\n",
      "                                                 │                                                                         ╭╴Alteromonadales,135622╶┼╴Alteromonadaceae,72275╶┬╴Alteromonas,226\n",
      "                                                 │                                                                         │                        │                        ╰╴Lacimicrobium alkaliphilum,1526571\n",
      "                                                 │                                                                         │                        ├╴Idiomarinaceae,267893\n",
      "                                                 │                                                                         │                        ╰╴Shewanella,22╶┬╴Shewanella psychrophila,225848\n",
      "                                                 │                                                                         │                                        ╰╴Shewanella woodyi ATCC 51908,392500\n",
      "                                                 │                                                                         ├╴Legionellales,118969╶╌╴Legionella anisa str. Linanisette,1230343\n",
      "                                                 │                                                                         │                                                                          ╭╴Hydrogenovibrio marinus,28885\n",
      "                                                 │                                                                         │                                                  ╭╴Hydrogenovibrio,28884╶┼╴Hydrogenovibrio sp. Milos-T1,90813\n",
      "                                                 │                                                                         │                     ╭╴Piscirickettsiaceae,135616╶┤                       ╰╴Hydrogenovibrio kuenenii DSM 12350,1168067\n",
      "                                                 │                                                                         ├╴Thiotrichales,72273╶┤                            ╰╴Thiomicrorhabdus,2039723\n",
      "                                                 │                                                                         │                     ╰╴Francisella,262╶┬╴Francisella halioticida,549298\n",
      "                                                 │                                                                         │                                       ╰╴Candidatus Francisella endociliophora,653937\n",
      "                                                 │                                                                         ├╴Oceanospirillales,135619╶┬╴Zymobacter palmae,33074\n",
      "                                                 │                                                                         │                          ╰╴Hahella chejuensis KCTC 2396,349521\n",
      "                                                 │                                                                         ├╴Cellvibrionales,1706369╶┬╴unclassified Halieaceae,1706379\n",
      "                                                 │                                                                         │                         ╰╴Cellvibrio sp. BR,1134474\n",
      "                                                 │                                                                         ├╴Lysobacterales,135614╶┬╴Lysobacter antibioticus,84531\n",
      "                                                 │                                                                         │                       ╰╴Luteibacter sp. 9135,1500893\n",
      "                                                 │                                                                         ├╴Chromatiales,135613╶╌╴Chromatiaceae,1046╶╌╴Thiocapsa marina 5811,768671\n",
      "                                                 │                                              ╭╴Gammaproteobacteria,1236╶┤                                                 ╭╴Citrobacter,544╶╌╴Citrobacter freundii CFNIH1,1333848\n",
      "                                                 │                                              │                          │                        ╭╴Enterobacteriaceae,543╶┼╴Enterobacter cloacae complex,354276╶┬╴Enterobacter cloacae,550\n",
      "                                                 │                                              │                          │                        │                        │                                     ╰╴Enterobacter asburiae LF7a,640513\n",
      "                                                 │                                              │                          │                        │                        ╰╴Franconibacter pulveris 1160,1406822\n",
      "                                                 │                                              │                          ├╴Enterobacterales,91347╶┼╴Morganellaceae,1903414╶╌╴Xenorhabdus nematophila ATCC 19061,406817\n",
      "                                                 │                                              │                          │                        ├╴Erwinia,551\n",
      "                                                 │                                              │                          │                        ├╴Lonsdalea quercina subsp. quercina,1082705\n",
      "                                                 │                                              │                          │                        ╰╴Yersinia frederiksenii ATCC 33641,349966\n",
      "                                                 │                                              │                          │                                           ╭╴Pseudomonas pohangensis,364197\n",
      "                                                 │                                              │                          ├╴Pseudomonadaceae,135621╶╌╴Pseudomonas,286╶┼╴Pseudomonas japonica NBRC 103040 = DSM 22348,1215104\n",
      "                                                 │                                              │                          │                                           ├╴Pseudomonas luteola XLDN4-9,1207076\n",
      "                                                 │                                              │                          │                                           ╰╴Pseudomonas poae RE*1-1-14,1282356\n",
      "                                                 │                                              │                          ├╴gamma proteobacterium HIMB30,751994\n",
      "                                                 │                                              │                          ├╴Vibrionaceae,641╶┬╴Photobacterium,657\n",
      "                                                 │                                              │                          │                  ╰╴Vibrio,662╶╌╴Vibrio rhizosphaerae,398736\n",
      "                                                 │                                              │                          ├╴Acinetobacter,469\n",
      "                                                 │                                              │                          ├╴Actinobacillus,713\n",
      "                                                 │                                              │                          ├╴Gilliamella apicola,1196095\n",
      "                                                 │                                              │                          ├╴Aeromonas diversa CDC 2478-85,1268237\n",
      "                                                 │                                              │                          ╰╴Methylomonas methanica MC09,857087\n",
      "                                                 │                                              │                                                                            ╭╴unclassified Cupriavidus,2640874╶┬╴Cupriavidus sp. SK-3,1470558\n",
      "                                                 │                                              │                                                  ╭╴Burkholderiaceae,119060╶┤                                  ╰╴Cupriavidus sp. BIS7,1217718\n",
      "                                    ╭╴Bacteria,2╶┤                                              │                                                  │                         ╰╴Ralstonia sp. AU12-08,1235457\n",
      "                                    │            │                                              │                          ╭╴Burkholderiales,80840╶┼╴Comamonadaceae,80864╶╌╴Comamonas granuli NBRC 101663,1223521\n",
      "                                    │            │                        ╭╴Pseudomonadota,1224╶┤                          │                       ├╴Alcaligenes faecalis,511\n",
      "                                    │            │                        │                     ├╴Betaproteobacteria,28216╶┤                       ╰╴Janthinobacterium lividum PAMC 25724,1112211\n",
      "                                    │            │                        │                     │                          ├╴Andreprevotia chitinilytica,396808\n",
      "                                    │            │                        │                     │                          ├╴Methylobacillus flagellatus KT,265072\n",
      "                                    │            │                        │                     │                          ╰╴Dechloromonas aromatica RCB,159087\n",
      "                                    │            │                        │                     │                                                  ╭╴Rhizobiaceae,82115╶┬╴Ensifer adhaerens,106592\n",
      "                                    │            │                        │                     │                                                  │                    ╰╴Rhizobium etli bv. mimosae str. IE4771,1432050\n",
      "                                    │            │                        │                     │                                                  ├╴Nitrobacteraceae,41294╶╌╴Rhodopseudomonas palustris BisA53,316055\n",
      "                                    │            │                        │                     │                           ╭╴Hyphomicrobiales,356╶┼╴Methylorubrum extorquens,408\n",
      "                                    │            │                        │                     │                           │                      ├╴Rhodomicrobium udaipurense JA643,858455\n",
      "                                    │            │                        │                     │                           │                      ├╴Methylocella silvestris BL2,395965\n",
      "                                    │            │                        │                     │                           │                      ╰╴Bosea sp. LC85,1502851\n",
      "                                    │            │                        │                     │                           │                        ╭╴Paracoccaceae,31989╶╌╴Paracoccus,265╶╌╴Paracoccus tegillarcae,1529068\n",
      "                                    │            │                        │                     │                           │                        │                                           ╭╴Ruegeria halocynthiae,985054\n",
      "                                    │            │                        │                     │                           ├╴Rhodobacterales,204455╶┤                          ╭╴Ruegeria,97050╶┼╴Ruegeria pomeroyi DSS-3,246200\n",
      "                                    │            │                        │                     │                           │                        │                          │                ╰╴Ruegeria sp. TrichCH4B,644076\n",
      "                                    │            │                        │                     ├╴Alphaproteobacteria,28211╶┤                        │                          ├╴Wenxinia marina,390641\n",
      "                                    │            │                        │                     │                           │                        ╰╴Roseobacteraceae,2854170╶┼╴Roseobacter denitrificans OCh 114,375451\n",
      "                                    │            │                        │                     │                           │                                                   ├╴Oceanicola sp. HL-35,1305735\n",
      "                                    │            │                        │                     │                           │                                                   ├╴Dinoroseobacter shibae DFL 12 = DSM 16493,398580\n",
      "                                    │            │                        │                     │                           │                                                   ╰╴Marinovum algicola DG 898,988812\n",
      "                                    │            │                        │                     │                           ├╴Sphingomonadales,204457╶╌╴Sphingomonas,13687\n",
      "                                    │            │                        │                     │                           ├╴Ponticaulis koreensis,1123045\n",
      "                                    │            │                        │                     │                           ├╴Phenylobacterium zucineum HLK1,450851\n",
      "                                    │            │                        │                     │                           ╰╴Candidatus Xenolissoclinum pacificiensis L6,1401685\n",
      "                                    │            │                        │                     ╰╴Acidithiobacillales,225057\n",
      "                                    │            │                        │                                                        ╭╴Myxococcus hansupus,1297742\n",
      "                                    │            │                        │                     ╭╴Myxococcaceae,31╶╌╴Myxococcus,32╶┼╴Myxococcus stipitatus DSM 14675,1278073\n",
      "                                    │            │                        ├╴Myxococcota,2818505╶┤                                  ╰╴Myxococcus fulvus HW-1,483219\n",
      "                                    │            │                        │                     ╰╴Sorangium cellulosum,56╶╌╴Sorangium cellulosum So0157-2,1254432\n",
      "                                    │            │                        │                                                                    ╭╴Pirellulaceae,2691357╶╌╴Pirellula staleyi,125\n",
      "                                    │            ├╴Pseudomonadati,3379134╶┤                                            ╭╴Planctomycetia,203683╶┼╴Gemmataceae,1914233\n",
      "                                    │            │                        │                   ╭╴Planctomycetota,203682╶┤                       ╰╴Gimesia maris DSM 8797,344747\n",
      "                                    │            │                        │                   │                        ╰╴Candidatus Jettenia caeni,247490\n",
      "                                    │            │                        ├╴PVC group,1783257╶┤                         ╭╴Verrucomicrobiaceae,203557╶┬╴Verrucomicrobium sp. BvORR106,1403819\n",
      "                                    │            │                        │                   ├╴Verrucomicrobiota,74201╶┤                            ╰╴Haloferula sp. BvORR071,1396141\n",
      "                                    │            │                        │                   │                         ╰╴Coraliomargarita akajimensis,395922\n",
      "                                    │            │                        │                   ╰╴Criblamydia sequanensis CRIB-18,1437425\n",
      "                                    │            │                        │                                ╭╴Desulfuromonadia,3031651╶╌╴Desulfuromonas sp. TF,1232410\n",
      "                                    │            │                        ├╴Thermodesulfobacteriota,200940╶┼╴Desulfobacterales,213118╶┬╴Desulfatibacillum,218207\n",
      "                                    │            │                        │                                │                          ╰╴Desulfobacter postgatei 2ac9,879212\n",
      "                                    │            │                        │                                ╰╴Desulfovibrionaceae,194924\n",
      "                                    │            │                        │                                                                                                                                     ╭╴Flavobacterium,237╶┬╴Flavobacterium rivuli,498301\n",
      "                                    │            │                        │                                                                                                                                     │                    ╰╴Flavobacterium gelidilacus,206041\n",
      "                                    │            │                        │                                                                                                                                     ├╴Aquimarina,290174╶╌╴Aquimarina macrocephali JAMB N27,1443665\n",
      "                                    │            │                        │                                                                                                                                     ├╴Algibacter luteus,1178825\n",
      "                                    │            │                        │                                                                                 ╭╴Flavobacteriales,200644╶╌╴Flavobacteriaceae,49546╶┼╴Flavobacteriaceae bacterium UJ101,1150389\n",
      "                                    │            │                        │                                                                                 │                                                   ├╴Pseudalgibacter alginicilyticus,1736674\n",
      "                                    │            │                        │                                                         ╭╴Flavobacteriia,117743╶┤                                                   ├╴Croceibacter atlanticus HTCC2559,216432\n",
      "                                    │            │                        │                                                         │                       │                                                   ├╴Polaribacter sp. Hel1_33_78,1336804\n",
      "                                    │            │                        │                                                         │                       │                                                   ╰╴Sediminibacter sp. Hel_I_10,1392490\n",
      "                                    │            │                        │                                      ╭╴Bacteroidota,976╶┤                       ╰╴Flavobacteria bacterium MS024-2A,487796\n",
      "                                    │            │                        │                                      │                  ├╴Cytophagales,768507╶┬╴Anditalea andensis,1048983\n",
      "                                    │            │                        ├╴Bacteroidota/Chlorobiota group,68336╶┤                  │                     ╰╴Nafulsella turpanensis ZLM-10,1124780\n",
      "                                    │            │                        │                                      │                  ├╴Phocaeicola,909656\n",
      "                                    │            │                        │                                      │                  ╰╴Saprospira grandis,1008\n",
      "                                    │            │                        │                                      ╰╴Ignavibacterium album JCM 16511,945713\n",
      "                                    │            │                        │                                                          ╭╴Helicobacter,209╶┬╴Helicobacter japonicus,425400\n",
      "                                    │            │                        │                               ╭╴Campylobacterales,213849╶┤                  ╰╴Helicobacter trogontum,50960\n",
      "                                    │            │                        ├╴Epsilonproteobacteria,3031852╶┤                          ├╴Arcobacter nitrofigilis,28199\n",
      "                                    │            │                        │                               │                          ╰╴Sulfurimonas gotlandica GD1,929558\n",
      "                                    │            │                        │                               ╰╴Nitratiruptor,269258\n",
      "                                    │            │                        ├╴Acidobacteriaceae,204434╶╌╴Acidobacteriaceae bacterium KBS 89,1267534\n",
      "                                    │            │                        ╰╴Sulfurihydrogenibium,212790\n",
      "                                    │            ├╴Parcubacteria bacterium RAAC4_OD1_1,1394712\n",
      "                                    │            ╰╴Deinococcus ficus,317577\n",
      "                                    │                                  ╭╴Compsopogonophyceae,930023╶┬╴Madagascaria erythrocladioides,753684\n",
      "                                    │                                  │                            ╰╴Compsopogon caeruleus,31354\n",
      "                                    │                                  ├╴Bangiophyceae,2797╶┬╴Galdieria,83373\n",
      "                                    │                ╭╴Rhodophyta,2763╶┤                    ╰╴Pyropia yezoensis,2788\n",
      "                                    │                │                 ├╴Rhodella violacea,2801\n",
      "                                    │                │                 ├╴Rhodosorus marinus,101924\n",
      "                                    │                │                 ╰╴Gracilariopsis chorda,448386\n",
      "                                    │                │                                                                                                      ╭╴Pedinellales sp. CCMP2098,483369\n",
      "                                    │                │                                                                                 ╭╴Pedinellales,35680╶┼╴Pseudopedinella elastica,35684\n",
      "                                    │                │                                                                                 │                    ├╴Mesopedinella arctica,296676\n",
      "                                    │                │                                                                                 │                    ╰╴Pteridomonas danica,38822\n",
      "                                    │                │                                                        ╭╴Dictyochophyceae,39119╶┤                     ╭╴unclassified Florenciella,2625833╶┬╴Florenciella sp. RCC1587,1411684\n",
      "                                    │                │                                                        │                        ├╴Florenciella,236786╶┤                                   ╰╴Florenciella sp. RCC1007,464225\n",
      "                                    │                │                                                        │                        │                     ╰╴Florenciella parvula,236787\n",
      "                                    │                │                                                        │                        ├╴Rhizochromulina marina,1034831\n",
      "                                    │                │                                                        │                        ╰╴Dictyocha speculum,35687\n",
      "                                    │                │                                                        │                                                         ╭╴Pelagophyceae sp. CCMP2097,483370\n",
      "                                    │                │                                                        │                     ╭╴unclassified Pelagophyceae,114041╶┼╴Pelagophyceae sp. RCC2491,1764641\n",
      "                                    │                │                                                        │                     │                                   ╰╴Pelagophyceae sp. RCC1024,464228\n",
      "                                    │                │                                                        │                     │                          ╭╴Chrysocystaceae,2094171╶┬╴Chrysocystis fragilis,1411660\n",
      "                                    │                │                                                        │                     ├╴Sarcinochrysidales,45651╶┤                         ╰╴unclassified Chrysoreinhardia,2627057╶┬╴Chrysoreinhardia sp. CCMP2950,1411690\n",
      "                                    │                │                                                        ├╴Pelagophyceae,35675╶┤                          │                                                                 ╰╴Chrysoreinhardia sp.,2972369\n",
      "                                    │                │                                                        │                     │                          ╰╴Sarcinochrysis sp. CCMP770,1411683\n",
      "                                    │                │                                                        │                     │                                                  ╭╴Pelagomonas calceolata,35677\n",
      "                                    │                │                                                        │                     │                       ╭╴Pelagomonadaceae,3235057╶┼╴Pelagococcus subviridis,35679\n",
      "                                    │                │                                                        │                     ╰╴Pelagomonadales,54409╶┤                          ╰╴Aureococcus anophagefferens,44056\n",
      "                                    │                │                                                        │                                             ╰╴Aureoumbra lagunensis,44058\n",
      "                                    │                │                                                        │                                                                                                                                   ╭╴Thalassiosira,35127╶┬╴Thalassiosira bioculata,1048533\n",
      "                                    │                │                                                        │                                                                                                         ╭╴Thalassiosiraceae,29202╶┤                     ╰╴Thalassiosira oceanica CCMP1005,637379\n",
      "                                    │                │                                                        │                                                                                ╭╴Thalassiosirales,33847╶┤                         ╰╴Minidiscus sp. RCC4590,1960173\n",
      "                                    │                │                                                        │                                                  ╭╴Thalassiosirophycidae,33846╶┤                        ╰╴Skeletonema,2842╶╌╴Skeletonema costatum,2843\n",
      "                                    │                │                                                        │                                                  │                             ╰╴Cyclotella cryptica,29204\n",
      "                                    │                │                                                        │                                                  ├╴Coscinodiscophycidae,33840╶┬╴Coscinodiscus wailesii,671091\n",
      "                                    │                │                                                        │                                                  │                            ╰╴Stephanopyxis turris,515487\n",
      "                                    │                │                                                        │                      ╭╴Coscinodiscophyceae,33836╶┤                        ╭╴Proboscia,216776╶┬╴Proboscia inermis,420281\n",
      "                                    │                │                                                        │                      │                           ├╴Rhizosoleniaceae,33845╶┤                  ╰╴Proboscia alata,216777\n",
      "                                    │                │                                                        │                      │                           │                        ├╴Dactyliosolen fragilissimus,1118495\n",
      "                                    │                │                                                        │                      │                           │                        ╰╴Guinardia flaccida,216801\n",
      "                                    │                │                                                        │                      │                           ├╴Chaetoceros,49237╶╌╴Chaetoceros dichaeta,420782\n",
      "                                    │                │                                                        │                      │                           ╰╴Corethron,49242╶╌╴Corethron pennatum,218684\n",
      "                                    │                │                                                        │                      │                     ╭╴Cymatosiraceae,49244╶╌╴Extubocellulus spinifer,265572\n",
      "                                    │                │                                                        │                      ├╴Mediophyceae,589449╶┼╴Helicotheca tamesis,374047\n",
      "                                    │                │                                                        │                      │                     ╰╴Odontella aurita,265563\n",
      "                                    │                │                                                        │                      │                                              ╭╴Naviculaceae,67474╶┬╴Fistulifera solaris,1519565\n",
      "                                    │                │                                                        │                      │                          ╭╴Naviculales,38748╶┤                    ╰╴Navicula sp. RCC3092,1764896\n",
      "                                    │                │                                   ╭╴Ochrophyta,2696291╶┼╴Bacillariophyta,2836╶┤                          │                   ╰╴Amphiprora sp.,2608610\n",
      "                                    │                │                                   │                    │                      ├╴Bacillariophycidae,33850╶┤                      ╭╴Fragilariopsis,186035╶┬╴Fragilariopsis kerguelensis,186038\n",
      "                                    │                │                                   │                    │                      │                          │                      │                       ╰╴Fragilariopsis cylindrus CCMP1102,635003\n",
      "                                    │                │                                   │                    │                      │                          │                      │                        ╭╴Pseudo-nitzschia heimii,476441\n",
      "                                    │                │                                   │                    │                      │                          ╰╴Bacillariaceae,33852╶┼╴Pseudo-nitzschia,41953╶┼╴Pseudo-nitzschia fraudulenta,183588\n",
      "                                    │                │                                   │                    │                      │                                                 │                        ╰╴Pseudo-nitzschia pungens var. cingulata,2202556\n",
      "                                    │                │                                   │                    │                      │                                                 ├╴Cylindrotheca closterium,2856\n",
      "                                    │                │                                   │                    │                      │                                                 ╰╴unclassified Nitzschia (in: diatoms),908989╶┬╴Nitzschia sp. RCC80,1606575\n",
      "                                    │                │                                   │                    │                      │                                                                                               ╰╴Nitzschia sp. Nitz4,2041349\n",
      "                                    │                │                                   │                    │                      │                          ╭╴Fragilariales,33855╶┬╴Fragilariaceae,33856╶╌╴Synedra sp. RCC2510,1764925\n",
      "                                    │                │                                   │                    │                      │                          │                     ╰╴Staurosira sp.,2884791\n",
      "                                    │                │                                   │                    │                      ╰╴Fragilariophycidae,33854╶┼╴Thalassionemataceae,38755╶┬╴Thalassionema nitzschioides,33649\n",
      "                                    │                │                                   │                    │                                                 │                           ╰╴Thalassiothrix antarctica,1049557\n",
      "                                    │                │                                   │                    │                                                 ╰╴Grammatophora oceanica,210454\n",
      "                                    │                │                                   │                    │                 ╭╴Phaeophyceae,2870╶┬╴Ectocarpales,2877╶╌╴Nemacystus decipiens,2185085\n",
      "                                    │                │                                   │                    ├╴PX clade,569578╶┤                   ╰╴Undaria pinnatifida,74381\n",
      "                                    │                │                                   │                    │                 ╰╴Vaucheria litorea,109269\n",
      "                                    │                │                                   │                    │                                                                 ╭╴Chromulina nebulosa,96789\n",
      "                                    │                │                                   │                    │                                          ╭╴Chromulinaceae,98651╶┤                                 ╭╴Ochromonas sp. CCMP1899,420557\n",
      "                                    │                │                                   │                    │                    ╭╴Chromulinales,96792╶┤                      ╰╴unclassified Ochromonas,2635268╶┼╴Ochromonas sp. CCMP1393,420556\n",
      "                                    │                │                                   │                    ├╴Chrysophyceae,2825╶┤                     │                                                        ╰╴Ochromonas sp. BG-1,1616673\n",
      "                                    │                │                                   │                    │                    │                     ╰╴Dinobryon sp.,1955563\n",
      "                                    │                │                                   │                    │                    ╰╴unclassified Chrysophyceae,114181╶┬╴Chrysophyceae sp. TOSAG23-4,1735748\n",
      "                                    │                │                                   │                    │                                                        ╰╴Chrysophyceae sp. TOSAG23-5,1735749\n",
      "                                    │                │                                   │                    ├╴Synchroma pusillum,1181717\n",
      "                                    │                │             ╭╴Stramenopiles,33634╶┤                    │                        ╭╴Fibrocapsa japonica,94617\n",
      "                                    │                │             │                     │                    ├╴Chattonellaceae,658124╶┼╴Heterosigma akashiwo,2829╶╌╴Heterosigma akashiwo NIES-293,536047\n",
      "                                    │                │             │                     │                    │                        ╰╴Chattonella subsalsa,44440\n",
      "                                    │                │             │                     │                    │                     ╭╴Triparma,722752╶┬╴Triparma eleuthera,172717\n",
      "                                    │                │             │                     │                    ├╴Triparmaceae,722751╶┤                 ╰╴Triparma pacifica,91992\n",
      "                                    │                │             │                     │                    │                     ╰╴unclassified Bolidomonas,2636278╶┬╴Bolidomonas sp. 1657,1411661\n",
      "                                    │                │             │                     │                    │                                                        ╰╴Bolidomonas sp. RCC2347,1606585\n",
      "                                    │                │             │                     │                    ├╴Pinguiochrysidaceae,1004268╶┬╴Pinguiococcus pyrenoidosus,172671\n",
      "                                    │                │             │                     │                    │                             ╰╴Phaeomonas parva,124430\n",
      "                                    │                │             │                     │                    ├╴Monodopsidaceae,425072╶╌╴Nannochloropsis sp. CCMP1779,1149776\n",
      "                                    │                │             │                     │                    ╰╴Ochromonadaceae sp. CCMP2298,483371\n",
      "                                    │                │             │                     ├╴Oomycota,4762╶┬╴Peronosporaceae,4777╶╌╴Phytophthora,4783╶╌╴Phytophthora capsici LT1534,763924\n",
      "                                    │                │             │                     │               ╰╴Saprolegnia parasitica CBS 223.65,695850\n",
      "                                    │                │             │                     │                ╭╴Bicosoecida,33651╶┬╴Bicosoecida sp. CB-2014,1486930\n",
      "                                    │                │             │                     │                │                   ╰╴Cafeteria,33652╶┬╴Cafeteria roenbergensis,33653\n",
      "                                    │                │             │                     │                │                                     ╰╴unclassified Cafeteria,2621217\n",
      "                                    │                │             │                     ├╴Bigyra,2683628╶┤                                                  ╭╴Aplanochytrium stocchinoi,215587\n",
      "                                    │                │             │                     │                │                           ╭╴Aplanochytrium,87110╶┼╴Aplanochytrium sp. PBS07,627963\n",
      "                                    │                │             │                     │                │                           │                      ╰╴Aplanochytrium kerguelense PBS07,702273\n",
      "                                    │                │             │                     │                ╰╴Thraustochytriaceae,33674╶┼╴Mucochytrium quahogii,96639\n",
      "                                    │                │             │                     │                                            ├╴Schizochytrium aggregatum ATCC 28209,876976\n",
      "                                    │                │             │                     │                                            ├╴Thraustochytrium sp. LLF1b,1112570\n",
      "                                    │                │             │                     │                                            ╰╴Aurantiochytrium limacinum ATCC MYA-1381,717989\n",
      "                                    │                │             │                     │                                                                         ╭╴Stramenopiles sp. TOSAG23-2,1735743\n",
      "                                    │                │             │                     │                                          ╭╴Stramenopiles MAST-4,1735725╶┼╴Stramenopiles sp. TOSAG41-1,1735744\n",
      "                                    │                │             │                     ╰╴Marine_stramenopiles_MASTs group,2795716╶┤                              ╰╴Stramenopiles sp. TOSAG23-3,1735745\n",
      "                                    │                │             │                                                                ╰╴Stramenopiles MAST-3,1735726╶┬╴Stramenopiles sp. TOSAG41-2,1735746\n",
      "                                    │                │             │                                                                                               ╰╴Stramenopiles sp. TOSAG23-6,1735747\n",
      "                                    │                │             │                                                                                                     ╭╴Alexandrium monilatum,311494\n",
      "                                    │                │             │                                                                                                     ├╴Alexandrium andersonii,327968\n",
      "                                    │                │             │                                                                                                     ├╴Alexandrium minutum,39455\n",
      "                                    │                │             │                                                                                  ╭╴Alexandrium,2924╶┼╴Alexandrium margalefii,109239\n",
      "                                    │                │             │                                                                                  │                  ├╴Alexandrium tamarense,2926\n",
      "                                    │                │             │                                                          ╭╴Pyrocystaceae,1573500╶┤                  ├╴Alexandrium catenella,2925\n",
      "                                    │                │             │                                                          │                       │                  ╰╴Alexandrium fundyense,2932\n",
      "                                    │                │             │                                                          │                       ├╴Pyrodinium bahamense,73915\n",
      "                                    │                │             │                                                          │                       ╰╴Gambierdiscus australes,439317\n",
      "                                    │                │             │                                    ╭╴Gonyaulacales,40984╶┼╴Protoceratium reticulatum,133427\n",
      "                                    │                │             │                                    │                     ├╴Crypthecodinium cohnii,2866\n",
      "                                    │                │             │                                    │                     ├╴Tripos fusus,2916\n",
      "                                    │                │             │                                    │                     ├╴Lingulodinium polyedra,160621\n",
      "                                    │                │             │                                    │                     ├╴Gonyaulax spinifera,66791\n",
      "                                    │                │             │                                    │                     ╰╴Azadinium spinosum,632150\n",
      "                                    │                │             │                                    │                   ╭╴Kryptoperidiniaceae,2137591╶┬╴Kryptoperidinium foliaceum,160619\n",
      "                                    │                │             │                                    │                   │                             ╰╴Durinskia baltica,400756\n",
      "                                    │                │             │                                    │                   │                    ╭╴Scrippsiella trochoidea,71861\n",
      "                                    │                │             │                                    │                   ├╴Scrippsiella,54902╶┼╴Scrippsiella hangoei,268821\n",
      "                                    │                ├╴Sar,2698737╶┤                                    ├╴Peridiniales,2910╶┤                    ╰╴Scrippsiella cf. hangoei,447022\n",
      "                                    │                │             │                                    │                   │                  ╭╴Heterocapsa triquetra,66468\n",
      "                                    │                │             │                                    │                   ├╴Heterocapsa,2918╶┼╴Heterocapsa arctica,192219\n",
      "                                    │                │             │                                    │                   │                  ╰╴Heterocapsa rotundata,89963\n",
      "                                    │                │             │                                    │                   ╰╴Zooxanthella nutricula,1333877\n",
      "                                    │                │             │                                    │                                           ╭╴Cladocopium,2486696╶┬╴Cladocopium goreaui,2562237\n",
      "                                    │                │             │                                    │                                           │                     ╰╴Cladocopium sp. clade C,293275╶╌╴Cladocopium sp. C15,377605\n",
      "                                    │                │             │                                    │                                           │                                                      ╭╴Symbiodinium sp. CCMP2430,631057\n",
      "                                    │                │             │                                    │                                           │                   ╭╴unclassified Symbiodinium,279888╶┼╴Symbiodinium sp. CCMP421,174948\n",
      "                                    │                │             │                                    │                  ╭╴Symbiodiniaceae,252141╶┤                   │                                  ╰╴Symbiodinium sp. Mp,230996\n",
      "                                    │                │             │                 ╭╴Dinophyceae,2864╶┤                  │                        ├╴Symbiodinium,2949╶┼╴Symbiodinium microadriaticum,2951\n",
      "                                    │                │             │                 │                  │                  │                        │                   ├╴Symbiodinium kawagutii,104179\n",
      "        ╭╴cellular organisms,131567╶┤                │             │                 │                  ├╴Suessiales,89954╶┤                        │                   ╰╴Symbiodinium sp. Mf12.5f/clade A3,993574\n",
      "        │                           │                │             │                 │                  │                  │                        ├╴Breviolum minutum,2499525\n",
      "        │                           │                │             │                 │                  │                  │                        ╰╴Fugacium kawagutii,2697096\n",
      "        │                           │                │             │                 │                  │                  ╰╴Suessiaceae,89955╶┬╴Pelagodinium beii,43686\n",
      "        │                           │                │             │                 │                  │                                      ╰╴Polarella glacialis,89957\n",
      "        │                           │                │             │                 │                  │                    ╭╴Gymnodiniaceae,66801╶┬╴Togula jolla,285029\n",
      "        │                           │                │             │                 │                  ├╴Gymnodiniales,2953╶┤                      ╰╴Gymnodinium catenatum GC744,1203019\n",
      "        │                           │                │             │                 │                  │                    ╰╴Kareniaceae,1003176╶┬╴Karenia brevis,156230\n",
      "        │                           │                │             │                 │                  │                                          ╰╴Karlodinium veneficum,407301\n",
      "        │                           │                │             │                 │                  ├╴Abedinium,763926╶┬╴Abedinium dasypus,763927\n",
      "        │                           │                │             │                 │                  │                  ╰╴Abedinium folium,2713251\n",
      "        │                           │                │             │                 │                  ├╴Amphidinium,2960╶┬╴Amphidinium massartii,160604\n",
      "        │                           │                │             │                 │                  │                  ╰╴Amphidinium carterae,2961\n",
      "        │                           │                │             ├╴Alveolata,33630╶┤                  ├╴unclassified Amoebophrya,2558461╶╌╴Amoebophrya sp. AT5.2,1775427\n",
      "        │                           │                │             │                 │                  ├╴Apocalathium aciculiferum,268820\n",
      "        │                           │                │             │                 │                  ├╴Prorocentrum minimum,39449\n",
      "        │                           │                │             │                 │                  ├╴Dinophysis acuminata,47934\n",
      "        │                           │                │             │                 │                  ├╴Noctiluca scintillans,2966\n",
      "        │                           │                │             │                 │                  ╰╴Oxyrrhis marina,2969\n",
      "        │                           │                │             │                 ├╴Colpodellida,877183╶┬╴Chromera velia CCMP2878,1169474\n",
      "        │                           │                │             │                 │                     ╰╴Vitrella brassicaformis CCMP3155,1169540\n",
      "        │                           │                │             │                 │                           ╭╴Oligohymenophorea,6020╶┬╴Paramecium tetraurelia strain d4-2,412030\n",
      "        │                           │                │             │                 │                           │                        ╰╴Tetrahymena thermophila SB210,312017\n",
      "        │                           │                │             │                 ├╴Intramacronucleata,431838╶┤                    ╭╴Protocruzia adherens,223996\n",
      "        │                           │                │             │                 │                           ├╴Spirotrichea,33829╶┼╴Euplotes harpa,151035\n",
      "        │                           │                │             │                 │                           │                    ╰╴Oxytricha trifallax,1172189\n",
      "        │                           │                │             │                 │                           ╰╴Aristerostoma sp. ATCC 50986,485358\n",
      "        │                           │                │             │                 ├╴Perkinsus,28000╶┬╴Perkinsus chesapeaki ATCC PRA-65,321610\n",
      "        │                           │                │             │                 │                 ╰╴Perkinsus marinus ATCC 50439,1032511\n",
      "        │                           │                │             │                 ╰╴Cephaloidophora cf. communis,947086\n",
      "        │                           │                │             │                                              ╭╴Lotharella,74819╶┬╴Lotharella oceanica,641309\n",
      "        │                           │                │             │                                              │                  ╰╴Lotharella globosa,91324\n",
      "        │                           │                │             │                 ╭╴Chlorarachniophyceae,29197╶┼╴Bigelowiella,227085\n",
      "        │                           │                │             │                 │                            ├╴Amorphochlora amoebiformis,1561963\n",
      "        │                           ├╴Eukaryota,2759╶┤             │                 │                            ├╴Partenskyella glossopodia,552666\n",
      "        │                           │                │             ╰╴Rhizaria,543769╶┤                            ╰╴Gymnochlora sp. CCMP2014,629695\n",
      "        │                           │                │                               │                                      ╭╴Elphidium margaritaceum,933848\n",
      "        │                           │                │                               │                    ╭╴Rotaliida,29185╶┼╴Rosalina sp.,2695917\n",
      "        │                           │                │                               ╰╴Foraminifera,29178╶┤                 ╰╴Ammonia sp.,43993\n",
      "        │                           │                │                                                    ╰╴Reticulomyxa filosa,46433\n",
      "        │                           │                │                                                                                                                                    ╭╴unclassified Ostreococcus,2268852╶┬╴Ostreococcus sp. RCC809,385169\n",
      "        │                           │                │                                                                                                               ╭╴Ostreococcus,70447╶┤                                   ╰╴Ostreococcus sp. 'lucimarinus',242159\n",
      "        │                           │                │                                                                                      ╭╴Bathycoccaceae,1525212╶┤                    ╰╴Ostreococcus tauri,70448\n",
      "        │                           │                │                                                                                      │                        ╰╴Bathycoccus,41874╶┬╴Bathycoccus prasinos,41875╶╌╴Bathycoccus prasinos RCC1105,1075084\n",
      "        │                           │                │                                        ╭╴Mamiellophyceae,1035538╶╌╴Mamiellales,13792╶┤                                            ╰╴Bathycoccus sp.,2812571\n",
      "        │                           │                │                                        │                                             │                                       ╭╴unclassified Micromonas,2509521╶╌╴Micromonas sp. CS222,1659427\n",
      "        │                           │                │                                        │                                             ╰╴Mamiellaceae,41873╶╌╴Micromonas,38832╶┼╴Micromonas commoda,296587\n",
      "        │                           │                │                                        │                                                                                     ╰╴Micromonas pusilla,38833\n",
      "        │                           │                │                                        │                                                    ╭╴Trebouxiophyceae incertae sedis,75981╶┬╴Picochlorum sp. BH-2019,2601844\n",
      "        │                           │                │                                        │                                                    │                                       ╰╴Botryococcus braunii Showa,1202541\n",
      "        │                           │                │                                        │                                                    │                                                                ╭╴Chlorella sorokiniana,3076\n",
      "        │                           │                │                                        │                           ╭╴Trebouxiophyceae,75966╶┤                                               ╭╴Chlorella,3071╶┼╴Chlorella variabilis,554065\n",
      "        │                           │                │                                        │                           │                        │                     ╭╴Chlorella clade,2511126╶┤                ╰╴Chlorella sp. A99,2041167\n",
      "        │                           │                │                                        │                           │                        ├╴Chlorellaceae,35461╶┤                         ╰╴Micractinium conductrix,554055\n",
      "        │                           │                │                                        │                           │                        │                     ╰╴Auxenochlorella protothecoides,3075\n",
      "        │                           │                │                                        │                           │                        ╰╴Stichococcus sp. RCC1054,1461547\n",
      "        │                           │                │                                        │                           │                                                                ╭╴unclassified Chlamydomonas,2034146╶┬╴Chlamydomonas sp. CCMP681,413974\n",
      "        │                           │                │                                        │                           │                                           ╭╴Chlamydomonas,3052╶┤                                    ╰╴Chlamydomonas sp. CCMP219,327068\n",
      "        │                           │                │                                        ├╴core chlorophytes,2692248╶┤                  ╭╴Chlamydomonadales,3042╶┤                    ├╴Chlamydomonas leiostraca,1034604\n",
      "        │                           │                │                                        │                           │                  │                        │                    ╰╴Chlamydomonas eustigma,1157962\n",
      "        │                           │                │                                        │                           ├╴CS clade,2812636╶┤                        ╰╴Edaphochlamys debaryana,47281\n",
      "        │                           │                │                                        │                           │                  │                      ╭╴Selenastraceae,35466╶┬╴Raphidocelis subcapitata,307507\n",
      "        │                           │                │                                        │                           │                  ╰╴Sphaeropleales,35491╶┤                      ╰╴Monoraphidium neglectum,145388\n",
      "        │                           │                │                     ╭╴Chlorophyta,3041╶┤                           │                                         ╰╴Scenedesmaceae,3086╶┬╴Enallax costatus,113528\n",
      "        │                           │                │                     │                  │                           │                                                               ╰╴Flechtneria rotunda,269715\n",
      "        │                           │                │                     │                  │                           │                  ╭╴Tetraselmis striata,3165\n",
      "        │                           │                │                     │                  │                           ╰╴Tetraselmis,3164╶┼╴Tetraselmis astigmatica,1074897\n",
      "        │                           │                │                     │                  │                                              ╰╴Tetraselmis sp. GSL018,582737\n",
      "        │                           │                │                     │                  │                                                                      ╭╴Pyramimonas parkeae,36894\n",
      "        │                           │                │                     │                  │                                                  ╭╴Pyramimonas,36882╶┼╴Pyramimonas sp.,36898\n",
      "        │                           │                │                     │                  │                       ╭╴Pyramimonadaceae,2682468╶┤                   ╰╴Pyramimonas obovata,1411642\n",
      "        │                           │                │                     │                  ├╴Pyramimonadales,38834╶┤                          ╰╴Pterosperma sp. CCMP1384,1461541\n",
      "        │                           │                │                     │                  │                       ╰╴Polyblepharides amylifera,1486889\n",
      "        │                           │                │                     │                  │                                              ╭╴Chloropicon primus,1764295\n",
      "        │                           │                │                     │                  │                        ╭╴Chloropicon,2302914╶┼╴Chloropicon maureeniae,1461542\n",
      "        │                           │                │                     │                  ├╴Chloropicaceae,2302913╶┤                     ├╴Chloropicon roscoffensis,1461544\n",
      "        │                           │                │                     │                  │                        │                     ╰╴Chloropicon sp.,2864388\n",
      "        │                           │                ├╴Viridiplantae,33090╶┤                  │                        ╰╴Chloroparvula japonica,1411623\n",
      "        │                           │                │                     │                  ├╴Pycnococcus provasolii,41880\n",
      "        │                           │                │                     │                  ├╴Picocystis salinarum,88271\n",
      "        │                           │                │                     │                  ├╴Nephroselmis pyriformis,156128\n",
      "        │                           │                │                     │                  ├╴Prasinococcus capsulatus,156131\n",
      "        │                           │                │                     │                  ╰╴Caulerpa lentillifera,148947\n",
      "        │                           │                │                     │                                            ╭╴Chara braunii,69332\n",
      "        │                           │                │                     │                                            ├╴Mesotaenium endlicherianum,184485\n",
      "        │                           │                │                     │                    ╭╴Streptophytina,131221╶┤                                                                 ╭╴Rhododendron sophistarum,2182709\n",
      "        │                           │                │                     │                    │                       │                         ╭╴Pentapetalae,1437201╶╌╴asterids,71274╶┼╴Pedicularis tenera,2182727\n",
      "        │                           │                │                     │                    │                       ╰╴Mesangiospermae,1437183╶┤                                       ╰╴Doronicum thibetanum,2182710\n",
      "        │                           │                │                     ├╴Streptophyta,35493╶┤                                                 ╰╴Corydalis,3463\n",
      "        │                           │                │                     │                    ├╴Klebsormidium nitens,105231\n",
      "        │                           │                │                     │                    ├╴Mesostigma viride,41882\n",
      "        │                           │                │                     │                    ╰╴Chlorokybus atmophyticus,3144\n",
      "        │                           │                │                     ╰╴Prasinoderma,156132╶┬╴Prasinoderma coloniale,156133\n",
      "        │                           │                │                                           ╰╴Prasinoderma singulare,676789\n",
      "        │                           │                │                 ╭╴Euglenozoa,33682╶┬╴Metakinetoplastina,2704647╶╌╴Neobodo designis,312471\n",
      "        │                           │                ├╴Discoba,2611352╶┤                  ╰╴Eutreptiella,73024╶┬╴Eutreptiella gymnastica,73025\n",
      "        │                           │                │                 │                                       ╰╴Eutreptiella sp. CCMP1594,1867818\n",
      "        │                           │                │                 ╰╴Naegleria gruberi,5762\n",
      "        │                           │                │                                                                                                                                                                                 ╭╴Lepidodasyidae,233124╶┬╴Dolichodasys sp. 184616442,2183214\n",
      "╴root,1╶┤                           │                │                                                                                                                                                                                 │                       ╰╴Lepidodasys sp. 184616388,2183269\n",
      "        │                           │                │                                                                                                                                                                                 │                            ╭╴unclassified Diplodasys,2642610╶┬╴Diplodasys sp. 184616422,2183234\n",
      "        │                           │                │                                                                                                                                                            ╭╴Macrodasyida,78238╶┼╴Thaumastodermatidae,233137╶┤                                 ╰╴Diplodasys sp. 184616412,2183246\n",
      "        │                           │                │                                                                                                                                                            │                    │                            ╰╴Tetranchyroderma sp. 184616431,2183230\n",
      "        │                           │                │                                                                                                                                       ╭╴Gastrotricha,33313╶┤                    ├╴Paraturbanella sp. 214385716,2183228\n",
      "        │                           │                │                                                                                                                                       │                    │                    ╰╴Dactylopodola sp. 184616410,2183255\n",
      "        │                           │                │                                                                                                                                       │                    ╰╴Xenotrichulidae,233121╶┬╴Xenotrichula sp. 214385703,2183245\n",
      "        │                           │                │                                                                                                                                       │                                             ╰╴Heteroxenotrichula sp. 184616391,2183268\n",
      "        │                           │                │                                                                                                                                       │                      ╭╴Gyratrix,39195╶╌╴Gyratrix cf. hermaphroditus 214386099,2183105\n",
      "        │                           │                │                                                                                                                                       ├╴Platyhelminthes,6157╶┼╴Dibothriocephalus latus,60516\n",
      "        │                           │                │                                                                                                              ╭╴Lophotrochozoa,1206795╶┤                      ╰╴Opisthorchis viverrini,6198\n",
      "        │                           │                │                                                                                                              │                        ├╴Annelida,6340╶┬╴Polychaeta,6341╶╌╴Capitella teleta,283909\n",
      "        │                           │                │                                                                                                              │                        │               ╰╴Helobdella robusta,6412\n",
      "        │                           │                │                                                                                                              │                        │               ╭╴Magallana gigas,29159\n",
      "        │                           │                │                                                                                           ╭╴Spiralia,2697495╶┤                        ├╴Mollusca,6447╶┼╴Octopus bimaculoides,37653\n",
      "        │                           │                │                                                                                           │                  │                        │               ╰╴Aplysia californica,6500\n",
      "        │                           │                │                                                                                           │                  │                        ├╴Lingula anatina,7574\n",
      "        │                           │                │                                                                                           │                  │                        ╰╴Bugula neritina,10212\n",
      "        │                           │                │                                                                                           │                  ╰╴Adineta ricciae,249248\n",
      "        │                           │                │                                                                       ╭╴Protostomia,33317╶┤                   ╭╴Nematoda,6231╶╌╴Trichuris trichiura,36087\n",
      "        │                           │                │                                                                       │                   │                   │                                                                                ╭╴Cyclopoida,84308╶┬╴Eucyclops serrulatus,84317\n",
      "        │                           │                │                                                                       │                   │                   │                                                                                │                  ╰╴Paracyclopina nana,565004\n",
      "        │                           │                │                                                                       │                   │                   │                                                              ╭╴Podoplea,116571╶┤                ╭╴Tigriopus californicus,6832\n",
      "        │                           │                │                                                                       │                   │                   │                                                              │                 ├╴Tigriopus,6831╶┼╴Tigriopus japonicus,158387\n",
      "        │                           │                │                                                                       │                   ╰╴Ecdysozoa,1206794╶┤                                                              │                 │                ╰╴Tigriopus kingsejongensis,1133412\n",
      "        │                           │                │                                                                       │                                       │                                         ╭╴Neocopepoda,116569╶┤                 ╰╴Lepeophtheirus salmonis,72036\n",
      "        │                           │                │                                                                       │                                       │                                         │                    │                                 ╭╴Calanus,6836╶┬╴Calanus finmarchicus,6837\n",
      "        │                           │                │                                                     ╭╴Bilateria,33213╶┤                                       │                                         │                    │                ╭╴Calanidae,6835╶┤              ╰╴Calanus glacialis,113644\n",
      "        │                           │                │                                                     │                 │                                       │                ╭╴Multicrustacea,2172821╶┤                    │                │                ╰╴Neocalanus flemingeri,119369\n",
      "        │                           │                │                                                     │                 │                                       │                │                        │                    ╰╴Calanoida,6833╶┼╴Acartia tonsa,136180\n",
      "        │                           │                │                                                     │                 │                                       ╰╴Crustacea,6657╶┤                        │                                     ├╴Pleuromamma xiphias,503034\n",
      "        │                           │                │                                                     │                 │                                                        │                        │                                     ╰╴Labidocera madurae,1501138\n",
      "        │                           │                │                                                     │                 │                                                        │                        ╰╴Homarus americanus,6706\n",
      "        │                           │                │                                    ╭╴Eumetazoa,6072╶┤                 │                                                        ╰╴Daphnia magna,35525\n",
      "        │                           │                │                                    │                │                 │                                     ╭╴Euteleostomi,117571╶┬╴Tursiops truncatus,9739\n",
      "        │                           │                │                                    │                │                 │                     ╭╴Chordata,7711╶┤                     ╰╴Hippoglossus stenolepis,195615\n",
      "        │                           │                │                                    │                │                 ╰╴Deuterostomia,33511╶┤               ╰╴Oikopleura dioica,34765\n",
      "        │                           │                │                    ╭╴Metazoa,33208╶┤                │                                       ╰╴Echinozoa,7624╶┬╴Apostichopus japonicus,307972\n",
      "        │                           │                │                    │               │                │                                                        ╰╴Strongylocentrotus purpuratus,7668\n",
      "        │                           │                │                    │               │                ╰╴Cnidaria,6073╶┬╴Nematostella vectensis,45351\n",
      "        │                           │                ├╴Opisthokonta,33154╶┤               │                                ╰╴Hydra vulgaris,6087\n",
      "        │                           │                │                    │               ╰╴Amphimedon queenslandica,400682\n",
      "        │                           │                │                    ├╴unclassified Acanthoeca,2618734\n",
      "        │                           │                │                    ╰╴Urocystis primulicola,2183100\n",
      "        │                           │                │                                                                ╭╴Hemiselmis andersenii,464988\n",
      "        │                           │                │                                             ╭╴Hemiselmis,77924╶┼╴Hemiselmis rufescens,77926\n",
      "        │                           │                │                    ╭╴Cryptomonadales,589350╶┤                  ╰╴Hemiselmis virescens,77927\n",
      "        │                           │                │                    │                        ╰╴Cryptomonas,3030╶┬╴Cryptomonas paramecium,2898\n",
      "        │                           │                │                    │                                           ╰╴Cryptomonas curvata,233186\n",
      "        │                           │                │                    │                                                ╭╴Geminigera,46946╶┬╴Geminigera cryophila CCMP2564,1202989\n",
      "        │                           │                │                    │                        ╭╴Geminigeraceae,589343╶┤                  ╰╴Geminigera sp.,2864123\n",
      "        │                           │                │                    │                        │                       ╰╴Proteomonas sulcata,77928\n",
      "        │                           │                ├╴Cryptophyceae,3027╶┤                        │                  ╭╴Rhodomonas lens,354590\n",
      "        │                           │                │                    ├╴Pyrenomonadales,589342╶┼╴Rhodomonas,37096╶┼╴Rhodomonas salina,52970\n",
      "        │                           │                │                    │                        │                  ├╴Rhodomonas abbreviata,46948\n",
      "        │                           │                │                    │                        │                  ╰╴Rhodomonas sp. CCMP768,302021\n",
      "        │                           │                │                    │                        ╰╴Chroomonas mesostigmatica,195065\n",
      "        │                           │                │                    ├╴Cryptophyta sp. CCMP2293,697907\n",
      "        │                           │                │                    ╰╴Goniomonas sp.,1955572\n",
      "        │                           │                ├╴Glaucocystophyceae,38254╶┬╴Cyanoptyche gloeocystis,77922\n",
      "        │                           │                │                          ╰╴Cyanophora paradoxa,2762\n",
      "        │                           │                │                  ╭╴Discosea,555280╶┬╴Vannella robusta,1487602\n",
      "        │                           │                ├╴Amoebozoa,554915╶┤                 ╰╴Mayorella sp. JJP-2003,242541\n",
      "        │                           │                │                  ╰╴Filamoeba nolandi,136452\n",
      "        │                           │                │                                                         ╭╴Pavlova,2831╶┬╴Pavlova gyrans,44452\n",
      "        │                           │                │                                    ╭╴Pavlovaceae,418969╶┤              ╰╴Pavlova sp. CCMP459,298111\n",
      "        │                           │                │                 ╭╴Pavlovales,73026╶┤                    ╰╴Exanthemachrysis gayraliae,119497\n",
      "        │                           │                │                 │                  ╰╴Pavlovales sp. CCMP2436,483367\n",
      "        │                           │                │                 │                                                                      ╭╴Prymnesium,35143╶┬╴Prymnesium polylepis,72548\n",
      "        │                           │                │                 │                                               ╭╴Prymnesiaceae,418967╶┤                  ╰╴Prymnesium parvum,97485\n",
      "        │                           │                │                 │                                               │                      ╰╴Haptolina ericina,156174\n",
      "        │                           │                │                 │                          ╭╴Prymnesiales,73028╶┤                        ╭╴Chrysochromulina tobinii,1460289\n",
      "        │                           │                │                 │                          │                    │                        ├╴unclassified Chrysochromulina,2647842╶┬╴Chrysochromulina sp. AL-TEMP,2802064\n",
      "        │                           │                │                 │                          │                    ╰╴Chrysochromulina,35140╶┤                                       ╰╴Chrysochromulina sp. KB-HA01,2802065\n",
      "        │                           │                │                 │                          │                                             ├╴Chrysochromulina cymbium,412154\n",
      "        │                           │                │                 │                          │                                             ├╴Chrysochromulina rotalis,412157\n",
      "        │                           │                │                 │                          │                                             ╰╴Chrysochromulina parva,127563\n",
      "        │                           │                │                 │                          │                                                ╭╴Gephyrocapsa,38816╶┬╴Gephyrocapsa muellerae,1663125\n",
      "        │                           │                │                 │                          │                      ╭╴Noelaerhabdaceae,418966╶┤                    ╰╴Gephyrocapsa oceanica,38817\n",
      "        │                           │                ├╴Haptophyta,2830╶┤                          ├╴Isochrysidales,73020╶┤                         ╰╴Emiliania huxleyi,2903╶╌╴Emiliania huxleyi CCMP1516,280463\n",
      "        │                           │                │                 │                          │                      │                        ╭╴Isochrysis,37098╶┬╴Isochrysis galbana,37099\n",
      "        │                           │                │                 ├╴Prymnesiophyceae,2608131╶┤                      ╰╴Isochrysidaceae,418951╶┤                  ╰╴Isochrysis sp.,40639\n",
      "        │                           │                │                 │                          │                                               ╰╴Chrysotila carterae,13221\n",
      "        │                           │                │                 │                          │                                                      ╭╴Phaeocystis sp. CCMP2710,1411682\n",
      "        │                           │                │                 │                          │                   ╭╴unclassified Phaeocystis,2636333╶┼╴Phaeocystis sp. RCC851,464232\n",
      "        │                           │                │                 │                          │                   │                                  ├╴Phaeocystis sp. RCC908,464236\n",
      "        │                           │                │                 │                          │                   │                                  ╰╴Phaeocystis sp. RCC935,464238\n",
      "        │                           │                │                 │                          ├╴Phaeocystis,33656╶┼╴Phaeocystis antarctica,33657\n",
      "        │                           │                │                 │                          │                   ├╴Phaeocystis globosa,33658\n",
      "        │                           │                │                 │                          │                   ├╴Phaeocystis rex,1631189\n",
      "        │                           │                │                 │                          │                   ╰╴Phaeocystis cordata,118079\n",
      "        │                           │                │                 │                          ├╴Calcidiscus leptoporus,127549\n",
      "        │                           │                │                 │                          ╰╴Scyphosphaera apsteinii,418940\n",
      "        │                           │                │                 ╰╴Chrysoculter rhomboideus,259385\n",
      "        │                           │                ├╴uncultured eukaryote,100272\n",
      "        │                           │                ├╴Palpitomonas bilix,652834\n",
      "        │                           │                ╰╴Trichomonas vaginalis G3,412133\n",
      "        │                           │                             ╭╴Halobacteria,183963╶╌╴Halobacteriales,2235╶┬╴Halorhabdus utahensis,146826\n",
      "        │                           ╰╴Stenosarchaea group,2290931╶┤                                            ╰╴Halobiforma nitratireducens JCM 10879,1227454\n",
      "        │                                                         ╰╴Methanosarcina,2207\n",
      "        ╰╴Norovirus GII,122929╶╌╴Norovirus Hu/GII.P4/P0542-Gaborone-2015,2182758\n"
     ]
    }
   ],
   "source": [
    "print(test.tree.to_str(props=['sci_name', 'name'], compact=True))"
   ]
  },
  {
   "cell_type": "code",
   "execution_count": 144,
   "metadata": {},
   "outputs": [
    {
     "ename": "AttributeError",
     "evalue": "'TreeTrim' object has no attribute 'dict_tax_contigs'",
     "output_type": "error",
     "traceback": [
      "\u001b[0;31m---------------------------------------------------------------------------\u001b[0m",
      "\u001b[0;31mAttributeError\u001b[0m                            Traceback (most recent call last)",
      "Cell \u001b[0;32mIn[144], line 1\u001b[0m\n\u001b[0;32m----> 1\u001b[0m \u001b[43mtest\u001b[49m\u001b[38;5;241;43m.\u001b[39;49m\u001b[43mtrim_tree\u001b[49m\u001b[43m(\u001b[49m\u001b[38;5;124;43m'\u001b[39;49m\u001b[38;5;124;43mnkos_in_gt_minsamples\u001b[39;49m\u001b[38;5;124;43m'\u001b[39;49m\u001b[43m,\u001b[49m\u001b[43m \u001b[49m\u001b[43mthresh\u001b[49m\u001b[38;5;241;43m=\u001b[39;49m\u001b[38;5;241;43m30\u001b[39;49m\u001b[43m,\u001b[49m\u001b[43m \u001b[49m\u001b[43mminsamples\u001b[49m\u001b[38;5;241;43m=\u001b[39;49m\u001b[38;5;241;43m3\u001b[39;49m\u001b[43m)\u001b[49m\n",
      "File \u001b[0;32m/scratch/bgrodner/iron_ko_contigs/../repo-armbrust-metat-search/scripts/cl_tree_trim.py:193\u001b[0m, in \u001b[0;36mTreeTrim.trim_tree\u001b[0;34m(self, filt_func_name, thresh, **fnargs)\u001b[0m\n\u001b[1;32m    190\u001b[0m     contigs \u001b[38;5;241m=\u001b[39m dict_taxtrim_contigs[tid]\n\u001b[1;32m    191\u001b[0m \u001b[38;5;66;03m# Otherwise get old contigs for node\u001b[39;00m\n\u001b[1;32m    192\u001b[0m \u001b[38;5;28;01melse\u001b[39;00m:\n\u001b[0;32m--> 193\u001b[0m     contigs \u001b[38;5;241m=\u001b[39m \u001b[38;5;28;43mself\u001b[39;49m\u001b[38;5;241;43m.\u001b[39;49m\u001b[43mdict_tax_contigs\u001b[49m[tid]\n\u001b[1;32m    194\u001b[0m \u001b[38;5;66;03m# skip if root node\u001b[39;00m\n\u001b[1;32m    195\u001b[0m \u001b[38;5;28;01mif\u001b[39;00m \u001b[38;5;129;01mnot\u001b[39;00m n\u001b[38;5;241m.\u001b[39mis_root:\n\u001b[1;32m    196\u001b[0m     \u001b[38;5;66;03m# if the mean nkos is less than desired\u001b[39;00m\n",
      "\u001b[0;31mAttributeError\u001b[0m: 'TreeTrim' object has no attribute 'dict_tax_contigs'"
     ]
    }
   ],
   "source": [
    "test.trim_tree('nkos_in_gt_minsamples', thresh=30, minsamples=3)"
   ]
  },
  {
   "cell_type": "code",
   "execution_count": null,
   "metadata": {},
   "outputs": [],
   "source": [
    "print(test.treetrim.to_str(props=['sci_name'], compact=True))"
   ]
  },
  {
   "cell_type": "code",
   "execution_count": 142,
   "metadata": {},
   "outputs": [
    {
     "ename": "AttributeError",
     "evalue": "'TreeTrim' object has no attribute 'treetrim'",
     "output_type": "error",
     "traceback": [
      "\u001b[0;31m---------------------------------------------------------------------------\u001b[0m",
      "\u001b[0;31mAttributeError\u001b[0m                            Traceback (most recent call last)",
      "Cell \u001b[0;32mIn[142], line 2\u001b[0m\n\u001b[1;32m      1\u001b[0m dict_tax_sam_kos \u001b[38;5;241m=\u001b[39m defaultdict(\u001b[38;5;28;01mlambda\u001b[39;00m: defaultdict(\u001b[38;5;28mset\u001b[39m))\n\u001b[0;32m----> 2\u001b[0m \u001b[38;5;28;01mfor\u001b[39;00m n \u001b[38;5;129;01min\u001b[39;00m \u001b[43mtest\u001b[49m\u001b[38;5;241;43m.\u001b[39;49m\u001b[43mtreetrim\u001b[49m\u001b[38;5;241m.\u001b[39mtraverse():\n\u001b[1;32m      3\u001b[0m     contigs \u001b[38;5;241m=\u001b[39m test\u001b[38;5;241m.\u001b[39mdict_taxtrim_contigs[n\u001b[38;5;241m.\u001b[39mname]\n\u001b[1;32m      4\u001b[0m     \u001b[38;5;28;01mfor\u001b[39;00m c \u001b[38;5;129;01min\u001b[39;00m contigs:\n",
      "\u001b[0;31mAttributeError\u001b[0m: 'TreeTrim' object has no attribute 'treetrim'"
     ]
    }
   ],
   "source": [
    "dict_tax_sam_kos = defaultdict(lambda: defaultdict(set))\n",
    "for n in test.treetrim.traverse():\n",
    "    contigs = test.dict_taxtrim_contigs[n.name]\n",
    "    for c in contigs:\n",
    "        ko = dict_contig_ko[c]\n",
    "        estcounts = dict_contig_estcounts[c]\n",
    "        for sam, ec in enumerate(estcounts):\n",
    "            if ec:\n",
    "                dict_tax_sam_kos[n.name][sam].add(ko)"
   ]
  },
  {
   "cell_type": "code",
   "execution_count": null,
   "metadata": {},
   "outputs": [],
   "source": [
    "fig, ax = general_plot(dims=(10,4))\n",
    "\n",
    "xlab = []\n",
    "\n",
    "thresh = 30\n",
    "ft = 5\n",
    "for x_, n in enumerate(test.treetrim.traverse()):\n",
    "    nkos = []\n",
    "    for _, kos in dict_tax_sam_kos[n.name].items():\n",
    "        nkos.append(len(kos))\n",
    "    x = np.repeat(x_, len(nkos)).astype(float) \n",
    "    x += (np.random.rand(x.shape[0]) - 0.5) * 0.25\n",
    "    ax.scatter(x, np.array(nkos), c='k', s=2)\n",
    "    ax.plot([x_-0.25, x_+0.25],[np.mean(nkos)]*2, 'r')\n",
    "    xlab.append(n.props['sci_name'])\n",
    "\n",
    "xlims = ax.get_xlim()\n",
    "ax.plot(xlims,[thresh]*2, 'k:')\n",
    "\n",
    "ax.set_xticks(np.arange(x_+1))\n",
    "ax.set_xticklabels(xlab, rotation=45, size=ft, ha='right', rotation_mode='anchor')\n",
    "ax.set_ylabel('Numer of KOs in sample')\n",
    "ax.set_xlabel('Taxid')"
   ]
  },
  {
   "cell_type": "markdown",
   "metadata": {},
   "source": [
    "## What is the distribution of nkos across sample and nsamples across ko?"
   ]
  },
  {
   "cell_type": "code",
   "execution_count": null,
   "metadata": {},
   "outputs": [],
   "source": []
  },
  {
   "cell_type": "code",
   "execution_count": 135,
   "metadata": {},
   "outputs": [
    {
     "data": {
      "text/plain": [
       "(23, 257)"
      ]
     },
     "execution_count": 135,
     "metadata": {},
     "output_type": "execute_result"
    }
   ],
   "source": [
    "kos_all = list(dict_ko_contigs.keys())\n",
    "nsam = len(list(dict_contig_estcounts.values())[0])\n",
    "\n",
    "nsam, len(kos_all)"
   ]
  },
  {
   "cell_type": "code",
   "execution_count": 141,
   "metadata": {},
   "outputs": [
    {
     "name": "stdout",
     "output_type": "stream",
     "text": [
      "Pelagomonas calceolata\n",
      "0 contigs\n"
     ]
    },
    {
     "data": {
      "image/png": "[encoded data removed]",
      "text/plain": [
       "<Figure size 500x300 with 1 Axes>"
      ]
     },
     "metadata": {},
     "output_type": "display_data"
    },
    {
     "data": {
      "image/png": "[encoded data removed]",
      "text/plain": [
       "<Figure size 500x300 with 1 Axes>"
      ]
     },
     "metadata": {},
     "output_type": "display_data"
    },
    {
     "name": "stdout",
     "output_type": "stream",
     "text": [
      "Chrysochromulina sp. KB-HA01\n",
      "0 contigs\n"
     ]
    },
    {
     "data": {
      "image/png": "[encoded data removed]",
      "text/plain": [
       "<Figure size 500x300 with 1 Axes>"
      ]
     },
     "metadata": {},
     "output_type": "display_data"
    },
    {
     "data": {
      "image/png": "[encoded data removed]",
      "text/plain": [
       "<Figure size 500x300 with 1 Axes>"
      ]
     },
     "metadata": {},
     "output_type": "display_data"
    }
   ],
   "source": [
    "tid_pos = '35677' # Pelagomonas calceolata\n",
    "tid_neg = '2802065' # Chrysochromulina sp. KB-HA01\n",
    "\n",
    "\n",
    "for tid in [tid_pos, tid_neg]:\n",
    "    print(ncbi.get_taxid_translator([tid])[int(tid)])\n",
    "    contigs = dict_tax_contigs[tid]\n",
    "    print(len(contigs), 'contigs')\n",
    "    dict_ko_estcounts = {}\n",
    "    for c in contigs:\n",
    "        ko = dict_contig_ko[c]\n",
    "        estcounts = dict_contig_estcounts[c]\n",
    "        estcounts = np.array(estcounts)\n",
    "        if ko in dict_ko_estcounts:\n",
    "            dict_ko_estcounts[ko] += estcounts\n",
    "        else:\n",
    "            dict_ko_estcounts[ko] = estcounts\n",
    "    estc_list = []\n",
    "    for ko in kos_all:\n",
    "        if ko in dict_ko_estcounts:\n",
    "            estc_list.append(dict_ko_estcounts[ko])\n",
    "        else:\n",
    "            estc_list.append(np.zeros(nsam))\n",
    "    estc_arr = np.array(estc_list)\n",
    "\n",
    "    estc_bool = estc_arr.astype(bool)\n",
    "    ax1_sum = estc_bool.sum(axis=1)\n",
    "    ax0_sum = estc_bool.sum(axis=0)\n",
    "\n",
    "    fig, ax = general_plot()\n",
    "    _ = ax.hist(ax0_sum, bins=20)\n",
    "    _ = ax.set_xlabel('Number of nonzero KOs')\n",
    "    _ = ax.set_ylabel('Number of samples')\n",
    "    plt.show()\n",
    "\n",
    "    fig, ax = general_plot()\n",
    "    _ = ax.hist(ax1_sum, bins=20)\n",
    "    _ = ax.set_xlabel('Number of nonzero samples')\n",
    "    _ = ax.set_ylabel('Number of KOs')\n",
    "    plt.show()\n",
    "\n"
   ]
  },
  {
   "cell_type": "code",
   "execution_count": null,
   "metadata": {},
   "outputs": [],
   "source": [
    "True + True"
   ]
  },
  {
   "cell_type": "code",
   "execution_count": null,
   "metadata": {},
   "outputs": [],
   "source": [
    "len(next(iter(dict_contig_estcounts.values())))"
   ]
  },
  {
   "cell_type": "code",
   "execution_count": 799,
   "metadata": {},
   "outputs": [],
   "source": [
    "a = defaultdict(lambda: np.zeros(3))"
   ]
  },
  {
   "cell_type": "code",
   "execution_count": 800,
   "metadata": {},
   "outputs": [],
   "source": [
    "a['a'] += np.ones(3)"
   ]
  },
  {
   "cell_type": "code",
   "execution_count": 49,
   "metadata": {},
   "outputs": [],
   "source": [
    "dictofdicts = defaultdict(dict)\n",
    "for contig, tax in dict_contig_tax.items():\n",
    "    ko = dict_contig_ko[contig]\n",
    "    estcounts = dict_contig_estcounts[contig]\n",
    "    dictofdicts[contig]['tax'] = tax\n",
    "    dictofdicts[contig]['ko'] = ko\n",
    "    dictofdicts[contig]['estcounts'] = estcounts\n"
   ]
  },
  {
   "cell_type": "code",
   "execution_count": null,
   "metadata": {},
   "outputs": [],
   "source": [
    "import sys\n",
    "def sizeof_fmt(num, suffix='B'):\n",
    "    ''' by Fred Cirera,  https://stackoverflow.com/a/1094933/1870254, modified'''\n",
    "    for unit in ['','Ki','Mi','Gi','Ti','Pi','Ei','Zi']:\n",
    "        if abs(num) < 1024.0:\n",
    "            return \"%3.1f %s%s\" % (num, unit, suffix)\n",
    "        num /= 1024.0\n",
    "    return \"%.1f %s%s\" % (num, 'Yi', suffix)\n",
    "\n",
    "for name, size in sorted(((name, sys.getsizeof(value)) for name, value in list(\n",
    "                          locals().items())), key= lambda x: -x[1])[:20]:\n",
    "    print(\"{:>30}: {:>8}\".format(name, sizeof_fmt(size)))"
   ]
  },
  {
   "cell_type": "code",
   "execution_count": null,
   "metadata": {},
   "outputs": [],
   "source": [
    "_13.iloc[0,:]"
   ]
  },
  {
   "cell_type": "code",
   "execution_count": null,
   "metadata": {},
   "outputs": [],
   "source": [
    "next(iter(dict_contig_tax))"
   ]
  },
  {
   "cell_type": "code",
   "execution_count": null,
   "metadata": {},
   "outputs": [],
   "source": [
    "dict_contig_tax['G1PA_S02C1_0_2um_TRINITY_DN1001023_c0_g1_i1_2']"
   ]
  },
  {
   "cell_type": "code",
   "execution_count": null,
   "metadata": {},
   "outputs": [],
   "source": [
    "test.ncbi.get_name_translator('Pelagomonas')"
   ]
  },
  {
   "cell_type": "code",
   "execution_count": null,
   "metadata": {},
   "outputs": [],
   "source": [
    "a = pd.DataFrame({'a':[1,'',3],'b':[4,5,6]})\n",
    "b = a.loc[a.a == 2].squeeze()\n",
    "b.a"
   ]
  },
  {
   "cell_type": "code",
   "execution_count": 55,
   "metadata": {},
   "outputs": [],
   "source": [
    "del TreeTrim"
   ]
  },
  {
   "cell_type": "code",
   "execution_count": null,
   "metadata": {},
   "outputs": [
    {
     "data": {
      "text/plain": [
       "True"
      ]
     },
     "execution_count": 89,
     "metadata": {},
     "output_type": "execute_result"
    }
   ],
   "source": [
    "fn_tidy = 'tidytest.csv'\n",
    "# fn_tidy = 'metat_search_results/dicts_iron_KO_contig/tidy_tables/NPac.G1PA.bf100.id99.aa.best.Kofam.incT30.csv.gz-iron_KOs.txt-tidys/NPac.G1PA.bf100.id99.aa.best.Kofam.incT30.csv.gz-iron_KOs.txt-tidy.csv'\n",
    "\n",
    "os.path.exists(fn_tidy)"
   ]
  },
  {
   "cell_type": "code",
   "execution_count": 98,
   "metadata": {},
   "outputs": [
    {
     "data": {
      "text/plain": [
       "214955"
      ]
     },
     "execution_count": 98,
     "metadata": {},
     "output_type": "execute_result"
    }
   ],
   "source": [
    "del t\n",
    "gc.collect()\n"
   ]
  },
  {
   "cell_type": "code",
   "execution_count": 147,
   "metadata": {},
   "outputs": [
    {
     "name": "stdout",
     "output_type": "stream",
     "text": [
      "Loading dicts...\n",
      "Current memory usage: 5436.50 MB\n",
      "Time to load dicts: 0.0 min 41.24373960494995 sec\n",
      "Current memory usage: 6814.00 MB\n"
     ]
    }
   ],
   "source": [
    "from scripts.cl_tree_trim_02 import TreeTrim\n",
    "\n",
    "t = TreeTrim(fn_tidy)"
   ]
  },
  {
   "cell_type": "code",
   "execution_count": 152,
   "metadata": {},
   "outputs": [
    {
     "name": "stdout",
     "output_type": "stream",
     "text": [
      "37328 trimmed...with 1 contigs and 1 kos\n",
      "1206737 trimmed...with 1 contigs and 1 kos\n",
      "1160137 trimmed...with 1 contigs and 1 kos\n",
      "1817 trimmed...with 6 contigs and 4 kos\n",
      "1443890 trimmed...with 1 contigs and 1 kos\n",
      "101510 trimmed...with 1 contigs and 1 kos\n",
      "85025 trimmed...with 8 contigs and 5 kos\n",
      "36809 trimmed...with 1 contigs and 1 kos\n",
      "1078020 trimmed...with 1 contigs and 1 kos\n",
      "1762 trimmed...with 3 contigs and 2 kos\n",
      "858619 trimmed...with 1 contigs and 1 kos\n",
      "1223543 trimmed...with 1 contigs and 1 kos\n",
      "85007 trimmed...with 14 contigs and 8 kos\n",
      "440482 trimmed...with 1 contigs and 1 kos\n",
      "399736 trimmed...with 1 contigs and 1 kos\n",
      "1385519 trimmed...with 1 contigs and 1 kos\n",
      "85006 trimmed...with 3 contigs and 2 kos\n",
      "182640 trimmed...with 1 contigs and 1 kos\n",
      "396389 trimmed...with 1 contigs and 1 kos\n",
      "85009 trimmed...with 2 contigs and 2 kos\n",
      "2020 trimmed...with 1 contigs and 1 kos\n",
      "570268 trimmed...with 2 contigs and 1 kos\n",
      "85012 trimmed...with 3 contigs and 2 kos\n",
      "1415549 trimmed...with 1 contigs and 1 kos\n",
      "1157634 trimmed...with 1 contigs and 1 kos\n",
      "1463895 trimmed...with 1 contigs and 1 kos\n",
      "1463902 trimmed...with 1 contigs and 1 kos\n",
      "1463921 trimmed...with 1 contigs and 1 kos\n",
      "1463937 trimmed...with 1 contigs and 1 kos\n",
      "1218177 trimmed...with 1 contigs and 1 kos\n",
      "1519489 trimmed...with 2 contigs and 1 kos\n",
      "2593676 trimmed...with 9 contigs and 3 kos\n",
      "67315 trimmed...with 1 contigs and 1 kos\n",
      "1883 trimmed...with 18 contigs and 5 kos\n",
      "2062 trimmed...with 21 contigs and 5 kos\n",
      "39845 trimmed...with 1 contigs and 1 kos\n",
      "211114 trimmed...with 1 contigs and 1 kos\n",
      "103733 trimmed...with 1 contigs and 1 kos\n",
      "40567 trimmed...with 1 contigs and 1 kos\n",
      "2070 trimmed...with 6 contigs and 4 kos\n",
      "649831 trimmed...with 1 contigs and 1 kos\n",
      "134676 trimmed...with 2 contigs and 2 kos\n",
      "2626549 trimmed...with 3 contigs and 2 kos\n",
      "1246995 trimmed...with 3 contigs and 1 kos\n",
      "1865 trimmed...with 6 contigs and 3 kos\n",
      "129052 trimmed...with 2 contigs and 1 kos\n",
      "1003110 trimmed...with 1 contigs and 1 kos\n",
      "28056 trimmed...with 9 contigs and 4 kos\n",
      "58116 trimmed...with 1 contigs and 1 kos\n",
      "77635 trimmed...with 1 contigs and 1 kos\n",
      "1760 trimmed...with 100 contigs and 17 kos\n",
      "266117 trimmed...with 2 contigs and 1 kos\n",
      "201174 trimmed...with 102 contigs and 18 kos\n",
      "240302 trimmed...with 1 contigs and 1 kos\n",
      "272558 trimmed...with 1 contigs and 1 kos\n",
      "981383 trimmed...with 1 contigs and 1 kos\n",
      "1051501 trimmed...with 3 contigs and 1 kos\n",
      "186817 trimmed...with 7 contigs and 3 kos\n",
      "61624 trimmed...with 1 contigs and 1 kos\n",
      "1406 trimmed...with 1 contigs and 1 kos\n",
      "669462 trimmed...with 2 contigs and 1 kos\n",
      "44249 trimmed...with 7 contigs and 4 kos\n",
      "459527 trimmed...with 1 contigs and 1 kos\n",
      "186822 trimmed...with 9 contigs and 5 kos\n",
      "1637 trimmed...with 1 contigs and 1 kos\n",
      "1002809 trimmed...with 1 contigs and 1 kos\n",
      "1385 trimmed...with 24 contigs and 7 kos\n",
      "1423743 trimmed...with 1 contigs and 1 kos\n",
      "701521 trimmed...with 1 contigs and 1 kos\n",
      "33958 trimmed...with 2 contigs and 2 kos\n",
      "1301 trimmed...with 2 contigs and 1 kos\n",
      "1215915 trimmed...with 1 contigs and 1 kos\n",
      "1300 trimmed...with 3 contigs and 1 kos\n",
      "1234679 trimmed...with 1 contigs and 1 kos\n",
      "186826 trimmed...with 6 contigs and 2 kos\n",
      "91061 trimmed...with 31 contigs and 8 kos\n",
      "1384066 trimmed...with 1 contigs and 1 kos\n",
      "1121335 trimmed...with 1 contigs and 1 kos\n",
      "216572 trimmed...with 2 contigs and 2 kos\n",
      "79206 trimmed...with 1 contigs and 1 kos\n",
      "1485 trimmed...with 1 contigs and 1 kos\n",
      "1321778 trimmed...with 1 contigs and 1 kos\n",
      "186802 trimmed...with 5 contigs and 4 kos\n",
      "186803 trimmed...with 1 contigs and 1 kos\n",
      "186801 trimmed...with 6 contigs and 4 kos\n",
      "970 trimmed...with 3 contigs and 1 kos\n",
      "909932 trimmed...with 7 contigs and 1 kos\n",
      "1239 trimmed...with 44 contigs and 10 kos\n",
      "163908 trimmed...with 1 contigs and 1 kos\n",
      "1165094 trimmed...with 1 contigs and 1 kos\n",
      "1162 trimmed...with 2 contigs and 1 kos\n",
      "221288 trimmed...with 2 contigs and 1 kos\n",
      "643473 trimmed...with 1 contigs and 1 kos\n",
      "1174528 trimmed...with 1 contigs and 1 kos\n",
      "1161 trimmed...with 10 contigs and 5 kos\n",
      "756067 trimmed...with 1 contigs and 1 kos\n",
      "203124 trimmed...with 1 contigs and 1 kos\n",
      "1892252 trimmed...with 2 contigs and 2 kos\n",
      "1155739 trimmed...with 1 contigs and 1 kos\n",
      "1173028 trimmed...with 1 contigs and 1 kos\n",
      "1892254 trimmed...with 2 contigs and 2 kos\n",
      "1150 trimmed...with 4 contigs and 4 kos\n",
      "263510 trimmed...with 1 contigs and 1 kos\n",
      "1301283 trimmed...with 5 contigs and 5 kos\n",
      "1496688 trimmed...with 1 contigs and 1 kos\n",
      "167375 trimmed...with 2 contigs and 2 kos\n",
      "317619 trimmed...with 1 contigs and 1 kos\n",
      "1173020 trimmed...with 1 contigs and 1 kos\n",
      "102129 trimmed...with 1 contigs and 1 kos\n",
      "3028117 trimmed...with 35 contigs and 11 kos\n",
      "1117 trimmed...with 45 contigs and 13 kos\n",
      "316274 trimmed...with 1 contigs and 1 kos\n",
      "1783272 trimmed...with 234 contigs and 32 kos\n",
      "53246 trimmed...with 3 contigs and 3 kos\n",
      "163869 trimmed...with 2 contigs and 2 kos\n",
      "267888 trimmed...with 5 contigs and 5 kos\n",
      "226 trimmed...with 17 contigs and 7 kos\n",
      "1526571 trimmed...with 2 contigs and 1 kos\n",
      "72275 trimmed...with 19 contigs and 8 kos\n",
      "267893 trimmed...with 1 contigs and 1 kos\n",
      "225848 trimmed...with 1 contigs and 1 kos\n",
      "392500 trimmed...with 1 contigs and 1 kos\n",
      "22 trimmed...with 2 contigs and 2 kos\n",
      "135622 trimmed...with 30 contigs and 16 kos\n",
      "1230343 trimmed...with 1 contigs and 1 kos\n",
      "118969 trimmed...with 2 contigs and 2 kos\n",
      "28885 trimmed...with 1 contigs and 1 kos\n",
      "90813 trimmed...with 2 contigs and 1 kos\n",
      "1168067 trimmed...with 1 contigs and 1 kos\n",
      "28884 trimmed...with 4 contigs and 1 kos\n",
      "2039723 trimmed...with 1 contigs and 1 kos\n",
      "135616 trimmed...with 5 contigs and 1 kos\n",
      "549298 trimmed...with 1 contigs and 1 kos\n",
      "653937 trimmed...with 0 contigs and 0 kos\n",
      "262 trimmed...with 1 contigs and 1 kos\n",
      "72273 trimmed...with 6 contigs and 1 kos\n",
      "33074 trimmed...with 1 contigs and 1 kos\n",
      "349521 trimmed...with 1 contigs and 1 kos\n",
      "135619 trimmed...with 3 contigs and 3 kos\n",
      "1706379 trimmed...with 1 contigs and 1 kos\n",
      "1134474 trimmed...with 1 contigs and 1 kos\n",
      "1706369 trimmed...with 2 contigs and 2 kos\n",
      "84531 trimmed...with 10 contigs and 1 kos\n",
      "1500893 trimmed...with 1 contigs and 1 kos\n",
      "135614 trimmed...with 12 contigs and 3 kos\n",
      "768671 trimmed...with 5 contigs and 2 kos\n",
      "1046 trimmed...with 6 contigs and 2 kos\n",
      "135613 trimmed...with 7 contigs and 3 kos\n",
      "1333848 trimmed...with 1 contigs and 1 kos\n",
      "544 trimmed...with 2 contigs and 1 kos\n",
      "550 trimmed...with 1 contigs and 1 kos\n",
      "640513 trimmed...with 1 contigs and 1 kos\n",
      "354276 trimmed...with 2 contigs and 1 kos\n",
      "1406822 trimmed...with 1 contigs and 1 kos\n",
      "543 trimmed...with 8 contigs and 2 kos\n",
      "406817 trimmed...with 1 contigs and 1 kos\n",
      "1903414 trimmed...with 2 contigs and 2 kos\n",
      "551 trimmed...with 2 contigs and 1 kos\n",
      "1082705 trimmed...with 1 contigs and 1 kos\n",
      "349966 trimmed...with 2 contigs and 1 kos\n",
      "91347 trimmed...with 23 contigs and 4 kos\n",
      "364197 trimmed...with 1 contigs and 1 kos\n",
      "1215104 trimmed...with 1 contigs and 1 kos\n",
      "1207076 trimmed...with 1 contigs and 1 kos\n",
      "1282356 trimmed...with 1 contigs and 1 kos\n",
      "286 trimmed...with 6 contigs and 4 kos\n",
      "135621 trimmed...with 7 contigs and 5 kos\n",
      "751994 trimmed...with 2 contigs and 2 kos\n",
      "657 trimmed...with 1 contigs and 1 kos\n",
      "398736 trimmed...with 1 contigs and 1 kos\n",
      "662 trimmed...with 9 contigs and 4 kos\n",
      "641 trimmed...with 10 contigs and 4 kos\n",
      "469 trimmed...with 3 contigs and 2 kos\n",
      "713 trimmed...with 1 contigs and 1 kos\n",
      "1196095 trimmed...with 1 contigs and 1 kos\n",
      "1268237 trimmed...with 8 contigs and 1 kos\n",
      "857087 trimmed...with 1 contigs and 1 kos\n",
      "1236 trimmed...with 154 contigs and 31 kos\n",
      "1470558 trimmed...with 1 contigs and 1 kos\n",
      "1217718 trimmed...with 2 contigs and 1 kos\n",
      "2640874 trimmed...with 3 contigs and 2 kos\n",
      "1235457 trimmed...with 1 contigs and 1 kos\n",
      "119060 trimmed...with 10 contigs and 4 kos\n",
      "1223521 trimmed...with 1 contigs and 1 kos\n",
      "80864 trimmed...with 2 contigs and 2 kos\n",
      "511 trimmed...with 1 contigs and 1 kos\n",
      "1112211 trimmed...with 1 contigs and 1 kos\n",
      "80840 trimmed...with 15 contigs and 7 kos\n",
      "396808 trimmed...with 1 contigs and 1 kos\n",
      "265072 trimmed...with 1 contigs and 1 kos\n",
      "159087 trimmed...with 1 contigs and 1 kos\n",
      "28216 trimmed...with 19 contigs and 10 kos\n",
      "106592 trimmed...with 1 contigs and 1 kos\n",
      "1432050 trimmed...with 0 contigs and 0 kos\n",
      "82115 trimmed...with 1 contigs and 1 kos\n",
      "316055 trimmed...with 1 contigs and 1 kos\n",
      "41294 trimmed...with 2 contigs and 1 kos\n",
      "408 trimmed...with 1 contigs and 1 kos\n",
      "858455 trimmed...with 1 contigs and 1 kos\n",
      "395965 trimmed...with 1 contigs and 1 kos\n",
      "1502851 trimmed...with 1 contigs and 1 kos\n",
      "356 trimmed...with 13 contigs and 8 kos\n",
      "1529068 trimmed...with 1 contigs and 1 kos\n",
      "265 trimmed...with 2 contigs and 2 kos\n",
      "31989 trimmed...with 3 contigs and 3 kos\n",
      "985054 trimmed...with 1 contigs and 1 kos\n",
      "246200 trimmed...with 1 contigs and 1 kos\n",
      "644076 trimmed...with 1 contigs and 1 kos\n",
      "97050 trimmed...with 3 contigs and 3 kos\n",
      "390641 trimmed...with 3 contigs and 1 kos\n",
      "375451 trimmed...with 1 contigs and 1 kos\n",
      "1305735 trimmed...with 1 contigs and 1 kos\n",
      "398580 trimmed...with 9 contigs and 1 kos\n",
      "988812 trimmed...with 3 contigs and 1 kos\n",
      "2854170 trimmed...with 22 contigs and 9 kos\n",
      "204455 trimmed...with 94 contigs and 15 kos\n",
      "13687 trimmed...with 1 contigs and 1 kos\n",
      "204457 trimmed...with 2 contigs and 1 kos\n",
      "1123045 trimmed...with 5 contigs and 1 kos\n",
      "450851 trimmed...with 1 contigs and 1 kos\n",
      "1401685 trimmed...with 3 contigs and 1 kos\n",
      "28211 trimmed...with 203 contigs and 27 kos\n",
      "225057 trimmed...with 1 contigs and 1 kos\n",
      "1297742 trimmed...with 1 contigs and 1 kos\n",
      "1278073 trimmed...with 1 contigs and 1 kos\n",
      "483219 trimmed...with 1 contigs and 1 kos\n",
      "32 trimmed...with 3 contigs and 3 kos\n",
      "31 trimmed...with 4 contigs and 3 kos\n",
      "1254432 trimmed...with 6 contigs and 1 kos\n",
      "56 trimmed...with 7 contigs and 2 kos\n",
      "2818505 trimmed...with 11 contigs and 4 kos\n",
      "125 trimmed...with 1 contigs and 1 kos\n",
      "2691357 trimmed...with 2 contigs and 2 kos\n",
      "1914233 trimmed...with 1 contigs and 1 kos\n",
      "344747 trimmed...with 2 contigs and 1 kos\n",
      "203683 trimmed...with 8 contigs and 3 kos\n",
      "247490 trimmed...with 3 contigs and 1 kos\n",
      "203682 trimmed...with 11 contigs and 4 kos\n",
      "1403819 trimmed...with 1 contigs and 1 kos\n",
      "1396141 trimmed...with 1 contigs and 1 kos\n",
      "203557 trimmed...with 2 contigs and 1 kos\n",
      "395922 trimmed...with 1 contigs and 1 kos\n",
      "74201 trimmed...with 4 contigs and 2 kos\n",
      "1437425 trimmed...with 1 contigs and 1 kos\n",
      "1783257 trimmed...with 16 contigs and 5 kos\n",
      "1232410 trimmed...with 1 contigs and 1 kos\n",
      "3031651 trimmed...with 2 contigs and 2 kos\n",
      "218207 trimmed...with 1 contigs and 1 kos\n",
      "879212 trimmed...with 1 contigs and 1 kos\n",
      "213118 trimmed...with 2 contigs and 2 kos\n",
      "194924 trimmed...with 1 contigs and 1 kos\n",
      "200940 trimmed...with 5 contigs and 5 kos\n",
      "498301 trimmed...with 1 contigs and 1 kos\n",
      "206041 trimmed...with 4 contigs and 1 kos\n",
      "237 trimmed...with 5 contigs and 2 kos\n",
      "1443665 trimmed...with 1 contigs and 1 kos\n",
      "290174 trimmed...with 4 contigs and 2 kos\n",
      "1178825 trimmed...with 1 contigs and 1 kos\n",
      "1150389 trimmed...with 3 contigs and 2 kos\n",
      "1736674 trimmed...with 1 contigs and 1 kos\n",
      "216432 trimmed...with 1 contigs and 1 kos\n",
      "1336804 trimmed...with 3 contigs and 1 kos\n",
      "1392490 trimmed...with 1 contigs and 1 kos\n",
      "49546 trimmed...with 30 contigs and 8 kos\n",
      "200644 trimmed...with 32 contigs and 8 kos\n",
      "487796 trimmed...with 1 contigs and 1 kos\n",
      "117743 trimmed...with 33 contigs and 9 kos\n",
      "1048983 trimmed...with 1 contigs and 1 kos\n",
      "1124780 trimmed...with 1 contigs and 1 kos\n",
      "768507 trimmed...with 2 contigs and 2 kos\n",
      "909656 trimmed...with 1 contigs and 1 kos\n",
      "1008 trimmed...with 1 contigs and 1 kos\n",
      "976 trimmed...with 40 contigs and 14 kos\n",
      "945713 trimmed...with 2 contigs and 1 kos\n",
      "68336 trimmed...with 44 contigs and 14 kos\n",
      "425400 trimmed...with 2 contigs and 1 kos\n",
      "50960 trimmed...with 1 contigs and 1 kos\n",
      "209 trimmed...with 3 contigs and 2 kos\n",
      "28199 trimmed...with 3 contigs and 1 kos\n",
      "929558 trimmed...with 1 contigs and 1 kos\n",
      "213849 trimmed...with 7 contigs and 2 kos\n",
      "269258 trimmed...with 1 contigs and 1 kos\n",
      "3031852 trimmed...with 8 contigs and 2 kos\n",
      "1267534 trimmed...with 2 contigs and 2 kos\n",
      "204434 trimmed...with 3 contigs and 2 kos\n",
      "212790 trimmed...with 1 contigs and 1 kos\n",
      "3379134 trimmed...with 88 contigs and 23 kos\n",
      "1394712 trimmed...with 2 contigs and 1 kos\n",
      "317577 trimmed...with 1 contigs and 1 kos\n",
      "753684 trimmed...with 15 contigs and 3 kos\n",
      "31354 trimmed...with 2 contigs and 2 kos\n",
      "930023 trimmed...with 17 contigs and 5 kos\n",
      "83373 trimmed...with 1 contigs and 1 kos\n",
      "2788 trimmed...with 1 contigs and 1 kos\n",
      "2797 trimmed...with 2 contigs and 2 kos\n",
      "2801 trimmed...with 2 contigs and 2 kos\n",
      "101924 trimmed...with 1 contigs and 1 kos\n",
      "448386 trimmed...with 2 contigs and 1 kos\n",
      "2763 trimmed...with 25 contigs and 9 kos\n",
      "483369 trimmed...with 511 contigs and 10 kos\n",
      "35684 trimmed...with 12 contigs and 8 kos\n",
      "296676 trimmed...with 16 contigs and 9 kos\n",
      "38822 trimmed...with 6 contigs and 5 kos\n",
      "1411684 trimmed...with 37 contigs and 7 kos\n",
      "464225 trimmed...with 24 contigs and 9 kos\n",
      "2625833 trimmed...with 72 contigs and 17 kos\n",
      "236787 trimmed...with 97 contigs and 26 kos\n",
      "1034831 trimmed...with 58 contigs and 18 kos\n",
      "483370 trimmed...with 3 contigs and 3 kos\n",
      "1764641 trimmed...with 11 contigs and 5 kos\n",
      "464228 trimmed...with 162 contigs and 30 kos\n",
      "114041 trimmed...with 183 contigs and 36 kos\n",
      "1411660 trimmed...with 1 contigs and 1 kos\n",
      "1411690 trimmed...with 6 contigs and 2 kos\n",
      "2972369 trimmed...with 1 contigs and 1 kos\n",
      "2627057 trimmed...with 7 contigs and 3 kos\n",
      "2094171 trimmed...with 8 contigs and 4 kos\n",
      "1411683 trimmed...with 1 contigs and 1 kos\n",
      "45651 trimmed...with 11 contigs and 7 kos\n",
      "35679 trimmed...with 67 contigs and 17 kos\n",
      "3235057 trimmed...with 67 contigs and 17 kos\n",
      "44058 trimmed...with 1 contigs and 1 kos\n",
      "1048533 trimmed...with 9 contigs and 8 kos\n",
      "637379 trimmed...with 8 contigs and 5 kos\n",
      "35127 trimmed...with 28 contigs and 17 kos\n",
      "1960173 trimmed...with 5 contigs and 2 kos\n",
      "29202 trimmed...with 41 contigs and 21 kos\n",
      "2843 trimmed...with 1 contigs and 1 kos\n",
      "2842 trimmed...with 4 contigs and 2 kos\n",
      "33847 trimmed...with 73 contigs and 30 kos\n",
      "29204 trimmed...with 3 contigs and 1 kos\n",
      "671091 trimmed...with 6 contigs and 2 kos\n",
      "515487 trimmed...with 39 contigs and 13 kos\n",
      "33840 trimmed...with 45 contigs and 15 kos\n",
      "420281 trimmed...with 4 contigs and 3 kos\n",
      "216777 trimmed...with 31 contigs and 19 kos\n",
      "1118495 trimmed...with 1 contigs and 1 kos\n",
      "216801 trimmed...with 7 contigs and 4 kos\n",
      "33845 trimmed...with 8 contigs and 5 kos\n",
      "420782 trimmed...with 17 contigs and 4 kos\n",
      "49237 trimmed...with 27 contigs and 10 kos\n",
      "218684 trimmed...with 4 contigs and 3 kos\n",
      "49242 trimmed...with 6 contigs and 4 kos\n",
      "265572 trimmed...with 2 contigs and 1 kos\n",
      "49244 trimmed...with 18 contigs and 12 kos\n",
      "374047 trimmed...with 1 contigs and 1 kos\n",
      "265563 trimmed...with 4 contigs and 3 kos\n",
      "589449 trimmed...with 33 contigs and 21 kos\n",
      "1519565 trimmed...with 5 contigs and 2 kos\n",
      "1764896 trimmed...with 5 contigs and 1 kos\n",
      "67474 trimmed...with 10 contigs and 3 kos\n",
      "2608610 trimmed...with 3 contigs and 2 kos\n",
      "38748 trimmed...with 14 contigs and 5 kos\n",
      "186038 trimmed...with 16 contigs and 10 kos\n",
      "635003 trimmed...with 4 contigs and 4 kos\n",
      "186035 trimmed...with 53 contigs and 17 kos\n",
      "476441 trimmed...with 7 contigs and 4 kos\n",
      "183588 trimmed...with 3 contigs and 2 kos\n",
      "2202556 trimmed...with 1 contigs and 1 kos\n",
      "41953 trimmed...with 34 contigs and 16 kos\n",
      "2856 trimmed...with 6 contigs and 4 kos\n",
      "1606575 trimmed...with 1 contigs and 1 kos\n",
      "2041349 trimmed...with 1 contigs and 1 kos\n",
      "908989 trimmed...with 2 contigs and 2 kos\n",
      "33850 trimmed...with 51 contigs and 17 kos\n",
      "1764925 trimmed...with 2 contigs and 2 kos\n",
      "33856 trimmed...with 4 contigs and 3 kos\n",
      "2884791 trimmed...with 1 contigs and 1 kos\n",
      "33855 trimmed...with 5 contigs and 4 kos\n",
      "33649 trimmed...with 2 contigs and 2 kos\n",
      "1049557 trimmed...with 42 contigs and 14 kos\n",
      "38755 trimmed...with 57 contigs and 19 kos\n",
      "210454 trimmed...with 1 contigs and 1 kos\n",
      "33854 trimmed...with 82 contigs and 29 kos\n",
      "2185085 trimmed...with 1 contigs and 1 kos\n",
      "2877 trimmed...with 3 contigs and 2 kos\n",
      "74381 trimmed...with 1 contigs and 1 kos\n",
      "2870 trimmed...with 7 contigs and 5 kos\n",
      "109269 trimmed...with 3 contigs and 1 kos\n",
      "569578 trimmed...with 18 contigs and 8 kos\n",
      "96789 trimmed...with 6 contigs and 4 kos\n",
      "420557 trimmed...with 56 contigs and 8 kos\n",
      "420556 trimmed...with 17 contigs and 9 kos\n",
      "1616673 trimmed...with 5 contigs and 5 kos\n",
      "2635268 trimmed...with 121 contigs and 21 kos\n",
      "98651 trimmed...with 136 contigs and 24 kos\n",
      "1955563 trimmed...with 23 contigs and 10 kos\n",
      "1735748 trimmed...with 28 contigs and 12 kos\n",
      "1735749 trimmed...with 6 contigs and 3 kos\n",
      "114181 trimmed...with 48 contigs and 15 kos\n",
      "2825 trimmed...with 77 contigs and 17 kos\n",
      "1181717 trimmed...with 3 contigs and 3 kos\n",
      "94617 trimmed...with 11 contigs and 4 kos\n",
      "536047 trimmed...with 2 contigs and 2 kos\n",
      "2829 trimmed...with 4 contigs and 4 kos\n",
      "44440 trimmed...with 5 contigs and 3 kos\n",
      "658124 trimmed...with 24 contigs and 9 kos\n",
      "172717 trimmed...with 3 contigs and 2 kos\n",
      "722752 trimmed...with 4 contigs and 2 kos\n",
      "1606585 trimmed...with 10 contigs and 3 kos\n",
      "2636278 trimmed...with 23 contigs and 4 kos\n",
      "172671 trimmed...with 86 contigs and 2 kos\n",
      "124430 trimmed...with 2 contigs and 2 kos\n",
      "1004268 trimmed...with 146 contigs and 6 kos\n",
      "1149776 trimmed...with 1 contigs and 1 kos\n",
      "425072 trimmed...with 71 contigs and 14 kos\n",
      "483371 trimmed...with 12 contigs and 5 kos\n",
      "763924 trimmed...with 2 contigs and 2 kos\n",
      "4783 trimmed...with 6 contigs and 3 kos\n",
      "4777 trimmed...with 8 contigs and 4 kos\n",
      "695850 trimmed...with 4 contigs and 4 kos\n",
      "4762 trimmed...with 14 contigs and 7 kos\n",
      "1486930 trimmed...with 7 contigs and 4 kos\n",
      "33653 trimmed...with 2 contigs and 1 kos\n",
      "2621217 trimmed...with 18 contigs and 7 kos\n",
      "33652 trimmed...with 20 contigs and 8 kos\n",
      "33651 trimmed...with 27 contigs and 11 kos\n",
      "215587 trimmed...with 6 contigs and 4 kos\n",
      "627963 trimmed...with 1 contigs and 1 kos\n",
      "702273 trimmed...with 3 contigs and 2 kos\n",
      "87110 trimmed...with 33 contigs and 17 kos\n",
      "96639 trimmed...with 4 contigs and 3 kos\n",
      "876976 trimmed...with 2 contigs and 2 kos\n",
      "1112570 trimmed...with 3 contigs and 2 kos\n",
      "717989 trimmed...with 10 contigs and 6 kos\n",
      "33674 trimmed...with 70 contigs and 33 kos\n",
      "1735743 trimmed...with 113 contigs and 27 kos\n",
      "1735744 trimmed...with 52 contigs and 7 kos\n",
      "1735745 trimmed...with 101 contigs and 27 kos\n",
      "1735746 trimmed...with 88 contigs and 17 kos\n",
      "1735747 trimmed...with 28 contigs and 10 kos\n",
      "1735726 trimmed...with 116 contigs and 23 kos\n",
      "2795716 trimmed...with 120 contigs and 23 kos\n",
      "311494 trimmed...with 145 contigs and 7 kos\n",
      "327968 trimmed...with 3 contigs and 2 kos\n",
      "39455 trimmed...with 2 contigs and 2 kos\n",
      "109239 trimmed...with 21 contigs and 11 kos\n",
      "2926 trimmed...with 38 contigs and 13 kos\n",
      "2925 trimmed...with 12 contigs and 7 kos\n",
      "2932 trimmed...with 1 contigs and 1 kos\n",
      "73915 trimmed...with 98 contigs and 21 kos\n",
      "439317 trimmed...with 33 contigs and 13 kos\n",
      "133427 trimmed...with 68 contigs and 18 kos\n",
      "2866 trimmed...with 49 contigs and 6 kos\n",
      "160621 trimmed...with 91 contigs and 24 kos\n",
      "66791 trimmed...with 27 contigs and 11 kos\n",
      "160619 trimmed...with 27 contigs and 11 kos\n",
      "400756 trimmed...with 9 contigs and 5 kos\n",
      "2137591 trimmed...with 46 contigs and 17 kos\n",
      "268821 trimmed...with 22 contigs and 5 kos\n",
      "447022 trimmed...with 2 contigs and 2 kos\n",
      "54902 trimmed...with 105 contigs and 18 kos\n",
      "66468 trimmed...with 17 contigs and 10 kos\n",
      "192219 trimmed...with 32 contigs and 11 kos\n",
      "89963 trimmed...with 9 contigs and 7 kos\n",
      "2918 trimmed...with 138 contigs and 23 kos\n",
      "2562237 trimmed...with 1 contigs and 1 kos\n",
      "377605 trimmed...with 5 contigs and 3 kos\n",
      "293275 trimmed...with 7 contigs and 3 kos\n",
      "2486696 trimmed...with 8 contigs and 4 kos\n",
      "631057 trimmed...with 2 contigs and 1 kos\n",
      "174948 trimmed...with 4 contigs and 4 kos\n",
      "230996 trimmed...with 2 contigs and 2 kos\n",
      "279888 trimmed...with 15 contigs and 6 kos\n",
      "2951 trimmed...with 8 contigs and 3 kos\n",
      "104179 trimmed...with 1 contigs and 1 kos\n",
      "993574 trimmed...with 9 contigs and 5 kos\n",
      "2949 trimmed...with 62 contigs and 22 kos\n",
      "2499525 trimmed...with 3 contigs and 2 kos\n",
      "2697096 trimmed...with 32 contigs and 2 kos\n",
      "89957 trimmed...with 197 contigs and 19 kos\n",
      "89955 trimmed...with 262 contigs and 28 kos\n",
      "285029 trimmed...with 125 contigs and 18 kos\n",
      "66801 trimmed...with 260 contigs and 22 kos\n",
      "763927 trimmed...with 1 contigs and 1 kos\n",
      "2713251 trimmed...with 106 contigs and 11 kos\n",
      "763926 trimmed...with 111 contigs and 14 kos\n",
      "160604 trimmed...with 18 contigs and 9 kos\n",
      "2961 trimmed...with 34 contigs and 6 kos\n",
      "2960 trimmed...with 58 contigs and 12 kos\n",
      "1775427 trimmed...with 31 contigs and 12 kos\n",
      "2558461 trimmed...with 80 contigs and 21 kos\n",
      "268820 trimmed...with 2 contigs and 1 kos\n",
      "47934 trimmed...with 171 contigs and 30 kos\n",
      "2966 trimmed...with 96 contigs and 13 kos\n",
      "2969 trimmed...with 286 contigs and 23 kos\n",
      "1169474 trimmed...with 13 contigs and 4 kos\n",
      "1169540 trimmed...with 52 contigs and 9 kos\n",
      "877183 trimmed...with 78 contigs and 12 kos\n",
      "412030 trimmed...with 8 contigs and 5 kos\n",
      "312017 trimmed...with 7 contigs and 3 kos\n",
      "6020 trimmed...with 15 contigs and 7 kos\n",
      "223996 trimmed...with 10 contigs and 5 kos\n",
      "151035 trimmed...with 25 contigs and 8 kos\n",
      "33829 trimmed...with 138 contigs and 19 kos\n",
      "485358 trimmed...with 6 contigs and 2 kos\n",
      "431838 trimmed...with 246 contigs and 23 kos\n",
      "321610 trimmed...with 8 contigs and 2 kos\n",
      "1032511 trimmed...with 16 contigs and 5 kos\n",
      "28000 trimmed...with 28 contigs and 6 kos\n",
      "947086 trimmed...with 1 contigs and 1 kos\n",
      "641309 trimmed...with 13 contigs and 2 kos\n",
      "91324 trimmed...with 4 contigs and 3 kos\n",
      "74819 trimmed...with 18 contigs and 6 kos\n",
      "227085 trimmed...with 14 contigs and 9 kos\n",
      "1561963 trimmed...with 2 contigs and 2 kos\n",
      "552666 trimmed...with 3 contigs and 2 kos\n",
      "629695 trimmed...with 1 contigs and 1 kos\n",
      "29197 trimmed...with 82 contigs and 28 kos\n",
      "933848 trimmed...with 3 contigs and 3 kos\n",
      "2695917 trimmed...with 30 contigs and 9 kos\n",
      "43993 trimmed...with 53 contigs and 11 kos\n",
      "29185 trimmed...with 222 contigs and 24 kos\n",
      "46433 trimmed...with 29 contigs and 3 kos\n",
      "29178 trimmed...with 259 contigs and 25 kos\n",
      "385169 trimmed...with 5 contigs and 3 kos\n",
      "2268852 trimmed...with 14 contigs and 10 kos\n",
      "70448 trimmed...with 1 contigs and 1 kos\n",
      "70447 trimmed...with 40 contigs and 20 kos\n",
      "1075084 trimmed...with 41 contigs and 8 kos\n",
      "2812571 trimmed...with 116 contigs and 16 kos\n",
      "1525212 trimmed...with 51 contigs and 23 kos\n",
      "1659427 trimmed...with 6 contigs and 3 kos\n",
      "296587 trimmed...with 82 contigs and 9 kos\n",
      "38833 trimmed...with 12 contigs and 3 kos\n",
      "41873 trimmed...with 25 contigs and 10 kos\n",
      "13792 trimmed...with 91 contigs and 29 kos\n",
      "1035538 trimmed...with 147 contigs and 36 kos\n",
      "2601844 trimmed...with 1 contigs and 1 kos\n",
      "1202541 trimmed...with 1 contigs and 1 kos\n",
      "75981 trimmed...with 2 contigs and 2 kos\n",
      "3076 trimmed...with 3 contigs and 3 kos\n",
      "554065 trimmed...with 1 contigs and 1 kos\n",
      "2041167 trimmed...with 1 contigs and 1 kos\n",
      "3071 trimmed...with 6 contigs and 6 kos\n",
      "554055 trimmed...with 1 contigs and 1 kos\n",
      "2511126 trimmed...with 7 contigs and 7 kos\n",
      "3075 trimmed...with 1 contigs and 1 kos\n",
      "35461 trimmed...with 8 contigs and 7 kos\n",
      "1461547 trimmed...with 2 contigs and 1 kos\n",
      "75966 trimmed...with 28 contigs and 14 kos\n",
      "413974 trimmed...with 5 contigs and 1 kos\n",
      "327068 trimmed...with 1 contigs and 1 kos\n",
      "2034146 trimmed...with 6 contigs and 2 kos\n",
      "1034604 trimmed...with 4 contigs and 4 kos\n",
      "1157962 trimmed...with 7 contigs and 2 kos\n",
      "3052 trimmed...with 19 contigs and 8 kos\n",
      "47281 trimmed...with 2 contigs and 1 kos\n",
      "3042 trimmed...with 24 contigs and 10 kos\n",
      "307507 trimmed...with 1 contigs and 1 kos\n",
      "145388 trimmed...with 1 contigs and 1 kos\n",
      "35466 trimmed...with 2 contigs and 2 kos\n",
      "113528 trimmed...with 2 contigs and 2 kos\n",
      "269715 trimmed...with 1 contigs and 1 kos\n",
      "3086 trimmed...with 4 contigs and 3 kos\n",
      "35491 trimmed...with 10 contigs and 8 kos\n",
      "2812636 trimmed...with 53 contigs and 17 kos\n",
      "3165 trimmed...with 4 contigs and 3 kos\n",
      "1074897 trimmed...with 3 contigs and 1 kos\n",
      "582737 trimmed...with 8 contigs and 3 kos\n",
      "3164 trimmed...with 25 contigs and 10 kos\n",
      "36894 trimmed...with 2 contigs and 2 kos\n",
      "36898 trimmed...with 7 contigs and 3 kos\n",
      "1411642 trimmed...with 1 contigs and 1 kos\n",
      "36882 trimmed...with 10 contigs and 6 kos\n",
      "1461541 trimmed...with 64 contigs and 10 kos\n",
      "2682468 trimmed...with 74 contigs and 16 kos\n",
      "1486889 trimmed...with 11 contigs and 3 kos\n",
      "38834 trimmed...with 90 contigs and 19 kos\n",
      "1764295 trimmed...with 2 contigs and 1 kos\n",
      "1461542 trimmed...with 2 contigs and 2 kos\n",
      "1461544 trimmed...with 23 contigs and 11 kos\n",
      "2864388 trimmed...with 5 contigs and 5 kos\n",
      "2302914 trimmed...with 104 contigs and 27 kos\n",
      "1411623 trimmed...with 52 contigs and 16 kos\n",
      "41880 trimmed...with 14 contigs and 8 kos\n",
      "88271 trimmed...with 3 contigs and 1 kos\n",
      "156128 trimmed...with 18 contigs and 5 kos\n",
      "156131 trimmed...with 7 contigs and 3 kos\n",
      "148947 trimmed...with 1 contigs and 1 kos\n",
      "69332 trimmed...with 1 contigs and 1 kos\n",
      "184485 trimmed...with 1 contigs and 1 kos\n",
      "2182709 trimmed...with 1 contigs and 1 kos\n",
      "2182727 trimmed...with 1 contigs and 1 kos\n",
      "2182710 trimmed...with 1 contigs and 1 kos\n",
      "71274 trimmed...with 3 contigs and 3 kos\n",
      "1437201 trimmed...with 4 contigs and 4 kos\n",
      "3463 trimmed...with 2 contigs and 2 kos\n",
      "1437183 trimmed...with 6 contigs and 5 kos\n",
      "131221 trimmed...with 8 contigs and 7 kos\n",
      "105231 trimmed...with 3 contigs and 3 kos\n",
      "41882 trimmed...with 17 contigs and 3 kos\n",
      "3144 trimmed...with 4 contigs and 3 kos\n",
      "35493 trimmed...with 38 contigs and 17 kos\n",
      "156133 trimmed...with 47 contigs and 11 kos\n",
      "676789 trimmed...with 93 contigs and 31 kos\n",
      "312471 trimmed...with 5 contigs and 3 kos\n",
      "2704647 trimmed...with 7 contigs and 5 kos\n",
      "73025 trimmed...with 14 contigs and 7 kos\n",
      "1867818 trimmed...with 61 contigs and 9 kos\n",
      "73024 trimmed...with 87 contigs and 15 kos\n",
      "33682 trimmed...with 94 contigs and 19 kos\n",
      "5762 trimmed...with 1 contigs and 1 kos\n",
      "2611352 trimmed...with 95 contigs and 20 kos\n",
      "2183214 trimmed...with 1 contigs and 1 kos\n",
      "2183269 trimmed...with 1 contigs and 1 kos\n",
      "233124 trimmed...with 2 contigs and 2 kos\n",
      "2183234 trimmed...with 5 contigs and 3 kos\n",
      "2183246 trimmed...with 3 contigs and 1 kos\n",
      "2642610 trimmed...with 11 contigs and 4 kos\n",
      "2183230 trimmed...with 9 contigs and 2 kos\n",
      "233137 trimmed...with 22 contigs and 8 kos\n",
      "2183228 trimmed...with 1 contigs and 1 kos\n",
      "2183255 trimmed...with 2 contigs and 2 kos\n",
      "78238 trimmed...with 70 contigs and 14 kos\n",
      "2183245 trimmed...with 1 contigs and 1 kos\n",
      "2183268 trimmed...with 2 contigs and 1 kos\n",
      "233121 trimmed...with 3 contigs and 1 kos\n",
      "33313 trimmed...with 123 contigs and 27 kos\n",
      "2183105 trimmed...with 2 contigs and 1 kos\n",
      "39195 trimmed...with 7 contigs and 4 kos\n",
      "60516 trimmed...with 1 contigs and 1 kos\n",
      "6198 trimmed...with 2 contigs and 1 kos\n",
      "6157 trimmed...with 10 contigs and 6 kos\n",
      "283909 trimmed...with 2 contigs and 2 kos\n",
      "6341 trimmed...with 3 contigs and 2 kos\n",
      "6412 trimmed...with 3 contigs and 3 kos\n",
      "6340 trimmed...with 6 contigs and 5 kos\n",
      "29159 trimmed...with 7 contigs and 6 kos\n",
      "37653 trimmed...with 3 contigs and 2 kos\n",
      "6500 trimmed...with 8 contigs and 6 kos\n",
      "6447 trimmed...with 23 contigs and 10 kos\n",
      "7574 trimmed...with 10 contigs and 8 kos\n",
      "10212 trimmed...with 2 contigs and 2 kos\n",
      "249248 trimmed...with 3 contigs and 2 kos\n",
      "2697495 trimmed...with 3 contigs and 2 kos\n",
      "36087 trimmed...with 2 contigs and 2 kos\n",
      "6231 trimmed...with 4 contigs and 3 kos\n",
      "84317 trimmed...with 25 contigs and 9 kos\n",
      "84308 trimmed...with 112 contigs and 30 kos\n",
      "6832 trimmed...with 8 contigs and 3 kos\n",
      "158387 trimmed...with 3 contigs and 2 kos\n",
      "1133412 trimmed...with 5 contigs and 3 kos\n",
      "6831 trimmed...with 22 contigs and 5 kos\n",
      "72036 trimmed...with 8 contigs and 6 kos\n",
      "113644 trimmed...with 1 contigs and 1 kos\n",
      "6836 trimmed...with 23 contigs and 6 kos\n",
      "119369 trimmed...with 116 contigs and 22 kos\n",
      "136180 trimmed...with 5 contigs and 4 kos\n",
      "503034 trimmed...with 60 contigs and 19 kos\n",
      "1501138 trimmed...with 28 contigs and 10 kos\n",
      "6706 trimmed...with 11 contigs and 6 kos\n",
      "2172821 trimmed...with 65 contigs and 17 kos\n",
      "35525 trimmed...with 8 contigs and 5 kos\n",
      "6657 trimmed...with 163 contigs and 31 kos\n",
      "1206794 trimmed...with 172 contigs and 33 kos\n",
      "9739 trimmed...with 8 contigs and 6 kos\n",
      "195615 trimmed...with 7 contigs and 5 kos\n",
      "117571 trimmed...with 22 contigs and 10 kos\n",
      "7711 trimmed...with 30 contigs and 14 kos\n",
      "307972 trimmed...with 3 contigs and 3 kos\n",
      "7668 trimmed...with 4 contigs and 2 kos\n",
      "7624 trimmed...with 7 contigs and 5 kos\n",
      "33511 trimmed...with 55 contigs and 21 kos\n",
      "45351 trimmed...with 15 contigs and 10 kos\n",
      "6087 trimmed...with 260 contigs and 32 kos\n",
      "400682 trimmed...with 19 contigs and 6 kos\n",
      "33208 trimmed...with 124 contigs and 29 kos\n",
      "2183100 trimmed...with 1 contigs and 1 kos\n",
      "464988 trimmed...with 1 contigs and 1 kos\n",
      "77926 trimmed...with 1 contigs and 1 kos\n",
      "77927 trimmed...with 1 contigs and 1 kos\n",
      "77924 trimmed...with 15 contigs and 6 kos\n",
      "2898 trimmed...with 1 contigs and 1 kos\n",
      "233186 trimmed...with 1 contigs and 1 kos\n",
      "3030 trimmed...with 3 contigs and 2 kos\n",
      "589350 trimmed...with 19 contigs and 8 kos\n",
      "1202989 trimmed...with 8 contigs and 5 kos\n",
      "2864123 trimmed...with 5 contigs and 3 kos\n",
      "46946 trimmed...with 69 contigs and 21 kos\n",
      "77928 trimmed...with 9 contigs and 3 kos\n",
      "589343 trimmed...with 91 contigs and 28 kos\n",
      "354590 trimmed...with 1 contigs and 1 kos\n",
      "52970 trimmed...with 1 contigs and 1 kos\n",
      "46948 trimmed...with 2 contigs and 2 kos\n",
      "302021 trimmed...with 3 contigs and 2 kos\n",
      "37096 trimmed...with 7 contigs and 5 kos\n",
      "195065 trimmed...with 2 contigs and 2 kos\n",
      "589342 trimmed...with 110 contigs and 33 kos\n",
      "697907 trimmed...with 4 contigs and 2 kos\n",
      "1955572 trimmed...with 14 contigs and 8 kos\n",
      "77922 trimmed...with 6 contigs and 3 kos\n",
      "2762 trimmed...with 1 contigs and 1 kos\n",
      "38254 trimmed...with 9 contigs and 4 kos\n",
      "1487602 trimmed...with 17 contigs and 14 kos\n",
      "242541 trimmed...with 6 contigs and 5 kos\n",
      "555280 trimmed...with 23 contigs and 16 kos\n",
      "136452 trimmed...with 8 contigs and 6 kos\n",
      "554915 trimmed...with 31 contigs and 21 kos\n",
      "44452 trimmed...with 2 contigs and 1 kos\n",
      "298111 trimmed...with 4 contigs and 4 kos\n",
      "2831 trimmed...with 7 contigs and 5 kos\n",
      "119497 trimmed...with 1 contigs and 1 kos\n",
      "418969 trimmed...with 17 contigs and 7 kos\n",
      "483367 trimmed...with 1 contigs and 1 kos\n",
      "73026 trimmed...with 19 contigs and 7 kos\n",
      "97485 trimmed...with 59 contigs and 19 kos\n",
      "156174 trimmed...with 199 contigs and 30 kos\n",
      "1460289 trimmed...with 20 contigs and 4 kos\n",
      "2647842 trimmed...with 62 contigs and 17 kos\n",
      "412157 trimmed...with 178 contigs and 29 kos\n",
      "127563 trimmed...with 17 contigs and 8 kos\n",
      "1663125 trimmed...with 35 contigs and 6 kos\n",
      "38817 trimmed...with 13 contigs and 3 kos\n",
      "38816 trimmed...with 50 contigs and 9 kos\n",
      "280463 trimmed...with 16 contigs and 9 kos\n",
      "37099 trimmed...with 25 contigs and 6 kos\n",
      "40639 trimmed...with 13 contigs and 5 kos\n",
      "37098 trimmed...with 41 contigs and 11 kos\n",
      "13221 trimmed...with 132 contigs and 15 kos\n",
      "418951 trimmed...with 181 contigs and 19 kos\n",
      "1411682 trimmed...with 25 contigs and 7 kos\n",
      "464232 trimmed...with 3 contigs and 3 kos\n",
      "464236 trimmed...with 10 contigs and 5 kos\n",
      "464238 trimmed...with 42 contigs and 14 kos\n",
      "1631189 trimmed...with 24 contigs and 7 kos\n",
      "418940 trimmed...with 153 contigs and 31 kos\n",
      "259385 trimmed...with 2 contigs and 1 kos\n",
      "100272 trimmed...with 1 contigs and 1 kos\n",
      "652834 trimmed...with 1 contigs and 1 kos\n",
      "412133 trimmed...with 2 contigs and 1 kos\n",
      "146826 trimmed...with 1 contigs and 1 kos\n",
      "1227454 trimmed...with 1 contigs and 1 kos\n",
      "2235 trimmed...with 2 contigs and 2 kos\n",
      "183963 trimmed...with 4 contigs and 2 kos\n",
      "2207 trimmed...with 1 contigs and 1 kos\n",
      "2290931 trimmed...with 5 contigs and 3 kos\n",
      "2182758 trimmed...with 1 contigs and 1 kos\n",
      "122929 trimmed...with 2 contigs and 1 kos\n"
     ]
    }
   ],
   "source": [
    "t.trim_tree(\n",
    "    filt_func_name='nkos_in_gt_minsamples',\n",
    "    thresh=30,\n",
    "    minsamples=4\n",
    ")"
   ]
  },
  {
   "cell_type": "code",
   "execution_count": 149,
   "metadata": {},
   "outputs": [
    {
     "name": "stdout",
     "output_type": "stream",
     "text": [
      "                                                                                                                                                                               ╭╴Nocardia carnea,37328\n",
      "                                                                                                                                                               ╭╴Nocardia,1817╶┼╴Nocardia pneumoniae NBRC 100136,1206737\n",
      "                                                                                                                                          ╭╴Nocardiaceae,85025╶┤               ╰╴Nocardia sp. BMG111209,1160137\n",
      "                                                                                                                                          │                    ├╴Rhodococcoides fascians 04-516,1443890\n",
      "                                                                                                                                          │                    ╰╴Rhodococcus jostii RHA1,101510\n",
      "                                                                                                                  ╭╴Mycobacteriales,85007╶┼╴Mycobacteriaceae,1762╶┬╴Mycobacteroides abscessus,36809\n",
      "                                                                                                                  │                       │                       ╰╴Mycolicibacterium thermoresistibile ATCC 19527,1078020\n",
      "                                                                                                                  │                       ├╴Corynebacterium variabile DSM 44702,858619\n",
      "                                                                                                                  │                       ╰╴Gordonia paraffinivorans NBRC 108238,1223543\n",
      "                                                                                                                  │                     ╭╴Promicromonospora kroppenstedtii,440482\n",
      "                                                                                                                  ├╴Micrococcales,85006╶┼╴Agrococcus jejuensis,399736\n",
      "                                                                                                                  │                     ╰╴Knoellia aerolata DSM 18566,1385519\n",
      "                                                                                                                  ├╴Propionibacteriales,85009╶┬╴Kribbella flavida,182640\n",
      "                                                                                                                  │                           ╰╴Aestuariimicrobium kwangyangense,396389\n",
      "                                                                                                                  ├╴Streptosporangiales,85012╶┬╴Thermomonospora curvata,2020\n",
      "                                                                                                                  │                           ╰╴Nocardiopsis potens DSM 45234,570268\n",
      "                                                                                                                  │                                                                                ╭╴Streptomyces sp. NRRL B-1140,1415549\n",
      "                                                                                                                  │                                                                                ├╴Streptomyces sp. Amel2xE9,1157634\n",
      "                                                                                                                  │                                                                                ├╴Streptomyces sp. NRRL S-237,1463895\n",
      "                                                                                                                  │                                            ╭╴unclassified Streptomyces,2593676╶┼╴Streptomyces sp. NRRL S-350,1463902\n",
      "                                                                                             ╭╴Actinomycetes,1760╶┤                                            │                                   ├╴Streptomyces sp. NRRL S-920,1463921\n",
      "                                                                                             │                    ├╴Streptomycetaceae,2062╶╌╴Streptomyces,1883╶┤                                   ├╴Streptomyces sp. NRRL WC-3774,1463937\n",
      "                                                                                             │                    │                                            │                                   ├╴Streptomyces sp. GBA 94-10 4N24,1218177\n",
      "                                                                                             │                    │                                            │                                   ╰╴Streptomyces sp. AS58,1519489\n",
      "                                                                                             │                    │                                            ╰╴Streptomyces lavenduligriseus,67315\n",
      "                                                                                             │                    │                         ╭╴Actinokineospora,39845\n",
      "                                                                                             │                    ├╴Pseudonocardiaceae,2070╶┼╴Allokutzneria albata,211114\n",
      "                                                                                             │                    │                         ├╴Saccharothrix syringae,103733\n",
      "                                                                     ╭╴Actinomycetota,201174╶┤                    │                         ╰╴Actinosynnema mirum,40567\n",
      "                                                                     │                       │                    │                                              ╭╴unclassified Actinoplanes,2626549╶┬╴Actinoplanes sp. N902-109,649831\n",
      "                                                                     │                       │                    │                          ╭╴Actinoplanes,1865╶┤                                   ╰╴Actinoplanes sp. SE50/110,134676\n",
      "                                                                     │                       │                    ├╴Micromonosporaceae,28056╶┤                   ╰╴Actinoplanes friuliensis DSM 7358,1246995\n",
      "                                                                     │                       │                    │                          ├╴Catelliglobosispora koreensis,129052\n",
      "                                                                     │                       │                    │                          ╰╴Micromonospora maris,1003110\n",
      "                                                                     │                       │                    ├╴Glycomyces tenuis,58116\n",
      "                                                                     │                       │                    ╰╴Bifidobacterium subtile,77635\n",
      "                                                                     │                       ╰╴Rubrobacter xylanophilus DSM 9941,266117\n",
      "                                                                     │                                                                       ╭╴Halobacillus dabanensis,240302\n",
      "                                                                     │                                                  ╭╴Bacillaceae,186817╶┼╴Halalkalibacterium halodurans C-125,272558\n",
      "                                                                     │                                                  │                    ├╴Ornithinibacillus scapharcae TW25,981383\n",
      "                                                                     │                                                  │                    ╰╴Bacillus mojavensis RO-H-1 = KCTC 3706,1051501\n",
      "                                                                     │                                                  │                                               ╭╴Paenibacillus mucilaginosus,61624\n",
      "                                                                     │                                ╭╴Bacillales,1385╶┤                         ╭╴Paenibacillus,44249╶┼╴Paenibacillus polymyxa,1406\n",
      "                                                                     │                                │                 ├╴Paenibacillaceae,186822╶┤                     ╰╴Paenibacillus pinihumi,669462\n",
      "                                                                     │                                │                 │                         ╰╴Saccharibacillus kuerlensis,459527\n",
      "                                                                     │                ╭╴Bacilli,91061╶┤                 ├╴Listeria,1637\n",
      "                                                                     │                │               │                 ╰╴Solibacillus silvestris StLB046,1002809\n",
      "                                                                     │                │               │                        ╭╴Lactobacillaceae,33958╶┬╴Lentilactobacillus farraginis DSM 18382 = JCM 14108,1423743\n",
      "                                                                     │                │               │                        │                        ╰╴Pediococcus claussenii ATCC BAA-344,701521\n",
      "                                                                     │                │               ╰╴Lactobacillales,186826╶┼╴Streptococcaceae,1300╶┬╴Streptococcus,1301\n",
      "                                                 ╭╴Bacillati,1783272╶┤                │                                        │                       ╰╴Lactococcus raffinolactis 4877,1215915\n",
      "                                                 │                   ├╴Bacillota,1239╶┤                                        ╰╴Carnobacterium maltaromaticum LMA28,1234679\n",
      "                                                 │                   │                │                                          ╭╴Oscillospiraceae,216572╶┬╴Ruminococcus flavefaciens AE3010,1384066\n",
      "                                                 │                   │                │                                          │                         ╰╴Thermoclostridium stercorarium subsp. stercorarium DSM 8532,1121335\n",
      "                                                 │                   │                │                   ╭╴Eubacteriales,186802╶┼╴Desulfosporosinus,79206\n",
      "                                                 │                   │                ├╴Clostridia,186801╶┤                      ├╴Clostridium,1485\n",
      "                                                 │                   │                │                   │                      ╰╴Clostridiales bacterium oral taxon 876 str. F0540,1321778\n",
      "                                                 │                   │                │                   ╰╴Lachnospiraceae,186803\n",
      "                                                 │                   │                ╰╴Negativicutes,909932╶╌╴Selenomonas,970\n",
      "                                                 │                   │                                                               ╭╴Nostocaceae,1162╶┬╴Anabaena sp. PCC 7108,163908\n",
      "                                                 │                   │                                                               │                  ╰╴Richelia intracellularis HH01,1165094\n",
      "                                                 │                   │                                             ╭╴Nostocales,1161╶┼╴Mastigocladopsis repens PCC 10914,221288\n",
      "                                                 │                   │                                             │                 ├╴Fortiea contorta PCC 7126,643473\n",
      "                                                 │                   │                                             │                 ╰╴Fischerella sp. PCC 9339,1174528\n",
      "                                                 │                   │                                             │                                                      ╭╴Microcoleaceae,1892252╶┬╴Microcoleus vaginatus FGP-2,756067\n",
      "                                                 │                   │                                             │                               ╭╴Oscillatoriales,1150╶┤                        ╰╴Trichodesmium erythraeum IMS101,203124\n",
      "                                                 │                   ├╴Cyanobacteriota,1117╶╌╴Cyanophyceae,3028117╶┼╴Oscillatoriophycideae,1301283╶┤                      ╰╴Oscillatoriaceae,1892254╶┬╴Moorena producens,1155739\n",
      "                                                 │                   │                                             │                               │                                                 ╰╴Oscillatoria sp. PCC 10802,1173028\n",
      "                                                 │                   │                                             │                               ╰╴Crocosphaera,263510\n",
      "                                                 │                   │                                             ├╴Cyanobium,167375╶╌╴Cyanobium sp. CACIAM 14,1496688\n",
      "                                                 │                   │                                             ├╴Prochlorothrix hollandica PCC 9006 = CALU 1027,317619\n",
      "                                                 │                   │                                             ├╴Chamaesiphon minutus PCC 6605,1173020\n",
      "                                                 │                   │                                             ╰╴Leptolyngbya sp. PCC 7375,102129\n",
      "                                                 │                   ╰╴Herpetosiphon aurantiacus DSM 785,316274\n",
      "                                                 │                                                                                                  ╭╴Pseudoalteromonadaceae,267888╶┬╴Pseudoalteromonas,53246\n",
      "                                                 │                                                                                                  │                               ╰╴Algicola sagamiensis,163869\n",
      "                                                 │                                                                         ╭╴Alteromonadales,135622╶┼╴Alteromonadaceae,72275╶┬╴Alteromonas,226\n",
      "                                                 │                                                                         │                        │                        ╰╴Lacimicrobium alkaliphilum,1526571\n",
      "                                                 │                                                                         │                        ├╴Idiomarinaceae,267893\n",
      "                                                 │                                                                         │                        ╰╴Shewanella,22╶┬╴Shewanella psychrophila,225848\n",
      "                                                 │                                                                         │                                        ╰╴Shewanella woodyi ATCC 51908,392500\n",
      "                                                 │                                                                         ├╴Legionellales,118969╶╌╴Legionella anisa str. Linanisette,1230343\n",
      "                                                 │                                                                         │                                                                          ╭╴Hydrogenovibrio marinus,28885\n",
      "                                                 │                                                                         │                                                  ╭╴Hydrogenovibrio,28884╶┼╴Hydrogenovibrio sp. Milos-T1,90813\n",
      "                                                 │                                                                         │                     ╭╴Piscirickettsiaceae,135616╶┤                       ╰╴Hydrogenovibrio kuenenii DSM 12350,1168067\n",
      "                                                 │                                                                         ├╴Thiotrichales,72273╶┤                            ╰╴Thiomicrorhabdus,2039723\n",
      "                                                 │                                                                         │                     ╰╴Francisella,262╶┬╴Francisella halioticida,549298\n",
      "                                                 │                                                                         │                                       ╰╴Candidatus Francisella endociliophora,653937\n",
      "                                                 │                                                                         ├╴Oceanospirillales,135619╶┬╴Zymobacter palmae,33074\n",
      "                                                 │                                                                         │                          ╰╴Hahella chejuensis KCTC 2396,349521\n",
      "                                                 │                                                                         ├╴Cellvibrionales,1706369╶┬╴unclassified Halieaceae,1706379\n",
      "                                                 │                                                                         │                         ╰╴Cellvibrio sp. BR,1134474\n",
      "                                                 │                                                                         ├╴Lysobacterales,135614╶┬╴Lysobacter antibioticus,84531\n",
      "                                                 │                                                                         │                       ╰╴Luteibacter sp. 9135,1500893\n",
      "                                                 │                                                                         ├╴Chromatiales,135613╶╌╴Chromatiaceae,1046╶╌╴Thiocapsa marina 5811,768671\n",
      "                                                 │                                              ╭╴Gammaproteobacteria,1236╶┤                                                 ╭╴Citrobacter,544╶╌╴Citrobacter freundii CFNIH1,1333848\n",
      "                                                 │                                              │                          │                        ╭╴Enterobacteriaceae,543╶┼╴Enterobacter cloacae complex,354276╶┬╴Enterobacter cloacae,550\n",
      "                                                 │                                              │                          │                        │                        │                                     ╰╴Enterobacter asburiae LF7a,640513\n",
      "                                                 │                                              │                          │                        │                        ╰╴Franconibacter pulveris 1160,1406822\n",
      "                                                 │                                              │                          ├╴Enterobacterales,91347╶┼╴Morganellaceae,1903414╶╌╴Xenorhabdus nematophila ATCC 19061,406817\n",
      "                                                 │                                              │                          │                        ├╴Erwinia,551\n",
      "                                                 │                                              │                          │                        ├╴Lonsdalea quercina subsp. quercina,1082705\n",
      "                                                 │                                              │                          │                        ╰╴Yersinia frederiksenii ATCC 33641,349966\n",
      "                                                 │                                              │                          │                                           ╭╴Pseudomonas pohangensis,364197\n",
      "                                                 │                                              │                          ├╴Pseudomonadaceae,135621╶╌╴Pseudomonas,286╶┼╴Pseudomonas japonica NBRC 103040 = DSM 22348,1215104\n",
      "                                                 │                                              │                          │                                           ├╴Pseudomonas luteola XLDN4-9,1207076\n",
      "                                                 │                                              │                          │                                           ╰╴Pseudomonas poae RE*1-1-14,1282356\n",
      "                                                 │                                              │                          ├╴gamma proteobacterium HIMB30,751994\n",
      "                                                 │                                              │                          ├╴Vibrionaceae,641╶┬╴Photobacterium,657\n",
      "                                                 │                                              │                          │                  ╰╴Vibrio,662╶╌╴Vibrio rhizosphaerae,398736\n",
      "                                                 │                                              │                          ├╴Acinetobacter,469\n",
      "                                                 │                                              │                          ├╴Actinobacillus,713\n",
      "                                                 │                                              │                          ├╴Gilliamella apicola,1196095\n",
      "                                                 │                                              │                          ├╴Aeromonas diversa CDC 2478-85,1268237\n",
      "                                                 │                                              │                          ╰╴Methylomonas methanica MC09,857087\n",
      "                                                 │                                              │                                                                            ╭╴unclassified Cupriavidus,2640874╶┬╴Cupriavidus sp. SK-3,1470558\n",
      "                                                 │                                              │                                                  ╭╴Burkholderiaceae,119060╶┤                                  ╰╴Cupriavidus sp. BIS7,1217718\n",
      "                                    ╭╴Bacteria,2╶┤                                              │                                                  │                         ╰╴Ralstonia sp. AU12-08,1235457\n",
      "                                    │            │                                              │                          ╭╴Burkholderiales,80840╶┼╴Comamonadaceae,80864╶╌╴Comamonas granuli NBRC 101663,1223521\n",
      "                                    │            │                        ╭╴Pseudomonadota,1224╶┤                          │                       ├╴Alcaligenes faecalis,511\n",
      "                                    │            │                        │                     ├╴Betaproteobacteria,28216╶┤                       ╰╴Janthinobacterium lividum PAMC 25724,1112211\n",
      "                                    │            │                        │                     │                          ├╴Andreprevotia chitinilytica,396808\n",
      "                                    │            │                        │                     │                          ├╴Methylobacillus flagellatus KT,265072\n",
      "                                    │            │                        │                     │                          ╰╴Dechloromonas aromatica RCB,159087\n",
      "                                    │            │                        │                     │                                                  ╭╴Rhizobiaceae,82115╶┬╴Ensifer adhaerens,106592\n",
      "                                    │            │                        │                     │                                                  │                    ╰╴Rhizobium etli bv. mimosae str. IE4771,1432050\n",
      "                                    │            │                        │                     │                                                  ├╴Nitrobacteraceae,41294╶╌╴Rhodopseudomonas palustris BisA53,316055\n",
      "                                    │            │                        │                     │                           ╭╴Hyphomicrobiales,356╶┼╴Methylorubrum extorquens,408\n",
      "                                    │            │                        │                     │                           │                      ├╴Rhodomicrobium udaipurense JA643,858455\n",
      "                                    │            │                        │                     │                           │                      ├╴Methylocella silvestris BL2,395965\n",
      "                                    │            │                        │                     │                           │                      ╰╴Bosea sp. LC85,1502851\n",
      "                                    │            │                        │                     │                           │                        ╭╴Paracoccaceae,31989╶╌╴Paracoccus,265╶╌╴Paracoccus tegillarcae,1529068\n",
      "                                    │            │                        │                     │                           │                        │                                           ╭╴Ruegeria halocynthiae,985054\n",
      "                                    │            │                        │                     │                           ├╴Rhodobacterales,204455╶┤                          ╭╴Ruegeria,97050╶┼╴Ruegeria pomeroyi DSS-3,246200\n",
      "                                    │            │                        │                     │                           │                        │                          │                ╰╴Ruegeria sp. TrichCH4B,644076\n",
      "                                    │            │                        │                     ├╴Alphaproteobacteria,28211╶┤                        │                          ├╴Wenxinia marina,390641\n",
      "                                    │            │                        │                     │                           │                        ╰╴Roseobacteraceae,2854170╶┼╴Roseobacter denitrificans OCh 114,375451\n",
      "                                    │            │                        │                     │                           │                                                   ├╴Oceanicola sp. HL-35,1305735\n",
      "                                    │            │                        │                     │                           │                                                   ├╴Dinoroseobacter shibae DFL 12 = DSM 16493,398580\n",
      "                                    │            │                        │                     │                           │                                                   ╰╴Marinovum algicola DG 898,988812\n",
      "                                    │            │                        │                     │                           ├╴Sphingomonadales,204457╶╌╴Sphingomonas,13687\n",
      "                                    │            │                        │                     │                           ├╴Ponticaulis koreensis,1123045\n",
      "                                    │            │                        │                     │                           ├╴Phenylobacterium zucineum HLK1,450851\n",
      "                                    │            │                        │                     │                           ╰╴Candidatus Xenolissoclinum pacificiensis L6,1401685\n",
      "                                    │            │                        │                     ╰╴Acidithiobacillales,225057\n",
      "                                    │            │                        │                                                        ╭╴Myxococcus hansupus,1297742\n",
      "                                    │            │                        │                     ╭╴Myxococcaceae,31╶╌╴Myxococcus,32╶┼╴Myxococcus stipitatus DSM 14675,1278073\n",
      "                                    │            │                        ├╴Myxococcota,2818505╶┤                                  ╰╴Myxococcus fulvus HW-1,483219\n",
      "                                    │            │                        │                     ╰╴Sorangium cellulosum,56╶╌╴Sorangium cellulosum So0157-2,1254432\n",
      "                                    │            │                        │                                                                    ╭╴Pirellulaceae,2691357╶╌╴Pirellula staleyi,125\n",
      "                                    │            ├╴Pseudomonadati,3379134╶┤                                            ╭╴Planctomycetia,203683╶┼╴Gemmataceae,1914233\n",
      "                                    │            │                        │                   ╭╴Planctomycetota,203682╶┤                       ╰╴Gimesia maris DSM 8797,344747\n",
      "                                    │            │                        │                   │                        ╰╴Candidatus Jettenia caeni,247490\n",
      "                                    │            │                        ├╴PVC group,1783257╶┤                         ╭╴Verrucomicrobiaceae,203557╶┬╴Verrucomicrobium sp. BvORR106,1403819\n",
      "                                    │            │                        │                   ├╴Verrucomicrobiota,74201╶┤                            ╰╴Haloferula sp. BvORR071,1396141\n",
      "                                    │            │                        │                   │                         ╰╴Coraliomargarita akajimensis,395922\n",
      "                                    │            │                        │                   ╰╴Criblamydia sequanensis CRIB-18,1437425\n",
      "                                    │            │                        │                                ╭╴Desulfuromonadia,3031651╶╌╴Desulfuromonas sp. TF,1232410\n",
      "                                    │            │                        ├╴Thermodesulfobacteriota,200940╶┼╴Desulfobacterales,213118╶┬╴Desulfatibacillum,218207\n",
      "                                    │            │                        │                                │                          ╰╴Desulfobacter postgatei 2ac9,879212\n",
      "                                    │            │                        │                                ╰╴Desulfovibrionaceae,194924\n",
      "                                    │            │                        │                                                                                                                                     ╭╴Flavobacterium,237╶┬╴Flavobacterium rivuli,498301\n",
      "                                    │            │                        │                                                                                                                                     │                    ╰╴Flavobacterium gelidilacus,206041\n",
      "                                    │            │                        │                                                                                                                                     ├╴Aquimarina,290174╶╌╴Aquimarina macrocephali JAMB N27,1443665\n",
      "                                    │            │                        │                                                                                                                                     ├╴Algibacter luteus,1178825\n",
      "                                    │            │                        │                                                                                 ╭╴Flavobacteriales,200644╶╌╴Flavobacteriaceae,49546╶┼╴Flavobacteriaceae bacterium UJ101,1150389\n",
      "                                    │            │                        │                                                                                 │                                                   ├╴Pseudalgibacter alginicilyticus,1736674\n",
      "                                    │            │                        │                                                         ╭╴Flavobacteriia,117743╶┤                                                   ├╴Croceibacter atlanticus HTCC2559,216432\n",
      "                                    │            │                        │                                                         │                       │                                                   ├╴Polaribacter sp. Hel1_33_78,1336804\n",
      "                                    │            │                        │                                                         │                       │                                                   ╰╴Sediminibacter sp. Hel_I_10,1392490\n",
      "                                    │            │                        │                                      ╭╴Bacteroidota,976╶┤                       ╰╴Flavobacteria bacterium MS024-2A,487796\n",
      "                                    │            │                        │                                      │                  ├╴Cytophagales,768507╶┬╴Anditalea andensis,1048983\n",
      "                                    │            │                        ├╴Bacteroidota/Chlorobiota group,68336╶┤                  │                     ╰╴Nafulsella turpanensis ZLM-10,1124780\n",
      "                                    │            │                        │                                      │                  ├╴Phocaeicola,909656\n",
      "                                    │            │                        │                                      │                  ╰╴Saprospira grandis,1008\n",
      "                                    │            │                        │                                      ╰╴Ignavibacterium album JCM 16511,945713\n",
      "                                    │            │                        │                                                          ╭╴Helicobacter,209╶┬╴Helicobacter japonicus,425400\n",
      "                                    │            │                        │                               ╭╴Campylobacterales,213849╶┤                  ╰╴Helicobacter trogontum,50960\n",
      "                                    │            │                        ├╴Epsilonproteobacteria,3031852╶┤                          ├╴Arcobacter nitrofigilis,28199\n",
      "                                    │            │                        │                               │                          ╰╴Sulfurimonas gotlandica GD1,929558\n",
      "                                    │            │                        │                               ╰╴Nitratiruptor,269258\n",
      "                                    │            │                        ├╴Acidobacteriaceae,204434╶╌╴Acidobacteriaceae bacterium KBS 89,1267534\n",
      "                                    │            │                        ╰╴Sulfurihydrogenibium,212790\n",
      "                                    │            ├╴Parcubacteria bacterium RAAC4_OD1_1,1394712\n",
      "                                    │            ╰╴Deinococcus ficus,317577\n",
      "                                    │                                  ╭╴Compsopogonophyceae,930023╶┬╴Madagascaria erythrocladioides,753684\n",
      "                                    │                                  │                            ╰╴Compsopogon caeruleus,31354\n",
      "                                    │                                  ├╴Bangiophyceae,2797╶┬╴Galdieria,83373\n",
      "                                    │                ╭╴Rhodophyta,2763╶┤                    ╰╴Pyropia yezoensis,2788\n",
      "                                    │                │                 ├╴Rhodella violacea,2801\n",
      "                                    │                │                 ├╴Rhodosorus marinus,101924\n",
      "                                    │                │                 ╰╴Gracilariopsis chorda,448386\n",
      "                                    │                │                                                                                                      ╭╴Pedinellales sp. CCMP2098,483369\n",
      "                                    │                │                                                                                 ╭╴Pedinellales,35680╶┼╴Pseudopedinella elastica,35684\n",
      "                                    │                │                                                                                 │                    ├╴Mesopedinella arctica,296676\n",
      "                                    │                │                                                                                 │                    ╰╴Pteridomonas danica,38822\n",
      "                                    │                │                                                        ╭╴Dictyochophyceae,39119╶┤                     ╭╴unclassified Florenciella,2625833╶┬╴Florenciella sp. RCC1587,1411684\n",
      "                                    │                │                                                        │                        ├╴Florenciella,236786╶┤                                   ╰╴Florenciella sp. RCC1007,464225\n",
      "                                    │                │                                                        │                        │                     ╰╴Florenciella parvula,236787\n",
      "                                    │                │                                                        │                        ├╴Rhizochromulina marina,1034831\n",
      "                                    │                │                                                        │                        ╰╴Dictyocha speculum,35687\n",
      "                                    │                │                                                        │                                                         ╭╴Pelagophyceae sp. CCMP2097,483370\n",
      "                                    │                │                                                        │                     ╭╴unclassified Pelagophyceae,114041╶┼╴Pelagophyceae sp. RCC2491,1764641\n",
      "                                    │                │                                                        │                     │                                   ╰╴Pelagophyceae sp. RCC1024,464228\n",
      "                                    │                │                                                        │                     │                          ╭╴Chrysocystaceae,2094171╶┬╴Chrysocystis fragilis,1411660\n",
      "                                    │                │                                                        │                     ├╴Sarcinochrysidales,45651╶┤                         ╰╴unclassified Chrysoreinhardia,2627057╶┬╴Chrysoreinhardia sp. CCMP2950,1411690\n",
      "                                    │                │                                                        ├╴Pelagophyceae,35675╶┤                          │                                                                 ╰╴Chrysoreinhardia sp.,2972369\n",
      "                                    │                │                                                        │                     │                          ╰╴Sarcinochrysis sp. CCMP770,1411683\n",
      "                                    │                │                                                        │                     │                                                  ╭╴Pelagomonas calceolata,35677\n",
      "                                    │                │                                                        │                     │                       ╭╴Pelagomonadaceae,3235057╶┼╴Pelagococcus subviridis,35679\n",
      "                                    │                │                                                        │                     ╰╴Pelagomonadales,54409╶┤                          ╰╴Aureococcus anophagefferens,44056\n",
      "                                    │                │                                                        │                                             ╰╴Aureoumbra lagunensis,44058\n",
      "                                    │                │                                                        │                                                                                                                                   ╭╴Thalassiosira,35127╶┬╴Thalassiosira bioculata,1048533\n",
      "                                    │                │                                                        │                                                                                                         ╭╴Thalassiosiraceae,29202╶┤                     ╰╴Thalassiosira oceanica CCMP1005,637379\n",
      "                                    │                │                                                        │                                                                                ╭╴Thalassiosirales,33847╶┤                         ╰╴Minidiscus sp. RCC4590,1960173\n",
      "                                    │                │                                                        │                                                  ╭╴Thalassiosirophycidae,33846╶┤                        ╰╴Skeletonema,2842╶╌╴Skeletonema costatum,2843\n",
      "                                    │                │                                                        │                                                  │                             ╰╴Cyclotella cryptica,29204\n",
      "                                    │                │                                                        │                                                  ├╴Coscinodiscophycidae,33840╶┬╴Coscinodiscus wailesii,671091\n",
      "                                    │                │                                                        │                                                  │                            ╰╴Stephanopyxis turris,515487\n",
      "                                    │                │                                                        │                      ╭╴Coscinodiscophyceae,33836╶┤                        ╭╴Proboscia,216776╶┬╴Proboscia inermis,420281\n",
      "                                    │                │                                                        │                      │                           ├╴Rhizosoleniaceae,33845╶┤                  ╰╴Proboscia alata,216777\n",
      "                                    │                │                                                        │                      │                           │                        ├╴Dactyliosolen fragilissimus,1118495\n",
      "                                    │                │                                                        │                      │                           │                        ╰╴Guinardia flaccida,216801\n",
      "                                    │                │                                                        │                      │                           ├╴Chaetoceros,49237╶╌╴Chaetoceros dichaeta,420782\n",
      "                                    │                │                                                        │                      │                           ╰╴Corethron,49242╶╌╴Corethron pennatum,218684\n",
      "                                    │                │                                                        │                      │                     ╭╴Cymatosiraceae,49244╶╌╴Extubocellulus spinifer,265572\n",
      "                                    │                │                                                        │                      ├╴Mediophyceae,589449╶┼╴Helicotheca tamesis,374047\n",
      "                                    │                │                                                        │                      │                     ╰╴Odontella aurita,265563\n",
      "                                    │                │                                                        │                      │                                              ╭╴Naviculaceae,67474╶┬╴Fistulifera solaris,1519565\n",
      "                                    │                │                                                        │                      │                          ╭╴Naviculales,38748╶┤                    ╰╴Navicula sp. RCC3092,1764896\n",
      "                                    │                │                                   ╭╴Ochrophyta,2696291╶┼╴Bacillariophyta,2836╶┤                          │                   ╰╴Amphiprora sp.,2608610\n",
      "                                    │                │                                   │                    │                      ├╴Bacillariophycidae,33850╶┤                      ╭╴Fragilariopsis,186035╶┬╴Fragilariopsis kerguelensis,186038\n",
      "                                    │                │                                   │                    │                      │                          │                      │                       ╰╴Fragilariopsis cylindrus CCMP1102,635003\n",
      "                                    │                │                                   │                    │                      │                          │                      │                        ╭╴Pseudo-nitzschia heimii,476441\n",
      "                                    │                │                                   │                    │                      │                          ╰╴Bacillariaceae,33852╶┼╴Pseudo-nitzschia,41953╶┼╴Pseudo-nitzschia fraudulenta,183588\n",
      "                                    │                │                                   │                    │                      │                                                 │                        ╰╴Pseudo-nitzschia pungens var. cingulata,2202556\n",
      "                                    │                │                                   │                    │                      │                                                 ├╴Cylindrotheca closterium,2856\n",
      "                                    │                │                                   │                    │                      │                                                 ╰╴unclassified Nitzschia (in: diatoms),908989╶┬╴Nitzschia sp. RCC80,1606575\n",
      "                                    │                │                                   │                    │                      │                                                                                               ╰╴Nitzschia sp. Nitz4,2041349\n",
      "                                    │                │                                   │                    │                      │                          ╭╴Fragilariales,33855╶┬╴Fragilariaceae,33856╶╌╴Synedra sp. RCC2510,1764925\n",
      "                                    │                │                                   │                    │                      │                          │                     ╰╴Staurosira sp.,2884791\n",
      "                                    │                │                                   │                    │                      ╰╴Fragilariophycidae,33854╶┼╴Thalassionemataceae,38755╶┬╴Thalassionema nitzschioides,33649\n",
      "                                    │                │                                   │                    │                                                 │                           ╰╴Thalassiothrix antarctica,1049557\n",
      "                                    │                │                                   │                    │                                                 ╰╴Grammatophora oceanica,210454\n",
      "                                    │                │                                   │                    │                 ╭╴Phaeophyceae,2870╶┬╴Ectocarpales,2877╶╌╴Nemacystus decipiens,2185085\n",
      "                                    │                │                                   │                    ├╴PX clade,569578╶┤                   ╰╴Undaria pinnatifida,74381\n",
      "                                    │                │                                   │                    │                 ╰╴Vaucheria litorea,109269\n",
      "                                    │                │                                   │                    │                                                                 ╭╴Chromulina nebulosa,96789\n",
      "                                    │                │                                   │                    │                                          ╭╴Chromulinaceae,98651╶┤                                 ╭╴Ochromonas sp. CCMP1899,420557\n",
      "                                    │                │                                   │                    │                    ╭╴Chromulinales,96792╶┤                      ╰╴unclassified Ochromonas,2635268╶┼╴Ochromonas sp. CCMP1393,420556\n",
      "                                    │                │                                   │                    ├╴Chrysophyceae,2825╶┤                     │                                                        ╰╴Ochromonas sp. BG-1,1616673\n",
      "                                    │                │                                   │                    │                    │                     ╰╴Dinobryon sp.,1955563\n",
      "                                    │                │                                   │                    │                    ╰╴unclassified Chrysophyceae,114181╶┬╴Chrysophyceae sp. TOSAG23-4,1735748\n",
      "                                    │                │                                   │                    │                                                        ╰╴Chrysophyceae sp. TOSAG23-5,1735749\n",
      "                                    │                │                                   │                    ├╴Synchroma pusillum,1181717\n",
      "                                    │                │             ╭╴Stramenopiles,33634╶┤                    │                        ╭╴Fibrocapsa japonica,94617\n",
      "                                    │                │             │                     │                    ├╴Chattonellaceae,658124╶┼╴Heterosigma akashiwo,2829╶╌╴Heterosigma akashiwo NIES-293,536047\n",
      "                                    │                │             │                     │                    │                        ╰╴Chattonella subsalsa,44440\n",
      "                                    │                │             │                     │                    │                     ╭╴Triparma,722752╶┬╴Triparma eleuthera,172717\n",
      "                                    │                │             │                     │                    ├╴Triparmaceae,722751╶┤                 ╰╴Triparma pacifica,91992\n",
      "                                    │                │             │                     │                    │                     ╰╴unclassified Bolidomonas,2636278╶┬╴Bolidomonas sp. 1657,1411661\n",
      "                                    │                │             │                     │                    │                                                        ╰╴Bolidomonas sp. RCC2347,1606585\n",
      "                                    │                │             │                     │                    ├╴Pinguiochrysidaceae,1004268╶┬╴Pinguiococcus pyrenoidosus,172671\n",
      "                                    │                │             │                     │                    │                             ╰╴Phaeomonas parva,124430\n",
      "                                    │                │             │                     │                    ├╴Monodopsidaceae,425072╶╌╴Nannochloropsis sp. CCMP1779,1149776\n",
      "                                    │                │             │                     │                    ╰╴Ochromonadaceae sp. CCMP2298,483371\n",
      "                                    │                │             │                     ├╴Oomycota,4762╶┬╴Peronosporaceae,4777╶╌╴Phytophthora,4783╶╌╴Phytophthora capsici LT1534,763924\n",
      "                                    │                │             │                     │               ╰╴Saprolegnia parasitica CBS 223.65,695850\n",
      "                                    │                │             │                     │                ╭╴Bicosoecida,33651╶┬╴Bicosoecida sp. CB-2014,1486930\n",
      "                                    │                │             │                     │                │                   ╰╴Cafeteria,33652╶┬╴Cafeteria roenbergensis,33653\n",
      "                                    │                │             │                     │                │                                     ╰╴unclassified Cafeteria,2621217\n",
      "                                    │                │             │                     ├╴Bigyra,2683628╶┤                                                  ╭╴Aplanochytrium stocchinoi,215587\n",
      "                                    │                │             │                     │                │                           ╭╴Aplanochytrium,87110╶┼╴Aplanochytrium sp. PBS07,627963\n",
      "                                    │                │             │                     │                │                           │                      ╰╴Aplanochytrium kerguelense PBS07,702273\n",
      "                                    │                │             │                     │                ╰╴Thraustochytriaceae,33674╶┼╴Mucochytrium quahogii,96639\n",
      "                                    │                │             │                     │                                            ├╴Schizochytrium aggregatum ATCC 28209,876976\n",
      "                                    │                │             │                     │                                            ├╴Thraustochytrium sp. LLF1b,1112570\n",
      "                                    │                │             │                     │                                            ╰╴Aurantiochytrium limacinum ATCC MYA-1381,717989\n",
      "                                    │                │             │                     │                                                                         ╭╴Stramenopiles sp. TOSAG23-2,1735743\n",
      "                                    │                │             │                     │                                          ╭╴Stramenopiles MAST-4,1735725╶┼╴Stramenopiles sp. TOSAG41-1,1735744\n",
      "                                    │                │             │                     ╰╴Marine_stramenopiles_MASTs group,2795716╶┤                              ╰╴Stramenopiles sp. TOSAG23-3,1735745\n",
      "                                    │                │             │                                                                ╰╴Stramenopiles MAST-3,1735726╶┬╴Stramenopiles sp. TOSAG41-2,1735746\n",
      "                                    │                │             │                                                                                               ╰╴Stramenopiles sp. TOSAG23-6,1735747\n",
      "                                    │                │             │                                                                                                     ╭╴Alexandrium monilatum,311494\n",
      "                                    │                │             │                                                                                                     ├╴Alexandrium andersonii,327968\n",
      "                                    │                │             │                                                                                                     ├╴Alexandrium minutum,39455\n",
      "                                    │                │             │                                                                                  ╭╴Alexandrium,2924╶┼╴Alexandrium margalefii,109239\n",
      "                                    │                │             │                                                                                  │                  ├╴Alexandrium tamarense,2926\n",
      "                                    │                │             │                                                          ╭╴Pyrocystaceae,1573500╶┤                  ├╴Alexandrium catenella,2925\n",
      "                                    │                │             │                                                          │                       │                  ╰╴Alexandrium fundyense,2932\n",
      "                                    │                │             │                                                          │                       ├╴Pyrodinium bahamense,73915\n",
      "                                    │                │             │                                                          │                       ╰╴Gambierdiscus australes,439317\n",
      "                                    │                │             │                                    ╭╴Gonyaulacales,40984╶┼╴Protoceratium reticulatum,133427\n",
      "                                    │                │             │                                    │                     ├╴Crypthecodinium cohnii,2866\n",
      "                                    │                │             │                                    │                     ├╴Tripos fusus,2916\n",
      "                                    │                │             │                                    │                     ├╴Lingulodinium polyedra,160621\n",
      "                                    │                │             │                                    │                     ├╴Gonyaulax spinifera,66791\n",
      "                                    │                │             │                                    │                     ╰╴Azadinium spinosum,632150\n",
      "                                    │                │             │                                    │                   ╭╴Kryptoperidiniaceae,2137591╶┬╴Kryptoperidinium foliaceum,160619\n",
      "                                    │                │             │                                    │                   │                             ╰╴Durinskia baltica,400756\n",
      "                                    │                │             │                                    │                   │                    ╭╴Scrippsiella trochoidea,71861\n",
      "                                    │                │             │                                    │                   ├╴Scrippsiella,54902╶┼╴Scrippsiella hangoei,268821\n",
      "                                    │                ├╴Sar,2698737╶┤                                    ├╴Peridiniales,2910╶┤                    ╰╴Scrippsiella cf. hangoei,447022\n",
      "                                    │                │             │                                    │                   │                  ╭╴Heterocapsa triquetra,66468\n",
      "                                    │                │             │                                    │                   ├╴Heterocapsa,2918╶┼╴Heterocapsa arctica,192219\n",
      "                                    │                │             │                                    │                   │                  ╰╴Heterocapsa rotundata,89963\n",
      "                                    │                │             │                                    │                   ╰╴Zooxanthella nutricula,1333877\n",
      "                                    │                │             │                                    │                                           ╭╴Cladocopium,2486696╶┬╴Cladocopium goreaui,2562237\n",
      "                                    │                │             │                                    │                                           │                     ╰╴Cladocopium sp. clade C,293275╶╌╴Cladocopium sp. C15,377605\n",
      "                                    │                │             │                                    │                                           │                                                      ╭╴Symbiodinium sp. CCMP2430,631057\n",
      "                                    │                │             │                                    │                                           │                   ╭╴unclassified Symbiodinium,279888╶┼╴Symbiodinium sp. CCMP421,174948\n",
      "                                    │                │             │                                    │                  ╭╴Symbiodiniaceae,252141╶┤                   │                                  ╰╴Symbiodinium sp. Mp,230996\n",
      "                                    │                │             │                 ╭╴Dinophyceae,2864╶┤                  │                        ├╴Symbiodinium,2949╶┼╴Symbiodinium microadriaticum,2951\n",
      "                                    │                │             │                 │                  │                  │                        │                   ├╴Symbiodinium kawagutii,104179\n",
      "        ╭╴cellular organisms,131567╶┤                │             │                 │                  ├╴Suessiales,89954╶┤                        │                   ╰╴Symbiodinium sp. Mf12.5f/clade A3,993574\n",
      "        │                           │                │             │                 │                  │                  │                        ├╴Breviolum minutum,2499525\n",
      "        │                           │                │             │                 │                  │                  │                        ╰╴Fugacium kawagutii,2697096\n",
      "        │                           │                │             │                 │                  │                  ╰╴Suessiaceae,89955╶┬╴Pelagodinium beii,43686\n",
      "        │                           │                │             │                 │                  │                                      ╰╴Polarella glacialis,89957\n",
      "        │                           │                │             │                 │                  │                    ╭╴Gymnodiniaceae,66801╶┬╴Togula jolla,285029\n",
      "        │                           │                │             │                 │                  ├╴Gymnodiniales,2953╶┤                      ╰╴Gymnodinium catenatum GC744,1203019\n",
      "        │                           │                │             │                 │                  │                    ╰╴Kareniaceae,1003176╶┬╴Karenia brevis,156230\n",
      "        │                           │                │             │                 │                  │                                          ╰╴Karlodinium veneficum,407301\n",
      "        │                           │                │             │                 │                  ├╴Abedinium,763926╶┬╴Abedinium dasypus,763927\n",
      "        │                           │                │             │                 │                  │                  ╰╴Abedinium folium,2713251\n",
      "        │                           │                │             │                 │                  ├╴Amphidinium,2960╶┬╴Amphidinium massartii,160604\n",
      "        │                           │                │             │                 │                  │                  ╰╴Amphidinium carterae,2961\n",
      "        │                           │                │             ├╴Alveolata,33630╶┤                  ├╴unclassified Amoebophrya,2558461╶╌╴Amoebophrya sp. AT5.2,1775427\n",
      "        │                           │                │             │                 │                  ├╴Apocalathium aciculiferum,268820\n",
      "        │                           │                │             │                 │                  ├╴Prorocentrum minimum,39449\n",
      "        │                           │                │             │                 │                  ├╴Dinophysis acuminata,47934\n",
      "        │                           │                │             │                 │                  ├╴Noctiluca scintillans,2966\n",
      "        │                           │                │             │                 │                  ╰╴Oxyrrhis marina,2969\n",
      "        │                           │                │             │                 ├╴Colpodellida,877183╶┬╴Chromera velia CCMP2878,1169474\n",
      "        │                           │                │             │                 │                     ╰╴Vitrella brassicaformis CCMP3155,1169540\n",
      "        │                           │                │             │                 │                           ╭╴Oligohymenophorea,6020╶┬╴Paramecium tetraurelia strain d4-2,412030\n",
      "        │                           │                │             │                 │                           │                        ╰╴Tetrahymena thermophila SB210,312017\n",
      "        │                           │                │             │                 ├╴Intramacronucleata,431838╶┤                    ╭╴Protocruzia adherens,223996\n",
      "        │                           │                │             │                 │                           ├╴Spirotrichea,33829╶┼╴Euplotes harpa,151035\n",
      "        │                           │                │             │                 │                           │                    ╰╴Oxytricha trifallax,1172189\n",
      "        │                           │                │             │                 │                           ╰╴Aristerostoma sp. ATCC 50986,485358\n",
      "        │                           │                │             │                 ├╴Perkinsus,28000╶┬╴Perkinsus chesapeaki ATCC PRA-65,321610\n",
      "        │                           │                │             │                 │                 ╰╴Perkinsus marinus ATCC 50439,1032511\n",
      "        │                           │                │             │                 ╰╴Cephaloidophora cf. communis,947086\n",
      "        │                           │                │             │                                              ╭╴Lotharella,74819╶┬╴Lotharella oceanica,641309\n",
      "        │                           │                │             │                                              │                  ╰╴Lotharella globosa,91324\n",
      "        │                           │                │             │                 ╭╴Chlorarachniophyceae,29197╶┼╴Bigelowiella,227085\n",
      "        │                           │                │             │                 │                            ├╴Amorphochlora amoebiformis,1561963\n",
      "        │                           ├╴Eukaryota,2759╶┤             │                 │                            ├╴Partenskyella glossopodia,552666\n",
      "        │                           │                │             ╰╴Rhizaria,543769╶┤                            ╰╴Gymnochlora sp. CCMP2014,629695\n",
      "        │                           │                │                               │                                      ╭╴Elphidium margaritaceum,933848\n",
      "        │                           │                │                               │                    ╭╴Rotaliida,29185╶┼╴Rosalina sp.,2695917\n",
      "        │                           │                │                               ╰╴Foraminifera,29178╶┤                 ╰╴Ammonia sp.,43993\n",
      "        │                           │                │                                                    ╰╴Reticulomyxa filosa,46433\n",
      "        │                           │                │                                                                                                                                    ╭╴unclassified Ostreococcus,2268852╶┬╴Ostreococcus sp. RCC809,385169\n",
      "        │                           │                │                                                                                                               ╭╴Ostreococcus,70447╶┤                                   ╰╴Ostreococcus sp. 'lucimarinus',242159\n",
      "        │                           │                │                                                                                      ╭╴Bathycoccaceae,1525212╶┤                    ╰╴Ostreococcus tauri,70448\n",
      "        │                           │                │                                                                                      │                        ╰╴Bathycoccus,41874╶┬╴Bathycoccus prasinos,41875╶╌╴Bathycoccus prasinos RCC1105,1075084\n",
      "        │                           │                │                                        ╭╴Mamiellophyceae,1035538╶╌╴Mamiellales,13792╶┤                                            ╰╴Bathycoccus sp.,2812571\n",
      "        │                           │                │                                        │                                             │                                       ╭╴unclassified Micromonas,2509521╶╌╴Micromonas sp. CS222,1659427\n",
      "        │                           │                │                                        │                                             ╰╴Mamiellaceae,41873╶╌╴Micromonas,38832╶┼╴Micromonas commoda,296587\n",
      "        │                           │                │                                        │                                                                                     ╰╴Micromonas pusilla,38833\n",
      "        │                           │                │                                        │                                                    ╭╴Trebouxiophyceae incertae sedis,75981╶┬╴Picochlorum sp. BH-2019,2601844\n",
      "        │                           │                │                                        │                                                    │                                       ╰╴Botryococcus braunii Showa,1202541\n",
      "        │                           │                │                                        │                                                    │                                                                ╭╴Chlorella sorokiniana,3076\n",
      "        │                           │                │                                        │                           ╭╴Trebouxiophyceae,75966╶┤                                               ╭╴Chlorella,3071╶┼╴Chlorella variabilis,554065\n",
      "        │                           │                │                                        │                           │                        │                     ╭╴Chlorella clade,2511126╶┤                ╰╴Chlorella sp. A99,2041167\n",
      "        │                           │                │                                        │                           │                        ├╴Chlorellaceae,35461╶┤                         ╰╴Micractinium conductrix,554055\n",
      "        │                           │                │                                        │                           │                        │                     ╰╴Auxenochlorella protothecoides,3075\n",
      "        │                           │                │                                        │                           │                        ╰╴Stichococcus sp. RCC1054,1461547\n",
      "        │                           │                │                                        │                           │                                                                ╭╴unclassified Chlamydomonas,2034146╶┬╴Chlamydomonas sp. CCMP681,413974\n",
      "        │                           │                │                                        │                           │                                           ╭╴Chlamydomonas,3052╶┤                                    ╰╴Chlamydomonas sp. CCMP219,327068\n",
      "        │                           │                │                                        ├╴core chlorophytes,2692248╶┤                  ╭╴Chlamydomonadales,3042╶┤                    ├╴Chlamydomonas leiostraca,1034604\n",
      "        │                           │                │                                        │                           │                  │                        │                    ╰╴Chlamydomonas eustigma,1157962\n",
      "        │                           │                │                                        │                           ├╴CS clade,2812636╶┤                        ╰╴Edaphochlamys debaryana,47281\n",
      "        │                           │                │                                        │                           │                  │                      ╭╴Selenastraceae,35466╶┬╴Raphidocelis subcapitata,307507\n",
      "        │                           │                │                                        │                           │                  ╰╴Sphaeropleales,35491╶┤                      ╰╴Monoraphidium neglectum,145388\n",
      "        │                           │                │                     ╭╴Chlorophyta,3041╶┤                           │                                         ╰╴Scenedesmaceae,3086╶┬╴Enallax costatus,113528\n",
      "        │                           │                │                     │                  │                           │                                                               ╰╴Flechtneria rotunda,269715\n",
      "        │                           │                │                     │                  │                           │                  ╭╴Tetraselmis striata,3165\n",
      "        │                           │                │                     │                  │                           ╰╴Tetraselmis,3164╶┼╴Tetraselmis astigmatica,1074897\n",
      "        │                           │                │                     │                  │                                              ╰╴Tetraselmis sp. GSL018,582737\n",
      "        │                           │                │                     │                  │                                                                      ╭╴Pyramimonas parkeae,36894\n",
      "        │                           │                │                     │                  │                                                  ╭╴Pyramimonas,36882╶┼╴Pyramimonas sp.,36898\n",
      "        │                           │                │                     │                  │                       ╭╴Pyramimonadaceae,2682468╶┤                   ╰╴Pyramimonas obovata,1411642\n",
      "        │                           │                │                     │                  ├╴Pyramimonadales,38834╶┤                          ╰╴Pterosperma sp. CCMP1384,1461541\n",
      "        │                           │                │                     │                  │                       ╰╴Polyblepharides amylifera,1486889\n",
      "        │                           │                │                     │                  │                                              ╭╴Chloropicon primus,1764295\n",
      "        │                           │                │                     │                  │                        ╭╴Chloropicon,2302914╶┼╴Chloropicon maureeniae,1461542\n",
      "        │                           │                │                     │                  ├╴Chloropicaceae,2302913╶┤                     ├╴Chloropicon roscoffensis,1461544\n",
      "        │                           │                │                     │                  │                        │                     ╰╴Chloropicon sp.,2864388\n",
      "        │                           │                ├╴Viridiplantae,33090╶┤                  │                        ╰╴Chloroparvula japonica,1411623\n",
      "        │                           │                │                     │                  ├╴Pycnococcus provasolii,41880\n",
      "        │                           │                │                     │                  ├╴Picocystis salinarum,88271\n",
      "        │                           │                │                     │                  ├╴Nephroselmis pyriformis,156128\n",
      "        │                           │                │                     │                  ├╴Prasinococcus capsulatus,156131\n",
      "        │                           │                │                     │                  ╰╴Caulerpa lentillifera,148947\n",
      "        │                           │                │                     │                                            ╭╴Chara braunii,69332\n",
      "        │                           │                │                     │                                            ├╴Mesotaenium endlicherianum,184485\n",
      "        │                           │                │                     │                    ╭╴Streptophytina,131221╶┤                                                                 ╭╴Rhododendron sophistarum,2182709\n",
      "        │                           │                │                     │                    │                       │                         ╭╴Pentapetalae,1437201╶╌╴asterids,71274╶┼╴Pedicularis tenera,2182727\n",
      "        │                           │                │                     │                    │                       ╰╴Mesangiospermae,1437183╶┤                                       ╰╴Doronicum thibetanum,2182710\n",
      "        │                           │                │                     ├╴Streptophyta,35493╶┤                                                 ╰╴Corydalis,3463\n",
      "        │                           │                │                     │                    ├╴Klebsormidium nitens,105231\n",
      "        │                           │                │                     │                    ├╴Mesostigma viride,41882\n",
      "        │                           │                │                     │                    ╰╴Chlorokybus atmophyticus,3144\n",
      "        │                           │                │                     ╰╴Prasinoderma,156132╶┬╴Prasinoderma coloniale,156133\n",
      "        │                           │                │                                           ╰╴Prasinoderma singulare,676789\n",
      "        │                           │                │                 ╭╴Euglenozoa,33682╶┬╴Metakinetoplastina,2704647╶╌╴Neobodo designis,312471\n",
      "        │                           │                ├╴Discoba,2611352╶┤                  ╰╴Eutreptiella,73024╶┬╴Eutreptiella gymnastica,73025\n",
      "        │                           │                │                 │                                       ╰╴Eutreptiella sp. CCMP1594,1867818\n",
      "        │                           │                │                 ╰╴Naegleria gruberi,5762\n",
      "        │                           │                │                                                                                                                                                                                 ╭╴Lepidodasyidae,233124╶┬╴Dolichodasys sp. 184616442,2183214\n",
      "╴root,1╶┤                           │                │                                                                                                                                                                                 │                       ╰╴Lepidodasys sp. 184616388,2183269\n",
      "        │                           │                │                                                                                                                                                                                 │                            ╭╴unclassified Diplodasys,2642610╶┬╴Diplodasys sp. 184616422,2183234\n",
      "        │                           │                │                                                                                                                                                            ╭╴Macrodasyida,78238╶┼╴Thaumastodermatidae,233137╶┤                                 ╰╴Diplodasys sp. 184616412,2183246\n",
      "        │                           │                │                                                                                                                                                            │                    │                            ╰╴Tetranchyroderma sp. 184616431,2183230\n",
      "        │                           │                │                                                                                                                                       ╭╴Gastrotricha,33313╶┤                    ├╴Paraturbanella sp. 214385716,2183228\n",
      "        │                           │                │                                                                                                                                       │                    │                    ╰╴Dactylopodola sp. 184616410,2183255\n",
      "        │                           │                │                                                                                                                                       │                    ╰╴Xenotrichulidae,233121╶┬╴Xenotrichula sp. 214385703,2183245\n",
      "        │                           │                │                                                                                                                                       │                                             ╰╴Heteroxenotrichula sp. 184616391,2183268\n",
      "        │                           │                │                                                                                                                                       │                      ╭╴Gyratrix,39195╶╌╴Gyratrix cf. hermaphroditus 214386099,2183105\n",
      "        │                           │                │                                                                                                                                       ├╴Platyhelminthes,6157╶┼╴Dibothriocephalus latus,60516\n",
      "        │                           │                │                                                                                                              ╭╴Lophotrochozoa,1206795╶┤                      ╰╴Opisthorchis viverrini,6198\n",
      "        │                           │                │                                                                                                              │                        ├╴Annelida,6340╶┬╴Polychaeta,6341╶╌╴Capitella teleta,283909\n",
      "        │                           │                │                                                                                                              │                        │               ╰╴Helobdella robusta,6412\n",
      "        │                           │                │                                                                                                              │                        │               ╭╴Magallana gigas,29159\n",
      "        │                           │                │                                                                                           ╭╴Spiralia,2697495╶┤                        ├╴Mollusca,6447╶┼╴Octopus bimaculoides,37653\n",
      "        │                           │                │                                                                                           │                  │                        │               ╰╴Aplysia californica,6500\n",
      "        │                           │                │                                                                                           │                  │                        ├╴Lingula anatina,7574\n",
      "        │                           │                │                                                                                           │                  │                        ╰╴Bugula neritina,10212\n",
      "        │                           │                │                                                                                           │                  ╰╴Adineta ricciae,249248\n",
      "        │                           │                │                                                                       ╭╴Protostomia,33317╶┤                   ╭╴Nematoda,6231╶╌╴Trichuris trichiura,36087\n",
      "        │                           │                │                                                                       │                   │                   │                                                                                ╭╴Cyclopoida,84308╶┬╴Eucyclops serrulatus,84317\n",
      "        │                           │                │                                                                       │                   │                   │                                                                                │                  ╰╴Paracyclopina nana,565004\n",
      "        │                           │                │                                                                       │                   │                   │                                                              ╭╴Podoplea,116571╶┤                ╭╴Tigriopus californicus,6832\n",
      "        │                           │                │                                                                       │                   │                   │                                                              │                 ├╴Tigriopus,6831╶┼╴Tigriopus japonicus,158387\n",
      "        │                           │                │                                                                       │                   ╰╴Ecdysozoa,1206794╶┤                                                              │                 │                ╰╴Tigriopus kingsejongensis,1133412\n",
      "        │                           │                │                                                                       │                                       │                                         ╭╴Neocopepoda,116569╶┤                 ╰╴Lepeophtheirus salmonis,72036\n",
      "        │                           │                │                                                                       │                                       │                                         │                    │                                 ╭╴Calanus,6836╶┬╴Calanus finmarchicus,6837\n",
      "        │                           │                │                                                     ╭╴Bilateria,33213╶┤                                       │                                         │                    │                ╭╴Calanidae,6835╶┤              ╰╴Calanus glacialis,113644\n",
      "        │                           │                │                                                     │                 │                                       │                ╭╴Multicrustacea,2172821╶┤                    │                │                ╰╴Neocalanus flemingeri,119369\n",
      "        │                           │                │                                                     │                 │                                       │                │                        │                    ╰╴Calanoida,6833╶┼╴Acartia tonsa,136180\n",
      "        │                           │                │                                                     │                 │                                       ╰╴Crustacea,6657╶┤                        │                                     ├╴Pleuromamma xiphias,503034\n",
      "        │                           │                │                                                     │                 │                                                        │                        │                                     ╰╴Labidocera madurae,1501138\n",
      "        │                           │                │                                                     │                 │                                                        │                        ╰╴Homarus americanus,6706\n",
      "        │                           │                │                                    ╭╴Eumetazoa,6072╶┤                 │                                                        ╰╴Daphnia magna,35525\n",
      "        │                           │                │                                    │                │                 │                                     ╭╴Euteleostomi,117571╶┬╴Tursiops truncatus,9739\n",
      "        │                           │                │                                    │                │                 │                     ╭╴Chordata,7711╶┤                     ╰╴Hippoglossus stenolepis,195615\n",
      "        │                           │                │                                    │                │                 ╰╴Deuterostomia,33511╶┤               ╰╴Oikopleura dioica,34765\n",
      "        │                           │                │                    ╭╴Metazoa,33208╶┤                │                                       ╰╴Echinozoa,7624╶┬╴Apostichopus japonicus,307972\n",
      "        │                           │                │                    │               │                │                                                        ╰╴Strongylocentrotus purpuratus,7668\n",
      "        │                           │                │                    │               │                ╰╴Cnidaria,6073╶┬╴Nematostella vectensis,45351\n",
      "        │                           │                ├╴Opisthokonta,33154╶┤               │                                ╰╴Hydra vulgaris,6087\n",
      "        │                           │                │                    │               ╰╴Amphimedon queenslandica,400682\n",
      "        │                           │                │                    ├╴unclassified Acanthoeca,2618734\n",
      "        │                           │                │                    ╰╴Urocystis primulicola,2183100\n",
      "        │                           │                │                                                                ╭╴Hemiselmis andersenii,464988\n",
      "        │                           │                │                                             ╭╴Hemiselmis,77924╶┼╴Hemiselmis rufescens,77926\n",
      "        │                           │                │                    ╭╴Cryptomonadales,589350╶┤                  ╰╴Hemiselmis virescens,77927\n",
      "        │                           │                │                    │                        ╰╴Cryptomonas,3030╶┬╴Cryptomonas paramecium,2898\n",
      "        │                           │                │                    │                                           ╰╴Cryptomonas curvata,233186\n",
      "        │                           │                │                    │                                                ╭╴Geminigera,46946╶┬╴Geminigera cryophila CCMP2564,1202989\n",
      "        │                           │                │                    │                        ╭╴Geminigeraceae,589343╶┤                  ╰╴Geminigera sp.,2864123\n",
      "        │                           │                │                    │                        │                       ╰╴Proteomonas sulcata,77928\n",
      "        │                           │                ├╴Cryptophyceae,3027╶┤                        │                  ╭╴Rhodomonas lens,354590\n",
      "        │                           │                │                    ├╴Pyrenomonadales,589342╶┼╴Rhodomonas,37096╶┼╴Rhodomonas salina,52970\n",
      "        │                           │                │                    │                        │                  ├╴Rhodomonas abbreviata,46948\n",
      "        │                           │                │                    │                        │                  ╰╴Rhodomonas sp. CCMP768,302021\n",
      "        │                           │                │                    │                        ╰╴Chroomonas mesostigmatica,195065\n",
      "        │                           │                │                    ├╴Cryptophyta sp. CCMP2293,697907\n",
      "        │                           │                │                    ╰╴Goniomonas sp.,1955572\n",
      "        │                           │                ├╴Glaucocystophyceae,38254╶┬╴Cyanoptyche gloeocystis,77922\n",
      "        │                           │                │                          ╰╴Cyanophora paradoxa,2762\n",
      "        │                           │                │                  ╭╴Discosea,555280╶┬╴Vannella robusta,1487602\n",
      "        │                           │                ├╴Amoebozoa,554915╶┤                 ╰╴Mayorella sp. JJP-2003,242541\n",
      "        │                           │                │                  ╰╴Filamoeba nolandi,136452\n",
      "        │                           │                │                                                         ╭╴Pavlova,2831╶┬╴Pavlova gyrans,44452\n",
      "        │                           │                │                                    ╭╴Pavlovaceae,418969╶┤              ╰╴Pavlova sp. CCMP459,298111\n",
      "        │                           │                │                 ╭╴Pavlovales,73026╶┤                    ╰╴Exanthemachrysis gayraliae,119497\n",
      "        │                           │                │                 │                  ╰╴Pavlovales sp. CCMP2436,483367\n",
      "        │                           │                │                 │                                                                      ╭╴Prymnesium,35143╶┬╴Prymnesium polylepis,72548\n",
      "        │                           │                │                 │                                               ╭╴Prymnesiaceae,418967╶┤                  ╰╴Prymnesium parvum,97485\n",
      "        │                           │                │                 │                                               │                      ╰╴Haptolina ericina,156174\n",
      "        │                           │                │                 │                          ╭╴Prymnesiales,73028╶┤                        ╭╴Chrysochromulina tobinii,1460289\n",
      "        │                           │                │                 │                          │                    │                        ├╴unclassified Chrysochromulina,2647842╶┬╴Chrysochromulina sp. AL-TEMP,2802064\n",
      "        │                           │                │                 │                          │                    ╰╴Chrysochromulina,35140╶┤                                       ╰╴Chrysochromulina sp. KB-HA01,2802065\n",
      "        │                           │                │                 │                          │                                             ├╴Chrysochromulina cymbium,412154\n",
      "        │                           │                │                 │                          │                                             ├╴Chrysochromulina rotalis,412157\n",
      "        │                           │                │                 │                          │                                             ╰╴Chrysochromulina parva,127563\n",
      "        │                           │                │                 │                          │                                                ╭╴Gephyrocapsa,38816╶┬╴Gephyrocapsa muellerae,1663125\n",
      "        │                           │                │                 │                          │                      ╭╴Noelaerhabdaceae,418966╶┤                    ╰╴Gephyrocapsa oceanica,38817\n",
      "        │                           │                ├╴Haptophyta,2830╶┤                          ├╴Isochrysidales,73020╶┤                         ╰╴Emiliania huxleyi,2903╶╌╴Emiliania huxleyi CCMP1516,280463\n",
      "        │                           │                │                 │                          │                      │                        ╭╴Isochrysis,37098╶┬╴Isochrysis galbana,37099\n",
      "        │                           │                │                 ├╴Prymnesiophyceae,2608131╶┤                      ╰╴Isochrysidaceae,418951╶┤                  ╰╴Isochrysis sp.,40639\n",
      "        │                           │                │                 │                          │                                               ╰╴Chrysotila carterae,13221\n",
      "        │                           │                │                 │                          │                                                      ╭╴Phaeocystis sp. CCMP2710,1411682\n",
      "        │                           │                │                 │                          │                   ╭╴unclassified Phaeocystis,2636333╶┼╴Phaeocystis sp. RCC851,464232\n",
      "        │                           │                │                 │                          │                   │                                  ├╴Phaeocystis sp. RCC908,464236\n",
      "        │                           │                │                 │                          │                   │                                  ╰╴Phaeocystis sp. RCC935,464238\n",
      "        │                           │                │                 │                          ├╴Phaeocystis,33656╶┼╴Phaeocystis antarctica,33657\n",
      "        │                           │                │                 │                          │                   ├╴Phaeocystis globosa,33658\n",
      "        │                           │                │                 │                          │                   ├╴Phaeocystis rex,1631189\n",
      "        │                           │                │                 │                          │                   ╰╴Phaeocystis cordata,118079\n",
      "        │                           │                │                 │                          ├╴Calcidiscus leptoporus,127549\n",
      "        │                           │                │                 │                          ╰╴Scyphosphaera apsteinii,418940\n",
      "        │                           │                │                 ╰╴Chrysoculter rhomboideus,259385\n",
      "        │                           │                ├╴uncultured eukaryote,100272\n",
      "        │                           │                ├╴Palpitomonas bilix,652834\n",
      "        │                           │                ╰╴Trichomonas vaginalis G3,412133\n",
      "        │                           │                             ╭╴Halobacteria,183963╶╌╴Halobacteriales,2235╶┬╴Halorhabdus utahensis,146826\n",
      "        │                           ╰╴Stenosarchaea group,2290931╶┤                                            ╰╴Halobiforma nitratireducens JCM 10879,1227454\n",
      "        │                                                         ╰╴Methanosarcina,2207\n",
      "        ╰╴Norovirus GII,122929╶╌╴Norovirus Hu/GII.P4/P0542-Gaborone-2015,2182758\n"
     ]
    }
   ],
   "source": [
    "print(t.tree.to_str(props=['sci_name', 'name'], compact=True))"
   ]
  },
  {
   "cell_type": "code",
   "execution_count": 150,
   "metadata": {},
   "outputs": [
    {
     "name": "stdout",
     "output_type": "stream",
     "text": [
      "                           ╭╴Bacteria,2╶╌╴Pseudomonadota,1224\n",
      "                           │                                                                        ╭╴Protostomia,33317╶┬╴Lophotrochozoa,1206795\n",
      "                           │                                                      ╭╴Bilateria,33213╶┤                   ╰╴Neocopepoda,116569╶┬╴Podoplea,116571╶╌╴Paracyclopina nana,565004\n",
      "                           │                                     ╭╴Eumetazoa,6072╶┤                 │                                        ╰╴Calanoida,6833╶╌╴Calanidae,6835╶╌╴Calanus finmarchicus,6837\n",
      "                           │                ╭╴Opisthokonta,33154╶┤                │                 ╰╴Oikopleura dioica,34765\n",
      "                           │                │                    │                ╰╴Cnidaria,6073\n",
      "                           │                │                    ╰╴unclassified Acanthoeca,2618734\n",
      "                           │                │                                                                        ╭╴Pyrocystaceae,1573500╶╌╴Alexandrium,2924\n",
      "                           │                │                                                  ╭╴Gonyaulacales,40984╶┼╴Azadinium spinosum,632150\n",
      "                           │                │                                                  │                     ╰╴Tripos fusus,2916\n",
      "                           │                │                                                  │                    ╭╴Kareniaceae,1003176╶┬╴Karenia brevis,156230\n",
      "                           │                │                                                  ├╴Gymnodiniales,2953╶┤                     ╰╴Karlodinium veneficum,407301\n",
      "╴cellular organisms,131567╶┤                │                               ╭╴Dinophyceae,2864╶┤                    ╰╴Gymnodinium catenatum GC744,1203019\n",
      "                           │                │                               │                  ├╴Peridiniales,2910╶┬╴Zooxanthella nutricula,1333877\n",
      "                           │                │                               │                  │                   ╰╴Scrippsiella trochoidea,71861\n",
      "                           │                │             ╭╴Alveolata,33630╶┤                  ├╴Suessiales,89954╶┬╴Symbiodiniaceae,252141\n",
      "                           │                │             │                 │                  │                  ╰╴Pelagodinium beii,43686\n",
      "                           │                │             │                 │                  ╰╴Prorocentrum minimum,39449\n",
      "                           │                │             │                 ╰╴Oxytricha trifallax,1172189\n",
      "                           │                │             │                                          ╭╴Pelagophyceae,35675╶╌╴Pelagomonadales,54409╶╌╴Pelagomonadaceae,3235057╶┬╴Aureococcus anophagefferens,44056\n",
      "                           │                │             │                                          │                                                                        ╰╴Pelagomonas calceolata,35677\n",
      "                           │                │             │                                          │                      ╭╴Coscinodiscophyceae,33836╶┬╴Thalassiosirophycidae,33846\n",
      "                           │                │             │                                          ├╴Bacillariophyta,2836╶┤                           ╰╴Proboscia,216776\n",
      "                           │                ├╴Sar,2698737╶┤                     ╭╴Ochrophyta,2696291╶┤                      ╰╴Bacillariaceae,33852\n",
      "                           ╰╴Eukaryota,2759╶┤             │                     │                    │                        ╭╴Pedinellales,35680\n",
      "                                            │             │                     │                    ├╴Dictyochophyceae,39119╶┼╴Florenciella,236786\n",
      "                                            │             │                     │                    │                        ╰╴Dictyocha speculum,35687\n",
      "                                            │             ├╴Stramenopiles,33634╶┤                    ├╴Chromulinales,96792\n",
      "                                            │             │                     │                    ╰╴Triparmaceae,722751╶┬╴Triparma pacifica,91992\n",
      "                                            │             │                     │                                          ╰╴Bolidomonas sp. 1657,1411661\n",
      "                                            │             │                     ├╴Bigyra,2683628\n",
      "                                            │             │                     ╰╴Stramenopiles MAST-4,1735725\n",
      "                                            │             ╰╴Rhizaria,543769\n",
      "                                            │                                        ╭╴core chlorophytes,2692248\n",
      "                                            │                                        │                   ╭╴Bathycoccaceae,1525212╶┬╴Bathycoccus,41874╶╌╴Bathycoccus prasinos,41875\n",
      "                                            │                     ╭╴Chlorophyta,3041╶┼╴Mamiellales,13792╶┤                        ╰╴Ostreococcus sp. 'lucimarinus',242159\n",
      "                                            ├╴Viridiplantae,33090╶┤                  │                   ╰╴Micromonas,38832╶╌╴unclassified Micromonas,2509521\n",
      "                                            │                     │                  ╰╴Chloropicaceae,2302913\n",
      "                                            │                     ╰╴Prasinoderma,156132\n",
      "                                            ├╴Cryptophyceae,3027\n",
      "                                            │                                            ╭╴Isochrysidales,73020╶╌╴Noelaerhabdaceae,418966╶╌╴Emiliania huxleyi,2903\n",
      "                                            │                                            │                    ╭╴Prymnesiaceae,418967╶╌╴Prymnesium,35143╶╌╴Prymnesium polylepis,72548\n",
      "                                            │                                            ├╴Prymnesiales,73028╶┤                        ╭╴unclassified Chrysochromulina,2647842╶┬╴Chrysochromulina sp. AL-TEMP,2802064\n",
      "                                            │                                            │                    ╰╴Chrysochromulina,35140╶┤                                       ╰╴Chrysochromulina sp. KB-HA01,2802065\n",
      "                                            ╰╴Haptophyta,2830╶╌╴Prymnesiophyceae,2608131╶┤                                             ╰╴Chrysochromulina cymbium,412154\n",
      "                                                                                         │                   ╭╴unclassified Phaeocystis,2636333\n",
      "                                                                                         ├╴Phaeocystis,33656╶┼╴Phaeocystis cordata,118079\n",
      "                                                                                         │                   ├╴Phaeocystis antarctica,33657\n",
      "                                                                                         │                   ╰╴Phaeocystis globosa,33658\n",
      "                                                                                         ╰╴Calcidiscus leptoporus,127549\n"
     ]
    }
   ],
   "source": [
    "print(t.treetrim.to_str(props=['sci_name', 'name'], compact=True))"
   ]
  },
  {
   "cell_type": "code",
   "execution_count": 108,
   "metadata": {},
   "outputs": [
    {
     "data": {
      "text/plain": [
       "(65, 'K00134')"
      ]
     },
     "execution_count": 108,
     "metadata": {},
     "output_type": "execute_result"
    }
   ],
   "source": [
    "contigs = t.dict_taxtrim_contigs['226']  # Alteromonas\n",
    "dict_ko_sam_estcounts = defaultdict(lambda: \n",
    "    defaultdict(float)\n",
    ")\n",
    "for c in contigs:\n",
    "    ko = t.dict_contig[t.col_ko][c]\n",
    "    sams = t.dict_contig[t.col_sample][c]\n",
    "    estcounts = t.dict_contig[t.col_estcounts][c]\n",
    "    for s, ec in zip(sams, estcounts):\n",
    "        dict_ko_sam_estcounts[ko][s] += float(ec)\n",
    "\n",
    "len(dict_ko_sam_estcounts), next(iter(dict_ko_sam_estcounts.keys()))"
   ]
  },
  {
   "cell_type": "code",
   "execution_count": 116,
   "metadata": {},
   "outputs": [
    {
     "data": {
      "text/plain": [
       "(58, 58)"
      ]
     },
     "execution_count": 116,
     "metadata": {},
     "output_type": "execute_result"
    }
   ],
   "source": [
    "nkos = 0\n",
    "kos = []\n",
    "for ko, dict_sam_estcounts in dict_ko_sam_estcounts.items():\n",
    "    ko_in_nsam = 0\n",
    "    for _, ec in dict_sam_estcounts.items():\n",
    "        ko_in_nsam += bool(ec)\n",
    "    if ko_in_nsam >= 4:\n",
    "        nkos += 1\n",
    "        kos.append(ko)\n",
    "len(kos), nkos"
   ]
  },
  {
   "cell_type": "code",
   "execution_count": 117,
   "metadata": {},
   "outputs": [
    {
     "data": {
      "text/plain": [
       "defaultdict(float,\n",
       "            {'G5.RR2.cont.T24.A.tsv': 108.04509999999999,\n",
       "             'G5.RR1.NPSiFe.T24.B.tsv': 0.0,\n",
       "             'G5.RR1.NPSi.T24.C.tsv': 0.0,\n",
       "             'G5.RR2.cont.T0.C.tsv': 25.957659999999997,\n",
       "             'G5.RR2.Fe.T24.C.tsv': 42.40392,\n",
       "             'G5.RR1.NP.T24.A.tsv': 0.0,\n",
       "             'G5.RR2.NPSi.T24.B.tsv': 254.74314999999999,\n",
       "             'G5.RR2.NPSiFe.T24.B.tsv': 497.13412000000005,\n",
       "             'G5.RR1.cont.T24.C.tsv': 0.0,\n",
       "             'G5.RR2.cont.T24.B.tsv': 231.88965,\n",
       "             'G5.RR1.NPSiFe.T24.A.tsv': 1.0,\n",
       "             'G5.RR2.NPSiFe.T24.A.tsv': 293.88901000000004,\n",
       "             'G5.RR1.NP.T24.B.tsv': 0.0,\n",
       "             'G5.RR2.NPSi.T24.A.tsv': 81.2798,\n",
       "             'G5.RR2.cont.T0.B.tsv': 1.0,\n",
       "             'G5.RR2.Fe.T24.B.tsv': 240.59587,\n",
       "             'G5.RR2.NPSi.T24.C.tsv': 368.1857,\n",
       "             'G5.RR2.NPSiFe.T24.C.tsv': 143.3511,\n",
       "             'G5.RR1.NPSiFe.T24.C.tsv': 1.0,\n",
       "             'G5.RR1.cont.T0.B.tsv': 0.0,\n",
       "             'G5.RR1.NPSi.T24.B.tsv': 1.0,\n",
       "             'G5.RR1.cont.T24.A.tsv': 0.0,\n",
       "             'G5.RR2.Fe.T24.A.tsv': 208.000078,\n",
       "             'G5.RR2.cont.T0.A.tsv': 16.158949999999997,\n",
       "             'G5.RR1.NP.T24.C.tsv': 2.0,\n",
       "             'G5.RR1.NPSi.T24.A.tsv': 0.0,\n",
       "             'G5.RR1.cont.T0.A.tsv': 2.0,\n",
       "             'G5.RR2.cont.T24.C.tsv': 56.9314,\n",
       "             'G5.RR1.cont.T24.B.tsv': 0.0})"
      ]
     },
     "execution_count": 117,
     "metadata": {},
     "output_type": "execute_result"
    }
   ],
   "source": [
    "dict_ko_sam_estcounts[kos[0]]"
   ]
  },
  {
   "cell_type": "markdown",
   "metadata": {},
   "source": [
    "Look at distribution of kos in two examples"
   ]
  },
  {
   "cell_type": "code",
   "execution_count": 161,
   "metadata": {},
   "outputs": [
    {
     "name": "stdout",
     "output_type": "stream",
     "text": [
      "Pelagomonas calceolata\n",
      "7283 contigs\n"
     ]
    },
    {
     "data": {
      "image/png": "[encoded data removed]",
      "text/plain": [
       "<Figure size 500x300 with 1 Axes>"
      ]
     },
     "metadata": {},
     "output_type": "display_data"
    },
    {
     "data": {
      "image/png": "[encoded data removed]",
      "text/plain": [
       "<Figure size 500x300 with 1 Axes>"
      ]
     },
     "metadata": {},
     "output_type": "display_data"
    },
    {
     "name": "stdout",
     "output_type": "stream",
     "text": [
      "Isochrysidaceae\n",
      "8 contigs\n"
     ]
    },
    {
     "data": {
      "image/png": "[encoded data removed]",
      "text/plain": [
       "<Figure size 500x300 with 1 Axes>"
      ]
     },
     "metadata": {},
     "output_type": "display_data"
    },
    {
     "data": {
      "image/png": "[encoded data removed]",
      "text/plain": [
       "<Figure size 500x300 with 1 Axes>"
      ]
     },
     "metadata": {},
     "output_type": "display_data"
    },
    {
     "name": "stdout",
     "output_type": "stream",
     "text": [
      "Mamiellophyceae\n",
      "56 contigs\n"
     ]
    },
    {
     "data": {
      "image/png": "[encoded data removed]",
      "text/plain": [
       "<Figure size 500x300 with 1 Axes>"
      ]
     },
     "metadata": {},
     "output_type": "display_data"
    },
    {
     "data": {
      "image/png": "[encoded data removed]",
      "text/plain": [
       "<Figure size 500x300 with 1 Axes>"
      ]
     },
     "metadata": {},
     "output_type": "display_data"
    }
   ],
   "source": [
    "tid_pos = '35677' # Pelagomonas calceolata\n",
    "tid_neg = '418951' # Isochrysidaceae\n",
    "tid_neg2 = '1035538' # mamiellophyceae\n",
    "\n",
    "tids = [tid_pos, tid_neg, tid_neg2]\n",
    "\n",
    "\n",
    "kos_all = set(list(t.dict_contig[t.col_ko].values()))\n",
    "sams_all = set([s for ss in t.dict_contig[t.col_sample].values() for s in ss])\n",
    "for tid in tids:\n",
    "    print(ncbi.get_taxid_translator([tid])[int(tid)])\n",
    "    contigs = t.dict_taxon_contigs[tid]\n",
    "    print(len(contigs), 'contigs')\n",
    "    dict_ko_sam_estcounts = defaultdict(lambda: defaultdict(float))\n",
    "    for c in contigs:\n",
    "        ko = t.dict_contig[t.col_ko][c]\n",
    "        estcounts = t.dict_contig[t.col_estcounts][c]\n",
    "        sams = t.dict_contig[t.col_sample][c]\n",
    "        for ec, s in zip(estcounts, sams):\n",
    "            dict_ko_sam_estcounts[ko][s] += float(ec)\n",
    "    ec_ko_list = []\n",
    "    for ko in kos_all:\n",
    "        if ko in dict_ko_sam_estcounts:\n",
    "            ec_sam_list = []\n",
    "            for s in sams_all:\n",
    "                ec_sam_list.append(dict_ko_sam_estcounts[ko].get(s,0))\n",
    "            ec_ko_list.append(np.array(ec_sam_list))\n",
    "        else:\n",
    "            ec_ko_list.append(np.zeros(len(sams_all)))\n",
    "    estc_arr = np.array(ec_ko_list)\n",
    "\n",
    "    estc_bool = estc_arr.astype(bool)\n",
    "    ax1_sum = estc_bool.sum(axis=1)\n",
    "    ax0_sum = estc_bool.sum(axis=0)\n",
    "\n",
    "    fig, ax = general_plot()\n",
    "    _ = ax.hist(ax0_sum, bins=20)\n",
    "    _ = ax.set_xlabel('Number of nonzero KOs')\n",
    "    _ = ax.set_ylabel('Number of samples')\n",
    "    plt.show()\n",
    "\n",
    "    fig, ax = general_plot()\n",
    "    _ = ax.hist(ax1_sum, bins=30)\n",
    "    _ = ax.set_xlabel('Number of nonzero samples')\n",
    "    _ = ax.set_ylabel('Number of KOs')\n",
    "    _ = ax.set_yscale('log')\n",
    "    plt.show()\n",
    "\n"
   ]
  },
  {
   "cell_type": "code",
   "execution_count": null,
   "metadata": {},
   "outputs": [],
   "source": []
  },
  {
   "cell_type": "code",
   "execution_count": 11,
   "metadata": {},
   "outputs": [],
   "source": [
    "import functions.fn_metat_files as fnf"
   ]
  },
  {
   "cell_type": "code",
   "execution_count": 41,
   "metadata": {},
   "outputs": [],
   "source": [
    "fn = fn_tidy\n",
    "col_key = 'contig'\n",
    "cols_val = ['KO', 'taxon', 'estcounts', 'sample']\n",
    "cols_key2list = ['estcounts', 'sample']\n",
    "cols_key2value = ['KO','taxon']"
   ]
  },
  {
   "cell_type": "code",
   "execution_count": 44,
   "metadata": {},
   "outputs": [
    {
     "name": "stdout",
     "output_type": "stream",
     "text": [
      "Current memory usage: 799.50 MB\n",
      "Current memory usage: 1643.50 MB\n"
     ]
    }
   ],
   "source": [
    "import csv\n",
    "import itertools\n",
    "\n",
    "fnf.getmem()\n",
    "with open(fn, 'r') as f:\n",
    "    csv_reader = csv.DictReader(f)\n",
    "    dict_out = defaultdict(lambda: defaultdict(list))\n",
    "    for dict_row in csv_reader:\n",
    "        key = dict_row[col_key]\n",
    "        for cv in cols_key2list:\n",
    "            dict_out[key][cv].append(dict_row[cv])\n",
    "        for cv in cols_key2value:\n",
    "            if not cv in dict_out[key]:\n",
    "                dict_out[key][cv] = dict_row[cv]\n",
    "\n",
    "    fnf.getmem()\n"
   ]
  },
  {
   "cell_type": "code",
   "execution_count": 45,
   "metadata": {},
   "outputs": [
    {
     "data": {
      "text/plain": [
       "defaultdict(list,\n",
       "            {'estcounts': ['0',\n",
       "              '4',\n",
       "              '0',\n",
       "              '3',\n",
       "              '0',\n",
       "              '0',\n",
       "              '0',\n",
       "              '0',\n",
       "              '0',\n",
       "              '0',\n",
       "              '0',\n",
       "              '0',\n",
       "              '0',\n",
       "              '0',\n",
       "              '0',\n",
       "              '0',\n",
       "              '0',\n",
       "              '0',\n",
       "              '0',\n",
       "              '0',\n",
       "              '0',\n",
       "              '5',\n",
       "              '5',\n",
       "              '0',\n",
       "              '0',\n",
       "              '0',\n",
       "              '0',\n",
       "              '0',\n",
       "              '0',\n",
       "              '12',\n",
       "              '0',\n",
       "              '0',\n",
       "              '0',\n",
       "              '0',\n",
       "              '11',\n",
       "              '0',\n",
       "              '0',\n",
       "              '0',\n",
       "              '0',\n",
       "              '0',\n",
       "              '0',\n",
       "              '0',\n",
       "              '0',\n",
       "              '5',\n",
       "              '0',\n",
       "              '5',\n",
       "              '0'],\n",
       "             'sample': ['S08C1',\n",
       "              'S14C1',\n",
       "              'S06C1',\n",
       "              'S14C1',\n",
       "              'S04C1',\n",
       "              'S08C1',\n",
       "              'S02C1',\n",
       "              'S06C1',\n",
       "              'S09C1',\n",
       "              'S04C1',\n",
       "              'S12C1',\n",
       "              'S09C1',\n",
       "              'S11C1',\n",
       "              'S14C1',\n",
       "              'S02C1',\n",
       "              'S08C1',\n",
       "              'S09C1',\n",
       "              'S06C1',\n",
       "              'S04C1',\n",
       "              'S09C1',\n",
       "              'S12C1',\n",
       "              'S02C1',\n",
       "              'S02C1',\n",
       "              'S12C1',\n",
       "              'S11C1',\n",
       "              'S10',\n",
       "              'S09C1',\n",
       "              'S06C1',\n",
       "              'S08C1',\n",
       "              'S14C1',\n",
       "              'S14C1',\n",
       "              'S13C1',\n",
       "              'S02C1',\n",
       "              'S04C1',\n",
       "              'S02C1',\n",
       "              'S12C1',\n",
       "              'S04C1',\n",
       "              'S11C1',\n",
       "              'S10',\n",
       "              'S09C1',\n",
       "              'S13C1',\n",
       "              'S13C1',\n",
       "              'S08C1',\n",
       "              'S14C1',\n",
       "              'S06C1',\n",
       "              'S04C1',\n",
       "              'S08C1'],\n",
       "             'KO': 'K00134',\n",
       "             'taxon': '131567'})"
      ]
     },
     "execution_count": 45,
     "metadata": {},
     "output_type": "execute_result"
    }
   ],
   "source": [
    "dict_out['G1PA_S02C1_0_2um_TRINITY_DN1020701_c0_g1_i1_3']"
   ]
  },
  {
   "cell_type": "code",
   "execution_count": 43,
   "metadata": {},
   "outputs": [
    {
     "name": "stdout",
     "output_type": "stream",
     "text": [
      "Current memory usage: 799.50 MB\n"
     ]
    }
   ],
   "source": [
    "del dict_out\n",
    "gc.collect()\n",
    "fnf.getmem()"
   ]
  },
  {
   "cell_type": "code",
   "execution_count": 32,
   "metadata": {},
   "outputs": [
    {
     "name": "stdout",
     "output_type": "stream",
     "text": [
      "Current memory usage: 753.70 MB\n",
      "Current memory usage: 1574.14 MB\n"
     ]
    }
   ],
   "source": [
    "fnf.getmem()\n",
    "with open(fn, 'r') as f:\n",
    "    csv_reader = csv.DictReader(f)\n",
    "    dict_out = defaultdict(list)\n",
    "    for dict_row in csv_reader:\n",
    "        key = dict_row[col_key]\n",
    "        if not key in dict_out:\n",
    "            for cv in cols_key2value:\n",
    "                dict_out[key].append(dict_row[cv])\n",
    "        for cv in cols_key2list:\n",
    "            dict_out[key].append(dict_row[cv])\n",
    "\n",
    "    fnf.getmem()"
   ]
  },
  {
   "cell_type": "code",
   "execution_count": 53,
   "metadata": {},
   "outputs": [
    {
     "name": "stdout",
     "output_type": "stream",
     "text": [
      "Current memory usage: 2435.11 MB\n"
     ]
    }
   ],
   "source": [
    "del dict_out\n",
    "gc.collect()\n",
    "fnf.getmem()"
   ]
  },
  {
   "cell_type": "code",
   "execution_count": 54,
   "metadata": {},
   "outputs": [
    {
     "name": "stdout",
     "output_type": "stream",
     "text": [
      "Current memory usage: 2435.11 MB\n",
      "Current memory usage: 3168.67 MB\n"
     ]
    }
   ],
   "source": [
    "fnf.getmem()\n",
    "\n",
    "cols_key2list = ['estcounts', 'sample']\n",
    "cols_key2value = ['KO','taxon']\n",
    "dicts_out_val = [{} for _ in cols_key2value]\n",
    "dicts_out_list = [defaultdict(list) for _ in cols_key2list]\n",
    "\n",
    "with open(fn, 'r') as f:\n",
    "    csv_reader = csv.DictReader(f)\n",
    "    for dict_row in csv_reader:\n",
    "        k = dict_row[col_key]\n",
    "        for i, v in enumerate(cols_key2value):\n",
    "            dicts_out_val[i][k] = dict_row[v]\n",
    "        for i, v in enumerate(cols_key2list):\n",
    "            dicts_out_list[i][k].append(dict_row[v])\n",
    "\n",
    "fnf.getmem()\n"
   ]
  },
  {
   "cell_type": "code",
   "execution_count": 55,
   "metadata": {},
   "outputs": [
    {
     "data": {
      "text/plain": [
       "'K00134'"
      ]
     },
     "execution_count": 55,
     "metadata": {},
     "output_type": "execute_result"
    }
   ],
   "source": [
    "dicts_out_val[0]['G1PA_S02C1_0_2um_TRINITY_DN1020701_c0_g1_i1_3']"
   ]
  },
  {
   "cell_type": "code",
   "execution_count": 52,
   "metadata": {},
   "outputs": [
    {
     "name": "stdout",
     "output_type": "stream",
     "text": [
      "Current memory usage: 3231.04 MB\n"
     ]
    }
   ],
   "source": [
    "del dicts_out_list, dicts_out_val\n",
    "gc.collect()\n",
    "fnf.getmem()"
   ]
  },
  {
   "cell_type": "code",
   "execution_count": 23,
   "metadata": {},
   "outputs": [
    {
     "data": {
      "text/plain": [
       "'G1PA_S02C1_0_2um_TRINITY_DN1020701_c0_g1_i1_3'"
      ]
     },
     "execution_count": 23,
     "metadata": {},
     "output_type": "execute_result"
    }
   ],
   "source": [
    "next(iter(dict_out.keys()))"
   ]
  },
  {
   "cell_type": "code",
   "execution_count": 29,
   "metadata": {},
   "outputs": [
    {
     "data": {
      "text/plain": [
       "False"
      ]
     },
     "execution_count": 29,
     "metadata": {},
     "output_type": "execute_result"
    }
   ],
   "source": [
    "not 'G1PA_S02C1_0_2um_TRINITY_DN1020701_c0_g1_i1_3' in dict_out"
   ]
  },
  {
   "cell_type": "code",
   "execution_count": 24,
   "metadata": {},
   "outputs": [
    {
     "data": {
      "text/plain": [
       "defaultdict(list,\n",
       "            {'estcounts': ['0',\n",
       "              '4',\n",
       "              '0',\n",
       "              '3',\n",
       "              '0',\n",
       "              '0',\n",
       "              '0',\n",
       "              '0',\n",
       "              '0',\n",
       "              '0',\n",
       "              '0',\n",
       "              '0',\n",
       "              '0',\n",
       "              '0',\n",
       "              '0',\n",
       "              '0',\n",
       "              '0',\n",
       "              '0',\n",
       "              '0',\n",
       "              '0',\n",
       "              '0',\n",
       "              '5',\n",
       "              '5',\n",
       "              '0',\n",
       "              '0',\n",
       "              '0',\n",
       "              '0',\n",
       "              '0',\n",
       "              '0',\n",
       "              '12',\n",
       "              '0',\n",
       "              '0',\n",
       "              '0',\n",
       "              '0',\n",
       "              '11',\n",
       "              '0',\n",
       "              '0',\n",
       "              '0',\n",
       "              '0',\n",
       "              '0',\n",
       "              '0',\n",
       "              '0',\n",
       "              '0',\n",
       "              '5',\n",
       "              '0',\n",
       "              '5',\n",
       "              '0']})"
      ]
     },
     "execution_count": 24,
     "metadata": {},
     "output_type": "execute_result"
    }
   ],
   "source": [
    "dict_out['G1PA_S02C1_0_2um_TRINITY_DN1020701_c0_g1_i1_3']"
   ]
  },
  {
   "cell_type": "code",
   "execution_count": 15,
   "metadata": {},
   "outputs": [
    {
     "name": "stdout",
     "output_type": "stream",
     "text": [
      "Current memory usage: 704.36 MB\n",
      "Current memory usage: 5301.89 MB\n"
     ]
    }
   ],
   "source": [
    "fnf.getmem()\n",
    "dict_contig = fnf.tidytable_to_dict(fn, col_key, cols_val)\n",
    "fnf.getmem()\n"
   ]
  },
  {
   "cell_type": "code",
   "execution_count": 16,
   "metadata": {},
   "outputs": [
    {
     "data": {
      "text/plain": [
       "10485864"
      ]
     },
     "execution_count": 16,
     "metadata": {},
     "output_type": "execute_result"
    }
   ],
   "source": [
    "sys.getsizeof(dict_contig)"
   ]
  },
  {
   "cell_type": "code",
   "execution_count": 31,
   "metadata": {},
   "outputs": [
    {
     "data": {
      "text/plain": [
       "5242976"
      ]
     },
     "execution_count": 31,
     "metadata": {},
     "output_type": "execute_result"
    }
   ],
   "source": [
    "sys.getsizeof(dict_out)"
   ]
  },
  {
   "cell_type": "code",
   "execution_count": 38,
   "metadata": {},
   "outputs": [
    {
     "data": {
      "text/plain": [
       "5242976"
      ]
     },
     "execution_count": 38,
     "metadata": {},
     "output_type": "execute_result"
    }
   ],
   "source": [
    "sys.getsizeof(dict_out)"
   ]
  },
  {
   "cell_type": "code",
   "execution_count": 32,
   "metadata": {},
   "outputs": [
    {
     "name": "stderr",
     "output_type": "stream",
     "text": [
      "IOPub data rate exceeded.\n",
      "The Jupyter server will temporarily stop sending output\n",
      "to the client in order to avoid crashing it.\n",
      "To change this limit, set the config variable\n",
      "`--ServerApp.iopub_data_rate_limit`.\n",
      "\n",
      "Current values:\n",
      "ServerApp.iopub_data_rate_limit=1000000.0 (bytes/sec)\n",
      "ServerApp.rate_limit_window=3.0 (secs)\n",
      "\n"
     ]
    },
    {
     "ename": "KeyboardInterrupt",
     "evalue": "",
     "output_type": "error",
     "traceback": [
      "\u001b[0;31m---------------------------------------------------------------------------\u001b[0m",
      "\u001b[0;31mKeyboardInterrupt\u001b[0m                         Traceback (most recent call last)",
      "Cell \u001b[0;32mIn[32], line 5\u001b[0m\n\u001b[1;32m      3\u001b[0m \u001b[38;5;28mprint\u001b[39m(\u001b[38;5;28mnext\u001b[39m(csv_reader, \u001b[38;5;28;01mNone\u001b[39;00m))\n\u001b[1;32m      4\u001b[0m \u001b[38;5;28;01mfor\u001b[39;00m row \u001b[38;5;129;01min\u001b[39;00m csv_reader:\n\u001b[0;32m----> 5\u001b[0m     \u001b[38;5;28;43mprint\u001b[39;49m\u001b[43m(\u001b[49m\u001b[43mrow\u001b[49m\u001b[43m)\u001b[49m\n",
      "File \u001b[0;32m/opt/conda/lib/python3.10/site-packages/ipykernel/iostream.py:681\u001b[0m, in \u001b[0;36mOutStream.write\u001b[0;34m(self, string)\u001b[0m\n\u001b[1;32m    678\u001b[0m     msg \u001b[38;5;241m=\u001b[39m \u001b[38;5;124m\"\u001b[39m\u001b[38;5;124mI/O operation on closed file\u001b[39m\u001b[38;5;124m\"\u001b[39m\n\u001b[1;32m    679\u001b[0m     \u001b[38;5;28;01mraise\u001b[39;00m \u001b[38;5;167;01mValueError\u001b[39;00m(msg)\n\u001b[0;32m--> 681\u001b[0m is_child \u001b[38;5;241m=\u001b[39m \u001b[38;5;129;01mnot\u001b[39;00m \u001b[38;5;28;43mself\u001b[39;49m\u001b[38;5;241;43m.\u001b[39;49m\u001b[43m_is_master_process\u001b[49m\u001b[43m(\u001b[49m\u001b[43m)\u001b[49m\n\u001b[1;32m    682\u001b[0m \u001b[38;5;66;03m# only touch the buffer in the IO thread to avoid races\u001b[39;00m\n\u001b[1;32m    683\u001b[0m \u001b[38;5;28;01mwith\u001b[39;00m \u001b[38;5;28mself\u001b[39m\u001b[38;5;241m.\u001b[39m_buffer_lock:\n",
      "File \u001b[0;32m/opt/conda/lib/python3.10/site-packages/ipykernel/iostream.py:551\u001b[0m, in \u001b[0;36mOutStream._is_master_process\u001b[0;34m(self)\u001b[0m\n\u001b[1;32m    550\u001b[0m \u001b[38;5;28;01mdef\u001b[39;00m\u001b[38;5;250m \u001b[39m\u001b[38;5;21m_is_master_process\u001b[39m(\u001b[38;5;28mself\u001b[39m):\n\u001b[0;32m--> 551\u001b[0m     \u001b[38;5;28;01mreturn\u001b[39;00m \u001b[43mos\u001b[49m\u001b[38;5;241;43m.\u001b[39;49m\u001b[43mgetpid\u001b[49m\u001b[43m(\u001b[49m\u001b[43m)\u001b[49m \u001b[38;5;241m==\u001b[39m \u001b[38;5;28mself\u001b[39m\u001b[38;5;241m.\u001b[39m_master_pid\n",
      "\u001b[0;31mKeyboardInterrupt\u001b[0m: "
     ]
    }
   ],
   "source": [
    "with open(fn, 'r') as f:\n",
    "    csv_reader = csv.reader(f)\n",
    "    print(next(csv_reader, None))\n",
    "    for row in csv_reader:\n",
    "        print(row)\n",
    "\n"
   ]
  },
  {
   "cell_type": "code",
   "execution_count": 29,
   "metadata": {},
   "outputs": [
    {
     "data": {
      "text/plain": [
       "True"
      ]
     },
     "execution_count": 29,
     "metadata": {},
     "output_type": "execute_result"
    }
   ],
   "source": [
    "gc.isenabled()"
   ]
  },
  {
   "cell_type": "code",
   "execution_count": 25,
   "metadata": {},
   "outputs": [
    {
     "data": {
      "text/plain": [
       "2.4e-05"
      ]
     },
     "execution_count": 25,
     "metadata": {},
     "output_type": "execute_result"
    }
   ],
   "source": [
    "sys.getsizeof() / 1e6"
   ]
  },
  {
   "cell_type": "code",
   "execution_count": null,
   "metadata": {},
   "outputs": [],
   "source": [
    "dict_contig['G3PA.UW1_TRINITY_DN1000146_c1_g1_i1_1']['KO'][0]"
   ]
  },
  {
   "cell_type": "code",
   "execution_count": 101,
   "metadata": {},
   "outputs": [],
   "source": [
    "dict_contig_taxon = {}\n",
    "dict_contig_ko = {}\n",
    "dict_contig_estcounts = {}\n",
    "dict_contig_samples = {}\n",
    "for c, d in dict_contig.items():\n",
    "    dict_contig_taxon[c] = d['taxon'][0]\n",
    "    dict_contig_ko[c] = d['KO'][0]\n",
    "    dict_contig_estcounts[c] = d['estcounts']\n",
    "    dict_contig_samples[c] = d['sample']"
   ]
  },
  {
   "cell_type": "code",
   "execution_count": null,
   "metadata": {},
   "outputs": [],
   "source": [
    "dict_contig_taxon['G3PA.UW1_TRINITY_DN1000146_c1_g1_i1_1']"
   ]
  },
  {
   "cell_type": "code",
   "execution_count": 20,
   "metadata": {},
   "outputs": [],
   "source": [
    "notempty = 0\n",
    "empty = 0\n",
    "for c, ec in t.dict_contig_estcounts.items():\n",
    "    ec = [float(i) for i in ec]\n",
    "    if sum(ec) > 0:\n",
    "        notempty += 1\n",
    "    else:\n",
    "        empty += 1"
   ]
  },
  {
   "cell_type": "code",
   "execution_count": 22,
   "metadata": {},
   "outputs": [
    {
     "data": {
      "text/plain": [
       "(307668, 38266)"
      ]
     },
     "execution_count": 22,
     "metadata": {},
     "output_type": "execute_result"
    }
   ],
   "source": [
    "notempty, empty"
   ]
  },
  {
   "cell_type": "code",
   "execution_count": 23,
   "metadata": {},
   "outputs": [
    {
     "name": "stdout",
     "output_type": "stream",
     "text": [
      "Current memory usage: 5141.08 MB\n"
     ]
    }
   ],
   "source": [
    "fnf.getmem()\n"
   ]
  },
  {
   "cell_type": "code",
   "execution_count": null,
   "metadata": {},
   "outputs": [],
   "source": []
  }
 ],
 "metadata": {
  "kernelspec": {
   "display_name": "Python 3 (ipykernel)",
   "language": "python",
   "name": "python3"
  },
  "language_info": {
   "codemirror_mode": {
    "name": "ipython",
    "version": 3
   },
   "file_extension": ".py",
   "mimetype": "text/x-python",
   "name": "python",
   "nbconvert_exporter": "python",
   "pygments_lexer": "ipython3",
   "version": "3.10.16"
  }
 },
 "nbformat": 4,
 "nbformat_minor": 2
}
