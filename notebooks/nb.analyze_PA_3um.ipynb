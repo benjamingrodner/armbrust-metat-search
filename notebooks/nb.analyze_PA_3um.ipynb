{
 "cells": [
  {
   "cell_type": "markdown",
   "metadata": {},
   "source": [
    "# Isolate PA selection of 3um filter\n",
    "\n",
    "Given a table with sample x KO populated with normalized counts, make interesting plots"
   ]
  },
  {
   "cell_type": "markdown",
   "metadata": {},
   "source": [
    "## Setup"
   ]
  },
  {
   "cell_type": "code",
   "execution_count": 1,
   "metadata": {},
   "outputs": [],
   "source": [
    "import os \n",
    "import re\n",
    "import glob\n",
    "import math\n",
    "import umap\n",
    "import numpy as np\n",
    "import pandas as pd\n",
    "from time import time\n",
    "from scipy import stats\n",
    "from collections import * \n",
    "from sklearn import cluster\n",
    "from sklearn import decomposition\n",
    "import matplotlib.pyplot as plt\n",
    "import matplotlib.colors as pltc\n",
    "from scipy.spatial import distance\n",
    "from scipy.cluster import hierarchy\n",
    "from matplotlib.lines import Line2D\n",
    "import matplotlib.patches as mpatches"
   ]
  },
  {
   "cell_type": "code",
   "execution_count": 2,
   "metadata": {},
   "outputs": [],
   "source": [
    "os.getcwd()"
   ]
  },
  {
   "cell_type": "code",
   "execution_count": 3,
   "metadata": {},
   "outputs": [],
   "source": [
    "workdir = '/scratch/bgrodner/iron_ko_contigs'\n",
    "os.chdir(workdir)\n"
   ]
  },
  {
   "cell_type": "code",
   "execution_count": 288,
   "metadata": {},
   "outputs": [],
   "source": [
    "os.getcwd()"
   ]
  },
  {
   "cell_type": "code",
   "execution_count": 5,
   "metadata": {},
   "outputs": [],
   "source": [
    "os.listdir()"
   ]
  },
  {
   "cell_type": "markdown",
   "metadata": {},
   "source": [
    "Plotting"
   ]
  },
  {
   "cell_type": "code",
   "execution_count": 15,
   "metadata": {},
   "outputs": [],
   "source": [
    "def general_plot(\n",
    "    xlabel=\"\", ylabel=\"\", ft=12, dims=(5, 3), col=\"k\", lw=1, pad=0, tr_spines=True\n",
    "):\n",
    "    fig, ax = plt.subplots(figsize=(dims[0], dims[1]), tight_layout={\"pad\": pad})\n",
    "    for i in ax.spines:\n",
    "        ax.spines[i].set_linewidth(lw)\n",
    "    if not tr_spines:\n",
    "        ax.spines[\"top\"].set_visible(False)\n",
    "        ax.spines[\"right\"].set_visible(False)\n",
    "    else:\n",
    "        ax.spines[\"top\"].set_color(col)\n",
    "        ax.spines[\"right\"].set_color(col)\n",
    "    ax.spines[\"bottom\"].set_color(col)\n",
    "    ax.spines[\"left\"].set_color(col)\n",
    "    ax.tick_params(direction=\"in\", labelsize=ft, color=col, labelcolor=col)\n",
    "    ax.set_xlabel(xlabel, fontsize=ft, color=col)\n",
    "    ax.set_ylabel(ylabel, fontsize=ft, color=col)\n",
    "    ax.patch.set_alpha(0)\n",
    "    return (fig, ax)\n",
    "\n",
    "def plot_umap(\n",
    "    embedding,\n",
    "    figsize=(10, 10),\n",
    "    markersize=10,\n",
    "    alpha=0.5,\n",
    "    colors=\"k\",\n",
    "    xticks=[],\n",
    "    yticks=[],\n",
    "    markerstyle='o',\n",
    "    cmap_name='tab20',\n",
    "    cl_lab=False\n",
    "):\n",
    "    fig, ax = general_plot(dims=figsize)\n",
    "    if isinstance(markerstyle, str):\n",
    "        ax.scatter(\n",
    "            embedding[:, 0],\n",
    "            embedding[:, 1],\n",
    "            s=markersize,\n",
    "            alpha=alpha,\n",
    "            c=colors,\n",
    "            edgecolors=\"none\",\n",
    "            marker=markerstyle,\n",
    "            cmap=cmap_name\n",
    "        )\n",
    "    else:\n",
    "        for e0, e1, c, m in zip(\n",
    "            embedding[:, 0], \n",
    "            embedding[:, 1],\n",
    "            colors,\n",
    "            markerstyle \n",
    "        ):\n",
    "            ax.scatter(\n",
    "                e0,\n",
    "                e1,\n",
    "                s=markersize,\n",
    "                alpha=alpha,\n",
    "                c=c,\n",
    "                edgecolors=\"none\",\n",
    "                marker=m\n",
    "            )\n",
    "    ax.set_aspect(\"equal\")\n",
    "    if len(xticks) > 0:\n",
    "        ax.set_xticks(xticks)\n",
    "    if len(yticks) > 0:\n",
    "        ax.set_yticks(yticks)\n",
    "    ax.set_xlabel(\"UMAP 1\")\n",
    "    ax.set_ylabel(\"UMAP 2\")\n",
    "    return fig, ax\n"
   ]
  },
  {
   "cell_type": "markdown",
   "metadata": {},
   "source": [
    "## Load table and inspect"
   ]
  },
  {
   "cell_type": "code",
   "execution_count": 109,
   "metadata": {},
   "outputs": [],
   "source": [
    "dir_combined = 'metat_search_results/dicts_iron_KO_contig/dicts_contig_count/tables_norm_count/combined'\n",
    "fn_table_sample_ko_norm_counts = f'{dir_combined}/iron_KOs.txt-table_samples_KOs_norm_count.csv'\n",
    "\n",
    "table = pd.read_csv(fn_table_sample_ko_norm_counts)\n",
    "table.shape"
   ]
  },
  {
   "cell_type": "code",
   "execution_count": 7,
   "metadata": {},
   "outputs": [],
   "source": [
    "table.columns[:11]"
   ]
  },
  {
   "cell_type": "code",
   "execution_count": 8,
   "metadata": {},
   "outputs": [],
   "source": [
    "table[:3]"
   ]
  },
  {
   "cell_type": "markdown",
   "metadata": {},
   "source": [
    "### Get KO dict"
   ]
  },
  {
   "cell_type": "markdown",
   "metadata": {},
   "source": [
    "Get dataframe"
   ]
  },
  {
   "cell_type": "code",
   "execution_count": 9,
   "metadata": {},
   "outputs": [],
   "source": [
    "ko_fn = \"ko00001.json\"\n",
    "database = list()\n",
    "for _, v in pd.read_json(ko_fn).iterrows():\n",
    "    d = v[\"children\"]\n",
    "    cat_1 = d[\"name\"]\n",
    "    for child_1 in d[\"children\"]:\n",
    "        cat_2 = child_1[\"name\"] # Module?\n",
    "        for child_2 in child_1[\"children\"]:\n",
    "            cat_3 = child_2[\"name\"]\n",
    "            if \"children\" in child_2:\n",
    "                for child_3 in child_2[\"children\"]:\n",
    "                    cat_4 = child_3[\"name\"]\n",
    "                    fields = [cat_1, cat_2, cat_3, cat_4]\n",
    "                    database.append(fields)\n",
    "df_kegg = pd.DataFrame(database, columns=[\"Level_A\", \"Level_B\", \"Level_C\", \"Level_D\"])\n",
    "df_kegg.shape\n"
   ]
  },
  {
   "cell_type": "code",
   "execution_count": 10,
   "metadata": {},
   "outputs": [],
   "source": [
    "ld = df_kegg['Level_D'].values\n",
    "ld[:5]"
   ]
  },
  {
   "cell_type": "code",
   "execution_count": 11,
   "metadata": {},
   "outputs": [],
   "source": [
    "dict_ko_name = {}\n",
    "for name in ld:\n",
    "    ko = re.search(r\"^\\w+\",name)[0]\n",
    "    dict_ko_name[ko] = name"
   ]
  },
  {
   "cell_type": "markdown",
   "metadata": {},
   "source": [
    "## Inspect G1PA 3um"
   ]
  },
  {
   "cell_type": "markdown",
   "metadata": {},
   "source": [
    "Subset table"
   ]
  },
  {
   "cell_type": "code",
   "execution_count": 110,
   "metadata": {},
   "outputs": [],
   "source": [
    "bool_ass = table['assembly'] == 'G1PA'\n",
    "bool_size = table['size'] == '3um'\n",
    "table_sub = table[bool_ass & bool_size]\n",
    "table_sub.shape"
   ]
  },
  {
   "cell_type": "markdown",
   "metadata": {},
   "source": [
    "Numer of nonzero samples for each ko"
   ]
  },
  {
   "cell_type": "code",
   "execution_count": 111,
   "metadata": {},
   "outputs": [],
   "source": [
    "ko_list = table.columns[10:]\n",
    "ko_list[:5]"
   ]
  },
  {
   "cell_type": "code",
   "execution_count": 63,
   "metadata": {},
   "outputs": [],
   "source": [
    "filt_nsam = 15\n",
    "\n",
    "n_nonzero = []\n",
    "for ko in ko_list:\n",
    "    sc = table_sub[ko].values.astype(bool)\n",
    "    n_nonzero.append(sc.sum())\n",
    "\n",
    "fig, ax = general_plot()\n",
    "ax.scatter(np.arange(len(n_nonzero)), np.sort(n_nonzero))\n",
    "xlims = ax.get_xlim()\n",
    "ax.plot(xlims, [filt_nsam]*2, 'r')\n",
    "ax.set_ylabel('Number of nonzero samples')\n",
    "ax.set_xlabel('KO')"
   ]
  },
  {
   "cell_type": "markdown",
   "metadata": {},
   "source": [
    "Number of nonzero KOs for each sample"
   ]
  },
  {
   "cell_type": "code",
   "execution_count": 21,
   "metadata": {},
   "outputs": [],
   "source": [
    "n_sam_nonzero = []\n",
    "table_sub_vals = table_sub.iloc[:,10:].values\n",
    "for sc in table_sub_vals:\n",
    "    n_sam_nonzero.append(sc.astype(bool).sum())\n",
    "\n",
    "fig, ax = general_plot()\n",
    "ax.scatter(np.arange(len(n_sam_nonzero)), np.sort(n_sam_nonzero))\n",
    "ax.set_ylabel('Number of nonzero KOs')\n",
    "ax.set_xlabel('Sample')"
   ]
  },
  {
   "cell_type": "markdown",
   "metadata": {},
   "source": [
    "Filter for genes present in many samples"
   ]
  },
  {
   "cell_type": "code",
   "execution_count": 25,
   "metadata": {},
   "outputs": [],
   "source": [
    "bool_ko = np.array(n_nonzero) > filt_nsam\n",
    "ko_list_filt = np.array(ko_list)[bool_ko]\n",
    "table_sub_vals_filt = table_sub_vals[:,bool_ko]"
   ]
  },
  {
   "cell_type": "markdown",
   "metadata": {},
   "source": [
    "### Correlation between log fraction of total counts"
   ]
  },
  {
   "cell_type": "code",
   "execution_count": 26,
   "metadata": {},
   "outputs": [],
   "source": [
    "dict_ko_counts = {}\n",
    "for ko in ko_list_filt:\n",
    "    dict_ko_counts[ko] = table_sub[ko].values"
   ]
  },
  {
   "cell_type": "code",
   "execution_count": 35,
   "metadata": {},
   "outputs": [],
   "source": [
    "total_counts_sub = table_sub['sample_sum_counts'].values\n",
    "\n",
    "nkos = len(ko_list_filt)\n",
    "arr_corr_rel = np.zeros((nkos,nkos,2))\n",
    "for i, koi in enumerate(ko_list_filt):\n",
    "    ci = dict_ko_counts[koi] / total_counts_sub\n",
    "    booli = ci.astype(bool)\n",
    "    for j, koj in enumerate(ko_list_filt):\n",
    "        if i < j:\n",
    "            cj = dict_ko_counts[koj] / total_counts_sub\n",
    "            boolj = cj.astype(bool)\n",
    "            bools = booli*boolj\n",
    "            if sum(bools):\n",
    "                cib = ci[bools]\n",
    "                cjb = cj[bools]\n",
    "                cibl = np.log(cib)\n",
    "                cjbl = np.log(cjb)\n",
    "                res = stats.spearmanr(cibl,cjbl)\n",
    "                stat = res.statistic\n",
    "                pval = res.pvalue\n",
    "            else:\n",
    "                stat = 0\n",
    "                pval = 1\n",
    "            arr_corr_rel[i,j,:] = [stat, pval]"
   ]
  },
  {
   "cell_type": "markdown",
   "metadata": {},
   "source": [
    "Get both corners of array"
   ]
  },
  {
   "cell_type": "code",
   "execution_count": 36,
   "metadata": {},
   "outputs": [],
   "source": [
    "arr_cor_rel_nonan = np.nan_to_num(arr_corr_rel)\n",
    "arr_corr_rel_stat = arr_cor_rel_nonan[:,:,0]\n",
    "arr_corr_rel_stat_full = arr_corr_rel_stat + np.transpose(arr_corr_rel_stat)"
   ]
  },
  {
   "cell_type": "markdown",
   "metadata": {},
   "source": [
    "Get linkage"
   ]
  },
  {
   "cell_type": "code",
   "execution_count": 37,
   "metadata": {},
   "outputs": [],
   "source": [
    "lnk = hierarchy.linkage(arr_corr_rel_stat_full)\n",
    "fig = plt.figure(figsize=(40,10))\n",
    "dn = hierarchy.dendrogram(lnk)\n",
    "plt.show()"
   ]
  },
  {
   "cell_type": "markdown",
   "metadata": {},
   "source": [
    "Get linkage order"
   ]
  },
  {
   "cell_type": "code",
   "execution_count": 38,
   "metadata": {},
   "outputs": [],
   "source": [
    "ko_order = hierarchy.leaves_list(lnk)"
   ]
  },
  {
   "cell_type": "markdown",
   "metadata": {},
   "source": [
    "Map index to KO"
   ]
  },
  {
   "cell_type": "code",
   "execution_count": 115,
   "metadata": {},
   "outputs": [],
   "source": [
    "dict_idx_koname = {}\n",
    "for idx, ogidx in enumerate(ko_order):\n",
    "    ko = ko_list_filt[ogidx]\n",
    "    koname = dict_ko_name[ko]\n",
    "    dict_idx_koname[idx] = koname"
   ]
  },
  {
   "cell_type": "markdown",
   "metadata": {},
   "source": [
    "Reorder matrix rows"
   ]
  },
  {
   "cell_type": "code",
   "execution_count": 116,
   "metadata": {},
   "outputs": [],
   "source": [
    "dict_idx_row = {i: r for i, r in enumerate(arr_corr_rel_stat_full)}\n",
    "arr_new = []\n",
    "for idx in ko_order:\n",
    "    arr_new.append(dict_idx_row[idx])\n",
    "arr_new = np.array(arr_new)"
   ]
  },
  {
   "cell_type": "markdown",
   "metadata": {},
   "source": [
    "Reorder matrix columns"
   ]
  },
  {
   "cell_type": "code",
   "execution_count": 117,
   "metadata": {},
   "outputs": [],
   "source": [
    "dict_idx_row = {i: r for i, r in enumerate(arr_new.T)}\n",
    "arr_corr_rel_stat_full_order = []\n",
    "for idx in ko_order:\n",
    "    arr_corr_rel_stat_full_order.append(dict_idx_row[idx])\n",
    "arr_corr_rel_stat_full_order = np.array(arr_corr_rel_stat_full_order)"
   ]
  },
  {
   "cell_type": "markdown",
   "metadata": {},
   "source": [
    "Plot clustered matrix"
   ]
  },
  {
   "cell_type": "code",
   "execution_count": 118,
   "metadata": {},
   "outputs": [],
   "source": [
    "plt.imshow(arr_corr_rel_stat_full_order, cmap='coolwarm')\n",
    "plt.colorbar()"
   ]
  },
  {
   "cell_type": "markdown",
   "metadata": {},
   "source": [
    "New cluster"
   ]
  },
  {
   "cell_type": "code",
   "execution_count": 119,
   "metadata": {},
   "outputs": [],
   "source": [
    "tselect=1.8\n",
    "\n",
    "clusters = hierarchy.fcluster(lnk, tselect, criterion='distance')\n",
    "clusters_sort = []\n",
    "cl_sort_order = []\n",
    "for idx in ko_order:\n",
    "    cl = clusters[idx]\n",
    "    clusters_sort.append(cl)\n",
    "    if cl not in cl_sort_order:\n",
    "        # Order of clusters\n",
    "        cl_sort_order.append(cl)\n",
    "\n",
    "# Rename so that cluster values are increasing when sorted\n",
    "# This makes is to that tab20 separates better\n",
    "dict_cl_new_cl = {cl:i+1 for i, cl in enumerate(cl_sort_order)}\n",
    "clusters_sort_new = [dict_cl_new_cl[cl] for cl in clusters_sort]\n",
    "\n",
    "# now make a new colormap\n",
    "cmap_list = list(plt.get_cmap('tab20').colors)\n",
    "factor = math.ceil(len(cl_sort_order) / 20)\n",
    "cmap_list *= factor\n",
    "cmap_list = cmap_list[:len(clusters_sort_new)]\n",
    "cmap = pltc.ListedColormap(cmap_list)\n"
   ]
  },
  {
   "cell_type": "code",
   "execution_count": 120,
   "metadata": {},
   "outputs": [],
   "source": [
    "dims=(10,10)\n",
    "\n",
    "\n",
    "\n",
    "clusters_plot = np.vstack([clusters_sort_new]*2)\n",
    "fig = plt.figure(figsize=dims)\n",
    "axs = {\n",
    "    0: fig.add_axes([0.05, 0.955, 0.9, 0.025]),\n",
    "    1: fig.add_axes([0.05, 0.05, 0.9, 0.9]),\n",
    "}\n",
    "axs[0].imshow(clusters_plot, cmap=cmap, aspect='auto')\n",
    "axs[0].set_axis_off()\n",
    "axs[1].imshow(arr_corr_rel_stat_full_order, cmap='coolwarm', origin='upper')\n",
    "axs[1].set_yticks([])\n",
    "axs[1].set_xticks(np.arange(25, arr_corr_rel_stat_full_order.shape[1],25))\n",
    "# axs[1].invert_yaxis()\n",
    "axs[1].xaxis.tick_top()\n",
    "axs[1].set_ylim(arr_corr_rel_stat_full_order.shape[0], 0)\n",
    "axs[1].set_xlim(0,arr_corr_rel_stat_full_order.shape[1])\n",
    "for sp in axs[1].spines:\n",
    "    axs[1].spines[sp].set_visible(False)\n",
    "\n",
    "\n",
    "idxs = [65,76]\n",
    "for idx in idxs:\n",
    "    axs[1].plot([idx,idx],[1,arr_corr_rel_stat_full_order.shape[0]], 'k', alpha=0.5)\n",
    "\n",
    "plt.show()\n",
    "\n",
    "\n",
    "# print([int(i) for i in clusters_sort[idxs[0]:idxs[-1]]])\n",
    "\n",
    "for i in range(idxs[0],idxs[-1]+1):\n",
    "    print(f'Cluster:: {clusters_sort[i]}\\tKO: {dict_idx_koname[i]}')\n",
    "    "
   ]
  },
  {
   "cell_type": "markdown",
   "metadata": {},
   "source": [
    "New cluster"
   ]
  },
  {
   "cell_type": "code",
   "execution_count": 121,
   "metadata": {},
   "outputs": [],
   "source": [
    "tselect=2.2\n",
    "\n",
    "clusters = hierarchy.fcluster(lnk, tselect, criterion='distance')\n",
    "clusters_sort = []\n",
    "cl_sort_order = []\n",
    "for idx in ko_order:\n",
    "    cl = clusters[idx]\n",
    "    clusters_sort.append(cl)\n",
    "    if cl not in cl_sort_order:\n",
    "        # Order of clusters\n",
    "        cl_sort_order.append(cl)\n",
    "\n",
    "# Rename so that cluster values are increasing when sorted\n",
    "# This makes is to that tab20 separates better\n",
    "dict_cl_new_cl = {cl:i+1 for i, cl in enumerate(cl_sort_order)}\n",
    "clusters_sort_new = [dict_cl_new_cl[cl] for cl in clusters_sort]\n",
    "\n",
    "# now make a new colormap\n",
    "cmap_list = list(plt.get_cmap('tab20').colors)\n",
    "factor = math.ceil(len(cl_sort_order) / 20)\n",
    "cmap_list *= factor\n",
    "cmap_list = cmap_list[:len(clusters_sort_new)]\n",
    "cmap = pltc.ListedColormap(cmap_list)\n"
   ]
  },
  {
   "cell_type": "code",
   "execution_count": 122,
   "metadata": {},
   "outputs": [],
   "source": [
    "dims=(10,10)\n",
    "\n",
    "\n",
    "\n",
    "clusters_plot = np.vstack([clusters_sort_new]*2)\n",
    "fig = plt.figure(figsize=dims)\n",
    "axs = {\n",
    "    0: fig.add_axes([0.05, 0.955, 0.9, 0.025]),\n",
    "    1: fig.add_axes([0.05, 0.05, 0.9, 0.9]),\n",
    "}\n",
    "axs[0].imshow(clusters_plot, cmap=cmap, aspect='auto')\n",
    "axs[0].set_axis_off()\n",
    "axs[1].imshow(arr_corr_rel_stat_full_order, cmap='coolwarm', origin='upper')\n",
    "axs[1].set_yticks([])\n",
    "axs[1].set_xticks(np.arange(25, arr_corr_rel_stat_full_order.shape[1],25))\n",
    "# axs[1].invert_yaxis()\n",
    "axs[1].xaxis.tick_top()\n",
    "axs[1].set_ylim(arr_corr_rel_stat_full_order.shape[0], 0)\n",
    "axs[1].set_xlim(0,arr_corr_rel_stat_full_order.shape[1])\n",
    "for sp in axs[1].spines:\n",
    "    axs[1].spines[sp].set_visible(False)\n",
    "\n",
    "\n",
    "idxs = [52,95]\n",
    "for idx in idxs:\n",
    "    axs[1].plot([idx,idx],[1,arr_corr_rel_stat_full_order.shape[0]], 'k', alpha=0.5)\n",
    "\n",
    "plt.show()\n",
    "\n",
    "\n",
    "# print([int(i) for i in clusters_sort[idxs[0]:idxs[-1]]])\n",
    "\n",
    "for i in range(idxs[0],idxs[-1]+1):\n",
    "    print(f'Cluster:: {clusters_sort[i]}\\tKO: {dict_idx_koname[i]}')\n",
    "    "
   ]
  },
  {
   "cell_type": "markdown",
   "metadata": {},
   "source": [
    "New cluster"
   ]
  },
  {
   "cell_type": "code",
   "execution_count": 123,
   "metadata": {},
   "outputs": [],
   "source": [
    "tselect=2.1\n",
    "\n",
    "clusters = hierarchy.fcluster(lnk, tselect, criterion='distance')\n",
    "clusters_sort = []\n",
    "cl_sort_order = []\n",
    "for idx in ko_order:\n",
    "    cl = clusters[idx]\n",
    "    clusters_sort.append(cl)\n",
    "    if cl not in cl_sort_order:\n",
    "        # Order of clusters\n",
    "        cl_sort_order.append(cl)\n",
    "\n",
    "# Rename so that cluster values are increasing when sorted\n",
    "# This makes is to that tab20 separates better\n",
    "dict_cl_new_cl = {cl:i+1 for i, cl in enumerate(cl_sort_order)}\n",
    "clusters_sort_new = [dict_cl_new_cl[cl] for cl in clusters_sort]\n",
    "\n",
    "# now make a new colormap\n",
    "cmap_list = list(plt.get_cmap('tab20').colors)\n",
    "factor = math.ceil(len(cl_sort_order) / 20)\n",
    "cmap_list *= factor\n",
    "cmap_list = cmap_list[:len(clusters_sort_new)]\n",
    "cmap = pltc.ListedColormap(cmap_list)\n"
   ]
  },
  {
   "cell_type": "code",
   "execution_count": 124,
   "metadata": {},
   "outputs": [],
   "source": [
    "dims=(10,10)\n",
    "\n",
    "\n",
    "\n",
    "clusters_plot = np.vstack([clusters_sort_new]*2)\n",
    "fig = plt.figure(figsize=dims)\n",
    "axs = {\n",
    "    0: fig.add_axes([0.05, 0.955, 0.9, 0.025]),\n",
    "    1: fig.add_axes([0.05, 0.05, 0.9, 0.9]),\n",
    "}\n",
    "axs[0].imshow(clusters_plot, cmap=cmap, aspect='auto')\n",
    "axs[0].set_axis_off()\n",
    "axs[1].imshow(arr_corr_rel_stat_full_order, cmap='coolwarm', origin='upper')\n",
    "axs[1].set_yticks([])\n",
    "axs[1].set_xticks(np.arange(25, arr_corr_rel_stat_full_order.shape[1],25))\n",
    "# axs[1].invert_yaxis()\n",
    "axs[1].xaxis.tick_top()\n",
    "axs[1].set_ylim(arr_corr_rel_stat_full_order.shape[0], 0)\n",
    "axs[1].set_xlim(0,arr_corr_rel_stat_full_order.shape[1])\n",
    "for sp in axs[1].spines:\n",
    "    axs[1].spines[sp].set_visible(False)\n",
    "\n",
    "\n",
    "idxs = [135,145]\n",
    "for idx in idxs:\n",
    "    axs[1].plot([idx,idx],[1,arr_corr_rel_stat_full_order.shape[0]], 'k', alpha=0.5)\n",
    "\n",
    "plt.show()\n",
    "\n",
    "\n",
    "# print([int(i) for i in clusters_sort[idxs[0]:idxs[-1]]])\n",
    "\n",
    "for i in range(idxs[0],idxs[-1]+1):\n",
    "    print(f'Cluster:: {clusters_sort[i]}\\tKO: {dict_idx_koname[i]}')\n",
    "    "
   ]
  },
  {
   "cell_type": "markdown",
   "metadata": {},
   "source": [
    "New cluster"
   ]
  },
  {
   "cell_type": "code",
   "execution_count": 125,
   "metadata": {},
   "outputs": [],
   "source": [
    "tselect=2.1\n",
    "\n",
    "clusters = hierarchy.fcluster(lnk, tselect, criterion='distance')\n",
    "clusters_sort = []\n",
    "cl_sort_order = []\n",
    "for idx in ko_order:\n",
    "    cl = clusters[idx]\n",
    "    clusters_sort.append(cl)\n",
    "    if cl not in cl_sort_order:\n",
    "        # Order of clusters\n",
    "        cl_sort_order.append(cl)\n",
    "\n",
    "# Rename so that cluster values are increasing when sorted\n",
    "# This makes is to that tab20 separates better\n",
    "dict_cl_new_cl = {cl:i+1 for i, cl in enumerate(cl_sort_order)}\n",
    "clusters_sort_new = [dict_cl_new_cl[cl] for cl in clusters_sort]\n",
    "\n",
    "# now make a new colormap\n",
    "cmap_list = list(plt.get_cmap('tab20').colors)\n",
    "factor = math.ceil(len(cl_sort_order) / 20)\n",
    "cmap_list *= factor\n",
    "cmap_list = cmap_list[:len(clusters_sort_new)]\n",
    "cmap = pltc.ListedColormap(cmap_list)\n"
   ]
  },
  {
   "cell_type": "code",
   "execution_count": 222,
   "metadata": {},
   "outputs": [],
   "source": [
    "dims=(10,10)\n",
    "\n",
    "\n",
    "\n",
    "clusters_plot = np.vstack([clusters_sort_new]*2)\n",
    "fig = plt.figure(figsize=dims)\n",
    "axs = {\n",
    "    0: fig.add_axes([0.05, 0.955, 0.9, 0.025]),\n",
    "    1: fig.add_axes([0.05, 0.05, 0.9, 0.9]),\n",
    "}\n",
    "axs[0].imshow(clusters_plot, cmap=cmap, aspect='auto')\n",
    "axs[0].set_axis_off()\n",
    "axs[1].imshow(arr_corr_rel_stat_full_order, cmap='coolwarm', origin='upper')\n",
    "axs[1].set_yticks([])\n",
    "axs[1].set_xticks(np.arange(25, arr_corr_rel_stat_full_order.shape[1],25))\n",
    "# axs[1].invert_yaxis()\n",
    "axs[1].xaxis.tick_top()\n",
    "axs[1].set_ylim(arr_corr_rel_stat_full_order.shape[0], 0)\n",
    "axs[1].set_xlim(0,arr_corr_rel_stat_full_order.shape[1])\n",
    "for sp in axs[1].spines:\n",
    "    axs[1].spines[sp].set_visible(False)\n",
    "\n",
    "\n",
    "idxs = [145,160]\n",
    "for idx in idxs:\n",
    "    axs[1].plot([idx,idx],[1,arr_corr_rel_stat_full_order.shape[0]], 'k', alpha=0.5)\n",
    "\n",
    "plt.show()\n",
    "\n",
    "\n",
    "# print([int(i) for i in clusters_sort[idxs[0]:idxs[-1]]])\n",
    "\n",
    "for i in range(idxs[0],idxs[-1]+1):\n",
    "    print(f'Cluster:: {clusters_sort[i]}\\tKO: {dict_idx_koname[i]}')\n",
    "    "
   ]
  },
  {
   "cell_type": "markdown",
   "metadata": {},
   "source": [
    "### Plot clusters and view samples"
   ]
  },
  {
   "cell_type": "code",
   "execution_count": 127,
   "metadata": {},
   "outputs": [],
   "source": [
    "cluster_0 = [\n",
    "    'K01623',\n",
    "    'K02575',\n",
    "    'K00266',\n",
    "    'K03320',\n",
    "    'K03737',\n",
    "    'K08905',\n",
    "    'K02717',\n",
    "    'K02639',\n",
    "    'K01624',\n",
    "    'K02694',\n",
    "]\n",
    "\n",
    "cluster_1 = [\n",
    "    'K14716',\n",
    "    'K18245',\n",
    "    'K13861',\n",
    "    'K16627',\n",
    "    'K00909',\n",
    "    'K14688',\n",
    "    'K14719',\n",
    "    'K22070',\n",
    "    'K14634',\n",
    "]"
   ]
  },
  {
   "cell_type": "markdown",
   "metadata": {},
   "source": [
    "Correlations within cluster 0"
   ]
  },
  {
   "cell_type": "code",
   "execution_count": 156,
   "metadata": {},
   "outputs": [],
   "source": [
    "kos_ex = np.random.choice(cluster_0, 2, replace=False)\n",
    "\n",
    "\n",
    "x = table_sub[kos_ex[0]].values / total_counts_sub\n",
    "y = table_sub[kos_ex[1]].values / total_counts_sub\n",
    "\n",
    "print(dict_ko_name[kos_ex[0]])\n",
    "print(dict_ko_name[kos_ex[1]])\n",
    "\n",
    "\n",
    "booli = x.astype(bool)\n",
    "boolj = y.astype(bool)\n",
    "bools = booli * boolj\n",
    "if sum(bools):\n",
    "    cib = x[bools]\n",
    "    cjb = y[bools]\n",
    "    cibl = np.log(cib)\n",
    "    cjbl = np.log(cjb)\n",
    "    res = stats.spearmanr(cibl,cjbl)\n",
    "    stat = res.statistic\n",
    "    pval = res.pvalue\n",
    "else:\n",
    "    stat = 0\n",
    "    pval = 1\n",
    "\n",
    "print(stat)\n",
    "print(pval)\n",
    "\n",
    "plt.scatter(x,y, alpha=0.5)\n",
    "plt.xlabel(f'Fraction of total counts\\n{dict_ko_name[kos_ex[0]]}', fontsize=8)\n",
    "plt.ylabel(f'Fraction of total counts\\n{dict_ko_name[kos_ex[1]]}', fontsize=8)\n",
    "plt.xscale('log')\n",
    "plt.yscale('log')\n"
   ]
  },
  {
   "cell_type": "markdown",
   "metadata": {},
   "source": [
    "Correlations within cluster 1"
   ]
  },
  {
   "cell_type": "code",
   "execution_count": 188,
   "metadata": {},
   "outputs": [],
   "source": [
    "kos_ex = np.random.choice(cluster_1, 2, replace=False)\n",
    "\n",
    "\n",
    "x = table_sub[kos_ex[0]].values / total_counts_sub\n",
    "y = table_sub[kos_ex[1]].values / total_counts_sub\n",
    "\n",
    "print(dict_ko_name[kos_ex[0]])\n",
    "print(dict_ko_name[kos_ex[1]])\n",
    "\n",
    "\n",
    "booli = x.astype(bool)\n",
    "boolj = y.astype(bool)\n",
    "bools = booli * boolj\n",
    "if sum(bools):\n",
    "    cib = x[bools]\n",
    "    cjb = y[bools]\n",
    "    cibl = np.log(cib)\n",
    "    cjbl = np.log(cjb)\n",
    "    res = stats.spearmanr(cibl,cjbl)\n",
    "    stat = res.statistic\n",
    "    pval = res.pvalue\n",
    "else:\n",
    "    stat = 0\n",
    "    pval = 1\n",
    "\n",
    "print(stat)\n",
    "print(pval)\n",
    "\n",
    "plt.scatter(x,y, alpha=0.5)\n",
    "plt.xlabel(f'Fraction of total counts\\n{dict_ko_name[kos_ex[0]]}', fontsize=8)\n",
    "plt.ylabel(f'Fraction of total counts\\n{dict_ko_name[kos_ex[1]]}', fontsize=8)\n",
    "plt.xscale('log')\n",
    "plt.yscale('log')\n"
   ]
  },
  {
   "cell_type": "markdown",
   "metadata": {},
   "source": [
    "Correlations between clusters"
   ]
  },
  {
   "cell_type": "code",
   "execution_count": 197,
   "metadata": {},
   "outputs": [],
   "source": [
    "ko_0 = np.random.choice(cluster_0, 1, replace=False)[0]\n",
    "ko_1 = np.random.choice(cluster_1, 1, replace=False)[0]\n",
    "\n",
    "\n",
    "x = table_sub[ko_0].values / total_counts_sub\n",
    "y = table_sub[ko_1].values / total_counts_sub\n",
    "\n",
    "print(dict_ko_name[ko_0])\n",
    "print(dict_ko_name[ko_1])\n",
    "\n",
    "\n",
    "booli = x.astype(bool)\n",
    "boolj = y.astype(bool)\n",
    "bools = booli * boolj\n",
    "if sum(bools):\n",
    "    cib = x[bools]\n",
    "    cjb = y[bools]\n",
    "    cibl = np.log(cib)\n",
    "    cjbl = np.log(cjb)\n",
    "    res = stats.spearmanr(cibl,cjbl)\n",
    "    stat = res.statistic\n",
    "    pval = res.pvalue\n",
    "else:\n",
    "    stat = 0\n",
    "    pval = 1\n",
    "\n",
    "print(stat)\n",
    "print(pval)\n",
    "\n",
    "plt.scatter(x,y, alpha=0.5)\n",
    "plt.xlabel(f'Fraction of total counts\\n{dict_ko_name[ko_0]}', fontsize=8)\n",
    "plt.ylabel(f'Fraction of total counts\\n{dict_ko_name[ko_1]}', fontsize=8)\n",
    "plt.xscale('log')\n",
    "plt.yscale('log')\n"
   ]
  },
  {
   "cell_type": "markdown",
   "metadata": {},
   "source": [
    "Ordered samples"
   ]
  },
  {
   "cell_type": "code",
   "execution_count": null,
   "metadata": {},
   "outputs": [],
   "source": [
    "table_sub_sub_rel = table_sub[cluster_0 + cluster_1] / total_counts_sub[:,None]\n",
    "table_nms = table_sub.iloc[:,:10]\n",
    "table_sub_sub_rel = pd.concat([table_nms, table_sub_sub_rel], axis=1)\n",
    "\n",
    "table_sub_sub_rel['mean_cl_0'] = np.ma.masked_invalid(\n",
    "    np.log(table_sub_sub_rel[cluster_0])\n",
    ").mean(axis=1)\n",
    "table_sub_sub_rel['mean_cl_1'] = np.ma.masked_invalid(\n",
    "    np.log(table_sub_sub_rel[cluster_1])\n",
    ").mean(axis=1)\n",
    "\n",
    "table_sub_sub_rel['diff_mean_cl'] = table_sub_sub_rel['mean_cl_0'] - table_sub_sub_rel['mean_cl_1']\n",
    "table_sub_sub_rel_sort = table_sub_sub_rel.sort_values(by='diff_mean_cl', ascending=True)\n",
    "table_sub_sub_rel_sort[:3]"
   ]
  },
  {
   "cell_type": "markdown",
   "metadata": {},
   "source": [
    "Plot ordered samples"
   ]
  },
  {
   "cell_type": "code",
   "execution_count": 198,
   "metadata": {},
   "outputs": [],
   "source": [
    "dims=(10,4)\n",
    "ft=5\n",
    "fig, ax = plt.subplots(figsize=dims)\n",
    "\n",
    "dict_plot = [\n",
    "    [cluster_0, 'k', 'o', 'cluster 1'],\n",
    "    [cluster_1, 'r', 'x', 'cluster 2'],\n",
    "]\n",
    "x = np.arange(table_sub_sub_rel_sort.shape[0])\n",
    "for l, c, m, n in dict_plot:\n",
    "    vals = table_sub_sub_rel_sort[l].values.T\n",
    "    x_ = np.vstack([x[None,:]]*vals.shape[0])\n",
    "    ax.scatter(\n",
    "        x_, vals,\n",
    "        color=c,\n",
    "        marker=m,\n",
    "        label=n\n",
    "    )\n",
    "_ = ax.legend()\n",
    "ax.set_yscale('log')\n",
    "_ = ax.set_xticks(x)\n",
    "_ = ax.set_xticklabels(table_sub_sub_rel_sort['fn_sample_counts'], rotation=45, size=ft, ha='right', rotation_mode='anchor')\n",
    "ax.set_ylabel('Fraction of sample counts')\n",
    "ax.set_xlabel('Sample')\n"
   ]
  },
  {
   "cell_type": "markdown",
   "metadata": {},
   "source": [
    "Get latitudes"
   ]
  },
  {
   "cell_type": "code",
   "execution_count": 199,
   "metadata": {},
   "outputs": [],
   "source": [
    "samples = table.loc[bool_ass, 'sample'].values\n",
    "np.unique(samples)"
   ]
  },
  {
   "cell_type": "markdown",
   "metadata": {},
   "source": [
    "Load metadata table"
   ]
  },
  {
   "cell_type": "code",
   "execution_count": 200,
   "metadata": {},
   "outputs": [],
   "source": [
    "dir_diel = '../repo-armbrust-metat/gradients1/g1_station_pa_metat'\n",
    "fn_G3PA_diel_metadata = f'{dir_diel}/sample_metadata.csv'\n",
    "\n",
    "G3PA_diel_metadata = pd.read_csv(fn_G3PA_diel_metadata)\n",
    "G3PA_diel_metadata.shape, G3PA_diel_metadata[:3]"
   ]
  },
  {
   "cell_type": "markdown",
   "metadata": {},
   "source": [
    "Build sample latitude dict"
   ]
  },
  {
   "cell_type": "code",
   "execution_count": 202,
   "metadata": {},
   "outputs": [],
   "source": [
    "dict_sample_lat = {}\n",
    "for i, row in G3PA_diel_metadata.iterrows():\n",
    "    alias = row.Alias2\n",
    "    if isinstance(alias, str):\n",
    "        sample = alias.split('_')[0]\n",
    "        dict_sample_lat[sample] = row.Latitude\n",
    "dict_sample_lat"
   ]
  },
  {
   "cell_type": "markdown",
   "metadata": {},
   "source": [
    "Plot ordered samples with latitude values"
   ]
  },
  {
   "cell_type": "code",
   "execution_count": 207,
   "metadata": {},
   "outputs": [],
   "source": [
    "dims=(10,4)\n",
    "ft=12\n",
    "fig, ax = plt.subplots(figsize=dims)\n",
    "\n",
    "dict_plot = [\n",
    "    [cluster_0, 'k', 'o', 'cluster 1'],\n",
    "    [cluster_1, 'r', 'x', 'cluster 2'],\n",
    "]\n",
    "x = np.arange(table_sub_sub_rel_sort.shape[0])\n",
    "markers = list(Line2D.markers.keys())\n",
    "for l, c, m, n in dict_plot:\n",
    "    vals = table_sub_sub_rel_sort[l].values.T\n",
    "    x_ = np.vstack([x[None,:]]*vals.shape[0])\n",
    "    ax.scatter(\n",
    "        x_, vals,\n",
    "        color=c,\n",
    "        marker=m,\n",
    "        label=n\n",
    "    )\n",
    "_ = ax.legend()\n",
    "ax.set_yscale('log')\n",
    "_ = ax.set_xticks(x)\n",
    "lats = [round(dict_sample_lat[s],3) for s in table_sub_sub_rel_sort['sample'].values]\n",
    "_ = ax.set_xticklabels(lats, rotation=45, size=ft, ha='right', rotation_mode='anchor')\n",
    "ax.set_ylabel('Fraction of sample counts')\n",
    "ax.set_xlabel('Latitude')\n"
   ]
  },
  {
   "cell_type": "markdown",
   "metadata": {},
   "source": [
    "Plot ordered by latitudes"
   ]
  },
  {
   "cell_type": "code",
   "execution_count": 221,
   "metadata": {},
   "outputs": [],
   "source": [
    "dims=(4,4)\n",
    "ft=8\n",
    "alpha=0.35\n",
    "fig, ax = plt.subplots(figsize=dims)\n",
    "\n",
    "dict_plot = [\n",
    "    [cluster_0, 'k', 'o', 'cluster 1'],\n",
    "    [cluster_1, 'r', 'x', 'cluster 2'],\n",
    "]\n",
    "lats = [round(dict_sample_lat[s],3) for s in table_sub_sub_rel['sample'].values]\n",
    "for l, c, m, n in dict_plot:\n",
    "    vals = table_sub_sub_rel[l].values.T\n",
    "    x_ = np.vstack([lats]*vals.shape[0])\n",
    "    ax.scatter(\n",
    "        x_, vals,\n",
    "        color=c,\n",
    "        marker=m,\n",
    "        label=n,\n",
    "        alpha=alpha\n",
    "    )\n",
    "    lat_sort = sorted(lats)\n",
    "    mval_sort = [x for _, x in sorted(zip(lats, np.mean(vals, axis=0)))]\n",
    "    ax.plot(lat_sort, mval_sort, color=c)\n",
    "_ = ax.legend()\n",
    "ax.set_yscale('log')\n",
    "_ = ax.set_xticks(np.unique(lats))\n",
    "xlab = ax.get_xticklabels()\n",
    "_ = ax.set_xticklabels(xlab, rotation=45, size=ft, ha='right', rotation_mode='anchor')\n",
    "ax.set_ylabel('Fraction of sample counts')\n",
    "ax.set_xlabel('Latitude')\n"
   ]
  },
  {
   "cell_type": "markdown",
   "metadata": {},
   "source": [
    "## Inspect G1NS 3um"
   ]
  },
  {
   "cell_type": "markdown",
   "metadata": {},
   "source": [
    "Subset table"
   ]
  },
  {
   "cell_type": "code",
   "execution_count": 223,
   "metadata": {},
   "outputs": [],
   "source": [
    "bool_ass = table['assembly'] == 'G1NS'\n",
    "bool_size = table['size'] == '3um'\n",
    "table_sub = table[bool_ass & bool_size]\n",
    "table_sub.shape"
   ]
  },
  {
   "cell_type": "markdown",
   "metadata": {},
   "source": [
    "Numer of nonzero samples for each ko"
   ]
  },
  {
   "cell_type": "code",
   "execution_count": 224,
   "metadata": {},
   "outputs": [],
   "source": [
    "ko_list = table.columns[10:]\n",
    "ko_list[:5]"
   ]
  },
  {
   "cell_type": "code",
   "execution_count": 225,
   "metadata": {},
   "outputs": [],
   "source": [
    "filt_nsam = 15\n",
    "\n",
    "n_nonzero = []\n",
    "for ko in ko_list:\n",
    "    sc = table_sub[ko].values.astype(bool)\n",
    "    n_nonzero.append(sc.sum())\n",
    "\n",
    "fig, ax = general_plot()\n",
    "ax.scatter(np.arange(len(n_nonzero)), np.sort(n_nonzero))\n",
    "xlims = ax.get_xlim()\n",
    "ax.plot(xlims, [filt_nsam]*2, 'r')\n",
    "ax.set_ylabel('Number of nonzero samples')\n",
    "ax.set_xlabel('KO')"
   ]
  },
  {
   "cell_type": "markdown",
   "metadata": {},
   "source": [
    "Number of nonzero KOs for each sample"
   ]
  },
  {
   "cell_type": "code",
   "execution_count": 226,
   "metadata": {},
   "outputs": [],
   "source": [
    "n_sam_nonzero = []\n",
    "table_sub_vals = table_sub.iloc[:,10:].values\n",
    "for sc in table_sub_vals:\n",
    "    n_sam_nonzero.append(sc.astype(bool).sum())\n",
    "\n",
    "fig, ax = general_plot()\n",
    "ax.scatter(np.arange(len(n_sam_nonzero)), np.sort(n_sam_nonzero))\n",
    "ax.set_ylabel('Number of nonzero KOs')\n",
    "ax.set_xlabel('Sample')"
   ]
  },
  {
   "cell_type": "markdown",
   "metadata": {},
   "source": [
    "Filter for genes present in many samples"
   ]
  },
  {
   "cell_type": "code",
   "execution_count": 252,
   "metadata": {},
   "outputs": [],
   "source": [
    "bool_ko = np.array(n_nonzero) > filt_nsam\n",
    "ko_list_filt = np.array(ko_list)[bool_ko]\n",
    "table_sub_vals_filt = table_sub_vals[:,bool_ko]\n",
    "table_sub_vals_filt.shape"
   ]
  },
  {
   "cell_type": "markdown",
   "metadata": {},
   "source": [
    "### Correlation between log fraction of total counts"
   ]
  },
  {
   "cell_type": "code",
   "execution_count": 228,
   "metadata": {},
   "outputs": [],
   "source": [
    "dict_ko_counts = {}\n",
    "for ko in ko_list_filt:\n",
    "    dict_ko_counts[ko] = table_sub[ko].values"
   ]
  },
  {
   "cell_type": "code",
   "execution_count": 229,
   "metadata": {},
   "outputs": [],
   "source": [
    "total_counts_sub = table_sub['sample_sum_counts'].values\n",
    "\n",
    "nkos = len(ko_list_filt)\n",
    "arr_corr_rel = np.zeros((nkos,nkos,2))\n",
    "for i, koi in enumerate(ko_list_filt):\n",
    "    ci = dict_ko_counts[koi] / total_counts_sub\n",
    "    booli = ci.astype(bool)\n",
    "    for j, koj in enumerate(ko_list_filt):\n",
    "        if i < j:\n",
    "            cj = dict_ko_counts[koj] / total_counts_sub\n",
    "            boolj = cj.astype(bool)\n",
    "            bools = booli*boolj\n",
    "            if sum(bools):\n",
    "                cib = ci[bools]\n",
    "                cjb = cj[bools]\n",
    "                cibl = np.log(cib)\n",
    "                cjbl = np.log(cjb)\n",
    "                res = stats.spearmanr(cibl,cjbl)\n",
    "                stat = res.statistic\n",
    "                pval = res.pvalue\n",
    "            else:\n",
    "                stat = 0\n",
    "                pval = 1\n",
    "            arr_corr_rel[i,j,:] = [stat, pval]"
   ]
  },
  {
   "cell_type": "markdown",
   "metadata": {},
   "source": [
    "Get both corners of array"
   ]
  },
  {
   "cell_type": "code",
   "execution_count": 230,
   "metadata": {},
   "outputs": [],
   "source": [
    "arr_cor_rel_nonan = np.nan_to_num(arr_corr_rel)\n",
    "arr_corr_rel_stat = arr_cor_rel_nonan[:,:,0]\n",
    "arr_corr_rel_stat_full = arr_corr_rel_stat + np.transpose(arr_corr_rel_stat)"
   ]
  },
  {
   "cell_type": "markdown",
   "metadata": {},
   "source": [
    "Get linkage"
   ]
  },
  {
   "cell_type": "code",
   "execution_count": 231,
   "metadata": {},
   "outputs": [],
   "source": [
    "lnk = hierarchy.linkage(arr_corr_rel_stat_full)\n",
    "fig = plt.figure(figsize=(40,10))\n",
    "dn = hierarchy.dendrogram(lnk)\n",
    "plt.show()"
   ]
  },
  {
   "cell_type": "markdown",
   "metadata": {},
   "source": [
    "Get linkage order"
   ]
  },
  {
   "cell_type": "code",
   "execution_count": 232,
   "metadata": {},
   "outputs": [],
   "source": [
    "ko_order = hierarchy.leaves_list(lnk)"
   ]
  },
  {
   "cell_type": "markdown",
   "metadata": {},
   "source": [
    "Map index to KO"
   ]
  },
  {
   "cell_type": "code",
   "execution_count": 233,
   "metadata": {},
   "outputs": [],
   "source": [
    "dict_idx_koname = {}\n",
    "for idx, ogidx in enumerate(ko_order):\n",
    "    ko = ko_list_filt[ogidx]\n",
    "    koname = dict_ko_name[ko]\n",
    "    dict_idx_koname[idx] = koname"
   ]
  },
  {
   "cell_type": "markdown",
   "metadata": {},
   "source": [
    "Reorder matrix rows"
   ]
  },
  {
   "cell_type": "code",
   "execution_count": 234,
   "metadata": {},
   "outputs": [],
   "source": [
    "dict_idx_row = {i: r for i, r in enumerate(arr_corr_rel_stat_full)}\n",
    "arr_new = []\n",
    "for idx in ko_order:\n",
    "    arr_new.append(dict_idx_row[idx])\n",
    "arr_new = np.array(arr_new)"
   ]
  },
  {
   "cell_type": "markdown",
   "metadata": {},
   "source": [
    "Reorder matrix columns"
   ]
  },
  {
   "cell_type": "code",
   "execution_count": 235,
   "metadata": {},
   "outputs": [],
   "source": [
    "dict_idx_row = {i: r for i, r in enumerate(arr_new.T)}\n",
    "arr_corr_rel_stat_full_order = []\n",
    "for idx in ko_order:\n",
    "    arr_corr_rel_stat_full_order.append(dict_idx_row[idx])\n",
    "arr_corr_rel_stat_full_order = np.array(arr_corr_rel_stat_full_order)"
   ]
  },
  {
   "cell_type": "markdown",
   "metadata": {},
   "source": [
    "Plot clustered matrix"
   ]
  },
  {
   "cell_type": "code",
   "execution_count": 236,
   "metadata": {},
   "outputs": [],
   "source": [
    "plt.imshow(arr_corr_rel_stat_full_order, cmap='coolwarm')\n",
    "plt.colorbar()"
   ]
  },
  {
   "cell_type": "markdown",
   "metadata": {},
   "source": [
    "New cluster"
   ]
  },
  {
   "cell_type": "code",
   "execution_count": 239,
   "metadata": {},
   "outputs": [],
   "source": [
    "tselect=3\n",
    "\n",
    "clusters = hierarchy.fcluster(lnk, tselect, criterion='distance')\n",
    "clusters_sort = []\n",
    "cl_sort_order = []\n",
    "for idx in ko_order:\n",
    "    cl = clusters[idx]\n",
    "    clusters_sort.append(cl)\n",
    "    if cl not in cl_sort_order:\n",
    "        # Order of clusters\n",
    "        cl_sort_order.append(cl)\n",
    "\n",
    "# Rename so that cluster values are increasing when sorted\n",
    "# This makes is to that tab20 separates better\n",
    "dict_cl_new_cl = {cl:i+1 for i, cl in enumerate(cl_sort_order)}\n",
    "clusters_sort_new = [dict_cl_new_cl[cl] for cl in clusters_sort]\n",
    "\n",
    "# now make a new colormap\n",
    "cmap_list = list(plt.get_cmap('tab20').colors)\n",
    "factor = math.ceil(len(cl_sort_order) / 20)\n",
    "cmap_list *= factor\n",
    "cmap_list = cmap_list[:len(clusters_sort_new)]\n",
    "cmap = pltc.ListedColormap(cmap_list)\n"
   ]
  },
  {
   "cell_type": "code",
   "execution_count": 241,
   "metadata": {},
   "outputs": [],
   "source": [
    "dims=(10,10)\n",
    "\n",
    "\n",
    "\n",
    "clusters_plot = np.vstack([clusters_sort_new]*2)\n",
    "fig = plt.figure(figsize=dims)\n",
    "axs = {\n",
    "    0: fig.add_axes([0.05, 0.955, 0.9, 0.025]),\n",
    "    1: fig.add_axes([0.05, 0.05, 0.9, 0.9]),\n",
    "}\n",
    "axs[0].imshow(clusters_plot, cmap=cmap, aspect='auto')\n",
    "axs[0].set_axis_off()\n",
    "axs[1].imshow(arr_corr_rel_stat_full_order, cmap='coolwarm', origin='upper')\n",
    "axs[1].set_yticks([])\n",
    "axs[1].set_xticks(np.arange(25, arr_corr_rel_stat_full_order.shape[1],25))\n",
    "# axs[1].invert_yaxis()\n",
    "axs[1].xaxis.tick_top()\n",
    "axs[1].set_ylim(arr_corr_rel_stat_full_order.shape[0], 0)\n",
    "axs[1].set_xlim(0,arr_corr_rel_stat_full_order.shape[1])\n",
    "for sp in axs[1].spines:\n",
    "    axs[1].spines[sp].set_visible(False)\n",
    "\n",
    "\n",
    "idxs = [50,90]\n",
    "for idx in idxs:\n",
    "    axs[1].plot([idx,idx],[1,arr_corr_rel_stat_full_order.shape[0]], 'k', alpha=0.5)\n",
    "\n",
    "plt.show()\n",
    "\n",
    "\n",
    "# print([int(i) for i in clusters_sort[idxs[0]:idxs[-1]]])\n",
    "\n",
    "for i in range(idxs[0],idxs[-1]+1):\n",
    "    print(f'Cluster:: {clusters_sort[i]}\\tKO: {dict_idx_koname[i]}')\n",
    "    "
   ]
  },
  {
   "cell_type": "markdown",
   "metadata": {},
   "source": [
    "New cluster"
   ]
  },
  {
   "cell_type": "code",
   "execution_count": 242,
   "metadata": {},
   "outputs": [],
   "source": [
    "tselect=2.5\n",
    "\n",
    "clusters = hierarchy.fcluster(lnk, tselect, criterion='distance')\n",
    "clusters_sort = []\n",
    "cl_sort_order = []\n",
    "for idx in ko_order:\n",
    "    cl = clusters[idx]\n",
    "    clusters_sort.append(cl)\n",
    "    if cl not in cl_sort_order:\n",
    "        # Order of clusters\n",
    "        cl_sort_order.append(cl)\n",
    "\n",
    "# Rename so that cluster values are increasing when sorted\n",
    "# This makes is to that tab20 separates better\n",
    "dict_cl_new_cl = {cl:i+1 for i, cl in enumerate(cl_sort_order)}\n",
    "clusters_sort_new = [dict_cl_new_cl[cl] for cl in clusters_sort]\n",
    "\n",
    "# now make a new colormap\n",
    "cmap_list = list(plt.get_cmap('tab20').colors)\n",
    "factor = math.ceil(len(cl_sort_order) / 20)\n",
    "cmap_list *= factor\n",
    "cmap_list = cmap_list[:len(clusters_sort_new)]\n",
    "cmap = pltc.ListedColormap(cmap_list)\n"
   ]
  },
  {
   "cell_type": "code",
   "execution_count": 245,
   "metadata": {},
   "outputs": [],
   "source": [
    "dims=(10,10)\n",
    "\n",
    "\n",
    "\n",
    "clusters_plot = np.vstack([clusters_sort_new]*2)\n",
    "fig = plt.figure(figsize=dims)\n",
    "axs = {\n",
    "    0: fig.add_axes([0.05, 0.955, 0.9, 0.025]),\n",
    "    1: fig.add_axes([0.05, 0.05, 0.9, 0.9]),\n",
    "}\n",
    "axs[0].imshow(clusters_plot, cmap=cmap, aspect='auto')\n",
    "axs[0].set_axis_off()\n",
    "axs[1].imshow(arr_corr_rel_stat_full_order, cmap='coolwarm', origin='upper')\n",
    "axs[1].set_yticks([])\n",
    "axs[1].set_xticks(np.arange(25, arr_corr_rel_stat_full_order.shape[1],25))\n",
    "# axs[1].invert_yaxis()\n",
    "axs[1].xaxis.tick_top()\n",
    "axs[1].set_ylim(arr_corr_rel_stat_full_order.shape[0], 0)\n",
    "axs[1].set_xlim(0,arr_corr_rel_stat_full_order.shape[1])\n",
    "for sp in axs[1].spines:\n",
    "    axs[1].spines[sp].set_visible(False)\n",
    "\n",
    "\n",
    "idxs = [119,140]\n",
    "for idx in idxs:\n",
    "    axs[1].plot([idx,idx],[1,arr_corr_rel_stat_full_order.shape[0]], 'k', alpha=0.5)\n",
    "\n",
    "plt.show()\n",
    "\n",
    "\n",
    "# print([int(i) for i in clusters_sort[idxs[0]:idxs[-1]]])\n",
    "\n",
    "for i in range(idxs[0],idxs[-1]+1):\n",
    "    print(f'Cluster:: {clusters_sort[i]}\\tKO: {dict_idx_koname[i]}')\n",
    "    "
   ]
  },
  {
   "cell_type": "markdown",
   "metadata": {},
   "source": [
    "New cluster"
   ]
  },
  {
   "cell_type": "code",
   "execution_count": 246,
   "metadata": {},
   "outputs": [],
   "source": [
    "tselect=2.25\n",
    "\n",
    "clusters = hierarchy.fcluster(lnk, tselect, criterion='distance')\n",
    "clusters_sort = []\n",
    "cl_sort_order = []\n",
    "for idx in ko_order:\n",
    "    cl = clusters[idx]\n",
    "    clusters_sort.append(cl)\n",
    "    if cl not in cl_sort_order:\n",
    "        # Order of clusters\n",
    "        cl_sort_order.append(cl)\n",
    "\n",
    "# Rename so that cluster values are increasing when sorted\n",
    "# This makes is to that tab20 separates better\n",
    "dict_cl_new_cl = {cl:i+1 for i, cl in enumerate(cl_sort_order)}\n",
    "clusters_sort_new = [dict_cl_new_cl[cl] for cl in clusters_sort]\n",
    "\n",
    "# now make a new colormap\n",
    "cmap_list = list(plt.get_cmap('tab20').colors)\n",
    "factor = math.ceil(len(cl_sort_order) / 20)\n",
    "cmap_list *= factor\n",
    "cmap_list = cmap_list[:len(clusters_sort_new)]\n",
    "cmap = pltc.ListedColormap(cmap_list)\n"
   ]
  },
  {
   "cell_type": "code",
   "execution_count": 248,
   "metadata": {},
   "outputs": [],
   "source": [
    "dims=(10,10)\n",
    "\n",
    "\n",
    "\n",
    "clusters_plot = np.vstack([clusters_sort_new]*2)\n",
    "fig = plt.figure(figsize=dims)\n",
    "axs = {\n",
    "    0: fig.add_axes([0.05, 0.955, 0.9, 0.025]),\n",
    "    1: fig.add_axes([0.05, 0.05, 0.9, 0.9]),\n",
    "}\n",
    "axs[0].imshow(clusters_plot, cmap=cmap, aspect='auto')\n",
    "axs[0].set_axis_off()\n",
    "axs[1].imshow(arr_corr_rel_stat_full_order, cmap='coolwarm', origin='upper')\n",
    "axs[1].set_yticks([])\n",
    "axs[1].set_xticks(np.arange(25, arr_corr_rel_stat_full_order.shape[1],25))\n",
    "# axs[1].invert_yaxis()\n",
    "axs[1].xaxis.tick_top()\n",
    "axs[1].set_ylim(arr_corr_rel_stat_full_order.shape[0], 0)\n",
    "axs[1].set_xlim(0,arr_corr_rel_stat_full_order.shape[1])\n",
    "for sp in axs[1].spines:\n",
    "    axs[1].spines[sp].set_visible(False)\n",
    "\n",
    "\n",
    "idxs = [174,190]\n",
    "for idx in idxs:\n",
    "    axs[1].plot([idx,idx],[1,arr_corr_rel_stat_full_order.shape[0]], 'k', alpha=0.5)\n",
    "\n",
    "plt.show()\n",
    "\n",
    "\n",
    "# print([int(i) for i in clusters_sort[idxs[0]:idxs[-1]]])\n",
    "\n",
    "for i in range(idxs[0],idxs[-1]+1):\n",
    "    print(f'Cluster:: {clusters_sort[i]}\\tKO: {dict_idx_koname[i]}')\n",
    "    "
   ]
  },
  {
   "cell_type": "markdown",
   "metadata": {},
   "source": [
    "New cluster"
   ]
  },
  {
   "cell_type": "code",
   "execution_count": null,
   "metadata": {},
   "outputs": [],
   "source": [
    "tselect=2.25\n",
    "\n",
    "clusters = hierarchy.fcluster(lnk, tselect, criterion='distance')\n",
    "clusters_sort = []\n",
    "cl_sort_order = []\n",
    "for idx in ko_order:\n",
    "    cl = clusters[idx]\n",
    "    clusters_sort.append(cl)\n",
    "    if cl not in cl_sort_order:\n",
    "        # Order of clusters\n",
    "        cl_sort_order.append(cl)\n",
    "\n",
    "# Rename so that cluster values are increasing when sorted\n",
    "# This makes is to that tab20 separates better\n",
    "dict_cl_new_cl = {cl:i+1 for i, cl in enumerate(cl_sort_order)}\n",
    "clusters_sort_new = [dict_cl_new_cl[cl] for cl in clusters_sort]\n",
    "\n",
    "# now make a new colormap\n",
    "cmap_list = list(plt.get_cmap('tab20').colors)\n",
    "factor = math.ceil(len(cl_sort_order) / 20)\n",
    "cmap_list *= factor\n",
    "cmap_list = cmap_list[:len(clusters_sort_new)]\n",
    "cmap = pltc.ListedColormap(cmap_list)\n"
   ]
  },
  {
   "cell_type": "code",
   "execution_count": 249,
   "metadata": {},
   "outputs": [],
   "source": [
    "dims=(10,10)\n",
    "\n",
    "\n",
    "\n",
    "clusters_plot = np.vstack([clusters_sort_new]*2)\n",
    "fig = plt.figure(figsize=dims)\n",
    "axs = {\n",
    "    0: fig.add_axes([0.05, 0.955, 0.9, 0.025]),\n",
    "    1: fig.add_axes([0.05, 0.05, 0.9, 0.9]),\n",
    "}\n",
    "axs[0].imshow(clusters_plot, cmap=cmap, aspect='auto')\n",
    "axs[0].set_axis_off()\n",
    "axs[1].imshow(arr_corr_rel_stat_full_order, cmap='coolwarm', origin='upper')\n",
    "axs[1].set_yticks([])\n",
    "axs[1].set_xticks(np.arange(25, arr_corr_rel_stat_full_order.shape[1],25))\n",
    "# axs[1].invert_yaxis()\n",
    "axs[1].xaxis.tick_top()\n",
    "axs[1].set_ylim(arr_corr_rel_stat_full_order.shape[0], 0)\n",
    "axs[1].set_xlim(0,arr_corr_rel_stat_full_order.shape[1])\n",
    "for sp in axs[1].spines:\n",
    "    axs[1].spines[sp].set_visible(False)\n",
    "\n",
    "\n",
    "idxs = [195,205]\n",
    "for idx in idxs:\n",
    "    axs[1].plot([idx,idx],[1,arr_corr_rel_stat_full_order.shape[0]], 'k', alpha=0.5)\n",
    "\n",
    "plt.show()\n",
    "\n",
    "\n",
    "# print([int(i) for i in clusters_sort[idxs[0]:idxs[-1]]])\n",
    "\n",
    "for i in range(idxs[0],idxs[-1]+1):\n",
    "    print(f'Cluster:: {clusters_sort[i]}\\tKO: {dict_idx_koname[i]}')\n",
    "    "
   ]
  },
  {
   "cell_type": "markdown",
   "metadata": {},
   "source": [
    "New cluster"
   ]
  },
  {
   "cell_type": "code",
   "execution_count": null,
   "metadata": {},
   "outputs": [],
   "source": [
    "tselect=2.25\n",
    "\n",
    "clusters = hierarchy.fcluster(lnk, tselect, criterion='distance')\n",
    "clusters_sort = []\n",
    "cl_sort_order = []\n",
    "for idx in ko_order:\n",
    "    cl = clusters[idx]\n",
    "    clusters_sort.append(cl)\n",
    "    if cl not in cl_sort_order:\n",
    "        # Order of clusters\n",
    "        cl_sort_order.append(cl)\n",
    "\n",
    "# Rename so that cluster values are increasing when sorted\n",
    "# This makes is to that tab20 separates better\n",
    "dict_cl_new_cl = {cl:i+1 for i, cl in enumerate(cl_sort_order)}\n",
    "clusters_sort_new = [dict_cl_new_cl[cl] for cl in clusters_sort]\n",
    "\n",
    "# now make a new colormap\n",
    "cmap_list = list(plt.get_cmap('tab20').colors)\n",
    "factor = math.ceil(len(cl_sort_order) / 20)\n",
    "cmap_list *= factor\n",
    "cmap_list = cmap_list[:len(clusters_sort_new)]\n",
    "cmap = pltc.ListedColormap(cmap_list)\n"
   ]
  },
  {
   "cell_type": "code",
   "execution_count": 250,
   "metadata": {},
   "outputs": [],
   "source": [
    "dims=(10,10)\n",
    "\n",
    "\n",
    "\n",
    "clusters_plot = np.vstack([clusters_sort_new]*2)\n",
    "fig = plt.figure(figsize=dims)\n",
    "axs = {\n",
    "    0: fig.add_axes([0.05, 0.955, 0.9, 0.025]),\n",
    "    1: fig.add_axes([0.05, 0.05, 0.9, 0.9]),\n",
    "}\n",
    "axs[0].imshow(clusters_plot, cmap=cmap, aspect='auto')\n",
    "axs[0].set_axis_off()\n",
    "axs[1].imshow(arr_corr_rel_stat_full_order, cmap='coolwarm', origin='upper')\n",
    "axs[1].set_yticks([])\n",
    "axs[1].set_xticks(np.arange(25, arr_corr_rel_stat_full_order.shape[1],25))\n",
    "# axs[1].invert_yaxis()\n",
    "axs[1].xaxis.tick_top()\n",
    "axs[1].set_ylim(arr_corr_rel_stat_full_order.shape[0], 0)\n",
    "axs[1].set_xlim(0,arr_corr_rel_stat_full_order.shape[1])\n",
    "for sp in axs[1].spines:\n",
    "    axs[1].spines[sp].set_visible(False)\n",
    "\n",
    "\n",
    "idxs = [201,275]\n",
    "for idx in idxs:\n",
    "    axs[1].plot([idx,idx],[1,arr_corr_rel_stat_full_order.shape[0]], 'k', alpha=0.5)\n",
    "\n",
    "plt.show()\n",
    "\n",
    "\n",
    "# print([int(i) for i in clusters_sort[idxs[0]:idxs[-1]]])\n",
    "\n",
    "for i in range(idxs[0],idxs[-1]+1):\n",
    "    print(f'Cluster:: {clusters_sort[i]}\\tKO: {dict_idx_koname[i]}')\n",
    "    "
   ]
  },
  {
   "cell_type": "markdown",
   "metadata": {},
   "source": [
    "New cluster"
   ]
  },
  {
   "cell_type": "code",
   "execution_count": null,
   "metadata": {},
   "outputs": [],
   "source": [
    "tselect=2.25\n",
    "\n",
    "clusters = hierarchy.fcluster(lnk, tselect, criterion='distance')\n",
    "clusters_sort = []\n",
    "cl_sort_order = []\n",
    "for idx in ko_order:\n",
    "    cl = clusters[idx]\n",
    "    clusters_sort.append(cl)\n",
    "    if cl not in cl_sort_order:\n",
    "        # Order of clusters\n",
    "        cl_sort_order.append(cl)\n",
    "\n",
    "# Rename so that cluster values are increasing when sorted\n",
    "# This makes is to that tab20 separates better\n",
    "dict_cl_new_cl = {cl:i+1 for i, cl in enumerate(cl_sort_order)}\n",
    "clusters_sort_new = [dict_cl_new_cl[cl] for cl in clusters_sort]\n",
    "\n",
    "# now make a new colormap\n",
    "cmap_list = list(plt.get_cmap('tab20').colors)\n",
    "factor = math.ceil(len(cl_sort_order) / 20)\n",
    "cmap_list *= factor\n",
    "cmap_list = cmap_list[:len(clusters_sort_new)]\n",
    "cmap = pltc.ListedColormap(cmap_list)\n"
   ]
  },
  {
   "cell_type": "code",
   "execution_count": 251,
   "metadata": {},
   "outputs": [],
   "source": [
    "dims=(10,10)\n",
    "\n",
    "\n",
    "\n",
    "clusters_plot = np.vstack([clusters_sort_new]*2)\n",
    "fig = plt.figure(figsize=dims)\n",
    "axs = {\n",
    "    0: fig.add_axes([0.05, 0.955, 0.9, 0.025]),\n",
    "    1: fig.add_axes([0.05, 0.05, 0.9, 0.9]),\n",
    "}\n",
    "axs[0].imshow(clusters_plot, cmap=cmap, aspect='auto')\n",
    "axs[0].set_axis_off()\n",
    "axs[1].imshow(arr_corr_rel_stat_full_order, cmap='coolwarm', origin='upper')\n",
    "axs[1].set_yticks([])\n",
    "axs[1].set_xticks(np.arange(25, arr_corr_rel_stat_full_order.shape[1],25))\n",
    "# axs[1].invert_yaxis()\n",
    "axs[1].xaxis.tick_top()\n",
    "axs[1].set_ylim(arr_corr_rel_stat_full_order.shape[0], 0)\n",
    "axs[1].set_xlim(0,arr_corr_rel_stat_full_order.shape[1])\n",
    "for sp in axs[1].spines:\n",
    "    axs[1].spines[sp].set_visible(False)\n",
    "\n",
    "\n",
    "idxs = [272,290]\n",
    "for idx in idxs:\n",
    "    axs[1].plot([idx,idx],[1,arr_corr_rel_stat_full_order.shape[0]], 'k', alpha=0.5)\n",
    "\n",
    "plt.show()\n",
    "\n",
    "\n",
    "# print([int(i) for i in clusters_sort[idxs[0]:idxs[-1]]])\n",
    "\n",
    "for i in range(idxs[0],idxs[-1]+1):\n",
    "    print(f'Cluster:: {clusters_sort[i]}\\tKO: {dict_idx_koname[i]}')\n",
    "    "
   ]
  },
  {
   "cell_type": "markdown",
   "metadata": {},
   "source": [
    "New cluster"
   ]
  },
  {
   "cell_type": "code",
   "execution_count": null,
   "metadata": {},
   "outputs": [],
   "source": [
    "tselect=2.25\n",
    "\n",
    "clusters = hierarchy.fcluster(lnk, tselect, criterion='distance')\n",
    "clusters_sort = []\n",
    "cl_sort_order = []\n",
    "for idx in ko_order:\n",
    "    cl = clusters[idx]\n",
    "    clusters_sort.append(cl)\n",
    "    if cl not in cl_sort_order:\n",
    "        # Order of clusters\n",
    "        cl_sort_order.append(cl)\n",
    "\n",
    "# Rename so that cluster values are increasing when sorted\n",
    "# This makes is to that tab20 separates better\n",
    "dict_cl_new_cl = {cl:i+1 for i, cl in enumerate(cl_sort_order)}\n",
    "clusters_sort_new = [dict_cl_new_cl[cl] for cl in clusters_sort]\n",
    "\n",
    "# now make a new colormap\n",
    "cmap_list = list(plt.get_cmap('tab20').colors)\n",
    "factor = math.ceil(len(cl_sort_order) / 20)\n",
    "cmap_list *= factor\n",
    "cmap_list = cmap_list[:len(clusters_sort_new)]\n",
    "cmap = pltc.ListedColormap(cmap_list)\n"
   ]
  },
  {
   "cell_type": "code",
   "execution_count": 253,
   "metadata": {},
   "outputs": [],
   "source": [
    "dims=(10,10)\n",
    "\n",
    "\n",
    "\n",
    "clusters_plot = np.vstack([clusters_sort_new]*2)\n",
    "fig = plt.figure(figsize=dims)\n",
    "axs = {\n",
    "    0: fig.add_axes([0.05, 0.955, 0.9, 0.025]),\n",
    "    1: fig.add_axes([0.05, 0.05, 0.9, 0.9]),\n",
    "}\n",
    "axs[0].imshow(clusters_plot, cmap=cmap, aspect='auto')\n",
    "axs[0].set_axis_off()\n",
    "axs[1].imshow(arr_corr_rel_stat_full_order, cmap='coolwarm', origin='upper')\n",
    "axs[1].set_yticks([])\n",
    "axs[1].set_xticks(np.arange(25, arr_corr_rel_stat_full_order.shape[1],25))\n",
    "# axs[1].invert_yaxis()\n",
    "axs[1].xaxis.tick_top()\n",
    "axs[1].set_ylim(arr_corr_rel_stat_full_order.shape[0], 0)\n",
    "axs[1].set_xlim(0,arr_corr_rel_stat_full_order.shape[1])\n",
    "for sp in axs[1].spines:\n",
    "    axs[1].spines[sp].set_visible(False)\n",
    "\n",
    "\n",
    "idxs = [290,323]\n",
    "for idx in idxs:\n",
    "    axs[1].plot([idx,idx],[1,arr_corr_rel_stat_full_order.shape[0]], 'k', alpha=0.5)\n",
    "\n",
    "plt.show()\n",
    "\n",
    "\n",
    "# print([int(i) for i in clusters_sort[idxs[0]:idxs[-1]]])\n",
    "\n",
    "for i in range(idxs[0],idxs[-1]+1):\n",
    "    print(f'Cluster:: {clusters_sort[i]}\\tKO: {dict_idx_koname[i]}')\n",
    "    "
   ]
  },
  {
   "cell_type": "markdown",
   "metadata": {},
   "source": [
    "## Correlation between G1PA and NS 3um"
   ]
  },
  {
   "cell_type": "markdown",
   "metadata": {},
   "source": [
    "Get values from each"
   ]
  },
  {
   "cell_type": "code",
   "execution_count": 256,
   "metadata": {},
   "outputs": [],
   "source": [
    "asss = ['G1PA','G1NS']\n",
    "size = '3um'\n",
    "filt_nsam = 15\n",
    "ko_lists = []\n",
    "dicts = []\n",
    "total_counts = []\n",
    "for ass in asss:\n",
    "    # Subset table\n",
    "    bool_ass = table['assembly'] == ass\n",
    "    bool_size = table['size'] == size\n",
    "    table_sub = table[bool_ass & bool_size]\n",
    "    ko_list = table.columns[10:]\n",
    "    # get kos with lots of nonzero samples\n",
    "    n_nonzero = []\n",
    "    for ko in ko_list:\n",
    "        sc = table_sub[ko].values.astype(bool)\n",
    "        n_nonzero.append(sc.sum())\n",
    "    bool_ko = np.array(n_nonzero) > filt_nsam\n",
    "    ko_list_filt = np.array(ko_list)[bool_ko]\n",
    "    # Build out dictionaries \n",
    "    ko_lists.append(ko_list_filt)\n",
    "    dicts.append(table_sub[ko_list_filt].to_dict(orient='list'))\n",
    "    total_counts.append(table_sub['sample_sum_counts'].values)\n",
    "\n"
   ]
  },
  {
   "cell_type": "markdown",
   "metadata": {},
   "source": [
    "Get correlations"
   ]
  },
  {
   "cell_type": "code",
   "execution_count": 262,
   "metadata": {},
   "outputs": [],
   "source": [
    "shape = [len(l) for l in ko_lists]\n",
    "arr_corr_rel = np.zeros(shape + [2])\n",
    "for i, koi in enumerate(ko_lists[0]):\n",
    "    ci = np.array(dicts[0][koi]) / total_counts[0]\n",
    "    booli = ci.astype(bool)\n",
    "    for j, koj in enumerate(ko_lists[1]):\n",
    "        cj = np.array(dicts[1][koj]) / total_counts[1]\n",
    "        boolj = cj.astype(bool)\n",
    "        bools = booli*boolj\n",
    "        if sum(bools):\n",
    "            cib = ci[bools]\n",
    "            cjb = cj[bools]\n",
    "            cibl = np.log(cib)\n",
    "            cjbl = np.log(cjb)\n",
    "            res = stats.spearmanr(cibl,cjbl)\n",
    "            stat = res.statistic\n",
    "            pval = res.pvalue\n",
    "        else:\n",
    "            stat = 0\n",
    "            pval = 1\n",
    "        arr_corr_rel[i,j,:] = [stat, pval]                "
   ]
  },
  {
   "cell_type": "markdown",
   "metadata": {},
   "source": [
    "Get linkage in both axes"
   ]
  },
  {
   "cell_type": "code",
   "execution_count": 263,
   "metadata": {},
   "outputs": [],
   "source": [
    "arr_corr_rel_stat_full = arr_corr_rel[:,:,0]\n",
    "\n",
    "lnki = hierarchy.linkage(arr_corr_rel_stat_full)\n",
    "fig = plt.figure(figsize=(40,10))\n",
    "dn = hierarchy.dendrogram(lnki)\n",
    "plt.show()"
   ]
  },
  {
   "cell_type": "code",
   "execution_count": 264,
   "metadata": {},
   "outputs": [],
   "source": [
    "lnkj = hierarchy.linkage(arr_corr_rel_stat_full.T)\n",
    "fig = plt.figure(figsize=(40,10))\n",
    "dn = hierarchy.dendrogram(lnkj)\n",
    "plt.show()"
   ]
  },
  {
   "cell_type": "markdown",
   "metadata": {},
   "source": [
    "Get linkage order"
   ]
  },
  {
   "cell_type": "code",
   "execution_count": 265,
   "metadata": {},
   "outputs": [],
   "source": [
    "ko_orderi = hierarchy.leaves_list(lnki)\n",
    "ko_orderj = hierarchy.leaves_list(lnkj)"
   ]
  },
  {
   "cell_type": "markdown",
   "metadata": {},
   "source": [
    "Map index to KO"
   ]
  },
  {
   "cell_type": "code",
   "execution_count": 284,
   "metadata": {},
   "outputs": [],
   "source": [
    "dict_idi_koname = {}\n",
    "for idx, ogidx in enumerate(ko_orderi):\n",
    "    ko = ko_lists[0][ogidx]\n",
    "    koname = dict_ko_name[ko]\n",
    "    dict_idi_koname[idx] = koname\n",
    "\n",
    "dict_idj_koname = {}\n",
    "for idx, ogidx in enumerate(ko_orderj):\n",
    "    ko = ko_lists[1][ogidx]\n",
    "    koname = dict_ko_name[ko]\n",
    "    dict_idj_koname[idx] = koname"
   ]
  },
  {
   "cell_type": "markdown",
   "metadata": {},
   "source": [
    "Reorder matrix rows"
   ]
  },
  {
   "cell_type": "code",
   "execution_count": 278,
   "metadata": {},
   "outputs": [],
   "source": [
    "dict_idx_row = {i: r for i, r in enumerate(arr_corr_rel_stat_full)}\n",
    "arr_new = []\n",
    "for idx in ko_orderi:\n",
    "    arr_new.append(dict_idx_row[idx])\n",
    "arr_new = np.array(arr_new)"
   ]
  },
  {
   "cell_type": "markdown",
   "metadata": {},
   "source": [
    "Reorder matrix columns"
   ]
  },
  {
   "cell_type": "code",
   "execution_count": 279,
   "metadata": {},
   "outputs": [],
   "source": [
    "dict_idx_row = {i: r for i, r in enumerate(arr_new.T)}\n",
    "arr_corr_rel_stat_full_order = []\n",
    "for idx in ko_orderj:\n",
    "    arr_corr_rel_stat_full_order.append(dict_idx_row[idx])\n",
    "arr_corr_rel_stat_full_order = np.array(arr_corr_rel_stat_full_order)"
   ]
  },
  {
   "cell_type": "markdown",
   "metadata": {},
   "source": [
    "Plot clustered matrix"
   ]
  },
  {
   "cell_type": "code",
   "execution_count": 280,
   "metadata": {},
   "outputs": [],
   "source": [
    "plt.imshow(arr_corr_rel_stat_full_order, cmap='coolwarm')\n",
    "plt.colorbar()\n",
    "plt.xlabel('KOs G1PA 3um')\n",
    "plt.ylabel('KOs G1NS 3um')"
   ]
  },
  {
   "cell_type": "markdown",
   "metadata": {},
   "source": [
    "Pick out genes"
   ]
  },
  {
   "cell_type": "code",
   "execution_count": 287,
   "metadata": {},
   "outputs": [],
   "source": [
    "dims=(10,10)\n",
    "\n",
    "\n",
    "\n",
    "clusters_plot = np.vstack([clusters_sort_new]*2)\n",
    "fig = plt.figure(figsize=dims)\n",
    "axs = {\n",
    "    0: fig.add_axes([0.05, 0.05, 0.9, 0.9]),\n",
    "}\n",
    "\n",
    "axs[0].imshow(arr_corr_rel_stat_full_order, cmap='coolwarm', origin='upper')\n",
    "# axs[1].set_yticks([])\n",
    "# axs[1].set_xticks(np.arange(25, arr_corr_rel_stat_full_order.shape[1],25))\n",
    "# # axs[1].invert_yaxis()\n",
    "# axs[1].xaxis.tick_top()\n",
    "axs[0].set_ylim(arr_corr_rel_stat_full_order.shape[0], 0)\n",
    "axs[0].set_xlim(0,arr_corr_rel_stat_full_order.shape[1])\n",
    "# for sp in axs[1].spines:\n",
    "#     axs[1].spines[sp].set_visible(False)\n",
    "\n",
    "idxcol = [135,180]\n",
    "for idx in idxcol:\n",
    "    axs[0].plot([idx,idx],[1,arr_corr_rel_stat_full_order.shape[0]], 'k', alpha=0.5)\n",
    "\n",
    "idxrow = [300,323]\n",
    "for idx in idxrow:\n",
    "    axs[0].plot([1,arr_corr_rel_stat_full_order.shape[1]], [idx,idx], 'k', alpha=0.5)\n",
    "\n",
    "plt.show()\n",
    "\n",
    "\n",
    "# print([int(i) for i in clusters_sort[idxs[0]:idxs[-1]]])\n",
    "\n",
    "print('\\nG1PA')\n",
    "for i in range(idxcol[0],idxcol[-1]):\n",
    "    print(dict_idi_koname[i])\n",
    "\n",
    "\n",
    "print('\\nG1NS')\n",
    "for i in range(idxrow[0],idxrow[-1]):\n",
    "    print(dict_idj_koname[i])\n",
    "    "
   ]
  },
  {
   "cell_type": "code",
   "execution_count": null,
   "metadata": {},
   "outputs": [],
   "source": []
  }
 ],
 "metadata": {
  "kernelspec": {
   "display_name": "Python 3 (ipykernel)",
   "language": "python",
   "name": "python3"
  }
 },
 "nbformat": 4,
 "nbformat_minor": 2
}
