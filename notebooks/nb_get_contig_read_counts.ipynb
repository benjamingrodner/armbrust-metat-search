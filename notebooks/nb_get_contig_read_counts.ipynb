{
 "cells": [
  {
   "cell_type": "markdown",
   "metadata": {},
   "source": [
    "# Get read counts from metaT "
   ]
  },
  {
   "cell_type": "markdown",
   "metadata": {},
   "source": [
    "Given dictionaries with lists of contigs as the values"
   ]
  },
  {
   "cell_type": "markdown",
   "metadata": {},
   "source": [
    "## Setup"
   ]
  },
  {
   "cell_type": "code",
   "execution_count": 19,
   "metadata": {},
   "outputs": [],
   "source": [
    "import pandas as pd\n",
    "from collections import * \n",
    "import os \n",
    "import re\n",
    "import json\n",
    "from time import time\n",
    "import numpy as np\n",
    "import tarfile\n",
    "import gzip\n",
    "import itertools\n",
    "import glob\n",
    "import matplotlib.pyplot as plt\n",
    "import numpy as np\n",
    "import tarfile"
   ]
  },
  {
   "cell_type": "code",
   "execution_count": 14,
   "metadata": {},
   "outputs": [
    {
     "data": {
      "text/plain": [
       "'/scratch/bgrodner'"
      ]
     },
     "execution_count": 14,
     "metadata": {},
     "output_type": "execute_result"
    }
   ],
   "source": [
    "os.getcwd()"
   ]
  },
  {
   "cell_type": "code",
   "execution_count": 3,
   "metadata": {},
   "outputs": [],
   "source": [
    "workdir = '/scratch/bgrodner'\n",
    "os.chdir(workdir)\n"
   ]
  },
  {
   "cell_type": "code",
   "execution_count": 4,
   "metadata": {},
   "outputs": [
    {
     "data": {
      "text/plain": [
       "'/scratch/bgrodner'"
      ]
     },
     "execution_count": 4,
     "metadata": {},
     "output_type": "execute_result"
    }
   ],
   "source": [
    "os.getcwd()"
   ]
  },
  {
   "cell_type": "code",
   "execution_count": 5,
   "metadata": {},
   "outputs": [
    {
     "data": {
      "text/plain": [
       "['.DS_Store',\n",
       " '._.DS_Store',\n",
       " 'repo_armbrust_metat_search',\n",
       " 'containers',\n",
       " '._ko00001.json',\n",
       " 'iron_ko_contigs']"
      ]
     },
     "execution_count": 5,
     "metadata": {},
     "output_type": "execute_result"
    }
   ],
   "source": [
    "os.listdir()"
   ]
  },
  {
   "cell_type": "markdown",
   "metadata": {},
   "source": [
    "## Get a list of contigs"
   ]
  },
  {
   "cell_type": "markdown",
   "metadata": {},
   "source": [
    "Load dict"
   ]
  },
  {
   "cell_type": "code",
   "execution_count": 7,
   "metadata": {},
   "outputs": [
    {
     "name": "stdout",
     "output_type": "stream",
     "text": [
      "283\n"
     ]
    }
   ],
   "source": [
    "path_dicts = 'iron_ko_contigs/metat_search_results/dicts_iron_KO_contig'\n",
    "fn_dict = 'NPac.G3PA_PM.bf100.id99.aa.best.kofam.incT30.csv.gz-iron_KOs.txt-dict.json'\n",
    "fn_dict_full = path_dicts + '/' + fn_dict\n",
    "with open(fn_dict_full, 'r') as f:\n",
    "    dict_ko_contig = json.load(f)\n",
    "print(len(dict_ko_contig))"
   ]
  },
  {
   "cell_type": "markdown",
   "metadata": {},
   "source": [
    "Merge to make a list and save"
   ]
  },
  {
   "cell_type": "code",
   "execution_count": 18,
   "metadata": {},
   "outputs": [
    {
     "data": {
      "text/plain": [
       "'G3.UW.PA.UW24_1.7m_PM.0.2um_TRINITY_DN1001371_c1_g1_i1'"
      ]
     },
     "execution_count": 18,
     "metadata": {},
     "output_type": "execute_result"
    }
   ],
   "source": [
    "name = 'G3.UW.PA.UW24_1.7m_PM.0.2um_TRINITY_DN1001371_c1_g1_i1_1'\n",
    "\n",
    "re.split(r'_\\d+$',name)[0]"
   ]
  },
  {
   "cell_type": "code",
   "execution_count": 10,
   "metadata": {},
   "outputs": [],
   "source": [
    "fn_out = 'iron_ko_contigs/iron_contigs.txt'\n",
    "with open(fn_out, 'w') as fo:\n",
    "    for ko, contigs in dict_ko_contig.items():\n",
    "        for c in contigs:\n",
    "            fo.write(f'{c}\\n')\n"
   ]
  },
  {
   "cell_type": "markdown",
   "metadata": {},
   "source": [
    "## Get read counts for contig"
   ]
  },
  {
   "cell_type": "markdown",
   "metadata": {},
   "source": [
    "Get the filenames"
   ]
  },
  {
   "cell_type": "code",
   "execution_count": 12,
   "metadata": {},
   "outputs": [
    {
     "data": {
      "text/plain": [
       "['/mnt/nfs/projects/armbrust-metat/gradients3/g3_uw_pa_pm_metat/assemblies/kallisto/G3PA_PM.G3.UW.PA.UW36_1.7m_PM.3um.A.abundance.tsv.gz',\n",
       " '/mnt/nfs/projects/armbrust-metat/gradients3/g3_uw_pa_pm_metat/assemblies/kallisto/G3PA_PM.G3.UW.PA.UW33_1.7m_PM.0.2um.C.abundance.tsv.gz',\n",
       " '/mnt/nfs/projects/armbrust-metat/gradients3/g3_uw_pa_pm_metat/assemblies/kallisto/G3PA_PM.G3.UW.PA.UW37_1.7m_PM.0.2um.A.abundance.tsv.gz',\n",
       " '/mnt/nfs/projects/armbrust-metat/gradients3/g3_uw_pa_pm_metat/assemblies/kallisto/G3PA_PM.G3.UW.PA.UW37_2.7m_PM.3um.A.abundance.tsv.gz',\n",
       " '/mnt/nfs/projects/armbrust-metat/gradients3/g3_uw_pa_pm_metat/assemblies/kallisto/G3PA_PM.G3.UW.PA.UW33_1.7m_PM.0.2um.B.abundance.tsv.gz',\n",
       " '/mnt/nfs/projects/armbrust-metat/gradients3/g3_uw_pa_pm_metat/assemblies/kallisto/G3PA_PM.G3.UW.PA.UW27_1.7m_PM.0.2um.BC.abundance.tsv.gz',\n",
       " '/mnt/nfs/projects/armbrust-metat/gradients3/g3_uw_pa_pm_metat/assemblies/kallisto/G3PA_PM.G3.UW.PA.UW24_1.7m_PM.0.2um.B.abundance.tsv.gz',\n",
       " '/mnt/nfs/projects/armbrust-metat/gradients3/g3_uw_pa_pm_metat/assemblies/kallisto/G3PA_PM.G3.UW.PA.UW33_1.7m_PM.0.2um.A.abundance.tsv.gz',\n",
       " '/mnt/nfs/projects/armbrust-metat/gradients3/g3_uw_pa_pm_metat/assemblies/kallisto/G3PA_PM.G3.UW.PA.UW37_2.7m_PM.3um.B.abundance.tsv.gz',\n",
       " '/mnt/nfs/projects/armbrust-metat/gradients3/g3_uw_pa_pm_metat/assemblies/kallisto/G3PA_PM.G3.UW.PA.UW37_1.7m_PM.0.2um.B.abundance.tsv.gz',\n",
       " '/mnt/nfs/projects/armbrust-metat/gradients3/g3_uw_pa_pm_metat/assemblies/kallisto/G3PA_PM.G3.UW.PA.UW36_1.7m_PM.3um.C.abundance.tsv.gz',\n",
       " '/mnt/nfs/projects/armbrust-metat/gradients3/g3_uw_pa_pm_metat/assemblies/kallisto/G3PA_PM.G3.UW.PA.UW37_2.7m_PM.3um.C.abundance.tsv.gz',\n",
       " '/mnt/nfs/projects/armbrust-metat/gradients3/g3_uw_pa_pm_metat/assemblies/kallisto/G3PA_PM.G3.UW.PA.UW36_1.7m_PM.3um.B.abundance.tsv.gz',\n",
       " '/mnt/nfs/projects/armbrust-metat/gradients3/g3_uw_pa_pm_metat/assemblies/kallisto/G3PA_PM.G3.UW.PA.UW36_1.7m_PM.0.2um.B.abundance.tsv.gz',\n",
       " '/mnt/nfs/projects/armbrust-metat/gradients3/g3_uw_pa_pm_metat/assemblies/kallisto/G3PA_PM.G3.UW.PA.UW33_1.7m_PM.3um.B.abundance.tsv.gz',\n",
       " '/mnt/nfs/projects/armbrust-metat/gradients3/g3_uw_pa_pm_metat/assemblies/kallisto/G3PA_PM.G3.UW.PA.UW32_2.7m_PM.3um.C.abundance.tsv.gz',\n",
       " '/mnt/nfs/projects/armbrust-metat/gradients3/g3_uw_pa_pm_metat/assemblies/kallisto/G3PA_PM.G3.UW.PA.UW42_1.7m_PM.3um.A.abundance.tsv.gz',\n",
       " '/mnt/nfs/projects/armbrust-metat/gradients3/g3_uw_pa_pm_metat/assemblies/kallisto/G3PA_PM.G3.UW.PA.UW27_1.7m_PM.3um.BC.abundance.tsv.gz',\n",
       " '/mnt/nfs/projects/armbrust-metat/gradients3/g3_uw_pa_pm_metat/assemblies/kallisto/G3PA_PM.G3.UW.PA.UW36_1.7m_PM.0.2um.C.abundance.tsv.gz',\n",
       " '/mnt/nfs/projects/armbrust-metat/gradients3/g3_uw_pa_pm_metat/assemblies/kallisto/G3PA_PM.G3.UW.PA.UW37_1.7m_PM.3um.B.abundance.tsv.gz',\n",
       " '/mnt/nfs/projects/armbrust-metat/gradients3/g3_uw_pa_pm_metat/assemblies/kallisto/G3PA_PM.G3.UW.PA.UW33_1.7m_PM.3um.C.abundance.tsv.gz',\n",
       " '/mnt/nfs/projects/armbrust-metat/gradients3/g3_uw_pa_pm_metat/assemblies/kallisto/G3PA_PM.G3.UW.PA.UW32_2.7m_PM.3um.B.abundance.tsv.gz',\n",
       " '/mnt/nfs/projects/armbrust-metat/gradients3/g3_uw_pa_pm_metat/assemblies/kallisto/G3PA_PM.G3.UW.PA.UW38_2.7m_PM.0.2um.A.abundance.tsv.gz',\n",
       " '/mnt/nfs/projects/armbrust-metat/gradients3/g3_uw_pa_pm_metat/assemblies/kallisto/G3PA_PM.G3.UW.PA.UW38_2.7m_PM.0.2um.B.abundance.tsv.gz',\n",
       " '/mnt/nfs/projects/armbrust-metat/gradients3/g3_uw_pa_pm_metat/assemblies/kallisto/G3PA_PM.G3.UW.PA.UW42_1.7m_PM.3um.C.abundance.tsv.gz',\n",
       " '/mnt/nfs/projects/armbrust-metat/gradients3/g3_uw_pa_pm_metat/assemblies/kallisto/G3PA_PM.G3.UW.PA.UW32_2.7m_PM.3um.A.abundance.tsv.gz',\n",
       " '/mnt/nfs/projects/armbrust-metat/gradients3/g3_uw_pa_pm_metat/assemblies/kallisto/G3PA_PM.G3.UW.PA.UW37_1.7m_PM.3um.A.abundance.tsv.gz',\n",
       " '/mnt/nfs/projects/armbrust-metat/gradients3/g3_uw_pa_pm_metat/assemblies/kallisto/G3PA_PM.G3.UW.PA.UW31_1.7m_PM.3um.BC.abundance.tsv.gz',\n",
       " '/mnt/nfs/projects/armbrust-metat/gradients3/g3_uw_pa_pm_metat/assemblies/kallisto/G3PA_PM.G3.UW.PA.UW42_1.7m_PM.3um.B.abundance.tsv.gz',\n",
       " '/mnt/nfs/projects/armbrust-metat/gradients3/g3_uw_pa_pm_metat/assemblies/kallisto/G3PA_PM.G3.UW.PA.UW38_2.7m_PM.0.2um.C.abundance.tsv.gz',\n",
       " '/mnt/nfs/projects/armbrust-metat/gradients3/g3_uw_pa_pm_metat/assemblies/kallisto/G3PA_PM.G3.UW.PA.UW33_1.7m_PM.3um.A.abundance.tsv.gz',\n",
       " '/mnt/nfs/projects/armbrust-metat/gradients3/g3_uw_pa_pm_metat/assemblies/kallisto/G3PA_PM.G3.UW.PA.UW36_1.7m_PM.0.2um.A.abundance.tsv.gz',\n",
       " '/mnt/nfs/projects/armbrust-metat/gradients3/g3_uw_pa_pm_metat/assemblies/kallisto/G3PA_PM.G3.UW.PA.UW34_1.7m_PM.0.2um.C.abundance.tsv.gz',\n",
       " '/mnt/nfs/projects/armbrust-metat/gradients3/g3_uw_pa_pm_metat/assemblies/kallisto/G3PA_PM.G3.UW.PA.UW38_2.7m_PM.3um.A.abundance.tsv.gz',\n",
       " '/mnt/nfs/projects/armbrust-metat/gradients3/g3_uw_pa_pm_metat/assemblies/kallisto/G3PA_PM.G3.UW.PA.UW37_2.7m_PM.0.2um.B.abundance.tsv.gz',\n",
       " '/mnt/nfs/projects/armbrust-metat/gradients3/g3_uw_pa_pm_metat/assemblies/kallisto/G3PA_PM.G3.UW.PA.UW34_1.7m_PM.0.2um.B.abundance.tsv.gz',\n",
       " '/mnt/nfs/projects/armbrust-metat/gradients3/g3_uw_pa_pm_metat/assemblies/kallisto/G3PA_PM.G3.UW.PA.UW27_1.7m_PM.0.2um.A.abundance.tsv.gz',\n",
       " '/mnt/nfs/projects/armbrust-metat/gradients3/g3_uw_pa_pm_metat/assemblies/kallisto/G3PA_PM.G3.UW.PA.UW37_2.7m_PM.0.2um.C.abundance.tsv.gz',\n",
       " '/mnt/nfs/projects/armbrust-metat/gradients3/g3_uw_pa_pm_metat/assemblies/kallisto/G3PA_PM.G3.UW.PA.UW34_1.7m_PM.0.2um.A.abundance.tsv.gz',\n",
       " '/mnt/nfs/projects/armbrust-metat/gradients3/g3_uw_pa_pm_metat/assemblies/kallisto/G3PA_PM.G3.UW.PA.UW38_2.7m_PM.3um.C.abundance.tsv.gz',\n",
       " '/mnt/nfs/projects/armbrust-metat/gradients3/g3_uw_pa_pm_metat/assemblies/kallisto/G3PA_PM.G3.UW.PA.UW31_1.7m_PM.0.2um.BC.abundance.tsv.gz',\n",
       " '/mnt/nfs/projects/armbrust-metat/gradients3/g3_uw_pa_pm_metat/assemblies/kallisto/G3PA_PM.G3.UW.PA.UW37_2.7m_PM.0.2um.A.abundance.tsv.gz',\n",
       " '/mnt/nfs/projects/armbrust-metat/gradients3/g3_uw_pa_pm_metat/assemblies/kallisto/G3PA_PM.G3.UW.PA.UW31_1.7m_PM.3um.A.abundance.tsv.gz',\n",
       " '/mnt/nfs/projects/armbrust-metat/gradients3/g3_uw_pa_pm_metat/assemblies/kallisto/G3PA_PM.G3.UW.PA.UW38_2.7m_PM.3um.B.abundance.tsv.gz',\n",
       " '/mnt/nfs/projects/armbrust-metat/gradients3/g3_uw_pa_pm_metat/assemblies/kallisto/G3PA_PM.G3.UW.PA.UW24_1.7m_PM.0.2um.AC.abundance.tsv.gz',\n",
       " '/mnt/nfs/projects/armbrust-metat/gradients3/g3_uw_pa_pm_metat/assemblies/kallisto/G3PA_PM.G3.UW.PA.UW32_2.7m_PM.0.2um.C.abundance.tsv.gz',\n",
       " '/mnt/nfs/projects/armbrust-metat/gradients3/g3_uw_pa_pm_metat/assemblies/kallisto/G3PA_PM.G3.UW.PA.UW34_1.7m_PM.3um.A.abundance.tsv.gz',\n",
       " '/mnt/nfs/projects/armbrust-metat/gradients3/g3_uw_pa_pm_metat/assemblies/kallisto/G3PA_PM.G3.UW.PA.UW42_1.7m_PM.0.2um.A.abundance.tsv.gz',\n",
       " '/mnt/nfs/projects/armbrust-metat/gradients3/g3_uw_pa_pm_metat/assemblies/kallisto/G3PA_PM.G3.UW.PA.UW32_2.7m_PM.0.2um.B.abundance.tsv.gz',\n",
       " '/mnt/nfs/projects/armbrust-metat/gradients3/g3_uw_pa_pm_metat/assemblies/kallisto/G3PA_PM.G3.UW.PA.UW24_1.7m_PM.3um.A.abundance.tsv.gz',\n",
       " '/mnt/nfs/projects/armbrust-metat/gradients3/g3_uw_pa_pm_metat/assemblies/kallisto/G3PA_PM.G3.UW.PA.UW24_1.7m_PM.3um.B.abundance.tsv.gz',\n",
       " '/mnt/nfs/projects/armbrust-metat/gradients3/g3_uw_pa_pm_metat/assemblies/kallisto/G3PA_PM.G3.UW.PA.UW32_2.7m_PM.0.2um.A.abundance.tsv.gz',\n",
       " '/mnt/nfs/projects/armbrust-metat/gradients3/g3_uw_pa_pm_metat/assemblies/kallisto/G3PA_PM.G3.UW.PA.UW34_1.7m_PM.3um.C.abundance.tsv.gz',\n",
       " '/mnt/nfs/projects/armbrust-metat/gradients3/g3_uw_pa_pm_metat/assemblies/kallisto/G3PA_PM.G3.UW.PA.UW42_1.7m_PM.0.2um.B.abundance.tsv.gz',\n",
       " '/mnt/nfs/projects/armbrust-metat/gradients3/g3_uw_pa_pm_metat/assemblies/kallisto/G3PA_PM.G3.UW.PA.UW31_1.7m_PM.0.2um.A.abundance.tsv.gz',\n",
       " '/mnt/nfs/projects/armbrust-metat/gradients3/g3_uw_pa_pm_metat/assemblies/kallisto/G3PA_PM.G3.UW.PA.UW42_1.7m_PM.0.2um.C.abundance.tsv.gz',\n",
       " '/mnt/nfs/projects/armbrust-metat/gradients3/g3_uw_pa_pm_metat/assemblies/kallisto/G3PA_PM.G3.UW.PA.UW34_1.7m_PM.3um.B.abundance.tsv.gz']"
      ]
     },
     "execution_count": 12,
     "metadata": {},
     "output_type": "execute_result"
    }
   ],
   "source": [
    "dir_kallisto = '/mnt/nfs/projects/armbrust-metat/gradients3/g3_uw_pa_pm_metat/assemblies/kallisto'\n",
    "\n",
    "fns_kallisto = glob.glob(dir_kallisto + '/*')\n",
    "fns_kallisto = [fn for fn in fns_kallisto if '.tsv.gz' in fn]\n",
    "\n",
    "fns_kallisto"
   ]
  },
  {
   "cell_type": "markdown",
   "metadata": {},
   "source": [
    "Get the column names"
   ]
  },
  {
   "cell_type": "code",
   "execution_count": 13,
   "metadata": {},
   "outputs": [
    {
     "name": "stdout",
     "output_type": "stream",
     "text": [
      "target_id\tlength\teff_length\test_counts\ttpm\n",
      "\n",
      "G3.UW.PA.UW24_1.7m_PM.0.2um_TRINITY_DN224191_c0_g1_i1\t1025\t832.167\t0\t0\n",
      "\n",
      "G3.UW.PA.UW24_1.7m_PM.0.2um_TRINITY_DN224120_c0_g1_i2\t2898\t2705.17\t0\t0\n",
      "\n"
     ]
    }
   ],
   "source": [
    "fn = fns_kallisto[0]\n",
    "with gzip.open(fn, 'rt') as f:\n",
    "    for _ in range(3):\n",
    "        print(f.readline())"
   ]
  },
  {
   "cell_type": "markdown",
   "metadata": {},
   "source": [
    "Try with tar files"
   ]
  },
  {
   "cell_type": "code",
   "execution_count": 23,
   "metadata": {},
   "outputs": [
    {
     "name": "stdout",
     "output_type": "stream",
     "text": [
      "G3PA_UW\n",
      "G3PA_UW/G3PA.UW24.run_info.json\n",
      "G3PA_UW/G3PA.UW51.run_info.json\n",
      "G3PA_UW/G3PA.UW30.run_info.json\n",
      "G3PA_UW/G3PA.UW63.abundance.tsv\n",
      "G3PA_UW/G3PA.UW45.run_info.json\n",
      "G3PA_UW/G3PA.UW16.abundance.tsv\n",
      "G3PA_UW/G3PA.UW4.abundance.tsv\n",
      "G3PA_UW/G3PA.UW35.run_info.json\n",
      "G3PA_UW/G3PA.UW66.abundance.tsv\n",
      "G3PA_UW/G3PA.UW40.run_info.json\n",
      "G3PA_UW/G3PA.UW13.abundance.tsv\n",
      "G3PA_UW/G3PA.UW21.run_info.json\n",
      "G3PA_UW/G3PA.UW54.run_info.json\n",
      "G3PA_UW/G3PA.UW1.abundance.tsv\n",
      "G3PA_UW/G3PA.UW55.abundance.tsv\n",
      "G3PA_UW/G3PA.UW20.abundance.tsv\n",
      "G3PA_UW/G3PA.UW12.run_info.json\n",
      "G3PA_UW/G3PA.UW41.abundance.tsv\n",
      "G3PA_UW/G3PA_UW.station_samples.txt\n",
      "G3PA_UW/G3PA.UW67.run_info.json\n",
      "G3PA_UW/G3PA.UW34.abundance.tsv\n",
      "G3PA_UW/G3PA.UW17.run_info.json\n",
      "G3PA_UW/G3PA.UW44.abundance.tsv\n",
      "G3PA_UW/G3PA.UW62.run_info.json\n",
      "G3PA_UW/G3PA.UW31.abundance.tsv\n",
      "G3PA_UW/G3PA.UW50.abundance.tsv\n",
      "G3PA_UW/G3PA.UW25.abundance.tsv\n",
      "G3PA_UW/G3PA.UW19.abundance.tsv\n",
      "G3PA_UW/G3PA.UW5.run_info.json\n",
      "G3PA_UW/G3PA.UW60.run_info.json\n",
      "G3PA_UW/G3PA.UW33.abundance.tsv\n",
      "G3PA_UW/G3PA.UW46.abundance.tsv\n",
      "G3PA_UW/G3PA.UW9.abundance.tsv\n",
      "G3PA_UW/G3PA.UW27.abundance.tsv\n",
      "G3PA_UW/G3PA.UW52.abundance.tsv\n",
      "G3PA_UW/G3PA.UW48.run_info.json\n",
      "G3PA_UW/G3PA.UW29.run_info.json\n",
      "G3PA_UW/G3PA.UW7.run_info.json\n",
      "G3PA_UW/G3PA.UW22.abundance.tsv\n",
      "G3PA_UW/G3PA.UW57.abundance.tsv\n",
      "G3PA_UW/G3PA.UW36.abundance.tsv\n",
      "G3PA_UW/G3PA.UW10.run_info.json\n",
      "G3PA_UW/G3PA.UW43.abundance.tsv\n",
      "G3PA_UW/G3PA.UW59.run_info.json\n",
      "G3PA_UW/G3PA.UW2.run_info.json\n",
      "G3PA_UW/G3PA.UW38.run_info.json\n",
      "G3PA_UW/G3PA.UW42.run_info.json\n",
      "G3PA_UW/G3PA.UW11.abundance.tsv\n",
      "G3PA_UW/G3PA.UW37.run_info.json\n",
      "G3PA_UW/G3PA.UW64.abundance.tsv\n",
      "G3PA_UW/G3PA.UW56.run_info.json\n",
      "G3PA_UW/G3PA.UW23.run_info.json\n",
      "G3PA_UW/G3PA.UW39.abundance.tsv\n",
      "G3PA_UW/G3PA.UW53.run_info.json\n",
      "G3PA_UW/G3PA.UW26.run_info.json\n",
      "G3PA_UW/G3PA.UW8.run_info.json\n",
      "G3PA_UW/G3PA.UW47.run_info.json\n",
      "G3PA_UW/G3PA.UW14.abundance.tsv\n",
      "G3PA_UW/G3PA.UW32.run_info.json\n",
      "G3PA_UW/G3PA.UW28.abundance.tsv\n",
      "G3PA_UW/G3PA.UW49.abundance.tsv\n",
      "G3PA_UW/G3PA.UW52.run_info.json\n",
      "G3PA_UW/G3PA.UW9.run_info.json\n",
      "G3PA_UW/G3PA.UW27.run_info.json\n",
      "G3PA_UW/G3PA.UW46.run_info.json\n",
      "G3PA_UW/G3PA.UW33.run_info.json\n",
      "G3PA_UW/G3PA.UW60.abundance.tsv\n",
      "G3PA_UW/G3PA.UW29.abundance.tsv\n",
      "G3PA_UW/G3PA.UW7.abundance.tsv\n",
      "G3PA_UW/G3PA.UW48.abundance.tsv\n",
      "G3PA_UW/G3PA.UW43.run_info.json\n",
      "G3PA_UW/G3PA.UW10.abundance.tsv\n",
      "G3PA_UW/G3PA.UW36.run_info.json\n",
      "G3PA_UW/G3PA.UW57.run_info.json\n",
      "G3PA_UW/G3PA.UW22.run_info.json\n",
      "G3PA_UW/G3PA.UW38.abundance.tsv\n",
      "G3PA_UW/G3PA_UW.kallisto_launch.sh\n",
      "G3PA_UW/G3PA.UW2.abundance.tsv\n",
      "G3PA_UW/G3PA.UW59.abundance.tsv\n",
      "G3PA_UW/G3PA.UW23.abundance.tsv\n",
      "G3PA_UW/G3PA.UW56.abundance.tsv\n",
      "G3PA_UW/G3PA.UW64.run_info.json\n",
      "G3PA_UW/G3PA.UW37.abundance.tsv\n",
      "G3PA_UW/G3PA.UW11.run_info.json\n",
      "G3PA_UW/G3PA.UW42.abundance.tsv\n",
      "G3PA_UW/G3PA.UW39.run_info.json\n",
      "G3PA_UW/G3PA.UW32.abundance.tsv\n",
      "G3PA_UW/G3PA.UW14.run_info.json\n",
      "G3PA_UW/G3PA.UW47.abundance.tsv\n",
      "G3PA_UW/G3PA.UW26.abundance.tsv\n",
      "G3PA_UW/G3PA.UW8.abundance.tsv\n",
      "G3PA_UW/G3PA.UW53.abundance.tsv\n",
      "G3PA_UW/G3PA.UW49.run_info.json\n",
      "G3PA_UW/G3PA.UW28.run_info.json\n",
      "G3PA_UW/G3PA.UW16.run_info.json\n",
      "G3PA_UW/G3PA.UW45.abundance.tsv\n",
      "G3PA_UW/G3PA.UW63.run_info.json\n",
      "G3PA_UW/G3PA.UW30.abundance.tsv\n",
      "G3PA_UW/G3PA.UW51.abundance.tsv\n",
      "G3PA_UW/G3PA.UW24.abundance.tsv\n",
      "G3PA_UW/G3PA.UW4.run_info.json\n",
      "G3PA_UW/G3PA.UW54.abundance.tsv\n",
      "G3PA_UW/G3PA.UW21.abundance.tsv\n",
      "G3PA_UW/G3PA.UW13.run_info.json\n",
      "G3PA_UW/G3PA.UW40.abundance.tsv\n",
      "G3PA_UW/G3PA.UW66.run_info.json\n",
      "G3PA_UW/G3PA.UW35.abundance.tsv\n",
      "G3PA_UW/G3PA.UW1.run_info.json\n",
      "G3PA_UW/G3PA.UW34.run_info.json\n",
      "G3PA_UW/G3PA.UW67.abundance.tsv\n",
      "G3PA_UW/G3PA.UW41.run_info.json\n",
      "G3PA_UW/G3PA.UW12.abundance.tsv\n",
      "G3PA_UW/G3PA.UW20.run_info.json\n",
      "G3PA_UW/G3PA.UW55.run_info.json\n",
      "G3PA_UW/G3PA.UW25.run_info.json\n",
      "G3PA_UW/G3PA.UW50.run_info.json\n",
      "G3PA_UW/G3PA.UW31.run_info.json\n",
      "G3PA_UW/G3PA.UW62.abundance.tsv\n",
      "G3PA_UW/G3PA.UW44.run_info.json\n",
      "G3PA_UW/G3PA.UW17.abundance.tsv\n",
      "G3PA_UW/G3PA.UW5.abundance.tsv\n",
      "G3PA_UW/G3PA.UW19.run_info.json\n"
     ]
    }
   ],
   "source": [
    "fn_tar = '/mnt/nfs/projects/armbrust-metat/gradients3/g3_uw_pa_metat/assemblies/annotations/kallisto/G3PA.kallisto_abundance.tar.gz'\n",
    "\n",
    "with tarfile.open(fn_tar, \"r:gz\") as tar:\n",
    "    for name in tar:\n",
    "        print(name.name)"
   ]
  },
  {
   "cell_type": "code",
   "execution_count": 27,
   "metadata": {},
   "outputs": [
    {
     "name": "stdout",
     "output_type": "stream",
     "text": [
      "G3PA_UW/G3PA.UW32.abundance.tsv\n",
      "G3PA.UW32.abundance.tsv\n",
      "G3PA_UW/G3PA.UW14.run_info.json\n",
      "G3PA_UW/G3PA.UW47.abundance.tsv\n",
      "G3PA.UW47.abundance.tsv\n",
      "G3PA_UW/G3PA.UW26.abundance.tsv\n",
      "G3PA.UW26.abundance.tsv\n",
      "G3PA_UW/G3PA.UW8.abundance.tsv\n",
      "G3PA.UW8.abundance.tsv\n"
     ]
    }
   ],
   "source": [
    "l = [\n",
    "    'G3PA_UW/G3PA.UW32.abundance.tsv',\n",
    "    'G3PA_UW/G3PA.UW14.run_info.json',\n",
    "    'G3PA_UW/G3PA.UW47.abundance.tsv',\n",
    "    'G3PA_UW/G3PA.UW26.abundance.tsv',\n",
    "    'G3PA_UW/G3PA.UW8.abundance.tsv',\n",
    "]\n",
    "re_tar = '.abundance.tsv$'\n",
    "\n",
    "for n_ in l:\n",
    "    print(n_)\n",
    "    if bool(re.search(re_tar, n_)):\n",
    "        n = os.path.split(n_)[1]\n",
    "        print(n)\n"
   ]
  },
  {
   "cell_type": "markdown",
   "metadata": {},
   "source": [
    "Try to open just one file from tar"
   ]
  },
  {
   "cell_type": "code",
   "execution_count": 103,
   "metadata": {},
   "outputs": [
    {
     "name": "stdout",
     "output_type": "stream",
     "text": [
      "<TarInfo 'G3PA_UW' at 0x7f80ec9f9780>\n",
      "<TarInfo 'G3PA_UW/G3PA.UW24.run_info.json' at 0x7f80ecaf62c0>\n",
      "<TarInfo 'G3PA_UW/G3PA.UW51.run_info.json' at 0x7f80ecaf7b80>\n",
      "<TarInfo 'G3PA_UW/G3PA.UW30.run_info.json' at 0x7f80ecaf6500>\n",
      "<TarInfo 'G3PA_UW/G3PA.UW63.abundance.tsv' at 0x7f80ecaf7880>\n"
     ]
    }
   ],
   "source": [
    "import io\n",
    "dir_kallisto = '/mnt/nfs/projects/armbrust-metat/gradients3/g3_uw_pa_metat/assemblies/annotations/kallisto'\n",
    "fn = f'{dir_kallisto}/G3PA.kallisto_abundance.tar.gz'\n",
    "fn_tar = 'G3PA_UW/G3PA.UW63.abundance.tsv'\n",
    "tarf = tarfile.open(fn, \"r|gz\")\n",
    "for t in tarf:\n",
    "    print(t)\n",
    "    if fn_tar in t.name:\n",
    "        f = tarf.extractfile(t)\n",
    "        break\n",
    "\n",
    "    # for name in tar:\n",
    "    #     n = name.name\n",
    "    #     print(n)\n",
    "    #     if n == fn_tar:\n",
    "\n"
   ]
  },
  {
   "cell_type": "code",
   "execution_count": 104,
   "metadata": {},
   "outputs": [
    {
     "name": "stdout",
     "output_type": "stream",
     "text": [
      "['target_id', 'length', 'eff_length', 'est_counts', 'tpm\\n']\n",
      "['G3PA.UW10_TRINITY_DN1763430_c0_g1_i1', '378', '181.519', '0', '0\\n']\n",
      "['G3PA.UW10_TRINITY_DN1763488_c0_g1_i1', '515', '315.482', '0', '0\\n']\n",
      "['G3PA.UW10_TRINITY_DN1763501_c0_g1_i1', '390', '193.024', '0', '0\\n']\n"
     ]
    }
   ],
   "source": [
    "for _ in range(4):\n",
    "    print(re.split(r'\\t', f.readline().decode('utf-8')))"
   ]
  },
  {
   "cell_type": "code",
   "execution_count": 46,
   "metadata": {},
   "outputs": [
    {
     "data": {
      "text/plain": [
       "str"
      ]
     },
     "execution_count": 46,
     "metadata": {},
     "output_type": "execute_result"
    }
   ],
   "source": [
    "type(str(f.readline()))"
   ]
  },
  {
   "cell_type": "code",
   "execution_count": 49,
   "metadata": {},
   "outputs": [
    {
     "data": {
      "text/plain": [
       "'G3PA.UW10_TRINITY_DN1763462_c0_g1_i1\\t324\\t132.311\\t0\\t0\\n'"
      ]
     },
     "execution_count": 49,
     "metadata": {},
     "output_type": "execute_result"
    }
   ],
   "source": [
    "f.readline().decode('utf-8')"
   ]
  },
  {
   "cell_type": "code",
   "execution_count": null,
   "metadata": {},
   "outputs": [],
   "source": [
    "re.split(r'\\t', f.readline().decode)"
   ]
  },
  {
   "cell_type": "code",
   "execution_count": 50,
   "metadata": {},
   "outputs": [
    {
     "ename": "AttributeError",
     "evalue": "'str' object has no attribute 'decode'",
     "output_type": "error",
     "traceback": [
      "\u001b[0;31m---------------------------------------------------------------------------\u001b[0m",
      "\u001b[0;31mAttributeError\u001b[0m                            Traceback (most recent call last)",
      "Cell \u001b[0;32mIn[50], line 1\u001b[0m\n\u001b[0;32m----> 1\u001b[0m \u001b[38;5;124;43m'\u001b[39;49m\u001b[38;5;124;43mabcd\u001b[39;49m\u001b[38;5;124;43m'\u001b[39;49m\u001b[38;5;241;43m.\u001b[39;49m\u001b[43mdecode\u001b[49m(\u001b[38;5;124m'\u001b[39m\u001b[38;5;124mutf-8\u001b[39m\u001b[38;5;124m'\u001b[39m)\n",
      "\u001b[0;31mAttributeError\u001b[0m: 'str' object has no attribute 'decode'"
     ]
    }
   ],
   "source": [
    "'abcd'.decode('utf-8')"
   ]
  },
  {
   "cell_type": "markdown",
   "metadata": {},
   "source": [
    "Read tar filenames file"
   ]
  },
  {
   "cell_type": "code",
   "execution_count": 56,
   "metadata": {},
   "outputs": [
    {
     "ename": "AttributeError",
     "evalue": "'list' object has no attribute 'splitlines'",
     "output_type": "error",
     "traceback": [
      "\u001b[0;31m---------------------------------------------------------------------------\u001b[0m",
      "\u001b[0;31mAttributeError\u001b[0m                            Traceback (most recent call last)",
      "Cell \u001b[0;32mIn[56], line 4\u001b[0m\n\u001b[1;32m      1\u001b[0m fn_tar_names_full \u001b[38;5;241m=\u001b[39m \u001b[38;5;124m'\u001b[39m\u001b[38;5;124miron_ko_contigs/metat_search_results/dicts_iron_KO_contig/tar_names/G3PA.kallisto_abundance-tar_names.txt\u001b[39m\u001b[38;5;124m'\u001b[39m\n\u001b[1;32m      3\u001b[0m \u001b[38;5;28;01mwith\u001b[39;00m \u001b[38;5;28mopen\u001b[39m(fn_tar_names_full, \u001b[38;5;124m'\u001b[39m\u001b[38;5;124mr\u001b[39m\u001b[38;5;124m'\u001b[39m) \u001b[38;5;28;01mas\u001b[39;00m f:\n\u001b[0;32m----> 4\u001b[0m     tar_names \u001b[38;5;241m=\u001b[39m \u001b[43mf\u001b[49m\u001b[38;5;241;43m.\u001b[39;49m\u001b[43mreadlines\u001b[49m\u001b[43m(\u001b[49m\u001b[43m)\u001b[49m\u001b[38;5;241;43m.\u001b[39;49m\u001b[43msplitlines\u001b[49m()\n\u001b[1;32m      5\u001b[0m tar_names\n",
      "\u001b[0;31mAttributeError\u001b[0m: 'list' object has no attribute 'splitlines'"
     ]
    }
   ],
   "source": [
    "fn_tar_names_full = 'iron_ko_contigs/metat_search_results/dicts_iron_KO_contig/tar_names/G3PA.kallisto_abundance-tar_names.txt'\n",
    "\n",
    "with open(fn_tar_names_full, 'r') as f:\n",
    "    tar_names = f.read().splitlines()\n",
    "tar_names"
   ]
  },
  {
   "cell_type": "markdown",
   "metadata": {},
   "source": [
    "Extract tar name from wildcard"
   ]
  },
  {
   "cell_type": "code",
   "execution_count": 90,
   "metadata": {},
   "outputs": [
    {
     "name": "stdout",
     "output_type": "stream",
     "text": [
      "(?s:.*\\.tar\\.gz)\n",
      "G3PA.kallisto_abundance.tar.gz\n"
     ]
    }
   ],
   "source": [
    "import fnmatch\n",
    "\n",
    "glob_kallisto = '*.tar.gz'\n",
    "regex = fnmatch.translate(glob_kallisto)\n",
    "regex = regex.rstrip('\\Z')\n",
    "pattern = re.compile(regex)\n",
    "\n",
    "fn_kallisto = 'G3PA.kallisto_abundance.tar.gz.G3PA.UW63.abundance.tsv'\n",
    "\n",
    "print(regex)\n",
    "print(pattern.search(fn_kallisto)[0])"
   ]
  },
  {
   "cell_type": "code",
   "execution_count": 92,
   "metadata": {},
   "outputs": [
    {
     "data": {
      "text/plain": [
       "'G3PA.kallisto_abundance.tar.gz'"
      ]
     },
     "execution_count": 92,
     "metadata": {},
     "output_type": "execute_result"
    }
   ],
   "source": [
    "glob_kallisto = '*.tar.gz'\n",
    "regex = fnmatch.translate(glob_kallisto)\n",
    "regex = regex.rstrip('\\Z')\n",
    "re.match(regex, fn_kallisto)[0]"
   ]
  },
  {
   "cell_type": "code",
   "execution_count": 83,
   "metadata": {},
   "outputs": [
    {
     "name": "stdout",
     "output_type": "stream",
     "text": [
      "(?s:.*\\.txt)\\Z\n"
     ]
    },
    {
     "data": {
      "text/plain": [
       "<re.Match object; span=(0, 14), match='abc.foobar.txt'>"
      ]
     },
     "execution_count": 83,
     "metadata": {},
     "output_type": "execute_result"
    }
   ],
   "source": [
    "regex = fnmatch.translate('*.txt')\n",
    "print(regex)\n",
    "reobj = re.compile(regex)\n",
    "reobj.match('abc.foobar.txt')"
   ]
  },
  {
   "cell_type": "code",
   "execution_count": 82,
   "metadata": {},
   "outputs": [
    {
     "data": {
      "text/plain": [
       "<re.Match object; span=(0, 2), match='do'>"
      ]
     },
     "execution_count": 82,
     "metadata": {},
     "output_type": "execute_result"
    }
   ],
   "source": [
    "pattern = re.compile(\"do\")\n",
    "pattern.search(\"dog\")"
   ]
  },
  {
   "cell_type": "markdown",
   "metadata": {},
   "source": [
    "Extract sub filename from wildcard "
   ]
  },
  {
   "cell_type": "code",
   "execution_count": 98,
   "metadata": {},
   "outputs": [
    {
     "name": "stdout",
     "output_type": "stream",
     "text": [
      "(?s:.*\\.tar\\.gz\\.)\n"
     ]
    },
    {
     "data": {
      "text/plain": [
       "'G3PA.UW63.abundance.tsv'"
      ]
     },
     "execution_count": 98,
     "metadata": {},
     "output_type": "execute_result"
    }
   ],
   "source": [
    "fn_kallisto = 'G3PA.kallisto_abundance.tar.gz.G3PA.UW63.abundance.tsv'\n",
    "glob_kallisto = '*.tar.gz'\n",
    "\n",
    "\n",
    "regex = fnmatch.translate(glob_kallisto + '.')\n",
    "regex = regex.rstrip('\\Z')\n",
    "print(regex)\n",
    "re.split(regex, fn_kallisto)[1]"
   ]
  },
  {
   "cell_type": "code",
   "execution_count": 99,
   "metadata": {},
   "outputs": [],
   "source": [
    "a = pd.DataFrame({'a':[1,2],'b':[3,4]})"
   ]
  },
  {
   "cell_type": "code",
   "execution_count": 102,
   "metadata": {},
   "outputs": [
    {
     "data": {
      "text/plain": [
       "a    1\n",
       "b    3\n",
       "Name: 0, dtype: int64"
      ]
     },
     "execution_count": 102,
     "metadata": {},
     "output_type": "execute_result"
    }
   ],
   "source": [
    "a[a.a==1].squeeze()"
   ]
  },
  {
   "cell_type": "markdown",
   "metadata": {},
   "source": [
    "Get tar column names"
   ]
  },
  {
   "cell_type": "code",
   "execution_count": 119,
   "metadata": {},
   "outputs": [],
   "source": [
    "fns_tar = [\n",
    "    '/mnt/nfs/projects/armbrust-metat/gradients3/g3_diel_pa_metat/assemblies/annotations/kallisto/G3PA_diel.kallisto_abundance.tar.gz',\n",
    "    '/mnt/nfs/projects/armbrust-metat/gradients1/g1_station_pa_metat/assemblies/annotations/kallisto/G1PA.kallisto_abundance.tar.gz',\n",
    "    '/mnt/nfs/projects/armbrust-metat/gradients2/g2_station_pa_metat/assemblies/annotations/kallisto/G2PA.kallisto_abundance.tar.gz',\n",
    "    '/mnt/nfs/projects/armbrust-metat/scope_diel/diel_pa_metat/assemblies/annotations/kallisto/D1PA.kallisto_abundance.tar.gz',\n",
    "    \n",
    "]"
   ]
  },
  {
   "cell_type": "code",
   "execution_count": 120,
   "metadata": {},
   "outputs": [
    {
     "name": "stdout",
     "output_type": "stream",
     "text": [
      "D1PA\n",
      "D1PA/S06C1_C_600\n",
      "D1PA/S06C1_C_600/D1PA.S06C1_C_600.abundance.tsv\n",
      "D1PA/S06C1_C_600/D1PA.S06C1_C_600.run_info.json\n",
      "D1PA/S15C1_C_200\n",
      "D1PA/S15C1_C_200/D1PA.S15C1_C_200.run_info.json\n",
      "D1PA/S15C1_C_200/D1PA.S15C1_C_200.abundance.tsv\n",
      "D1PA/S34C1_C_2200\n",
      "D1PA/S34C1_C_2200/D1PA.S34C1_C_2200.abundance.tsv\n",
      "D1PA/S34C1_C_2200/D1PA.S34C1_C_2200.run_info.json\n",
      "D1PA/S16C1_B_600\n",
      "D1PA/S16C1_B_600/D1PA.S16C1_B_600.abundance.tsv\n",
      "D1PA/S16C1_B_600/D1PA.S16C1_B_600.run_info.json\n",
      "D1PA/S31C1_A_1000\n",
      "D1PA/S31C1_A_1000/D1PA.S31C1_A_1000.abundance.tsv\n"
     ]
    },
    {
     "ename": "KeyboardInterrupt",
     "evalue": "",
     "output_type": "error",
     "traceback": [
      "\u001b[0;31m---------------------------------------------------------------------------\u001b[0m",
      "\u001b[0;31mKeyboardInterrupt\u001b[0m                         Traceback (most recent call last)",
      "Cell \u001b[0;32mIn[120], line 5\u001b[0m\n\u001b[1;32m      3\u001b[0m fn \u001b[38;5;241m=\u001b[39m fns_tar[idx]\n\u001b[1;32m      4\u001b[0m tarf \u001b[38;5;241m=\u001b[39m tarfile\u001b[38;5;241m.\u001b[39mopen(fn, \u001b[38;5;124m\"\u001b[39m\u001b[38;5;124mr|gz\u001b[39m\u001b[38;5;124m\"\u001b[39m)\n\u001b[0;32m----> 5\u001b[0m \u001b[38;5;28;01mfor\u001b[39;00m t \u001b[38;5;129;01min\u001b[39;00m tarf:\n\u001b[1;32m      6\u001b[0m     \u001b[38;5;28mprint\u001b[39m(t\u001b[38;5;241m.\u001b[39mname)\n\u001b[1;32m      7\u001b[0m         \u001b[38;5;66;03m# if fn_tar in t.name:\u001b[39;00m\n\u001b[1;32m      8\u001b[0m         \u001b[38;5;66;03m#     f = tarf.extractfile(t)\u001b[39;00m\n\u001b[1;32m      9\u001b[0m         \u001b[38;5;66;03m#     break\u001b[39;00m\n",
      "File \u001b[0;32m/opt/conda/lib/python3.10/tarfile.py:2475\u001b[0m, in \u001b[0;36mTarFile.__iter__\u001b[0;34m(self)\u001b[0m\n\u001b[1;32m   2473\u001b[0m     tarinfo \u001b[38;5;241m=\u001b[39m \u001b[38;5;28mself\u001b[39m\u001b[38;5;241m.\u001b[39mmembers[index]\n\u001b[1;32m   2474\u001b[0m \u001b[38;5;28;01melif\u001b[39;00m \u001b[38;5;129;01mnot\u001b[39;00m \u001b[38;5;28mself\u001b[39m\u001b[38;5;241m.\u001b[39m_loaded:\n\u001b[0;32m-> 2475\u001b[0m     tarinfo \u001b[38;5;241m=\u001b[39m \u001b[38;5;28;43mself\u001b[39;49m\u001b[38;5;241;43m.\u001b[39;49m\u001b[43mnext\u001b[49m\u001b[43m(\u001b[49m\u001b[43m)\u001b[49m\n\u001b[1;32m   2476\u001b[0m     \u001b[38;5;28;01mif\u001b[39;00m \u001b[38;5;129;01mnot\u001b[39;00m tarinfo:\n\u001b[1;32m   2477\u001b[0m         \u001b[38;5;28mself\u001b[39m\u001b[38;5;241m.\u001b[39m_loaded \u001b[38;5;241m=\u001b[39m \u001b[38;5;28;01mTrue\u001b[39;00m\n",
      "File \u001b[0;32m/opt/conda/lib/python3.10/tarfile.py:2342\u001b[0m, in \u001b[0;36mTarFile.next\u001b[0;34m(self)\u001b[0m\n\u001b[1;32m   2340\u001b[0m \u001b[38;5;66;03m# Advance the file pointer.\u001b[39;00m\n\u001b[1;32m   2341\u001b[0m \u001b[38;5;28;01mif\u001b[39;00m \u001b[38;5;28mself\u001b[39m\u001b[38;5;241m.\u001b[39moffset \u001b[38;5;241m!=\u001b[39m \u001b[38;5;28mself\u001b[39m\u001b[38;5;241m.\u001b[39mfileobj\u001b[38;5;241m.\u001b[39mtell():\n\u001b[0;32m-> 2342\u001b[0m     \u001b[38;5;28;43mself\u001b[39;49m\u001b[38;5;241;43m.\u001b[39;49m\u001b[43mfileobj\u001b[49m\u001b[38;5;241;43m.\u001b[39;49m\u001b[43mseek\u001b[49m\u001b[43m(\u001b[49m\u001b[38;5;28;43mself\u001b[39;49m\u001b[38;5;241;43m.\u001b[39;49m\u001b[43moffset\u001b[49m\u001b[43m \u001b[49m\u001b[38;5;241;43m-\u001b[39;49m\u001b[43m \u001b[49m\u001b[38;5;241;43m1\u001b[39;49m\u001b[43m)\u001b[49m\n\u001b[1;32m   2343\u001b[0m     \u001b[38;5;28;01mif\u001b[39;00m \u001b[38;5;129;01mnot\u001b[39;00m \u001b[38;5;28mself\u001b[39m\u001b[38;5;241m.\u001b[39mfileobj\u001b[38;5;241m.\u001b[39mread(\u001b[38;5;241m1\u001b[39m):\n\u001b[1;32m   2344\u001b[0m         \u001b[38;5;28;01mraise\u001b[39;00m ReadError(\u001b[38;5;124m\"\u001b[39m\u001b[38;5;124munexpected end of data\u001b[39m\u001b[38;5;124m\"\u001b[39m)\n",
      "File \u001b[0;32m/opt/conda/lib/python3.10/tarfile.py:513\u001b[0m, in \u001b[0;36m_Stream.seek\u001b[0;34m(self, pos)\u001b[0m\n\u001b[1;32m    511\u001b[0m     blocks, remainder \u001b[38;5;241m=\u001b[39m \u001b[38;5;28mdivmod\u001b[39m(pos \u001b[38;5;241m-\u001b[39m \u001b[38;5;28mself\u001b[39m\u001b[38;5;241m.\u001b[39mpos, \u001b[38;5;28mself\u001b[39m\u001b[38;5;241m.\u001b[39mbufsize)\n\u001b[1;32m    512\u001b[0m     \u001b[38;5;28;01mfor\u001b[39;00m i \u001b[38;5;129;01min\u001b[39;00m \u001b[38;5;28mrange\u001b[39m(blocks):\n\u001b[0;32m--> 513\u001b[0m         \u001b[38;5;28;43mself\u001b[39;49m\u001b[38;5;241;43m.\u001b[39;49m\u001b[43mread\u001b[49m\u001b[43m(\u001b[49m\u001b[38;5;28;43mself\u001b[39;49m\u001b[38;5;241;43m.\u001b[39;49m\u001b[43mbufsize\u001b[49m\u001b[43m)\u001b[49m\n\u001b[1;32m    514\u001b[0m     \u001b[38;5;28mself\u001b[39m\u001b[38;5;241m.\u001b[39mread(remainder)\n\u001b[1;32m    515\u001b[0m \u001b[38;5;28;01melse\u001b[39;00m:\n",
      "File \u001b[0;32m/opt/conda/lib/python3.10/tarfile.py:522\u001b[0m, in \u001b[0;36m_Stream.read\u001b[0;34m(self, size)\u001b[0m\n\u001b[1;32m    520\u001b[0m \u001b[38;5;250m\u001b[39m\u001b[38;5;124;03m\"\"\"Return the next size number of bytes from the stream.\"\"\"\u001b[39;00m\n\u001b[1;32m    521\u001b[0m \u001b[38;5;28;01massert\u001b[39;00m size \u001b[38;5;129;01mis\u001b[39;00m \u001b[38;5;129;01mnot\u001b[39;00m \u001b[38;5;28;01mNone\u001b[39;00m\n\u001b[0;32m--> 522\u001b[0m buf \u001b[38;5;241m=\u001b[39m \u001b[38;5;28;43mself\u001b[39;49m\u001b[38;5;241;43m.\u001b[39;49m\u001b[43m_read\u001b[49m\u001b[43m(\u001b[49m\u001b[43msize\u001b[49m\u001b[43m)\u001b[49m\n\u001b[1;32m    523\u001b[0m \u001b[38;5;28mself\u001b[39m\u001b[38;5;241m.\u001b[39mpos \u001b[38;5;241m+\u001b[39m\u001b[38;5;241m=\u001b[39m \u001b[38;5;28mlen\u001b[39m(buf)\n\u001b[1;32m    524\u001b[0m \u001b[38;5;28;01mreturn\u001b[39;00m buf\n",
      "\u001b[0;31mKeyboardInterrupt\u001b[0m: "
     ]
    }
   ],
   "source": [
    "idx = 3\n",
    "\n",
    "fn = fns_tar[idx]\n",
    "tarf = tarfile.open(fn, \"r|gz\")\n",
    "for t in tarf:\n",
    "    print(t.name)\n",
    "        # if fn_tar in t.name:\n",
    "        #     f = tarf.extractfile(t)\n",
    "        #     break"
   ]
  },
  {
   "cell_type": "code",
   "execution_count": 121,
   "metadata": {},
   "outputs": [
    {
     "name": "stdout",
     "output_type": "stream",
     "text": [
      "D1PA\n",
      "D1PA/S06C1_C_600\n",
      "D1PA/S06C1_C_600/D1PA.S06C1_C_600.abundance.tsv\n",
      "break\n",
      "target_id\tlength\teff_length\test_counts\ttpm\n",
      "\n",
      "D1PA_S06C1_TRINITY_DN20_c0_g1_i1\t351\t123.75\t0\t0\n",
      "\n",
      "D1PA_S06C1_TRINITY_DN63_c0_g1_i1\t337\t109.757\t5\t0.444217\n",
      "\n",
      "D1PA_S06C1_TRINITY_DN88_c0_g1_i1\t308\t80.7726\t0\t0\n",
      "\n"
     ]
    }
   ],
   "source": [
    "fn_tar = 'D1PA/S06C1_C_600/D1PA.S06C1_C_600.abundance.tsv'\n",
    "\n",
    "fn = fns_tar[idx]\n",
    "tarf = tarfile.open(fn, \"r|gz\")\n",
    "for t in tarf:\n",
    "    print(t.name)\n",
    "    if fn_tar in t.name:\n",
    "        f = tarf.extractfile(t)\n",
    "        print('break')\n",
    "        break        \n",
    "for _ in range(4):\n",
    "    print(f.readline().decode('utf-8'))"
   ]
  },
  {
   "cell_type": "code",
   "execution_count": null,
   "metadata": {},
   "outputs": [],
   "source": []
  }
 ],
 "metadata": {
  "kernelspec": {
   "display_name": "Python 3 (ipykernel)",
   "language": "python",
   "name": "python3"
  },
  "language_info": {
   "codemirror_mode": {
    "name": "ipython",
    "version": 3
   },
   "file_extension": ".py",
   "mimetype": "text/x-python",
   "name": "python",
   "nbconvert_exporter": "python",
   "pygments_lexer": "ipython3",
   "version": "3.10.11"
  }
 },
 "nbformat": 4,
 "nbformat_minor": 2
}
