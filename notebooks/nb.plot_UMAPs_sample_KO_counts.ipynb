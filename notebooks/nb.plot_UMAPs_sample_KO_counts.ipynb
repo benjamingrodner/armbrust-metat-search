{
 "cells": [
  {
   "cell_type": "markdown",
   "metadata": {},
   "source": [
    "# Plot Sample KO counts from metaT\n",
    "\n",
    "Given a table with sample x KO populated with normalized counts, make interesting plots"
   ]
  },
  {
   "cell_type": "markdown",
   "metadata": {},
   "source": [
    "## Setup"
   ]
  },
  {
   "cell_type": "code",
   "execution_count": 53,
   "metadata": {},
   "outputs": [],
   "source": [
    "import os \n",
    "import re\n",
    "import glob\n",
    "import umap\n",
    "import numpy as np\n",
    "import pandas as pd\n",
    "from time import time\n",
    "from scipy import stats\n",
    "from collections import * \n",
    "import matplotlib.pyplot as plt\n",
    "import matplotlib.patches as mpatches"
   ]
  },
  {
   "cell_type": "code",
   "execution_count": 3,
   "metadata": {},
   "outputs": [],
   "source": [
    "os.getcwd()"
   ]
  },
  {
   "cell_type": "code",
   "execution_count": 4,
   "metadata": {},
   "outputs": [],
   "source": [
    "workdir = '/scratch/bgrodner/iron_ko_contigs'\n",
    "os.chdir(workdir)\n"
   ]
  },
  {
   "cell_type": "code",
   "execution_count": 5,
   "metadata": {},
   "outputs": [],
   "source": [
    "os.getcwd()"
   ]
  },
  {
   "cell_type": "code",
   "execution_count": 6,
   "metadata": {},
   "outputs": [],
   "source": [
    "os.listdir()"
   ]
  },
  {
   "cell_type": "markdown",
   "metadata": {},
   "source": [
    "## Load table and inspect"
   ]
  },
  {
   "cell_type": "code",
   "execution_count": 7,
   "metadata": {},
   "outputs": [],
   "source": [
    "dir_combined = 'metat_search_results/dicts_iron_KO_contig/dicts_contig_count/tables_norm_count/combined'\n",
    "fn_table_sample_ko_norm_counts = f'{dir_combined}/iron_KOs.txt-table_samples_KOs_norm_count.csv'\n",
    "\n",
    "table = pd.read_csv(fn_table_sample_ko_norm_counts)\n",
    "table.shape"
   ]
  },
  {
   "cell_type": "code",
   "execution_count": 8,
   "metadata": {},
   "outputs": [],
   "source": [
    "table.columns"
   ]
  },
  {
   "cell_type": "code",
   "execution_count": 9,
   "metadata": {},
   "outputs": [],
   "source": [
    "table[:3]"
   ]
  },
  {
   "cell_type": "code",
   "execution_count": 10,
   "metadata": {},
   "outputs": [],
   "source": [
    "table.fn_KO.unique()"
   ]
  },
  {
   "cell_type": "code",
   "execution_count": 11,
   "metadata": {},
   "outputs": [],
   "source": [
    "asss = table.assembly.unique()\n",
    "asss"
   ]
  },
  {
   "cell_type": "code",
   "execution_count": 12,
   "metadata": {},
   "outputs": [],
   "source": [
    "for ass in asss:\n",
    "    print(ass)\n",
    "    print(table.loc[table.assembly == ass, 'sample'].unique())"
   ]
  },
  {
   "cell_type": "code",
   "execution_count": 13,
   "metadata": {},
   "outputs": [],
   "source": [
    "for ass in asss:\n",
    "    print(ass)\n",
    "    print(table.loc[table.assembly == ass, 'ammendment'].unique())"
   ]
  },
  {
   "cell_type": "code",
   "execution_count": 14,
   "metadata": {},
   "outputs": [],
   "source": [
    "for ass in asss:\n",
    "    print(ass)\n",
    "    print(table.loc[table.assembly == ass, 'timepoint'].unique())"
   ]
  },
  {
   "cell_type": "code",
   "execution_count": 15,
   "metadata": {},
   "outputs": [],
   "source": [
    "for ass in asss:\n",
    "    print(ass)\n",
    "    print(table.loc[table.assembly == ass, 'depth'].unique())"
   ]
  },
  {
   "cell_type": "code",
   "execution_count": 16,
   "metadata": {},
   "outputs": [],
   "source": [
    "for ass in asss:\n",
    "    print(ass)\n",
    "    print(table.loc[table.assembly == ass, 'size'].unique())"
   ]
  },
  {
   "cell_type": "code",
   "execution_count": 17,
   "metadata": {},
   "outputs": [],
   "source": [
    "for ass in asss:\n",
    "    print(ass)\n",
    "    print(table.loc[table.assembly == ass, 'rep'].unique())"
   ]
  },
  {
   "cell_type": "markdown",
   "metadata": {},
   "source": [
    "## What is the distribution of the counts?"
   ]
  },
  {
   "cell_type": "code",
   "execution_count": 18,
   "metadata": {},
   "outputs": [],
   "source": [
    "bins=100\n",
    "size=(10,2)\n",
    "for i in range(9,19):\n",
    "    vals = table.iloc[:,i].values\n",
    "\n",
    "    fig, ax = plt.subplots(figsize=(size))\n",
    "    _ = ax.hist(vals, bins=bins)\n",
    "    ax.set_yscale('log')\n",
    "    plt.show()\n",
    "    plt.close()"
   ]
  },
  {
   "cell_type": "markdown",
   "metadata": {},
   "source": [
    "Is the outlier the same sample each time?"
   ]
  },
  {
   "cell_type": "code",
   "execution_count": 19,
   "metadata": {},
   "outputs": [],
   "source": [
    "for i in range(9,19):\n",
    "    row = table.iloc[:,i].argmax()\n",
    "    print(table.iloc[row, :9])"
   ]
  },
  {
   "cell_type": "markdown",
   "metadata": {},
   "source": [
    "What is the norm factor?"
   ]
  },
  {
   "cell_type": "code",
   "execution_count": 20,
   "metadata": {},
   "outputs": [],
   "source": [
    "dir_norm_factors = '/scratch/bgrodner/iron_ko_contigs/metat_search_results/dicts_iron_KO_contig/dicts_contig_count/norm_factors/G2NS_kofam2021_ALL.csv-iron_KOs.txt-norm_factors'\n",
    "fn_norm_factor = f'{dir_norm_factors}/G2NS_kofam2021_ALL.csv-iron_KOs.txt-G2NS.S06C1.15m.0_2um.B.tsv-norm_factor.txt'\n",
    "with open(fn_norm_factor, 'r') as f:\n",
    "    print(f.read())"
   ]
  },
  {
   "cell_type": "markdown",
   "metadata": {},
   "source": [
    "Other norm factors in the file"
   ]
  },
  {
   "cell_type": "code",
   "execution_count": 21,
   "metadata": {},
   "outputs": [],
   "source": [
    "fns_norm_factor = glob.glob(dir_norm_factors + '/*')\n",
    "for fn in fns_norm_factor:\n",
    "    with open(fn, 'r') as f:\n",
    "        print(f.read())"
   ]
  },
  {
   "cell_type": "markdown",
   "metadata": {},
   "source": [
    "### Test for lognormality\n",
    "\n",
    "(based on https://bmcbioinformatics.biomedcentral.com/articles/10.1186/s12859-020-03892-w)\n",
    "\n",
    "Shapiro-wilkes test for normality\n",
    "\n",
    "Shapiro-wilkes test after log transform\n",
    "\n",
    "\n",
    "\n"
   ]
  },
  {
   "cell_type": "code",
   "execution_count": 22,
   "metadata": {},
   "outputs": [],
   "source": [
    "nrm = []\n",
    "lognrm = []\n",
    "for i in range(9,table.shape[1]):\n",
    "    vals = table.iloc[:,i].values\n",
    "    vals_ln = np.log(vals)\n",
    "    print(stats.shapiro(vals).pvalue, stats.shapiro(vals_ln).pvalue)\n"
   ]
  },
  {
   "cell_type": "markdown",
   "metadata": {},
   "source": [
    "^ Basically not normal, sometimes maybe lognormal"
   ]
  },
  {
   "cell_type": "markdown",
   "metadata": {},
   "source": [
    "Are there any KOs with no reads?"
   ]
  },
  {
   "cell_type": "code",
   "execution_count": 23,
   "metadata": {},
   "outputs": [],
   "source": [
    "for i in range(9,table.shape[1]):\n",
    "    if not table.iloc[:,i].sum():\n",
    "        print(table.columns[i])"
   ]
  },
  {
   "cell_type": "markdown",
   "metadata": {},
   "source": [
    "## Dimensional reduction"
   ]
  },
  {
   "cell_type": "markdown",
   "metadata": {},
   "source": [
    "Functions"
   ]
  },
  {
   "cell_type": "code",
   "execution_count": 255,
   "metadata": {},
   "outputs": [],
   "source": [
    "def general_plot(\n",
    "    xlabel=\"\", ylabel=\"\", ft=12, dims=(5, 3), col=\"k\", lw=1, pad=0, tr_spines=True\n",
    "):\n",
    "    fig, ax = plt.subplots(figsize=(dims[0], dims[1]), tight_layout={\"pad\": pad})\n",
    "    for i in ax.spines:\n",
    "        ax.spines[i].set_linewidth(lw)\n",
    "    if not tr_spines:\n",
    "        ax.spines[\"top\"].set_visible(False)\n",
    "        ax.spines[\"right\"].set_visible(False)\n",
    "    else:\n",
    "        ax.spines[\"top\"].set_color(col)\n",
    "        ax.spines[\"right\"].set_color(col)\n",
    "    ax.spines[\"bottom\"].set_color(col)\n",
    "    ax.spines[\"left\"].set_color(col)\n",
    "    ax.tick_params(direction=\"in\", labelsize=ft, color=col, labelcolor=col)\n",
    "    ax.set_xlabel(xlabel, fontsize=ft, color=col)\n",
    "    ax.set_ylabel(ylabel, fontsize=ft, color=col)\n",
    "    ax.patch.set_alpha(0)\n",
    "    return (fig, ax)\n",
    "\n",
    "\n",
    "def plot_umap(\n",
    "    embedding,\n",
    "    figsize=(10, 10),\n",
    "    markersize=10,\n",
    "    alpha=0.5,\n",
    "    colors=\"k\",\n",
    "    xticks=[],\n",
    "    yticks=[],\n",
    "    markerstyle='o'\n",
    "):\n",
    "    fig, ax = general_plot(dims=figsize)\n",
    "    if isinstance(markerstyle, str):\n",
    "        ax.scatter(\n",
    "            embedding[:, 0],\n",
    "            embedding[:, 1],\n",
    "            s=markersize,\n",
    "            alpha=alpha,\n",
    "            c=colors,\n",
    "            edgecolors=\"none\",\n",
    "            marker=markerstyle\n",
    "        )\n",
    "    else:\n",
    "        for e0, e1, c, m in zip(\n",
    "            embedding[:, 0], \n",
    "            embedding[:, 1],\n",
    "            colors,\n",
    "            markerstyle \n",
    "        ):\n",
    "            ax.scatter(\n",
    "                e0,\n",
    "                e1,\n",
    "                s=markersize,\n",
    "                alpha=alpha,\n",
    "                c=c,\n",
    "                edgecolors=\"none\",\n",
    "                marker=m\n",
    "            )\n",
    "    ax.set_aspect(\"equal\")\n",
    "    if len(xticks) > 0:\n",
    "        ax.set_xticks(xticks)\n",
    "    if len(yticks) > 0:\n",
    "        ax.set_yticks(yticks)\n",
    "    ax.set_xlabel(\"UMAP 1\")\n",
    "    ax.set_ylabel(\"UMAP 2\")\n",
    "    return fig, ax\n",
    "\n",
    "\n",
    "def get_colors_from_stringlist(stringlist, order=\"\", cmap_name=\"viridis\"):\n",
    "    if not order:\n",
    "        order = list(set(stringlist))\n",
    "    n_strings = len(order)\n",
    "    cmap = plt.get_cmap(cmap_name)\n",
    "    colors = [cmap(i / n_strings) for i in range(n_strings)]\n",
    "    dict_str_col = {s: c for s, c in zip(order, colors)}\n",
    "    return [dict_str_col[s] for s in stringlist], dict_str_col\n",
    "\n",
    "\n",
    "def plot_legend(color_dict, figsize=(2, 4)):\n",
    "    fig, ax = general_plot(dims=figsize)\n",
    "    # Create legend handles manually\n",
    "    legend_handles = []\n",
    "    for value, color in color_dict.items():\n",
    "        patch = mpatches.Patch(color=color, label=value)\n",
    "        legend_handles.append(patch)\n",
    "\n",
    "    # Add legend to the plot\n",
    "    ax.legend(handles=legend_handles)\n",
    "    return fig, ax\n",
    "\n",
    "\n",
    "def taxon_legend(\n",
    "    taxon_names,\n",
    "    taxon_colors,\n",
    "    label_color=\"k\",\n",
    "    taxon_counts=[],\n",
    "    text_shift_vh=(6, 0.15),\n",
    "    ft=20,\n",
    "    dims=(6, 10),\n",
    "    lw=2,\n",
    "    ylabel=\"Genus\",\n",
    "):\n",
    "    fig, ax = general_plot(ylabel=ylabel, dims=dims, col=label_color, lw=lw, ft=ft)\n",
    "    vals = np.repeat(10, len(taxon_names))\n",
    "    y_pos = np.arange(len(taxon_names))\n",
    "    ax.barh(y_pos, vals, align=\"center\", color=taxon_colors)\n",
    "    if len(taxon_counts) > 0:\n",
    "        # Label the legend with counts\n",
    "        for i, (v, c) in enumerate(zip(vals, taxon_counts)):\n",
    "            ax.text(\n",
    "                v - text_shift_vh[0],\n",
    "                i + text_shift_vh[1],\n",
    "                str(c),\n",
    "                color=\"k\",\n",
    "                fontsize=ft,\n",
    "            )\n",
    "    # Remove the boundaries\n",
    "    for spine in ax.spines.values():\n",
    "        spine.set_visible(False)\n",
    "    # Add the genus names to the y axis\n",
    "    ax.set_yticks(y_pos)\n",
    "    ax.set_xticks([])\n",
    "    ax.set_yticklabels(taxon_names)\n",
    "    ax.invert_yaxis()\n",
    "    return (fig, ax)\n",
    "\n",
    "\n",
    "def marker_legend(\n",
    "    names,\n",
    "    markers,\n",
    "    label_color=\"k\",\n",
    "    text_shift_hv=(0.5, 0),\n",
    "    markersize=50,\n",
    "    ft=20,\n",
    "    dims=(3, 3),\n",
    "    lw=2,\n",
    "    ylabel=\"Genus\",\n",
    "):\n",
    "    fig, ax = general_plot(ylabel=ylabel, dims=dims, col=label_color, lw=lw, ft=ft)\n",
    "    for i, (n, m) in enumerate(zip(names, markers)):\n",
    "        ax.scatter(0, i, marker=m, c=label_color, s=markersize)\n",
    "        # ax.text(\n",
    "        #     0 - text_shift_hv[0],\n",
    "        #     i + text_shift_hv[1],\n",
    "        #     str(n),\n",
    "        #     color=label_color,\n",
    "        #     fontsize=ft,\n",
    "        #     va=\"center\",\n",
    "        # )\n",
    "    # Remove the boundaries\n",
    "    for spine in ax.spines.values():\n",
    "        spine.set_visible(False)\n",
    "    # Add the genus names to the y axis\n",
    "\n",
    "    ax.set_xlim([-1, 1])\n",
    "    ax.set_ylim([-1, i + 1])\n",
    "\n",
    "    ax.set_yticks(np.arange(i+1))\n",
    "    ax.set_xticks([])\n",
    "    ax.set_yticklabels(names)\n",
    "    ax.invert_yaxis()\n",
    "    ax.invert_yaxis()\n",
    "    return fig, ax"
   ]
  },
  {
   "cell_type": "markdown",
   "metadata": {},
   "source": [
    "### Compare assemblies"
   ]
  },
  {
   "cell_type": "code",
   "execution_count": 448,
   "metadata": {},
   "outputs": [],
   "source": [
    "reducer = umap.UMAP(n_neighbors=11, metric='cosine')\n",
    "\n",
    "table_vals = table.iloc[:, 9:].values\n",
    "\n",
    "embedding = reducer.fit_transform(table_vals)\n",
    "embedding.shape"
   ]
  },
  {
   "cell_type": "code",
   "execution_count": 449,
   "metadata": {},
   "outputs": [],
   "source": [
    "plot_umap(embedding=embedding)"
   ]
  },
  {
   "cell_type": "code",
   "execution_count": 450,
   "metadata": {},
   "outputs": [],
   "source": [
    "\n",
    "\n",
    "\n",
    "stringlist = table[\"assembly\"].values\n",
    "ass_order = [\n",
    "    \"D1PA\",\n",
    "    \"G1PA\",\n",
    "    \"G2PA\",\n",
    "    \"G3PA\",\n",
    "    \"G3.UW.PA\",\n",
    "    \"G3PA.diel\",\n",
    "    \"G1NS\",\n",
    "    \"G2NS\",\n",
    "    \"G3.UW.NS\",\n",
    "    \"G5\",\n",
    "]\n",
    "c, dict_ass_col = get_colors_from_stringlist(\n",
    "    stringlist=stringlist,\n",
    "    order=ass_order,\n",
    "    cmap_name='tab10'\n",
    ")\n",
    "\n",
    "plot_umap(\n",
    "    embedding=embedding, \n",
    "    colors=c\n",
    ")\n",
    "plt.show()\n",
    "plt.close()\n",
    "\n",
    "colors = [dict_ass_col[n] for n in ass_order]\n",
    "taxon_legend(ass_order, colors, dims=(1,2), ylabel='Assembly', ft=8)"
   ]
  },
  {
   "cell_type": "markdown",
   "metadata": {},
   "source": [
    "### Compare timepoints in D1 Diel"
   ]
  },
  {
   "cell_type": "code",
   "execution_count": 451,
   "metadata": {},
   "outputs": [],
   "source": [
    "table_vals = table.iloc[:, 9:][table.assembly == 'D1PA'].values\n",
    "\n",
    "embedding = reducer.fit_transform(table_vals)\n",
    "embedding.shape"
   ]
  },
  {
   "cell_type": "code",
   "execution_count": 452,
   "metadata": {},
   "outputs": [],
   "source": [
    "\n",
    "plot_umap(embedding=embedding)"
   ]
  },
  {
   "cell_type": "code",
   "execution_count": 453,
   "metadata": {},
   "outputs": [],
   "source": [
    "stringlist = table.loc[table.assembly == 'D1PA', \"timepoint\"].values\n",
    "order = [\n",
    "    '200',\n",
    "    '600',\n",
    "    '1000',\n",
    "    '1400',\n",
    "    '1800',\n",
    "    '2200'\n",
    "]\n",
    "c, dict_time_col = get_colors_from_stringlist(\n",
    "    stringlist=stringlist,\n",
    "    order=order,\n",
    "    cmap_name='tab10'\n",
    ")\n",
    "\n",
    "plot_umap(\n",
    "    embedding=embedding, \n",
    "    colors=c,\n",
    "    alpha=1,\n",
    "    markersize=20\n",
    ")\n",
    "plt.show()\n",
    "plt.close()\n",
    "\n",
    "colors = [dict_time_col[t] for t in order]\n",
    "taxon_legend(order, colors, dims=(0.75, 1), ylabel=\"Time\", ft=8)"
   ]
  },
  {
   "cell_type": "markdown",
   "metadata": {},
   "source": [
    "### Compare timepoints in G3 Diel"
   ]
  },
  {
   "cell_type": "code",
   "execution_count": 454,
   "metadata": {},
   "outputs": [],
   "source": [
    "bool_ass = table.assembly == \"G3PA.diel\"\n",
    "\n",
    "table_vals_sub = table.iloc[:, 9:][bool_ass].values\n",
    "\n",
    "embedding = reducer.fit_transform(table_vals_sub)\n",
    "print(embedding.shape)\n",
    "plot_umap(embedding=embedding, alpha=1, markersize=20)"
   ]
  },
  {
   "cell_type": "markdown",
   "metadata": {},
   "source": [
    "Get timepoints"
   ]
  },
  {
   "cell_type": "code",
   "execution_count": 455,
   "metadata": {},
   "outputs": [],
   "source": [
    "samples = table.loc[bool_ass, 'sample'].values\n",
    "samples[:10]"
   ]
  },
  {
   "cell_type": "markdown",
   "metadata": {},
   "source": [
    "Load metadata table"
   ]
  },
  {
   "cell_type": "code",
   "execution_count": 456,
   "metadata": {},
   "outputs": [],
   "source": [
    "dir_diel = '../repo-armbrust-metat/gradients3/g3_diel_pa_metat'\n",
    "fn_G3PA_diel_metadata = f'{dir_diel}/sample_metadata.csv'\n",
    "G3PA_diel_metadata = pd.read_csv(fn_G3PA_diel_metadata)\n",
    "G3PA_diel_metadata.shape, G3PA_diel_metadata[:3]"
   ]
  },
  {
   "cell_type": "markdown",
   "metadata": {},
   "source": [
    "Build sample timepoint dict"
   ]
  },
  {
   "cell_type": "code",
   "execution_count": 457,
   "metadata": {},
   "outputs": [],
   "source": [
    "dict_tp_sample = {}\n",
    "for i, row in G3PA_diel_metadata.iterrows():\n",
    "    sample = row.Alias1.split(' ')[0]\n",
    "    dict_tp_sample[row.Datetime] = sample\n"
   ]
  },
  {
   "cell_type": "markdown",
   "metadata": {},
   "source": [
    "Sort datetime"
   ]
  },
  {
   "cell_type": "code",
   "execution_count": 458,
   "metadata": {},
   "outputs": [],
   "source": [
    "df_dt = G3PA_diel_metadata.Datetime.to_frame()\n",
    "df_dt[\"day\"] = [\n",
    "    dt.split(' ')[0] for dt in df_dt.Datetime.values\n",
    "]\n",
    "df_dt[\"hour\"] = [\n",
    "    int(re.search(r\"(?<=\\s)\\d+(?=\\:)\", dt)[0]) for dt in df_dt.Datetime.values\n",
    "]\n",
    "df_dt = df_dt.sort_values(by=['day','hour'], ascending=True)\n",
    "datetime_sort = df_dt.Datetime.unique()\n",
    "datetime_sort"
   ]
  },
  {
   "cell_type": "markdown",
   "metadata": {},
   "source": [
    "Color umap by timepoint"
   ]
  },
  {
   "cell_type": "code",
   "execution_count": 459,
   "metadata": {},
   "outputs": [],
   "source": [
    "stringlist = table.loc[bool_ass, \"sample\"].values\n",
    "\n",
    "samples_sort = [dict_tp_sample[tp] for tp in datetime_sort]\n",
    "\n",
    "c, dict_time_col = get_colors_from_stringlist(\n",
    "    stringlist=stringlist, order=samples_sort, cmap_name=\"tab20\"\n",
    ")\n",
    "\n",
    "plot_umap(\n",
    "    embedding=embedding, \n",
    "    colors=c,\n",
    "    alpha=1,\n",
    "    markersize=40\n",
    ")\n",
    "plt.show()\n",
    "plt.close()\n",
    "\n",
    "names = datetime_sort\n",
    "colors = [dict_time_col[s] for s in samples_sort]\n",
    "taxon_legend(names, colors, dims=(1.5, 5), ylabel=\"Time\", ft=8)"
   ]
  },
  {
   "cell_type": "markdown",
   "metadata": {},
   "source": [
    "### Compare Lattitudes in G1PA"
   ]
  },
  {
   "cell_type": "code",
   "execution_count": 460,
   "metadata": {},
   "outputs": [],
   "source": [
    "bool_ass = table.assembly == \"G1PA\"\n",
    "\n",
    "table_vals_sub = table.iloc[:, 9:][bool_ass].values\n",
    "\n",
    "embedding = reducer.fit_transform(table_vals_sub)\n",
    "print(embedding.shape)\n",
    "plot_umap(embedding=embedding, alpha=1, markersize=20)"
   ]
  },
  {
   "cell_type": "markdown",
   "metadata": {},
   "source": [
    "Get latitudes"
   ]
  },
  {
   "cell_type": "code",
   "execution_count": 461,
   "metadata": {},
   "outputs": [],
   "source": [
    "samples = table.loc[bool_ass, 'sample'].values\n",
    "np.unique(samples)"
   ]
  },
  {
   "cell_type": "markdown",
   "metadata": {},
   "source": [
    "Load metadata table"
   ]
  },
  {
   "cell_type": "code",
   "execution_count": 462,
   "metadata": {},
   "outputs": [],
   "source": [
    "dir_diel = '../repo-armbrust-metat/gradients1/g1_station_pa_metat'\n",
    "fn_G3PA_diel_metadata = f'{dir_diel}/sample_metadata.csv'\n",
    "\n",
    "G3PA_diel_metadata = pd.read_csv(fn_G3PA_diel_metadata)\n",
    "G3PA_diel_metadata.shape, G3PA_diel_metadata[:3]"
   ]
  },
  {
   "cell_type": "markdown",
   "metadata": {},
   "source": [
    "Build sample latitude dict"
   ]
  },
  {
   "cell_type": "code",
   "execution_count": 463,
   "metadata": {},
   "outputs": [],
   "source": [
    "row.Alias2"
   ]
  },
  {
   "cell_type": "code",
   "execution_count": 464,
   "metadata": {},
   "outputs": [],
   "source": [
    "dict_tp_sample = {}\n",
    "for i, row in G3PA_diel_metadata.iterrows():\n",
    "    alias = row.Alias2\n",
    "    if isinstance(alias, str):\n",
    "        sample = alias.split('_')[0]\n",
    "        dict_tp_sample[row.Latitude] = sample\n",
    "dict_tp_sample"
   ]
  },
  {
   "cell_type": "markdown",
   "metadata": {},
   "source": [
    "Sort latitudes"
   ]
  },
  {
   "cell_type": "code",
   "execution_count": 465,
   "metadata": {},
   "outputs": [],
   "source": [
    "datetime_sort = sorted(list(dict_tp_sample.keys()))\n",
    "datetime_sort"
   ]
  },
  {
   "cell_type": "markdown",
   "metadata": {},
   "source": [
    "Color umap by latitude"
   ]
  },
  {
   "cell_type": "code",
   "execution_count": 466,
   "metadata": {},
   "outputs": [],
   "source": [
    "stringlist = table.loc[bool_ass, \"sample\"].values\n",
    "\n",
    "samples_sort = [dict_tp_sample[tp] for tp in datetime_sort]\n",
    "\n",
    "c, dict_time_col = get_colors_from_stringlist(\n",
    "    stringlist=stringlist, order=samples_sort, cmap_name=\"plasma_r\"\n",
    ")\n",
    "\n",
    "plot_umap(\n",
    "    embedding=embedding, \n",
    "    colors=c,\n",
    "    alpha=1,\n",
    "    markersize=40\n",
    ")\n",
    "plt.show()\n",
    "plt.close()\n",
    "\n",
    "names = [round(l, 1) for l in datetime_sort]\n",
    "colors = [dict_time_col[s] for s in samples_sort]\n",
    "taxon_legend(names, colors, dims=(1.5, 3), ylabel=\"Latitude\", ft=8)"
   ]
  },
  {
   "cell_type": "markdown",
   "metadata": {},
   "source": [
    "#### Separate by size fraction"
   ]
  },
  {
   "cell_type": "code",
   "execution_count": 467,
   "metadata": {},
   "outputs": [],
   "source": [
    "sizes = table.loc[bool_ass, 'size'].unique()\n",
    "sizes"
   ]
  },
  {
   "cell_type": "code",
   "execution_count": 468,
   "metadata": {},
   "outputs": [],
   "source": [
    "markers = ['o','x']\n",
    "dict_size_marker = dict(zip(sizes, markers))\n",
    "\n",
    "sizes_all = table.loc[bool_ass, 'size'].values\n",
    "\n",
    "markerstyle = [dict_size_marker[s] for s in sizes_all]"
   ]
  },
  {
   "cell_type": "code",
   "execution_count": null,
   "metadata": {},
   "outputs": [],
   "source": []
  },
  {
   "cell_type": "code",
   "execution_count": 469,
   "metadata": {},
   "outputs": [],
   "source": [
    "stringlist = table.loc[bool_ass, \"sample\"].values\n",
    "\n",
    "samples_sort = [dict_tp_sample[tp] for tp in datetime_sort]\n",
    "\n",
    "c, dict_time_col = get_colors_from_stringlist(\n",
    "    stringlist=stringlist, order=samples_sort, cmap_name=\"plasma_r\"\n",
    ")\n",
    "\n",
    "plot_umap(\n",
    "    embedding=embedding, \n",
    "    colors=c,\n",
    "    alpha=1,\n",
    "    markersize=40,\n",
    "    markerstyle=markerstyle\n",
    ")\n",
    "plt.show()\n",
    "plt.close()\n",
    "\n",
    "names = [round(l, 1) for l in datetime_sort]\n",
    "colors = [dict_time_col[s] for s in samples_sort]\n",
    "taxon_legend(names, colors, dims=(1.5, 3), ylabel=\"Latitude\", ft=8)\n",
    "\n",
    "marker_legend(\n",
    "    sizes,\n",
    "    markers,\n",
    "    ylabel=\"Size Fraction\",\n",
    "    dims=(1, 1),\n",
    "    ft=8,\n",
    "    markersize=50,\n",
    "    text_shift_hv=(1, 0),\n",
    ")"
   ]
  },
  {
   "cell_type": "markdown",
   "metadata": {},
   "source": [
    "### Compare Lattitudes in G1NS"
   ]
  },
  {
   "cell_type": "code",
   "execution_count": 470,
   "metadata": {},
   "outputs": [],
   "source": [
    "bool_ass = table.assembly == \"G1NS\"\n",
    "\n",
    "table_vals_sub = table.iloc[:, 9:][bool_ass].values\n",
    "\n",
    "embedding = reducer.fit_transform(table_vals_sub)\n",
    "print(embedding.shape)\n",
    "plot_umap(embedding=embedding, alpha=1, markersize=20)"
   ]
  },
  {
   "cell_type": "markdown",
   "metadata": {},
   "source": [
    "Get latitudes"
   ]
  },
  {
   "cell_type": "code",
   "execution_count": 471,
   "metadata": {},
   "outputs": [],
   "source": [
    "samples = table.loc[bool_ass, 'sample'].values\n",
    "np.unique(samples)"
   ]
  },
  {
   "cell_type": "markdown",
   "metadata": {},
   "source": [
    "Load metadata table"
   ]
  },
  {
   "cell_type": "code",
   "execution_count": 472,
   "metadata": {},
   "outputs": [],
   "source": [
    "dir_diel = '../repo-armbrust-metat/gradients1/g1_station_ns_metat'\n",
    "fn_G3PA_diel_metadata = f'{dir_diel}/sample_metadata.csv'\n",
    "\n",
    "G3PA_diel_metadata = pd.read_csv(fn_G3PA_diel_metadata)\n",
    "G3PA_diel_metadata.shape, G3PA_diel_metadata[:3]"
   ]
  },
  {
   "cell_type": "markdown",
   "metadata": {},
   "source": [
    "Build sample latitude dict"
   ]
  },
  {
   "cell_type": "code",
   "execution_count": 473,
   "metadata": {},
   "outputs": [],
   "source": [
    "row.Alias2"
   ]
  },
  {
   "cell_type": "code",
   "execution_count": 474,
   "metadata": {},
   "outputs": [],
   "source": [
    "dict_tp_sample = {}\n",
    "for i, row in G3PA_diel_metadata.iterrows():\n",
    "    alias = row.Alias2\n",
    "    if isinstance(alias, str):\n",
    "        sample = alias.split('_')[0]\n",
    "        dict_tp_sample[row.Latitude] = sample\n",
    "dict_tp_sample"
   ]
  },
  {
   "cell_type": "markdown",
   "metadata": {},
   "source": [
    "Sort latitudes"
   ]
  },
  {
   "cell_type": "code",
   "execution_count": 475,
   "metadata": {},
   "outputs": [],
   "source": [
    "datetime_sort = sorted(list(dict_tp_sample.keys()))\n",
    "datetime_sort"
   ]
  },
  {
   "cell_type": "markdown",
   "metadata": {},
   "source": [
    "Color umap by latitude"
   ]
  },
  {
   "cell_type": "code",
   "execution_count": 476,
   "metadata": {},
   "outputs": [],
   "source": [
    "stringlist = table.loc[bool_ass, \"sample\"].values\n",
    "\n",
    "samples_sort = [dict_tp_sample[tp] for tp in datetime_sort]\n",
    "\n",
    "c, dict_time_col = get_colors_from_stringlist(\n",
    "    stringlist=stringlist, order=samples_sort, cmap_name=\"plasma_r\"\n",
    ")\n",
    "\n",
    "plot_umap(\n",
    "    embedding=embedding, \n",
    "    colors=c,\n",
    "    alpha=1,\n",
    "    markersize=40\n",
    ")\n",
    "plt.show()\n",
    "plt.close()\n",
    "\n",
    "names = [round(l, 1) for l in datetime_sort]\n",
    "colors = [dict_time_col[s] for s in samples_sort]\n",
    "taxon_legend(names, colors, dims=(1.5, 3), ylabel=\"Latitude\", ft=8)"
   ]
  },
  {
   "cell_type": "markdown",
   "metadata": {},
   "source": [
    "#### Separate by size fraction"
   ]
  },
  {
   "cell_type": "code",
   "execution_count": 477,
   "metadata": {},
   "outputs": [],
   "source": [
    "sizes = table.loc[bool_ass, 'size'].unique()\n",
    "sizes"
   ]
  },
  {
   "cell_type": "code",
   "execution_count": 478,
   "metadata": {},
   "outputs": [],
   "source": [
    "markers = ['o','x']\n",
    "dict_size_marker = dict(zip(sizes, markers))\n",
    "\n",
    "sizes_all = table.loc[bool_ass, 'size'].values\n",
    "\n",
    "markerstyle = [dict_size_marker[s] for s in sizes_all]"
   ]
  },
  {
   "cell_type": "code",
   "execution_count": 479,
   "metadata": {},
   "outputs": [],
   "source": [
    "stringlist = table.loc[bool_ass, \"sample\"].values\n",
    "\n",
    "samples_sort = [dict_tp_sample[tp] for tp in datetime_sort]\n",
    "\n",
    "c, dict_time_col = get_colors_from_stringlist(\n",
    "    stringlist=stringlist, order=samples_sort, cmap_name=\"plasma_r\"\n",
    ")\n",
    "\n",
    "plot_umap(\n",
    "    embedding=embedding, \n",
    "    colors=c,\n",
    "    alpha=1,\n",
    "    markersize=40,\n",
    "    markerstyle=markerstyle\n",
    ")\n",
    "plt.show()\n",
    "plt.close()\n",
    "\n",
    "names = [round(l, 1) for l in datetime_sort]\n",
    "colors = [dict_time_col[s] for s in samples_sort]\n",
    "taxon_legend(names, colors, dims=(1.5, 3), ylabel=\"Latitude\", ft=8)\n",
    "\n",
    "marker_legend(\n",
    "    sizes,\n",
    "    markers,\n",
    "    ylabel=\"Size Fraction\",\n",
    "    dims=(1, 1),\n",
    "    ft=8,\n",
    "    markersize=50,\n",
    "    text_shift_hv=(1, 0),\n",
    ")"
   ]
  },
  {
   "cell_type": "markdown",
   "metadata": {},
   "source": [
    "### Compare Lattitudes in G2PA"
   ]
  },
  {
   "cell_type": "code",
   "execution_count": 480,
   "metadata": {},
   "outputs": [],
   "source": [
    "bool_ass = table.assembly == \"G2PA\"\n",
    "\n",
    "table_vals_sub = table.iloc[:, 9:][bool_ass].values\n",
    "\n",
    "embedding = reducer.fit_transform(table_vals_sub)\n",
    "print(embedding.shape)\n",
    "plot_umap(embedding=embedding, alpha=1, markersize=20)"
   ]
  },
  {
   "cell_type": "markdown",
   "metadata": {},
   "source": [
    "Get latitudes"
   ]
  },
  {
   "cell_type": "code",
   "execution_count": 481,
   "metadata": {},
   "outputs": [],
   "source": [
    "samples = table.loc[bool_ass, 'sample'].values\n",
    "np.unique(samples)"
   ]
  },
  {
   "cell_type": "markdown",
   "metadata": {},
   "source": [
    "Load metadata table"
   ]
  },
  {
   "cell_type": "code",
   "execution_count": 482,
   "metadata": {},
   "outputs": [],
   "source": [
    "dir_diel = '../repo-armbrust-metat/gradients2/g2_station_pa_metat'\n",
    "fn_G3PA_diel_metadata = f'{dir_diel}/sample_metadata.csv'\n",
    "\n",
    "G3PA_diel_metadata = pd.read_csv(fn_G3PA_diel_metadata)\n",
    "G3PA_diel_metadata.shape, G3PA_diel_metadata[:3]"
   ]
  },
  {
   "cell_type": "markdown",
   "metadata": {},
   "source": [
    "Build sample latitude dict"
   ]
  },
  {
   "cell_type": "code",
   "execution_count": 483,
   "metadata": {},
   "outputs": [],
   "source": [
    "dict_tp_sample = {}\n",
    "for i, row in G3PA_diel_metadata.iterrows():\n",
    "    alias = row.Alias2\n",
    "    if isinstance(alias, str):\n",
    "        if not np.isnan(row.Latitude):\n",
    "            sample = alias.split('.')[1]\n",
    "            dict_tp_sample[row.Latitude] = sample\n",
    "dict_tp_sample"
   ]
  },
  {
   "cell_type": "markdown",
   "metadata": {},
   "source": [
    "Sort latitudes"
   ]
  },
  {
   "cell_type": "code",
   "execution_count": 484,
   "metadata": {},
   "outputs": [],
   "source": [
    "datetime_sort = sorted(list(dict_tp_sample.keys()))\n",
    "datetime_sort"
   ]
  },
  {
   "cell_type": "markdown",
   "metadata": {},
   "source": [
    "Color umap by latitude"
   ]
  },
  {
   "cell_type": "code",
   "execution_count": 485,
   "metadata": {},
   "outputs": [],
   "source": [
    "stringlist = table.loc[bool_ass, \"sample\"].values\n",
    "\n",
    "samples_sort = [dict_tp_sample[tp] for tp in datetime_sort]\n",
    "\n",
    "c, dict_time_col = get_colors_from_stringlist(\n",
    "    stringlist=stringlist, order=samples_sort, cmap_name=\"plasma_r\"\n",
    ")\n",
    "\n",
    "plot_umap(\n",
    "    embedding=embedding, \n",
    "    colors=c,\n",
    "    alpha=1,\n",
    "    markersize=40\n",
    ")\n",
    "plt.show()\n",
    "plt.close()\n",
    "\n",
    "names = [round(l, 1) for l in datetime_sort]\n",
    "colors = [dict_time_col[s] for s in samples_sort]\n",
    "taxon_legend(names, colors, dims=(1.5, 3), ylabel=\"Latitude\", ft=8)"
   ]
  },
  {
   "cell_type": "markdown",
   "metadata": {},
   "source": [
    "#### Separate by size fraction"
   ]
  },
  {
   "cell_type": "code",
   "execution_count": 486,
   "metadata": {},
   "outputs": [],
   "source": [
    "sizes = table.loc[bool_ass, 'size'].unique()\n",
    "sizes"
   ]
  },
  {
   "cell_type": "code",
   "execution_count": 487,
   "metadata": {},
   "outputs": [],
   "source": [
    "markers = ['o','x']\n",
    "dict_size_marker = dict(zip(sizes, markers))\n",
    "\n",
    "sizes_all = table.loc[bool_ass, 'size'].values\n",
    "\n",
    "markerstyle = [dict_size_marker[s] for s in sizes_all]"
   ]
  },
  {
   "cell_type": "code",
   "execution_count": 488,
   "metadata": {},
   "outputs": [],
   "source": [
    "stringlist = table.loc[bool_ass, \"sample\"].values\n",
    "\n",
    "samples_sort = [dict_tp_sample[tp] for tp in datetime_sort]\n",
    "\n",
    "c, dict_time_col = get_colors_from_stringlist(\n",
    "    stringlist=stringlist, order=samples_sort, cmap_name=\"plasma_r\"\n",
    ")\n",
    "\n",
    "plot_umap(\n",
    "    embedding=embedding, \n",
    "    colors=c,\n",
    "    alpha=1,\n",
    "    markersize=40,\n",
    "    markerstyle=markerstyle\n",
    ")\n",
    "plt.show()\n",
    "plt.close()\n",
    "\n",
    "names = [round(l, 1) for l in datetime_sort]\n",
    "colors = [dict_time_col[s] for s in samples_sort]\n",
    "taxon_legend(names, colors, dims=(1.5, 3), ylabel=\"Latitude\", ft=8)\n",
    "\n",
    "marker_legend(\n",
    "    sizes,\n",
    "    markers,\n",
    "    ylabel=\"Size Fraction\",\n",
    "    dims=(1, 1),\n",
    "    ft=8,\n",
    "    markersize=50,\n",
    "    text_shift_hv=(1, 0),\n",
    ")"
   ]
  },
  {
   "cell_type": "markdown",
   "metadata": {},
   "source": [
    "### Compare Lattitudes in G2NS"
   ]
  },
  {
   "cell_type": "code",
   "execution_count": 489,
   "metadata": {},
   "outputs": [],
   "source": [
    "bool_ass = table.assembly == \"G2NS\"\n",
    "\n",
    "table_vals_sub = table.iloc[:, 9:][bool_ass].values\n",
    "\n",
    "embedding = reducer.fit_transform(table_vals_sub)\n",
    "print(embedding.shape)\n",
    "plot_umap(embedding=embedding, alpha=1, markersize=20)"
   ]
  },
  {
   "cell_type": "markdown",
   "metadata": {},
   "source": [
    "Get latitudes"
   ]
  },
  {
   "cell_type": "code",
   "execution_count": 490,
   "metadata": {},
   "outputs": [],
   "source": [
    "samples = table.loc[bool_ass, 'sample'].values\n",
    "np.unique(samples)"
   ]
  },
  {
   "cell_type": "markdown",
   "metadata": {},
   "source": [
    "Load metadata table"
   ]
  },
  {
   "cell_type": "code",
   "execution_count": 491,
   "metadata": {},
   "outputs": [],
   "source": [
    "dir_diel = '../repo-armbrust-metat/gradients2/g2_station_ns_metat'\n",
    "fn_G3PA_diel_metadata = f'{dir_diel}/sample_metadata.csv'\n",
    "\n",
    "G3PA_diel_metadata = pd.read_csv(fn_G3PA_diel_metadata)\n",
    "G3PA_diel_metadata.shape, G3PA_diel_metadata[:3]"
   ]
  },
  {
   "cell_type": "markdown",
   "metadata": {},
   "source": [
    "Build sample latitude dict"
   ]
  },
  {
   "cell_type": "code",
   "execution_count": 492,
   "metadata": {},
   "outputs": [],
   "source": [
    "dict_tp_sample = {}\n",
    "for i, row in G3PA_diel_metadata.iterrows():\n",
    "    alias = row.Alias2\n",
    "    if isinstance(alias, str):\n",
    "        if not np.isnan(row.Latitude):\n",
    "            sample = alias.split('.')[0]\n",
    "            dict_tp_sample[row.Latitude] = sample\n",
    "dict_tp_sample"
   ]
  },
  {
   "cell_type": "markdown",
   "metadata": {},
   "source": [
    "Sort latitudes"
   ]
  },
  {
   "cell_type": "code",
   "execution_count": 493,
   "metadata": {},
   "outputs": [],
   "source": [
    "datetime_sort = sorted(list(dict_tp_sample.keys()))\n",
    "datetime_sort"
   ]
  },
  {
   "cell_type": "markdown",
   "metadata": {},
   "source": [
    "Color umap by latitude"
   ]
  },
  {
   "cell_type": "code",
   "execution_count": 494,
   "metadata": {},
   "outputs": [],
   "source": [
    "stringlist = table.loc[bool_ass, \"sample\"].values\n",
    "\n",
    "samples_sort = [dict_tp_sample[tp] for tp in datetime_sort]\n",
    "\n",
    "c, dict_time_col = get_colors_from_stringlist(\n",
    "    stringlist=stringlist, order=samples_sort, cmap_name=\"plasma_r\"\n",
    ")\n",
    "\n",
    "plot_umap(\n",
    "    embedding=embedding, \n",
    "    colors=c,\n",
    "    alpha=1,\n",
    "    markersize=40\n",
    ")\n",
    "plt.show()\n",
    "plt.close()\n",
    "\n",
    "names = [round(l, 1) for l in datetime_sort]\n",
    "colors = [dict_time_col[s] for s in samples_sort]\n",
    "taxon_legend(names, colors, dims=(1.5, 3), ylabel=\"Latitude\", ft=8)"
   ]
  },
  {
   "cell_type": "markdown",
   "metadata": {},
   "source": [
    "#### Separate by size fraction"
   ]
  },
  {
   "cell_type": "code",
   "execution_count": 495,
   "metadata": {},
   "outputs": [],
   "source": [
    "sizes = table.loc[bool_ass, 'size'].unique()\n",
    "sizes"
   ]
  },
  {
   "cell_type": "code",
   "execution_count": 496,
   "metadata": {},
   "outputs": [],
   "source": [
    "markers = ['o','x']\n",
    "dict_size_marker = dict(zip(sizes, markers))\n",
    "\n",
    "sizes_all = table.loc[bool_ass, 'size'].values\n",
    "\n",
    "markerstyle = [dict_size_marker[s] for s in sizes_all]"
   ]
  },
  {
   "cell_type": "code",
   "execution_count": 497,
   "metadata": {},
   "outputs": [],
   "source": [
    "stringlist = table.loc[bool_ass, \"sample\"].values\n",
    "\n",
    "samples_sort = [dict_tp_sample[tp] for tp in datetime_sort]\n",
    "\n",
    "c, dict_time_col = get_colors_from_stringlist(\n",
    "    stringlist=stringlist, order=samples_sort, cmap_name=\"plasma_r\"\n",
    ")\n",
    "\n",
    "plot_umap(\n",
    "    embedding=embedding, \n",
    "    colors=c,\n",
    "    alpha=1,\n",
    "    markersize=40,\n",
    "    markerstyle=markerstyle\n",
    ")\n",
    "plt.show()\n",
    "plt.close()\n",
    "\n",
    "names = [round(l, 1) for l in datetime_sort]\n",
    "colors = [dict_time_col[s] for s in samples_sort]\n",
    "taxon_legend(names, colors, dims=(1.5, 3), ylabel=\"Latitude\", ft=8)\n",
    "\n",
    "marker_legend(\n",
    "    sizes,\n",
    "    markers,\n",
    "    ylabel=\"Size Fraction\",\n",
    "    dims=(1, 1),\n",
    "    ft=8,\n",
    "    markersize=50,\n",
    "    text_shift_hv=(1, 0),\n",
    ")"
   ]
  },
  {
   "cell_type": "markdown",
   "metadata": {},
   "source": [
    "### Compare Lattitudes in G3PA"
   ]
  },
  {
   "cell_type": "code",
   "execution_count": 498,
   "metadata": {},
   "outputs": [],
   "source": [
    "bool_ass = table.assembly == \"G3PA\"\n",
    "\n",
    "table_vals_sub = table.iloc[:, 9:][bool_ass].values\n",
    "\n",
    "embedding = reducer.fit_transform(table_vals_sub)\n",
    "print(embedding.shape)\n",
    "plot_umap(embedding=embedding, alpha=1, markersize=20)"
   ]
  },
  {
   "cell_type": "markdown",
   "metadata": {},
   "source": [
    "Get latitudes"
   ]
  },
  {
   "cell_type": "code",
   "execution_count": 499,
   "metadata": {},
   "outputs": [],
   "source": [
    "samples = table.loc[bool_ass, 'sample'].values\n",
    "np.unique(samples)"
   ]
  },
  {
   "cell_type": "markdown",
   "metadata": {},
   "source": [
    "Load metadata table"
   ]
  },
  {
   "cell_type": "code",
   "execution_count": 500,
   "metadata": {},
   "outputs": [],
   "source": [
    "dir_diel = '../repo-armbrust-metat/gradients3/g3_uw_pa_metat'\n",
    "fn_G3PA_diel_metadata = f'{dir_diel}/sample_metadata.csv'\n",
    "\n",
    "G3PA_diel_metadata = pd.read_csv(fn_G3PA_diel_metadata)\n",
    "G3PA_diel_metadata.shape, G3PA_diel_metadata[:3]"
   ]
  },
  {
   "cell_type": "markdown",
   "metadata": {},
   "source": [
    "Build sample latitude dict"
   ]
  },
  {
   "cell_type": "code",
   "execution_count": 501,
   "metadata": {},
   "outputs": [],
   "source": [
    "dict_tp_sample = defaultdict(list)\n",
    "for i, row in G3PA_diel_metadata.iterrows():\n",
    "    alias = row.Alias2\n",
    "    if isinstance(alias, str):\n",
    "        sample = alias\n",
    "        dict_tp_sample[row.Latitude].append(sample)\n",
    "dict_tp_sample"
   ]
  },
  {
   "cell_type": "code",
   "execution_count": 502,
   "metadata": {},
   "outputs": [],
   "source": [
    "dict_sample_lat = {}\n",
    "for i, row in G3PA_diel_metadata.iterrows():\n",
    "    alias = row.Alias2\n",
    "    if isinstance(alias, str):\n",
    "        if not np.isnan(row.Latitude):\n",
    "            sample = alias\n",
    "            dict_sample_lat[sample] = row.Latitude\n",
    "dict_sample_lat"
   ]
  },
  {
   "cell_type": "markdown",
   "metadata": {},
   "source": [
    "Sort latitudes"
   ]
  },
  {
   "cell_type": "code",
   "execution_count": 503,
   "metadata": {},
   "outputs": [],
   "source": [
    "datetime_sort = sorted(list(set(dict_sample_lat.values())))\n",
    "datetime_sort"
   ]
  },
  {
   "cell_type": "markdown",
   "metadata": {},
   "source": [
    "Color umap by latitude"
   ]
  },
  {
   "cell_type": "code",
   "execution_count": 504,
   "metadata": {},
   "outputs": [],
   "source": [
    "stringlist = table.loc[bool_ass, \"sample\"].values\n",
    "\n",
    "samples_sort = [s for tp in datetime_sort for s in dict_tp_sample[tp]]\n",
    "\n",
    "c, dict_time_col = get_colors_from_stringlist(\n",
    "    stringlist=stringlist, order=samples_sort, cmap_name=\"plasma_r\"\n",
    ")\n",
    "\n",
    "plot_umap(\n",
    "    embedding=embedding, \n",
    "    colors=c,\n",
    "    alpha=1,\n",
    "    markersize=40\n",
    ")\n",
    "plt.show()\n",
    "plt.close()\n",
    "\n",
    "names = [round(l, 1) for l in datetime_sort]\n",
    "colors = [dict_time_col[s] for s in samples_sort]\n",
    "taxon_legend(names, colors, dims=(1.5, 3), ylabel=\"Latitude\", ft=8)"
   ]
  },
  {
   "cell_type": "markdown",
   "metadata": {},
   "source": [
    "#### Separate by size fraction"
   ]
  },
  {
   "cell_type": "code",
   "execution_count": 505,
   "metadata": {},
   "outputs": [],
   "source": [
    "sizes = table.loc[bool_ass, 'size'].unique()\n",
    "sizes"
   ]
  },
  {
   "cell_type": "code",
   "execution_count": 506,
   "metadata": {},
   "outputs": [],
   "source": [
    "markers = ['o','x']\n",
    "dict_size_marker = dict(zip(sizes, markers))\n",
    "\n",
    "sizes_all = table.loc[bool_ass, 'size'].values\n",
    "\n",
    "markerstyle = [dict_size_marker[s] for s in sizes_all]"
   ]
  },
  {
   "cell_type": "code",
   "execution_count": 507,
   "metadata": {},
   "outputs": [],
   "source": [
    "stringlist = table.loc[bool_ass, \"sample\"].values\n",
    "\n",
    "samples_sort = [dict_tp_sample[tp] for tp in datetime_sort]\n",
    "\n",
    "c, dict_time_col = get_colors_from_stringlist(\n",
    "    stringlist=stringlist, order=samples_sort, cmap_name=\"plasma_r\"\n",
    ")\n",
    "\n",
    "plot_umap(\n",
    "    embedding=embedding, \n",
    "    colors=c,\n",
    "    alpha=1,\n",
    "    markersize=40,\n",
    "    markerstyle=markerstyle\n",
    ")\n",
    "plt.show()\n",
    "plt.close()\n",
    "\n",
    "names = [round(l, 1) for l in datetime_sort]\n",
    "colors = [dict_time_col[s] for s in samples_sort]\n",
    "taxon_legend(names, colors, dims=(1.5, 3), ylabel=\"Latitude\", ft=8)\n",
    "\n",
    "marker_legend(\n",
    "    sizes,\n",
    "    markers,\n",
    "    ylabel=\"Size Fraction\",\n",
    "    dims=(1, 1),\n",
    "    ft=8,\n",
    "    markersize=50,\n",
    "    text_shift_hv=(1, 0),\n",
    ")"
   ]
  },
  {
   "cell_type": "markdown",
   "metadata": {},
   "source": [
    "### Compare Lattitudes in G3NS"
   ]
  },
  {
   "cell_type": "code",
   "execution_count": 508,
   "metadata": {},
   "outputs": [],
   "source": [
    "bool_ass = table.assembly == \"G3.UW.NS\"\n",
    "\n",
    "table_vals_sub = table.iloc[:, 9:][bool_ass].values\n",
    "\n",
    "embedding = reducer.fit_transform(table_vals_sub)\n",
    "print(embedding.shape)\n",
    "plot_umap(embedding=embedding, alpha=1, markersize=20)"
   ]
  },
  {
   "cell_type": "markdown",
   "metadata": {},
   "source": [
    "Get latitudes"
   ]
  },
  {
   "cell_type": "code",
   "execution_count": 509,
   "metadata": {},
   "outputs": [],
   "source": [
    "samples = table.loc[bool_ass, 'sample'].values\n",
    "np.unique(samples)"
   ]
  },
  {
   "cell_type": "markdown",
   "metadata": {},
   "source": [
    "Load metadata table"
   ]
  },
  {
   "cell_type": "code",
   "execution_count": 510,
   "metadata": {},
   "outputs": [],
   "source": [
    "dir_diel = '../repo-armbrust-metat/gradients3/g3_uw_ns_metat'\n",
    "fn_G3PA_diel_metadata = f'{dir_diel}/sample_metadata.csv'\n",
    "\n",
    "G3PA_diel_metadata = pd.read_csv(fn_G3PA_diel_metadata)\n",
    "G3PA_diel_metadata.shape, G3PA_diel_metadata[:3]"
   ]
  },
  {
   "cell_type": "markdown",
   "metadata": {},
   "source": [
    "Build sample latitude dict"
   ]
  },
  {
   "cell_type": "code",
   "execution_count": 511,
   "metadata": {},
   "outputs": [],
   "source": [
    "dict_tp_sample = {}\n",
    "for i, row in G3PA_diel_metadata.iterrows():\n",
    "    alias = row.Alias1\n",
    "    if isinstance(alias, str):\n",
    "        if not np.isnan(row.Latitude):\n",
    "            sample = alias.split(' ')[0]\n",
    "            dict_tp_sample[row.Latitude] = sample\n",
    "dict_tp_sample"
   ]
  },
  {
   "cell_type": "markdown",
   "metadata": {},
   "source": [
    "Sort latitudes"
   ]
  },
  {
   "cell_type": "code",
   "execution_count": 512,
   "metadata": {},
   "outputs": [],
   "source": [
    "datetime_sort = sorted(list(dict_tp_sample.keys()))\n",
    "datetime_sort"
   ]
  },
  {
   "cell_type": "markdown",
   "metadata": {},
   "source": [
    "Color umap by latitude"
   ]
  },
  {
   "cell_type": "code",
   "execution_count": 513,
   "metadata": {},
   "outputs": [],
   "source": [
    "stringlist = table.loc[bool_ass, \"sample\"].values\n",
    "\n",
    "samples_sort = [dict_tp_sample[tp] for tp in datetime_sort]\n",
    "\n",
    "c, dict_time_col = get_colors_from_stringlist(\n",
    "    stringlist=stringlist, order=samples_sort, cmap_name=\"plasma_r\"\n",
    ")\n",
    "\n",
    "plot_umap(\n",
    "    embedding=embedding, \n",
    "    colors=c,\n",
    "    alpha=1,\n",
    "    markersize=40\n",
    ")\n",
    "plt.show()\n",
    "plt.close()\n",
    "\n",
    "names = [round(l, 1) for l in datetime_sort]\n",
    "colors = [dict_time_col[s] for s in samples_sort]\n",
    "taxon_legend(names, colors, dims=(1.5, 3), ylabel=\"Latitude\", ft=8)"
   ]
  },
  {
   "cell_type": "markdown",
   "metadata": {},
   "source": [
    "#### Separate by size fraction"
   ]
  },
  {
   "cell_type": "code",
   "execution_count": 514,
   "metadata": {},
   "outputs": [],
   "source": [
    "sizes = table.loc[bool_ass, 'size'].unique()\n",
    "sizes"
   ]
  },
  {
   "cell_type": "code",
   "execution_count": 515,
   "metadata": {},
   "outputs": [],
   "source": [
    "markers = ['o','x']\n",
    "dict_size_marker = dict(zip(sizes, markers))\n",
    "\n",
    "sizes_all = table.loc[bool_ass, 'size'].values\n",
    "\n",
    "markerstyle = [dict_size_marker[s] for s in sizes_all]"
   ]
  },
  {
   "cell_type": "code",
   "execution_count": 516,
   "metadata": {},
   "outputs": [],
   "source": [
    "stringlist = table.loc[bool_ass, \"sample\"].values\n",
    "\n",
    "samples_sort = [dict_tp_sample[tp] for tp in datetime_sort]\n",
    "\n",
    "c, dict_time_col = get_colors_from_stringlist(\n",
    "    stringlist=stringlist, order=samples_sort, cmap_name=\"plasma_r\"\n",
    ")\n",
    "\n",
    "plot_umap(\n",
    "    embedding=embedding, \n",
    "    colors=c,\n",
    "    alpha=1,\n",
    "    markersize=40,\n",
    "    markerstyle=markerstyle\n",
    ")\n",
    "plt.show()\n",
    "plt.close()\n",
    "\n",
    "names = [round(l, 1) for l in datetime_sort]\n",
    "colors = [dict_time_col[s] for s in samples_sort]\n",
    "taxon_legend(names, colors, dims=(1.5, 3), ylabel=\"Latitude\", ft=8)\n",
    "\n",
    "marker_legend(\n",
    "    sizes,\n",
    "    markers,\n",
    "    ylabel=\"Size Fraction\",\n",
    "    dims=(1, 1),\n",
    "    ft=8,\n",
    "    markersize=50,\n",
    "    text_shift_hv=(1, 0),\n",
    ")"
   ]
  },
  {
   "cell_type": "markdown",
   "metadata": {},
   "source": [
    "## Compare Lattitudes in G3PA am vs pm \n",
    "\n",
    "### 3um"
   ]
  },
  {
   "cell_type": "markdown",
   "metadata": {},
   "source": [
    "Get G3PA"
   ]
  },
  {
   "cell_type": "code",
   "execution_count": 517,
   "metadata": {},
   "outputs": [],
   "source": [
    "bool_ass = (table.assembly == \"G3PA\")\n",
    "\n",
    "table_sub = table[bool_ass]\n",
    "samples = table_sub['sample'].values\n",
    "np.unique(samples).shape, np.unique(samples)"
   ]
  },
  {
   "cell_type": "markdown",
   "metadata": {},
   "source": [
    "Load metadata table"
   ]
  },
  {
   "cell_type": "code",
   "execution_count": 518,
   "metadata": {},
   "outputs": [],
   "source": [
    "dir_diel = '../repo-armbrust-metat/gradients3/g3_uw_pa_metat'\n",
    "fn_metadata = f'{dir_diel}/sample_metadata.csv'\n",
    "\n",
    "metadata = pd.read_csv(fn_metadata)\n",
    "metadata.shape, metadata[:3]"
   ]
  },
  {
   "cell_type": "markdown",
   "metadata": {},
   "source": [
    "Map alias to size and latitude"
   ]
  },
  {
   "cell_type": "code",
   "execution_count": 519,
   "metadata": {},
   "outputs": [],
   "source": [
    "dict_sample_lat = {}\n",
    "dict_sample_size = {}\n",
    "for i, row in metadata.iterrows():\n",
    "    sample = row.Alias2\n",
    "    if sample:\n",
    "        dict_sample_lat[sample] = row.Latitude\n",
    "        dict_sample_size[sample] = row.Filter\n",
    "\n",
    "dict_sample_lat, dict_sample_size"
   ]
  },
  {
   "cell_type": "markdown",
   "metadata": {},
   "source": [
    "Get size 3um"
   ]
  },
  {
   "cell_type": "code",
   "execution_count": 520,
   "metadata": {},
   "outputs": [],
   "source": [
    "bool_size = [True if dict_sample_size[s] == 3 else False for s in samples]\n",
    "\n",
    "table_sub_sub1 = table_sub[bool_size]\n",
    "samples_sub_sub1 = table_sub_sub1['sample'].values\n",
    "\n",
    "table_sub_sub1.shape, samples_sub_sub1"
   ]
  },
  {
   "cell_type": "markdown",
   "metadata": {},
   "source": [
    "Get latitudes"
   ]
  },
  {
   "cell_type": "code",
   "execution_count": 521,
   "metadata": {},
   "outputs": [],
   "source": [
    "latitudes1 = [dict_sample_lat[s] for s in samples_sub_sub1]\n",
    "latitudes1"
   ]
  },
  {
   "cell_type": "markdown",
   "metadata": {},
   "source": [
    "Get G3PA PM"
   ]
  },
  {
   "cell_type": "code",
   "execution_count": 522,
   "metadata": {},
   "outputs": [],
   "source": [
    "bool_ass = (table.assembly == \"G3.UW.PA\")\n",
    "\n",
    "table_sub = table[bool_ass]\n",
    "samples = table_sub['sample'].values\n",
    "np.unique(samples).shape, np.unique(samples), table_sub[:5]"
   ]
  },
  {
   "cell_type": "markdown",
   "metadata": {},
   "source": [
    "Filter by size"
   ]
  },
  {
   "cell_type": "code",
   "execution_count": 523,
   "metadata": {},
   "outputs": [],
   "source": [
    "table_sub_sub2 = table_sub[table_sub['size'] == '3um']\n",
    "samples_sub_sub2 = table_sub_sub2['sample'].values\n",
    "\n",
    "table_sub_sub2.shape, samples_sub_sub2"
   ]
  },
  {
   "cell_type": "markdown",
   "metadata": {},
   "source": [
    "Load metadata table"
   ]
  },
  {
   "cell_type": "code",
   "execution_count": 524,
   "metadata": {},
   "outputs": [],
   "source": [
    "dir_diel = '../repo-armbrust-metat/gradients3/g3_uw_pa_pm_metat'\n",
    "fn_metadata = f'{dir_diel}/sample_metadata.csv'\n",
    "\n",
    "metadata = pd.read_csv(fn_metadata)\n",
    "metadata.shape, metadata[:3]"
   ]
  },
  {
   "cell_type": "markdown",
   "metadata": {},
   "source": [
    "Map alias to latitude"
   ]
  },
  {
   "cell_type": "code",
   "execution_count": 525,
   "metadata": {},
   "outputs": [],
   "source": [
    "dict_sample_lat = {}\n",
    "for i, row in metadata.iterrows():\n",
    "    sample = row.Alias1.split(' ')[0]\n",
    "    if sample:\n",
    "        dict_sample_lat[sample] = row.Latitude\n",
    "\n",
    "dict_sample_lat"
   ]
  },
  {
   "cell_type": "markdown",
   "metadata": {},
   "source": [
    "Get latitudes"
   ]
  },
  {
   "cell_type": "code",
   "execution_count": 526,
   "metadata": {},
   "outputs": [],
   "source": [
    "latitudes2 = [dict_sample_lat[s] for s in samples_sub_sub2]\n",
    "latitudes2"
   ]
  },
  {
   "cell_type": "markdown",
   "metadata": {},
   "source": [
    "Get colors"
   ]
  },
  {
   "cell_type": "code",
   "execution_count": 527,
   "metadata": {},
   "outputs": [],
   "source": [
    "latitudes = latitudes1 + latitudes2\n",
    "\n",
    "cmap_name = 'plasma_r'\n",
    "cmap = plt.get_cmap(cmap_name)\n",
    "mn, mx = np.min(latitudes), np.max(latitudes)\n",
    "lat_norm = (np.array(latitudes) - mn) / (mx - mn)\n",
    "colors = [cmap(l) for l in lat_norm]\n",
    "len(colors)"
   ]
  },
  {
   "cell_type": "markdown",
   "metadata": {},
   "source": [
    "Get time of day as markerstyle"
   ]
  },
  {
   "cell_type": "code",
   "execution_count": 528,
   "metadata": {},
   "outputs": [],
   "source": [
    "markers = ['o']*len(latitudes1) + ['x']*len(latitudes2)\n",
    "dict_time_marker = {'AM':'o','PM':'x'}"
   ]
  },
  {
   "cell_type": "markdown",
   "metadata": {},
   "source": [
    "Get umap"
   ]
  },
  {
   "cell_type": "code",
   "execution_count": 531,
   "metadata": {},
   "outputs": [],
   "source": [
    "vals1 = table_sub_sub1.iloc[:, 9:].values\n",
    "vals2 = table_sub_sub2.iloc[:, 9:].values\n",
    "\n",
    "vals = np.vstack([vals1, vals2])\n",
    "\n",
    "reducer = umap.UMAP(n_neighbors=11, metric='cosine')\n",
    "embedding = reducer.fit_transform(vals)"
   ]
  },
  {
   "cell_type": "markdown",
   "metadata": {},
   "source": [
    "Plot UMAP"
   ]
  },
  {
   "cell_type": "code",
   "execution_count": 532,
   "metadata": {},
   "outputs": [],
   "source": [
    "gradient = np.linspace(0,1,256)\n",
    "np.vstack([gradient]*2).shape"
   ]
  },
  {
   "cell_type": "code",
   "execution_count": 533,
   "metadata": {},
   "outputs": [],
   "source": [
    "plot_umap(\n",
    "    embedding,\n",
    "    markersize=50,\n",
    "    alpha=1,\n",
    "    colors=colors,\n",
    "    markerstyle=markers\n",
    ")\n",
    "\n",
    "\n",
    "names_mlegend = list(dict_time_marker.keys())\n",
    "markers_mlegend = list(dict_time_marker.values())\n",
    "marker_legend(\n",
    "    names_mlegend,\n",
    "    markers_mlegend,\n",
    "    ylabel=\"Experiment\",\n",
    "    dims=(1, 1),\n",
    "    ft=8,\n",
    "    markersize=50,\n",
    "    text_shift_hv=(1, 0),\n",
    ")\n",
    "\n",
    "\n",
    "horizontal = False\n",
    "scalevals = latitudes\n",
    "dims=[1,1.5]\n",
    "ft=8\n",
    "\n",
    "gradient = np.linspace(0,1,256)\n",
    "fig, ax = general_plot(dims=dims, ft=ft)\n",
    "for i in ax.spines:\n",
    "    ax.spines[i].set_visible(False)\n",
    "if horizontal:\n",
    "    gradient = np.vstack([gradient]*2)\n",
    "    ax.set_xticks([0,256])\n",
    "    ax.set_xticklabels([np.min(vals),np.max(vals)])\n",
    "    ax.set_yticks([])\n",
    "else:\n",
    "    gradient = np.hstack([gradient[:,None]]*2)\n",
    "    ax.set_yticks([0,255])\n",
    "    ax.set_yticklabels([np.min(scalevals),np.max(scalevals)])\n",
    "    ax.set_xticks([])\n",
    "    ax.set_ylabel('Latitude')\n",
    "                    \n",
    "ax.imshow(gradient, cmap=cmap_name)\n",
    "ax.invert_xaxis()\n",
    "ax.invert_yaxis()\n",
    "\n",
    "\n"
   ]
  },
  {
   "cell_type": "markdown",
   "metadata": {},
   "source": [
    "### 0.2um"
   ]
  },
  {
   "cell_type": "markdown",
   "metadata": {},
   "source": [
    "Get G3PA"
   ]
  },
  {
   "cell_type": "code",
   "execution_count": 534,
   "metadata": {},
   "outputs": [],
   "source": [
    "bool_ass = (table.assembly == \"G3PA\")\n",
    "\n",
    "table_sub = table[bool_ass]\n",
    "samples = table_sub['sample'].values\n",
    "np.unique(samples).shape, np.unique(samples)"
   ]
  },
  {
   "cell_type": "markdown",
   "metadata": {},
   "source": [
    "Load metadata table"
   ]
  },
  {
   "cell_type": "code",
   "execution_count": 535,
   "metadata": {},
   "outputs": [],
   "source": [
    "dir_diel = '../repo-armbrust-metat/gradients3/g3_uw_pa_metat'\n",
    "fn_metadata = f'{dir_diel}/sample_metadata.csv'\n",
    "\n",
    "metadata = pd.read_csv(fn_metadata)\n",
    "metadata.shape, metadata[:3]"
   ]
  },
  {
   "cell_type": "markdown",
   "metadata": {},
   "source": [
    "Map alias to size and latitude"
   ]
  },
  {
   "cell_type": "code",
   "execution_count": 536,
   "metadata": {},
   "outputs": [],
   "source": [
    "dict_sample_lat = {}\n",
    "dict_sample_size = {}\n",
    "for i, row in metadata.iterrows():\n",
    "    sample = row.Alias2\n",
    "    if sample:\n",
    "        dict_sample_lat[sample] = row.Latitude\n",
    "        dict_sample_size[sample] = row.Filter\n",
    "\n",
    "dict_sample_lat, dict_sample_size"
   ]
  },
  {
   "cell_type": "markdown",
   "metadata": {},
   "source": [
    "Get size 0.2um"
   ]
  },
  {
   "cell_type": "code",
   "execution_count": 537,
   "metadata": {},
   "outputs": [],
   "source": [
    "bool_size = [True if dict_sample_size[s] == 0.2 else False for s in samples]\n",
    "\n",
    "table_sub_sub1 = table_sub[bool_size]\n",
    "samples_sub_sub1 = table_sub_sub1['sample'].values\n",
    "\n",
    "table_sub_sub1.shape, samples_sub_sub1"
   ]
  },
  {
   "cell_type": "markdown",
   "metadata": {},
   "source": [
    "Get latitudes"
   ]
  },
  {
   "cell_type": "code",
   "execution_count": 538,
   "metadata": {},
   "outputs": [],
   "source": [
    "latitudes1 = [dict_sample_lat[s] for s in samples_sub_sub1]\n",
    "latitudes1"
   ]
  },
  {
   "cell_type": "markdown",
   "metadata": {},
   "source": [
    "Get G3PA PM"
   ]
  },
  {
   "cell_type": "code",
   "execution_count": 539,
   "metadata": {},
   "outputs": [],
   "source": [
    "bool_ass = (table.assembly == \"G3.UW.PA\")\n",
    "\n",
    "table_sub = table[bool_ass]\n",
    "samples = table_sub['sample'].values\n",
    "np.unique(samples).shape, np.unique(samples), table_sub[:5]"
   ]
  },
  {
   "cell_type": "markdown",
   "metadata": {},
   "source": [
    "Filter by size"
   ]
  },
  {
   "cell_type": "code",
   "execution_count": 540,
   "metadata": {},
   "outputs": [],
   "source": [
    "table_sub_sub2 = table_sub[table_sub['size'] == '0.2um']\n",
    "samples_sub_sub2 = table_sub_sub2['sample'].values\n",
    "\n",
    "table_sub_sub2.shape, samples_sub_sub2"
   ]
  },
  {
   "cell_type": "markdown",
   "metadata": {},
   "source": [
    "Load metadata table"
   ]
  },
  {
   "cell_type": "code",
   "execution_count": 541,
   "metadata": {},
   "outputs": [],
   "source": [
    "dir_diel = '../repo-armbrust-metat/gradients3/g3_uw_pa_pm_metat'\n",
    "fn_metadata = f'{dir_diel}/sample_metadata.csv'\n",
    "\n",
    "metadata = pd.read_csv(fn_metadata)\n",
    "metadata.shape, metadata[:3]"
   ]
  },
  {
   "cell_type": "markdown",
   "metadata": {},
   "source": [
    "Map alias to latitude"
   ]
  },
  {
   "cell_type": "code",
   "execution_count": 542,
   "metadata": {},
   "outputs": [],
   "source": [
    "dict_sample_lat = {}\n",
    "for i, row in metadata.iterrows():\n",
    "    sample = row.Alias1.split(' ')[0]\n",
    "    if sample:\n",
    "        dict_sample_lat[sample] = row.Latitude\n",
    "\n",
    "dict_sample_lat"
   ]
  },
  {
   "cell_type": "markdown",
   "metadata": {},
   "source": [
    "Get latitudes"
   ]
  },
  {
   "cell_type": "code",
   "execution_count": 543,
   "metadata": {},
   "outputs": [],
   "source": [
    "latitudes2 = [dict_sample_lat[s] for s in samples_sub_sub2]\n",
    "latitudes2"
   ]
  },
  {
   "cell_type": "markdown",
   "metadata": {},
   "source": [
    "Get colors"
   ]
  },
  {
   "cell_type": "code",
   "execution_count": 544,
   "metadata": {},
   "outputs": [],
   "source": [
    "latitudes = latitudes1 + latitudes2\n",
    "\n",
    "cmap_name = 'plasma_r'\n",
    "cmap = plt.get_cmap(cmap_name)\n",
    "mn, mx = np.min(latitudes), np.max(latitudes)\n",
    "lat_norm = (np.array(latitudes) - mn) / (mx - mn)\n",
    "colors = [cmap(l) for l in lat_norm]\n",
    "len(colors)"
   ]
  },
  {
   "cell_type": "markdown",
   "metadata": {},
   "source": [
    "Get time of day as markerstyle"
   ]
  },
  {
   "cell_type": "code",
   "execution_count": 545,
   "metadata": {},
   "outputs": [],
   "source": [
    "markers = ['o']*len(latitudes1) + ['x']*len(latitudes2)\n",
    "dict_time_marker = {'AM':'o','PM':'x'}"
   ]
  },
  {
   "cell_type": "markdown",
   "metadata": {},
   "source": [
    "Get umap"
   ]
  },
  {
   "cell_type": "code",
   "execution_count": 546,
   "metadata": {},
   "outputs": [],
   "source": [
    "vals1 = table_sub_sub1.iloc[:, 9:].values\n",
    "vals2 = table_sub_sub2.iloc[:, 9:].values\n",
    "\n",
    "vals = np.vstack([vals1, vals2])\n",
    "\n",
    "reducer = umap.UMAP(n_neighbors=11, metric='cosine')\n",
    "embedding = reducer.fit_transform(vals)"
   ]
  },
  {
   "cell_type": "markdown",
   "metadata": {},
   "source": [
    "Plot UMAP"
   ]
  },
  {
   "cell_type": "code",
   "execution_count": 547,
   "metadata": {},
   "outputs": [],
   "source": [
    "plot_umap(\n",
    "    embedding,\n",
    "    markersize=50,\n",
    "    alpha=1,\n",
    "    colors=colors,\n",
    "    markerstyle=markers\n",
    ")\n",
    "\n",
    "\n",
    "names_mlegend = list(dict_time_marker.keys())\n",
    "markers_mlegend = list(dict_time_marker.values())\n",
    "marker_legend(\n",
    "    names_mlegend,\n",
    "    markers_mlegend,\n",
    "    ylabel=\"Experiment\",\n",
    "    dims=(1, 1),\n",
    "    ft=8,\n",
    "    markersize=50,\n",
    "    text_shift_hv=(1, 0),\n",
    ")"
   ]
  },
  {
   "cell_type": "markdown",
   "metadata": {},
   "source": [
    "## G5"
   ]
  },
  {
   "cell_type": "code",
   "execution_count": 548,
   "metadata": {},
   "outputs": [],
   "source": [
    "bool_ass = table.assembly == \"G5\"\n",
    "\n",
    "table_sub = table[bool_ass]\n",
    "samples_sub = table_sub['sample']\n",
    "samples_sub"
   ]
  },
  {
   "cell_type": "markdown",
   "metadata": {},
   "source": [
    "Get mix and RR"
   ]
  },
  {
   "cell_type": "code",
   "execution_count": 549,
   "metadata": {},
   "outputs": [],
   "source": [
    "bool_mix = (table_sub['sample'] == 'Mix1') | (table_sub['sample'] == 'Mix2')\n",
    "bool_RR = (table_sub['sample'] == 'RR1') | (table_sub['sample'] == 'RR2')\n",
    "\n",
    "table_RR = table_sub[bool_RR]\n",
    "table_mix = table_sub[bool_mix]\n",
    "\n",
    "table_RR.shape, table_mix.shape\n"
   ]
  },
  {
   "cell_type": "markdown",
   "metadata": {},
   "source": [
    "### RR"
   ]
  },
  {
   "cell_type": "markdown",
   "metadata": {},
   "source": [
    "Get ammendments as color"
   ]
  },
  {
   "cell_type": "code",
   "execution_count": 550,
   "metadata": {},
   "outputs": [],
   "source": [
    "ammendments = table_RR['ammendment'].values\n",
    "colors, dict_amm_col = get_colors_from_stringlist(ammendments, order=\"\", cmap_name=\"tab10\")\n"
   ]
  },
  {
   "cell_type": "markdown",
   "metadata": {},
   "source": [
    "Get RR location as marker"
   ]
  },
  {
   "cell_type": "code",
   "execution_count": 551,
   "metadata": {},
   "outputs": [],
   "source": [
    "rr_loc = table_RR['sample'].values\n",
    "dict_rr_mark = {'RR1':'o','RR2':'x'}\n",
    "markers = [dict_rr_mark[r] for r in rr_loc]"
   ]
  },
  {
   "cell_type": "markdown",
   "metadata": {},
   "source": [
    "Get Umap"
   ]
  },
  {
   "cell_type": "code",
   "execution_count": 554,
   "metadata": {},
   "outputs": [],
   "source": [
    "vals = table_RR.iloc[:, 9:].values\n",
    "\n",
    "reducer = umap.UMAP(n_neighbors=11)\n",
    "embedding = reducer.fit_transform(vals)"
   ]
  },
  {
   "cell_type": "markdown",
   "metadata": {},
   "source": [
    "Plot UMAP"
   ]
  },
  {
   "cell_type": "code",
   "execution_count": 555,
   "metadata": {},
   "outputs": [],
   "source": [
    "plot_umap(\n",
    "    embedding,\n",
    "    figsize=(5,5),\n",
    "    markersize=50,\n",
    "    alpha=1,\n",
    "    colors=colors,\n",
    "    markerstyle=markers\n",
    ")\n",
    "\n",
    "\n",
    "names_legend = list(dict_amm_col.keys())\n",
    "colors_legend = list(dict_amm_col.values())\n",
    "taxon_legend(names_legend, colors_legend, dims=(1, 2), ylabel=\"Ammendment\", ft=8)\n",
    "\n",
    "names_mlegend = list(dict_rr_mark.keys())\n",
    "markers_mlegend = list(dict_rr_mark.values())\n",
    "marker_legend(\n",
    "    names_mlegend,\n",
    "    markers_mlegend,\n",
    "    ylabel=\"Experiment\",\n",
    "    dims=(1, 1),\n",
    "    ft=8,\n",
    "    markersize=50,\n",
    "    text_shift_hv=(1, 0),\n",
    ")"
   ]
  },
  {
   "cell_type": "markdown",
   "metadata": {},
   "source": [
    "### Mix"
   ]
  },
  {
   "cell_type": "markdown",
   "metadata": {},
   "source": [
    "Get ammendments as color"
   ]
  },
  {
   "cell_type": "code",
   "execution_count": 556,
   "metadata": {},
   "outputs": [],
   "source": [
    "ammendments = table_mix['ammendment'].values\n",
    "colors, dict_amm_col = get_colors_from_stringlist(ammendments, order=\"\", cmap_name=\"tab10\")\n"
   ]
  },
  {
   "cell_type": "markdown",
   "metadata": {},
   "source": [
    "Get RR location as marker"
   ]
  },
  {
   "cell_type": "code",
   "execution_count": 557,
   "metadata": {},
   "outputs": [],
   "source": [
    "rr_loc = table_mix['sample'].values\n",
    "dict_rr_mark = {'Mix1':'o','Mix2':'x'}\n",
    "markers = [dict_rr_mark[r] for r in rr_loc]"
   ]
  },
  {
   "cell_type": "markdown",
   "metadata": {},
   "source": [
    "Get Umap"
   ]
  },
  {
   "cell_type": "code",
   "execution_count": 560,
   "metadata": {},
   "outputs": [],
   "source": [
    "vals = table_mix.iloc[:, 9:].values\n",
    "\n",
    "reducer = umap.UMAP(n_neighbors=11)\n",
    "embedding = reducer.fit_transform(vals)"
   ]
  },
  {
   "cell_type": "markdown",
   "metadata": {},
   "source": [
    "Plot UMAP"
   ]
  },
  {
   "cell_type": "code",
   "execution_count": 561,
   "metadata": {},
   "outputs": [],
   "source": [
    "plot_umap(\n",
    "    embedding,\n",
    "    figsize=(5,5),\n",
    "    markersize=50,\n",
    "    alpha=1,\n",
    "    colors=colors,\n",
    "    markerstyle=markers\n",
    ")\n",
    "\n",
    "\n",
    "names_legend = list(dict_amm_col.keys())\n",
    "colors_legend = list(dict_amm_col.values())\n",
    "taxon_legend(names_legend, colors_legend, dims=(1, 2), ylabel=\"Ammendment\", ft=8)\n",
    "\n",
    "names_mlegend = list(dict_rr_mark.keys())\n",
    "markers_mlegend = list(dict_rr_mark.values())\n",
    "marker_legend(\n",
    "    names_mlegend,\n",
    "    markers_mlegend,\n",
    "    ylabel=\"Experiment\",\n",
    "    dims=(1, 1),\n",
    "    ft=8,\n",
    "    markersize=50,\n",
    "    text_shift_hv=(1, 0),\n",
    ")"
   ]
  },
  {
   "cell_type": "markdown",
   "metadata": {},
   "source": [
    "## KOs as points"
   ]
  },
  {
   "cell_type": "markdown",
   "metadata": {},
   "source": [
    "Invert table"
   ]
  },
  {
   "cell_type": "markdown",
   "metadata": {},
   "source": [
    "Take log"
   ]
  },
  {
   "cell_type": "markdown",
   "metadata": {},
   "source": [
    "Spearman correlation matrix to distance metric"
   ]
  },
  {
   "cell_type": "code",
   "execution_count": null,
   "metadata": {},
   "outputs": [],
   "source": []
  }
 ],
 "metadata": {
  "kernelspec": {
   "display_name": "Python 3 (ipykernel)",
   "language": "python",
   "name": "python3"
  }
 },
 "nbformat": 4,
 "nbformat_minor": 2
}
