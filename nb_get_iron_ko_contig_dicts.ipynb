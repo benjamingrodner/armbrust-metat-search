{
 "cells": [
  {
   "cell_type": "markdown",
   "metadata": {},
   "source": [
    "Get a list of Kegg orthologies related to search terms relating to siderophores\n",
    "\n"
   ]
  },
  {
   "cell_type": "markdown",
   "metadata": {},
   "source": [
    "## Setup"
   ]
  },
  {
   "cell_type": "code",
   "execution_count": 218,
   "metadata": {},
   "outputs": [],
   "source": [
    "import pandas as pd\n",
    "from collections import * \n",
    "import os \n",
    "import re\n",
    "import json\n",
    "from time import time\n",
    "import numpy as np\n",
    "import tarfile\n",
    "import gzip\n",
    "import itertools"
   ]
  },
  {
   "cell_type": "code",
   "execution_count": 2,
   "metadata": {},
   "outputs": [
    {
     "data": {
      "text/plain": [
       "'/scratch/bgrodner'"
      ]
     },
     "execution_count": 2,
     "metadata": {},
     "output_type": "execute_result"
    }
   ],
   "source": [
    "workdir = '/scratch/bgrodner'\n",
    "os.chdir(workdir)\n"
   ]
  },
  {
   "cell_type": "code",
   "execution_count": 120,
   "metadata": {},
   "outputs": [
    {
     "data": {
      "text/plain": [
       "'/scratch/bgrodner'"
      ]
     },
     "execution_count": 120,
     "metadata": {},
     "output_type": "execute_result"
    }
   ],
   "source": [
    "os.getcwd()"
   ]
  },
  {
   "cell_type": "code",
   "execution_count": 121,
   "metadata": {},
   "outputs": [
    {
     "data": {
      "text/plain": [
       "['siderophore_kofam.ipynb',\n",
       " '.DS_Store',\n",
       " '._.DS_Store',\n",
       " 'ko00001.json',\n",
       " 'siderophore_ko_contigs',\n",
       " 'containers',\n",
       " 'gradients_pfam_totals.ipynb',\n",
       " '._ko00001.json',\n",
       " 'siderophore_kofam.txt']"
      ]
     },
     "execution_count": 121,
     "metadata": {},
     "output_type": "execute_result"
    }
   ],
   "source": [
    "os.listdir()"
   ]
  },
  {
   "cell_type": "markdown",
   "metadata": {},
   "source": [
    "## Get database searcher\n",
    "\n",
    "Copied from https://www.biostars.org/p/492324/"
   ]
  },
  {
   "cell_type": "markdown",
   "metadata": {},
   "source": [
    "Get dataframe"
   ]
  },
  {
   "cell_type": "code",
   "execution_count": 4,
   "metadata": {},
   "outputs": [
    {
     "data": {
      "text/plain": [
       "(61993, 4)"
      ]
     },
     "execution_count": 4,
     "metadata": {},
     "output_type": "execute_result"
    }
   ],
   "source": [
    "database = list()\n",
    "for _, v in pd.read_json(\"ko00001.json\").iterrows():\n",
    "    d = v[\"children\"]\n",
    "    cat_1 = d[\"name\"]\n",
    "    for child_1 in d[\"children\"]:\n",
    "        cat_2 = child_1[\"name\"] # Module?\n",
    "        for child_2 in child_1[\"children\"]:\n",
    "            cat_3 = child_2[\"name\"]\n",
    "            if \"children\" in child_2:\n",
    "                for child_3 in child_2[\"children\"]:\n",
    "                    cat_4 = child_3[\"name\"]\n",
    "                    fields = [cat_1, cat_2, cat_3, cat_4]\n",
    "                    database.append(fields)\n",
    "df_kegg = pd.DataFrame(database, columns=[\"Level_A\", \"Level_B\", \"Level_C\", \"Level_D\"])\n",
    "df_kegg.shape\n"
   ]
  },
  {
   "cell_type": "code",
   "execution_count": 7,
   "metadata": {},
   "outputs": [
    {
     "data": {
      "text/html": [
       "<div>\n",
       "<style scoped>\n",
       "    .dataframe tbody tr th:only-of-type {\n",
       "        vertical-align: middle;\n",
       "    }\n",
       "\n",
       "    .dataframe tbody tr th {\n",
       "        vertical-align: top;\n",
       "    }\n",
       "\n",
       "    .dataframe thead th {\n",
       "        text-align: right;\n",
       "    }\n",
       "</style>\n",
       "<table border=\"1\" class=\"dataframe\">\n",
       "  <thead>\n",
       "    <tr style=\"text-align: right;\">\n",
       "      <th></th>\n",
       "      <th>Level_A</th>\n",
       "      <th>Level_B</th>\n",
       "      <th>Level_C</th>\n",
       "      <th>Level_D</th>\n",
       "      <th>Level_D-KOs</th>\n",
       "    </tr>\n",
       "  </thead>\n",
       "  <tbody>\n",
       "    <tr>\n",
       "      <th>0</th>\n",
       "      <td>09100 Metabolism</td>\n",
       "      <td>09101 Carbohydrate metabolism</td>\n",
       "      <td>00010 Glycolysis / Gluconeogenesis [PATH:ko00010]</td>\n",
       "      <td>K00844  HK; hexokinase [EC:2.7.1.1]</td>\n",
       "      <td>{K00844}</td>\n",
       "    </tr>\n",
       "    <tr>\n",
       "      <th>1</th>\n",
       "      <td>09100 Metabolism</td>\n",
       "      <td>09101 Carbohydrate metabolism</td>\n",
       "      <td>00010 Glycolysis / Gluconeogenesis [PATH:ko00010]</td>\n",
       "      <td>K12407  GCK; glucokinase [EC:2.7.1.2]</td>\n",
       "      <td>{K12407}</td>\n",
       "    </tr>\n",
       "    <tr>\n",
       "      <th>2</th>\n",
       "      <td>09100 Metabolism</td>\n",
       "      <td>09101 Carbohydrate metabolism</td>\n",
       "      <td>00010 Glycolysis / Gluconeogenesis [PATH:ko00010]</td>\n",
       "      <td>K00845  glk; glucokinase [EC:2.7.1.2]</td>\n",
       "      <td>{K00845}</td>\n",
       "    </tr>\n",
       "    <tr>\n",
       "      <th>3</th>\n",
       "      <td>09100 Metabolism</td>\n",
       "      <td>09101 Carbohydrate metabolism</td>\n",
       "      <td>00010 Glycolysis / Gluconeogenesis [PATH:ko00010]</td>\n",
       "      <td>K25026  glk; glucokinase [EC:2.7.1.2]</td>\n",
       "      <td>{K25026}</td>\n",
       "    </tr>\n",
       "    <tr>\n",
       "      <th>4</th>\n",
       "      <td>09100 Metabolism</td>\n",
       "      <td>09101 Carbohydrate metabolism</td>\n",
       "      <td>00010 Glycolysis / Gluconeogenesis [PATH:ko00010]</td>\n",
       "      <td>K01810  GPI, pgi; glucose-6-phosphate isomeras...</td>\n",
       "      <td>{K01810}</td>\n",
       "    </tr>\n",
       "  </tbody>\n",
       "</table>\n",
       "</div>"
      ],
      "text/plain": [
       "            Level_A                        Level_B  \\\n",
       "0  09100 Metabolism  09101 Carbohydrate metabolism   \n",
       "1  09100 Metabolism  09101 Carbohydrate metabolism   \n",
       "2  09100 Metabolism  09101 Carbohydrate metabolism   \n",
       "3  09100 Metabolism  09101 Carbohydrate metabolism   \n",
       "4  09100 Metabolism  09101 Carbohydrate metabolism   \n",
       "\n",
       "                                             Level_C  \\\n",
       "0  00010 Glycolysis / Gluconeogenesis [PATH:ko00010]   \n",
       "1  00010 Glycolysis / Gluconeogenesis [PATH:ko00010]   \n",
       "2  00010 Glycolysis / Gluconeogenesis [PATH:ko00010]   \n",
       "3  00010 Glycolysis / Gluconeogenesis [PATH:ko00010]   \n",
       "4  00010 Glycolysis / Gluconeogenesis [PATH:ko00010]   \n",
       "\n",
       "                                             Level_D Level_D-KOs  \n",
       "0                K00844  HK; hexokinase [EC:2.7.1.1]    {K00844}  \n",
       "1              K12407  GCK; glucokinase [EC:2.7.1.2]    {K12407}  \n",
       "2              K00845  glk; glucokinase [EC:2.7.1.2]    {K00845}  \n",
       "3              K25026  glk; glucokinase [EC:2.7.1.2]    {K25026}  \n",
       "4  K01810  GPI, pgi; glucose-6-phosphate isomeras...    {K01810}  "
      ]
     },
     "execution_count": 7,
     "metadata": {},
     "output_type": "execute_result"
    }
   ],
   "source": [
    "df_kegg[:5]"
   ]
  },
  {
   "cell_type": "markdown",
   "metadata": {},
   "source": [
    "### KO search"
   ]
  },
  {
   "cell_type": "markdown",
   "metadata": {},
   "source": [
    "Build KO dictionary"
   ]
  },
  {
   "cell_type": "code",
   "execution_count": 12,
   "metadata": {},
   "outputs": [
    {
     "data": {
      "text/plain": [
       "array(['K00844  HK; hexokinase [EC:2.7.1.1]',\n",
       "       'K12407  GCK; glucokinase [EC:2.7.1.2]',\n",
       "       'K00845  glk; glucokinase [EC:2.7.1.2]',\n",
       "       'K25026  glk; glucokinase [EC:2.7.1.2]',\n",
       "       'K01810  GPI, pgi; glucose-6-phosphate isomerase [EC:5.3.1.9]'],\n",
       "      dtype=object)"
      ]
     },
     "execution_count": 12,
     "metadata": {},
     "output_type": "execute_result"
    }
   ],
   "source": [
    "ld = df_kegg['Level_D'].values\n",
    "ld[:5]"
   ]
  },
  {
   "cell_type": "code",
   "execution_count": 110,
   "metadata": {},
   "outputs": [],
   "source": [
    "dict_ko_name = {}\n",
    "for name in ld:\n",
    "    ko = re.search(r\"^\\w+\",name)[0]\n",
    "    dict_ko_name[ko] = name"
   ]
  },
  {
   "cell_type": "code",
   "execution_count": 111,
   "metadata": {},
   "outputs": [
    {
     "data": {
      "text/plain": [
       "'K00844  HK; hexokinase [EC:2.7.1.1]'"
      ]
     },
     "execution_count": 111,
     "metadata": {},
     "output_type": "execute_result"
    }
   ],
   "source": [
    "dict_ko_name['K00844']"
   ]
  },
  {
   "cell_type": "markdown",
   "metadata": {},
   "source": [
    "Build KO keyword search dictionary"
   ]
  },
  {
   "cell_type": "code",
   "execution_count": 132,
   "metadata": {},
   "outputs": [
    {
     "data": {
      "text/plain": [
       "['K00844', 'HK', 'abcd', 'hexokinase', '[EC:2.7.1.1]']"
      ]
     },
     "execution_count": 132,
     "metadata": {},
     "output_type": "execute_result"
    }
   ],
   "source": [
    "[s for s in re.split(';|,|/|\\s', 'K00844  HK; abcd/hexokinase [EC:2.7.1.1]') if s]"
   ]
  },
  {
   "cell_type": "code",
   "execution_count": 133,
   "metadata": {},
   "outputs": [],
   "source": [
    "dict_search_result = defaultdict(list)\n",
    "for result in ld:\n",
    "    r_split = [s for s in re.split(';|,|-|\\(|\\)|/|\\s', result) if s]\n",
    "    for search in r_split:\n",
    "        dict_search_result[search].append(result)"
   ]
  },
  {
   "cell_type": "markdown",
   "metadata": {},
   "source": [
    "Get siderophore KOs"
   ]
  },
  {
   "cell_type": "code",
   "execution_count": 134,
   "metadata": {},
   "outputs": [
    {
     "data": {
      "text/plain": [
       "['K25286  fagD, cchF, irp1A, piaA; iron-siderophore transport system substrate-binding protein',\n",
       " 'K23186  fepD, fagA, cchC, desH; iron-siderophore transport system permease protein',\n",
       " 'K23187  fepG, fagB, cchD, desG; iron-siderophore transport system permease protein',\n",
       " 'K23188  fepC, fagC, cchE, desF; iron-siderophore transport system ATP-binding protein [EC:7.2.2.17 7.2.2.-]',\n",
       " 'K25286  fagD, cchF, irp1A, piaA; iron-siderophore transport system substrate-binding protein',\n",
       " 'K23186  fepD, fagA, cchC, desH; iron-siderophore transport system permease protein',\n",
       " 'K23187  fepG, fagB, cchD, desG; iron-siderophore transport system permease protein',\n",
       " 'K23188  fepC, fagC, cchE, desF; iron-siderophore transport system ATP-binding protein [EC:7.2.2.17 7.2.2.-]',\n",
       " 'K25109  sirA, fecB, cbrA; iron-siderophore transport system substrate-binding protein',\n",
       " 'K25110  sirB, fecC, cbrB; iron-siderophore transport system permease protein',\n",
       " 'K25111  sirC, fecD, cbrC; iron-siderophore transport system permease protein',\n",
       " 'K25130  fecE, cbrD; iron-siderophore transport system ATP-binding protein [EC:7.2.2.-]',\n",
       " 'K25282  yclQ, ceuA; iron-siderophore transport system substrate-binding protein',\n",
       " 'K25283  yclO, ceuC; iron-siderophore transport system permease protein',\n",
       " 'K25284  yclN, ceuB; iron-siderophore transport system permease protein',\n",
       " 'K25285  yclP, ceuD; iron-siderophore transport system ATP-binding protein [EC:7.2.2.-]',\n",
       " 'K08197  ARN; MFS transporter, SIT family, siderophore-iron:H+ symporter',\n",
       " 'K08225  entS; MFS transporter, ENTS family, enterobactin (siderophore) exporter',\n",
       " 'K16090  fiu; catecholate siderophore receptor']"
      ]
     },
     "execution_count": 134,
     "metadata": {},
     "output_type": "execute_result"
    }
   ],
   "source": [
    "sidero_results = dict_search_result['siderophore']\n",
    "sidero_results"
   ]
  },
  {
   "cell_type": "code",
   "execution_count": 135,
   "metadata": {},
   "outputs": [
    {
     "data": {
      "text/plain": [
       "{'K08197',\n",
       " 'K08225',\n",
       " 'K16090',\n",
       " 'K23186',\n",
       " 'K23187',\n",
       " 'K23188',\n",
       " 'K25109',\n",
       " 'K25110',\n",
       " 'K25111',\n",
       " 'K25130',\n",
       " 'K25282',\n",
       " 'K25283',\n",
       " 'K25284',\n",
       " 'K25285',\n",
       " 'K25286'}"
      ]
     },
     "execution_count": 135,
     "metadata": {},
     "output_type": "execute_result"
    }
   ],
   "source": [
    "sidero_KOs = set([re.search(r\"^\\w+\",r)[0] for r in sidero_results])\n",
    "sidero_KOs"
   ]
  },
  {
   "cell_type": "markdown",
   "metadata": {},
   "source": [
    "Enterobactin"
   ]
  },
  {
   "cell_type": "code",
   "execution_count": 136,
   "metadata": {},
   "outputs": [
    {
     "data": {
      "text/plain": [
       "['K02362  entD, pptT; enterobactin synthetase component D / holo-[acyl-carrier protein] synthase [EC:6.3.2.14 2.7.8.7]',\n",
       " 'K02362  entD, pptT; enterobactin synthetase component D / holo-[acyl-carrier protein] synthase [EC:6.3.2.14 2.7.8.7]',\n",
       " 'K23185  fepB; ferric enterobactin transport system substrate-binding protein',\n",
       " 'K18895  iroC; ATP-binding cassette, subfamily B, salmochelin/enterobactin exporter',\n",
       " 'K19611  fepA, pfeA, iroN, pirA; ferric enterobactin receptor',\n",
       " 'K02362  entD, pptT; enterobactin synthetase component D / holo-[acyl-carrier protein] synthase [EC:6.3.2.14 2.7.8.7]',\n",
       " 'K18895  iroC; ATP-binding cassette, subfamily B, salmochelin/enterobactin exporter',\n",
       " 'K23185  fepB; ferric enterobactin transport system substrate-binding protein',\n",
       " 'K08225  entS; MFS transporter, ENTS family, enterobactin (siderophore) exporter',\n",
       " 'K19611  fepA, pfeA, iroN, pirA; ferric enterobactin receptor',\n",
       " 'K23725  iroB; enterobactin C-glucosyltransferase [EC:2.4.1.369]',\n",
       " 'K07214  fes; iron(III)-enterobactin esterase [EC:3.1.1.108]',\n",
       " 'K23722  pfeE; iron(III)-enterobactin esterase [EC:3.1.1.108]']"
      ]
     },
     "execution_count": 136,
     "metadata": {},
     "output_type": "execute_result"
    }
   ],
   "source": [
    "enterobactin_results = dict_search_result['enterobactin']\n",
    "enterobactin_results"
   ]
  },
  {
   "cell_type": "code",
   "execution_count": 137,
   "metadata": {},
   "outputs": [
    {
     "data": {
      "text/plain": [
       "{'K02362',\n",
       " 'K07214',\n",
       " 'K08225',\n",
       " 'K18895',\n",
       " 'K19611',\n",
       " 'K23185',\n",
       " 'K23722',\n",
       " 'K23725'}"
      ]
     },
     "execution_count": 137,
     "metadata": {},
     "output_type": "execute_result"
    }
   ],
   "source": [
    "enterobactin_KOs = set([re.search(r\"^\\w+\",r)[0] for r in enterobactin_results])\n",
    "enterobactin_KOs"
   ]
  },
  {
   "cell_type": "markdown",
   "metadata": {},
   "source": [
    "Iron transport"
   ]
  },
  {
   "cell_type": "code",
   "execution_count": 144,
   "metadata": {},
   "outputs": [
    {
     "data": {
      "text/plain": [
       "{'K02010',\n",
       " 'K02011',\n",
       " 'K02012',\n",
       " 'K02013',\n",
       " 'K02015',\n",
       " 'K02016',\n",
       " 'K02068',\n",
       " 'K02069',\n",
       " 'K04758',\n",
       " 'K04759',\n",
       " 'K07243',\n",
       " 'K07490',\n",
       " 'K09818',\n",
       " 'K09819',\n",
       " 'K09820',\n",
       " 'K10123',\n",
       " 'K10829',\n",
       " 'K11604',\n",
       " 'K11605',\n",
       " 'K11606',\n",
       " 'K11607',\n",
       " 'K11704',\n",
       " 'K11705',\n",
       " 'K11706',\n",
       " 'K11707',\n",
       " 'K11708',\n",
       " 'K11709',\n",
       " 'K11710',\n",
       " 'K12346',\n",
       " 'K14685',\n",
       " 'K15113',\n",
       " 'K19791',\n",
       " 'K19792',\n",
       " 'K22736',\n",
       " 'K22737',\n",
       " 'K23181',\n",
       " 'K23182',\n",
       " 'K23183',\n",
       " 'K23184',\n",
       " 'K23185',\n",
       " 'K23186',\n",
       " 'K23187',\n",
       " 'K23188',\n",
       " 'K23227',\n",
       " 'K23228',\n",
       " 'K25109',\n",
       " 'K25110',\n",
       " 'K25111',\n",
       " 'K25130',\n",
       " 'K25282',\n",
       " 'K25283',\n",
       " 'K25284',\n",
       " 'K25285',\n",
       " 'K25286',\n",
       " 'K25287',\n",
       " 'K25288',\n",
       " 'K25289',\n",
       " 'K25290',\n",
       " 'K25308'}"
      ]
     },
     "execution_count": 144,
     "metadata": {},
     "output_type": "execute_result"
    }
   ],
   "source": [
    "transport_results = dict_search_result['transport']\n",
    "transporter_results = dict_search_result['transporter']\n",
    "iron_results = dict_search_result['iron']\n",
    "ferric_results = dict_search_result['ferric']\n",
    "\n",
    "transport_KOs = set([re.search(r\"^\\w+\",r)[0] for r in transport_results])\n",
    "transporter_KOs = set([re.search(r\"^\\w+\",r)[0] for r in transporter_results])\n",
    "iron_KOs = set([re.search(r\"^\\w+\",r)[0] for r in iron_results])\n",
    "ferric_KOs = set([re.search(r\"^\\w+\",r)[0] for r in ferric_results])\n",
    "\n",
    "iron_transport_KOs = (    \n",
    "    (transport_KOs & iron_KOs) | \n",
    "    (transporter_KOs & iron_KOs) | \n",
    "    (transport_KOs & ferric_KOs) | \n",
    "    (transporter_KOs & ferric_KOs)\n",
    ")\n",
    "iron_transport_KOs"
   ]
  },
  {
   "cell_type": "markdown",
   "metadata": {},
   "source": [
    "Ferritin"
   ]
  },
  {
   "cell_type": "code",
   "execution_count": null,
   "metadata": {},
   "outputs": [
    {
     "data": {
      "text/plain": [
       "(['K00522  FTH1; ferritin heavy chain [EC:1.16.3.1]',\n",
       "  'K13625  FTL; ferritin light chain',\n",
       "  'K18495  FTMT; ferritin, mitochondrial [EC:1.16.3.1]',\n",
       "  'K00522  FTH1; ferritin heavy chain [EC:1.16.3.1]',\n",
       "  'K13625  FTL; ferritin light chain',\n",
       "  'K18495  FTMT; ferritin, mitochondrial [EC:1.16.3.1]',\n",
       "  'K00522  FTH1; ferritin heavy chain [EC:1.16.3.1]',\n",
       "  'K13625  FTL; ferritin light chain',\n",
       "  'K00522  FTH1; ferritin heavy chain [EC:1.16.3.1]',\n",
       "  'K13625  FTL; ferritin light chain',\n",
       "  'K00522  FTH1; ferritin heavy chain [EC:1.16.3.1]',\n",
       "  'K13625  FTL; ferritin light chain',\n",
       "  'K02217  ftnA, ftn; ferritin [EC:1.16.3.2]',\n",
       "  'K02255  ftnB; ferritin-like protein 2'],\n",
       " ['K03594  bfr; bacterioferritin [EC:1.16.3.1]',\n",
       "  'K22336  bfrB; bacterioferritin B [EC:1.16.3.1]',\n",
       "  'K02192  bfd; bacterioferritin-associated ferredoxin'],\n",
       " {'K00522',\n",
       "  'K02192',\n",
       "  'K02217',\n",
       "  'K02255',\n",
       "  'K03594',\n",
       "  'K13625',\n",
       "  'K18495',\n",
       "  'K22336'})"
      ]
     },
     "metadata": {},
     "output_type": "display_data"
    }
   ],
   "source": [
    "ferritin_results = dict_search_result['ferritin']\n",
    "bacterioferritin_results = dict_search_result['bacterioferritin']\n",
    "\n",
    "ferritin_KOs = set([re.search(r\"^\\w+\",r)[0] for r in ferritin_results])\n",
    "bacterioferritin_KOs = set([re.search(r\"^\\w+\",r)[0] for r in bacterioferritin_results])\n",
    "\n",
    "ferritin_KOs = ferritin_KOs | bacterioferritin_KOs\n",
    "\n",
    "ferritin_results, bacterioferritin_results, ferritin_KOs"
   ]
  },
  {
   "cell_type": "markdown",
   "metadata": {},
   "source": [
    "ZIP family"
   ]
  },
  {
   "cell_type": "code",
   "execution_count": 143,
   "metadata": {},
   "outputs": [
    {
     "data": {
      "text/plain": [
       "{'K07238',\n",
       " 'K14688',\n",
       " 'K14689',\n",
       " 'K14690',\n",
       " 'K14691',\n",
       " 'K14692',\n",
       " 'K14693',\n",
       " 'K14694',\n",
       " 'K14695',\n",
       " 'K14696',\n",
       " 'K14697',\n",
       " 'K14709',\n",
       " 'K14710',\n",
       " 'K14711',\n",
       " 'K14712',\n",
       " 'K14713',\n",
       " 'K14714',\n",
       " 'K14715',\n",
       " 'K14716',\n",
       " 'K14717',\n",
       " 'K14718',\n",
       " 'K14719',\n",
       " 'K14720',\n",
       " 'K16074',\n",
       " 'K16267'}"
      ]
     },
     "execution_count": 143,
     "metadata": {},
     "output_type": "execute_result"
    }
   ],
   "source": [
    "zinc_results = dict_search_result['zinc']\n",
    "\n",
    "zinc_KOs = set([re.search(r\"^\\w+\",r)[0] for r in zinc_results])\n",
    "\n",
    "zinc_transporter_KOs = (transporter_KOs & zinc_KOs)\n",
    "zinc_transporter_KOs"
   ]
  },
  {
   "cell_type": "markdown",
   "metadata": {},
   "source": [
    "Transferrin"
   ]
  },
  {
   "cell_type": "code",
   "execution_count": 146,
   "metadata": {},
   "outputs": [
    {
     "data": {
      "text/plain": [
       "(['K06503  TFRC, CD71; transferrin receptor',\n",
       "  'K14736  TF; transferrin',\n",
       "  'K23910  TFR2; transferrin receptor protein 2',\n",
       "  'K06503  TFRC, CD71; transferrin receptor',\n",
       "  'K14736  TF; transferrin',\n",
       "  'K06503  TFRC, CD71; transferrin receptor',\n",
       "  'K06503  TFRC, CD71; transferrin receptor',\n",
       "  'K06503  TFRC, CD71; transferrin receptor',\n",
       "  'K14736  TF; transferrin',\n",
       "  'K06503  TFRC, CD71; transferrin receptor',\n",
       "  'K06503  TFRC, CD71; transferrin receptor',\n",
       "  'K14736  TF; transferrin',\n",
       "  'K06503  TFRC, CD71; transferrin receptor',\n",
       "  'K23910  TFR2; transferrin receptor protein 2',\n",
       "  'K16087  TC.FEV.OM3, tbpA, hemR, lbpA, hpuB, bhuR, hugA, hmbR; hemoglobin/transferrin/lactoferrin receptor protein',\n",
       "  'K06503  TFRC, CD71; transferrin receptor',\n",
       "  'K14736  TF; transferrin',\n",
       "  'K06503  TFRC, CD71; transferrin receptor'],\n",
       " {'K06503', 'K14736', 'K16087', 'K23910'})"
      ]
     },
     "execution_count": 146,
     "metadata": {},
     "output_type": "execute_result"
    }
   ],
   "source": [
    "transferrin_results = dict_search_result['transferrin']\n",
    "\n",
    "transferrin_KOs = set([re.search(r\"^\\w+\",r)[0] for r in transferrin_results])\n",
    "transferrin_results, transferrin_KOs"
   ]
  },
  {
   "cell_type": "markdown",
   "metadata": {},
   "source": [
    "Ferritin"
   ]
  },
  {
   "cell_type": "code",
   "execution_count": 149,
   "metadata": {},
   "outputs": [
    {
     "data": {
      "text/plain": [
       "(['K00522  FTH1; ferritin heavy chain [EC:1.16.3.1]',\n",
       "  'K13625  FTL; ferritin light chain',\n",
       "  'K18495  FTMT; ferritin, mitochondrial [EC:1.16.3.1]',\n",
       "  'K00522  FTH1; ferritin heavy chain [EC:1.16.3.1]',\n",
       "  'K13625  FTL; ferritin light chain',\n",
       "  'K18495  FTMT; ferritin, mitochondrial [EC:1.16.3.1]',\n",
       "  'K00522  FTH1; ferritin heavy chain [EC:1.16.3.1]',\n",
       "  'K13625  FTL; ferritin light chain',\n",
       "  'K00522  FTH1; ferritin heavy chain [EC:1.16.3.1]',\n",
       "  'K13625  FTL; ferritin light chain',\n",
       "  'K00522  FTH1; ferritin heavy chain [EC:1.16.3.1]',\n",
       "  'K13625  FTL; ferritin light chain',\n",
       "  'K02217  ftnA, ftn; ferritin [EC:1.16.3.2]',\n",
       "  'K02255  ftnB; ferritin-like protein 2'],\n",
       " ['K03594  bfr; bacterioferritin [EC:1.16.3.1]',\n",
       "  'K22336  bfrB; bacterioferritin B [EC:1.16.3.1]',\n",
       "  'K02192  bfd; bacterioferritin-associated ferredoxin'],\n",
       " {'K00522',\n",
       "  'K02192',\n",
       "  'K02217',\n",
       "  'K02255',\n",
       "  'K03594',\n",
       "  'K13625',\n",
       "  'K18495',\n",
       "  'K22336'})"
      ]
     },
     "execution_count": 149,
     "metadata": {},
     "output_type": "execute_result"
    }
   ],
   "source": [
    "ferritin_results = dict_search_result['ferritin']\n",
    "bacterioferritin_results = dict_search_result['bacterioferritin']\n",
    "\n",
    "ferritin_KOs = set([re.search(r\"^\\w+\",r)[0] for r in ferritin_results])\n",
    "bacterioferritin_KOs = set([re.search(r\"^\\w+\",r)[0] for r in bacterioferritin_results])\n",
    "\n",
    "ferritin_KOs = ferritin_KOs | bacterioferritin_KOs\n",
    "\n",
    "ferritin_results, bacterioferritin_results, ferritin_KOs"
   ]
  },
  {
   "cell_type": "markdown",
   "metadata": {},
   "source": [
    "Ferredoxin (NOTE: TO BE SEPARATED INTO FERREDOXIN USE AN FERREDOXIN REPLACEMENT WITH FLAVODOXIN)"
   ]
  },
  {
   "cell_type": "code",
   "execution_count": null,
   "metadata": {},
   "outputs": [
    {
     "data": {
      "text/plain": [
       "{'K00169',\n",
       " 'K00170',\n",
       " 'K00171',\n",
       " 'K00172',\n",
       " 'K00174',\n",
       " 'K00175',\n",
       " 'K00176',\n",
       " 'K00177',\n",
       " 'K00179',\n",
       " 'K00180',\n",
       " 'K00186',\n",
       " 'K00187',\n",
       " 'K00188',\n",
       " 'K00189',\n",
       " 'K00204',\n",
       " 'K00205',\n",
       " 'K00284',\n",
       " 'K00366',\n",
       " 'K00367',\n",
       " 'K00392',\n",
       " 'K00528',\n",
       " 'K00529',\n",
       " 'K00532',\n",
       " 'K00533',\n",
       " 'K00534',\n",
       " 'K02192',\n",
       " 'K02572',\n",
       " 'K02573',\n",
       " 'K02574',\n",
       " 'K02639',\n",
       " 'K02641',\n",
       " 'K03737',\n",
       " 'K03855',\n",
       " 'K03863',\n",
       " 'K04090',\n",
       " 'K04755',\n",
       " 'K05337',\n",
       " 'K05524',\n",
       " 'K05710',\n",
       " 'K06441',\n",
       " 'K11107',\n",
       " 'K11260',\n",
       " 'K11389',\n",
       " 'K14578',\n",
       " 'K14581',\n",
       " 'K14603',\n",
       " 'K14750',\n",
       " 'K15752',\n",
       " 'K15753',\n",
       " 'K15762',\n",
       " 'K16304',\n",
       " 'K17892',\n",
       " 'K18087',\n",
       " 'K18088',\n",
       " 'K18089',\n",
       " 'K18090',\n",
       " 'K18227',\n",
       " 'K18248',\n",
       " 'K18249',\n",
       " 'K18253',\n",
       " 'K18254',\n",
       " 'K21231',\n",
       " 'K21480',\n",
       " 'K21567',\n",
       " 'K21834',\n",
       " 'K22070',\n",
       " 'K22071',\n",
       " 'K22338',\n",
       " 'K22339',\n",
       " 'K22340',\n",
       " 'K22341',\n",
       " 'K22360',\n",
       " 'K22362',\n",
       " 'K23976',\n",
       " 'K24244',\n",
       " 'K24245',\n",
       " 'K24530',\n",
       " 'K26113',\n",
       " 'K26114',\n",
       " 'K26115'}"
      ]
     },
     "metadata": {},
     "output_type": "display_data"
    }
   ],
   "source": [
    "ferredoxin_results = dict_search_result['ferredoxin']\n",
    "ferredoxin_KOs = set([re.search(r\"^\\w+\",r)[0] for r in ferredoxin_results])\n",
    "\n",
    "ferredoxin_KOs"
   ]
  },
  {
   "cell_type": "markdown",
   "metadata": {},
   "source": [
    "Flavodoxin"
   ]
  },
  {
   "cell_type": "code",
   "execution_count": null,
   "metadata": {},
   "outputs": [
    {
     "data": {
      "text/plain": [
       "(['K03737  por, nifJ; pyruvate-ferredoxin/flavodoxin oxidoreductase [EC:1.2.7.1 1.2.7.-]',\n",
       "  'K03737  por, nifJ; pyruvate-ferredoxin/flavodoxin oxidoreductase [EC:1.2.7.1 1.2.7.-]',\n",
       "  'K03737  por, nifJ; pyruvate-ferredoxin/flavodoxin oxidoreductase [EC:1.2.7.1 1.2.7.-]',\n",
       "  'K03737  por, nifJ; pyruvate-ferredoxin/flavodoxin oxidoreductase [EC:1.2.7.1 1.2.7.-]',\n",
       "  'K03737  por, nifJ; pyruvate-ferredoxin/flavodoxin oxidoreductase [EC:1.2.7.1 1.2.7.-]',\n",
       "  'K00528  fpr; ferredoxin/flavodoxin---NADP+ reductase [EC:1.18.1.2 1.19.1.1]',\n",
       "  'K21567  fnr; ferredoxin/flavodoxin---NADP+ reductase [EC:1.18.1.2 1.19.1.1]',\n",
       "  'K03840  fldB; flavodoxin II',\n",
       "  'K03839  fldA, nifF, isiB; flavodoxin I'],\n",
       " {'K00528', 'K03737', 'K03839', 'K03840', 'K21567'})"
      ]
     },
     "metadata": {},
     "output_type": "display_data"
    }
   ],
   "source": [
    "flavodoxin_results = dict_search_result['flavodoxin']\n",
    "flavodoxin_KOs = set([re.search(r\"^\\w+\",r)[0] for r in flavodoxin_results])\n",
    "\n",
    "flavodoxin_results, flavodoxin_KOs"
   ]
  },
  {
   "cell_type": "markdown",
   "metadata": {},
   "source": [
    "Photosystem"
   ]
  },
  {
   "cell_type": "code",
   "execution_count": 152,
   "metadata": {},
   "outputs": [
    {
     "data": {
      "text/plain": [
       "{'K02689',\n",
       " 'K02690',\n",
       " 'K02691',\n",
       " 'K02692',\n",
       " 'K02693',\n",
       " 'K02694',\n",
       " 'K02695',\n",
       " 'K02696',\n",
       " 'K02697',\n",
       " 'K02698',\n",
       " 'K02699',\n",
       " 'K02700',\n",
       " 'K02701',\n",
       " 'K02702',\n",
       " 'K02703',\n",
       " 'K02704',\n",
       " 'K02705',\n",
       " 'K02706',\n",
       " 'K02707',\n",
       " 'K02708',\n",
       " 'K02709',\n",
       " 'K02710',\n",
       " 'K02711',\n",
       " 'K02712',\n",
       " 'K02713',\n",
       " 'K02714',\n",
       " 'K02716',\n",
       " 'K02717',\n",
       " 'K02718',\n",
       " 'K02719',\n",
       " 'K02720',\n",
       " 'K02721',\n",
       " 'K02722',\n",
       " 'K02723',\n",
       " 'K02724',\n",
       " 'K03541',\n",
       " 'K03542',\n",
       " 'K08901',\n",
       " 'K08902',\n",
       " 'K08903',\n",
       " 'K08904',\n",
       " 'K08905',\n",
       " 'K08940',\n",
       " 'K08941',\n",
       " 'K08942',\n",
       " 'K08943',\n",
       " 'K14332'}"
      ]
     },
     "execution_count": 152,
     "metadata": {},
     "output_type": "execute_result"
    }
   ],
   "source": [
    "photosystem_results = dict_search_result['photosystem']\n",
    "photosystem_KOs = set([re.search(r\"^\\w+\",r)[0] for r in photosystem_results])\n",
    "\n",
    "photosystem_KOs"
   ]
  },
  {
   "cell_type": "markdown",
   "metadata": {},
   "source": [
    "Nitrate/nitrite"
   ]
  },
  {
   "cell_type": "code",
   "execution_count": 154,
   "metadata": {},
   "outputs": [
    {
     "data": {
      "text/plain": [
       "{'K00360',\n",
       " 'K00361',\n",
       " 'K00362',\n",
       " 'K00363',\n",
       " 'K00366',\n",
       " 'K00367',\n",
       " 'K00368',\n",
       " 'K00370',\n",
       " 'K00371',\n",
       " 'K00372',\n",
       " 'K00373',\n",
       " 'K00374',\n",
       " 'K02567',\n",
       " 'K02568',\n",
       " 'K02570',\n",
       " 'K02571',\n",
       " 'K02575',\n",
       " 'K02598',\n",
       " 'K03385',\n",
       " 'K04017',\n",
       " 'K04018',\n",
       " 'K07673',\n",
       " 'K07674',\n",
       " 'K07684',\n",
       " 'K07685',\n",
       " 'K10534',\n",
       " 'K10850',\n",
       " 'K15576',\n",
       " 'K15577',\n",
       " 'K15578',\n",
       " 'K15579',\n",
       " 'K15864',\n",
       " 'K15876',\n",
       " 'K17877',\n",
       " 'K19343',\n",
       " 'K21563',\n",
       " 'K21990',\n",
       " 'K22962',\n",
       " 'K26138',\n",
       " 'K26139',\n",
       " 'K26548',\n",
       " 'K26549',\n",
       " 'K26551',\n",
       " 'K26552',\n",
       " 'K26553',\n",
       " 'K26554',\n",
       " 'K26562',\n",
       " 'K26563'}"
      ]
     },
     "execution_count": 154,
     "metadata": {},
     "output_type": "execute_result"
    }
   ],
   "source": [
    "nitrate_results = dict_search_result['nitrate']\n",
    "nitrite_results = dict_search_result['nitrite']\n",
    "nitrate_KOs = set([re.search(r\"^\\w+\",r)[0] for r in nitrate_results])\n",
    "nitrite_KOs = set([re.search(r\"^\\w+\",r)[0] for r in nitrite_results])\n",
    "\n",
    "nitrate_nitrate_KOs = nitrate_KOs | nitrite_KOs\n",
    "\n",
    "nitrate_nitrate_KOs"
   ]
  },
  {
   "cell_type": "markdown",
   "metadata": {},
   "source": [
    "Glutamate synthase"
   ]
  },
  {
   "cell_type": "code",
   "execution_count": 158,
   "metadata": {},
   "outputs": [
    {
     "data": {
      "text/plain": [
       "{'K00264', 'K00265', 'K00266', 'K00284', 'K09681', 'K21949', 'K24034'}"
      ]
     },
     "execution_count": 158,
     "metadata": {},
     "output_type": "execute_result"
    }
   ],
   "source": [
    "glutamate_results = dict_search_result['glutamate']\n",
    "synthase_results = dict_search_result['synthase']\n",
    "\n",
    "glutamate_KOs = set([re.search(r\"^\\w+\",r)[0] for r in glutamate_results])\n",
    "synthase_KOs = set([re.search(r\"^\\w+\",r)[0] for r in synthase_results])\n",
    "\n",
    "glutamate_synthase_KOs = glutamate_KOs & synthase_KOs\n",
    "\n",
    "glutamate_synthase_KOs"
   ]
  },
  {
   "cell_type": "markdown",
   "metadata": {},
   "source": [
    "Carbonic anhydrase"
   ]
  },
  {
   "cell_type": "code",
   "execution_count": 159,
   "metadata": {},
   "outputs": [
    {
     "data": {
      "text/plain": [
       "{'K01672', 'K01673', 'K01674', 'K01726', 'K01743', 'K18245', 'K18246'}"
      ]
     },
     "execution_count": 159,
     "metadata": {},
     "output_type": "execute_result"
    }
   ],
   "source": [
    "carbonic_results = dict_search_result['carbonic']\n",
    "anhydrase_results = dict_search_result['anhydrase']\n",
    "\n",
    "carbonic_KOs = set([re.search(r\"^\\w+\",r)[0] for r in carbonic_results])\n",
    "anhydrase_KOs = set([re.search(r\"^\\w+\",r)[0] for r in anhydrase_results])\n",
    "\n",
    "carbonic_anhydrase_KOs = carbonic_KOs & anhydrase_KOs\n",
    "\n",
    "carbonic_anhydrase_KOs"
   ]
  },
  {
   "cell_type": "markdown",
   "metadata": {},
   "source": [
    "bicarbonate"
   ]
  },
  {
   "cell_type": "code",
   "execution_count": 160,
   "metadata": {},
   "outputs": [
    {
     "data": {
      "text/plain": [
       "{'K11950',\n",
       " 'K11951',\n",
       " 'K11952',\n",
       " 'K11953',\n",
       " 'K13575',\n",
       " 'K13857',\n",
       " 'K13858',\n",
       " 'K13859',\n",
       " 'K13860',\n",
       " 'K13861'}"
      ]
     },
     "execution_count": 160,
     "metadata": {},
     "output_type": "execute_result"
    }
   ],
   "source": [
    "bicarbonate_results = dict_search_result['bicarbonate']\n",
    "bicarbonate_KOs = set([re.search(r\"^\\w+\",r)[0] for r in bicarbonate_results])\n",
    "\n",
    "bicarbonate_KOs"
   ]
  },
  {
   "cell_type": "markdown",
   "metadata": {},
   "source": [
    "fructose bisphosphatase"
   ]
  },
  {
   "cell_type": "code",
   "execution_count": 161,
   "metadata": {},
   "outputs": [
    {
     "data": {
      "text/plain": [
       "{'K01086', 'K02446', 'K03841', 'K04041', 'K11532', 'K14634'}"
      ]
     },
     "execution_count": 161,
     "metadata": {},
     "output_type": "execute_result"
    }
   ],
   "source": [
    "fructose_results = dict_search_result['fructose']\n",
    "bisphosphatase_results = dict_search_result['bisphosphatase']\n",
    "\n",
    "fructose_KOs = set([re.search(r\"^\\w+\",r)[0] for r in fructose_results])\n",
    "bisphosphatase_KOs = set([re.search(r\"^\\w+\",r)[0] for r in bisphosphatase_results])\n",
    "\n",
    "fructose_bisphosphatase_KOs = fructose_KOs & bisphosphatase_KOs\n",
    "\n",
    "fructose_bisphosphatase_KOs"
   ]
  },
  {
   "cell_type": "markdown",
   "metadata": {},
   "source": [
    "fructose bisphosphatase"
   ]
  },
  {
   "cell_type": "markdown",
   "metadata": {},
   "source": [
    "Manual addition"
   ]
  },
  {
   "cell_type": "code",
   "execution_count": 156,
   "metadata": {},
   "outputs": [
    {
     "data": {
      "text/plain": [
       "{'K00134',\n",
       " 'K00518',\n",
       " 'K00592',\n",
       " 'K00615',\n",
       " 'K00855',\n",
       " 'K00909',\n",
       " 'K00927',\n",
       " 'K00941',\n",
       " 'K01012',\n",
       " 'K01595',\n",
       " 'K01601',\n",
       " 'K01602',\n",
       " 'K01623',\n",
       " 'K01624',\n",
       " 'K01783',\n",
       " 'K01803',\n",
       " 'K02638',\n",
       " 'K03147',\n",
       " 'K03320',\n",
       " 'K03322',\n",
       " 'K03699',\n",
       " 'K03832',\n",
       " 'K04250',\n",
       " 'K04564',\n",
       " 'K04565',\n",
       " 'K04569',\n",
       " 'K04641',\n",
       " 'K04642',\n",
       " 'K05368',\n",
       " 'K05374',\n",
       " 'K05715',\n",
       " 'K07230',\n",
       " 'K08906',\n",
       " 'K11645',\n",
       " 'K11959',\n",
       " 'K12243',\n",
       " 'K12347',\n",
       " 'K13255',\n",
       " 'K15721',\n",
       " 'K16088',\n",
       " 'K16302',\n",
       " 'K16627',\n",
       " 'K18609',\n",
       " 'K21398',\n",
       " 'K22350',\n",
       " 'K22552',\n",
       " 'K23306',\n",
       " 'K23721',\n",
       " 'K23723',\n",
       " 'K25224',\n",
       " 'K26562',\n",
       " 'K27935'}"
      ]
     },
     "execution_count": 156,
     "metadata": {},
     "output_type": "execute_result"
    }
   ],
   "source": [
    "manual_results = [\n",
    "    'K13255 fhuF; ferric iron reductase protein FhuF',\n",
    "    'K16088 TC.FEV.OM1, fhuE, fpvA, fptA; outer-membrane receptor for ferric coprogen and ferric-rhodotorulic acid',\n",
    "    'K23721 iroE; apo-salmochelin esterase [EC:3.1.1.107]',\n",
    "    'K23723 iroD; iron(III)-salmochelin esterase [EC:3.1.1.109]',\n",
    "    'K03832 tonB; periplasmic protein TonB',\n",
    "    'K05368 fre, ubiB; NAD(P)H-flavin reductase [EC:1.5.1.41]',\n",
    "    'K07230 p19, ftrA; periplasmic iron binding protein',    \n",
    "    'K12347 SLC11A1, NRAMP1; natural resistance-associated macrophage protein 1',\n",
    "    'K21398 SLC11A2, DMT1, NRAMP2; natural resistance-associated macrophage protein 2',\n",
    "    'K03322 mntH; manganese transport protein',\n",
    "    'K21398 SLC11A2, DMT1, NRAMP2; natural resistance-associated macrophage protein 2',\n",
    "    'K26562 NPF5, NRT1, NAET; MFS transporter, POT/PTR family, peptide/nitrate/nicotianamine transporter',\n",
    "    'K22552 mmcO; multicopper oxidase [EC:1.16.3.1]',\n",
    "    'K22350 mcoA; manganese oxidase [EC:1.16.3.3]',\n",
    "    'K12243 pchR; AraC family transcriptional regulator, transcriptional activator of the genes for pyochelin and ferripyochelin receptors',\n",
    "    'K05374 irp4, ybtT; yersiniabactin synthetase, thioesterase component',\n",
    "    'K15721 fyuA; pesticin/yersiniabactin receptor',\n",
    "    'K08906 petJ; cytochrome c6',\n",
    "    'K02638 petE; plastocyanin',\n",
    "    'K03320 amt, AMT, MEP; ammonium transporter, Amt family',\n",
    "    'K11959 urtA; urea transport system substrate-binding protein',\n",
    "    'K01595 ppc; phosphoenolpyruvate carboxylase [EC:4.1.1.31]',\n",
    "    'K00592 RBCMT; [ribulose-bisphosphate carboxylase]/[fructose-bisphosphate aldolase]-lysine N-methyltransferase [EC:2.1.1.127 2.1.1.259]',\n",
    "    'K01601 rbcL, cbbL; ribulose-bisphosphate carboxylase large chain [EC:4.1.1.39]',\n",
    "    'K01602 rbcS, cbbS; ribulose-bisphosphate carboxylase small chain [EC:4.1.1.39]',\n",
    "    'K27935 rbcX; RuBisCO chaperone RbcX',\n",
    "    'K00927 PGK, pgk; phosphoglycerate kinase [EC:2.7.2.3]',\n",
    "    'K05715 2PGK; 2-phosphoglycerate kinase [EC:2.7.2.16]',\n",
    "    'K01803 TPI, tpiA; triosephosphate isomerase (TIM) [EC:5.3.1.1]',\n",
    "    'K25224 gapdh; glyceraldehyde-3-phosphate dehydrogenase (arsenate-transferring) [EC:1.2.1.107]',\n",
    "    'K00134 GAPDH, gapA; glyceraldehyde 3-phosphate dehydrogenase (phosphorylating) [EC:1.2.1.12]',\n",
    "    'K00615 E2.2.1.1, tktA, tktB; transketolase [EC:2.2.1.1]',\n",
    "    'K01783 rpe, RPE; ribulose-phosphate 3-epimerase [EC:5.1.3.1]',\n",
    "    'K00855 PRK, prkB; phosphoribulokinase [EC:2.7.1.19]',\n",
    "    'K01623 ALDO; fructose-bisphosphate aldolase, class I [EC:4.1.2.13]',\n",
    "    'K01624 FBA, fbaA; fructose-bisphosphate aldolase, class II [EC:4.1.2.13]',\n",
    "    'K11645 fbaB; fructose-bisphosphate aldolase, class I [EC:4.1.2.13]',\n",
    "    'K03699 tlyC; magnesium and cobalt exporter, CNNM family',\n",
    "    'K16302 CNNM; metal transporter CNNM',\n",
    "    'K00518 sodN; nickel superoxide dismutase [EC:1.15.1.1]',\n",
    "    'K04564 SOD2; superoxide dismutase, Fe-Mn family [EC:1.15.1.1]',\n",
    "    'K04565 SOD1; superoxide dismutase, Cu-Zn family [EC:1.15.1.1]',\n",
    "    'K04569 CCS; copper chaperone for superoxide dismutase',\n",
    "    'K16627 SOD3; superoxide dismutase, Cu-Zn family [EC:1.15.1.1]',\n",
    "    'K00909 GRK1_7; rhodopsin kinase [EC:2.7.11.14]',\n",
    "    'K04250 RHO, OPN2; rhodopsin',\n",
    "    'K04641 bop; bacteriorhodopsin',\n",
    "    'K04642 hop; halorhodopsin',\n",
    "    'K23306 brz; bacteriorhodopsin-regulating zinc finger protein',\n",
    "    'K01012 bioB; biotin synthase [EC:2.8.1.6]',\n",
    "    'K18609 pldh; pyridoxal 4-dehydrogenase [EC:1.1.1.107]',\n",
    "    'K00941 thiD; hydroxymethylpyrimidine/phosphomethylpyrimidine kinase [EC:2.7.1.49 2.7.4.7]',\n",
    "    'K03147 thiC; phosphomethylpyrimidine synthase [EC:4.1.99.17]',\n",
    "]\n",
    "manual_KOs = set([re.search(r\"^\\w+\",r)[0] for r in manual_results])\n",
    "manual_KOs"
   ]
  },
  {
   "cell_type": "markdown",
   "metadata": {},
   "source": [
    "### Pathway search"
   ]
  },
  {
   "cell_type": "markdown",
   "metadata": {},
   "source": [
    "Build search dictionary"
   ]
  },
  {
   "cell_type": "code",
   "execution_count": 61,
   "metadata": {},
   "outputs": [
    {
     "data": {
      "text/plain": [
       "array([['00010 Glycolysis / Gluconeogenesis [PATH:ko00010]',\n",
       "        'K00844  HK; hexokinase [EC:2.7.1.1]'],\n",
       "       ['00010 Glycolysis / Gluconeogenesis [PATH:ko00010]',\n",
       "        'K12407  GCK; glucokinase [EC:2.7.1.2]'],\n",
       "       ['00010 Glycolysis / Gluconeogenesis [PATH:ko00010]',\n",
       "        'K00845  glk; glucokinase [EC:2.7.1.2]'],\n",
       "       ['00010 Glycolysis / Gluconeogenesis [PATH:ko00010]',\n",
       "        'K25026  glk; glucokinase [EC:2.7.1.2]'],\n",
       "       ['00010 Glycolysis / Gluconeogenesis [PATH:ko00010]',\n",
       "        'K01810  GPI, pgi; glucose-6-phosphate isomerase [EC:5.3.1.9]']],\n",
       "      dtype=object)"
      ]
     },
     "execution_count": 61,
     "metadata": {},
     "output_type": "execute_result"
    }
   ],
   "source": [
    "lc = df_kegg[['Level_C','Level_D']].values\n",
    "lc[:5]"
   ]
  },
  {
   "cell_type": "code",
   "execution_count": 68,
   "metadata": {},
   "outputs": [
    {
     "data": {
      "text/plain": [
       "'00010'"
      ]
     },
     "execution_count": 68,
     "metadata": {},
     "output_type": "execute_result"
    }
   ],
   "source": [
    "re.search(r\"^\\w+\", '00010 Glycolysis / Gluconeogenesis [PATH:ko00010]')[0]"
   ]
  },
  {
   "cell_type": "code",
   "execution_count": 71,
   "metadata": {},
   "outputs": [],
   "source": [
    "dict_path_result = defaultdict(list)\n",
    "for path_, result in lc:\n",
    "    path = re.search(r\"^\\w+\", path_)[0]\n",
    "    dict_path_result[path].append(result)"
   ]
  },
  {
   "cell_type": "markdown",
   "metadata": {},
   "source": [
    "Get siderophore synthesis KOs"
   ]
  },
  {
   "cell_type": "code",
   "execution_count": 70,
   "metadata": {},
   "outputs": [],
   "source": [
    "sidero_path = '01053'"
   ]
  },
  {
   "cell_type": "code",
   "execution_count": 72,
   "metadata": {},
   "outputs": [
    {
     "data": {
      "text/plain": [
       "['K01851  pchA; salicylate biosynthesis isochorismate synthase [EC:5.4.4.2]',\n",
       " 'K02552  menF; menaquinone-specific isochorismate synthase [EC:5.4.4.2]',\n",
       " 'K02361  entC; isochorismate synthase [EC:5.4.4.2]',\n",
       " 'K01252  entB, dhbB, vibB, mxcF; bifunctional isochorismate lyase / aryl carrier protein [EC:3.3.2.1 6.3.2.14]',\n",
       " 'K00216  entA; 2,3-dihydro-2,3-dihydroxybenzoate dehydrogenase [EC:1.3.1.28]',\n",
       " 'K02362  entD, pptT; enterobactin synthetase component D / holo-[acyl-carrier protein] synthase [EC:6.3.2.14 2.7.8.7]',\n",
       " 'K02363  entE, dhbE, vibE, mxcE; 2,3-dihydroxybenzoate---[aryl-carrier protein] ligase [EC:6.3.2.14 6.2.1.71]',\n",
       " 'K02364  entF; L-serine---[L-seryl-carrier protein] ligase [EC:6.3.2.14 6.2.1.72]',\n",
       " 'K24147  entH; proofreading thioesterase EntH',\n",
       " 'K04778  vibH; vibriobactin synthetase',\n",
       " 'K12237  vibF; nonribosomal peptide synthetase VibF',\n",
       " 'K04780  dhbF; glyine---[glycyl-carrier protein] ligase [EC:6.2.1.66]',\n",
       " 'K15653  mxcG; nonribosomal peptide synthetase MxcG',\n",
       " 'K15681  mxcL; aminotransferase MxcL',\n",
       " 'K04781  mbtI, irp9, ybtS; salicylate synthetase [EC:5.4.4.2 4.2.99.21]',\n",
       " 'K04782  pchB; isochorismate pyruvate lyase [EC:4.2.99.21]',\n",
       " 'K12238  pchD; salicylate---[aryl-carrier protein] ligase [EC:6.2.1.61]',\n",
       " 'K12239  pchE; L-cysteine---[L-cysteinyl-carrier protein] ligase PchE [EC:6.2.1.69]',\n",
       " 'K12240  pchF; L-cysteine---[L-cysteinyl-carrier protein] ligase PchF [EC:6.2.1.69]',\n",
       " 'K12241  pchG; pyochelin biosynthesis protein PchG',\n",
       " 'K04783  irp5, ybtE; yersiniabactin salicyl-AMP ligase [EC:6.3.2.-]',\n",
       " 'K04784  irp2, HMWP2; yersiniabactin nonribosomal peptide synthetase',\n",
       " 'K04785  irp3, ybtU; yersiniabactin synthetase, thiazolinyl reductase component',\n",
       " 'K04786  irp1, HMWP1; yersiniabactin nonribosomal peptide/polyketide synthase',\n",
       " 'K04787  mbtA; mycobactin salicyl-AMP ligase [EC:6.3.2.-]',\n",
       " 'K04788  mbtB; mycobactin phenyloxazoline synthetase',\n",
       " 'K04789  mbtE; mycobactin peptide synthetase MbtE',\n",
       " 'K04790  mbtC; mycobactin polyketide synthetase MbtC',\n",
       " 'K04791  mbtD; mycobactin polyketide synthetase MbtD',\n",
       " 'K04792  mbtF; mycobactin peptide synthetase MbtF',\n",
       " 'K04793  mbtG; mycobactin lysine-N-oxygenase',\n",
       " 'K15652  asbF; 3-dehydroshikimate dehydratase [EC:4.2.1.118]',\n",
       " 'K24108  asbA; spermidine-citrate ligase [EC:6.3.2.-]',\n",
       " 'K24109  asbB; 3,4-dihydroxybenzoyl-citryl-spermidine/N-citryl-spermidine--spermidine ligase [EC:6.3.2.-]',\n",
       " 'K24110  asbC; 3,4-dihydroxybenzoate---[aryl-carrier protein] ligase [EC:6.2.1.62]',\n",
       " 'K24111  asbD; aryl carrier protein AsbD',\n",
       " 'K24112  asbE; petrobactin synthase [EC:2.-.-.-]']"
      ]
     },
     "execution_count": 72,
     "metadata": {},
     "output_type": "execute_result"
    }
   ],
   "source": [
    "sidero_path_results = dict_path_result[sidero_path]\n",
    "sidero_path_results"
   ]
  },
  {
   "cell_type": "code",
   "execution_count": 73,
   "metadata": {},
   "outputs": [
    {
     "data": {
      "text/plain": [
       "{'K00216',\n",
       " 'K01252',\n",
       " 'K01851',\n",
       " 'K02361',\n",
       " 'K02362',\n",
       " 'K02363',\n",
       " 'K02364',\n",
       " 'K02552',\n",
       " 'K04778',\n",
       " 'K04780',\n",
       " 'K04781',\n",
       " 'K04782',\n",
       " 'K04783',\n",
       " 'K04784',\n",
       " 'K04785',\n",
       " 'K04786',\n",
       " 'K04787',\n",
       " 'K04788',\n",
       " 'K04789',\n",
       " 'K04790',\n",
       " 'K04791',\n",
       " 'K04792',\n",
       " 'K04793',\n",
       " 'K12237',\n",
       " 'K12238',\n",
       " 'K12239',\n",
       " 'K12240',\n",
       " 'K12241',\n",
       " 'K15652',\n",
       " 'K15653',\n",
       " 'K15681',\n",
       " 'K24108',\n",
       " 'K24109',\n",
       " 'K24110',\n",
       " 'K24111',\n",
       " 'K24112',\n",
       " 'K24147'}"
      ]
     },
     "execution_count": 73,
     "metadata": {},
     "output_type": "execute_result"
    }
   ],
   "source": [
    "sidero_path_KOs = set([re.search(r\"^\\w+\",r)[0] for r in sidero_path_results])\n",
    "sidero_path_KOs"
   ]
  },
  {
   "cell_type": "markdown",
   "metadata": {},
   "source": [
    "### Merge KO lists"
   ]
  },
  {
   "cell_type": "code",
   "execution_count": 163,
   "metadata": {},
   "outputs": [
    {
     "data": {
      "text/plain": [
       "395"
      ]
     },
     "execution_count": 163,
     "metadata": {},
     "output_type": "execute_result"
    }
   ],
   "source": [
    "merged_KOs = (\n",
    "    sidero_KOs | \n",
    "    enterobactin_KOs | \n",
    "    iron_transport_KOs | \n",
    "    ferritin_KOs | \n",
    "    zinc_transporter_KOs | \n",
    "    transferrin_KOs | \n",
    "    ferritin_KOs | \n",
    "    ferredoxin_KOs | \n",
    "    flavodoxin_KOs |\n",
    "    photosystem_KOs |\n",
    "    nitrate_nitrate_KOs | \n",
    "    glutamate_synthase_KOs | \n",
    "    carbonic_anhydrase_KOs | \n",
    "    bicarbonate_KOs | \n",
    "    fructose_bisphosphatase_KOs | \n",
    "    manual_KOs | \n",
    "    sidero_path_KOs\n",
    ")\n",
    "len(merged_KOs)"
   ]
  },
  {
   "cell_type": "markdown",
   "metadata": {},
   "source": [
    "Write to file"
   ]
  },
  {
   "cell_type": "code",
   "execution_count": 250,
   "metadata": {},
   "outputs": [],
   "source": [
    "with open('list_KOs.txt', 'w') as f:\n",
    "    for line in list(merged_KOs):\n",
    "        f.write(f\"{line}\\n\")"
   ]
  },
  {
   "cell_type": "markdown",
   "metadata": {},
   "source": [
    "## Search Gradients assemblies"
   ]
  },
  {
   "cell_type": "markdown",
   "metadata": {},
   "source": [
    "### Test search"
   ]
  },
  {
   "cell_type": "markdown",
   "metadata": {},
   "source": [
    "Get G1 filenames"
   ]
  },
  {
   "cell_type": "code",
   "execution_count": 74,
   "metadata": {},
   "outputs": [
    {
     "data": {
      "text/plain": [
       "['G1NS.S11C1_3um.kofam2021.domtblout.tab',\n",
       " 'G1NS.S11C1_0_2um.kofam2021.csv',\n",
       " 'G1NS.S09C1_0_2um.kofam2021.domtblout.tab',\n",
       " 'G1NS.S06C1_3um.kofam2021.domtblout.tab',\n",
       " 'G1NS.S11C1_3um.kofam2021.csv',\n",
       " 'G1NS.S02C1_3um.kofam2021.csv',\n",
       " 'G1NS.S08C1_0_2um.kofam2021.domtblout.tab',\n",
       " 'G1NS.S10_0_2um.kofam2021.domtblout.tab',\n",
       " 'G1NS.S10_0_2um.kofam2021.csv',\n",
       " 'G1NS.S06C1_0_2um.kofam2021.csv',\n",
       " 'G1NS.S06C1_3um.kofam2021.csv',\n",
       " 'G1NS.S12C1_3um.kofam2021.csv',\n",
       " 'G1NS.S08C1_3um.kofam2021.csv',\n",
       " 'G1NS.S06C1_0_2um.kofam2021.domtblout.tab',\n",
       " 'G1NS.S09C1_0_2um.kofam2021.csv',\n",
       " 'G1NS.S04C1_3um.kofam2021.csv',\n",
       " 'G1NS.S13C1_0_2um.kofam2021.domtblout.tab',\n",
       " 'G1NS.S13C1_3um.kofam2021.domtblout.tab',\n",
       " 'G1NS.S12C1_0_2um.kofam2021.domtblout.tab',\n",
       " 'G1NS.S08C1_3um.kofam2021.domtblout.tab',\n",
       " 'G1NS.S13C1_0_2um.kofam2021.csv',\n",
       " 'G1NS.S04C1_3um.kofam2021.domtblout.tab',\n",
       " 'G1NS.S02C1_3um.kofam2021.domtblout.tab',\n",
       " 'G1NS.S11C1_0_2um.kofam2021.domtblout.tab',\n",
       " 'G1NS.S04C1_0_2um.kofam2021.domtblout.tab',\n",
       " 'G1NS.S08C1_0_2um.kofam2021.csv',\n",
       " 'G1NS.S14C1_3um.kofam2021.csv',\n",
       " 'G1NS_kofam2021_ALL_intermediate.csv',\n",
       " 'G1NS.S09C1_3um.kofam2021.csv',\n",
       " 'G1NS.S14C1_3um.kofam2021.domtblout.tab',\n",
       " 'G1NS_kofam2021_ALL.csv',\n",
       " 'G1NS.S13C1_3um.kofam2021.csv',\n",
       " 'G1NS.S12C1_3um.kofam2021.domtblout.tab',\n",
       " 'G1NS.S02C1_0_2um.kofam2021.csv',\n",
       " 'G1NS.S14C1_0_2um.kofam2021.domtblout.tab',\n",
       " 'G1NS.S04C1_0_2um.kofam2021.csv',\n",
       " 'G1NS.S09C1_3um.kofam2021.domtblout.tab',\n",
       " 'G1NS.S14C1_0_2um.kofam2021.csv',\n",
       " 'G1NS.S12C1_0_2um.kofam2021.csv',\n",
       " 'G1NS.S02C1_0_2um.kofam2021.domtblout.tab']"
      ]
     },
     "execution_count": 74,
     "metadata": {},
     "output_type": "execute_result"
    }
   ],
   "source": [
    "kofam_dir = '/mnt/nfs/projects/armbrust-metat/gradients1/g1_station_ns_metat/assemblies/kofam'\n",
    "kofam_fns = os.listdir(kofam_dir)\n",
    "kofam_fns"
   ]
  },
  {
   "cell_type": "code",
   "execution_count": 76,
   "metadata": {},
   "outputs": [
    {
     "data": {
      "text/plain": [
       "['G1NS.S11C1_0_2um.kofam2021.csv',\n",
       " 'G1NS.S11C1_3um.kofam2021.csv',\n",
       " 'G1NS.S02C1_3um.kofam2021.csv',\n",
       " 'G1NS.S10_0_2um.kofam2021.csv',\n",
       " 'G1NS.S06C1_0_2um.kofam2021.csv',\n",
       " 'G1NS.S06C1_3um.kofam2021.csv',\n",
       " 'G1NS.S12C1_3um.kofam2021.csv',\n",
       " 'G1NS.S08C1_3um.kofam2021.csv',\n",
       " 'G1NS.S09C1_0_2um.kofam2021.csv',\n",
       " 'G1NS.S04C1_3um.kofam2021.csv',\n",
       " 'G1NS.S13C1_0_2um.kofam2021.csv',\n",
       " 'G1NS.S08C1_0_2um.kofam2021.csv',\n",
       " 'G1NS.S14C1_3um.kofam2021.csv',\n",
       " 'G1NS_kofam2021_ALL_intermediate.csv',\n",
       " 'G1NS.S09C1_3um.kofam2021.csv',\n",
       " 'G1NS_kofam2021_ALL.csv',\n",
       " 'G1NS.S13C1_3um.kofam2021.csv',\n",
       " 'G1NS.S02C1_0_2um.kofam2021.csv',\n",
       " 'G1NS.S04C1_0_2um.kofam2021.csv',\n",
       " 'G1NS.S14C1_0_2um.kofam2021.csv',\n",
       " 'G1NS.S12C1_0_2um.kofam2021.csv']"
      ]
     },
     "execution_count": 76,
     "metadata": {},
     "output_type": "execute_result"
    }
   ],
   "source": [
    "kofam_fns_csv = [f for f in kofam_fns if '.csv' in f]\n",
    "kofam_fns_csv"
   ]
  },
  {
   "cell_type": "markdown",
   "metadata": {},
   "source": [
    "See if there are any siderophore transporter kos"
   ]
  },
  {
   "cell_type": "code",
   "execution_count": 239,
   "metadata": {},
   "outputs": [
    {
     "data": {
      "text/plain": [
       "1.6600322723388671e-06"
      ]
     },
     "execution_count": 239,
     "metadata": {},
     "output_type": "execute_result"
    }
   ],
   "source": [
    "fn = 'G1NS.S11C1_3um.kofam2021.csv'\n",
    "fn_full = kofam_dir + '/' + fn\n",
    "\n",
    "dict_transp_ko_contig = defaultdict(list)\n",
    "dict_synth_ko_contig = defaultdict(list)\n",
    "i = 0\n",
    "times = []\n",
    "with open(fn_full,'r') as f:\n",
    "    for line in f:\n",
    "        if i < 50000:\n",
    "            t0 = time()\n",
    "            l = line.split(',')\n",
    "            l = list(filter(None, l))\n",
    "            ko = l[4].replace('\"','')\n",
    "            if ko in merged_KOs:\n",
    "                contig = l[1].replace('\"','')\n",
    "                dict_transp_ko_contig[ko].append(contig)\n",
    "            t1 = time()\n",
    "            times.append(t1-t0)\n",
    "            i += 1\n",
    "        else:\n",
    "            break\n",
    "\n",
    "\n",
    "np.mean(times)"
   ]
  },
  {
   "cell_type": "code",
   "execution_count": 247,
   "metadata": {},
   "outputs": [
    {
     "data": {
      "text/plain": [
       "24.41791091448466"
      ]
     },
     "execution_count": 247,
     "metadata": {},
     "output_type": "execute_result"
    }
   ],
   "source": [
    "(582792914 * 2.513885498046875e-06) / 60"
   ]
  },
  {
   "cell_type": "code",
   "execution_count": null,
   "metadata": {},
   "outputs": [
    {
     "data": {
      "text/plain": [
       "[['K00216  entA; 2,3-dihydro-2,3-dihydroxybenzoate dehydrogenase [EC:1.3.1.28]',\n",
       "  1519],\n",
       " ['K01252  entB, dhbB, vibB, mxcF; bifunctional isochorismate lyase / aryl carrier protein [EC:3.3.2.1 6.3.2.14]',\n",
       "  45],\n",
       " ['K01851  pchA; salicylate biosynthesis isochorismate synthase [EC:5.4.4.2]',\n",
       "  79],\n",
       " ['K02361  entC; isochorismate synthase [EC:5.4.4.2]', 81],\n",
       " ['K02362  entD, pptT; enterobactin synthetase component D / holo-[acyl-carrier protein] synthase [EC:6.3.2.14 2.7.8.7]',\n",
       "  4],\n",
       " ['K02363  entE, dhbE, vibE, mxcE; 2,3-dihydroxybenzoate---[aryl-carrier protein] ligase [EC:6.3.2.14 6.2.1.71]',\n",
       "  1838],\n",
       " ['K02364  entF; L-serine---[L-seryl-carrier protein] ligase [EC:6.3.2.14 6.2.1.72]',\n",
       "  2807],\n",
       " ['K02552  menF; menaquinone-specific isochorismate synthase [EC:5.4.4.2]',\n",
       "  79],\n",
       " ['K04778  vibH; vibriobactin synthetase', 18],\n",
       " ['K04780  dhbF; glyine---[glycyl-carrier protein] ligase [EC:6.2.1.66]',\n",
       "  2282],\n",
       " ['K04781  mbtI, irp9, ybtS; salicylate synthetase [EC:5.4.4.2 4.2.99.21]',\n",
       "  73],\n",
       " ['K04782  pchB; isochorismate pyruvate lyase [EC:4.2.99.21]', 23],\n",
       " ['K04783  irp5, ybtE; yersiniabactin salicyl-AMP ligase [EC:6.3.2.-]', 1506],\n",
       " ['K04784  irp2, HMWP2; yersiniabactin nonribosomal peptide synthetase', 2246],\n",
       " ['K04786  irp1, HMWP1; yersiniabactin nonribosomal peptide/polyketide synthase',\n",
       "  4186],\n",
       " ['K04787  mbtA; mycobactin salicyl-AMP ligase [EC:6.3.2.-]', 1643],\n",
       " ['K04788  mbtB; mycobactin phenyloxazoline synthetase', 1959],\n",
       " ['K04789  mbtE; mycobactin peptide synthetase MbtE', 1903],\n",
       " ['K04790  mbtC; mycobactin polyketide synthetase MbtC', 2726],\n",
       " ['K04791  mbtD; mycobactin polyketide synthetase MbtD', 1385],\n",
       " ['K04792  mbtF; mycobactin peptide synthetase MbtF', 1825],\n",
       " ['K08225  entS; MFS transporter, ENTS family, enterobactin (siderophore) exporter',\n",
       "  156],\n",
       " ['K12237  vibF; nonribosomal peptide synthetase VibF', 684],\n",
       " ['K12238  pchD; salicylate---[aryl-carrier protein] ligase [EC:6.2.1.61]',\n",
       "  1066],\n",
       " ['K12239  pchE; L-cysteine---[L-cysteinyl-carrier protein] ligase PchE [EC:6.2.1.69]',\n",
       "  2025],\n",
       " ['K12240  pchF; L-cysteine---[L-cysteinyl-carrier protein] ligase PchF [EC:6.2.1.69]',\n",
       "  2555],\n",
       " ['K12241  pchG; pyochelin biosynthesis protein PchG', 3],\n",
       " ['K15652  asbF; 3-dehydroshikimate dehydratase [EC:4.2.1.118]', 6],\n",
       " ['K15653  mxcG; nonribosomal peptide synthetase MxcG', 2193],\n",
       " ['K15681  mxcL; aminotransferase MxcL', 662],\n",
       " ['K16090  fiu; catecholate siderophore receptor', 700],\n",
       " ['K23186  fepD, fagA, cchC, desH; iron-siderophore transport system permease protein',\n",
       "  11],\n",
       " ['K23187  fepG, fagB, cchD, desG; iron-siderophore transport system permease protein',\n",
       "  11],\n",
       " ['K23188  fepC, fagC, cchE, desF; iron-siderophore transport system ATP-binding protein [EC:7.2.2.17 7.2.2.-]',\n",
       "  4565],\n",
       " ['K24108  asbA; spermidine-citrate ligase [EC:6.3.2.-]', 1],\n",
       " ['K24109  asbB; 3,4-dihydroxybenzoyl-citryl-spermidine/N-citryl-spermidine--spermidine ligase [EC:6.3.2.-]',\n",
       "  1],\n",
       " ['K24110  asbC; 3,4-dihydroxybenzoate---[aryl-carrier protein] ligase [EC:6.2.1.62]',\n",
       "  737],\n",
       " ['K24111  asbD; aryl carrier protein AsbD', 20],\n",
       " ['K24112  asbE; petrobactin synthase [EC:2.-.-.-]', 2],\n",
       " ['K24147  entH; proofreading thioesterase EntH', 6],\n",
       " ['K25109  sirA, fecB, cbrA; iron-siderophore transport system substrate-binding protein',\n",
       "  6],\n",
       " ['K25110  sirB, fecC, cbrB; iron-siderophore transport system permease protein',\n",
       "  11],\n",
       " ['K25111  sirC, fecD, cbrC; iron-siderophore transport system permease protein',\n",
       "  11],\n",
       " ['K25130  fecE, cbrD; iron-siderophore transport system ATP-binding protein [EC:7.2.2.-]',\n",
       "  4161],\n",
       " ['K25282  yclQ, ceuA; iron-siderophore transport system substrate-binding protein',\n",
       "  17],\n",
       " ['K25283  yclO, ceuC; iron-siderophore transport system permease protein', 5],\n",
       " ['K25284  yclN, ceuB; iron-siderophore transport system permease protein',\n",
       "  11],\n",
       " ['K25285  yclP, ceuD; iron-siderophore transport system ATP-binding protein [EC:7.2.2.-]',\n",
       "  4148],\n",
       " ['K25286  fagD, cchF, irp1A, piaA; iron-siderophore transport system substrate-binding protein',\n",
       "  33]]"
      ]
     },
     "metadata": {},
     "output_type": "display_data"
    }
   ],
   "source": [
    "[[dict_ko_name[k], len(v)] for k, v in dict_transp_ko_contig.items()]"
   ]
  },
  {
   "cell_type": "markdown",
   "metadata": {},
   "source": [
    "Save dicts to json"
   ]
  },
  {
   "cell_type": "code",
   "execution_count": 118,
   "metadata": {},
   "outputs": [],
   "source": [
    "groups = ['transporters','synthesis']\n",
    "dicts = [dict_transp_ko_contig, dict_synth_ko_contig]\n",
    "sidero_ko_dir = 'siderophore_ko_contigs'\n",
    "bn = os.path.splitext(fn)[0]\n",
    "out_dir = workdir + '/' + sidero_ko_dir + '/' + bn \n",
    "if not os.path.exists(out_dir):\n",
    "    os.makedirs(out_dir)\n",
    "    print(\"Made dir:\", out_dir)\n",
    "\n",
    "for group, d in zip(groups, dicts):\n",
    "    out_fn = (\n",
    "        out_dir + '/' \n",
    "        + bn + '.siderophore_' + group + '.dict_ko_contig.json'\n",
    "    )\n",
    "    with open(out_fn, 'w') as f:\n",
    "        json.dump(d, f, sort_keys=True, indent=4, separators=(',', ': '))"
   ]
  },
  {
   "cell_type": "markdown",
   "metadata": {},
   "source": [
    "### Search all gradients (non-selected)"
   ]
  },
  {
   "cell_type": "markdown",
   "metadata": {},
   "source": [
    "Check dirs"
   ]
  },
  {
   "cell_type": "code",
   "execution_count": 123,
   "metadata": {},
   "outputs": [],
   "source": [
    "gradients_dir = '/mnt/nfs/projects/armbrust-metat'\n",
    "grad_kofam_dirnames = [\n",
    "    'gradients3/g3_uw_pa_pm_metat/assemblies/annotations/kofam',\n",
    "    'gradients3/g3_uw_pa_metat/assemblies/annotations/kofam',\n",
    "    'gradients3/g3_diel_pa_metat/assemblies/annotations/kofam',\n",
    "    'gradients3/g3_uw_ns_metat/assemblies/kofam',\n",
    "    'gradients1/g1_station_ns_metat/assemblies/kofam',\n",
    "    'gradients1/g1_station_pa_metat/assemblies/annotations/kofam',\n",
    "    'gradients2/g2_dcm_rr_pa_metat/assemblies/kofam',\n",
    "    'gradients2/g2_station_pa_metat/assemblies/annotations/kofam',\n",
    "    'gradients2/g2_station_ns_metat/assemblies/kofam',\n",
    "    'scope_diel/diel_pa_metat/assemblies/annotations/kofam',\n",
    "]\n",
    "for d in grad_kofam_dirnames:\n",
    "    if not os.path.exists(gradients_dir + '/' + d):\n",
    "        print(d)"
   ]
  },
  {
   "cell_type": "markdown",
   "metadata": {},
   "source": [
    "Parse each file type"
   ]
  },
  {
   "cell_type": "code",
   "execution_count": 230,
   "metadata": {},
   "outputs": [
    {
     "name": "stdout",
     "output_type": "stream",
     "text": [
      "/mnt/nfs/projects/armbrust-metat/gradients3/g3_uw_pa_pm_metat/assemblies/annotations/kofam/NPac.G3PA_PM.bf100.id99.aa.best.kofam.incT30.csv.gz\n",
      "/mnt/nfs/projects/armbrust-metat/gradients3/g3_uw_pa_pm_metat/assemblies/annotations/kofam/NPac.G3PA_PM.bf100.id99.aa.tsv.gz\n",
      "# gene\n",
      "# ---------\n",
      "G3.UW.PA.UW24_1.7m_PM.0.2um_TRINITY_DN224191_c0_g1_i1_6 K20651\n",
      "G3.UW.PA.UW24_1.7m_PM.0.2um_TRINITY_DN223670_c0_g1_i2_3 K20762\n",
      "/mnt/nfs/projects/armbrust-metat/gradients3/g3_uw_pa_metat/assemblies/annotations/kofam/zenodo_trimming\n",
      "/mnt/nfs/projects/armbrust-metat/gradients3/g3_uw_pa_metat/assemblies/annotations/kofam/NPac.G3PA.kofam.tsv.gz\n",
      "# gene\n",
      "#----------------------------------------- ------\n",
      "G3PA.UW39_TRINITY_DN1448753_c2_g1_i1_5 K06650\n",
      "G3PA.UW39_TRINITY_DN1448753_c2_g1_i1_5 K12760\n",
      "/mnt/nfs/projects/armbrust-metat/gradients3/g3_uw_pa_metat/assemblies/annotations/kofam/NPac.G3PA.UW.bf100.id99.aa.best.Kofam.incT30.csv.gz\n",
      "/mnt/nfs/projects/armbrust-metat/gradients3/g3_diel_pa_metat/assemblies/annotations/kofam/NPac.G3PA.diel.bf100.id99.aa.best.kofam.incT30.csv.gz\n",
      "/mnt/nfs/projects/armbrust-metat/gradients3/g3_diel_pa_metat/assemblies/annotations/kofam/zenodo_trimming\n",
      "/mnt/nfs/projects/armbrust-metat/gradients3/g3_diel_pa_metat/assemblies/annotations/kofam/NPac.G3PA_diel.kofam.tsv.gz\n",
      "# gene\n",
      "# ---------\n",
      "G3PA.diel.S4C30.A_TRINITY_DN696187_c0_g1_i1_2 K10206\n",
      "G3PA.diel.S4C30.A_TRINITY_DN696187_c0_g1_i1_2 K00812\n",
      "/mnt/nfs/projects/armbrust-metat/gradients3/g3_uw_ns_metat/assemblies/kofam/G3.UW.NS.UW35_2.7m.3um.kofam2021.domtblout.tab\n",
      "/mnt/nfs/projects/armbrust-metat/gradients3/g3_uw_ns_metat/assemblies/kofam/G3.UW.NS.UW37_1.7m.3um.kofam2021.csv\n",
      "\"target_name\" \"query_name\"\n",
      "\"G3.UW.NS.UW37_1.7m.3um_TRINITY_DN48866_c0_g1_i3\" \"K00001\"\n",
      "/mnt/nfs/projects/armbrust-metat/gradients3/g3_uw_ns_metat/assemblies/kofam/G3.UW.NS.UW40_2.7m.3um.kofam2021.csv\n",
      "\"target_name\" \"query_name\"\n",
      "\"G3.UW.NS.UW40_2.7m.3um_TRINITY_DN354808_c0_g1_i1\" \"K00001\"\n",
      "/mnt/nfs/projects/armbrust-metat/gradients3/g3_uw_ns_metat/assemblies/kofam/G3.UW.NS.UW32_1.7m.0_2um.kofam2021.domtblout.tab\n",
      "/mnt/nfs/projects/armbrust-metat/gradients3/g3_uw_ns_metat/assemblies/kofam/G3.UW.NS.UW25_1.7m.3um.kofam2021.domtblout.tab\n",
      "/mnt/nfs/projects/armbrust-metat/gradients3/g3_uw_ns_metat/assemblies/kofam/G3.UW.NS.UW32_1.7m.3um.kofam2021.domtblout.tab\n",
      "/mnt/nfs/projects/armbrust-metat/gradients3/g3_uw_ns_metat/assemblies/kofam/G3.UW.NS.UW31_2.7m.3um.kofam2021.domtblout.tab\n",
      "/mnt/nfs/projects/armbrust-metat/gradients3/g3_uw_ns_metat/assemblies/kofam/G3.UW.NS.UW29_1.7m.0_2um.kofam2021.csv\n",
      "\"target_name\" \"query_name\"\n",
      "\"G3.UW.NS.UW29_1.7m.0_2um_TRINITY_DN27166_c0_g1_i2\" \"K00001\"\n",
      "/mnt/nfs/projects/armbrust-metat/gradients3/g3_uw_ns_metat/assemblies/kofam/G3.UW.NS.UW35_1.7m.0_2um.kofam2021.domtblout.tab\n",
      "/mnt/nfs/projects/armbrust-metat/gradients3/g3_uw_ns_metat/assemblies/kofam/G3NS_kofam2021_ALL.csv\n",
      "/mnt/nfs/projects/armbrust-metat/gradients3/g3_uw_ns_metat/assemblies/kofam/G3.UW.NS.UW40_2.7m.0_2um.kofam2021.csv\n",
      "\"target_name\" \"query_name\"\n",
      "\"G3.UW.NS.UW40_2.7m.0_2um_TRINITY_DN57630_c0_g1_i14\" \"K00001\"\n",
      "/mnt/nfs/projects/armbrust-metat/gradients3/g3_uw_ns_metat/assemblies/kofam/G3.UW.NS.UW38_1.7m.0_2um.kofam2021.domtblout.tab\n",
      "/mnt/nfs/projects/armbrust-metat/gradients3/g3_uw_ns_metat/assemblies/kofam/G3.UW.NS.UW31_2.7m.3um.kofam2021.csv\n",
      "\"target_name\" \"query_name\"\n",
      "\"G3.UW.NS.UW31_2.7m.3um_TRINITY_DN38589_c0_g1_i4\" \"K00001\"\n",
      "/mnt/nfs/projects/armbrust-metat/gradients3/g3_uw_ns_metat/assemblies/kofam/G3.UW.NS.UW32_3.7m.3um.kofam2021.csv\n",
      "\"target_name\" \"query_name\"\n",
      "\"G3.UW.NS.UW32_3.7m.3um_TRINITY_DN6677_c0_g1_i20\" \"K00001\"\n",
      "/mnt/nfs/projects/armbrust-metat/gradients3/g3_uw_ns_metat/assemblies/kofam/G3.UW.NS.UW25_1.7m.0_2um.kofam2021.domtblout.tab\n",
      "/mnt/nfs/projects/armbrust-metat/gradients3/g3_uw_ns_metat/assemblies/kofam/G3.UW.NS.UW40_1.7m.3um.kofam2021.domtblout.tab\n",
      "/mnt/nfs/projects/armbrust-metat/gradients3/g3_uw_ns_metat/assemblies/kofam/G3.UW.NS.UW25_1.7m.0_2um.kofam2021.csv\n",
      "\"target_name\" \"query_name\"\n",
      "\"G3.UW.NS.UW25_1.7m.0_2um_TRINITY_DN44915_c0_g1_i2\" \"K00001\"\n",
      "/mnt/nfs/projects/armbrust-metat/gradients3/g3_uw_ns_metat/assemblies/kofam/G3.UW.NS.UW40_1.7m.0_2um.kofam2021.domtblout.tab\n",
      "/mnt/nfs/projects/armbrust-metat/gradients3/g3_uw_ns_metat/assemblies/kofam/G3.UW.NS.UW37_1.7m.3um.kofam2021.domtblout.tab\n",
      "/mnt/nfs/projects/armbrust-metat/gradients3/g3_uw_ns_metat/assemblies/kofam/G3.UW.NS.UW40_1.7m.0_2um.kofam2021.csv\n",
      "\"target_name\" \"query_name\"\n",
      "\"G3.UW.NS.UW40_1.7m.0_2um_TRINITY_DN18734_c0_g1_i5\" \"K00001\"\n",
      "/mnt/nfs/projects/armbrust-metat/gradients3/g3_uw_ns_metat/assemblies/kofam/G3.UW.NS.UW29_1.7m.3um.kofam2021.csv\n",
      "\"target_name\" \"query_name\"\n",
      "\"G3.UW.NS.UW29_1.7m.3um_TRINITY_DN323632_c0_g1_i1\" \"K00001\"\n",
      "/mnt/nfs/projects/armbrust-metat/gradients3/g3_uw_ns_metat/assemblies/kofam/G3.UW.NS.UW35_1.7m.3um.kofam2021.csv\n",
      "\"target_name\" \"query_name\"\n",
      "\"G3.UW.NS.UW35_1.7m.3um_TRINITY_DN32847_c0_g1_i1\" \"K00001\"\n",
      "/mnt/nfs/projects/armbrust-metat/gradients3/g3_uw_ns_metat/assemblies/kofam/G3.UW.NS.UW29_1.7m.3um.kofam2021.domtblout.tab\n",
      "/mnt/nfs/projects/armbrust-metat/gradients3/g3_uw_ns_metat/assemblies/kofam/G3.UW.NS.UW35_2.7m.0_2um.kofam2021.domtblout.tab\n",
      "/mnt/nfs/projects/armbrust-metat/gradients3/g3_uw_ns_metat/assemblies/kofam/G3.UW.NS.UW29_1.7m.0_2um.kofam2021.domtblout.tab\n",
      "/mnt/nfs/projects/armbrust-metat/gradients3/g3_uw_ns_metat/assemblies/kofam/G3.UW.NS.UW38_1.7m.3um.kofam2021.domtblout.tab\n",
      "/mnt/nfs/projects/armbrust-metat/gradients3/g3_uw_ns_metat/assemblies/kofam/G3.UW.NS.UW35_1.7m.3um.kofam2021.domtblout.tab\n",
      "/mnt/nfs/projects/armbrust-metat/gradients3/g3_uw_ns_metat/assemblies/kofam/G3.UW.NS.UW35_2.7m.3um.kofam2021.csv\n",
      "\"target_name\" \"query_name\"\n",
      "\"G3.UW.NS.UW35_2.7m.3um_TRINITY_DN59039_c0_g1_i2\" \"K00001\"\n",
      "/mnt/nfs/projects/armbrust-metat/gradients3/g3_uw_ns_metat/assemblies/kofam/G3.UW.NS.UW35_2.7m.0_2um.kofam2021.csv\n",
      "\"target_name\" \"query_name\"\n",
      "\"G3.UW.NS.UW35_2.7m.0_2um_TRINITY_DN4774_c0_g1_i12\" \"K00001\"\n",
      "/mnt/nfs/projects/armbrust-metat/gradients3/g3_uw_ns_metat/assemblies/kofam/G3NS_kofam2021_ALL_intermediate.csv\n",
      "\"target_name\" \"query_name\"\n",
      "\"G3.UW.NS.UW25_1.7m.0_2um_TRINITY_DN44915_c0_g1_i2\" \"K00001\"\n",
      "/mnt/nfs/projects/armbrust-metat/gradients3/g3_uw_ns_metat/assemblies/kofam/G3.UW.NS.UW32_3.7m.0_2um.kofam2021.csv\n",
      "\"target_name\" \"query_name\"\n",
      "\"G3.UW.NS.UW32_3.7m.0_2um_TRINITY_DN17693_c0_g1_i4\" \"K00001\"\n",
      "/mnt/nfs/projects/armbrust-metat/gradients3/g3_uw_ns_metat/assemblies/kofam/G3.UW.NS.UW38_1.7m.0_2um.kofam2021.csv\n",
      "\"target_name\" \"query_name\"\n",
      "\"G3.UW.NS.UW38_1.7m.0_2um_TRINITY_DN114064_c0_g1_i1\" \"K00001\"\n",
      "/mnt/nfs/projects/armbrust-metat/gradients3/g3_uw_ns_metat/assemblies/kofam/G3.UW.NS.UW40_2.7m.3um.kofam2021.domtblout.tab\n",
      "/mnt/nfs/projects/armbrust-metat/gradients3/g3_uw_ns_metat/assemblies/kofam/G3.UW.NS.UW32_1.7m.0_2um.kofam2021.csv\n",
      "\"target_name\" \"query_name\"\n",
      "\"G3.UW.NS.UW32_1.7m.0_2um_TRINITY_DN8635_c0_g1_i4\" \"K00001\"\n",
      "/mnt/nfs/projects/armbrust-metat/gradients3/g3_uw_ns_metat/assemblies/kofam/G3.UW.NS.UW25_1.7m.3um.kofam2021.csv\n",
      "\"target_name\" \"query_name\"\n",
      "\"G3.UW.NS.UW25_1.7m.3um_TRINITY_DN29952_c0_g1_i1\" \"K00001\"\n",
      "/mnt/nfs/projects/armbrust-metat/gradients3/g3_uw_ns_metat/assemblies/kofam/G3.UW.NS.UW40_2.7m.0_2um.kofam2021.domtblout.tab\n",
      "/mnt/nfs/projects/armbrust-metat/gradients3/g3_uw_ns_metat/assemblies/kofam/G3.UW.NS.UW40_1.7m.3um.kofam2021.csv\n",
      "\"target_name\" \"query_name\"\n",
      "\"G3.UW.NS.UW40_1.7m.3um_TRINITY_DN67973_c0_g1_i1\" \"K00001\"\n",
      "/mnt/nfs/projects/armbrust-metat/gradients3/g3_uw_ns_metat/assemblies/kofam/G3.UW.NS.UW32_1.7m.3um.kofam2021.csv\n",
      "\"target_name\" \"query_name\"\n",
      "\"G3.UW.NS.UW32_1.7m.3um_TRINITY_DN130606_c0_g1_i1\" \"K00001\"\n",
      "/mnt/nfs/projects/armbrust-metat/gradients3/g3_uw_ns_metat/assemblies/kofam/G3.UW.NS.UW37_1.7m.0_2um.kofam2021.domtblout.tab\n",
      "/mnt/nfs/projects/armbrust-metat/gradients3/g3_uw_ns_metat/assemblies/kofam/G3.UW.NS.UW35_1.7m.0_2um.kofam2021.csv\n",
      "\"target_name\" \"query_name\"\n",
      "\"G3.UW.NS.UW35_1.7m.0_2um_TRINITY_DN120678_c0_g1_i8\" \"K00001\"\n",
      "/mnt/nfs/projects/armbrust-metat/gradients3/g3_uw_ns_metat/assemblies/kofam/G3.UW.NS.UW38_1.7m.3um.kofam2021.csv\n",
      "\"target_name\" \"query_name\"\n",
      "\"G3.UW.NS.UW38_1.7m.3um_TRINITY_DN27877_c0_g1_i1\" \"K00001\"\n",
      "/mnt/nfs/projects/armbrust-metat/gradients3/g3_uw_ns_metat/assemblies/kofam/G3.UW.NS.UW32_3.7m.3um.kofam2021.domtblout.tab\n",
      "/mnt/nfs/projects/armbrust-metat/gradients3/g3_uw_ns_metat/assemblies/kofam/G3.UW.NS.UW32_3.7m.0_2um.kofam2021.domtblout.tab\n",
      "/mnt/nfs/projects/armbrust-metat/gradients3/g3_uw_ns_metat/assemblies/kofam/G3.UW.NS.UW37_1.7m.0_2um.kofam2021.csv\n",
      "\"target_name\" \"query_name\"\n",
      "\"G3.UW.NS.UW37_1.7m.0_2um_TRINITY_DN321431_c1_g2_i2\" \"K00001\"\n",
      "/mnt/nfs/projects/armbrust-metat/gradients1/g1_station_ns_metat/assemblies/kofam/G1NS.S11C1_3um.kofam2021.domtblout.tab\n",
      "/mnt/nfs/projects/armbrust-metat/gradients1/g1_station_ns_metat/assemblies/kofam/G1NS.S11C1_0_2um.kofam2021.csv\n",
      "\"target_name\" \"query_name\"\n",
      "\"G1NS.S11C1_0_2um_TRINITY_DN599870_c1_g3_i2_3\" \"K00001\"\n",
      "/mnt/nfs/projects/armbrust-metat/gradients1/g1_station_ns_metat/assemblies/kofam/G1NS.S09C1_0_2um.kofam2021.domtblout.tab\n",
      "/mnt/nfs/projects/armbrust-metat/gradients1/g1_station_ns_metat/assemblies/kofam/G1NS.S06C1_3um.kofam2021.domtblout.tab\n",
      "/mnt/nfs/projects/armbrust-metat/gradients1/g1_station_ns_metat/assemblies/kofam/G1NS.S11C1_3um.kofam2021.csv\n",
      "\"target_name\" \"query_name\"\n",
      "\"G1NS.S11C1_3um_TRINITY_DN1959433_c0_g1_i4_3\" \"K00001\"\n",
      "/mnt/nfs/projects/armbrust-metat/gradients1/g1_station_ns_metat/assemblies/kofam/G1NS.S02C1_3um.kofam2021.csv\n",
      "\"target_name\" \"query_name\"\n",
      "\"G1NS.S02C1_3um_TRINITY_DN3288961_c0_g1_i4_2\" \"K00001\"\n",
      "/mnt/nfs/projects/armbrust-metat/gradients1/g1_station_ns_metat/assemblies/kofam/G1NS.S08C1_0_2um.kofam2021.domtblout.tab\n",
      "/mnt/nfs/projects/armbrust-metat/gradients1/g1_station_ns_metat/assemblies/kofam/G1NS.S10_0_2um.kofam2021.domtblout.tab\n",
      "/mnt/nfs/projects/armbrust-metat/gradients1/g1_station_ns_metat/assemblies/kofam/G1NS.S10_0_2um.kofam2021.csv\n",
      "\"target_name\" \"query_name\"\n",
      "\"G1NS.S10_0_2um_TRINITY_DN476553_c0_g1_i1_1\" \"K00001\"\n",
      "/mnt/nfs/projects/armbrust-metat/gradients1/g1_station_ns_metat/assemblies/kofam/G1NS.S06C1_0_2um.kofam2021.csv\n",
      "\"target_name\" \"query_name\"\n",
      "\"G1NS.S06C1_0_2um_TRINITY_DN1989056_c0_g2_i1_2\" \"K00001\"\n",
      "/mnt/nfs/projects/armbrust-metat/gradients1/g1_station_ns_metat/assemblies/kofam/G1NS.S06C1_3um.kofam2021.csv\n",
      "\"target_name\" \"query_name\"\n",
      "\"G1NS.S06C1_3um_TRINITY_DN2718896_c0_g1_i2_1\" \"K00001\"\n",
      "/mnt/nfs/projects/armbrust-metat/gradients1/g1_station_ns_metat/assemblies/kofam/G1NS.S12C1_3um.kofam2021.csv\n",
      "\"target_name\" \"query_name\"\n",
      "\"G1NS.S12C1_3um_TRINITY_DN2064836_c1_g2_i3_3\" \"K00001\"\n",
      "/mnt/nfs/projects/armbrust-metat/gradients1/g1_station_ns_metat/assemblies/kofam/G1NS.S08C1_3um.kofam2021.csv\n",
      "\"target_name\" \"query_name\"\n",
      "\"G1NS.S08C1_3um_TRINITY_DN2649235_c0_g2_i2_1\" \"K00001\"\n",
      "/mnt/nfs/projects/armbrust-metat/gradients1/g1_station_ns_metat/assemblies/kofam/G1NS.S06C1_0_2um.kofam2021.domtblout.tab\n",
      "/mnt/nfs/projects/armbrust-metat/gradients1/g1_station_ns_metat/assemblies/kofam/G1NS.S09C1_0_2um.kofam2021.csv\n",
      "\"target_name\" \"query_name\"\n",
      "\"G1NS.S09C1_0_2um_TRINITY_DN1019920_c1_g4_i1_2\" \"K00001\"\n",
      "/mnt/nfs/projects/armbrust-metat/gradients1/g1_station_ns_metat/assemblies/kofam/G1NS.S04C1_3um.kofam2021.csv\n",
      "\"target_name\" \"query_name\"\n",
      "\"G1NS.S04C1_3um_TRINITY_DN1845_c0_g1_i2\" \"K00001\"\n",
      "/mnt/nfs/projects/armbrust-metat/gradients1/g1_station_ns_metat/assemblies/kofam/G1NS.S13C1_0_2um.kofam2021.domtblout.tab\n",
      "/mnt/nfs/projects/armbrust-metat/gradients1/g1_station_ns_metat/assemblies/kofam/G1NS.S13C1_3um.kofam2021.domtblout.tab\n",
      "/mnt/nfs/projects/armbrust-metat/gradients1/g1_station_ns_metat/assemblies/kofam/G1NS.S12C1_0_2um.kofam2021.domtblout.tab\n",
      "/mnt/nfs/projects/armbrust-metat/gradients1/g1_station_ns_metat/assemblies/kofam/G1NS.S08C1_3um.kofam2021.domtblout.tab\n",
      "/mnt/nfs/projects/armbrust-metat/gradients1/g1_station_ns_metat/assemblies/kofam/G1NS.S13C1_0_2um.kofam2021.csv\n",
      "\"target_name\" \"query_name\"\n",
      "\"G1NS.S13C1_0_2um_TRINITY_DN1610294_c2_g2_i1_3\" \"K00001\"\n",
      "/mnt/nfs/projects/armbrust-metat/gradients1/g1_station_ns_metat/assemblies/kofam/G1NS.S04C1_3um.kofam2021.domtblout.tab\n",
      "/mnt/nfs/projects/armbrust-metat/gradients1/g1_station_ns_metat/assemblies/kofam/G1NS.S02C1_3um.kofam2021.domtblout.tab\n",
      "/mnt/nfs/projects/armbrust-metat/gradients1/g1_station_ns_metat/assemblies/kofam/G1NS.S11C1_0_2um.kofam2021.domtblout.tab\n",
      "/mnt/nfs/projects/armbrust-metat/gradients1/g1_station_ns_metat/assemblies/kofam/G1NS.S04C1_0_2um.kofam2021.domtblout.tab\n",
      "/mnt/nfs/projects/armbrust-metat/gradients1/g1_station_ns_metat/assemblies/kofam/G1NS.S08C1_0_2um.kofam2021.csv\n",
      "\"target_name\" \"query_name\"\n",
      "\"G1NS.S08C1_0_2um_TRINITY_DN1871853_c2_g1_i4_2\" \"K00001\"\n",
      "/mnt/nfs/projects/armbrust-metat/gradients1/g1_station_ns_metat/assemblies/kofam/G1NS.S14C1_3um.kofam2021.csv\n",
      "\"target_name\" \"query_name\"\n",
      "\"G1NS.S14C1_3um_TRINITY_DN2793793_c0_g1_i2\" \"K00001\"\n",
      "/mnt/nfs/projects/armbrust-metat/gradients1/g1_station_ns_metat/assemblies/kofam/G1NS_kofam2021_ALL_intermediate.csv\n",
      "\"target_name\" \"query_name\"\n",
      "\"G1NS.S02C1_0_2um_TRINITY_DN1380440_c1_g1_i3_3\" \"K00001\"\n",
      "/mnt/nfs/projects/armbrust-metat/gradients1/g1_station_ns_metat/assemblies/kofam/G1NS.S09C1_3um.kofam2021.csv\n",
      "\"target_name\" \"query_name\"\n",
      "\"G1NS.S09C1_3um_TRINITY_DN1901358_c0_g2_i1_1\" \"K00001\"\n",
      "/mnt/nfs/projects/armbrust-metat/gradients1/g1_station_ns_metat/assemblies/kofam/G1NS.S14C1_3um.kofam2021.domtblout.tab\n",
      "/mnt/nfs/projects/armbrust-metat/gradients1/g1_station_ns_metat/assemblies/kofam/G1NS_kofam2021_ALL.csv\n",
      "/mnt/nfs/projects/armbrust-metat/gradients1/g1_station_ns_metat/assemblies/kofam/G1NS.S13C1_3um.kofam2021.csv\n",
      "\"target_name\" \"query_name\"\n",
      "\"G1NS.S13C1_3um_TRINITY_DN2716073_c0_g1_i1_1\" \"K00001\"\n",
      "/mnt/nfs/projects/armbrust-metat/gradients1/g1_station_ns_metat/assemblies/kofam/G1NS.S12C1_3um.kofam2021.domtblout.tab\n",
      "/mnt/nfs/projects/armbrust-metat/gradients1/g1_station_ns_metat/assemblies/kofam/G1NS.S02C1_0_2um.kofam2021.csv\n",
      "\"target_name\" \"query_name\"\n",
      "\"G1NS.S02C1_0_2um_TRINITY_DN1380440_c1_g1_i3_3\" \"K00001\"\n",
      "/mnt/nfs/projects/armbrust-metat/gradients1/g1_station_ns_metat/assemblies/kofam/G1NS.S14C1_0_2um.kofam2021.domtblout.tab\n",
      "/mnt/nfs/projects/armbrust-metat/gradients1/g1_station_ns_metat/assemblies/kofam/G1NS.S04C1_0_2um.kofam2021.csv\n",
      "\"target_name\" \"query_name\"\n",
      "\"G1NS.S04C1_0_2um_TRINITY_DN2051089_c0_g1_i6_1\" \"K00001\"\n",
      "/mnt/nfs/projects/armbrust-metat/gradients1/g1_station_ns_metat/assemblies/kofam/G1NS.S09C1_3um.kofam2021.domtblout.tab\n",
      "/mnt/nfs/projects/armbrust-metat/gradients1/g1_station_ns_metat/assemblies/kofam/G1NS.S14C1_0_2um.kofam2021.csv\n",
      "\"target_name\" \"query_name\"\n",
      "\"G1NS.S14C1_0_2um_TRINITY_DN1946418_c1_g1_i4_2\" \"K00001\"\n",
      "/mnt/nfs/projects/armbrust-metat/gradients1/g1_station_ns_metat/assemblies/kofam/G1NS.S12C1_0_2um.kofam2021.csv\n",
      "\"target_name\" \"query_name\"\n",
      "\"G1NS.S12C1_0_2um_TRINITY_DN1539461_c0_g1_i3_1\" \"K00001\"\n",
      "/mnt/nfs/projects/armbrust-metat/gradients1/g1_station_ns_metat/assemblies/kofam/G1NS.S02C1_0_2um.kofam2021.domtblout.tab\n",
      "/mnt/nfs/projects/armbrust-metat/gradients1/g1_station_pa_metat/assemblies/annotations/kofam/NPac.G1PA.bf100.id99.aa.best.Kofam.incT30.csv.gz\n",
      "/mnt/nfs/projects/armbrust-metat/gradients1/g1_station_pa_metat/assemblies/annotations/kofam/zenodo_trimming\n",
      "/mnt/nfs/projects/armbrust-metat/gradients1/g1_station_pa_metat/assemblies/annotations/kofam/NPac.G1PA.kofam.tsv.gz\n",
      "# gene\n",
      "# ---------\n",
      "G1PA_S09C1_3um_TRINITY_DN2064353_c0_g1_i1_1 K25796\n",
      "G1PA_S09C1_3um_TRINITY_DN2064353_c0_g1_i1_1 K11830\n",
      "/mnt/nfs/projects/armbrust-metat/gradients2/g2_dcm_rr_pa_metat/assemblies/kofam/G2_DCM_assembledReads.id99.kofam2021.domtblout.tab.gz\n",
      "/mnt/nfs/projects/armbrust-metat/gradients2/g2_station_pa_metat/assemblies/annotations/kofam/NPac.G2PA.kofam.tsv.gz\n",
      "# gene\n",
      "# ---------\n",
      "G2PA.S15C1.15m.0_2um_TRINITY_DN1196795_c0_g1_i1_2 K17710\n",
      "G2PA.S15C1.15m.0_2um_TRINITY_DN1196795_c0_g1_i1_2 K17964\n",
      "/mnt/nfs/projects/armbrust-metat/gradients2/g2_station_pa_metat/assemblies/annotations/kofam/NPac.G2PA.bf100.id99.aa.best.Kofam.incT30.csv.gz\n",
      "/mnt/nfs/projects/armbrust-metat/gradients2/g2_station_pa_metat/assemblies/annotations/kofam/zenodo_trimming\n",
      "/mnt/nfs/projects/armbrust-metat/gradients2/g2_station_ns_metat/assemblies/kofam/G2NS.S11C1.15m.0_2um.kofam2021.domtblout.tab\n",
      "/mnt/nfs/projects/armbrust-metat/gradients2/g2_station_ns_metat/assemblies/kofam/G2NS.S02C1.15m.0_2um.kofam2021.csv\n",
      "\"target_name\" \"query_name\"\n",
      "\"G2NS.S02C1.15m.0_2um_TRINITY_DN787130_c1_g3_i1_3\" \"K00001\"\n",
      "/mnt/nfs/projects/armbrust-metat/gradients2/g2_station_ns_metat/assemblies/kofam/G2NS.S16C1.15m.3um.kofam2021.csv\n",
      "\"target_name\" \"query_name\"\n",
      "\"G2NS.S16C1.15m.3um_TRINITY_DN755377_c0_g1_i1_2\" \"K00001\"\n",
      "/mnt/nfs/projects/armbrust-metat/gradients2/g2_station_ns_metat/assemblies/kofam/G2NS.S17C1.15m.0_2um.kofam2021.csv\n",
      "\"target_name\" \"query_name\"\n",
      "\"G2NS.S17C1.15m.0_2um_TRINITY_DN1082565_c5_g1_i1_1\" \"K00001\"\n",
      "/mnt/nfs/projects/armbrust-metat/gradients2/g2_station_ns_metat/assemblies/kofam/G2NS.S15C1.15m.0_2um.kofam2021.domtblout.tab\n",
      "/mnt/nfs/projects/armbrust-metat/gradients2/g2_station_ns_metat/assemblies/kofam/G2NS.S06C1.15m.3um.kofam2021.csv\n",
      "\"target_name\" \"query_name\"\n",
      "\"G2NS.S06C1.15m.3um_TRINITY_DN1779314_c0_g2_i3_1\" \"K00001\"\n",
      "/mnt/nfs/projects/armbrust-metat/gradients2/g2_station_ns_metat/assemblies/kofam/G2NS_kofam2021_ALL.csv\n",
      "/mnt/nfs/projects/armbrust-metat/gradients2/g2_station_ns_metat/assemblies/kofam/G2NS.S02C1.15m.3um.kofam2021.csv\n",
      "\"target_name\" \"query_name\"\n",
      "\"G2NS.S02C1.15m.3um_TRINITY_DN1934429_c1_g1_i5_2\" \"K00001\"\n",
      "/mnt/nfs/projects/armbrust-metat/gradients2/g2_station_ns_metat/assemblies/kofam/G2NS.S11C1.15m.0_2um.kofam2021.csv\n",
      "\"target_name\" \"query_name\"\n",
      "\"G2NS.S11C1.15m.0_2um_TRINITY_DN661033_c0_g1_i1_1\" \"K00001\"\n",
      "/mnt/nfs/projects/armbrust-metat/gradients2/g2_station_ns_metat/assemblies/kofam/G2NS.S05C1.15m.0_2um.kofam2021.domtblout.tab\n",
      "/mnt/nfs/projects/armbrust-metat/gradients2/g2_station_ns_metat/assemblies/kofam/G2NS.S07C1.15m.0_2um.kofam2021.csv\n",
      "\"target_name\" \"query_name\"\n",
      "\"G2NS.S07C1.15m.0_2um_TRINITY_DN1437183_c0_g1_i1_3\" \"K00001\"\n",
      "/mnt/nfs/projects/armbrust-metat/gradients2/g2_station_ns_metat/assemblies/kofam/G2NS.S09C1.15m.0_2um.kofam2021.domtblout.tab\n",
      "/mnt/nfs/projects/armbrust-metat/gradients2/g2_station_ns_metat/assemblies/kofam/G2NS.S09C1.15m.3um.kofam2021.csv\n",
      "\"target_name\" \"query_name\"\n",
      "\"G2NS.S09C1.15m.3um_TRINITY_DN1583463_c0_g1_i1\" \"K00001\"\n",
      "/mnt/nfs/projects/armbrust-metat/gradients2/g2_station_ns_metat/assemblies/kofam/G2NS.S18C1.15m.3um.kofam2021.domtblout.tab\n",
      "/mnt/nfs/projects/armbrust-metat/gradients2/g2_station_ns_metat/assemblies/kofam/G2NS.S18C1.15m.0_2um.kofam2021.csv\n",
      "\"target_name\" \"query_name\"\n",
      "\"G2NS.S18C1.15m.0_2um_TRINITY_DN1086381_c3_g1_i1_3\" \"K00001\"\n",
      "/mnt/nfs/projects/armbrust-metat/gradients2/g2_station_ns_metat/assemblies/kofam/G2NS.S06C1.15m.3um.kofam2021.domtblout.tab\n",
      "/mnt/nfs/projects/armbrust-metat/gradients2/g2_station_ns_metat/assemblies/kofam/G2NS.S05C1.15m.3um.kofam2021.domtblout.tab\n",
      "/mnt/nfs/projects/armbrust-metat/gradients2/g2_station_ns_metat/assemblies/kofam/G2NS.S17C1.15m.3um.kofam2021.domtblout.tab\n",
      "/mnt/nfs/projects/armbrust-metat/gradients2/g2_station_ns_metat/assemblies/kofam/G2NS.S05C1.15m.3um.kofam2021.csv\n",
      "\"target_name\" \"query_name\"\n",
      "\"G2NS.S05C1.15m.3um_TRINITY_DN2330803_c0_g1_i2_1\" \"K00001\"\n",
      "/mnt/nfs/projects/armbrust-metat/gradients2/g2_station_ns_metat/assemblies/kofam/G2NS.S15C1.15m.3um.kofam2021.csv\n",
      "\"target_name\" \"query_name\"\n",
      "\"G2NS.S15C1.15m.3um_TRINITY_DN247329_c0_g1_i1\" \"K00001\"\n",
      "/mnt/nfs/projects/armbrust-metat/gradients2/g2_station_ns_metat/assemblies/kofam/G2NS.S11C1.15m.3um.kofam2021.domtblout.tab\n",
      "/mnt/nfs/projects/armbrust-metat/gradients2/g2_station_ns_metat/assemblies/kofam/G2NS.S18C1.15m.0_2um.kofam2021.domtblout.tab\n",
      "/mnt/nfs/projects/armbrust-metat/gradients2/g2_station_ns_metat/assemblies/kofam/G2NS.S11C1.15m.3um.kofam2021.csv\n",
      "\"target_name\" \"query_name\"\n",
      "\"G2NS.S11C1.15m.3um_TRINITY_DN517582_c0_g1_i2\" \"K00001\"\n",
      "/mnt/nfs/projects/armbrust-metat/gradients2/g2_station_ns_metat/assemblies/kofam/G2NS.S09C1.15m.3um.kofam2021.domtblout.tab\n",
      "/mnt/nfs/projects/armbrust-metat/gradients2/g2_station_ns_metat/assemblies/kofam/G2NS.S02C1.15m.0_2um.kofam2021.domtblout.tab\n",
      "/mnt/nfs/projects/armbrust-metat/gradients2/g2_station_ns_metat/assemblies/kofam/G2NS.S16C1.15m.0_2um.kofam2021.csv\n",
      "\"target_name\" \"query_name\"\n",
      "\"G2NS.S16C1.15m.0_2um_TRINITY_DN711274_c0_g1_i9_3\" \"K00001\"\n",
      "/mnt/nfs/projects/armbrust-metat/gradients2/g2_station_ns_metat/assemblies/kofam/G2NS.S06C1.15m.0_2um.kofam2021.domtblout.tab\n",
      "/mnt/nfs/projects/armbrust-metat/gradients2/g2_station_ns_metat/assemblies/kofam/G2NS.S15C1.15m.0_2um.kofam2021.csv\n",
      "\"target_name\" \"query_name\"\n",
      "\"G2NS.S15C1.15m.0_2um_TRINITY_DN1262137_c10_g1_i1_2\" \"K00001\"\n",
      "/mnt/nfs/projects/armbrust-metat/gradients2/g2_station_ns_metat/assemblies/kofam/G2NS.S16C1.15m.0_2um.kofam2021.domtblout.tab\n",
      "/mnt/nfs/projects/armbrust-metat/gradients2/g2_station_ns_metat/assemblies/kofam/G2NS.S07C1.15m.3um.kofam2021.csv\n",
      "\"target_name\" \"query_name\"\n",
      "\"G2NS.S07C1.15m.3um_TRINITY_DN1778923_c0_g2_i1_1\" \"K00001\"\n",
      "/mnt/nfs/projects/armbrust-metat/gradients2/g2_station_ns_metat/assemblies/kofam/G2NS.S05C1.15m.0_2um.kofam2021.csv\n",
      "\"target_name\" \"query_name\"\n",
      "\"G2NS.S05C1.15m.0_2um_TRINITY_DN1115082_c3_g1_i1_3\" \"K00001\"\n",
      "/mnt/nfs/projects/armbrust-metat/gradients2/g2_station_ns_metat/assemblies/kofam/G2NS.S17C1.15m.3um.kofam2021.csv\n",
      "\"target_name\" \"query_name\"\n",
      "\"G2NS.S17C1.15m.3um_TRINITY_DN1558397_c0_g1_i3_2\" \"K00001\"\n",
      "/mnt/nfs/projects/armbrust-metat/gradients2/g2_station_ns_metat/assemblies/kofam/G2NS.S06C1.15m.0_2um.kofam2021.csv\n",
      "\"target_name\" \"query_name\"\n",
      "\"G2NS.S06C1.15m.0_2um_TRINITY_DN1605486_c2_g1_i1_2\" \"K00001\"\n",
      "/mnt/nfs/projects/armbrust-metat/gradients2/g2_station_ns_metat/assemblies/kofam/G2NS.S02C1.15m.3um.kofam2021.domtblout.tab\n",
      "/mnt/nfs/projects/armbrust-metat/gradients2/g2_station_ns_metat/assemblies/kofam/G2NS.S17C1.15m.0_2um.kofam2021.domtblout.tab\n",
      "/mnt/nfs/projects/armbrust-metat/gradients2/g2_station_ns_metat/assemblies/kofam/G2NS.S07C1.15m.3um.kofam2021.domtblout.tab\n",
      "/mnt/nfs/projects/armbrust-metat/gradients2/g2_station_ns_metat/assemblies/kofam/G2NS.S15C1.15m.3um.kofam2021.domtblout.tab\n",
      "/mnt/nfs/projects/armbrust-metat/gradients2/g2_station_ns_metat/assemblies/kofam/G2NS.S18C1.15m.3um.kofam2021.csv\n",
      "\"target_name\" \"query_name\"\n",
      "\"G2NS.S18C1.15m.3um_TRINITY_DN1626498_c0_g1_i1_3\" \"K00001\"\n",
      "/mnt/nfs/projects/armbrust-metat/gradients2/g2_station_ns_metat/assemblies/kofam/G2NS.S16C1.15m.3um.kofam2021.domtblout.tab\n",
      "/mnt/nfs/projects/armbrust-metat/gradients2/g2_station_ns_metat/assemblies/kofam/G2NS.S07C1.15m.0_2um.kofam2021.domtblout.tab\n",
      "/mnt/nfs/projects/armbrust-metat/gradients2/g2_station_ns_metat/assemblies/kofam/G2NS_kofam2021_ALL_intermediate.csv\n",
      "\"target_name\" \"query_name\"\n",
      "\"G2NS.S02C1.15m.0_2um_TRINITY_DN787130_c1_g3_i1_3\" \"K00001\"\n",
      "/mnt/nfs/projects/armbrust-metat/gradients2/g2_station_ns_metat/assemblies/kofam/G2NS.S09C1.15m.0_2um.kofam2021.csv\n",
      "\"target_name\" \"query_name\"\n",
      "\"G2NS.S09C1.15m.0_2um_TRINITY_DN1547651_c0_g1_i1_1\" \"K00001\"\n",
      "/mnt/nfs/projects/armbrust-metat/scope_diel/diel_pa_metat/assemblies/annotations/kofam/zenodo_trimming\n",
      "/mnt/nfs/projects/armbrust-metat/scope_diel/diel_pa_metat/assemblies/annotations/kofam/NPac.D1PA.diel.bf100.id99.aa.best.kofam.incT30.csv.gz\n",
      "/mnt/nfs/projects/armbrust-metat/scope_diel/diel_pa_metat/assemblies/annotations/kofam/NPac.D1PA.kofam.tsv.gz\n",
      "# gene\n",
      "# ---------\n",
      "D1PA_S30C1_TRINITY_DN1728441_c1_g1_i3_2 K12478\n",
      "D1PA_S30C1_TRINITY_DN1728441_c1_g1_i3_2 K13582\n"
     ]
    }
   ],
   "source": [
    "for d in grad_kofam_dirnames:\n",
    "    fns = os.listdir(gradients_dir + '/' + d)\n",
    "    for fn in fns:\n",
    "        fn_full = gradients_dir + '/' + d + '/' + fn\n",
    "        print(fn_full)\n",
    "        fspl, ext = os.path.splitext(fn)\n",
    "        ext2 = os.path.splitext(fspl)[1]\n",
    "        if ext == '.csv' and not re.match(r\"\\w+_ALL$\", fspl):\n",
    "            # print(sum(1 for _ in open(fn_full)))\n",
    "            with open(fn_full, 'r') as f:\n",
    "                line = f.readline()\n",
    "                l = line.split(',')\n",
    "                print(l[1],l[4])\n",
    "                line = f.readline()\n",
    "                l = line.split(',')\n",
    "                print(l[1],l[4])\n",
    "        elif ext == '.gz' and ext2 == '.tsv':\n",
    "            # print(sum(1 for _ in gzip.open(fn_full)))\n",
    "            with gzip.open(fn_full, 'rt') as f:\n",
    "                for _ in range(4):\n",
    "                    line = f.readline()\n",
    "                    l = re.split(r'\\s', line)\n",
    "                    l = list(filter(None, l))\n",
    "                    print(l[0],l[1])\n",
    "\n",
    "\n"
   ]
  },
  {
   "cell_type": "markdown",
   "metadata": {},
   "source": [
    "Test speed"
   ]
  },
  {
   "cell_type": "code",
   "execution_count": 249,
   "metadata": {},
   "outputs": [
    {
     "name": "stdout",
     "output_type": "stream",
     "text": [
      "/mnt/nfs/projects/armbrust-metat/gradients3/g3_uw_pa_pm_metat/assemblies/annotations/kofam/NPac.G3PA_PM.bf100.id99.aa.best.kofam.incT30.csv.gz\n",
      "/mnt/nfs/projects/armbrust-metat/gradients3/g3_uw_pa_pm_metat/assemblies/annotations/kofam/NPac.G3PA_PM.bf100.id99.aa.tsv.gz\n",
      "3.2880306243896485e-06\n",
      "/mnt/nfs/projects/armbrust-metat/gradients3/g3_uw_pa_metat/assemblies/annotations/kofam/zenodo_trimming\n",
      "/mnt/nfs/projects/armbrust-metat/gradients3/g3_uw_pa_metat/assemblies/annotations/kofam/NPac.G3PA.kofam.tsv.gz\n",
      "6.644725799560547e-06\n",
      "/mnt/nfs/projects/armbrust-metat/gradients3/g3_uw_pa_metat/assemblies/annotations/kofam/NPac.G3PA.UW.bf100.id99.aa.best.Kofam.incT30.csv.gz\n",
      "/mnt/nfs/projects/armbrust-metat/gradients3/g3_diel_pa_metat/assemblies/annotations/kofam/NPac.G3PA.diel.bf100.id99.aa.best.kofam.incT30.csv.gz\n",
      "/mnt/nfs/projects/armbrust-metat/gradients3/g3_diel_pa_metat/assemblies/annotations/kofam/zenodo_trimming\n",
      "/mnt/nfs/projects/armbrust-metat/gradients3/g3_diel_pa_metat/assemblies/annotations/kofam/NPac.G3PA_diel.kofam.tsv.gz\n",
      "3.405570983886719e-06\n",
      "/mnt/nfs/projects/armbrust-metat/gradients3/g3_uw_ns_metat/assemblies/kofam/G3.UW.NS.UW35_2.7m.3um.kofam2021.domtblout.tab\n",
      "/mnt/nfs/projects/armbrust-metat/gradients3/g3_uw_ns_metat/assemblies/kofam/G3.UW.NS.UW37_1.7m.3um.kofam2021.csv\n",
      "9.410381317138672e-07\n",
      "/mnt/nfs/projects/armbrust-metat/gradients3/g3_uw_ns_metat/assemblies/kofam/G3.UW.NS.UW40_2.7m.3um.kofam2021.csv\n",
      "9.255409240722657e-07\n",
      "/mnt/nfs/projects/armbrust-metat/gradients3/g3_uw_ns_metat/assemblies/kofam/G3.UW.NS.UW32_1.7m.0_2um.kofam2021.domtblout.tab\n",
      "/mnt/nfs/projects/armbrust-metat/gradients3/g3_uw_ns_metat/assemblies/kofam/G3.UW.NS.UW25_1.7m.3um.kofam2021.domtblout.tab\n",
      "/mnt/nfs/projects/armbrust-metat/gradients3/g3_uw_ns_metat/assemblies/kofam/G3.UW.NS.UW32_1.7m.3um.kofam2021.domtblout.tab\n",
      "/mnt/nfs/projects/armbrust-metat/gradients3/g3_uw_ns_metat/assemblies/kofam/G3.UW.NS.UW31_2.7m.3um.kofam2021.domtblout.tab\n",
      "/mnt/nfs/projects/armbrust-metat/gradients3/g3_uw_ns_metat/assemblies/kofam/G3.UW.NS.UW29_1.7m.0_2um.kofam2021.csv\n",
      "9.248256683349609e-07\n",
      "/mnt/nfs/projects/armbrust-metat/gradients3/g3_uw_ns_metat/assemblies/kofam/G3.UW.NS.UW35_1.7m.0_2um.kofam2021.domtblout.tab\n",
      "/mnt/nfs/projects/armbrust-metat/gradients3/g3_uw_ns_metat/assemblies/kofam/G3NS_kofam2021_ALL.csv\n",
      "/mnt/nfs/projects/armbrust-metat/gradients3/g3_uw_ns_metat/assemblies/kofam/G3.UW.NS.UW40_2.7m.0_2um.kofam2021.csv\n",
      "9.257793426513672e-07\n",
      "/mnt/nfs/projects/armbrust-metat/gradients3/g3_uw_ns_metat/assemblies/kofam/G3.UW.NS.UW38_1.7m.0_2um.kofam2021.domtblout.tab\n",
      "/mnt/nfs/projects/armbrust-metat/gradients3/g3_uw_ns_metat/assemblies/kofam/G3.UW.NS.UW31_2.7m.3um.kofam2021.csv\n",
      "9.353160858154297e-07\n",
      "/mnt/nfs/projects/armbrust-metat/gradients3/g3_uw_ns_metat/assemblies/kofam/G3.UW.NS.UW32_3.7m.3um.kofam2021.csv\n",
      "9.109973907470704e-07\n",
      "/mnt/nfs/projects/armbrust-metat/gradients3/g3_uw_ns_metat/assemblies/kofam/G3.UW.NS.UW25_1.7m.0_2um.kofam2021.domtblout.tab\n",
      "/mnt/nfs/projects/armbrust-metat/gradients3/g3_uw_ns_metat/assemblies/kofam/G3.UW.NS.UW40_1.7m.3um.kofam2021.domtblout.tab\n",
      "/mnt/nfs/projects/armbrust-metat/gradients3/g3_uw_ns_metat/assemblies/kofam/G3.UW.NS.UW25_1.7m.0_2um.kofam2021.csv\n",
      "9.214878082275391e-07\n",
      "/mnt/nfs/projects/armbrust-metat/gradients3/g3_uw_ns_metat/assemblies/kofam/G3.UW.NS.UW40_1.7m.0_2um.kofam2021.domtblout.tab\n",
      "/mnt/nfs/projects/armbrust-metat/gradients3/g3_uw_ns_metat/assemblies/kofam/G3.UW.NS.UW37_1.7m.3um.kofam2021.domtblout.tab\n",
      "/mnt/nfs/projects/armbrust-metat/gradients3/g3_uw_ns_metat/assemblies/kofam/G3.UW.NS.UW40_1.7m.0_2um.kofam2021.csv\n",
      "1.338958740234375e-06\n",
      "/mnt/nfs/projects/armbrust-metat/gradients3/g3_uw_ns_metat/assemblies/kofam/G3.UW.NS.UW29_1.7m.3um.kofam2021.csv\n",
      "1.4181137084960938e-06\n",
      "/mnt/nfs/projects/armbrust-metat/gradients3/g3_uw_ns_metat/assemblies/kofam/G3.UW.NS.UW35_1.7m.3um.kofam2021.csv\n",
      "1.3968944549560547e-06\n",
      "/mnt/nfs/projects/armbrust-metat/gradients3/g3_uw_ns_metat/assemblies/kofam/G3.UW.NS.UW29_1.7m.3um.kofam2021.domtblout.tab\n",
      "/mnt/nfs/projects/armbrust-metat/gradients3/g3_uw_ns_metat/assemblies/kofam/G3.UW.NS.UW35_2.7m.0_2um.kofam2021.domtblout.tab\n",
      "/mnt/nfs/projects/armbrust-metat/gradients3/g3_uw_ns_metat/assemblies/kofam/G3.UW.NS.UW29_1.7m.0_2um.kofam2021.domtblout.tab\n",
      "/mnt/nfs/projects/armbrust-metat/gradients3/g3_uw_ns_metat/assemblies/kofam/G3.UW.NS.UW38_1.7m.3um.kofam2021.domtblout.tab\n",
      "/mnt/nfs/projects/armbrust-metat/gradients3/g3_uw_ns_metat/assemblies/kofam/G3.UW.NS.UW35_1.7m.3um.kofam2021.domtblout.tab\n",
      "/mnt/nfs/projects/armbrust-metat/gradients3/g3_uw_ns_metat/assemblies/kofam/G3.UW.NS.UW35_2.7m.3um.kofam2021.csv\n",
      "1.0623931884765626e-06\n",
      "/mnt/nfs/projects/armbrust-metat/gradients3/g3_uw_ns_metat/assemblies/kofam/G3.UW.NS.UW35_2.7m.0_2um.kofam2021.csv\n",
      "9.343624114990234e-07\n",
      "/mnt/nfs/projects/armbrust-metat/gradients3/g3_uw_ns_metat/assemblies/kofam/G3NS_kofam2021_ALL_intermediate.csv\n",
      "9.214878082275391e-07\n",
      "/mnt/nfs/projects/armbrust-metat/gradients3/g3_uw_ns_metat/assemblies/kofam/G3.UW.NS.UW32_3.7m.0_2um.kofam2021.csv\n",
      "9.388923645019532e-07\n",
      "/mnt/nfs/projects/armbrust-metat/gradients3/g3_uw_ns_metat/assemblies/kofam/G3.UW.NS.UW38_1.7m.0_2um.kofam2021.csv\n",
      "9.238719940185547e-07\n",
      "/mnt/nfs/projects/armbrust-metat/gradients3/g3_uw_ns_metat/assemblies/kofam/G3.UW.NS.UW40_2.7m.3um.kofam2021.domtblout.tab\n",
      "/mnt/nfs/projects/armbrust-metat/gradients3/g3_uw_ns_metat/assemblies/kofam/G3.UW.NS.UW32_1.7m.0_2um.kofam2021.csv\n",
      "1.0037422180175781e-06\n",
      "/mnt/nfs/projects/armbrust-metat/gradients3/g3_uw_ns_metat/assemblies/kofam/G3.UW.NS.UW25_1.7m.3um.kofam2021.csv\n",
      "1.4238357543945313e-06\n",
      "/mnt/nfs/projects/armbrust-metat/gradients3/g3_uw_ns_metat/assemblies/kofam/G3.UW.NS.UW40_2.7m.0_2um.kofam2021.domtblout.tab\n",
      "/mnt/nfs/projects/armbrust-metat/gradients3/g3_uw_ns_metat/assemblies/kofam/G3.UW.NS.UW40_1.7m.3um.kofam2021.csv\n",
      "1.4219284057617188e-06\n",
      "/mnt/nfs/projects/armbrust-metat/gradients3/g3_uw_ns_metat/assemblies/kofam/G3.UW.NS.UW32_1.7m.3um.kofam2021.csv\n",
      "1.4054775238037108e-06\n",
      "/mnt/nfs/projects/armbrust-metat/gradients3/g3_uw_ns_metat/assemblies/kofam/G3.UW.NS.UW37_1.7m.0_2um.kofam2021.domtblout.tab\n",
      "/mnt/nfs/projects/armbrust-metat/gradients3/g3_uw_ns_metat/assemblies/kofam/G3.UW.NS.UW35_1.7m.0_2um.kofam2021.csv\n",
      "1.0325908660888673e-06\n",
      "/mnt/nfs/projects/armbrust-metat/gradients3/g3_uw_ns_metat/assemblies/kofam/G3.UW.NS.UW38_1.7m.3um.kofam2021.csv\n",
      "9.255409240722657e-07\n",
      "/mnt/nfs/projects/armbrust-metat/gradients3/g3_uw_ns_metat/assemblies/kofam/G3.UW.NS.UW32_3.7m.3um.kofam2021.domtblout.tab\n",
      "/mnt/nfs/projects/armbrust-metat/gradients3/g3_uw_ns_metat/assemblies/kofam/G3.UW.NS.UW32_3.7m.0_2um.kofam2021.domtblout.tab\n",
      "/mnt/nfs/projects/armbrust-metat/gradients3/g3_uw_ns_metat/assemblies/kofam/G3.UW.NS.UW37_1.7m.0_2um.kofam2021.csv\n",
      "9.288787841796875e-07\n",
      "/mnt/nfs/projects/armbrust-metat/gradients1/g1_station_ns_metat/assemblies/kofam/G1NS.S11C1_3um.kofam2021.domtblout.tab\n",
      "/mnt/nfs/projects/armbrust-metat/gradients1/g1_station_ns_metat/assemblies/kofam/G1NS.S11C1_0_2um.kofam2021.csv\n",
      "9.19342041015625e-07\n",
      "/mnt/nfs/projects/armbrust-metat/gradients1/g1_station_ns_metat/assemblies/kofam/G1NS.S09C1_0_2um.kofam2021.domtblout.tab\n",
      "/mnt/nfs/projects/armbrust-metat/gradients1/g1_station_ns_metat/assemblies/kofam/G1NS.S06C1_3um.kofam2021.domtblout.tab\n",
      "/mnt/nfs/projects/armbrust-metat/gradients1/g1_station_ns_metat/assemblies/kofam/G1NS.S11C1_3um.kofam2021.csv\n",
      "1.3110637664794921e-06\n",
      "/mnt/nfs/projects/armbrust-metat/gradients1/g1_station_ns_metat/assemblies/kofam/G1NS.S02C1_3um.kofam2021.csv\n",
      "1.3859272003173827e-06\n",
      "/mnt/nfs/projects/armbrust-metat/gradients1/g1_station_ns_metat/assemblies/kofam/G1NS.S08C1_0_2um.kofam2021.domtblout.tab\n",
      "/mnt/nfs/projects/armbrust-metat/gradients1/g1_station_ns_metat/assemblies/kofam/G1NS.S10_0_2um.kofam2021.domtblout.tab\n",
      "/mnt/nfs/projects/armbrust-metat/gradients1/g1_station_ns_metat/assemblies/kofam/G1NS.S10_0_2um.kofam2021.csv\n",
      "1.3642311096191407e-06\n",
      "/mnt/nfs/projects/armbrust-metat/gradients1/g1_station_ns_metat/assemblies/kofam/G1NS.S06C1_0_2um.kofam2021.csv\n",
      "1.3439655303955077e-06\n",
      "/mnt/nfs/projects/armbrust-metat/gradients1/g1_station_ns_metat/assemblies/kofam/G1NS.S06C1_3um.kofam2021.csv\n",
      "8.890628814697266e-07\n",
      "/mnt/nfs/projects/armbrust-metat/gradients1/g1_station_ns_metat/assemblies/kofam/G1NS.S12C1_3um.kofam2021.csv\n",
      "9.112358093261719e-07\n",
      "/mnt/nfs/projects/armbrust-metat/gradients1/g1_station_ns_metat/assemblies/kofam/G1NS.S08C1_3um.kofam2021.csv\n",
      "9.026527404785156e-07\n",
      "/mnt/nfs/projects/armbrust-metat/gradients1/g1_station_ns_metat/assemblies/kofam/G1NS.S06C1_0_2um.kofam2021.domtblout.tab\n",
      "/mnt/nfs/projects/armbrust-metat/gradients1/g1_station_ns_metat/assemblies/kofam/G1NS.S09C1_0_2um.kofam2021.csv\n",
      "9.121894836425781e-07\n",
      "/mnt/nfs/projects/armbrust-metat/gradients1/g1_station_ns_metat/assemblies/kofam/G1NS.S04C1_3um.kofam2021.csv\n",
      "1.3151168823242188e-06\n",
      "/mnt/nfs/projects/armbrust-metat/gradients1/g1_station_ns_metat/assemblies/kofam/G1NS.S13C1_0_2um.kofam2021.domtblout.tab\n",
      "/mnt/nfs/projects/armbrust-metat/gradients1/g1_station_ns_metat/assemblies/kofam/G1NS.S13C1_3um.kofam2021.domtblout.tab\n",
      "/mnt/nfs/projects/armbrust-metat/gradients1/g1_station_ns_metat/assemblies/kofam/G1NS.S12C1_0_2um.kofam2021.domtblout.tab\n",
      "/mnt/nfs/projects/armbrust-metat/gradients1/g1_station_ns_metat/assemblies/kofam/G1NS.S08C1_3um.kofam2021.domtblout.tab\n",
      "/mnt/nfs/projects/armbrust-metat/gradients1/g1_station_ns_metat/assemblies/kofam/G1NS.S13C1_0_2um.kofam2021.csv\n",
      "1.4145374298095703e-06\n",
      "/mnt/nfs/projects/armbrust-metat/gradients1/g1_station_ns_metat/assemblies/kofam/G1NS.S04C1_3um.kofam2021.domtblout.tab\n",
      "/mnt/nfs/projects/armbrust-metat/gradients1/g1_station_ns_metat/assemblies/kofam/G1NS.S02C1_3um.kofam2021.domtblout.tab\n",
      "/mnt/nfs/projects/armbrust-metat/gradients1/g1_station_ns_metat/assemblies/kofam/G1NS.S11C1_0_2um.kofam2021.domtblout.tab\n",
      "/mnt/nfs/projects/armbrust-metat/gradients1/g1_station_ns_metat/assemblies/kofam/G1NS.S04C1_0_2um.kofam2021.domtblout.tab\n",
      "/mnt/nfs/projects/armbrust-metat/gradients1/g1_station_ns_metat/assemblies/kofam/G1NS.S08C1_0_2um.kofam2021.csv\n",
      "1.386880874633789e-06\n",
      "/mnt/nfs/projects/armbrust-metat/gradients1/g1_station_ns_metat/assemblies/kofam/G1NS.S14C1_3um.kofam2021.csv\n",
      "1.051187515258789e-06\n",
      "/mnt/nfs/projects/armbrust-metat/gradients1/g1_station_ns_metat/assemblies/kofam/G1NS_kofam2021_ALL_intermediate.csv\n",
      "8.957386016845703e-07\n",
      "/mnt/nfs/projects/armbrust-metat/gradients1/g1_station_ns_metat/assemblies/kofam/G1NS.S09C1_3um.kofam2021.csv\n",
      "9.241104125976562e-07\n",
      "/mnt/nfs/projects/armbrust-metat/gradients1/g1_station_ns_metat/assemblies/kofam/G1NS.S14C1_3um.kofam2021.domtblout.tab\n",
      "/mnt/nfs/projects/armbrust-metat/gradients1/g1_station_ns_metat/assemblies/kofam/G1NS_kofam2021_ALL.csv\n",
      "/mnt/nfs/projects/armbrust-metat/gradients1/g1_station_ns_metat/assemblies/kofam/G1NS.S13C1_3um.kofam2021.csv\n",
      "8.976459503173828e-07\n",
      "/mnt/nfs/projects/armbrust-metat/gradients1/g1_station_ns_metat/assemblies/kofam/G1NS.S12C1_3um.kofam2021.domtblout.tab\n",
      "/mnt/nfs/projects/armbrust-metat/gradients1/g1_station_ns_metat/assemblies/kofam/G1NS.S02C1_0_2um.kofam2021.csv\n",
      "9.109973907470704e-07\n",
      "/mnt/nfs/projects/armbrust-metat/gradients1/g1_station_ns_metat/assemblies/kofam/G1NS.S14C1_0_2um.kofam2021.domtblout.tab\n",
      "/mnt/nfs/projects/armbrust-metat/gradients1/g1_station_ns_metat/assemblies/kofam/G1NS.S04C1_0_2um.kofam2021.csv\n",
      "9.057521820068359e-07\n",
      "/mnt/nfs/projects/armbrust-metat/gradients1/g1_station_ns_metat/assemblies/kofam/G1NS.S09C1_3um.kofam2021.domtblout.tab\n",
      "/mnt/nfs/projects/armbrust-metat/gradients1/g1_station_ns_metat/assemblies/kofam/G1NS.S14C1_0_2um.kofam2021.csv\n",
      "9.098052978515625e-07\n",
      "/mnt/nfs/projects/armbrust-metat/gradients1/g1_station_ns_metat/assemblies/kofam/G1NS.S12C1_0_2um.kofam2021.csv\n",
      "9.059906005859375e-07\n",
      "/mnt/nfs/projects/armbrust-metat/gradients1/g1_station_ns_metat/assemblies/kofam/G1NS.S02C1_0_2um.kofam2021.domtblout.tab\n",
      "/mnt/nfs/projects/armbrust-metat/gradients1/g1_station_pa_metat/assemblies/annotations/kofam/NPac.G1PA.bf100.id99.aa.best.Kofam.incT30.csv.gz\n",
      "/mnt/nfs/projects/armbrust-metat/gradients1/g1_station_pa_metat/assemblies/annotations/kofam/zenodo_trimming\n",
      "/mnt/nfs/projects/armbrust-metat/gradients1/g1_station_pa_metat/assemblies/annotations/kofam/NPac.G1PA.kofam.tsv.gz\n",
      "3.207683563232422e-06\n",
      "/mnt/nfs/projects/armbrust-metat/gradients2/g2_dcm_rr_pa_metat/assemblies/kofam/G2_DCM_assembledReads.id99.kofam2021.domtblout.tab.gz\n",
      "/mnt/nfs/projects/armbrust-metat/gradients2/g2_station_pa_metat/assemblies/annotations/kofam/NPac.G2PA.kofam.tsv.gz\n",
      "4.998445510864258e-06\n",
      "/mnt/nfs/projects/armbrust-metat/gradients2/g2_station_pa_metat/assemblies/annotations/kofam/NPac.G2PA.bf100.id99.aa.best.Kofam.incT30.csv.gz\n",
      "/mnt/nfs/projects/armbrust-metat/gradients2/g2_station_pa_metat/assemblies/annotations/kofam/zenodo_trimming\n",
      "/mnt/nfs/projects/armbrust-metat/gradients2/g2_station_ns_metat/assemblies/kofam/G2NS.S11C1.15m.0_2um.kofam2021.domtblout.tab\n",
      "/mnt/nfs/projects/armbrust-metat/gradients2/g2_station_ns_metat/assemblies/kofam/G2NS.S02C1.15m.0_2um.kofam2021.csv\n",
      "9.000301361083984e-07\n",
      "/mnt/nfs/projects/armbrust-metat/gradients2/g2_station_ns_metat/assemblies/kofam/G2NS.S16C1.15m.3um.kofam2021.csv\n",
      "9.007453918457031e-07\n",
      "/mnt/nfs/projects/armbrust-metat/gradients2/g2_station_ns_metat/assemblies/kofam/G2NS.S17C1.15m.0_2um.kofam2021.csv\n",
      "9.009838104248047e-07\n",
      "/mnt/nfs/projects/armbrust-metat/gradients2/g2_station_ns_metat/assemblies/kofam/G2NS.S15C1.15m.0_2um.kofam2021.domtblout.tab\n",
      "/mnt/nfs/projects/armbrust-metat/gradients2/g2_station_ns_metat/assemblies/kofam/G2NS.S06C1.15m.3um.kofam2021.csv\n",
      "8.9263916015625e-07\n",
      "/mnt/nfs/projects/armbrust-metat/gradients2/g2_station_ns_metat/assemblies/kofam/G2NS_kofam2021_ALL.csv\n",
      "/mnt/nfs/projects/armbrust-metat/gradients2/g2_station_ns_metat/assemblies/kofam/G2NS.S02C1.15m.3um.kofam2021.csv\n",
      "1.096010208129883e-06\n",
      "/mnt/nfs/projects/armbrust-metat/gradients2/g2_station_ns_metat/assemblies/kofam/G2NS.S11C1.15m.0_2um.kofam2021.csv\n",
      "1.369476318359375e-06\n",
      "/mnt/nfs/projects/armbrust-metat/gradients2/g2_station_ns_metat/assemblies/kofam/G2NS.S05C1.15m.0_2um.kofam2021.domtblout.tab\n",
      "/mnt/nfs/projects/armbrust-metat/gradients2/g2_station_ns_metat/assemblies/kofam/G2NS.S07C1.15m.0_2um.kofam2021.csv\n",
      "1.379251480102539e-06\n",
      "/mnt/nfs/projects/armbrust-metat/gradients2/g2_station_ns_metat/assemblies/kofam/G2NS.S09C1.15m.0_2um.kofam2021.domtblout.tab\n",
      "/mnt/nfs/projects/armbrust-metat/gradients2/g2_station_ns_metat/assemblies/kofam/G2NS.S09C1.15m.3um.kofam2021.csv\n",
      "1.2748241424560548e-06\n",
      "/mnt/nfs/projects/armbrust-metat/gradients2/g2_station_ns_metat/assemblies/kofam/G2NS.S18C1.15m.3um.kofam2021.domtblout.tab\n",
      "/mnt/nfs/projects/armbrust-metat/gradients2/g2_station_ns_metat/assemblies/kofam/G2NS.S18C1.15m.0_2um.kofam2021.csv\n",
      "9.012222290039062e-07\n",
      "/mnt/nfs/projects/armbrust-metat/gradients2/g2_station_ns_metat/assemblies/kofam/G2NS.S06C1.15m.3um.kofam2021.domtblout.tab\n",
      "/mnt/nfs/projects/armbrust-metat/gradients2/g2_station_ns_metat/assemblies/kofam/G2NS.S05C1.15m.3um.kofam2021.domtblout.tab\n",
      "/mnt/nfs/projects/armbrust-metat/gradients2/g2_station_ns_metat/assemblies/kofam/G2NS.S17C1.15m.3um.kofam2021.domtblout.tab\n",
      "/mnt/nfs/projects/armbrust-metat/gradients2/g2_station_ns_metat/assemblies/kofam/G2NS.S05C1.15m.3um.kofam2021.csv\n",
      "9.000301361083984e-07\n",
      "/mnt/nfs/projects/armbrust-metat/gradients2/g2_station_ns_metat/assemblies/kofam/G2NS.S15C1.15m.3um.kofam2021.csv\n",
      "8.807182312011719e-07\n",
      "/mnt/nfs/projects/armbrust-metat/gradients2/g2_station_ns_metat/assemblies/kofam/G2NS.S11C1.15m.3um.kofam2021.domtblout.tab\n",
      "/mnt/nfs/projects/armbrust-metat/gradients2/g2_station_ns_metat/assemblies/kofam/G2NS.S18C1.15m.0_2um.kofam2021.domtblout.tab\n",
      "/mnt/nfs/projects/armbrust-metat/gradients2/g2_station_ns_metat/assemblies/kofam/G2NS.S11C1.15m.3um.kofam2021.csv\n",
      "8.947849273681641e-07\n",
      "/mnt/nfs/projects/armbrust-metat/gradients2/g2_station_ns_metat/assemblies/kofam/G2NS.S09C1.15m.3um.kofam2021.domtblout.tab\n",
      "/mnt/nfs/projects/armbrust-metat/gradients2/g2_station_ns_metat/assemblies/kofam/G2NS.S02C1.15m.0_2um.kofam2021.domtblout.tab\n",
      "/mnt/nfs/projects/armbrust-metat/gradients2/g2_station_ns_metat/assemblies/kofam/G2NS.S16C1.15m.0_2um.kofam2021.csv\n",
      "1.3189315795898438e-06\n",
      "/mnt/nfs/projects/armbrust-metat/gradients2/g2_station_ns_metat/assemblies/kofam/G2NS.S06C1.15m.0_2um.kofam2021.domtblout.tab\n",
      "/mnt/nfs/projects/armbrust-metat/gradients2/g2_station_ns_metat/assemblies/kofam/G2NS.S15C1.15m.0_2um.kofam2021.csv\n",
      "1.3794898986816405e-06\n",
      "/mnt/nfs/projects/armbrust-metat/gradients2/g2_station_ns_metat/assemblies/kofam/G2NS.S16C1.15m.0_2um.kofam2021.domtblout.tab\n",
      "/mnt/nfs/projects/armbrust-metat/gradients2/g2_station_ns_metat/assemblies/kofam/G2NS.S07C1.15m.3um.kofam2021.csv\n",
      "1.3992786407470703e-06\n",
      "/mnt/nfs/projects/armbrust-metat/gradients2/g2_station_ns_metat/assemblies/kofam/G2NS.S05C1.15m.0_2um.kofam2021.csv\n",
      "1.0552406311035157e-06\n",
      "/mnt/nfs/projects/armbrust-metat/gradients2/g2_station_ns_metat/assemblies/kofam/G2NS.S17C1.15m.3um.kofam2021.csv\n",
      "8.957386016845703e-07\n",
      "/mnt/nfs/projects/armbrust-metat/gradients2/g2_station_ns_metat/assemblies/kofam/G2NS.S06C1.15m.0_2um.kofam2021.csv\n",
      "9.019374847412109e-07\n",
      "/mnt/nfs/projects/armbrust-metat/gradients2/g2_station_ns_metat/assemblies/kofam/G2NS.S02C1.15m.3um.kofam2021.domtblout.tab\n",
      "/mnt/nfs/projects/armbrust-metat/gradients2/g2_station_ns_metat/assemblies/kofam/G2NS.S17C1.15m.0_2um.kofam2021.domtblout.tab\n",
      "/mnt/nfs/projects/armbrust-metat/gradients2/g2_station_ns_metat/assemblies/kofam/G2NS.S07C1.15m.3um.kofam2021.domtblout.tab\n",
      "/mnt/nfs/projects/armbrust-metat/gradients2/g2_station_ns_metat/assemblies/kofam/G2NS.S15C1.15m.3um.kofam2021.domtblout.tab\n",
      "/mnt/nfs/projects/armbrust-metat/gradients2/g2_station_ns_metat/assemblies/kofam/G2NS.S18C1.15m.3um.kofam2021.csv\n",
      "8.945465087890624e-07\n",
      "/mnt/nfs/projects/armbrust-metat/gradients2/g2_station_ns_metat/assemblies/kofam/G2NS.S16C1.15m.3um.kofam2021.domtblout.tab\n",
      "/mnt/nfs/projects/armbrust-metat/gradients2/g2_station_ns_metat/assemblies/kofam/G2NS.S07C1.15m.0_2um.kofam2021.domtblout.tab\n",
      "/mnt/nfs/projects/armbrust-metat/gradients2/g2_station_ns_metat/assemblies/kofam/G2NS_kofam2021_ALL_intermediate.csv\n",
      "9.129047393798829e-07\n",
      "/mnt/nfs/projects/armbrust-metat/gradients2/g2_station_ns_metat/assemblies/kofam/G2NS.S09C1.15m.0_2um.kofam2021.csv\n",
      "9.1552734375e-07\n",
      "/mnt/nfs/projects/armbrust-metat/scope_diel/diel_pa_metat/assemblies/annotations/kofam/zenodo_trimming\n",
      "/mnt/nfs/projects/armbrust-metat/scope_diel/diel_pa_metat/assemblies/annotations/kofam/NPac.D1PA.diel.bf100.id99.aa.best.kofam.incT30.csv.gz\n",
      "/mnt/nfs/projects/armbrust-metat/scope_diel/diel_pa_metat/assemblies/annotations/kofam/NPac.D1PA.kofam.tsv.gz\n",
      "3.2262802124023438e-06\n"
     ]
    }
   ],
   "source": [
    "nreps = 1000\n",
    "\n",
    "for d in grad_kofam_dirnames:\n",
    "    fns = os.listdir(gradients_dir + '/' + d)\n",
    "    for fn in fns:\n",
    "        fn_full = gradients_dir + '/' + d + '/' + fn\n",
    "        print(fn_full)\n",
    "        fspl, ext = os.path.splitext(fn)\n",
    "        ext2 = os.path.splitext(fspl)[1]\n",
    "\n",
    "        dict_ko_contig = defaultdict(list)\n",
    "\n",
    "        times = []\n",
    "        i = 0\n",
    "        if ext == '.csv' and not re.match(r\"\\w+_ALL$\", fspl):\n",
    "            with open(fn_full, 'r') as f:\n",
    "                for line in f:\n",
    "                    if i < nreps:\n",
    "                        t0 = time()\n",
    "                        l = line.split(',')\n",
    "                        ko = l[4].replace('\"','')\n",
    "                        # print(ko, '\\t', contig)\n",
    "                        if ko in merged_KOs:\n",
    "                            contig = l[1].replace('\"','')\n",
    "                            dict_ko_contig[ko].append(contig)\n",
    "                        t1 = time()\n",
    "                        times.append(t1-t0)\n",
    "                        i += 1\n",
    "                    else:\n",
    "                        break\n",
    "            print(np.mean(times))\n",
    "        elif ext == '.gz' and ext2 == '.tsv':\n",
    "            with gzip.open(fn_full, 'rt') as f:\n",
    "                for line in f:\n",
    "                    if i < nreps:\n",
    "                        t0 = time()\n",
    "                        l = re.split(r'\\s', line)\n",
    "                        l = list(filter(None, l))\n",
    "                        ko = l[1]\n",
    "                        # print(ko, '\\t', contig)\n",
    "                        if ko in merged_KOs:\n",
    "                            dict_ko_contig[ko].append(l[0])\n",
    "                        t1 = time()\n",
    "                        times.append(t1-t0)\n",
    "                        i += 1\n",
    "                    else:\n",
    "                        break\n",
    "            print(np.mean(times))\n"
   ]
  },
  {
   "cell_type": "code",
   "execution_count": 259,
   "metadata": {},
   "outputs": [
    {
     "data": {
      "text/plain": [
       "True"
      ]
     },
     "execution_count": 259,
     "metadata": {},
     "output_type": "execute_result"
    }
   ],
   "source": [
    "'\"abcd\"'.replace('\"','').replace(\"'\", \"\") == 'abcd'"
   ]
  },
  {
   "cell_type": "code",
   "execution_count": 260,
   "metadata": {},
   "outputs": [
    {
     "name": "stdout",
     "output_type": "stream",
     "text": [
      "<class '_io.TextIOWrapper'>\n"
     ]
    }
   ],
   "source": [
    "with open(fn_full, 'r') as f:\n",
    "    print(type(f))\n"
   ]
  },
  {
   "cell_type": "code",
   "execution_count": 261,
   "metadata": {},
   "outputs": [
    {
     "data": {
      "text/plain": [
       "('', 'abcd.ext')"
      ]
     },
     "execution_count": 261,
     "metadata": {},
     "output_type": "execute_result"
    }
   ],
   "source": [
    "os.path.split('abcd.ext')"
   ]
  },
  {
   "cell_type": "code",
   "execution_count": null,
   "metadata": {},
   "outputs": [],
   "source": []
  }
 ],
 "metadata": {
  "kernelspec": {
   "display_name": "Python 3 (ipykernel)",
   "language": "python",
   "name": "python3"
  },
  "language_info": {
   "codemirror_mode": {
    "name": "ipython",
    "version": 3
   },
   "file_extension": ".py",
   "mimetype": "text/x-python",
   "name": "python",
   "nbconvert_exporter": "python",
   "pygments_lexer": "ipython3",
   "version": "3.10.11"
  }
 },
 "nbformat": 4,
 "nbformat_minor": 2
}
